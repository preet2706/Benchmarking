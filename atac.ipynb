{
 "cells": [
  {
   "cell_type": "code",
   "execution_count": null,
   "id": "3bc977de",
   "metadata": {},
   "outputs": [],
   "source": [
    "import scanpy as sc\n",
    "import pandas as pd\n",
    "import numpy as np\n",
    "import os\n",
    "import matplotlib.pyplot as plt"
   ]
  },
  {
   "cell_type": "code",
   "execution_count": 667,
   "id": "ae52daf0",
   "metadata": {},
   "outputs": [],
   "source": [
    "atac_true = sc.read_h5ad('/workspace/scButterfly/data/lymphoma/lymphoma_ATAC_pp.h5ad')"
   ]
  },
  {
   "cell_type": "code",
   "execution_count": 670,
   "id": "0ee42b18",
   "metadata": {},
   "outputs": [],
   "source": [
    "atac_true.obs['group'] = atac_true.obs['Cell Types'].map(\n",
    "    lambda x: 'B' if x in ['B'] else ('LYM' if x in ['Tumor B', 'Tumor B cycling'] else None)\n",
    ")\n",
    "data_true = atac_true[atac_true.obs['group'].isin(['B','LYM'])].copy()\n",
    "\n",
    "sc.pp.log1p(data_true)\n",
    "\n",
    "sc.tl.rank_genes_groups(\n",
    "    data_true,\n",
    "    groupby='group',\n",
    "    groups=['LYM'],\n",
    "    reference='B',\n",
    "    method='wilcoxon',\n",
    "    pts=True\n",
    ")\n",
    "\n",
    "dp_true = sc.get.rank_genes_groups_df(data_true, group='LYM')\n",
    "dp_true['neg_log10_padj'] = -np.log10(dp_true['pvals_adj'].replace(0, np.nan))"
   ]
  },
  {
   "cell_type": "code",
   "execution_count": 675,
   "id": "d74c75dc",
   "metadata": {},
   "outputs": [
    {
     "data": {
      "application/vnd.microsoft.datawrangler.viewer.v0+json": {
       "columns": [
        {
         "name": "index",
         "rawType": "int64",
         "type": "integer"
        },
        {
         "name": "names",
         "rawType": "object",
         "type": "string"
        },
        {
         "name": "scores",
         "rawType": "float32",
         "type": "float"
        },
        {
         "name": "logfoldchanges",
         "rawType": "float32",
         "type": "float"
        },
        {
         "name": "pvals",
         "rawType": "float64",
         "type": "float"
        },
        {
         "name": "pvals_adj",
         "rawType": "float64",
         "type": "float"
        },
        {
         "name": "pct_nz_group",
         "rawType": "float64",
         "type": "float"
        },
        {
         "name": "neg_log10_padj",
         "rawType": "float64",
         "type": "float"
        }
       ],
       "conversionMethod": "pd.DataFrame",
       "ref": "81ad40e3-3ab0-4fc5-83d5-c9eb8ece9b26",
       "rows": [
        [
         "0",
         "chr18:79425205-79467412",
         "28.694569",
         "4.0961933",
         "4.4595015404401247e-181",
         "3.2004058755122596e-176",
         "0.9009562841530054",
         "175.49479494095584"
        ],
        [
         "1",
         "chr9:136653125-136698758",
         "28.359581",
         "4.5074277",
         "6.376824586836891e-177",
         "2.2881959664946814e-172",
         "0.8859289617486339",
         "171.6405067842834"
        ],
        [
         "2",
         "chr9:136492663-136559973",
         "28.165976",
         "3.8808541",
         "1.5274159465364743e-174",
         "3.653884427304554e-170",
         "0.923155737704918",
         "169.43724519354004"
        ],
        [
         "3",
         "chr9:137062469-137093487",
         "27.810081",
         "3.8677523",
         "3.2760856739296473e-170",
         "5.877789111880876e-166",
         "0.8992486338797814",
         "165.23078599995605"
        ],
        [
         "4",
         "chr9:137293050-137322378",
         "27.644924",
         "4.2156014",
         "3.211863722571275e-168",
         "4.610052238281003e-164",
         "0.8657786885245902",
         "163.3362941534241"
        ],
        [
         "5",
         "chr3:196176715-196199751",
         "27.531282",
         "3.825086",
         "7.415324077647775e-167",
         "8.869469129274504e-163",
         "0.8825136612021858",
         "162.0521023735309"
        ],
        [
         "6",
         "chr9:136218049-136269096",
         "27.438032",
         "3.7867665",
         "9.653197655736148e-166",
         "9.896734042308005e-162",
         "0.8900273224043715",
         "161.00450810049483"
        ],
        [
         "7",
         "chr9:136834693-136863962",
         "27.08338",
         "4.0150566",
         "1.5455602858640176e-161",
         "1.3864834934414636e-157",
         "0.8736338797814208",
         "156.85808529647917"
        ],
        [
         "8",
         "chr9:137155301-137208161",
         "26.918003",
         "3.6870003",
         "1.3520609859337258e-159",
         "1.078133430183553e-155",
         "0.8937841530054644",
         "154.96732748738077"
        ],
        [
         "9",
         "chr9:137208891-137259517",
         "26.788713",
         "3.4599442",
         "4.374094303414508e-158",
         "3.139112517788456e-154",
         "0.9122267759562842",
         "153.50319311724712"
        ],
        [
         "10",
         "chr9:137105248-137131972",
         "26.735712",
         "3.984135",
         "1.8103183499564013e-157",
         "1.1810846063906462e-153",
         "0.8514344262295082",
         "152.92771899080944"
        ],
        [
         "11",
         "chr9:136988838-137057942",
         "26.633776",
         "3.4557347",
         "2.7590841035732836e-156",
         "1.6500702481420023e-152",
         "0.9163251366120219",
         "151.78249756625215"
        ],
        [
         "12",
         "chr9:136322760-136355056",
         "26.627863",
         "4.5101957",
         "3.230367682003531e-156",
         "1.7833120543589646e-152",
         "0.8210382513661202",
         "151.7487726547898"
        ],
        [
         "13",
         "chr9:136613717-136631946",
         "26.067",
         "4.259289",
         "8.632986505739496e-150",
         "4.425392211220718e-146",
         "0.8077185792349727",
         "145.35404823284853"
        ],
        [
         "14",
         "chr9:136706679-136737158",
         "26.026192",
         "3.76401",
         "2.5030329860007744e-149",
         "1.1975511018222106e-145",
         "0.8528005464480874",
         "144.9217059453323"
        ],
        [
         "15",
         "chr3:186514413-186536261",
         "25.81964",
         "3.4806907",
         "5.337160151573803e-147",
         "2.3939164714865345e-143",
         "0.8452868852459017",
         "142.62089100706467"
        ],
        [
         "16",
         "chr9:136391660-136412200",
         "25.796425",
         "3.7826245",
         "9.725269643552354e-147",
         "4.105551183759872e-143",
         "0.8326502732240437",
         "142.38662852916667"
        ],
        [
         "17",
         "chr9:127893827-127951321",
         "25.764887",
         "3.08333",
         "2.195524201393392e-146",
         "8.753554990955455e-143",
         "0.912568306010929",
         "142.057815535617"
        ],
        [
         "18",
         "chr9:136355583-136384492",
         "25.740892",
         "3.656683",
         "4.076588849759633e-146",
         "1.539791975746578e-142",
         "0.8490437158469946",
         "141.8125379479218"
        ],
        [
         "19",
         "chr9:136784143-136809601",
         "25.675482",
         "3.2842896",
         "2.1963916807976182e-145",
         "7.881312268206094e-142",
         "0.8797814207650273",
         "141.1034014648211"
        ],
        [
         "20",
         "chr7:55508191-55527679",
         "25.543589",
         "4.0750895",
         "6.46942593329786e-144",
         "2.2108801025193062e-140",
         "0.7930327868852459",
         "139.65543480885782"
        ],
        [
         "21",
         "chr3:195119996-195136657",
         "25.44749",
         "4.299458",
         "7.525566900687456e-143",
         "2.435686841224642e-139",
         "0.7807377049180327",
         "138.61337855014045"
        ],
        [
         "22",
         "chr9:93107091-93147155",
         "25.446056",
         "3.5639443",
         "7.806035915080506e-143",
         "2.435686841224642e-139",
         "0.8473360655737705",
         "138.61337855014045"
        ],
        [
         "23",
         "chr9:89423401-89449631",
         "25.28197",
         "3.4619591",
         "5.0434953845921784e-141",
         "1.5081312073776762e-137",
         "0.8401639344262295",
         "136.8215608732134"
        ],
        [
         "24",
         "chr9:114365752-114407999",
         "25.23763",
         "2.8505592",
         "1.5483977298723295e-140",
         "4.444892459280704e-137",
         "0.9088114754098361",
         "136.3521387419842"
        ],
        [
         "25",
         "chr9:136085756-136124939",
         "25.216606",
         "3.2148335",
         "2.6338653155119396e-140",
         "7.2700760858857635e-137",
         "0.8869535519125683",
         "136.13846104395424"
        ],
        [
         "26",
         "chr3:195144026-195165395",
         "25.179495",
         "3.4741995",
         "6.719569971962561e-140",
         "1.7860616985476488e-136",
         "0.8237704918032787",
         "135.74810354271736"
        ],
        [
         "27",
         "chr3:129569593-129600743",
         "24.885632",
         "3.2888775",
         "1.0645468092663479e-136",
         "2.7285095112074544e-133",
         "0.8514344262295082",
         "132.5640745279876"
        ],
        [
         "28",
         "chr3:195249184-195261837",
         "24.82903",
         "3.4420137",
         "4.357054890820476e-136",
         "1.0782358665331802e-132",
         "0.8200136612021858",
         "131.96728622585707"
        ],
        [
         "29",
         "chr9:37406668-37420936",
         "24.824577",
         "3.502756",
         "4.867275424643629e-136",
         "1.164349627083249e-132",
         "0.8104508196721312",
         "131.93391659158172"
        ],
        [
         "30",
         "chr3:126952094-126966100",
         "24.775227",
         "4.2219524",
         "1.658342061047529e-135",
         "3.839115366230225e-132",
         "0.7646857923497268",
         "131.4157688370453"
        ],
        [
         "31",
         "chr9:136937107-136956905",
         "24.639877",
         "3.4283726",
         "4.724808721253085e-134",
         "1.0596269459045278e-130",
         "0.8292349726775956",
         "129.97484700629323"
        ],
        [
         "32",
         "chr9:137601563-137621682",
         "24.603424",
         "3.0962543",
         "1.1609675154830798e-133",
         "2.524787718671476e-130",
         "0.8562158469945356",
         "129.5977751310048"
        ],
        [
         "33",
         "chr9:112027292-112040502",
         "24.568066",
         "3.7926052",
         "2.7731715353535286e-133",
         "5.8535126001818045e-130",
         "0.7834699453551912",
         "129.23258344245295"
        ],
        [
         "34",
         "chr3:195203363-195211311",
         "24.560303",
         "5.1438174",
         "3.3568107839182855e-133",
         "6.8829966491051334e-130",
         "0.719603825136612",
         "129.16222244187668"
        ],
        [
         "35",
         "chr9:136043391-136061840",
         "24.510368",
         "4.887915",
         "1.1452160362443116e-132",
         "2.2829881682530355e-129",
         "0.7308743169398907",
         "128.64149633926567"
        ],
        [
         "36",
         "chr9:137451996-137467685",
         "24.384462",
         "3.2952015",
         "2.499868731252789e-131",
         "4.848799442353721e-128",
         "0.8329918032786885",
         "127.31436577894499"
        ],
        [
         "37",
         "chr9:112854127-112870604",
         "24.367283",
         "4.745721",
         "3.8027422757570184e-131",
         "7.181779004262584e-128",
         "0.7281420765027322",
         "127.14376796299524"
        ],
        [
         "38",
         "chr9:127960073-127987405",
         "24.356478",
         "3.0158453",
         "4.949978060816135e-131",
         "9.108721166987967e-128",
         "0.8664617486338798",
         "127.04054259219342"
        ],
        [
         "39",
         "chr9:136479554-136492122",
         "24.04536",
         "3.222661",
         "9.334860715924127e-128",
         "1.6748140353475273e-124",
         "0.8224043715846995",
         "123.77603340827254"
        ],
        [
         "40",
         "chr7:2889384-2899639",
         "23.863728",
         "4.145982",
         "7.294171135431706e-126",
         "1.2767645992814434e-122",
         "0.7366803278688525",
         "121.89388916746411"
        ],
        [
         "41",
         "chr9:109965965-109978309",
         "23.846401",
         "3.2654386",
         "1.1035491338437972e-125",
         "1.8856501699865227e-122",
         "0.7995218579234973",
         "121.72453887540395"
        ],
        [
         "42",
         "chr3:126976728-127009371",
         "23.769505",
         "3.067373",
         "6.906843805853177e-125",
         "1.1527361687694398e-121",
         "0.8353825136612022",
         "120.93827008000697"
        ],
        [
         "43",
         "chr9:136892918-136912393",
         "23.764248",
         "4.02884",
         "7.827615980253256e-125",
         "1.2767197464519434e-121",
         "0.7489754098360656",
         "120.89390442452756"
        ],
        [
         "44",
         "chr11:123477821-123485261",
         "23.699688",
         "5.1810412",
         "3.6324513955664467e-124",
         "5.7930334856493695e-121",
         "0.694672131147541",
         "120.23709396112795"
        ],
        [
         "45",
         "chr7:55528199-55540888",
         "23.59135",
         "3.2239268",
         "4.728368984851504e-123",
         "7.37687236014898e-120",
         "0.792691256830601",
         "119.1321277309462"
        ],
        [
         "46",
         "chr15:74373081-74412496",
         "23.520514",
         "2.7867775",
         "2.5159296107419287e-122",
         "3.8416639243511754e-119",
         "0.8770491803278688",
         "118.41548063067262"
        ],
        [
         "47",
         "chr7:2497224-2532114",
         "23.4195",
         "2.574674",
         "2.7050291840787074e-121",
         "4.044356758845677e-118",
         "0.8968579234972678",
         "117.39315054161611"
        ],
        [
         "48",
         "chr3:50314606-50371512",
         "23.322674",
         "2.5598695",
         "2.610677781181689e-120",
         "3.823630645801737e-117",
         "0.9030054644808743",
         "116.41752406624883"
        ],
        [
         "49",
         "chr6:351495-361790",
         "23.320824",
         "3.7919657",
         "2.7259600828280734e-120",
         "3.9126250260847904e-117",
         "0.7390710382513661",
         "116.4075317715487"
        ]
       ],
       "shape": {
        "columns": 7,
        "rows": 71766
       }
      },
      "text/html": [
       "<div>\n",
       "<style scoped>\n",
       "    .dataframe tbody tr th:only-of-type {\n",
       "        vertical-align: middle;\n",
       "    }\n",
       "\n",
       "    .dataframe tbody tr th {\n",
       "        vertical-align: top;\n",
       "    }\n",
       "\n",
       "    .dataframe thead th {\n",
       "        text-align: right;\n",
       "    }\n",
       "</style>\n",
       "<table border=\"1\" class=\"dataframe\">\n",
       "  <thead>\n",
       "    <tr style=\"text-align: right;\">\n",
       "      <th></th>\n",
       "      <th>names</th>\n",
       "      <th>scores</th>\n",
       "      <th>logfoldchanges</th>\n",
       "      <th>pvals</th>\n",
       "      <th>pvals_adj</th>\n",
       "      <th>pct_nz_group</th>\n",
       "      <th>neg_log10_padj</th>\n",
       "    </tr>\n",
       "  </thead>\n",
       "  <tbody>\n",
       "    <tr>\n",
       "      <th>0</th>\n",
       "      <td>chr18:79425205-79467412</td>\n",
       "      <td>28.694569</td>\n",
       "      <td>4.096193</td>\n",
       "      <td>4.459502e-181</td>\n",
       "      <td>3.200406e-176</td>\n",
       "      <td>0.900956</td>\n",
       "      <td>175.494795</td>\n",
       "    </tr>\n",
       "    <tr>\n",
       "      <th>1</th>\n",
       "      <td>chr9:136653125-136698758</td>\n",
       "      <td>28.359581</td>\n",
       "      <td>4.507428</td>\n",
       "      <td>6.376825e-177</td>\n",
       "      <td>2.288196e-172</td>\n",
       "      <td>0.885929</td>\n",
       "      <td>171.640507</td>\n",
       "    </tr>\n",
       "    <tr>\n",
       "      <th>2</th>\n",
       "      <td>chr9:136492663-136559973</td>\n",
       "      <td>28.165976</td>\n",
       "      <td>3.880854</td>\n",
       "      <td>1.527416e-174</td>\n",
       "      <td>3.653884e-170</td>\n",
       "      <td>0.923156</td>\n",
       "      <td>169.437245</td>\n",
       "    </tr>\n",
       "    <tr>\n",
       "      <th>3</th>\n",
       "      <td>chr9:137062469-137093487</td>\n",
       "      <td>27.810081</td>\n",
       "      <td>3.867752</td>\n",
       "      <td>3.276086e-170</td>\n",
       "      <td>5.877789e-166</td>\n",
       "      <td>0.899249</td>\n",
       "      <td>165.230786</td>\n",
       "    </tr>\n",
       "    <tr>\n",
       "      <th>4</th>\n",
       "      <td>chr9:137293050-137322378</td>\n",
       "      <td>27.644924</td>\n",
       "      <td>4.215601</td>\n",
       "      <td>3.211864e-168</td>\n",
       "      <td>4.610052e-164</td>\n",
       "      <td>0.865779</td>\n",
       "      <td>163.336294</td>\n",
       "    </tr>\n",
       "    <tr>\n",
       "      <th>...</th>\n",
       "      <td>...</td>\n",
       "      <td>...</td>\n",
       "      <td>...</td>\n",
       "      <td>...</td>\n",
       "      <td>...</td>\n",
       "      <td>...</td>\n",
       "      <td>...</td>\n",
       "    </tr>\n",
       "    <tr>\n",
       "      <th>71761</th>\n",
       "      <td>chr19:49765964-49767869</td>\n",
       "      <td>-4.971933</td>\n",
       "      <td>-1.670413</td>\n",
       "      <td>6.628849e-07</td>\n",
       "      <td>3.259737e-06</td>\n",
       "      <td>0.066598</td>\n",
       "      <td>5.486817</td>\n",
       "    </tr>\n",
       "    <tr>\n",
       "      <th>71762</th>\n",
       "      <td>chr4:80201596-80203786</td>\n",
       "      <td>-5.430882</td>\n",
       "      <td>-1.611477</td>\n",
       "      <td>5.607603e-08</td>\n",
       "      <td>3.053610e-07</td>\n",
       "      <td>0.081967</td>\n",
       "      <td>6.515186</td>\n",
       "    </tr>\n",
       "    <tr>\n",
       "      <th>71763</th>\n",
       "      <td>chr6:131062205-131063855</td>\n",
       "      <td>-6.001941</td>\n",
       "      <td>-2.416129</td>\n",
       "      <td>1.949727e-09</td>\n",
       "      <td>1.205411e-08</td>\n",
       "      <td>0.046107</td>\n",
       "      <td>7.918865</td>\n",
       "    </tr>\n",
       "    <tr>\n",
       "      <th>71764</th>\n",
       "      <td>chr2:207164057-207167547</td>\n",
       "      <td>-6.640017</td>\n",
       "      <td>-1.574628</td>\n",
       "      <td>3.136479e-11</td>\n",
       "      <td>2.247554e-10</td>\n",
       "      <td>0.106557</td>\n",
       "      <td>9.648290</td>\n",
       "    </tr>\n",
       "    <tr>\n",
       "      <th>71765</th>\n",
       "      <td>chr12:8242262-8244275</td>\n",
       "      <td>-7.969509</td>\n",
       "      <td>-2.000525</td>\n",
       "      <td>1.593058e-15</td>\n",
       "      <td>1.578018e-14</td>\n",
       "      <td>0.086749</td>\n",
       "      <td>13.801888</td>\n",
       "    </tr>\n",
       "  </tbody>\n",
       "</table>\n",
       "<p>71766 rows × 7 columns</p>\n",
       "</div>"
      ],
      "text/plain": [
       "                          names     scores  logfoldchanges          pvals  \\\n",
       "0       chr18:79425205-79467412  28.694569        4.096193  4.459502e-181   \n",
       "1      chr9:136653125-136698758  28.359581        4.507428  6.376825e-177   \n",
       "2      chr9:136492663-136559973  28.165976        3.880854  1.527416e-174   \n",
       "3      chr9:137062469-137093487  27.810081        3.867752  3.276086e-170   \n",
       "4      chr9:137293050-137322378  27.644924        4.215601  3.211864e-168   \n",
       "...                         ...        ...             ...            ...   \n",
       "71761   chr19:49765964-49767869  -4.971933       -1.670413   6.628849e-07   \n",
       "71762    chr4:80201596-80203786  -5.430882       -1.611477   5.607603e-08   \n",
       "71763  chr6:131062205-131063855  -6.001941       -2.416129   1.949727e-09   \n",
       "71764  chr2:207164057-207167547  -6.640017       -1.574628   3.136479e-11   \n",
       "71765     chr12:8242262-8244275  -7.969509       -2.000525   1.593058e-15   \n",
       "\n",
       "           pvals_adj  pct_nz_group  neg_log10_padj  \n",
       "0      3.200406e-176      0.900956      175.494795  \n",
       "1      2.288196e-172      0.885929      171.640507  \n",
       "2      3.653884e-170      0.923156      169.437245  \n",
       "3      5.877789e-166      0.899249      165.230786  \n",
       "4      4.610052e-164      0.865779      163.336294  \n",
       "...              ...           ...             ...  \n",
       "71761   3.259737e-06      0.066598        5.486817  \n",
       "71762   3.053610e-07      0.081967        6.515186  \n",
       "71763   1.205411e-08      0.046107        7.918865  \n",
       "71764   2.247554e-10      0.106557        9.648290  \n",
       "71765   1.578018e-14      0.086749       13.801888  \n",
       "\n",
       "[71766 rows x 7 columns]"
      ]
     },
     "execution_count": 675,
     "metadata": {},
     "output_type": "execute_result"
    }
   ],
   "source": [
    "dp_true"
   ]
  },
  {
   "cell_type": "code",
   "execution_count": 674,
   "id": "50d4929f",
   "metadata": {},
   "outputs": [
    {
     "data": {
      "image/png": "[encoded data removed]",
      "text/plain": [
       "<Figure size 700x600 with 1 Axes>"
      ]
     },
     "metadata": {},
     "output_type": "display_data"
    }
   ],
   "source": [
    "df = dp_true.copy()\n",
    "df['color'] = 'grey'\n",
    "df.loc[(df['logfoldchanges'] > 1) & (df['pvals_adj'] < 0.001), 'color'] = 'red'\n",
    "df.loc[(df['logfoldchanges'] < -1) & (df['pvals_adj'] < 0.001), 'color'] = 'blue'\n",
    "\n",
    "plt.figure(figsize=(7, 6))\n",
    "plt.scatter(df['logfoldchanges'], df['neg_log10_padj'], s=10, alpha=0.7, c=df['color'], edgecolor='none')\n",
    "plt.axhline(-np.log10(0.001), color='green', linestyle='--')\n",
    "plt.axvline(1, color='green', linestyle='dotted')\n",
    "plt.axvline(-1, color='green', linestyle='dotted')\n",
    "\n",
    "# sig_df = df[df['pvals_adj'] < 0.001]\n",
    "# top_up = sig_df.sort_values(by='logfoldchanges', ascending=False).head(10)\n",
    "# top_down = sig_df.sort_values(by='logfoldchanges', ascending=True).head(10)\n",
    "\n",
    "# for _, row in pd.concat([top_up, top_down]).iterrows():\n",
    "#     plt.text(row['logfoldchanges'], row['neg_log10_padj'],\n",
    "#              row['names'], fontsize=7, ha='center', va='bottom', color='black')\n",
    "\n",
    "plt.xlabel('Log2 FC')\n",
    "plt.ylabel('-Log10 Adj_p')\n",
    "plt.title('Volcano Plot: Lymphoma B vs B Cells')\n",
    "plt.tight_layout()\n",
    "plt.show()"
   ]
  }
 ],
 "metadata": {
  "kernelspec": {
   "display_name": "Python 3 (ipykernel)",
   "language": "python",
   "name": "python3"
  },
  "language_info": {
   "codemirror_mode": {
    "name": "ipython",
    "version": 3
   },
   "file_extension": ".py",
   "mimetype": "text/x-python",
   "name": "python",
   "nbconvert_exporter": "python",
   "pygments_lexer": "ipython3",
   "version": "3.10.6"
  }
 },
 "nbformat": 4,
 "nbformat_minor": 5
}
