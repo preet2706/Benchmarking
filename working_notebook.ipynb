{
 "cells": [
  {
   "cell_type": "code",
   "execution_count": 208,
   "id": "9b4e7b3c",
   "metadata": {},
   "outputs": [],
   "source": [
    "import pandas as pd\n",
    "import numpy as np\n",
    "import os\n",
    "import matplotlib.pyplot as plt\n",
    "import seaborn as sns\n",
    "import anndata\n",
    "import scanpy as sc\n",
    "import sklearn\n",
    "from scipy.stats import pearsonr"
   ]
  },
  {
   "cell_type": "code",
   "execution_count": 251,
   "id": "2588204b",
   "metadata": {},
   "outputs": [
    {
     "name": "stdout",
     "output_type": "stream",
     "text": [
      "['ARCHS4_Cell-lines', 'ARCHS4_IDG_Coexp', 'ARCHS4_Kinases_Coexp', 'ARCHS4_TFs_Coexp', 'ARCHS4_Tissues', 'Achilles_fitness_decrease', 'Achilles_fitness_increase', 'Aging_Perturbations_from_GEO_down', 'Aging_Perturbations_from_GEO_up', 'Allen_Brain_Atlas_10x_scRNA_2021', 'Allen_Brain_Atlas_down', 'Allen_Brain_Atlas_up', 'Azimuth_2023', 'Azimuth_Cell_Types_2021', 'BioCarta_2013', 'BioCarta_2015', 'BioCarta_2016', 'BioPlanet_2019', 'BioPlex_2017', 'CCLE_Proteomics_2020', 'CORUM', 'COVID-19_Related_Gene_Sets', 'COVID-19_Related_Gene_Sets_2021', 'Cancer_Cell_Line_Encyclopedia', 'CellMarker_2024', 'CellMarker_Augmented_2021', 'ChEA_2013', 'ChEA_2015', 'ChEA_2016', 'ChEA_2022', 'Chromosome_Location', 'Chromosome_Location_hg19', 'ClinVar_2019', 'DGIdb_Drug_Targets_2024', 'DSigDB', 'Data_Acquisition_Method_Most_Popular_Genes', 'DepMap_CRISPR_GeneDependency_CellLines_2023', 'DepMap_WG_CRISPR_Screens_Broad_CellLines_2019', 'DepMap_WG_CRISPR_Screens_Sanger_CellLines_2019', 'Descartes_Cell_Types_and_Tissue_2021', 'Diabetes_Perturbations_GEO_2022', 'DisGeNET', 'Disease_Perturbations_from_GEO_down', 'Disease_Perturbations_from_GEO_up', 'Disease_Signatures_from_GEO_down_2014', 'Disease_Signatures_from_GEO_up_2014', 'DrugMatrix', 'Drug_Perturbations_from_GEO_2014', 'Drug_Perturbations_from_GEO_down', 'Drug_Perturbations_from_GEO_up', 'ENCODE_Histone_Modifications_2013', 'ENCODE_Histone_Modifications_2015', 'ENCODE_TF_ChIP-seq_2014', 'ENCODE_TF_ChIP-seq_2015', 'ENCODE_and_ChEA_Consensus_TFs_from_ChIP-X', 'ESCAPE', 'Elsevier_Pathway_Collection', 'Enrichr_Libraries_Most_Popular_Genes', 'Enrichr_Submissions_TF-Gene_Coocurrence', 'Enrichr_Users_Contributed_Lists_2020', 'Epigenomics_Roadmap_HM_ChIP-seq', 'FANTOM6_lncRNA_KD_DEGs', 'GO_Biological_Process_2013', 'GO_Biological_Process_2015', 'GO_Biological_Process_2017', 'GO_Biological_Process_2017b', 'GO_Biological_Process_2018', 'GO_Biological_Process_2021', 'GO_Biological_Process_2023', 'GO_Biological_Process_2025', 'GO_Cellular_Component_2013', 'GO_Cellular_Component_2015', 'GO_Cellular_Component_2017', 'GO_Cellular_Component_2017b', 'GO_Cellular_Component_2018', 'GO_Cellular_Component_2021', 'GO_Cellular_Component_2023', 'GO_Cellular_Component_2025', 'GO_Molecular_Function_2013', 'GO_Molecular_Function_2015', 'GO_Molecular_Function_2017', 'GO_Molecular_Function_2017b', 'GO_Molecular_Function_2018', 'GO_Molecular_Function_2021', 'GO_Molecular_Function_2023', 'GO_Molecular_Function_2025', 'GTEx_Aging_Signatures_2021', 'GTEx_Tissue_Expression_Down', 'GTEx_Tissue_Expression_Up', 'GTEx_Tissues_V8_2023', 'GWAS_Catalog_2019', 'GWAS_Catalog_2023', 'GeDiPNet_2023', 'GeneSigDB', 'Gene_Perturbations_from_GEO_down', 'Gene_Perturbations_from_GEO_up', 'Genes_Associated_with_NIH_Grants', 'Genome_Browser_PWMs', 'GlyGen_Glycosylated_Proteins_2022', 'HDSigDB_Human_2021', 'HDSigDB_Mouse_2021', 'HMDB_Metabolites', 'HMS_LINCS_KinomeScan', 'HomoloGene', 'HuBMAP_ASCT_plus_B_augmented_w_RNAseq_Coexpression', 'HuBMAP_ASCTplusB_augmented_2022', 'HumanCyc_2015', 'HumanCyc_2016', 'Human_Gene_Atlas', 'Human_Phenotype_Ontology', 'IDG_Drug_Targets_2022', 'InterPro_Domains_2019', 'Jensen_COMPARTMENTS', 'Jensen_DISEASES', 'Jensen_DISEASES_Curated_2025', 'Jensen_DISEASES_Experimental_2025', 'Jensen_TISSUES', 'KEA_2013', 'KEA_2015', 'KEGG_2013', 'KEGG_2015', 'KEGG_2016', 'KEGG_2019_Human', 'KEGG_2019_Mouse', 'KEGG_2021_Human', 'KOMP2_Mouse_Phenotypes_2022', 'Kinase_Perturbations_from_GEO_down', 'Kinase_Perturbations_from_GEO_up', 'L1000_Kinase_and_GPCR_Perturbations_down', 'L1000_Kinase_and_GPCR_Perturbations_up', 'LINCS_L1000_CRISPR_KO_Consensus_Sigs', 'LINCS_L1000_Chem_Pert_Consensus_Sigs', 'LINCS_L1000_Chem_Pert_down', 'LINCS_L1000_Chem_Pert_up', 'LINCS_L1000_Ligand_Perturbations_down', 'LINCS_L1000_Ligand_Perturbations_up', 'Ligand_Perturbations_from_GEO_down', 'Ligand_Perturbations_from_GEO_up', 'MAGMA_Drugs_and_Diseases', 'MAGNET_2023', 'MCF7_Perturbations_from_GEO_down', 'MCF7_Perturbations_from_GEO_up', 'MGI_Mammalian_Phenotype_2013', 'MGI_Mammalian_Phenotype_2017', 'MGI_Mammalian_Phenotype_Level_3', 'MGI_Mammalian_Phenotype_Level_4', 'MGI_Mammalian_Phenotype_Level_4_2019', 'MGI_Mammalian_Phenotype_Level_4_2021', 'MGI_Mammalian_Phenotype_Level_4_2024', 'MSigDB_Computational', 'MSigDB_Hallmark_2020', 'MSigDB_Oncogenic_Signatures', 'Metabolomics_Workbench_Metabolites_2022', 'Microbe_Perturbations_from_GEO_down', 'Microbe_Perturbations_from_GEO_up', 'MoTrPAC_2023', 'Mouse_Gene_Atlas', 'NCI-60_Cancer_Cell_Lines', 'NCI-Nature_2016', 'NIBR_DRUGseq_2025_down', 'NIBR_DRUGseq_2025_up', 'NIH_Funded_PIs_2017_AutoRIF_ARCHS4_Predictions', 'NIH_Funded_PIs_2017_GeneRIF_ARCHS4_Predictions', 'NIH_Funded_PIs_2017_Human_AutoRIF', 'NIH_Funded_PIs_2017_Human_GeneRIF', 'NURSA_Human_Endogenous_Complexome', 'OMIM_Disease', 'OMIM_Expanded', 'Old_CMAP_down', 'Old_CMAP_up', 'Orphanet_Augmented_2021', 'PFOCR_Pathways', 'PFOCR_Pathways_2023', 'PPI_Hub_Proteins', 'PanglaoDB_Augmented_2021', 'Panther_2015', 'Panther_2016', 'PerturbAtlas', 'Pfam_Domains_2019', 'Pfam_InterPro_Domains', 'PheWeb_2019', 'PhenGenI_Association_2021', 'Phosphatase_Substrates_from_DEPOD', 'ProteomicsDB_2020', 'Proteomics_Drug_Atlas_2023', 'RNA-Seq_Disease_Gene_and_Drug_Signatures_from_GEO', 'RNAseq_Automatic_GEO_Signatures_Human_Down', 'RNAseq_Automatic_GEO_Signatures_Human_Up', 'RNAseq_Automatic_GEO_Signatures_Mouse_Down', 'RNAseq_Automatic_GEO_Signatures_Mouse_Up', 'Rare_Diseases_AutoRIF_ARCHS4_Predictions', 'Rare_Diseases_AutoRIF_Gene_Lists', 'Rare_Diseases_GeneRIF_ARCHS4_Predictions', 'Rare_Diseases_GeneRIF_Gene_Lists', 'Reactome_2013', 'Reactome_2015', 'Reactome_2016', 'Reactome_2022', 'Reactome_Pathways_2024', 'Rummagene_kinases', 'Rummagene_signatures', 'Rummagene_transcription_factors', 'SILAC_Phosphoproteomics', 'SubCell_BarCode', 'SynGO_2022', 'SynGO_2024', 'SysMyo_Muscle_Gene_Sets', 'TF-LOF_Expression_from_GEO', 'TF_Perturbations_Followed_by_Expression', 'TG_GATES_2020', 'TRANSFAC_and_JASPAR_PWMs', 'TRRUST_Transcription_Factors_2019', 'Table_Mining_of_CRISPR_Studies', 'Tabula_Muris', 'Tabula_Sapiens', 'TargetScan_microRNA', 'TargetScan_microRNA_2017', 'The_Kinase_Library_2023', 'The_Kinase_Library_2024', 'Tissue_Protein_Expression_from_Human_Proteome_Map', 'Tissue_Protein_Expression_from_ProteomicsDB', 'Transcription_Factor_PPIs', 'UK_Biobank_GWAS_v1', 'Virus-Host_PPI_P-HIPSTer_2020', 'VirusMINT', 'Virus_Perturbations_from_GEO_down', 'Virus_Perturbations_from_GEO_up', 'WikiPathway_2021_Human', 'WikiPathway_2023_Human', 'WikiPathways_2013', 'WikiPathways_2015', 'WikiPathways_2016', 'WikiPathways_2019_Human', 'WikiPathways_2019_Mouse', 'WikiPathways_2024_Human', 'WikiPathways_2024_Mouse', 'dbGaP', 'huMAP', 'lncHUB_lncRNA_Co-Expression', 'miRTarBase_2017']\n"
     ]
    }
   ],
   "source": [
    "import gseapy as gp\n",
    "\n",
    "# Retrieve the list of available gene set libraries\n",
    "libraries = gp.get_library_name()\n",
    "print(libraries)"
   ]
  },
  {
   "cell_type": "code",
   "execution_count": null,
   "id": "a1301936",
   "metadata": {},
   "outputs": [
    {
     "name": "stderr",
     "output_type": "stream",
     "text": [
      "/usr/local/lib/python3.9/site-packages/anndata/_core/anndata.py:1832: UserWarning: Variable names are not unique. To make them unique, call `.var_names_make_unique`.\n",
      "  utils.warn_names_duplicates(\"var\")\n"
     ]
    }
   ],
   "source": [
    "RNA_data = sc.read_h5ad('../scButterfly/data/lymphoma/lymphoma_RNA.h5ad')\n",
    "RNA_data\n",
    "genes = list(RNA_data.var_names)\n",
    "RNA_df = pd.DataFrame(RNA_data.X.toarray(), columns=genes)"
   ]
  },
  {
   "cell_type": "code",
   "execution_count": null,
   "id": "a921c144",
   "metadata": {},
   "outputs": [],
   "source": [
    "trrust = pd.read_csv(\"../Benchmarking/data/trrust_rawdata.human.tsv\", sep=\"\\t\", header=None)\n",
    "trrust.columns = [\"TF\", \"Target\", \"Regulation\", \"PMID\"]\n",
    "tftg = trrust[[\"TF\", \"Target\"]].drop_duplicates()\n"
   ]
  },
  {
   "cell_type": "code",
   "execution_count": null,
   "id": "513bd0be",
   "metadata": {},
   "outputs": [
    {
     "data": {
      "application/vnd.microsoft.datawrangler.viewer.v0+json": {
       "columns": [
        {
         "name": "index",
         "rawType": "int64",
         "type": "integer"
        },
        {
         "name": "TF",
         "rawType": "object",
         "type": "string"
        },
        {
         "name": "Target",
         "rawType": "object",
         "type": "string"
        },
        {
         "name": "Regulation",
         "rawType": "object",
         "type": "string"
        },
        {
         "name": "PMID",
         "rawType": "object",
         "type": "string"
        }
       ],
       "conversionMethod": "pd.DataFrame",
       "ref": "1f8bded0-73d1-4c2c-998b-a5f1e7436788",
       "rows": [
        [
         "0",
         "AATF",
         "BAX",
         "Repression",
         "22909821"
        ],
        [
         "1",
         "AATF",
         "CDKN1A",
         "Unknown",
         "17157788"
        ],
        [
         "2",
         "AATF",
         "KLK3",
         "Unknown",
         "23146908"
        ],
        [
         "3",
         "AATF",
         "MYC",
         "Activation",
         "20549547"
        ],
        [
         "4",
         "AATF",
         "TP53",
         "Unknown",
         "17157788"
        ],
        [
         "5",
         "ABL1",
         "BAX",
         "Activation",
         "11753601"
        ],
        [
         "6",
         "ABL1",
         "BCL2",
         "Repression",
         "11753601"
        ],
        [
         "7",
         "ABL1",
         "BCL6",
         "Repression",
         "15509806"
        ],
        [
         "8",
         "ABL1",
         "CCND2",
         "Activation",
         "15509806"
        ],
        [
         "9",
         "ABL1",
         "CDKN1A",
         "Activation",
         "11753601;9916993"
        ],
        [
         "10",
         "ABL1",
         "CSF1",
         "Activation",
         "23418320"
        ],
        [
         "11",
         "ABL1",
         "CSF1",
         "Unknown",
         "18619508"
        ],
        [
         "12",
         "ABL1",
         "FOXO3",
         "Activation",
         "15509806"
        ],
        [
         "13",
         "ABL1",
         "JUN",
         "Activation",
         "15145216"
        ],
        [
         "14",
         "ABL1",
         "JUN",
         "Repression",
         "19357699"
        ],
        [
         "15",
         "ABL1",
         "PIM1",
         "Activation",
         "15145216"
        ],
        [
         "16",
         "ABL1",
         "TP53",
         "Activation",
         "11753601"
        ],
        [
         "17",
         "AES",
         "EPHA3",
         "Unknown",
         "20676368"
        ],
        [
         "18",
         "AES",
         "LEF1",
         "Activation",
         "20676368"
        ],
        [
         "19",
         "AES",
         "RND3",
         "Activation",
         "23546594"
        ],
        [
         "20",
         "AHR",
         "ABCG2",
         "Unknown",
         "20460431"
        ],
        [
         "21",
         "AHR",
         "AHRR",
         "Activation",
         "18848529"
        ],
        [
         "22",
         "AHR",
         "ARNT",
         "Unknown",
         "19255421;8631989"
        ],
        [
         "23",
         "AHR",
         "BRCA1",
         "Unknown",
         "18259752"
        ],
        [
         "24",
         "AHR",
         "CA9",
         "Repression",
         "19154183"
        ],
        [
         "25",
         "AHR",
         "CCND1",
         "Unknown",
         "24380854"
        ],
        [
         "26",
         "AHR",
         "CCNG2",
         "Activation",
         "22596188"
        ],
        [
         "27",
         "AHR",
         "CYP1A1",
         "Activation",
         "12213390;9865727"
        ],
        [
         "28",
         "AHR",
         "CYP1A1",
         "Repression",
         "17012224"
        ],
        [
         "29",
         "AHR",
         "CYP1A1",
         "Unknown",
         "10359656;12376470;15325265;19376845;21357676;24639079;8631128;9698073"
        ],
        [
         "30",
         "AHR",
         "CYP1A2",
         "Unknown",
         "21357676"
        ],
        [
         "31",
         "AHR",
         "CYP1B1",
         "Activation",
         "16115918;19287966"
        ],
        [
         "32",
         "AHR",
         "CYP1B1",
         "Unknown",
         "12376470;19376845;21742528;24299737"
        ],
        [
         "33",
         "AHR",
         "CYP2B6",
         "Unknown",
         "19928584"
        ],
        [
         "34",
         "AHR",
         "FOS",
         "Unknown",
         "10478842"
        ],
        [
         "35",
         "AHR",
         "IL13",
         "Unknown",
         "22981205"
        ],
        [
         "36",
         "AHR",
         "IL1B",
         "Unknown",
         "23349129"
        ],
        [
         "37",
         "AHR",
         "IL6",
         "Activation",
         "20511231"
        ],
        [
         "38",
         "AHR",
         "IL6",
         "Unknown",
         "18483242;23349129"
        ],
        [
         "39",
         "AHR",
         "MFSD2A",
         "Unknown",
         "21736709"
        ],
        [
         "40",
         "AHR",
         "MT2A",
         "Unknown",
         "23994556"
        ],
        [
         "41",
         "AHR",
         "MYC",
         "Unknown",
         "11114727;16091746"
        ],
        [
         "42",
         "AHR",
         "PCNA",
         "Activation",
         "12417031"
        ],
        [
         "43",
         "AHR",
         "RFC3",
         "Activation",
         "12417031"
        ],
        [
         "44",
         "AHR",
         "UGT1A1",
         "Activation",
         "18172616"
        ],
        [
         "45",
         "AHR",
         "UGT1A6",
         "Unknown",
         "9466822"
        ],
        [
         "46",
         "AIP",
         "AHR",
         "Activation",
         "11469723"
        ],
        [
         "47",
         "AIP",
         "GREB1",
         "Repression",
         "21984905"
        ],
        [
         "48",
         "AIP",
         "NFKB2",
         "Repression",
         "21984905"
        ],
        [
         "49",
         "AIP",
         "RSF1",
         "Repression",
         "21984905"
        ]
       ],
       "shape": {
        "columns": 4,
        "rows": 9396
       }
      },
      "text/html": [
       "<div>\n",
       "<style scoped>\n",
       "    .dataframe tbody tr th:only-of-type {\n",
       "        vertical-align: middle;\n",
       "    }\n",
       "\n",
       "    .dataframe tbody tr th {\n",
       "        vertical-align: top;\n",
       "    }\n",
       "\n",
       "    .dataframe thead th {\n",
       "        text-align: right;\n",
       "    }\n",
       "</style>\n",
       "<table border=\"1\" class=\"dataframe\">\n",
       "  <thead>\n",
       "    <tr style=\"text-align: right;\">\n",
       "      <th></th>\n",
       "      <th>TF</th>\n",
       "      <th>Target</th>\n",
       "      <th>Regulation</th>\n",
       "      <th>PMID</th>\n",
       "    </tr>\n",
       "  </thead>\n",
       "  <tbody>\n",
       "    <tr>\n",
       "      <th>0</th>\n",
       "      <td>AATF</td>\n",
       "      <td>BAX</td>\n",
       "      <td>Repression</td>\n",
       "      <td>22909821</td>\n",
       "    </tr>\n",
       "    <tr>\n",
       "      <th>1</th>\n",
       "      <td>AATF</td>\n",
       "      <td>CDKN1A</td>\n",
       "      <td>Unknown</td>\n",
       "      <td>17157788</td>\n",
       "    </tr>\n",
       "    <tr>\n",
       "      <th>2</th>\n",
       "      <td>AATF</td>\n",
       "      <td>KLK3</td>\n",
       "      <td>Unknown</td>\n",
       "      <td>23146908</td>\n",
       "    </tr>\n",
       "    <tr>\n",
       "      <th>3</th>\n",
       "      <td>AATF</td>\n",
       "      <td>MYC</td>\n",
       "      <td>Activation</td>\n",
       "      <td>20549547</td>\n",
       "    </tr>\n",
       "    <tr>\n",
       "      <th>4</th>\n",
       "      <td>AATF</td>\n",
       "      <td>TP53</td>\n",
       "      <td>Unknown</td>\n",
       "      <td>17157788</td>\n",
       "    </tr>\n",
       "    <tr>\n",
       "      <th>...</th>\n",
       "      <td>...</td>\n",
       "      <td>...</td>\n",
       "      <td>...</td>\n",
       "      <td>...</td>\n",
       "    </tr>\n",
       "    <tr>\n",
       "      <th>9391</th>\n",
       "      <td>ZNF76</td>\n",
       "      <td>CDKN1A</td>\n",
       "      <td>Repression</td>\n",
       "      <td>15280358</td>\n",
       "    </tr>\n",
       "    <tr>\n",
       "      <th>9392</th>\n",
       "      <td>ZNF76</td>\n",
       "      <td>PCYT1A</td>\n",
       "      <td>Activation</td>\n",
       "      <td>14702349</td>\n",
       "    </tr>\n",
       "    <tr>\n",
       "      <th>9393</th>\n",
       "      <td>ZNF76</td>\n",
       "      <td>TALDO1</td>\n",
       "      <td>Unknown</td>\n",
       "      <td>14702349</td>\n",
       "    </tr>\n",
       "    <tr>\n",
       "      <th>9394</th>\n",
       "      <td>ZNRD1</td>\n",
       "      <td>ABCB1</td>\n",
       "      <td>Activation</td>\n",
       "      <td>16373708</td>\n",
       "    </tr>\n",
       "    <tr>\n",
       "      <th>9395</th>\n",
       "      <td>ZNRD1</td>\n",
       "      <td>BCL2</td>\n",
       "      <td>Activation</td>\n",
       "      <td>16373708;16609701</td>\n",
       "    </tr>\n",
       "  </tbody>\n",
       "</table>\n",
       "<p>9396 rows × 4 columns</p>\n",
       "</div>"
      ],
      "text/plain": [
       "         TF  Target  Regulation               PMID\n",
       "0      AATF     BAX  Repression           22909821\n",
       "1      AATF  CDKN1A     Unknown           17157788\n",
       "2      AATF    KLK3     Unknown           23146908\n",
       "3      AATF     MYC  Activation           20549547\n",
       "4      AATF    TP53     Unknown           17157788\n",
       "...     ...     ...         ...                ...\n",
       "9391  ZNF76  CDKN1A  Repression           15280358\n",
       "9392  ZNF76  PCYT1A  Activation           14702349\n",
       "9393  ZNF76  TALDO1     Unknown           14702349\n",
       "9394  ZNRD1   ABCB1  Activation           16373708\n",
       "9395  ZNRD1    BCL2  Activation  16373708;16609701\n",
       "\n",
       "[9396 rows x 4 columns]"
      ]
     },
     "execution_count": 12,
     "metadata": {},
     "output_type": "execute_result"
    }
   ],
   "source": [
    "trrust"
   ]
  },
  {
   "cell_type": "code",
   "execution_count": null,
   "id": "20ec2b82",
   "metadata": {},
   "outputs": [],
   "source": [
    "tftg_filtered = tftg[tftg[\"TF\"].isin(genes) & tftg[\"Target\"].isin(genes)].reset_index(drop=True)"
   ]
  },
  {
   "cell_type": "code",
   "execution_count": null,
   "id": "c9da785b",
   "metadata": {},
   "outputs": [
    {
     "data": {
      "application/vnd.microsoft.datawrangler.viewer.v0+json": {
       "columns": [
        {
         "name": "index",
         "rawType": "int64",
         "type": "integer"
        },
        {
         "name": "TF",
         "rawType": "object",
         "type": "string"
        },
        {
         "name": "Target",
         "rawType": "object",
         "type": "string"
        }
       ],
       "conversionMethod": "pd.DataFrame",
       "ref": "9d3996f6-7573-4a8a-b85f-5476d9b6007a",
       "rows": [
        [
         "0",
         "AATF",
         "BAX"
        ],
        [
         "1",
         "AATF",
         "CDKN1A"
        ],
        [
         "2",
         "AATF",
         "KLK3"
        ],
        [
         "3",
         "AATF",
         "MYC"
        ],
        [
         "4",
         "AATF",
         "TP53"
        ],
        [
         "5",
         "ABL1",
         "BAX"
        ],
        [
         "6",
         "ABL1",
         "BCL2"
        ],
        [
         "7",
         "ABL1",
         "BCL6"
        ],
        [
         "8",
         "ABL1",
         "CCND2"
        ],
        [
         "9",
         "ABL1",
         "CDKN1A"
        ],
        [
         "10",
         "ABL1",
         "CSF1"
        ],
        [
         "11",
         "ABL1",
         "FOXO3"
        ],
        [
         "12",
         "ABL1",
         "JUN"
        ],
        [
         "13",
         "ABL1",
         "PIM1"
        ],
        [
         "14",
         "ABL1",
         "TP53"
        ],
        [
         "15",
         "AHR",
         "ABCG2"
        ],
        [
         "16",
         "AHR",
         "AHRR"
        ],
        [
         "17",
         "AHR",
         "ARNT"
        ],
        [
         "18",
         "AHR",
         "BRCA1"
        ],
        [
         "19",
         "AHR",
         "CA9"
        ],
        [
         "20",
         "AHR",
         "CCND1"
        ],
        [
         "21",
         "AHR",
         "CCNG2"
        ],
        [
         "22",
         "AHR",
         "CYP1A1"
        ],
        [
         "23",
         "AHR",
         "CYP1A2"
        ],
        [
         "24",
         "AHR",
         "CYP1B1"
        ],
        [
         "25",
         "AHR",
         "CYP2B6"
        ],
        [
         "26",
         "AHR",
         "FOS"
        ],
        [
         "27",
         "AHR",
         "IL13"
        ],
        [
         "28",
         "AHR",
         "IL1B"
        ],
        [
         "29",
         "AHR",
         "IL6"
        ],
        [
         "30",
         "AHR",
         "MFSD2A"
        ],
        [
         "31",
         "AHR",
         "MT2A"
        ],
        [
         "32",
         "AHR",
         "MYC"
        ],
        [
         "33",
         "AHR",
         "PCNA"
        ],
        [
         "34",
         "AHR",
         "RFC3"
        ],
        [
         "35",
         "AHR",
         "UGT1A1"
        ],
        [
         "36",
         "AHR",
         "UGT1A6"
        ],
        [
         "37",
         "AIP",
         "AHR"
        ],
        [
         "38",
         "AIP",
         "GREB1"
        ],
        [
         "39",
         "AIP",
         "NFKB2"
        ],
        [
         "40",
         "AIP",
         "RSF1"
        ],
        [
         "41",
         "AIP",
         "TFF1"
        ],
        [
         "42",
         "AIRE",
         "CHRNA1"
        ],
        [
         "43",
         "ANKRD1",
         "NPPA"
        ],
        [
         "44",
         "APBB1",
         "GMPS"
        ],
        [
         "45",
         "APC",
         "AKT1"
        ],
        [
         "46",
         "APC",
         "AMHR2"
        ],
        [
         "47",
         "APC",
         "BIRC5"
        ],
        [
         "48",
         "APC",
         "DLG1"
        ],
        [
         "49",
         "APC",
         "DNMT1"
        ]
       ],
       "shape": {
        "columns": 2,
        "rows": 8348
       }
      },
      "text/html": [
       "<div>\n",
       "<style scoped>\n",
       "    .dataframe tbody tr th:only-of-type {\n",
       "        vertical-align: middle;\n",
       "    }\n",
       "\n",
       "    .dataframe tbody tr th {\n",
       "        vertical-align: top;\n",
       "    }\n",
       "\n",
       "    .dataframe thead th {\n",
       "        text-align: right;\n",
       "    }\n",
       "</style>\n",
       "<table border=\"1\" class=\"dataframe\">\n",
       "  <thead>\n",
       "    <tr style=\"text-align: right;\">\n",
       "      <th></th>\n",
       "      <th>TF</th>\n",
       "      <th>Target</th>\n",
       "    </tr>\n",
       "  </thead>\n",
       "  <tbody>\n",
       "    <tr>\n",
       "      <th>0</th>\n",
       "      <td>AATF</td>\n",
       "      <td>BAX</td>\n",
       "    </tr>\n",
       "    <tr>\n",
       "      <th>1</th>\n",
       "      <td>AATF</td>\n",
       "      <td>CDKN1A</td>\n",
       "    </tr>\n",
       "    <tr>\n",
       "      <th>2</th>\n",
       "      <td>AATF</td>\n",
       "      <td>KLK3</td>\n",
       "    </tr>\n",
       "    <tr>\n",
       "      <th>3</th>\n",
       "      <td>AATF</td>\n",
       "      <td>MYC</td>\n",
       "    </tr>\n",
       "    <tr>\n",
       "      <th>4</th>\n",
       "      <td>AATF</td>\n",
       "      <td>TP53</td>\n",
       "    </tr>\n",
       "    <tr>\n",
       "      <th>...</th>\n",
       "      <td>...</td>\n",
       "      <td>...</td>\n",
       "    </tr>\n",
       "    <tr>\n",
       "      <th>8343</th>\n",
       "      <td>ZNF76</td>\n",
       "      <td>CDKN1A</td>\n",
       "    </tr>\n",
       "    <tr>\n",
       "      <th>8344</th>\n",
       "      <td>ZNF76</td>\n",
       "      <td>PCYT1A</td>\n",
       "    </tr>\n",
       "    <tr>\n",
       "      <th>8345</th>\n",
       "      <td>ZNF76</td>\n",
       "      <td>TALDO1</td>\n",
       "    </tr>\n",
       "    <tr>\n",
       "      <th>8346</th>\n",
       "      <td>ZNRD1</td>\n",
       "      <td>ABCB1</td>\n",
       "    </tr>\n",
       "    <tr>\n",
       "      <th>8347</th>\n",
       "      <td>ZNRD1</td>\n",
       "      <td>BCL2</td>\n",
       "    </tr>\n",
       "  </tbody>\n",
       "</table>\n",
       "<p>8348 rows × 2 columns</p>\n",
       "</div>"
      ],
      "text/plain": [
       "         TF  Target\n",
       "0      AATF     BAX\n",
       "1      AATF  CDKN1A\n",
       "2      AATF    KLK3\n",
       "3      AATF     MYC\n",
       "4      AATF    TP53\n",
       "...     ...     ...\n",
       "8343  ZNF76  CDKN1A\n",
       "8344  ZNF76  PCYT1A\n",
       "8345  ZNF76  TALDO1\n",
       "8346  ZNRD1   ABCB1\n",
       "8347  ZNRD1    BCL2\n",
       "\n",
       "[8348 rows x 2 columns]"
      ]
     },
     "execution_count": 14,
     "metadata": {},
     "output_type": "execute_result"
    }
   ],
   "source": [
    "tftg_filtered"
   ]
  },
  {
   "cell_type": "code",
   "execution_count": null,
   "id": "cfc37402",
   "metadata": {},
   "outputs": [],
   "source": [
    "def compute_tf_target_corr(pairs, expr_df, method=\"pearson\"):\n",
    "    correlations = []\n",
    "    for _, row in pairs.iterrows():\n",
    "        tf_expr = expr_df[row[\"TF\"]]\n",
    "        target_expr = expr_df[row[\"Target\"]]\n",
    "        if method == \"pearson\":\n",
    "            r_value, p_value = pearsonr(tf_expr, target_expr)\n",
    "        correlations.append((r_value, p_value))\n",
    "    return pd.concat([pairs, pd.DataFrame(correlations, columns=[\"Correlation\", \"P-value\"])], axis=1)"
   ]
  },
  {
   "cell_type": "code",
   "execution_count": null,
   "id": "b1ed4e6c",
   "metadata": {},
   "outputs": [
    {
     "name": "stderr",
     "output_type": "stream",
     "text": [
      "/usr/local/lib/python3.9/site-packages/scipy/stats/_stats_py.py:4781: ConstantInputWarning: An input array is constant; the correlation coefficient is not defined.\n",
      "  warnings.warn(stats.ConstantInputWarning(msg))\n"
     ]
    }
   ],
   "source": [
    "corr = compute_tf_target_corr(tftg_filtered, RNA_df, method=\"pearson\")"
   ]
  },
  {
   "cell_type": "code",
   "execution_count": null,
   "id": "a1f4a5d8",
   "metadata": {},
   "outputs": [
    {
     "data": {
      "application/vnd.microsoft.datawrangler.viewer.v0+json": {
       "columns": [
        {
         "name": "index",
         "rawType": "int64",
         "type": "integer"
        },
        {
         "name": "TF",
         "rawType": "object",
         "type": "string"
        },
        {
         "name": "Target",
         "rawType": "object",
         "type": "string"
        },
        {
         "name": "Correlation",
         "rawType": "float64",
         "type": "float"
        },
        {
         "name": "P-value",
         "rawType": "float64",
         "type": "float"
        }
       ],
       "conversionMethod": "pd.DataFrame",
       "ref": "0efd146e-ae66-410a-a21f-9ea7a50bf41e",
       "rows": [
        [
         "0",
         "AATF",
         "BAX",
         "0.06445334388446455",
         "5.839253896929984e-15"
        ],
        [
         "1",
         "AATF",
         "CDKN1A",
         "0.017179006906907247",
         "0.03762473069549395"
        ],
        [
         "2",
         "AATF",
         "KLK3",
         "0.007489065204807161",
         "0.36481094382861656"
        ],
        [
         "3",
         "AATF",
         "MYC",
         "0.06333694010610628",
         "1.6951272346050712e-14"
        ],
        [
         "4",
         "AATF",
         "TP53",
         "0.0845314276462335",
         "1.218585263017796e-24"
        ],
        [
         "5",
         "ABL1",
         "BAX",
         "0.07210613998367567",
         "2.4009668328194575e-18"
        ],
        [
         "6",
         "ABL1",
         "BCL2",
         "0.18202026551068934",
         "2.667126787812453e-109"
        ],
        [
         "7",
         "ABL1",
         "BCL6",
         "0.16629255757903028",
         "2.69151884595541e-91"
        ],
        [
         "8",
         "ABL1",
         "CCND2",
         "0.0958486541624672",
         "3.0740242272708215e-31"
        ],
        [
         "9",
         "ABL1",
         "CDKN1A",
         "0.041167605776088884",
         "6.239652769652171e-07"
        ],
        [
         "10",
         "ABL1",
         "CSF1",
         "-0.01014812903499254",
         "0.21944016164401325"
        ],
        [
         "11",
         "ABL1",
         "FOXO3",
         "0.08776153604260396",
         "1.9366290344017483e-26"
        ],
        [
         "12",
         "ABL1",
         "JUN",
         "0.020464772503424957",
         "0.01326316713131386"
        ],
        [
         "13",
         "ABL1",
         "PIM1",
         "0.1123652873067958",
         "2.312084749993135e-42"
        ],
        [
         "14",
         "ABL1",
         "TP53",
         "0.06618287036630517",
         "1.0807013250112773e-15"
        ],
        [
         "15",
         "AHR",
         "ABCG2",
         "0.02851377219081151",
         "0.0005584208763481897"
        ],
        [
         "16",
         "AHR",
         "AHRR",
         "0.05016155815585976",
         "1.250094653170428e-09"
        ],
        [
         "17",
         "AHR",
         "ARNT",
         "0.12334381364882868",
         "9.540103706175713e-51"
        ],
        [
         "18",
         "AHR",
         "BRCA1",
         "0.17415130849663657",
         "4.4555492189453794e-100"
        ],
        [
         "19",
         "AHR",
         "CA9",
         "0.01520608115681532",
         "0.06574820714465997"
        ],
        [
         "20",
         "AHR",
         "CCND1",
         "0.04781154414025712",
         "7.088951115843729e-09"
        ],
        [
         "21",
         "AHR",
         "CCNG2",
         "0.10223216594444462",
         "2.509883005635633e-35"
        ],
        [
         "22",
         "AHR",
         "CYP1A1",
         "0.016788362538770193",
         "0.04219020616566452"
        ],
        [
         "23",
         "AHR",
         "CYP1A2",
         "0.009526852177768436",
         "0.24897839389927065"
        ],
        [
         "24",
         "AHR",
         "CYP1B1",
         "0.037509803651542974",
         "5.61165838517785e-06"
        ],
        [
         "25",
         "AHR",
         "CYP2B6",
         "0.009363893612981834",
         "0.2571663803538449"
        ],
        [
         "26",
         "AHR",
         "FOS",
         "0.03811734204148398",
         "3.947807192521522e-06"
        ],
        [
         "27",
         "AHR",
         "IL13",
         "0.012638916793784129",
         "0.12615333319486846"
        ],
        [
         "28",
         "AHR",
         "IL1B",
         "0.034610702593171484",
         "2.7973664070443015e-05"
        ],
        [
         "29",
         "AHR",
         "IL6",
         "0.007915221542104701",
         "0.3381606591340605"
        ],
        [
         "30",
         "AHR",
         "MFSD2A",
         "0.10700913107150431",
         "1.4677442769058372e-38"
        ],
        [
         "31",
         "AHR",
         "MT2A",
         "0.0694074470467504",
         "4.139696428717998e-17"
        ],
        [
         "32",
         "AHR",
         "MYC",
         "0.07315977659788939",
         "7.673321394557365e-19"
        ],
        [
         "33",
         "AHR",
         "PCNA",
         "0.047733420210995296",
         "7.499693618948285e-09"
        ],
        [
         "34",
         "AHR",
         "RFC3",
         "0.1926469003415986",
         "1.9093540242525042e-122"
        ],
        [
         "35",
         "AHR",
         "UGT1A1",
         null,
         null
        ],
        [
         "36",
         "AHR",
         "UGT1A6",
         null,
         null
        ],
        [
         "37",
         "AIP",
         "AHR",
         "0.051877929663013876",
         "3.3471622960387656e-10"
        ],
        [
         "38",
         "AIP",
         "GREB1",
         "0.028608864393863447",
         "0.0005350654116830329"
        ],
        [
         "39",
         "AIP",
         "NFKB2",
         "0.047121801187770686",
         "1.1620715020144644e-08"
        ],
        [
         "40",
         "AIP",
         "RSF1",
         "0.06294667311192964",
         "2.4498396391778676e-14"
        ],
        [
         "41",
         "AIP",
         "TFF1",
         null,
         null
        ],
        [
         "42",
         "AIRE",
         "CHRNA1",
         "-0.0006876973046361856",
         "0.9336800720200636"
        ],
        [
         "43",
         "ANKRD1",
         "NPPA",
         "-0.0003599298749593637",
         "0.9652601210658995"
        ],
        [
         "44",
         "APBB1",
         "GMPS",
         "0.040510977812139484",
         "9.38602727472679e-07"
        ],
        [
         "45",
         "APC",
         "AKT1",
         "0.07789028411086445",
         "3.7438430142773544e-21"
        ],
        [
         "46",
         "APC",
         "AMHR2",
         "0.01294223369508595",
         "0.11731208124619935"
        ],
        [
         "47",
         "APC",
         "BIRC5",
         "0.04111922250224859",
         "6.431572818105848e-07"
        ],
        [
         "48",
         "APC",
         "DLG1",
         "0.18226237588701277",
         "1.3658664107070444e-109"
        ],
        [
         "49",
         "APC",
         "DNMT1",
         "0.07658966242138192",
         "1.6717424799393335e-20"
        ]
       ],
       "shape": {
        "columns": 4,
        "rows": 8348
       }
      },
      "text/html": [
       "<div>\n",
       "<style scoped>\n",
       "    .dataframe tbody tr th:only-of-type {\n",
       "        vertical-align: middle;\n",
       "    }\n",
       "\n",
       "    .dataframe tbody tr th {\n",
       "        vertical-align: top;\n",
       "    }\n",
       "\n",
       "    .dataframe thead th {\n",
       "        text-align: right;\n",
       "    }\n",
       "</style>\n",
       "<table border=\"1\" class=\"dataframe\">\n",
       "  <thead>\n",
       "    <tr style=\"text-align: right;\">\n",
       "      <th></th>\n",
       "      <th>TF</th>\n",
       "      <th>Target</th>\n",
       "      <th>Correlation</th>\n",
       "      <th>P-value</th>\n",
       "    </tr>\n",
       "  </thead>\n",
       "  <tbody>\n",
       "    <tr>\n",
       "      <th>0</th>\n",
       "      <td>AATF</td>\n",
       "      <td>BAX</td>\n",
       "      <td>0.064453</td>\n",
       "      <td>5.839254e-15</td>\n",
       "    </tr>\n",
       "    <tr>\n",
       "      <th>1</th>\n",
       "      <td>AATF</td>\n",
       "      <td>CDKN1A</td>\n",
       "      <td>0.017179</td>\n",
       "      <td>3.762473e-02</td>\n",
       "    </tr>\n",
       "    <tr>\n",
       "      <th>2</th>\n",
       "      <td>AATF</td>\n",
       "      <td>KLK3</td>\n",
       "      <td>0.007489</td>\n",
       "      <td>3.648109e-01</td>\n",
       "    </tr>\n",
       "    <tr>\n",
       "      <th>3</th>\n",
       "      <td>AATF</td>\n",
       "      <td>MYC</td>\n",
       "      <td>0.063337</td>\n",
       "      <td>1.695127e-14</td>\n",
       "    </tr>\n",
       "    <tr>\n",
       "      <th>4</th>\n",
       "      <td>AATF</td>\n",
       "      <td>TP53</td>\n",
       "      <td>0.084531</td>\n",
       "      <td>1.218585e-24</td>\n",
       "    </tr>\n",
       "    <tr>\n",
       "      <th>...</th>\n",
       "      <td>...</td>\n",
       "      <td>...</td>\n",
       "      <td>...</td>\n",
       "      <td>...</td>\n",
       "    </tr>\n",
       "    <tr>\n",
       "      <th>8343</th>\n",
       "      <td>ZNF76</td>\n",
       "      <td>CDKN1A</td>\n",
       "      <td>0.010632</td>\n",
       "      <td>1.982477e-01</td>\n",
       "    </tr>\n",
       "    <tr>\n",
       "      <th>8344</th>\n",
       "      <td>ZNF76</td>\n",
       "      <td>PCYT1A</td>\n",
       "      <td>0.100810</td>\n",
       "      <td>2.154979e-34</td>\n",
       "    </tr>\n",
       "    <tr>\n",
       "      <th>8345</th>\n",
       "      <td>ZNF76</td>\n",
       "      <td>TALDO1</td>\n",
       "      <td>0.048268</td>\n",
       "      <td>5.093731e-09</td>\n",
       "    </tr>\n",
       "    <tr>\n",
       "      <th>8346</th>\n",
       "      <td>ZNRD1</td>\n",
       "      <td>ABCB1</td>\n",
       "      <td>0.045747</td>\n",
       "      <td>3.049790e-08</td>\n",
       "    </tr>\n",
       "    <tr>\n",
       "      <th>8347</th>\n",
       "      <td>ZNRD1</td>\n",
       "      <td>BCL2</td>\n",
       "      <td>0.066335</td>\n",
       "      <td>9.301560e-16</td>\n",
       "    </tr>\n",
       "  </tbody>\n",
       "</table>\n",
       "<p>8348 rows × 4 columns</p>\n",
       "</div>"
      ],
      "text/plain": [
       "         TF  Target  Correlation       P-value\n",
       "0      AATF     BAX     0.064453  5.839254e-15\n",
       "1      AATF  CDKN1A     0.017179  3.762473e-02\n",
       "2      AATF    KLK3     0.007489  3.648109e-01\n",
       "3      AATF     MYC     0.063337  1.695127e-14\n",
       "4      AATF    TP53     0.084531  1.218585e-24\n",
       "...     ...     ...          ...           ...\n",
       "8343  ZNF76  CDKN1A     0.010632  1.982477e-01\n",
       "8344  ZNF76  PCYT1A     0.100810  2.154979e-34\n",
       "8345  ZNF76  TALDO1     0.048268  5.093731e-09\n",
       "8346  ZNRD1   ABCB1     0.045747  3.049790e-08\n",
       "8347  ZNRD1    BCL2     0.066335  9.301560e-16\n",
       "\n",
       "[8348 rows x 4 columns]"
      ]
     },
     "execution_count": 20,
     "metadata": {},
     "output_type": "execute_result"
    }
   ],
   "source": [
    "corr"
   ]
  },
  {
   "cell_type": "code",
   "execution_count": 154,
   "id": "26b78b82",
   "metadata": {},
   "outputs": [],
   "source": [
    "RNA_data[:, RNA_data.var['highly_variable']].write('/workspace/Benchmarking/data_scbutterfly/lymphoma_RNA_hv.h5ad')"
   ]
  },
  {
   "cell_type": "code",
   "execution_count": 188,
   "id": "9ad0f7ea",
   "metadata": {},
   "outputs": [
    {
     "data": {
      "text/plain": [
       "Index(['LINC02593', 'SAMD11', 'SDF4', 'ACAP3', 'SSU72', 'CDK11B', 'PRDM16',\n",
       "       'RPL22', 'ICMT', 'ESPN',\n",
       "       ...\n",
       "       'MT-CO2', 'MT-ATP8', 'MT-ATP6', 'MT-CO3', 'MT-ND3', 'MT-ND4L', 'MT-ND4',\n",
       "       'MT-ND5', 'MT-ND6', 'MT-CYB'],\n",
       "      dtype='object', length=3000)"
      ]
     },
     "execution_count": 188,
     "metadata": {},
     "output_type": "execute_result"
    }
   ],
   "source": [
    "RNA_data[:, RNA_data.var['highly_variable']].var_names "
   ]
  },
  {
   "cell_type": "code",
   "execution_count": 264,
   "id": "fb079819",
   "metadata": {},
   "outputs": [
    {
     "name": "stderr",
     "output_type": "stream",
     "text": [
      "/opt/venv/lib/python3.10/site-packages/anndata/_core/anndata.py:1830: UserWarning:\n",
      "\n",
      "Variable names are not unique. To make them unique, call `.var_names_make_unique`.\n",
      "\n"
     ]
    },
    {
     "data": {
      "text/plain": [
       "0             Tumor B\n",
       "1                   T\n",
       "2           T cycling\n",
       "3                Mono\n",
       "4         low GEX mix\n",
       "5     Tumor B cycling\n",
       "6                   B\n",
       "7          Mono/B mix\n",
       "8             B/T mix\n",
       "9          Mono/T mix\n",
       "10        unknown mix\n",
       "11                pDC\n",
       "12      Stromal cells\n",
       "13                NaN\n",
       "14        Fibroblasts\n",
       "dtype: category\n",
       "Categories (14, object): [' B/T mix', 'B', 'Fibroblasts', 'Mono', ..., 'Tumor B cycling', 'low GEX mix', 'pDC', 'unknown mix']"
      ]
     },
     "execution_count": 264,
     "metadata": {},
     "output_type": "execute_result"
    }
   ],
   "source": [
    "RNA_data = sc.read_h5ad('/workspace/scButterfly/data/lymphoma/lymphoma_RNA_pp.h5ad')\n",
    "pd.Series(RNA_data.obs['Cell Types'].unique())"
   ]
  },
  {
   "cell_type": "code",
   "execution_count": 265,
   "id": "e70c7d82",
   "metadata": {},
   "outputs": [
    {
     "name": "stderr",
     "output_type": "stream",
     "text": [
      "/opt/venv/lib/python3.10/site-packages/anndata/_core/anndata.py:1830: UserWarning:\n",
      "\n",
      "Variable names are not unique. To make them unique, call `.var_names_make_unique`.\n",
      "\n"
     ]
    }
   ],
   "source": [
    "RNA_data.obs['group'] = RNA_data.obs['Cell Types'].map(\n",
    "    lambda x: 'B' if x in ['B'] else ('LYM' if x in ['Tumor B', 'Tumor B cycling'] else None)\n",
    ")\n",
    "data_gsea = RNA_data[RNA_data.obs['group'].isin(['B','LYM'])].copy()"
   ]
  },
  {
   "cell_type": "code",
   "execution_count": 266,
   "id": "e4c3c5e3",
   "metadata": {},
   "outputs": [],
   "source": [
    "data_gsea = data_gsea[:, data_gsea.var['highly_variable']]"
   ]
  },
  {
   "cell_type": "code",
   "execution_count": 268,
   "id": "ecf092af",
   "metadata": {},
   "outputs": [
    {
     "name": "stdout",
     "output_type": "stream",
     "text": [
      "WARNING: adata.X seems to be already log-transformed.\n"
     ]
    }
   ],
   "source": [
    "sc.pp.log1p(data_gsea)"
   ]
  },
  {
   "cell_type": "code",
   "execution_count": 269,
   "id": "6284216d",
   "metadata": {},
   "outputs": [],
   "source": [
    "sc.tl.rank_genes_groups(\n",
    "    data_gsea,\n",
    "    groupby='group',\n",
    "    groups=['LYM'],\n",
    "    reference='B',\n",
    "    method='wilcoxon',\n",
    "    pts=True\n",
    ")"
   ]
  },
  {
   "cell_type": "code",
   "execution_count": 270,
   "id": "26f30364",
   "metadata": {},
   "outputs": [],
   "source": [
    "de = sc.get.rank_genes_groups_df(data_gsea, group='LYM')\n",
    "de['neg_log10_padj'] = -np.log10(de['pvals_adj'].replace(0, np.nan))"
   ]
  },
  {
   "cell_type": "code",
   "execution_count": 271,
   "id": "039fcaba",
   "metadata": {},
   "outputs": [],
   "source": [
    "df = de.copy()"
   ]
  },
  {
   "cell_type": "code",
   "execution_count": 272,
   "id": "770bb2a6",
   "metadata": {},
   "outputs": [
    {
     "data": {
      "image/png": "[encoded data removed]",
      "text/plain": [
       "<Figure size 700x600 with 1 Axes>"
      ]
     },
     "metadata": {},
     "output_type": "display_data"
    }
   ],
   "source": [
    "df['color'] = 'grey'\n",
    "df.loc[(df['logfoldchanges'] > 1) & (df['pvals_adj'] < 0.001), 'color'] = 'red'\n",
    "df.loc[(df['logfoldchanges'] < -1) & (df['pvals_adj'] < 0.001), 'color'] = 'blue'\n",
    "\n",
    "plt.figure(figsize=(7, 6))\n",
    "plt.scatter(df['logfoldchanges'], df['neg_log10_padj'], s=10, alpha=0.7, c=df['color'], edgecolor='none')\n",
    "plt.axhline(-np.log10(0.001), color='green', linestyle='--')\n",
    "plt.axvline(1, color='green', linestyle='dotted')\n",
    "plt.axvline(-1, color='green', linestyle='dotted')\n",
    "\n",
    "sig_df = df[df['pvals_adj'] < 0.001]\n",
    "top_up = sig_df.sort_values(by='logfoldchanges', ascending=False).head(10)\n",
    "top_down = sig_df.sort_values(by='logfoldchanges', ascending=True).head(10)\n",
    "\n",
    "for _, row in pd.concat([top_up, top_down]).iterrows():\n",
    "    plt.text(row['logfoldchanges'], row['neg_log10_padj'],\n",
    "             row['names'], fontsize=7, ha='center', va='bottom', color='black')\n",
    "\n",
    "plt.xlabel('Log2 FC')\n",
    "plt.ylabel('-Log10 Adj_p')\n",
    "plt.title('Volcano Plot: Lymphoma B vs B Cells')\n",
    "plt.tight_layout()\n",
    "plt.show()"
   ]
  },
  {
   "cell_type": "code",
   "execution_count": 249,
   "id": "603b6a95",
   "metadata": {},
   "outputs": [
    {
     "data": {
      "application/vnd.plotly.v1+json": {
       "config": {
        "plotlyServerURL": "https://plot.ly"
       },
       "data": [
        {
         "customdata": [
          [
           "AC090125.1",
           3.647928663753481e-229
          ],
          [
           "TCF4",
           2.1666678484343693e-206
          ],
          [
           "GPM6A",
           2.70590882732192e-187
          ],
          [
           "LINC01320",
           8.997874242253758e-187
          ],
          [
           "FCRL5",
           5.675837706453282e-175
          ],
          [
           "RHEX",
           1.2341891022162995e-153
          ],
          [
           "GRHPR",
           8.545683781858707e-152
          ],
          [
           "DGKG",
           4.8218423755749985e-149
          ],
          [
           "PDGFD",
           3.990460795250133e-147
          ],
          [
           "NIBAN3",
           3.211987924980529e-143
          ],
          [
           "ARHGAP24",
           1.4603727544800318e-131
          ],
          [
           "ZNF804A",
           1.0660876945599989e-128
          ],
          [
           "RUBCNL",
           2.0686658146630857e-124
          ],
          [
           "PAX5",
           2.9794814918516082e-102
          ],
          [
           "IGLC1",
           4.8780072364011325e-102
          ],
          [
           "CD83",
           1.3258540206306056e-89
          ],
          [
           "ADAMTS6",
           1.406697633174247e-76
          ],
          [
           "PGGHG",
           9.940916429246984e-55
          ],
          [
           "MZB1",
           6.047208313250863e-54
          ],
          [
           "LEF1",
           1.6029000085641309e-44
          ],
          [
           "IGHG3",
           8.37950586117109e-42
          ],
          [
           "WDR63",
           1.4732018578402645e-41
          ],
          [
           "CTSH",
           2.212086561808328e-41
          ],
          [
           "DCLK2",
           5.872488159721711e-40
          ],
          [
           "SUCLG2-AS1",
           2.126628740501201e-37
          ],
          [
           "AC083837.1",
           7.158707673069466e-36
          ],
          [
           "LYN",
           1.1829305086932973e-35
          ],
          [
           "IGKC",
           9.08806472817078e-34
          ],
          [
           "EPDR1",
           3.7111057135271866e-32
          ],
          [
           "TP63",
           3.8327895395381743e-32
          ],
          [
           "CENPP",
           5.121686234872172e-32
          ],
          [
           "PRAG1",
           1.1187117154653402e-31
          ],
          [
           "SCMH1",
           2.4368855750938714e-28
          ],
          [
           "RBBP4",
           3.991923439187242e-27
          ],
          [
           "HLA-DMB",
           6.037616580721355e-27
          ],
          [
           "SEC61B",
           1.5664272075491608e-26
          ],
          [
           "LINC01572",
           1.663163657068262e-25
          ],
          [
           "NUP188",
           3.482739118096577e-25
          ],
          [
           "SERF2",
           3.5196868845896103e-25
          ],
          [
           "EDF1",
           3.666693143925988e-25
          ],
          [
           "HIP1",
           4.1117120274578093e-25
          ],
          [
           "INIP",
           5.2977043224242755e-24
          ],
          [
           "VKORC1L1",
           5.917285316331481e-24
          ],
          [
           "IGHA1",
           1.1173631275249248e-23
          ],
          [
           "BIK",
           6.752525094477056e-23
          ],
          [
           "RBMS3",
           1.5052879061997682e-22
          ],
          [
           "IGLC7",
           4.080859496028938e-20
          ],
          [
           "IGHG4",
           4.8358702258016237e-20
          ],
          [
           "DPH7",
           1.2545748227337351e-19
          ],
          [
           "PTPRG",
           1.3542719192394306e-19
          ],
          [
           "AC139887.2",
           4.391108678569273e-19
          ],
          [
           "NCBP1",
           4.1876803807850635e-18
          ],
          [
           "LAPTM5",
           1.535640408248193e-16
          ],
          [
           "NCF1",
           2.8622216092986215e-16
          ],
          [
           "ARRDC3-AS1",
           5.171928103126145e-16
          ],
          [
           "RP9",
           3.969531517471962e-15
          ],
          [
           "CSNK1D",
           7.503175910587353e-15
          ],
          [
           "IGHA2",
           9.771709874563056e-15
          ],
          [
           "BX284613.2",
           9.971206809272892e-15
          ],
          [
           "SPON2",
           1.8177943383717617e-14
          ],
          [
           "HSPH1",
           4.307464019861217e-14
          ],
          [
           "CD52",
           4.642598448425319e-13
          ],
          [
           "MTX2",
           1.0281711779072633e-12
          ],
          [
           "GNL3",
           1.4159513373095772e-12
          ],
          [
           "MED12L",
           1.726683346580921e-12
          ],
          [
           "TUBGCP3",
           1.940668809777701e-12
          ],
          [
           "SEC61A1",
           3.1696788691192096e-12
          ],
          [
           "PPIA",
           5.809784693113191e-12
          ],
          [
           "CARM1",
           9.990654907948738e-12
          ],
          [
           "HDX",
           1.0565011154147273e-11
          ],
          [
           "USP42",
           1.0565011154147273e-11
          ],
          [
           "P4HB",
           1.0993098058727872e-11
          ],
          [
           "ABAT",
           2.4226755275981248e-11
          ],
          [
           "ARSG",
           3.188658243747945e-11
          ],
          [
           "LMAN1",
           4.569987040960958e-11
          ],
          [
           "IGHM",
           4.589487109502152e-11
          ],
          [
           "ST6GALNAC6",
           7.451461048224536e-11
          ],
          [
           "CD79A",
           1.1681383047347773e-10
          ],
          [
           "PKN3",
           1.4106082054849688e-10
          ],
          [
           "TSC1",
           2.841431588351436e-10
          ],
          [
           "RMI1",
           3.175125695076737e-10
          ],
          [
           "SEC11C",
           3.6244939636649427e-10
          ],
          [
           "HLA-DPB1",
           5.192980182611044e-10
          ],
          [
           "SLC38A10",
           8.438422215177441e-10
          ],
          [
           "CDCA7L",
           1.7917378181627643e-9
          ],
          [
           "GGA1",
           1.95161075032377e-9
          ],
          [
           "CKLF",
           2.2537988560703057e-9
          ],
          [
           "TMA7",
           2.9999240924852025e-9
          ],
          [
           "CDC37",
           3.0637509571777495e-9
          ],
          [
           "ITFG2",
           3.1000995771465427e-9
          ],
          [
           "RELB",
           3.1769536084636175e-9
          ],
          [
           "CCDC186",
           3.6138936125126355e-9
          ],
          [
           "COG2",
           5.013007205354296e-9
          ],
          [
           "EDEM3",
           1.2676851045672335e-8
          ],
          [
           "HIKESHI",
           1.3042255297399318e-8
          ],
          [
           "DVL3",
           1.324887447006369e-8
          ],
          [
           "IGHE",
           1.3906499816816398e-8
          ],
          [
           "SRRT",
           1.7201819423874652e-8
          ],
          [
           "SHLD1",
           2.396721660639712e-8
          ],
          [
           "AC097376.3",
           4.026263045365595e-8
          ],
          [
           "CCDC88B",
           6.970990851556315e-8
          ],
          [
           "EHD1",
           7.877867658167715e-8
          ],
          [
           "ABCF1",
           7.981902846962547e-8
          ],
          [
           "SCAMP2",
           1.1315575075327624e-7
          ],
          [
           "GCN1",
           2.036364071109108e-7
          ],
          [
           "PP2D1",
           3.85097783732083e-7
          ],
          [
           "ELOVL6",
           4.0071888882895387e-7
          ],
          [
           "MMP24OS",
           4.6899156433413483e-7
          ],
          [
           "PFKFB2",
           5.107269816416714e-7
          ],
          [
           "CTDSP2",
           5.465636544591345e-7
          ],
          [
           "ARRDC3",
           6.626855094144143e-7
          ],
          [
           "ARMH1",
           6.690170990289101e-7
          ],
          [
           "CDK11B",
           7.756393159031085e-7
          ],
          [
           "NOC3L",
           0.0000011151895093428572
          ],
          [
           "SLC25A29",
           0.000001463240316083955
          ],
          [
           "AC025887.2",
           0.0000017278199196408583
          ],
          [
           "NNT-AS1",
           0.000001909451016557536
          ],
          [
           "LINC01480",
           0.000002220250162986577
          ],
          [
           "GPT2",
           0.000002231585672401761
          ],
          [
           "MKRN1",
           0.000004317057578896906
          ],
          [
           "ZNF789",
           0.0000043736618708087
          ],
          [
           "SLC37A3",
           0.000004843501516886839
          ],
          [
           "MUS81",
           0.000005823672600906809
          ],
          [
           "KIF3B",
           0.000007496496095576464
          ],
          [
           "FBXO31",
           0.000014749604257457097
          ],
          [
           "ATP5MG",
           0.00001556071292611871
          ],
          [
           "NAMPT",
           0.000017030198324050936
          ],
          [
           "ATP13A4",
           0.000020896992103642536
          ],
          [
           "TPM2",
           0.000021472970898358686
          ],
          [
           "UNKL",
           0.000025452863786415526
          ],
          [
           "NCAPD2",
           0.000027727762460735713
          ],
          [
           "PPP1R35",
           0.000029178147964430748
          ],
          [
           "DIPK2A",
           0.00003211213333386042
          ],
          [
           "CHERP",
           0.00003211213333386042
          ],
          [
           "MALSU1",
           0.00003211213333386042
          ],
          [
           "EMC2",
           0.00003269058222618378
          ],
          [
           "PCSK1N",
           0.00003771288928343276
          ],
          [
           "SSU72",
           0.000040483213336719227
          ],
          [
           "LINC00885",
           0.00004063952647484004
          ],
          [
           "PRSS21",
           0.0000428546406453374
          ],
          [
           "DSTN",
           0.000044658929828322
          ],
          [
           "GSTP1",
           0.00006312938166076878
          ],
          [
           "ZNF274",
           0.00006427757591270584
          ],
          [
           "CAPN1",
           0.00007755733433652438
          ],
          [
           "TRMT10C",
           0.00008744796937847021
          ],
          [
           "CDK5R1",
           0.00008744796937847021
          ],
          [
           "PPIB",
           0.00009657449147636244
          ],
          [
           "ZC3H14",
           0.00010587878936766132
          ],
          [
           "PRPSAP1",
           0.00012973264660663306
          ],
          [
           "AC064807.1",
           0.00013318049232808306
          ],
          [
           "AL450352.1",
           0.00013318049232808306
          ],
          [
           "SMC2",
           0.0001407491573969314
          ],
          [
           "FARSA",
           0.00015064837885044976
          ],
          [
           "EIF2B1",
           0.00015941785181029441
          ],
          [
           "LRRC37A2",
           0.0001639357311491394
          ],
          [
           "NOSIP",
           0.00017313221290349526
          ],
          [
           "MAP4K3-DT",
           0.00020334620842515853
          ],
          [
           "DTX3",
           0.00020828064826773656
          ],
          [
           "UBE2V2",
           0.00024367810302249455
          ],
          [
           "OTUB1",
           0.00024367810302249455
          ],
          [
           "MHENCR",
           0.0003193817788711753
          ],
          [
           "MT-ND5",
           0.0003411569877078159
          ],
          [
           "AC008438.1",
           0.0003616401957819615
          ],
          [
           "JAM3",
           0.0004070798596164783
          ],
          [
           "PCAT1",
           0.0004542623835300975
          ],
          [
           "ARAF",
           0.00046970167856531765
          ],
          [
           "C5orf24",
           0.0005290272021627901
          ],
          [
           "OXLD1",
           0.0006534684734354315
          ],
          [
           "ZDHHC23",
           0.0006966467426155183
          ],
          [
           "THEM4",
           0.0007305173222168034
          ],
          [
           "ATP5IF1",
           0.00075171415747826
          ],
          [
           "SDHC",
           0.0007692499485526687
          ],
          [
           "IRF5",
           0.0007692499485526687
          ],
          [
           "ILF2",
           0.001172943303607989
          ],
          [
           "ARL11",
           0.0012407446710482033
          ],
          [
           "CNPY2",
           0.001343625431280373
          ],
          [
           "ROMO1",
           0.0014723611841702716
          ],
          [
           "PITPNM1",
           0.0016379730547829714
          ],
          [
           "RFX5",
           0.0016765814361027157
          ],
          [
           "CLK3",
           0.001696697743968241
          ],
          [
           "NDUFB2",
           0.0017623942156199841
          ],
          [
           "ALG3",
           0.0019544611817373467
          ],
          [
           "HCST",
           0.002224856304818773
          ],
          [
           "KLHL35",
           0.002224856304818773
          ],
          [
           "C7orf26",
           0.0022632840843696584
          ],
          [
           "PRR13",
           0.002330288013610728
          ],
          [
           "DLGAP1",
           0.0023512915757232518
          ],
          [
           "L2HGDH",
           0.0024858044244639396
          ],
          [
           "GEMIN5",
           0.002516632937834853
          ],
          [
           "TMEM183A",
           0.002742856244186788
          ],
          [
           "SRPRB",
           0.002742856244186788
          ],
          [
           "PET100",
           0.0028756961893297403
          ],
          [
           "UBB",
           0.0029497376190756553
          ],
          [
           "CBX4",
           0.0035003876161768662
          ],
          [
           "COX6C",
           0.0035003876161768662
          ],
          [
           "ATP5MF",
           0.003639476044405772
          ],
          [
           "INKA2",
           0.003639476044405772
          ],
          [
           "ZNF441",
           0.003718674424067646
          ],
          [
           "SIT1",
           0.0037237972556898695
          ],
          [
           "SS18L2",
           0.0037892861614503173
          ],
          [
           "RRN3",
           0.004637898738579048
          ],
          [
           "PSMC1",
           0.004933456000412076
          ],
          [
           "CASP9",
           0.005545438851802308
          ],
          [
           "MLEC",
           0.005732923468873095
          ],
          [
           "AFMID",
           0.005732923468873095
          ],
          [
           "SSR4",
           0.005780312183568607
          ],
          [
           "CMTM8",
           0.006415238482073525
          ],
          [
           "KRTCAP2",
           0.006568029557177169
          ],
          [
           "BRAT1",
           0.006604557652154754
          ],
          [
           "RGS10",
           0.0066392117842647164
          ],
          [
           "MAGI1",
           0.006653396283851012
          ],
          [
           "LINC02021",
           0.007226400166799927
          ],
          [
           "IL2RA",
           0.007525233910084767
          ],
          [
           "CBLL1",
           0.007695513414808489
          ],
          [
           "TOP2A",
           0.008453114710351685
          ],
          [
           "ANKRD10-IT1",
           0.009516379508761387
          ],
          [
           "LONRF3",
           0.009575488523872605
          ],
          [
           "PEBP4",
           0.010766624574271218
          ],
          [
           "ITGA1",
           0.010954574767568061
          ],
          [
           "DBI",
           0.012165881868131804
          ],
          [
           "STUB1",
           0.013230251677061223
          ],
          [
           "AL355574.1",
           0.013245280070894294
          ],
          [
           "MRPL41",
           0.013884762286044069
          ],
          [
           "IGLC3",
           0.014184737553778394
          ],
          [
           "C18orf32",
           0.014236020850297506
          ],
          [
           "AC024560.4",
           0.01447888047545474
          ],
          [
           "PRDX6",
           0.014767259956886963
          ],
          [
           "MAPK10",
           0.014944081962428501
          ],
          [
           "AC124254.2",
           0.014981850128342319
          ],
          [
           "PHPT1",
           0.014981850128342319
          ],
          [
           "LSM5",
           0.014981850128342319
          ],
          [
           "TMEM167A",
           0.015022568760615989
          ],
          [
           "LINC00276",
           0.018256688777887428
          ],
          [
           "RPGR",
           0.01948349331837662
          ],
          [
           "ASB16-AS1",
           0.01967422204099588
          ],
          [
           "WDR5",
           0.02195521611024609
          ],
          [
           "LHFPL3",
           0.02376732436861447
          ],
          [
           "POLR2E",
           0.0345407529399262
          ],
          [
           "MTHFSD",
           0.03852515710659493
          ],
          [
           "HIST1H2BJ",
           0.03870876874300095
          ],
          [
           "RBM48",
           0.0396321340851106
          ],
          [
           "NSMCE4A",
           0.03989065386563113
          ],
          [
           "AC244502.1",
           0.04010569205175453
          ],
          [
           "VASH2",
           0.04010569205175453
          ],
          [
           "AC068633.1",
           0.044156350276595716
          ],
          [
           "CCDC85B",
           0.04548541982194496
          ],
          [
           "LINC01625",
           0.047155977362020235
          ],
          [
           "AC012291.3",
           0.04789957448904761
          ]
         ],
         "hovertemplate": "regulation=Upregulated<br>Log2 Fold Change=%{x}<br>-Log10 Adjusted P-Value=%{y}<br>names=%{customdata[0]}<br>pvals_adj=%{customdata[1]}<extra></extra>",
         "legendgroup": "Upregulated",
         "marker": {
          "color": "red",
          "symbol": "circle"
         },
         "mode": "markers",
         "name": "Upregulated",
         "showlegend": true,
         "type": "scattergl",
         "x": {
          "bdata": "Mbx+QGXY4D9ZHU5AGVVOQGMrOEDR20BAaddKQFcVT0AbOVdA620aQJ3ZxD9kVzhAk54KQMCptD/emDBAOeEUQNVAIkCNsxFAGTUmQPnlDkBuFRBAl+kqQIrv8D+I5idAiUEbQM0Gnz8OUY4/MyK1PzE2HkAush1AXFblP8hf2z9gC90/fSjVP2Abyj8YyQBAOeHYPwlk9z/FxLg/I3j4P67dBkARMxBA5CjeP7gN9T+GDSdAbi0VQEwrBkBjwOQ/WVEEQFTFA0AUQNc/BK/bPxLnmD9up5w/1YbaPxpU+j9cpro/t27WP5xeJ0BtDgtAZQW7P5cUnz8s1cI/VNXUP2b4/z8IR64//6nHP87AlT9z/88/91QGQNR4tD+msq0/RbDVP6Xvzj9AnM4/syyHPwgL2T+WLJY/7M0oQI6Vvz/6X/k/NRDPPzGrhT9GoZU/7jrIP/9amT9c2Z8/P0SbP4yGoj+V1Jg/7MaTPwZGvT9B3NQ/mkiWPyjqwD+L9t4//6fuP/93xD8FD4Y/i1aUP94jhz9Gtp4/cdahPwQRnj9rdpg/bYsnQB6yB0A3r6Q/pbL+P1/4sT+PnM4/oeEDQHu4iT9zMao/dCQCQFq/I0Dl2b4/+sEXQNkO/D/KXJU/DSHNP34Zwz+OF5E/DiuXPwQzuz8Dpog/MAqOPwBd2j+GVAxAXnyhP6nDrD+emqE/zqqwP3mtxD/nLMs/4FCiP0AuEEAQG54/LyEgQJXeV0D2pQFA3gGqPzYMij8IUZU/ok3VP4gSF0CGtY8/D82BP6OTqD/jELw/AZAEQHh7pz95//0/YuSaPwrerz/1hZk/3zi7P+GX9T/OPZE/ku2cP1YFuT8ZBKM/s5OkP3PZiD818oI//nvJP6uMoj+z8/s/ClgNQDRfkz9PIpE/df+EP1pT3z+GiJ0/b3bVP06rhT83Sbc/kqOaP6l7jj9ue5Q/FZmOP+DU6D/547Y/IswqQD88tz9VpoA/L7KqP3P+uj+rAbM/djbiPwsR6D9Mt5A/G2OKPy2SkD9syZM/X1q5P1c20D+5B/A/iPCeP3hsoj/smJI/o9uPP/7mCkBZ46E/E17WP8lMwT9akMI/2eacPzJKlj8usY0/nOsFQMGdBUBpFJI/sKCJP8jcmT9mlag/Zd7NP3NAwz/n29U/LBOCP6pSrj/qjuM/sbuHPwqzkT9Ao6Q/K1XyP0xKoz+YzgpALzwYQEEDkz8AU9o/sj6RP4SYA0AExJk/EZrAPzC/nT/+xvs/tUWhP6z6yT/vmANAPy+qP72cgT+YHew/fFw2QKbiHEDZhYw/kRv5P7VBrD8=",
          "dtype": "f4"
         },
         "xaxis": "x",
         "y": {
          "bdata": "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",
          "dtype": "f8"
         },
         "yaxis": "y"
        },
        {
         "customdata": [
          [
           "AFF3",
           9.154681025589535e-50
          ],
          [
           "BACH2",
           1.2968233678700196e-10
          ],
          [
           "PLCG2",
           2.7662058347770185e-7
          ],
          [
           "P2RX5",
           0.0000010724124884551524
          ],
          [
           "RAC1",
           0.0000037627038507592195
          ],
          [
           "ENO1",
           0.000004633209650859614
          ],
          [
           "RPL4",
           0.000005738125011349166
          ],
          [
           "NARF",
           0.0000067532140958642455
          ],
          [
           "RPL15",
           0.0000574601342108929
          ],
          [
           "C12orf4",
           0.00015064837885044976
          ],
          [
           "VPS36",
           0.0001636877350575758
          ],
          [
           "RPL36AL",
           0.0007553634515815111
          ],
          [
           "PSMB1",
           0.0008489510392208868
          ],
          [
           "CD69",
           0.0012085633309694267
          ],
          [
           "UQCRH",
           0.0013489955228894344
          ],
          [
           "HMGN2",
           0.0015200137918499387
          ],
          [
           "EIF3K",
           0.0017187191366825334
          ],
          [
           "RO60",
           0.0017839945394712473
          ],
          [
           "SLC25A3",
           0.0019054467903983337
          ],
          [
           "NDUFA13",
           0.0019406817019561118
          ],
          [
           "NCL",
           0.0028756961893297403
          ],
          [
           "PSMA4",
           0.0028826388794573506
          ],
          [
           "TUBA4A",
           0.0030701817072963117
          ],
          [
           "ISG20",
           0.0032910248824594376
          ],
          [
           "MT-ND2",
           0.0035003876161768662
          ],
          [
           "WASHC1",
           0.003639476044405772
          ],
          [
           "PSMB8",
           0.0041809505531450655
          ],
          [
           "LPAR5",
           0.005163087805911408
          ],
          [
           "TMCO1",
           0.005483551252396851
          ],
          [
           "HLA-DRA",
           0.005899351917484161
          ],
          [
           "ATP5F1B",
           0.011026016148180011
          ],
          [
           "HNRNPA1",
           0.011087780714141363
          ],
          [
           "RPL35",
           0.011195181511069548
          ],
          [
           "MYL6",
           0.012383737203454138
          ],
          [
           "SELENOH",
           0.014271552258453559
          ],
          [
           "MT-ATP6",
           0.01447888047545474
          ],
          [
           "STRBP",
           0.01693158231347805
          ],
          [
           "CLNK",
           0.018256688777887428
          ],
          [
           "LDHB",
           0.02067840122712534
          ],
          [
           "RAB40C",
           0.02376732436861447
          ],
          [
           "MYL12B",
           0.02393261635522491
          ],
          [
           "GAPDH",
           0.025311225544183146
          ],
          [
           "RPA2",
           0.02587624818540522
          ],
          [
           "MT-CYB",
           0.02613265622758929
          ],
          [
           "PCDH9",
           0.027186542255964317
          ],
          [
           "CSNK2B",
           0.027186542255964317
          ],
          [
           "AKR1A1",
           0.02847028646577793
          ],
          [
           "GOLPH3L",
           0.03008802373035445
          ],
          [
           "WBP11",
           0.031105837769265076
          ],
          [
           "HSP90AA1",
           0.031105837769265076
          ],
          [
           "POMP",
           0.03318081137692063
          ],
          [
           "TPI1",
           0.037055997702534024
          ],
          [
           "CDC42EP3",
           0.03852515710659493
          ],
          [
           "PSMB4",
           0.04548541982194496
          ],
          [
           "PSMB3",
           0.04558319397383555
          ],
          [
           "MT-CO1",
           0.048587213319719776
          ],
          [
           "ICAM1",
           0.05107964961007407
          ],
          [
           "TUBB",
           0.051966190261829866
          ],
          [
           "JHY",
           0.051966190261829866
          ],
          [
           "PPP1CA",
           0.05366575411138189
          ],
          [
           "IGLC2",
           0.0549937174940521
          ],
          [
           "PSMB5",
           0.05621901456959401
          ],
          [
           "NME2",
           0.05631994172342358
          ],
          [
           "RPL23",
           0.05889674917439223
          ],
          [
           "RPL17",
           0.06035403070734888
          ],
          [
           "MIF",
           0.06111941308943302
          ],
          [
           "STMP1",
           0.06263713993963492
          ],
          [
           "NDUFB8",
           0.06372826901544142
          ],
          [
           "ATG14",
           0.06400538679655429
          ],
          [
           "MAP2K3",
           0.06467082174559592
          ],
          [
           "ZNF347",
           0.06558108155033644
          ],
          [
           "SNRPG",
           0.06567022944683566
          ],
          [
           "MAT2B",
           0.06567022944683566
          ],
          [
           "ERP29",
           0.06639148069762323
          ],
          [
           "NDUFC2",
           0.06639148069762323
          ],
          [
           "CDC14B",
           0.06765326319816771
          ],
          [
           "ABCF3",
           0.07160389791368296
          ],
          [
           "ATP5PF",
           0.07321416428173384
          ],
          [
           "NDUFA11",
           0.07459833576723125
          ],
          [
           "LTA",
           0.07465569815656313
          ],
          [
           "PHB2",
           0.07793024117820527
          ],
          [
           "PRDM11",
           0.07805301216028064
          ],
          [
           "MYBL1",
           0.07832448706273036
          ],
          [
           "BANF1",
           0.08126003924882545
          ],
          [
           "NDUFS6",
           0.08126003924882545
          ],
          [
           "ASPM",
           0.0820213531593674
          ],
          [
           "TMEM159",
           0.08227826281685459
          ],
          [
           "CIB1",
           0.08315605876698141
          ],
          [
           "NDUFA4",
           0.08363835015598403
          ],
          [
           "DYNLL1",
           0.08381754307461635
          ],
          [
           "GRAP",
           0.08494922725369097
          ],
          [
           "MKI67",
           0.08678092447497625
          ],
          [
           "PDK1",
           0.087421657474014
          ],
          [
           "BID",
           0.08885791303990219
          ],
          [
           "METTL22",
           0.08920024910533685
          ],
          [
           "LAMTOR4",
           0.08920024910533685
          ],
          [
           "PPP1R12C",
           0.09000548618393099
          ],
          [
           "RPS4X",
           0.09022044426343362
          ],
          [
           "COG1",
           0.09165955396948146
          ],
          [
           "RPS25",
           0.09165955396948146
          ],
          [
           "RPL12",
           0.09165955396948146
          ],
          [
           "NDUFA1",
           0.09973860028626619
          ],
          [
           "UQCR11",
           0.09975057717431783
          ],
          [
           "NAB2",
           0.10192928765992093
          ],
          [
           "AC005562.1",
           0.10439899274297565
          ],
          [
           "DERL1",
           0.10642330838068723
          ],
          [
           "TUBA1B",
           0.10642330838068723
          ],
          [
           "DIAPH3",
           0.10749632571873917
          ],
          [
           "STARD7-AS1",
           0.10905900765633757
          ],
          [
           "COX4I1",
           0.11335095831914505
          ],
          [
           "ABHD14B",
           0.11497906675171034
          ],
          [
           "EGR2",
           0.11526579639360783
          ],
          [
           "LDHA",
           0.12758581444009362
          ],
          [
           "EFCAB2",
           0.12869636372607357
          ],
          [
           "TXNRD1",
           0.12869636372607357
          ],
          [
           "SRI",
           0.12881625374814962
          ],
          [
           "SLC27A4",
           0.1320726939619631
          ],
          [
           "LTBP4",
           0.13240234599832523
          ],
          [
           "CYB561D1",
           0.1329945571554559
          ],
          [
           "KCTD1",
           0.1338444318101159
          ],
          [
           "TECR",
           0.13526179329099838
          ],
          [
           "ATP6V0D1",
           0.13526179329099838
          ],
          [
           "RPL14",
           0.13699003520577785
          ],
          [
           "HLA-DQB2",
           0.13843677834878795
          ],
          [
           "HSPE1",
           0.13976908825484163
          ],
          [
           "KDELR2",
           0.13976908825484163
          ],
          [
           "CASS4",
           0.14090732530532643
          ],
          [
           "ADAL",
           0.14215112420277992
          ],
          [
           "SF3A3",
           0.1426032973054118
          ],
          [
           "DMAC1",
           0.14331063342675476
          ],
          [
           "CES4A",
           0.14608060550946625
          ],
          [
           "NDUFB11",
           0.14608564983575614
          ],
          [
           "TAFA2",
           0.14614949999338836
          ],
          [
           "POLR2L",
           0.14760095489830644
          ],
          [
           "COX7C",
           0.14843811870530524
          ],
          [
           "PFDN6",
           0.14843811870530524
          ],
          [
           "UQCRC1",
           0.14880809326398492
          ],
          [
           "MTHFD2",
           0.15081946710704097
          ],
          [
           "FAM207A",
           0.15559292083269635
          ],
          [
           "GEMIN7-AS1",
           0.15559292083269635
          ],
          [
           "DBN1",
           0.15726551037573747
          ],
          [
           "RNF44",
           0.16058419173676508
          ],
          [
           "MDH2",
           0.1635135796784387
          ],
          [
           "C5orf63",
           0.16431930610766576
          ],
          [
           "SPN",
           0.16579469830485338
          ],
          [
           "NAV1",
           0.16579469830485338
          ],
          [
           "SWI5",
           0.16579469830485338
          ],
          [
           "MLF2",
           0.1670029786018445
          ],
          [
           "LINC02363",
           0.1727981664244769
          ],
          [
           "SMIM12",
           0.1727981664244769
          ],
          [
           "RPL23A",
           0.1727981664244769
          ],
          [
           "ATAT1",
           0.17330831264334975
          ],
          [
           "TMEM214",
           0.17437794058201947
          ],
          [
           "CFAP298",
           0.1764041005424007
          ],
          [
           "METTL7A",
           0.18551126659585845
          ],
          [
           "DDA1",
           0.187266129555592
          ],
          [
           "NOLC1",
           0.1892308155296491
          ],
          [
           "ZNF674",
           0.18988448954941847
          ],
          [
           "ALKBH5",
           0.1928971153960546
          ],
          [
           "AP002761.2",
           0.19362458921984865
          ],
          [
           "NOP14",
           0.19639896020981018
          ],
          [
           "ZNF276",
           0.19743660758133152
          ],
          [
           "AUP1",
           0.19830739743197753
          ],
          [
           "RPLP0",
           0.20084449040064664
          ],
          [
           "ACAT1",
           0.20116321098250697
          ],
          [
           "RNFT2",
           0.20390599370608806
          ],
          [
           "DAZAP2",
           0.20536818502900298
          ],
          [
           "NDUFS5",
           0.20536818502900298
          ],
          [
           "FAAP100",
           0.20710067056288578
          ],
          [
           "ZC3H3",
           0.2133196832803629
          ],
          [
           "CROCC",
           0.21589957485130504
          ],
          [
           "ATP5F1D",
           0.21755461588892389
          ],
          [
           "FZR1",
           0.21787316147271418
          ],
          [
           "MT-CO2",
           0.22000749881092854
          ],
          [
           "PSMB10",
           0.2206453176004333
          ],
          [
           "MT-ND3",
           0.22330518564724483
          ],
          [
           "NOL6",
           0.22330518564724483
          ],
          [
           "UXT",
           0.22503951505434125
          ],
          [
           "RAD51D",
           0.22548844097433984
          ],
          [
           "DUSP11",
           0.23011836405103742
          ],
          [
           "CEP131",
           0.23072104266574947
          ],
          [
           "ARMC6",
           0.23181190429407098
          ],
          [
           "SLC9A3R1",
           0.23785976077135354
          ],
          [
           "WBP2",
           0.23785976077135354
          ],
          [
           "STMN1",
           0.23805621888461467
          ],
          [
           "FLT1",
           0.24055251387803794
          ],
          [
           "UQCRFS1",
           0.2518300545855667
          ],
          [
           "KIF9",
           0.25611274827169495
          ],
          [
           "SDF4",
           0.26003098978593364
          ],
          [
           "MT-ND4L",
           0.2639573484982613
          ],
          [
           "ATP5F1E",
           0.2688521183494469
          ],
          [
           "RPL7A",
           0.2759220550214478
          ],
          [
           "TGFBR3",
           0.283416647251537
          ],
          [
           "KAT8",
           0.28401135933780824
          ],
          [
           "NEDD4",
           0.28671803303154814
          ],
          [
           "LAMTOR1",
           0.28925554653891455
          ],
          [
           "TUFM",
           0.2902850061089802
          ],
          [
           "CENPF",
           0.2937041618969388
          ],
          [
           "ATP5MC1",
           0.2959853839394813
          ],
          [
           "ATP5PO",
           0.3157968694184625
          ],
          [
           "TAPT1-AS1",
           0.31685326631153843
          ],
          [
           "MYO3B",
           0.31747204414506225
          ],
          [
           "TM7SF2",
           0.3202155630313834
          ],
          [
           "ATOX1",
           0.32234177077929765
          ],
          [
           "PFDN5",
           0.32298707679961436
          ],
          [
           "SNX20",
           0.32659705744417494
          ],
          [
           "RRM2",
           0.32918607633443137
          ],
          [
           "RAI14",
           0.33131262148244817
          ],
          [
           "RFC2",
           0.33131262148244817
          ],
          [
           "HIST1H3J",
           0.33299438573009527
          ],
          [
           "AL138724.1",
           0.33299438573009527
          ],
          [
           "NIF3L1",
           0.3337404061166064
          ],
          [
           "LPAR2",
           0.3343573366307472
          ],
          [
           "WDR90",
           0.33825763712570217
          ],
          [
           "MTRNR2L12",
           0.3435964225672704
          ],
          [
           "LAMP2",
           0.3435964225672704
          ],
          [
           "MAPKAPK5-AS1",
           0.3518871802387894
          ],
          [
           "DDT",
           0.3535217038468729
          ],
          [
           "H3F3B",
           0.3536566745197923
          ],
          [
           "SNRPD2",
           0.35555533794950966
          ],
          [
           "TUBA1C",
           0.37204010848702
          ],
          [
           "CENPE",
           0.3733149758272556
          ],
          [
           "RPL10A",
           0.3733149758272556
          ],
          [
           "PCNA",
           0.3746332194136035
          ],
          [
           "PCLO",
           0.3768342652795391
          ],
          [
           "EIF4EBP2",
           0.38848186745283625
          ],
          [
           "WDR83",
           0.3985578125930704
          ],
          [
           "LIPE-AS1",
           0.40867619016540463
          ],
          [
           "CHAF1B",
           0.4123889199001566
          ],
          [
           "RPL6",
           0.4193993282092198
          ],
          [
           "ATP6V0C",
           0.4205455532561418
          ],
          [
           "COX6A1",
           0.4305561627050641
          ],
          [
           "AC106897.1",
           0.43362585881282606
          ],
          [
           "SLC25A21",
           0.4370073156798314
          ],
          [
           "NACA",
           0.4370073156798314
          ],
          [
           "RPL35A",
           0.44338997947407516
          ],
          [
           "MT-ND1",
           0.45679647458346995
          ],
          [
           "SLC25A30",
           0.45679647458346995
          ],
          [
           "AC005037.1",
           0.4611180618669268
          ],
          [
           "RPS3",
           0.46216165304649615
          ],
          [
           "AC007773.1",
           0.4688475781713183
          ],
          [
           "NELFE",
           0.4806614027640323
          ],
          [
           "TAPBPL",
           0.4824963498370699
          ],
          [
           "CYCS",
           0.4829149596982089
          ],
          [
           "VPS72",
           0.4895467559176847
          ],
          [
           "RFXANK",
           0.4914074749005576
          ],
          [
           "THG1L",
           0.5006233258422073
          ],
          [
           "ELOB",
           0.5017312790195659
          ],
          [
           "WDR1",
           0.5032814011958574
          ],
          [
           "ANXA5",
           0.5048991558246129
          ],
          [
           "HECW2",
           0.5048991558246129
          ],
          [
           "SLC25A5",
           0.5064403302242033
          ],
          [
           "ZNHIT1",
           0.5104468500481782
          ],
          [
           "LBH",
           0.5104468500481782
          ],
          [
           "TIMM17B",
           0.5139570631127084
          ],
          [
           "AC064834.1",
           0.532266145760596
          ],
          [
           "MAGED2",
           0.5364421457025202
          ],
          [
           "BOP1",
           0.5364421457025202
          ],
          [
           "GDPD1",
           0.5392578343645703
          ],
          [
           "TUSC2",
           0.5420370025820215
          ],
          [
           "GET3",
           0.5431190060100789
          ],
          [
           "FP236383.3",
           0.5508919575880646
          ],
          [
           "GJC1",
           0.5527241417684257
          ],
          [
           "CRIP1",
           0.5539668783131018
          ],
          [
           "UBXN11",
           0.5540046960646551
          ],
          [
           "PRDX5",
           0.5540046960646551
          ],
          [
           "SLC43A2",
           0.5540046960646551
          ],
          [
           "TOR1A",
           0.5562858640489228
          ],
          [
           "TUBGCP6",
           0.5580426369925403
          ],
          [
           "ABCF2",
           0.5625398248192227
          ],
          [
           "SH2B3",
           0.5626853770833912
          ],
          [
           "SOX5",
           0.5646282904048961
          ],
          [
           "LINC01355",
           0.5650429546950932
          ],
          [
           "BAX",
           0.5667485866831393
          ],
          [
           "ALDH6A1",
           0.5672874247289761
          ],
          [
           "LINC01619",
           0.5701960799541063
          ],
          [
           "EMC10",
           0.5714725075565948
          ],
          [
           "SARS2",
           0.5738805325317748
          ],
          [
           "MT-ND4",
           0.5768182752728066
          ],
          [
           "RBPJ",
           0.5917559060864362
          ],
          [
           "RHPN1",
           0.592763513655994
          ],
          [
           "ZNF250",
           0.6015687367791622
          ],
          [
           "GPATCH11",
           0.6186328589161676
          ],
          [
           "CDK2AP2",
           0.6248594887532021
          ],
          [
           "NBEAL2",
           0.6284735948610503
          ],
          [
           "COX6B1",
           0.6285755187454327
          ],
          [
           "PARP10",
           0.6297015604384933
          ],
          [
           "STN1",
           0.6347606170674114
          ],
          [
           "AAMDC",
           0.6347606170674114
          ],
          [
           "RAN",
           0.6408844018417398
          ],
          [
           "PLPBP",
           0.6535040620304036
          ],
          [
           "SLC26A6",
           0.6563660632749576
          ],
          [
           "MGRN1",
           0.6617621081710088
          ],
          [
           "ADRM1",
           0.6638541567122138
          ],
          [
           "KIF4A",
           0.664262991026191
          ],
          [
           "CD5L",
           0.6703081700505057
          ],
          [
           "UBL5",
           0.6703081700505057
          ],
          [
           "B4GALT6",
           0.6714343343817365
          ],
          [
           "SNIP1",
           0.6755081264879712
          ],
          [
           "NRXN1",
           0.6768337602547645
          ],
          [
           "FBL",
           0.6781089652155008
          ],
          [
           "LIX1L",
           0.6781089652155008
          ],
          [
           "USP19",
           0.6864370416319888
          ],
          [
           "POLL",
           0.6927868271812982
          ],
          [
           "DRAIC",
           0.6952876895937029
          ],
          [
           "GRIN2B",
           0.6956825308539938
          ],
          [
           "HIST1H1C",
           0.6988959072428432
          ],
          [
           "AP001462.1",
           0.6989825899666318
          ],
          [
           "PRDX1",
           0.7094505597798327
          ],
          [
           "NBPF20",
           0.7117917518574878
          ],
          [
           "AC005920.2",
           0.7121069046457051
          ],
          [
           "YIPF3",
           0.7140270824036691
          ],
          [
           "NDUFB7",
           0.7140270824036691
          ],
          [
           "AC027288.3",
           0.7140304655107588
          ],
          [
           "UQCR10",
           0.7182192626489377
          ],
          [
           "MICOS13",
           0.7207002146765583
          ],
          [
           "PBDC1",
           0.7208782939697709
          ],
          [
           "RBM22",
           0.7213813012064145
          ],
          [
           "JMJD8",
           0.7213813012064145
          ],
          [
           "PUF60",
           0.7245955802361403
          ],
          [
           "EIF3I",
           0.7245955802361403
          ],
          [
           "TOR4A",
           0.7255570941871027
          ],
          [
           "RPS10",
           0.7258673276583515
          ],
          [
           "FAM76A",
           0.7283052532212827
          ],
          [
           "MXRA7",
           0.7369686504073171
          ],
          [
           "MT-ND6",
           0.7401031202871714
          ],
          [
           "TIMM8A",
           0.750219860028588
          ],
          [
           "WARS",
           0.7567201120455006
          ],
          [
           "LAMB4",
           0.7575895860900086
          ],
          [
           "HSPA13",
           0.7592631540812375
          ],
          [
           "NDUFB3",
           0.76029458286421
          ],
          [
           "AL133523.1",
           0.7704784793070367
          ],
          [
           "ISG20L2",
           0.7786251803611404
          ],
          [
           "MICOS10",
           0.7862515667219795
          ],
          [
           "TNFSF4",
           0.7889716291913355
          ],
          [
           "GRN",
           0.791215433539883
          ],
          [
           "NDUFA3",
           0.791215433539883
          ],
          [
           "ERMAP",
           0.8166675142423888
          ],
          [
           "AC099778.1",
           0.8184872426230719
          ],
          [
           "FIGNL1",
           0.8186162239401147
          ],
          [
           "PIGV",
           0.8266872421181524
          ],
          [
           "ANXA6",
           0.8266872421181524
          ],
          [
           "NR4A2",
           0.8413237875552139
          ],
          [
           "CNPY4",
           0.8413237875552139
          ],
          [
           "MRPL58",
           0.8471112686671595
          ],
          [
           "SLC39A8",
           0.8471112686671595
          ],
          [
           "NUAK2",
           0.8471112686671595
          ],
          [
           "AC111006.1",
           0.8622531026054313
          ],
          [
           "SLC9B1",
           0.8641393554132428
          ],
          [
           "TBX21",
           0.8641393554132428
          ],
          [
           "BFSP2",
           0.8641393554132428
          ],
          [
           "IFT140",
           0.8787177335807206
          ],
          [
           "G6PD",
           0.8994606872716312
          ],
          [
           "FBXL2",
           0.9057472444718
          ],
          [
           "GPX7",
           0.9057472444718
          ],
          [
           "ERAL1",
           0.9063056932492074
          ],
          [
           "TRABD2A",
           0.9244150557883991
          ],
          [
           "H2AFZ",
           0.9263696818705205
          ],
          [
           "EYS",
           0.9355258669514067
          ],
          [
           "PLK4",
           0.9395671718178107
          ],
          [
           "RPL8",
           0.9403097646279088
          ],
          [
           "MRPL9",
           0.9437820436503713
          ],
          [
           "NDUFAF4",
           0.9437820436503713
          ],
          [
           "MCM10",
           0.9469196408071393
          ],
          [
           "RPL27",
           0.9513355208350686
          ],
          [
           "CERS3",
           0.954515706952435
          ],
          [
           "ICAM2",
           0.954515706952435
          ],
          [
           "C12orf66",
           0.9665883409189866
          ],
          [
           "CHCHD1",
           0.9695679790924485
          ],
          [
           "RPL36A",
           0.9754420155394741
          ],
          [
           "AC244033.2",
           0.9955290062068048
          ],
          [
           "MT-ATP8",
           0.9988064326409687
          ],
          [
           "COX7A2",
           1
          ],
          [
           "CCDC9",
           1
          ],
          [
           "CNBD2",
           1
          ],
          [
           "LAMTOR2",
           1
          ],
          [
           "LZTR1",
           1
          ],
          [
           "BBC3",
           1
          ],
          [
           "ISOC2",
           1
          ],
          [
           "CACNB2",
           1
          ],
          [
           "BCL2L12",
           1
          ],
          [
           "NR4A3",
           1
          ],
          [
           "CCDC159",
           1
          ],
          [
           "PLK1",
           1
          ],
          [
           "TRMT61A",
           1
          ],
          [
           "ARHGDIA",
           1
          ],
          [
           "F13A1",
           1
          ],
          [
           "AL160314.2",
           1
          ],
          [
           "RPS17",
           1
          ],
          [
           "SPINT1-AS1",
           1
          ],
          [
           "ZNF354B",
           1
          ],
          [
           "MED29",
           1
          ],
          [
           "CARD19",
           1
          ],
          [
           "DDX49",
           1
          ],
          [
           "PGAP3",
           1
          ],
          [
           "PRKAG2-AS1",
           1
          ],
          [
           "NDUFB9",
           1
          ],
          [
           "ACADSB",
           1
          ],
          [
           "UCK1",
           1
          ],
          [
           "ECHS1",
           1
          ],
          [
           "CKS1B",
           1
          ],
          [
           "COX14",
           1
          ],
          [
           "ZNF184",
           1
          ],
          [
           "NTAN1",
           1
          ],
          [
           "FCSK",
           1
          ],
          [
           "PAK6",
           1
          ],
          [
           "NAA80",
           1
          ],
          [
           "KLRK1",
           1
          ],
          [
           "AC011921.1",
           1
          ],
          [
           "NEO1",
           1
          ],
          [
           "PAXX",
           1
          ],
          [
           "FASTKD3",
           1
          ],
          [
           "BCL2L2",
           1
          ],
          [
           "TBC1D24",
           1
          ],
          [
           "GSTZ1",
           1
          ],
          [
           "TEX264",
           1
          ],
          [
           "MTFP1",
           1
          ],
          [
           "RNASEH2C",
           1
          ],
          [
           "GREB1L",
           1
          ],
          [
           "MRPL51",
           1
          ],
          [
           "RPL24",
           1
          ],
          [
           "AL121972.1",
           1
          ],
          [
           "RBM15B",
           1
          ],
          [
           "EXOSC5",
           1
          ],
          [
           "PYROXD2",
           1
          ],
          [
           "AC073320.1",
           1
          ],
          [
           "OSER1-DT",
           1
          ],
          [
           "EBF1",
           1
          ],
          [
           "RPL19",
           1
          ],
          [
           "ANK1",
           1
          ],
          [
           "NXT2",
           1
          ],
          [
           "LIN37",
           1
          ],
          [
           "MYO18A",
           1
          ],
          [
           "RORA",
           1
          ],
          [
           "BLOC1S1",
           1
          ],
          [
           "RTKN2",
           1
          ],
          [
           "NCAPH",
           1
          ],
          [
           "FP671120.4",
           1
          ],
          [
           "SEPTIN1",
           1
          ],
          [
           "NDUFA2",
           1
          ],
          [
           "IRAK2",
           1
          ],
          [
           "SH3BP5L",
           1
          ],
          [
           "B4GALT2",
           1
          ],
          [
           "RPUSD3",
           1
          ],
          [
           "RRAGA",
           1
          ],
          [
           "HCCS",
           1
          ],
          [
           "C19orf73",
           1
          ],
          [
           "TMEM223",
           1
          ],
          [
           "R3HCC1",
           1
          ],
          [
           "SPRY4-AS1",
           1
          ],
          [
           "TRAPPC2L",
           1
          ],
          [
           "LINC00653",
           1
          ],
          [
           "RPS27L",
           1
          ],
          [
           "C11orf21",
           1
          ],
          [
           "COA3",
           1
          ],
          [
           "IL12A-AS1",
           1
          ],
          [
           "RPS8",
           1
          ],
          [
           "RPL22",
           1
          ],
          [
           "NKIRAS1",
           1
          ],
          [
           "MS4A1",
           1
          ],
          [
           "CCDC34",
           1
          ],
          [
           "OCEL1",
           1
          ],
          [
           "RNF187",
           1
          ],
          [
           "EIF3F",
           1
          ],
          [
           "PAK1IP1",
           1
          ],
          [
           "RRP8",
           1
          ],
          [
           "MAIP1",
           1
          ],
          [
           "ADCY9",
           1
          ],
          [
           "AC008543.1",
           1
          ],
          [
           "ROBO2",
           1
          ],
          [
           "LIX1L-AS1",
           1
          ],
          [
           "AC020916.1",
           1
          ],
          [
           "RPSA",
           1
          ],
          [
           "GADD45GIP1",
           1
          ],
          [
           "LSM3",
           1
          ],
          [
           "C11orf1",
           1
          ],
          [
           "STK16",
           1
          ],
          [
           "ATG101",
           1
          ],
          [
           "GPR161",
           1
          ],
          [
           "PCIF1",
           1
          ],
          [
           "CENPM",
           1
          ],
          [
           "MDP1",
           1
          ],
          [
           "RNASEH2B-AS1",
           1
          ],
          [
           "CCL4",
           1
          ],
          [
           "LINC00893",
           1
          ],
          [
           "ERG28",
           1
          ],
          [
           "CDKN2AIPNL",
           1
          ],
          [
           "ETFB",
           1
          ],
          [
           "ATP5ME",
           1
          ],
          [
           "MTRNR2L8",
           1
          ],
          [
           "SLC2A6",
           1
          ],
          [
           "MLST8",
           1
          ],
          [
           "FAM153CP",
           1
          ],
          [
           "FAU",
           1
          ],
          [
           "S100A10",
           1
          ],
          [
           "DNPH1",
           1
          ],
          [
           "TXN2",
           1
          ],
          [
           "GON7",
           1
          ],
          [
           "AC011287.1",
           1
          ],
          [
           "APRT",
           1
          ],
          [
           "COX5B",
           1
          ],
          [
           "ZNF891",
           1
          ],
          [
           "TMPRSS6",
           1
          ],
          [
           "AC016074.2",
           1
          ],
          [
           "TPMT",
           1
          ],
          [
           "S100A4",
           1
          ],
          [
           "LINC01301",
           1
          ],
          [
           "APOLD1",
           1
          ],
          [
           "SIVA1",
           1
          ],
          [
           "RGS16",
           1
          ],
          [
           "HDGFL3",
           1
          ],
          [
           "MRPL15",
           1
          ],
          [
           "TIMP1",
           1
          ],
          [
           "MAK16",
           1
          ],
          [
           "FUNDC2",
           1
          ],
          [
           "RBFOX1",
           1
          ],
          [
           "LIN28B",
           1
          ],
          [
           "AP2S1",
           1
          ],
          [
           "LINC02470",
           1
          ],
          [
           "CSMD1",
           1
          ],
          [
           "HYAL2",
           1
          ],
          [
           "VEGFB",
           1
          ],
          [
           "LSR",
           1
          ],
          [
           "NDUFS3",
           1
          ],
          [
           "PTGR2",
           1
          ],
          [
           "AL020995.1",
           1
          ],
          [
           "POP4",
           1
          ],
          [
           "APEX2",
           1
          ],
          [
           "TRIM21",
           1
          ],
          [
           "EEF2",
           1
          ],
          [
           "OTUD1",
           1
          ],
          [
           "TEDC2",
           1
          ],
          [
           "AL157911.1",
           1
          ],
          [
           "RPS9",
           1
          ],
          [
           "PLD6",
           1
          ],
          [
           "CSRP1",
           1
          ],
          [
           "KBTBD4",
           1
          ],
          [
           "AC004816.1",
           1
          ],
          [
           "DNAJB1",
           1
          ],
          [
           "HJURP",
           1
          ],
          [
           "MCTP1",
           1
          ],
          [
           "SVIP",
           1
          ],
          [
           "TP53TG5",
           1
          ],
          [
           "RASSF8-AS1",
           1
          ],
          [
           "ZBTB11-AS1",
           1
          ],
          [
           "C3orf70",
           1
          ],
          [
           "LRRC8C-DT",
           1
          ],
          [
           "CDC20",
           1
          ],
          [
           "MECOM",
           1
          ],
          [
           "RPS6",
           1
          ],
          [
           "MRPL23",
           1
          ],
          [
           "LINC01208",
           1
          ],
          [
           "EEF1AKMT4",
           1
          ],
          [
           "MRPL43",
           1
          ],
          [
           "KPTN",
           1
          ],
          [
           "AL035458.2",
           1
          ],
          [
           "C19orf71",
           1
          ],
          [
           "SOD2",
           1
          ],
          [
           "ICMT",
           1
          ],
          [
           "CXADR",
           1
          ],
          [
           "AAMP",
           1
          ],
          [
           "ADCY5",
           1
          ],
          [
           "MPST",
           1
          ],
          [
           "ANGPTL6",
           1
          ],
          [
           "GRIK4",
           1
          ],
          [
           "MAD2L2",
           1
          ],
          [
           "EEF1G",
           1
          ],
          [
           "LRRC56",
           1
          ],
          [
           "UBC",
           1
          ],
          [
           "AC005786.3",
           1
          ],
          [
           "PAQR4",
           1
          ],
          [
           "AL139021.2",
           1
          ],
          [
           "SORBS1",
           1
          ],
          [
           "FXYD6",
           1
          ],
          [
           "GALE",
           1
          ],
          [
           "LINC00589",
           1
          ],
          [
           "WDR83OS",
           1
          ],
          [
           "MIEF2",
           1
          ],
          [
           "AC020913.1",
           1
          ],
          [
           "VIPR1",
           1
          ],
          [
           "PCGF1",
           1
          ],
          [
           "LINC02718",
           1
          ],
          [
           "TAFA1",
           1
          ],
          [
           "CFAP47",
           1
          ],
          [
           "GPC5",
           1
          ],
          [
           "ARHGEF39",
           1
          ],
          [
           "SF3B6",
           1
          ],
          [
           "SEC14L2",
           1
          ],
          [
           "INF2",
           1
          ],
          [
           "FN1",
           1
          ],
          [
           "RHEBL1",
           1
          ],
          [
           "LSAMP",
           1
          ],
          [
           "TYMS",
           1
          ],
          [
           "KCNN1",
           1
          ],
          [
           "MZT2A",
           1
          ],
          [
           "TEX30",
           1
          ],
          [
           "PRR7",
           1
          ],
          [
           "UBXN1",
           1
          ],
          [
           "NUDT15",
           1
          ],
          [
           "CFAP54",
           1
          ],
          [
           "ERICH6",
           1
          ],
          [
           "AC145285.2",
           1
          ],
          [
           "GEMIN4",
           1
          ],
          [
           "GRK7",
           1
          ],
          [
           "SFRP4",
           1
          ],
          [
           "DPH6-DT",
           1
          ],
          [
           "KLRD1",
           1
          ],
          [
           "LINC00348",
           1
          ],
          [
           "LDB2",
           1
          ],
          [
           "ZNF695",
           1
          ],
          [
           "AP000146.1",
           1
          ],
          [
           "FSTL5",
           1
          ],
          [
           "AL136456.1",
           1
          ],
          [
           "RAB15",
           1
          ],
          [
           "EPHA6",
           1
          ],
          [
           "MEIOC",
           1
          ],
          [
           "CCL4L2",
           1
          ],
          [
           "BMERB1",
           1
          ],
          [
           "NPAS1",
           1
          ],
          [
           "DCC",
           1
          ],
          [
           "AC010642.2",
           1
          ],
          [
           "PACRG",
           1
          ],
          [
           "CDH18",
           1
          ],
          [
           "PSME2",
           1
          ],
          [
           "B9D2",
           1
          ],
          [
           "SHC4",
           1
          ],
          [
           "SNAI3-AS1",
           1
          ],
          [
           "SPATA24",
           1
          ],
          [
           "CCDC115",
           1
          ],
          [
           "BAG3",
           1
          ],
          [
           "RIMS1",
           1
          ],
          [
           "ALG1",
           1
          ],
          [
           "AC026333.4",
           1
          ],
          [
           "MAP7D1",
           1
          ],
          [
           "KIZ-AS1",
           1
          ],
          [
           "ADAMTS3",
           1
          ],
          [
           "AC232271.1",
           1
          ],
          [
           "PARD3",
           1
          ],
          [
           "RUSC1",
           1
          ],
          [
           "AL591368.1",
           1
          ],
          [
           "AC004917.1",
           1
          ],
          [
           "CCDC183",
           1
          ],
          [
           "AL022068.1",
           1
          ],
          [
           "CCDC102B",
           1
          ],
          [
           "RBMS3-AS3",
           1
          ],
          [
           "NKAIN2",
           1
          ],
          [
           "SLC5A10",
           1
          ],
          [
           "AL356488.2",
           1
          ],
          [
           "ECT2L",
           1
          ],
          [
           "FGFRL1",
           1
          ],
          [
           "SPTBN4",
           1
          ],
          [
           "THSD4",
           1
          ],
          [
           "LMTK3",
           1
          ],
          [
           "LFNG",
           1
          ],
          [
           "DLL3",
           1
          ],
          [
           "NOTCH4",
           1
          ],
          [
           "SPC24",
           1
          ],
          [
           "PCK2",
           1
          ],
          [
           "AC078923.1",
           1
          ],
          [
           "ERBB4",
           1
          ],
          [
           "AC090921.1",
           1
          ],
          [
           "PPM1K-DT",
           1
          ],
          [
           "LINC01353",
           1
          ],
          [
           "CALM3",
           1
          ],
          [
           "RHBDL3",
           1
          ],
          [
           "KCND2",
           1
          ],
          [
           "COL26A1",
           1
          ],
          [
           "RPL29",
           1
          ],
          [
           "DGKB",
           1
          ],
          [
           "HECTD3",
           1
          ],
          [
           "CTHRC1",
           1
          ],
          [
           "GNG4",
           1
          ],
          [
           "AC093577.1",
           1
          ],
          [
           "SURF2",
           1
          ],
          [
           "AL357507.1",
           1
          ],
          [
           "PYCARD",
           1
          ],
          [
           "GPC6",
           1
          ],
          [
           "IFNG-AS1",
           1
          ],
          [
           "CTH",
           1
          ],
          [
           "ADM5",
           1
          ],
          [
           "PKD1L1",
           1
          ],
          [
           "ZNF175",
           1
          ],
          [
           "THAP9-AS1",
           1
          ],
          [
           "FGF14",
           1
          ],
          [
           "RALYL",
           1
          ],
          [
           "SEZ6L2",
           1
          ],
          [
           "MT-CO3",
           1
          ],
          [
           "AC084816.1",
           1
          ],
          [
           "ACRBP",
           1
          ],
          [
           "TBC1D4",
           1
          ],
          [
           "PCBD1",
           1
          ],
          [
           "CNTN5",
           1
          ],
          [
           "COL1A2",
           1
          ],
          [
           "CRTAM",
           1
          ],
          [
           "AC106739.1",
           1
          ],
          [
           "AC016907.2",
           1
          ],
          [
           "PDP1",
           1
          ],
          [
           "AC110611.1",
           1
          ],
          [
           "TEX14",
           1
          ],
          [
           "HIST1H4C",
           1
          ],
          [
           "HGH1",
           1
          ],
          [
           "B4GALNT3",
           1
          ],
          [
           "LAG3",
           1
          ],
          [
           "TMEM145",
           1
          ],
          [
           "GSG1L",
           1
          ],
          [
           "NOTCH3",
           1
          ],
          [
           "ADGRV1",
           1
          ],
          [
           "CKMT2",
           1
          ],
          [
           "HIST1H2BH",
           1
          ],
          [
           "CCDC187",
           1
          ],
          [
           "ZFX-AS1",
           1
          ],
          [
           "ZMYND10",
           1
          ],
          [
           "ZNF20",
           1
          ],
          [
           "RXRA",
           1
          ],
          [
           "MANEAL",
           1
          ],
          [
           "CRYBB1",
           1
          ],
          [
           "ANKS1B",
           1
          ],
          [
           "MARCH2",
           1
          ],
          [
           "MIXL1",
           1
          ],
          [
           "AC026803.3",
           1
          ],
          [
           "LRRC31",
           1
          ],
          [
           "AC079742.1",
           1
          ],
          [
           "HECW1",
           1
          ],
          [
           "DNAH9",
           1
          ],
          [
           "TSPO",
           1
          ],
          [
           "AC099063.4",
           1
          ],
          [
           "RHCE",
           1
          ],
          [
           "Z96074.1",
           1
          ],
          [
           "PREB",
           1
          ],
          [
           "IFI35",
           1
          ],
          [
           "LRRC4B",
           1
          ],
          [
           "AP000692.2",
           1
          ],
          [
           "PDE11A",
           1
          ],
          [
           "RPL7",
           1
          ],
          [
           "DUSP28",
           1
          ],
          [
           "AC011477.9",
           1
          ],
          [
           "ME3",
           1
          ],
          [
           "CACNA1B",
           1
          ],
          [
           "CFAP58",
           1
          ],
          [
           "AC114689.3",
           1
          ],
          [
           "EFR3B",
           1
          ],
          [
           "CD9",
           1
          ],
          [
           "KCTD16",
           1
          ],
          [
           "AC019131.1",
           1
          ],
          [
           "COL6A2",
           1
          ],
          [
           "PRKG1",
           1
          ],
          [
           "TMEM238",
           1
          ],
          [
           "ANO3",
           1
          ],
          [
           "CACNA1E",
           1
          ],
          [
           "TRIM7",
           1
          ],
          [
           "CUX2",
           1
          ],
          [
           "AKAP5",
           1
          ],
          [
           "CCDC178",
           1
          ],
          [
           "PPP1R36",
           1
          ],
          [
           "LINC02775",
           1
          ],
          [
           "DMXL2",
           1
          ],
          [
           "TTC3-AS1",
           1
          ],
          [
           "RPL18",
           1
          ],
          [
           "TEAD3",
           1
          ],
          [
           "AL031073.2",
           1
          ],
          [
           "ABI3BP",
           1
          ],
          [
           "AC008079.1",
           1
          ],
          [
           "TRIM45",
           1
          ],
          [
           "CAP2",
           1
          ],
          [
           "AC016042.1",
           1
          ],
          [
           "RGPD2",
           1
          ],
          [
           "GRIA1",
           1
          ],
          [
           "LINC00535",
           1
          ],
          [
           "COX16",
           1
          ],
          [
           "C5orf47",
           1
          ],
          [
           "GRM1",
           1
          ],
          [
           "AC009137.1",
           1
          ],
          [
           "EFNA5",
           1
          ],
          [
           "C4orf48",
           1
          ],
          [
           "STEAP2-AS1",
           1
          ],
          [
           "TBX10",
           1
          ],
          [
           "TENM3-AS1",
           1
          ],
          [
           "LINC00511",
           1
          ],
          [
           "AC023794.1",
           1
          ],
          [
           "AC093462.1",
           1
          ],
          [
           "HORMAD2-AS1",
           1
          ],
          [
           "AC096570.1",
           1
          ],
          [
           "AGBL1",
           1
          ],
          [
           "AC093330.1",
           1
          ],
          [
           "AC007390.2",
           1
          ],
          [
           "SLC10A1",
           1
          ],
          [
           "HIST1H1E",
           1
          ],
          [
           "NCAM1",
           1
          ],
          [
           "AC112206.2",
           1
          ],
          [
           "MAF1",
           1
          ],
          [
           "PPP1R12A-AS1",
           1
          ],
          [
           "DVL2",
           1
          ],
          [
           "AC092422.1",
           1
          ],
          [
           "SMAGP",
           1
          ],
          [
           "HSD17B6",
           1
          ],
          [
           "GXYLT2",
           1
          ],
          [
           "DPP10",
           1
          ],
          [
           "TFAP4",
           1
          ],
          [
           "SCAT1",
           1
          ],
          [
           "COL3A1",
           1
          ],
          [
           "LINC01198",
           1
          ],
          [
           "ZNF649-AS1",
           1
          ],
          [
           "GP1BB",
           1
          ],
          [
           "NRXN2",
           1
          ],
          [
           "COL5A3",
           1
          ],
          [
           "ESPN",
           1
          ],
          [
           "AC233296.1",
           1
          ],
          [
           "IKZF2",
           1
          ],
          [
           "INTS5",
           1
          ],
          [
           "OPCML",
           1
          ],
          [
           "KCNK10",
           1
          ],
          [
           "AC243829.2",
           1
          ],
          [
           "LINC00824",
           1
          ],
          [
           "AL356295.1",
           1
          ],
          [
           "AL157762.1",
           1
          ],
          [
           "REEP1",
           1
          ],
          [
           "UNC13C",
           1
          ],
          [
           "AC008571.2",
           1
          ],
          [
           "AC010255.3",
           1
          ],
          [
           "AC007099.1",
           1
          ],
          [
           "TMEM132D",
           1
          ],
          [
           "AC093865.1",
           1
          ],
          [
           "DNAH17",
           1
          ],
          [
           "HIST1H3B",
           1
          ],
          [
           "AC008696.2",
           1
          ],
          [
           "AC007220.1",
           1
          ],
          [
           "AL355336.1",
           1
          ],
          [
           "IGHEP2",
           1
          ],
          [
           "LINC01991",
           1
          ],
          [
           "THBS1",
           1
          ],
          [
           "AC023469.1",
           1
          ],
          [
           "AC138028.1",
           1
          ],
          [
           "NRGN",
           1
          ],
          [
           "UPK2",
           1
          ],
          [
           "COL22A1",
           1
          ],
          [
           "CHSY3",
           1
          ],
          [
           "VGLL3",
           1
          ],
          [
           "CLIC3",
           1
          ],
          [
           "C12orf56",
           1
          ],
          [
           "KCNG2",
           1
          ],
          [
           "AC073114.1",
           1
          ],
          [
           "COL1A1",
           1
          ],
          [
           "AL161421.1",
           1
          ],
          [
           "ABI3",
           1
          ],
          [
           "TNKS1BP1",
           1
          ],
          [
           "NRIP2",
           1
          ],
          [
           "EVA1C",
           1
          ],
          [
           "NR2F2-AS1",
           1
          ],
          [
           "PRKAR2A-AS1",
           1
          ],
          [
           "LINC02306",
           1
          ],
          [
           "DNER",
           1
          ],
          [
           "GRM7-AS3",
           1
          ],
          [
           "AC010761.3",
           1
          ],
          [
           "AL133467.1",
           1
          ],
          [
           "AC011472.1",
           1
          ],
          [
           "SLC7A14",
           1
          ],
          [
           "ZNF683",
           1
          ],
          [
           "MALRD1",
           1
          ],
          [
           "IL12RB2",
           1
          ],
          [
           "CDH4",
           1
          ],
          [
           "FBXL7",
           1
          ],
          [
           "VWF",
           1
          ],
          [
           "FCN1",
           1
          ],
          [
           "FAM227A",
           1
          ],
          [
           "AC069281.1",
           1
          ],
          [
           "TAS1R1",
           1
          ],
          [
           "PAPPA",
           1
          ],
          [
           "CEMIP",
           1
          ],
          [
           "THSD4-AS1",
           1
          ],
          [
           "C8orf34",
           1
          ],
          [
           "AC004704.1",
           1
          ],
          [
           "SEMA6D",
           1
          ],
          [
           "AC093817.2",
           1
          ],
          [
           "LINC02076",
           1
          ],
          [
           "AC005091.1",
           1
          ],
          [
           "PALM",
           1
          ],
          [
           "FUT7",
           1
          ],
          [
           "LRRC2",
           1
          ],
          [
           "NRG4",
           1
          ],
          [
           "HIST1H2BK",
           1
          ],
          [
           "WIPF3",
           1
          ],
          [
           "DCN",
           1
          ],
          [
           "AC079804.3",
           1
          ],
          [
           "GLYATL2",
           1
          ],
          [
           "AL136040.2",
           1
          ],
          [
           "AL356807.1",
           1
          ],
          [
           "AJUBA",
           1
          ],
          [
           "SAMD11",
           1
          ],
          [
           "AC092666.1",
           1
          ],
          [
           "APCDD1",
           1
          ],
          [
           "TFPI",
           1
          ],
          [
           "AL024498.1",
           1
          ],
          [
           "AC009975.1",
           1
          ],
          [
           "AC005746.2",
           1
          ],
          [
           "EAF1-AS1",
           1
          ],
          [
           "CCDC83",
           1
          ],
          [
           "PKP3",
           1
          ],
          [
           "AC012409.2",
           1
          ],
          [
           "SEZ6L",
           1
          ],
          [
           "HAPLN3",
           1
          ],
          [
           "SLC26A3",
           1
          ],
          [
           "AL157400.3",
           1
          ],
          [
           "AC117386.2",
           1
          ],
          [
           "AC112484.3",
           1
          ],
          [
           "AC092849.1",
           1
          ],
          [
           "AC064807.4",
           1
          ],
          [
           "AC011586.2",
           1
          ],
          [
           "LY6G5C",
           1
          ],
          [
           "AC009292.2",
           1
          ],
          [
           "UCKL1-AS1",
           1
          ],
          [
           "GALNT16",
           1
          ],
          [
           "TLCD2",
           1
          ],
          [
           "MMP16",
           1
          ],
          [
           "TMC2",
           1
          ],
          [
           "PVALEF",
           1
          ],
          [
           "EFHC2",
           1
          ],
          [
           "PARVA",
           1
          ],
          [
           "ZNF541",
           1
          ],
          [
           "AL157395.1",
           1
          ],
          [
           "LINC02428",
           1
          ],
          [
           "SYT14",
           1
          ],
          [
           "OVCH1-AS1",
           1
          ],
          [
           "RPS20",
           1
          ],
          [
           "GFER",
           1
          ],
          [
           "LINC01924",
           1
          ],
          [
           "AL139274.2",
           1
          ],
          [
           "AC061708.1",
           1
          ],
          [
           "KAZALD1",
           1
          ],
          [
           "XIRP2",
           1
          ],
          [
           "ACKR2",
           1
          ],
          [
           "PLOD2",
           1
          ],
          [
           "ECE2",
           1
          ],
          [
           "GLI3",
           1
          ],
          [
           "PLXDC1",
           1
          ],
          [
           "AC073842.1",
           1
          ],
          [
           "COL21A1",
           1
          ],
          [
           "CACNA1I",
           1
          ],
          [
           "PPP1R1C",
           1
          ],
          [
           "SYN2",
           1
          ],
          [
           "GFRA1",
           1
          ],
          [
           "AL110292.1",
           1
          ],
          [
           "EMX2OS",
           1
          ],
          [
           "AC013472.3",
           1
          ],
          [
           "TEX26-AS1",
           1
          ],
          [
           "DPYSL5",
           1
          ],
          [
           "CCN4",
           1
          ],
          [
           "VWA7",
           1
          ],
          [
           "ZNF503-AS1",
           1
          ],
          [
           "SYT16",
           1
          ],
          [
           "SLC16A10",
           1
          ],
          [
           "GPM6B",
           1
          ],
          [
           "TRPV3",
           1
          ],
          [
           "LINC02147",
           1
          ],
          [
           "AL035401.1",
           1
          ],
          [
           "PCDH11Y",
           1
          ],
          [
           "U91328.2",
           1
          ],
          [
           "NEGR1",
           1
          ],
          [
           "PANO1",
           1
          ],
          [
           "KCNIP4",
           1
          ],
          [
           "FLNC-AS1",
           1
          ],
          [
           "LINC02742",
           1
          ],
          [
           "GSEC",
           1
          ],
          [
           "LINGO1",
           1
          ],
          [
           "ACD",
           1
          ],
          [
           "AC005104.3",
           1
          ],
          [
           "AC011995.2",
           1
          ],
          [
           "ELFN1",
           1
          ],
          [
           "NXPH1",
           1
          ],
          [
           "LINC01607",
           1
          ],
          [
           "AC004921.2",
           1
          ],
          [
           "CT70",
           1
          ],
          [
           "AC008751.3",
           1
          ],
          [
           "ACAN",
           1
          ],
          [
           "AL590483.1",
           1
          ],
          [
           "TTLL6",
           1
          ],
          [
           "AC092364.1",
           1
          ],
          [
           "RAB3A",
           1
          ],
          [
           "FRMD6-AS2",
           1
          ],
          [
           "AC011474.1",
           1
          ],
          [
           "LINC00448",
           1
          ],
          [
           "NECTIN3-AS1",
           1
          ],
          [
           "SALL2",
           1
          ],
          [
           "TUBA1A",
           1
          ],
          [
           "AC019118.2",
           1
          ],
          [
           "CDKN3",
           1
          ],
          [
           "ZNF341-AS1",
           1
          ],
          [
           "ADGRB3",
           1
          ],
          [
           "CDH13",
           1
          ],
          [
           "AL157886.1",
           1
          ],
          [
           "HIST1H2AH",
           1
          ],
          [
           "ANKRD30B",
           1
          ],
          [
           "MEIOB",
           1
          ],
          [
           "AC004908.3",
           1
          ],
          [
           "AC239799.2",
           1
          ],
          [
           "TRGC2",
           1
          ],
          [
           "LINC01162",
           1
          ],
          [
           "SULF1",
           1
          ],
          [
           "AC072028.1",
           1
          ],
          [
           "HYKK",
           1
          ],
          [
           "CFAP97D2",
           1
          ],
          [
           "EYA1",
           1
          ],
          [
           "LINC01348",
           1
          ],
          [
           "TLL1",
           1
          ],
          [
           "LRRC26",
           1
          ],
          [
           "AC078962.2",
           1
          ],
          [
           "LINC02388",
           1
          ],
          [
           "LINC01492",
           1
          ],
          [
           "LINC02326",
           1
          ],
          [
           "TTC39A-AS1",
           1
          ],
          [
           "FKBP6",
           1
          ],
          [
           "AC024559.2",
           1
          ],
          [
           "PTGER3",
           1
          ],
          [
           "GCM1",
           1
          ],
          [
           "GDF5",
           1
          ],
          [
           "AL137100.3",
           1
          ],
          [
           "EBF2",
           1
          ],
          [
           "TAFA5",
           1
          ],
          [
           "WASF3",
           1
          ],
          [
           "AC005229.5",
           1
          ],
          [
           "CNTN1",
           1
          ],
          [
           "GDF9",
           1
          ],
          [
           "GPRC5A",
           1
          ],
          [
           "AC040963.1",
           1
          ],
          [
           "AC010230.1",
           1
          ],
          [
           "LRRC38",
           1
          ],
          [
           "HMGB3",
           1
          ],
          [
           "AL136114.1",
           1
          ],
          [
           "AC023509.3",
           1
          ],
          [
           "FGF13",
           1
          ],
          [
           "LINC00871",
           1
          ],
          [
           "MALINC1",
           1
          ],
          [
           "PTPN14",
           1
          ],
          [
           "ITGA6",
           1
          ],
          [
           "AL355306.2",
           1
          ],
          [
           "LINC02814",
           1
          ],
          [
           "SVOPL",
           1
          ],
          [
           "CLTRN",
           1
          ],
          [
           "SYCP2L",
           1
          ],
          [
           "FFAR2",
           1
          ],
          [
           "RIT2",
           1
          ],
          [
           "TLL2",
           1
          ],
          [
           "AP001122.1",
           1
          ],
          [
           "KLRC1",
           1
          ],
          [
           "LINC02479",
           1
          ],
          [
           "TARID",
           1
          ],
          [
           "AC015878.1",
           1
          ],
          [
           "ID2-AS1",
           1
          ],
          [
           "UNC80",
           1
          ],
          [
           "LINC01890",
           1
          ],
          [
           "AL158154.3",
           1
          ],
          [
           "RNF180",
           1
          ],
          [
           "AC093607.1",
           1
          ],
          [
           "KLHL7-DT",
           1
          ],
          [
           "GML",
           1
          ],
          [
           "NCKAP5",
           1
          ],
          [
           "CSMD3",
           1
          ],
          [
           "AP001605.1",
           1
          ],
          [
           "PDGFRL",
           1
          ],
          [
           "AC004702.1",
           1
          ],
          [
           "AC098818.2",
           1
          ],
          [
           "AC137579.1",
           1
          ],
          [
           "LOXHD1",
           1
          ],
          [
           "SLCO6A1",
           1
          ],
          [
           "CALR3",
           1
          ],
          [
           "LIFR-AS1",
           1
          ],
          [
           "SCEL",
           1
          ],
          [
           "UBE2U",
           1
          ],
          [
           "HIST2H4B",
           1
          ],
          [
           "ELOVL2",
           1
          ],
          [
           "AL008730.1",
           1
          ],
          [
           "AC007091.1",
           1
          ],
          [
           "CAMK2A",
           1
          ],
          [
           "AC092110.1",
           1
          ],
          [
           "AC006064.5",
           1
          ],
          [
           "WNT1",
           1
          ],
          [
           "XKR7",
           1
          ],
          [
           "AL162253.1",
           1
          ],
          [
           "AC092490.2",
           1
          ],
          [
           "AC144836.1",
           1
          ],
          [
           "TNFRSF8",
           1
          ],
          [
           "AC007319.1",
           1
          ],
          [
           "LINC00299",
           1
          ],
          [
           "AL031658.1",
           1
          ],
          [
           "TMEM237",
           1
          ],
          [
           "ZNF521",
           1
          ],
          [
           "SAMMSON",
           1
          ],
          [
           "LINC02288",
           1
          ],
          [
           "FBXO27",
           1
          ],
          [
           "FAM9B",
           1
          ],
          [
           "NCAN",
           1
          ],
          [
           "FMO1",
           1
          ],
          [
           "AC023830.1",
           1
          ],
          [
           "SCNN1B",
           1
          ],
          [
           "LINC02389",
           1
          ],
          [
           "AC021504.1",
           1
          ],
          [
           "AL034550.2",
           1
          ],
          [
           "SIRLNT",
           1
          ],
          [
           "SEPTIN9-DT",
           1
          ],
          [
           "ST8SIA6-AS1",
           1
          ],
          [
           "CDH11",
           1
          ],
          [
           "AC005005.4",
           1
          ],
          [
           "RPP38-DT",
           1
          ],
          [
           "ATP12A",
           1
          ],
          [
           "AC069287.2",
           1
          ],
          [
           "AC016542.1",
           1
          ],
          [
           "CASC9",
           1
          ],
          [
           "ANXA3",
           1
          ],
          [
           "SPAAR",
           1
          ],
          [
           "LINC01744",
           1
          ],
          [
           "LMX1A",
           1
          ],
          [
           "LINC02141",
           1
          ],
          [
           "AC021393.1",
           1
          ],
          [
           "AC107959.2",
           1
          ],
          [
           "LINC02327",
           1
          ],
          [
           "SYCP1",
           1
          ],
          [
           "CCR9",
           1
          ],
          [
           "AL359632.1",
           1
          ],
          [
           "HIST1H2BB",
           1
          ],
          [
           "GSG1L2",
           1
          ],
          [
           "CBLC",
           1
          ],
          [
           "AC104024.1",
           1
          ],
          [
           "AL606923.2",
           1
          ],
          [
           "AL049795.2",
           1
          ],
          [
           "LINC02228",
           1
          ],
          [
           "AC035140.1",
           1
          ],
          [
           "EPS8L1",
           1
          ],
          [
           "DENND6B",
           1
          ],
          [
           "LINC02069",
           1
          ],
          [
           "SLC35E4",
           1
          ],
          [
           "TIMP3",
           1
          ],
          [
           "AC013565.1",
           1
          ],
          [
           "C8orf58",
           1
          ],
          [
           "LINC01192",
           1
          ],
          [
           "KCNIP1",
           1
          ],
          [
           "MZT2B",
           1
          ],
          [
           "ZNHIT2",
           1
          ],
          [
           "BRICD5",
           1
          ],
          [
           "AL353768.2",
           1
          ],
          [
           "PRDM16",
           1
          ],
          [
           "AC006197.2",
           1
          ],
          [
           "C15orf39",
           1
          ],
          [
           "TMPRSS12",
           1
          ],
          [
           "CRTAC1",
           1
          ],
          [
           "EMILIN1",
           1
          ],
          [
           "DACH2",
           1
          ],
          [
           "CT69",
           1
          ],
          [
           "LINC02789",
           1
          ],
          [
           "RPS15",
           1
          ],
          [
           "AC022182.2",
           1
          ],
          [
           "AC007448.5",
           1
          ],
          [
           "AL160396.2",
           1
          ],
          [
           "LINC00635",
           1
          ],
          [
           "CHRM2",
           1
          ],
          [
           "FAM71E1",
           1
          ],
          [
           "DPPA2",
           1
          ],
          [
           "LINC02206",
           1
          ],
          [
           "TMPRSS7",
           1
          ],
          [
           "NDUFA4L2",
           1
          ],
          [
           "AC073934.1",
           1
          ],
          [
           "UNC5A",
           1
          ],
          [
           "AL358134.1",
           1
          ],
          [
           "LRRC74B",
           1
          ],
          [
           "AC007529.2",
           1
          ],
          [
           "LINC02669",
           1
          ],
          [
           "BEGAIN",
           1
          ],
          [
           "AF111167.1",
           1
          ],
          [
           "AC005540.1",
           1
          ],
          [
           "AC091100.1",
           1
          ],
          [
           "DAAM2",
           1
          ],
          [
           "BSN-DT",
           1
          ],
          [
           "AC104758.5",
           1
          ],
          [
           "AL035670.1",
           1
          ],
          [
           "LINC02074",
           1
          ],
          [
           "CCDC13-AS1",
           1
          ],
          [
           "PABPN1L",
           1
          ],
          [
           "LINC01942",
           1
          ],
          [
           "GJB1",
           1
          ],
          [
           "DRD2",
           1
          ],
          [
           "AC092078.2",
           1
          ],
          [
           "AL158064.1",
           1
          ],
          [
           "CYP3A43",
           1
          ],
          [
           "CAPN13",
           1
          ],
          [
           "LINC02498",
           1
          ],
          [
           "AC104590.1",
           1
          ],
          [
           "MAP1A",
           1
          ],
          [
           "PPP1R14B-AS1",
           1
          ],
          [
           "AC005546.1",
           1
          ],
          [
           "CDH10",
           1
          ],
          [
           "MOGAT2",
           1
          ],
          [
           "TSKU",
           1
          ],
          [
           "AC106744.1",
           1
          ],
          [
           "AC138761.1",
           1
          ],
          [
           "AC010677.2",
           1
          ],
          [
           "LINC00384",
           1
          ],
          [
           "AC067838.1",
           1
          ],
          [
           "LINC00351",
           1
          ],
          [
           "LINC02740",
           1
          ],
          [
           "AC097713.1",
           1
          ],
          [
           "NMNAT2",
           1
          ],
          [
           "CACNA2D1",
           1
          ],
          [
           "CDHR1",
           1
          ],
          [
           "LINC00865",
           1
          ],
          [
           "RND1",
           1
          ],
          [
           "BICC1",
           1
          ],
          [
           "HEXA-AS1",
           1
          ],
          [
           "AC092802.1",
           1
          ],
          [
           "IGHJ6",
           1
          ],
          [
           "TCF7",
           1
          ],
          [
           "AL009176.1",
           1
          ],
          [
           "AC018845.1",
           1
          ],
          [
           "AL023803.1",
           1
          ],
          [
           "HOPX",
           1
          ],
          [
           "CFTR",
           1
          ],
          [
           "MRPL53",
           1
          ],
          [
           "SPAG7",
           1
          ],
          [
           "DCLK3",
           1
          ],
          [
           "FREM3",
           1
          ],
          [
           "TEX15",
           1
          ],
          [
           "AL358335.2",
           1
          ],
          [
           "SCARA5",
           1
          ],
          [
           "SLC13A5",
           1
          ],
          [
           "LINC02577",
           1
          ],
          [
           "AC084361.1",
           1
          ],
          [
           "CYP27C1",
           1
          ],
          [
           "LINC02466",
           1
          ],
          [
           "MORN5",
           1
          ],
          [
           "AL590640.1",
           1
          ],
          [
           "DSCAS",
           1
          ],
          [
           "WDR72",
           1
          ],
          [
           "WNT2",
           1
          ],
          [
           "SCGB1B2P",
           1
          ],
          [
           "AC139722.1",
           1
          ],
          [
           "RSPO4",
           1
          ],
          [
           "AL121899.3",
           1
          ],
          [
           "CHRNA9",
           1
          ],
          [
           "LINC02204",
           1
          ],
          [
           "AL513220.1",
           1
          ],
          [
           "ITCH-AS1",
           1
          ],
          [
           "AC005682.2",
           1
          ],
          [
           "CEACAM5",
           1
          ],
          [
           "AL158211.1",
           1
          ],
          [
           "AL357140.4",
           1
          ],
          [
           "AC004852.2",
           1
          ],
          [
           "C1orf185",
           1
          ],
          [
           "AF127577.3",
           1
          ],
          [
           "AC018695.4",
           1
          ],
          [
           "CD300LB",
           1
          ],
          [
           "AC093635.1",
           1
          ],
          [
           "FAM182B",
           1
          ],
          [
           "LINC02005",
           1
          ],
          [
           "AP001994.2",
           1
          ],
          [
           "LINC01951",
           1
          ],
          [
           "AC123768.4",
           1
          ],
          [
           "AL050338.2",
           1
          ],
          [
           "LINC01947",
           1
          ],
          [
           "PAX6",
           1
          ],
          [
           "AC022217.2",
           1
          ],
          [
           "LINC02540",
           1
          ],
          [
           "GRIA2",
           1
          ],
          [
           "PRIMA1",
           1
          ],
          [
           "PROSER2-AS1",
           1
          ],
          [
           "AC015845.1",
           1
          ],
          [
           "ITPRIP-AS1",
           1
          ],
          [
           "LINC01525",
           1
          ],
          [
           "LINC01288",
           1
          ],
          [
           "KIF19",
           1
          ],
          [
           "AC104304.3",
           1
          ],
          [
           "ACSS3",
           1
          ],
          [
           "AC004949.1",
           1
          ],
          [
           "PDE3A",
           1
          ],
          [
           "PPP1R32",
           1
          ],
          [
           "AC104664.1",
           1
          ],
          [
           "AL591506.1",
           1
          ],
          [
           "HAS2-AS1",
           1
          ],
          [
           "SLC1A1",
           1
          ],
          [
           "BARX2",
           1
          ],
          [
           "ADGRG1",
           1
          ],
          [
           "VAT1",
           1
          ],
          [
           "BNC2",
           1
          ],
          [
           "GFPT2",
           1
          ],
          [
           "CDH7",
           1
          ],
          [
           "ZFHX4-AS1",
           1
          ],
          [
           "AP000845.1",
           1
          ],
          [
           "PIK3C2G",
           1
          ],
          [
           "CACNG2",
           1
          ],
          [
           "CTCFL",
           1
          ],
          [
           "AC018730.1",
           1
          ],
          [
           "CDH22",
           1
          ],
          [
           "AL137077.2",
           1
          ],
          [
           "OLFML1",
           1
          ],
          [
           "AL353803.2",
           1
          ],
          [
           "CR382287.2",
           1
          ],
          [
           "AC009387.1",
           1
          ],
          [
           "AP002518.2",
           1
          ],
          [
           "RARRES2",
           1
          ],
          [
           "KREMEN1",
           1
          ],
          [
           "LINC02497",
           1
          ],
          [
           "LINC02505",
           1
          ],
          [
           "AC004946.1",
           1
          ],
          [
           "HTR2A",
           1
          ],
          [
           "LINC02438",
           1
          ],
          [
           "PKP4-AS1",
           1
          ],
          [
           "GABRG1",
           1
          ],
          [
           "ST8SIA2",
           1
          ],
          [
           "AC092979.2",
           1
          ],
          [
           "AC131235.2",
           1
          ],
          [
           "LINC00433",
           1
          ],
          [
           "FJX1",
           1
          ],
          [
           "PAMR1",
           1
          ],
          [
           "DAOA-AS1",
           1
          ],
          [
           "AC079848.2",
           1
          ],
          [
           "CALB1",
           1
          ],
          [
           "AC080112.4",
           1
          ],
          [
           "AC009411.2",
           1
          ],
          [
           "PIH1D3",
           1
          ],
          [
           "AC067930.1",
           1
          ],
          [
           "AL162713.2",
           1
          ],
          [
           "ZNF25-DT",
           1
          ],
          [
           "AC005089.1",
           1
          ],
          [
           "TECRL",
           1
          ],
          [
           "KITLG",
           1
          ],
          [
           "ODF4",
           1
          ],
          [
           "ADRA1B",
           1
          ],
          [
           "AC011363.1",
           1
          ],
          [
           "AC113167.1",
           1
          ],
          [
           "AC011389.1",
           1
          ],
          [
           "AL357552.2",
           1
          ],
          [
           "LINC01035",
           1
          ],
          [
           "TRIM31-AS1",
           1
          ],
          [
           "TMEM211",
           1
          ],
          [
           "FOXN4",
           1
          ],
          [
           "NANOGNB",
           1
          ],
          [
           "SLC1A6",
           1
          ],
          [
           "CLPSL1",
           1
          ],
          [
           "AL138826.1",
           1
          ],
          [
           "AC104819.3",
           1
          ],
          [
           "BMP5",
           1
          ],
          [
           "COL16A1",
           1
          ],
          [
           "AC006483.2",
           1
          ],
          [
           "AC073941.1",
           1
          ],
          [
           "CRYAB",
           1
          ],
          [
           "SH3GL3",
           1
          ],
          [
           "AP000813.1",
           1
          ],
          [
           "CCDC89",
           1
          ],
          [
           "AC018755.1",
           1
          ],
          [
           "SERPINB11",
           1
          ],
          [
           "LINC01446",
           1
          ],
          [
           "CTRB1",
           1
          ],
          [
           "AL109829.1",
           1
          ],
          [
           "BEST3",
           1
          ],
          [
           "SPHKAP",
           1
          ],
          [
           "AL157938.4",
           1
          ],
          [
           "PAX3",
           1
          ],
          [
           "GCSAML",
           1
          ],
          [
           "AC127459.2",
           1
          ],
          [
           "GCSIR",
           1
          ],
          [
           "FAM181A-AS1",
           1
          ],
          [
           "AL357079.2",
           1
          ],
          [
           "GPC3",
           1
          ],
          [
           "AC061958.1",
           1
          ],
          [
           "EFEMP2",
           1
          ],
          [
           "LINC02541",
           1
          ],
          [
           "SBK1",
           1
          ],
          [
           "FUOM",
           1
          ],
          [
           "AC104088.1",
           1
          ],
          [
           "AC008474.1",
           1
          ],
          [
           "CCDC85A",
           1
          ],
          [
           "AL096677.1",
           1
          ],
          [
           "AC079296.1",
           1
          ],
          [
           "SNCAIP",
           1
          ],
          [
           "MYOZ2",
           1
          ],
          [
           "LINC01339",
           1
          ],
          [
           "HNF4G",
           1
          ],
          [
           "SH3PXD2A-AS1",
           1
          ],
          [
           "POU2F3",
           1
          ],
          [
           "SLC22A10",
           1
          ],
          [
           "CNMD",
           1
          ],
          [
           "NLRP9",
           1
          ],
          [
           "KIF17",
           1
          ],
          [
           "WDR87",
           1
          ],
          [
           "BRDT",
           1
          ],
          [
           "TEKT4",
           1
          ],
          [
           "SEPTIN12",
           1
          ],
          [
           "CDH19",
           1
          ],
          [
           "HRC",
           1
          ],
          [
           "GAD2",
           1
          ],
          [
           "AL157829.1",
           1
          ],
          [
           "ASB4",
           1
          ],
          [
           "COMP",
           1
          ],
          [
           "AC018467.1",
           1
          ],
          [
           "AC005740.5",
           1
          ],
          [
           "APBA2",
           1
          ],
          [
           "AL136419.3",
           1
          ],
          [
           "MAP1S",
           1
          ],
          [
           "AC242988.2",
           1
          ],
          [
           "LINC01471",
           1
          ],
          [
           "LINC01304",
           1
          ],
          [
           "AC016813.1",
           1
          ],
          [
           "EDN3",
           1
          ],
          [
           "AC060765.1",
           1
          ],
          [
           "AC079584.1",
           1
          ],
          [
           "SLC13A1",
           1
          ],
          [
           "AL139379.1",
           1
          ],
          [
           "AC083906.3",
           1
          ],
          [
           "AL391056.1",
           1
          ],
          [
           "AC123777.1",
           1
          ],
          [
           "LINC02209",
           1
          ],
          [
           "AC131210.1",
           1
          ],
          [
           "AC073336.1",
           1
          ],
          [
           "AC074011.1",
           1
          ],
          [
           "SYT13",
           1
          ],
          [
           "CCDC148-AS1",
           1
          ],
          [
           "AC021573.1",
           1
          ],
          [
           "AQP8",
           1
          ],
          [
           "FOLH1",
           1
          ],
          [
           "FCN3",
           1
          ],
          [
           "FGFR3",
           1
          ],
          [
           "GLYAT",
           1
          ],
          [
           "AC091806.1",
           1
          ],
          [
           "AC124017.1",
           1
          ],
          [
           "AC005100.1",
           1
          ],
          [
           "PASD1",
           1
          ],
          [
           "ZNF716",
           1
          ],
          [
           "AC091912.3",
           1
          ],
          [
           "CFAP65",
           1
          ],
          [
           "AC016576.1",
           1
          ],
          [
           "AC106821.2",
           1
          ],
          [
           "AC020718.1",
           1
          ],
          [
           "ATP1B2",
           1
          ],
          [
           "AC008766.1",
           1
          ],
          [
           "SCGN",
           1
          ],
          [
           "AC010931.2",
           1
          ],
          [
           "AC016642.1",
           1
          ],
          [
           "AC008147.1",
           1
          ],
          [
           "AC113391.1",
           1
          ],
          [
           "AC106798.1",
           1
          ],
          [
           "Z93241.1",
           1
          ],
          [
           "AC008429.1",
           1
          ],
          [
           "LINC02096",
           1
          ],
          [
           "FMO2",
           1
          ],
          [
           "MUC22",
           1
          ],
          [
           "LINC01720",
           1
          ],
          [
           "FIGLA",
           1
          ],
          [
           "AP003392.3",
           1
          ],
          [
           "PGLYRP4",
           1
          ],
          [
           "AP001922.1",
           1
          ],
          [
           "DMRTC2",
           1
          ],
          [
           "KLF17",
           1
          ],
          [
           "AC025576.3",
           1
          ],
          [
           "AC007128.2",
           1
          ],
          [
           "LINC02359",
           1
          ],
          [
           "SIM1",
           1
          ],
          [
           "AL158168.1",
           1
          ],
          [
           "AC092720.1",
           1
          ],
          [
           "AP001993.1",
           1
          ],
          [
           "AL445465.1",
           1
          ],
          [
           "AC096772.1",
           1
          ],
          [
           "AC090607.1",
           1
          ],
          [
           "AC008592.4",
           1
          ],
          [
           "SUSD2",
           1
          ],
          [
           "AC015522.1",
           1
          ],
          [
           "AC244102.4",
           1
          ],
          [
           "KRT27",
           1
          ],
          [
           "AC108134.4",
           1
          ],
          [
           "LINC02834",
           1
          ],
          [
           "AC063977.6",
           1
          ],
          [
           "AC026471.3",
           1
          ],
          [
           "LURAP1L-AS1",
           1
          ],
          [
           "AL589678.1",
           1
          ],
          [
           "AL353626.1",
           1
          ],
          [
           "HEYL",
           1
          ],
          [
           "AC243965.2",
           1
          ],
          [
           "AC096861.2",
           1
          ],
          [
           "AL133485.3",
           1
          ],
          [
           "AC012213.1",
           1
          ],
          [
           "AL049828.2",
           1
          ],
          [
           "CTXN1",
           1
          ],
          [
           "IGLON5",
           1
          ],
          [
           "SUN5",
           1
          ],
          [
           "AC074286.1",
           1
          ],
          [
           "RAD21-AS1",
           1
          ],
          [
           "SGCD",
           1
          ],
          [
           "PROS1",
           1
          ],
          [
           "ADGRG2",
           1
          ],
          [
           "NWD1",
           1
          ],
          [
           "LINC02008",
           1
          ],
          [
           "STUM",
           1
          ],
          [
           "PID1",
           1
          ],
          [
           "AL162493.1",
           1
          ],
          [
           "RPGRIP1",
           1
          ],
          [
           "AC138305.1",
           1
          ],
          [
           "CNTN6",
           1
          ],
          [
           "FCER2",
           1
          ],
          [
           "AL356608.3",
           1
          ],
          [
           "AC010883.3",
           1
          ],
          [
           "LINC01579",
           1
          ],
          [
           "TMEM98",
           1
          ],
          [
           "GABRA6",
           1
          ],
          [
           "CHL1-AS2",
           1
          ],
          [
           "ARHGAP29-AS1",
           1
          ],
          [
           "AC019257.1",
           1
          ],
          [
           "EEF1A2",
           1
          ],
          [
           "CCR3",
           1
          ],
          [
           "LINC01915",
           1
          ],
          [
           "AL161910.1",
           1
          ],
          [
           "TTC29",
           1
          ],
          [
           "LINC02594",
           1
          ],
          [
           "SRARP",
           1
          ],
          [
           "AC068875.1",
           1
          ],
          [
           "PAQR9-AS1",
           1
          ],
          [
           "CPLX3",
           1
          ],
          [
           "AL050344.1",
           1
          ],
          [
           "AC097521.1",
           1
          ],
          [
           "CELF2-DT",
           1
          ],
          [
           "HEY2",
           1
          ],
          [
           "AC117480.1",
           1
          ],
          [
           "ERFE",
           1
          ],
          [
           "AC096588.1",
           1
          ],
          [
           "OR9Q1",
           1
          ],
          [
           "RPS18",
           1
          ],
          [
           "NELL1",
           1
          ],
          [
           "LRP1B",
           1
          ],
          [
           "AC109441.1",
           1
          ],
          [
           "G6PC",
           1
          ],
          [
           "AC004485.1",
           1
          ],
          [
           "LINC02553",
           1
          ],
          [
           "AC108721.2",
           1
          ],
          [
           "AC107072.2",
           1
          ],
          [
           "AC010883.2",
           1
          ],
          [
           "AL136985.1",
           1
          ],
          [
           "TPO",
           1
          ],
          [
           "AC003043.1",
           1
          ],
          [
           "AC025437.4",
           1
          ],
          [
           "AC093426.1",
           1
          ],
          [
           "LINC01363",
           1
          ],
          [
           "TMEM246-AS1",
           1
          ],
          [
           "AL390800.1",
           1
          ],
          [
           "AL109910.2",
           1
          ],
          [
           "AC068787.5",
           1
          ],
          [
           "AL109653.3",
           1
          ],
          [
           "LINC02405",
           1
          ],
          [
           "TYR",
           1
          ],
          [
           "LINC02570",
           1
          ],
          [
           "TBC1D26",
           1
          ],
          [
           "FOXN1",
           1
          ],
          [
           "AC021683.2",
           1
          ],
          [
           "KIF1A",
           1
          ],
          [
           "KDR",
           1
          ],
          [
           "MINAR2",
           1
          ],
          [
           "AC003984.1",
           1
          ],
          [
           "AC073218.1",
           1
          ],
          [
           "AL831711.1",
           1
          ],
          [
           "AC127894.1",
           1
          ],
          [
           "APOBEC3B-AS1",
           1
          ],
          [
           "LINC02610",
           1
          ],
          [
           "PSG1",
           1
          ],
          [
           "SMIM33",
           1
          ],
          [
           "AC092448.1",
           1
          ],
          [
           "AC004943.3",
           1
          ],
          [
           "AC012499.1",
           1
          ],
          [
           "LINC01449",
           1
          ],
          [
           "MFAP2",
           1
          ],
          [
           "AQP1",
           1
          ],
          [
           "AC122688.2",
           1
          ],
          [
           "AC027449.1",
           1
          ],
          [
           "AC026433.1",
           1
          ],
          [
           "KRTDAP",
           1
          ],
          [
           "LINC00581",
           1
          ],
          [
           "AC108105.1",
           1
          ],
          [
           "AC009509.2",
           1
          ],
          [
           "PNLIP",
           1
          ],
          [
           "CHIA",
           1
          ],
          [
           "AC016245.2",
           1
          ],
          [
           "AC080079.2",
           1
          ],
          [
           "HIST1H2BI",
           1
          ],
          [
           "AL445123.2",
           1
          ],
          [
           "AC131649.1",
           1
          ],
          [
           "ANKS4B",
           1
          ],
          [
           "LINC02218",
           1
          ],
          [
           "AC108868.1",
           1
          ],
          [
           "AC053503.1",
           1
          ],
          [
           "FAM240B",
           1
          ],
          [
           "ST6GAL2",
           1
          ],
          [
           "MUCL3",
           1
          ],
          [
           "AL031767.2",
           1
          ],
          [
           "LINC01103",
           1
          ],
          [
           "AC016721.1",
           1
          ],
          [
           "MANCR",
           1
          ],
          [
           "FAM110D",
           1
          ],
          [
           "SLC5A8",
           1
          ],
          [
           "AL050338.1",
           1
          ],
          [
           "AC048338.2",
           1
          ],
          [
           "AL136366.1",
           1
          ],
          [
           "LINC01497",
           1
          ],
          [
           "MYZAP",
           1
          ],
          [
           "AC008780.1",
           1
          ],
          [
           "CASC6",
           1
          ],
          [
           "LINC02712",
           1
          ],
          [
           "AC008937.1",
           1
          ],
          [
           "ELAVL2",
           1
          ],
          [
           "ACSM2B",
           1
          ],
          [
           "AC012404.1",
           1
          ],
          [
           "AP002856.2",
           1
          ],
          [
           "AL023495.1",
           1
          ],
          [
           "LINC02743",
           1
          ],
          [
           "LINC00368",
           1
          ],
          [
           "AP003100.2",
           1
          ],
          [
           "AC099671.1",
           1
          ],
          [
           "AC090587.2",
           1
          ],
          [
           "AC011005.1",
           1
          ],
          [
           "AC141586.3",
           1
          ],
          [
           "OPN4",
           1
          ],
          [
           "AP001029.1",
           1
          ],
          [
           "AC022710.1",
           1
          ],
          [
           "AP001109.1",
           1
          ],
          [
           "BMX",
           1
          ],
          [
           "AC015908.3",
           1
          ],
          [
           "TMCO5A",
           1
          ],
          [
           "AC130469.1",
           1
          ],
          [
           "AL359555.1",
           1
          ],
          [
           "KRT20",
           1
          ],
          [
           "LINC02699",
           1
          ],
          [
           "LINC01282",
           1
          ],
          [
           "VWA5B2",
           1
          ],
          [
           "AC010624.5",
           1
          ],
          [
           "FGL1",
           1
          ],
          [
           "TSIX",
           1
          ],
          [
           "AC015911.2",
           1
          ],
          [
           "SPATA25",
           1
          ],
          [
           "LDLRAD1",
           1
          ],
          [
           "AC018552.2",
           1
          ],
          [
           "TRBV21-1",
           1
          ],
          [
           "SPINT4",
           1
          ],
          [
           "AC093606.1",
           1
          ],
          [
           "CITED1",
           1
          ],
          [
           "HIST2H3D",
           1
          ],
          [
           "TRPM5",
           1
          ],
          [
           "AC087269.3",
           1
          ],
          [
           "GRM7-AS1",
           1
          ],
          [
           "STRIT1",
           1
          ],
          [
           "AC104451.2",
           1
          ],
          [
           "BOK",
           1
          ],
          [
           "EDA2R",
           1
          ],
          [
           "AC108690.1",
           1
          ],
          [
           "CRB1",
           1
          ],
          [
           "AL357500.1",
           1
          ],
          [
           "AL117329.1",
           1
          ],
          [
           "LINC00970",
           1
          ],
          [
           "BRINP3",
           1
          ],
          [
           "SLC6A4",
           1
          ],
          [
           "AC064875.1",
           1
          ],
          [
           "LINC02456",
           1
          ],
          [
           "LINC00309",
           1
          ],
          [
           "TSPAN8",
           1
          ],
          [
           "AC128685.1",
           1
          ],
          [
           "LTV1",
           1
          ],
          [
           "COL11A1",
           1
          ],
          [
           "CLIC6",
           1
          ],
          [
           "AC112481.2",
           1
          ],
          [
           "CD2BP2-DT",
           1
          ],
          [
           "AP000695.2",
           1
          ],
          [
           "AC099753.1",
           1
          ],
          [
           "LRRC3B",
           1
          ],
          [
           "MAG",
           1
          ],
          [
           "SLC17A8",
           1
          ],
          [
           "AL390791.1",
           1
          ],
          [
           "CYS1",
           1
          ],
          [
           "AC005828.3",
           1
          ],
          [
           "GABRG2",
           1
          ],
          [
           "NYNRIN",
           1
          ],
          [
           "C1orf167",
           1
          ],
          [
           "PANTR1",
           1
          ],
          [
           "CIB3",
           1
          ],
          [
           "NANOG",
           1
          ],
          [
           "OVCH1",
           1
          ],
          [
           "MXRA5",
           1
          ],
          [
           "CARD10",
           1
          ],
          [
           "NLRP5",
           1
          ],
          [
           "AC026167.1",
           1
          ],
          [
           "AC096746.1",
           1
          ],
          [
           "AC012358.1",
           1
          ],
          [
           "AC092338.1",
           1
          ],
          [
           "ANGPTL5",
           1
          ],
          [
           "TSGA10IP",
           1
          ],
          [
           "AC062004.1",
           1
          ],
          [
           "MS4A13",
           1
          ],
          [
           "NOXO1",
           1
          ],
          [
           "AL161449.2",
           1
          ],
          [
           "LINC01104",
           1
          ],
          [
           "AKAP6",
           1
          ],
          [
           "LINC02321",
           1
          ],
          [
           "LINC01632",
           1
          ],
          [
           "AF131216.4",
           1
          ],
          [
           "AL121721.1",
           1
          ],
          [
           "CASC18",
           1
          ],
          [
           "OR4E2",
           1
          ],
          [
           "AC008805.2",
           1
          ],
          [
           "INPP5J",
           1
          ],
          [
           "LINC01864",
           1
          ],
          [
           "AC106772.1",
           1
          ],
          [
           "AL662873.1",
           1
          ],
          [
           "TRIM15",
           1
          ],
          [
           "LINC01080",
           1
          ],
          [
           "WFDC5",
           1
          ],
          [
           "AC110772.1",
           1
          ],
          [
           "KCNJ16",
           1
          ],
          [
           "FOXD4L5",
           1
          ],
          [
           "HTR3C",
           1
          ],
          [
           "CDKN1C",
           1
          ],
          [
           "AC079226.1",
           1
          ],
          [
           "SIGLECL1",
           1
          ],
          [
           "AL391650.2",
           1
          ],
          [
           "AC093799.1",
           1
          ],
          [
           "AC004801.3",
           1
          ],
          [
           "METTL21C",
           1
          ],
          [
           "PTHLH",
           1
          ],
          [
           "ERVK-28",
           1
          ],
          [
           "LINC01938",
           1
          ],
          [
           "DLG3-AS1",
           1
          ],
          [
           "AC103794.1",
           1
          ],
          [
           "AC073172.1",
           1
          ],
          [
           "AC123912.2",
           1
          ],
          [
           "MYO16-AS1",
           1
          ],
          [
           "SLC6A2",
           1
          ],
          [
           "LINC00839",
           1
          ],
          [
           "AC108860.2",
           1
          ],
          [
           "HEY1",
           1
          ],
          [
           "LINC02624",
           1
          ],
          [
           "FP325335.1",
           1
          ],
          [
           "DSG3",
           1
          ],
          [
           "DSC1",
           1
          ],
          [
           "IGHV1-69",
           1
          ],
          [
           "AC244517.2",
           1
          ],
          [
           "PCDHA9",
           1
          ],
          [
           "AC093334.1",
           1
          ],
          [
           "C1orf232",
           1
          ],
          [
           "LINC02442",
           1
          ],
          [
           "AC010834.3",
           1
          ],
          [
           "AC246680.1",
           1
          ],
          [
           "GPR139",
           1
          ],
          [
           "AC055716.3",
           1
          ],
          [
           "LINC00269",
           1
          ],
          [
           "HCN4",
           1
          ],
          [
           "AC005606.1",
           1
          ],
          [
           "ACKR1",
           1
          ],
          [
           "C8orf86",
           1
          ],
          [
           "AL008719.1",
           1
          ],
          [
           "AC008067.1",
           1
          ],
          [
           "GPX8",
           1
          ],
          [
           "AC005597.1",
           1
          ],
          [
           "H3F3C",
           1
          ],
          [
           "AC087588.3",
           1
          ],
          [
           "TFAP2A-AS2",
           1
          ],
          [
           "AC022634.2",
           1
          ],
          [
           "SLC6A5",
           1
          ],
          [
           "AC025470.2",
           1
          ],
          [
           "FOXCUT",
           1
          ],
          [
           "HOXB5",
           1
          ],
          [
           "OTOP2",
           1
          ],
          [
           "AC106795.5",
           1
          ],
          [
           "AC007786.1",
           1
          ],
          [
           "LINC02065",
           1
          ],
          [
           "AC026904.1",
           1
          ],
          [
           "SLC17A6",
           1
          ],
          [
           "AC100839.2",
           1
          ],
          [
           "AC103957.1",
           1
          ],
          [
           "PGC",
           1
          ],
          [
           "AC084768.1",
           1
          ],
          [
           "AL034548.1",
           1
          ],
          [
           "DCX",
           1
          ],
          [
           "SLC34A2",
           1
          ],
          [
           "AP003400.1",
           1
          ],
          [
           "SOD3",
           1
          ],
          [
           "PPARGC1A",
           1
          ],
          [
           "LINC02713",
           1
          ],
          [
           "AC004946.2",
           1
          ],
          [
           "AL645507.1",
           1
          ],
          [
           "CLCA2",
           1
          ],
          [
           "VSTM1",
           1
          ],
          [
           "LINC01222",
           1
          ],
          [
           "SLN",
           1
          ],
          [
           "BNC1",
           1
          ],
          [
           "PLS3-AS1",
           1
          ],
          [
           "AC069114.1",
           1
          ],
          [
           "TEX26",
           1
          ],
          [
           "HSPB2",
           1
          ],
          [
           "LINC02469",
           1
          ],
          [
           "AC012325.1",
           1
          ],
          [
           "TMEM121B",
           1
          ],
          [
           "AP000345.1",
           1
          ],
          [
           "LINC02393",
           1
          ],
          [
           "AC008759.2",
           1
          ],
          [
           "ACE2",
           1
          ],
          [
           "MUC5B",
           1
          ],
          [
           "CCDC158",
           1
          ],
          [
           "AC003035.2",
           1
          ],
          [
           "ADAMTS5",
           1
          ],
          [
           "LINC02429",
           1
          ],
          [
           "AL096828.3",
           1
          ],
          [
           "AC018731.1",
           1
          ],
          [
           "DEFB129",
           1
          ],
          [
           "NWD2",
           1
          ],
          [
           "CACNG6",
           1
          ],
          [
           "AC093422.2",
           1
          ],
          [
           "H2BFM",
           1
          ],
          [
           "AC012485.2",
           1
          ],
          [
           "FP236383.5",
           1
          ],
          [
           "PSG2",
           1
          ],
          [
           "AC017076.1",
           1
          ],
          [
           "NXF3",
           1
          ],
          [
           "AC005914.1",
           1
          ],
          [
           "TRIM67",
           1
          ],
          [
           "AC123784.1",
           1
          ],
          [
           "AP001117.1",
           1
          ],
          [
           "B4GALNT4",
           1
          ],
          [
           "AC007106.1",
           1
          ],
          [
           "UGT2A1",
           1
          ],
          [
           "AC092059.1",
           1
          ],
          [
           "IGFBP3",
           1
          ],
          [
           "AC099563.2",
           1
          ],
          [
           "LINC01541",
           1
          ],
          [
           "LINC01354",
           1
          ],
          [
           "AP000757.1",
           1
          ],
          [
           "AC092127.2",
           1
          ],
          [
           "HIST3H3",
           1
          ],
          [
           "TRBJ1-5",
           1
          ],
          [
           "HEPN1",
           1
          ],
          [
           "AC093766.1",
           1
          ],
          [
           "TBX18",
           1
          ],
          [
           "LINC00703",
           1
          ],
          [
           "TPBG",
           1
          ],
          [
           "NOBOX",
           1
          ],
          [
           "AC093796.1",
           1
          ],
          [
           "C11orf45",
           1
          ],
          [
           "ITGB6",
           1
          ],
          [
           "LINC02013",
           1
          ],
          [
           "AP004606.1",
           1
          ],
          [
           "AC116003.1",
           1
          ],
          [
           "MAB21L2",
           1
          ],
          [
           "FAM83B",
           1
          ],
          [
           "AC011465.1",
           1
          ],
          [
           "EQTN",
           1
          ],
          [
           "AL353138.1",
           1
          ],
          [
           "AC092431.1",
           1
          ],
          [
           "LINC01899",
           1
          ],
          [
           "DPP10-AS3",
           1
          ],
          [
           "ATP4A",
           1
          ],
          [
           "LINC02169",
           1
          ],
          [
           "APOA2",
           1
          ],
          [
           "CYP4F11",
           1
          ],
          [
           "LINC00331",
           1
          ],
          [
           "AC008278.2",
           1
          ],
          [
           "RCC2-AS1",
           1
          ],
          [
           "AC233701.1",
           1
          ],
          [
           "TUBB8P12",
           1
          ],
          [
           "MTRNR2L6",
           1
          ],
          [
           "AC090348.1",
           1
          ],
          [
           "AC068254.1",
           1
          ],
          [
           "CFHR2",
           1
          ],
          [
           "TRBV2",
           1
          ],
          [
           "AC022535.1",
           1
          ],
          [
           "AC011446.1",
           1
          ],
          [
           "CALHM5",
           1
          ],
          [
           "AC245100.6",
           1
          ],
          [
           "AL390964.1",
           1
          ],
          [
           "AL138916.2",
           1
          ],
          [
           "TSPYL6",
           1
          ],
          [
           "AC079380.1",
           1
          ],
          [
           "AC023824.3",
           1
          ],
          [
           "PLEKHA5",
           1
          ],
          [
           "IL9R",
           1
          ],
          [
           "UROD",
           1
          ],
          [
           "RNF212B",
           1
          ],
          [
           "ZBTB8B",
           1
          ],
          [
           "MYBPC2",
           1
          ],
          [
           "AC104035.1",
           1
          ],
          [
           "GNA14-AS1",
           1
          ],
          [
           "MMP20",
           1
          ],
          [
           "AL603832.1",
           1
          ],
          [
           "LINC02109",
           1
          ],
          [
           "LINC00609",
           1
          ],
          [
           "CRAT",
           1
          ],
          [
           "AC087863.2",
           1
          ],
          [
           "LINC01239",
           1
          ],
          [
           "COL6A5",
           1
          ],
          [
           "AC023194.3",
           1
          ],
          [
           "AC240565.2",
           1
          ],
          [
           "GTSE1-DT",
           1
          ],
          [
           "AC016730.1",
           1
          ],
          [
           "INSYN2A",
           1
          ],
          [
           "LINC01856",
           1
          ],
          [
           "LINC01732",
           1
          ],
          [
           "LIPN",
           1
          ],
          [
           "LINC00440",
           1
          ],
          [
           "AL589669.1",
           1
          ],
          [
           "AC115622.1",
           1
          ],
          [
           "STBD1",
           1
          ],
          [
           "GJA3",
           1
          ],
          [
           "ACTN1-AS1",
           1
          ],
          [
           "AC110285.3",
           1
          ],
          [
           "LNCOC1",
           1
          ],
          [
           "ERVH48-1",
           1
          ],
          [
           "LINC01676",
           1
          ],
          [
           "AZU1",
           1
          ],
          [
           "CNFN",
           1
          ],
          [
           "ADGRD2",
           1
          ],
          [
           "SIX4",
           1
          ],
          [
           "PNMT",
           1
          ],
          [
           "AC010834.2",
           1
          ],
          [
           "CNTNAP2",
           1
          ],
          [
           "AC020658.2",
           1
          ],
          [
           "IL20",
           1
          ],
          [
           "AC079177.1",
           1
          ],
          [
           "AC073314.1",
           1
          ],
          [
           "AC015468.3",
           1
          ],
          [
           "AP000777.1",
           1
          ],
          [
           "AC008060.1",
           1
          ],
          [
           "AC245519.1",
           1
          ],
          [
           "AC018437.3",
           1
          ],
          [
           "AC023403.1",
           1
          ],
          [
           "LINC00374",
           1
          ],
          [
           "APOBEC3B",
           1
          ],
          [
           "C1orf116",
           1
          ],
          [
           "PAGE1",
           1
          ],
          [
           "TRBJ2-7",
           1
          ],
          [
           "GJA5",
           1
          ],
          [
           "AP002414.5",
           1
          ],
          [
           "AC069439.2",
           1
          ],
          [
           "SI",
           1
          ],
          [
           "AF106564.1",
           1
          ],
          [
           "TSPAN18-AS1",
           1
          ],
          [
           "AC022929.1",
           1
          ],
          [
           "AC023442.3",
           1
          ],
          [
           "LINC01360",
           1
          ],
          [
           "CAMK1G",
           1
          ],
          [
           "AC120498.6",
           1
          ],
          [
           "WNT8A",
           1
          ],
          [
           "FLNC",
           1
          ],
          [
           "AKR1B15",
           1
          ],
          [
           "LINC00366",
           1
          ],
          [
           "TBXT",
           1
          ],
          [
           "AC068418.2",
           1
          ],
          [
           "AC188616.1",
           1
          ],
          [
           "CYP2A13",
           1
          ],
          [
           "AC015688.6",
           1
          ],
          [
           "AC008543.4",
           1
          ],
          [
           "BMP3",
           1
          ],
          [
           "FGF5",
           1
          ],
          [
           "AP001630.1",
           1
          ],
          [
           "MMP10",
           1
          ],
          [
           "AP001547.1",
           1
          ],
          [
           "CEACAM3",
           1
          ],
          [
           "AC239584.1",
           1
          ],
          [
           "AC138625.2",
           1
          ],
          [
           "AC009055.2",
           1
          ],
          [
           "FZD9",
           1
          ],
          [
           "GPR61",
           1
          ],
          [
           "PSG6",
           1
          ],
          [
           "AC093725.2",
           1
          ],
          [
           "AP002336.3",
           1
          ],
          [
           "AC096586.2",
           1
          ],
          [
           "LINC01254",
           1
          ],
          [
           "GATA5",
           1
          ],
          [
           "HTR1D",
           1
          ],
          [
           "LINC02852",
           1
          ],
          [
           "AC105398.1",
           1
          ],
          [
           "SLC22A12",
           1
          ],
          [
           "USH1G",
           1
          ],
          [
           "AL354760.1",
           1
          ],
          [
           "AC016885.2",
           1
          ],
          [
           "AC009869.1",
           1
          ],
          [
           "AC004817.2",
           1
          ],
          [
           "AL392023.1",
           1
          ],
          [
           "AVP",
           1
          ],
          [
           "PPP3R2",
           1
          ],
          [
           "AL670729.1",
           1
          ],
          [
           "AL451140.1",
           1
          ],
          [
           "CR936218.1",
           1
          ],
          [
           "AL161908.1",
           1
          ],
          [
           "LINC02164",
           1
          ],
          [
           "ZSCAN4",
           1
          ],
          [
           "AL355073.1",
           1
          ],
          [
           "AL157396.1",
           1
          ],
          [
           "LINC01570",
           1
          ],
          [
           "SCNN1G",
           1
          ],
          [
           "AL122008.4",
           1
          ],
          [
           "HSD17B3-AS1",
           1
          ],
          [
           "RAB17",
           1
          ],
          [
           "AC020922.4",
           1
          ],
          [
           "AKR1C1",
           1
          ],
          [
           "LINC02676",
           1
          ],
          [
           "C10orf53",
           1
          ],
          [
           "AC007244.1",
           1
          ],
          [
           "AC068946.3",
           1
          ],
          [
           "LINC01894",
           1
          ],
          [
           "AL133368.2",
           1
          ],
          [
           "SATB2-AS1",
           1
          ],
          [
           "LINC02634",
           1
          ],
          [
           "GJD4",
           1
          ],
          [
           "SERPINA11",
           1
          ],
          [
           "TMEM158",
           1
          ],
          [
           "AC093520.1",
           1
          ],
          [
           "AC087379.1",
           1
          ],
          [
           "TCEAL2",
           1
          ],
          [
           "OR2D3",
           1
          ],
          [
           "AL590302.2",
           1
          ],
          [
           "AC026341.3",
           1
          ],
          [
           "OR56A1",
           1
          ],
          [
           "FAM83C",
           1
          ],
          [
           "RNASE2",
           1
          ],
          [
           "AP000428.1",
           1
          ],
          [
           "OR51E1",
           1
          ],
          [
           "KRT24",
           1
          ],
          [
           "AC106738.1",
           1
          ],
          [
           "AC051649.1",
           1
          ],
          [
           "AC110741.1",
           1
          ],
          [
           "AP006621.2",
           1
          ],
          [
           "MCEMP1",
           1
          ],
          [
           "GGTLC1",
           1
          ],
          [
           "AC083841.1",
           1
          ],
          [
           "LRATD1",
           1
          ],
          [
           "RHPN1-AS1",
           1
          ],
          [
           "MAFA-AS1",
           1
          ],
          [
           "HSPB9",
           1
          ],
          [
           "AL359979.2",
           1
          ],
          [
           "LINC01166",
           1
          ],
          [
           "AC011523.1",
           1
          ],
          [
           "AC087457.1",
           1
          ],
          [
           "AL157413.1",
           1
          ],
          [
           "AL353730.1",
           1
          ],
          [
           "TEX13D",
           1
          ],
          [
           "SMIM10L2B",
           1
          ],
          [
           "LINC02593",
           1
          ],
          [
           "AC073342.2",
           1
          ],
          [
           "LINC02295",
           1
          ],
          [
           "SCGB3A1",
           1
          ],
          [
           "AC007271.1",
           1
          ],
          [
           "LINC00229",
           1
          ],
          [
           "AL109914.1",
           1
          ],
          [
           "AC103874.1",
           1
          ],
          [
           "AL365226.2",
           1
          ],
          [
           "AC105343.2",
           1
          ],
          [
           "C2orf78",
           1
          ],
          [
           "KRT73",
           1
          ],
          [
           "PLPPR4",
           1
          ],
          [
           "AC067960.1",
           1
          ],
          [
           "AC010280.2",
           1
          ],
          [
           "LINC01333",
           1
          ],
          [
           "AL136972.1",
           1
          ],
          [
           "CNGA3",
           1
          ],
          [
           "ALOX15",
           1
          ],
          [
           "AL034374.1",
           1
          ],
          [
           "NCR2",
           1
          ],
          [
           "AL133553.2",
           1
          ],
          [
           "BX324167.2",
           1
          ],
          [
           "MLN",
           1
          ],
          [
           "IGLV3-9",
           1
          ],
          [
           "AC005772.2",
           1
          ],
          [
           "LINC02477",
           1
          ],
          [
           "AC025265.2",
           1
          ],
          [
           "GK3P",
           1
          ],
          [
           "GSTT2B",
           1
          ],
          [
           "OR11A1",
           1
          ],
          [
           "AL645929.2",
           1
          ],
          [
           "AC025187.1",
           1
          ],
          [
           "AC004882.3",
           1
          ],
          [
           "AC019193.4",
           1
          ],
          [
           "AC092675.1",
           1
          ],
          [
           "AL008720.1",
           1
          ],
          [
           "AC103740.2",
           1
          ],
          [
           "NR2E1",
           1
          ],
          [
           "AL353135.1",
           1
          ],
          [
           "AC010271.2",
           1
          ],
          [
           "AC099520.2",
           1
          ],
          [
           "AC009434.1",
           1
          ],
          [
           "AC027306.1",
           1
          ],
          [
           "AC123595.1",
           1
          ],
          [
           "AL355482.2",
           1
          ],
          [
           "MB",
           1
          ],
          [
           "LINC02485",
           1
          ],
          [
           "AC079304.1",
           1
          ],
          [
           "LINC02181",
           1
          ],
          [
           "IFITM3",
           1
          ],
          [
           "CLMP",
           1
          ],
          [
           "LINC02054",
           1
          ],
          [
           "AC018754.1",
           1
          ],
          [
           "ANKRD34C-AS1",
           1
          ],
          [
           "TMIGD2",
           1
          ],
          [
           "ZNF835",
           1
          ],
          [
           "AC121320.1",
           1
          ],
          [
           "AC126696.3",
           1
          ],
          [
           "EYA4",
           1
          ],
          [
           "AC016152.1",
           1
          ],
          [
           "THSD8",
           1
          ],
          [
           "CACNA1S",
           1
          ],
          [
           "MYBPC1",
           1
          ],
          [
           "AC012447.1",
           1
          ],
          [
           "LRRTM4",
           1
          ],
          [
           "TMEM221",
           1
          ],
          [
           "AL138921.1",
           1
          ],
          [
           "ZNF703",
           1
          ],
          [
           "NXPH2",
           1
          ],
          [
           "AC012370.1",
           1
          ],
          [
           "AL109976.1",
           1
          ],
          [
           "CYP11A1",
           1
          ],
          [
           "AC012178.1",
           1
          ],
          [
           "LINC01608",
           1
          ],
          [
           "AC007920.1",
           1
          ],
          [
           "HIST2H2AB",
           1
          ],
          [
           "AC093627.4",
           1
          ],
          [
           "LINC02794",
           1
          ],
          [
           "AC092131.1",
           1
          ],
          [
           "OOSP4B",
           1
          ],
          [
           "WT1-AS",
           1
          ],
          [
           "AC092944.3",
           1
          ],
          [
           "HIST1H3I",
           1
          ],
          [
           "PAX2",
           1
          ],
          [
           "IL1R2",
           1
          ],
          [
           "AC055788.1",
           1
          ],
          [
           "AC068492.1",
           1
          ],
          [
           "AC005096.1",
           1
          ],
          [
           "AP001439.1",
           1
          ],
          [
           "AC016168.2",
           1
          ],
          [
           "PLIN1",
           1
          ],
          [
           "LINC01107",
           1
          ],
          [
           "DSEL",
           1
          ],
          [
           "AC002128.2",
           1
          ],
          [
           "LINGO2",
           1
          ],
          [
           "ABLIM2",
           1
          ],
          [
           "PDE1A",
           1
          ],
          [
           "FOS",
           1
          ],
          [
           "AF241728.2",
           1
          ],
          [
           "AC002059.1",
           1
          ],
          [
           "FZD5",
           1
          ],
          [
           "GALNT18",
           1
          ],
          [
           "ERBB2",
           1
          ],
          [
           "IFITM2",
           1
          ],
          [
           "FER1L6-AS1",
           1
          ],
          [
           "ANKK1",
           1
          ],
          [
           "SLC16A12",
           1
          ],
          [
           "SPP1",
           1
          ],
          [
           "ANKRD30A",
           1
          ],
          [
           "AC079822.1",
           1
          ],
          [
           "DLC1",
           1
          ],
          [
           "PLA2G12B",
           1
          ],
          [
           "LINC00507",
           1
          ],
          [
           "AC025259.3",
           1
          ],
          [
           "AC096759.1",
           1
          ],
          [
           "KIAA1755",
           1
          ],
          [
           "FO681492.1",
           1
          ],
          [
           "LINC01509",
           1
          ],
          [
           "AC245052.4",
           1
          ],
          [
           "ZIM2",
           1
          ],
          [
           "AL161757.4",
           1
          ],
          [
           "PTPRZ1",
           1
          ],
          [
           "IZUMO2",
           1
          ],
          [
           "CCDC172",
           1
          ],
          [
           "LINC01271",
           1
          ],
          [
           "C3orf85",
           1
          ],
          [
           "AC005695.3",
           1
          ],
          [
           "LINC02650",
           1
          ],
          [
           "CCER1",
           1
          ],
          [
           "AC138207.9",
           1
          ],
          [
           "AC068643.1",
           1
          ],
          [
           "LINC02671",
           1
          ],
          [
           "AC096669.1",
           1
          ],
          [
           "AC012322.1",
           1
          ],
          [
           "LINC02211",
           1
          ],
          [
           "AL365214.2",
           1
          ],
          [
           "ERICH3",
           1
          ],
          [
           "AC005291.1",
           1
          ],
          [
           "AC010623.1",
           1
          ],
          [
           "CIDEC",
           1
          ],
          [
           "AL157769.1",
           1
          ],
          [
           "LINC02046",
           1
          ],
          [
           "JPH4",
           1
          ],
          [
           "PRR23A",
           1
          ],
          [
           "STARD10",
           1
          ],
          [
           "HEXB",
           1
          ],
          [
           "TTC6",
           1
          ],
          [
           "DGCR9",
           1
          ],
          [
           "TRPM1",
           1
          ],
          [
           "BTBD2",
           1
          ],
          [
           "EGR1",
           1
          ],
          [
           "EML1",
           1
          ],
          [
           "TNFSF14",
           1
          ],
          [
           "CLIC1",
           1
          ],
          [
           "TAFA4",
           1
          ],
          [
           "AC090515.6",
           1
          ],
          [
           "PLPPR3",
           1
          ],
          [
           "LINC01679",
           1
          ],
          [
           "FAM71F1",
           1
          ],
          [
           "AC013472.1",
           1
          ],
          [
           "AC000068.3",
           1
          ],
          [
           "AC104623.1",
           1
          ],
          [
           "OLR1",
           1
          ],
          [
           "HIST1H2AM",
           1
          ],
          [
           "MIR217HG",
           1
          ],
          [
           "AC004522.3",
           1
          ],
          [
           "AC012146.3",
           1
          ],
          [
           "UROC1",
           1
          ],
          [
           "TSPAN1",
           1
          ],
          [
           "AC092017.4",
           1
          ],
          [
           "AL020994.2",
           1
          ],
          [
           "AGXT2",
           1
          ],
          [
           "AP000753.1",
           1
          ],
          [
           "AC009878.2",
           1
          ],
          [
           "AC006004.1",
           1
          ],
          [
           "C20orf173",
           1
          ],
          [
           "HIST1H4F",
           1
          ],
          [
           "AC096531.2",
           1
          ],
          [
           "AL121906.2",
           1
          ],
          [
           "MAGEB17",
           1
          ],
          [
           "AC008897.2",
           1
          ],
          [
           "SLC36A2",
           1
          ],
          [
           "AC097511.1",
           1
          ],
          [
           "AL049712.1",
           1
          ],
          [
           "GPR17",
           1
          ],
          [
           "AC013270.1",
           1
          ],
          [
           "PRNT",
           1
          ],
          [
           "HCAR1",
           1
          ],
          [
           "RPRML",
           1
          ],
          [
           "LINC02668",
           1
          ],
          [
           "LINC01787",
           1
          ],
          [
           "RAG2",
           1
          ],
          [
           "GGT6",
           1
          ],
          [
           "TRAV13-1",
           1
          ],
          [
           "AC003101.2",
           1
          ],
          [
           "PRRT1",
           1
          ],
          [
           "AC009318.4",
           1
          ],
          [
           "AC010343.3",
           1
          ],
          [
           "ACTN1",
           1
          ],
          [
           "GPR171",
           1
          ],
          [
           "SLIT2",
           1
          ],
          [
           "CALD1",
           1
          ],
          [
           "AC132803.1",
           1
          ],
          [
           "NRAD1",
           1
          ],
          [
           "F10",
           1
          ],
          [
           "AC002563.1",
           1
          ],
          [
           "LBX2",
           1
          ],
          [
           "AC021351.1",
           1
          ],
          [
           "NUAK1",
           1
          ],
          [
           "PRDM12",
           1
          ],
          [
           "LINC01111",
           1
          ],
          [
           "LGR5",
           1
          ],
          [
           "AC022509.5",
           1
          ],
          [
           "NDST4",
           1
          ],
          [
           "CA5A",
           1
          ],
          [
           "AC024558.2",
           1
          ],
          [
           "FAM71E2",
           1
          ],
          [
           "FAM183A",
           1
          ],
          [
           "AC011362.1",
           1
          ],
          [
           "CSNK1G2-AS1",
           1
          ],
          [
           "SPACA7",
           1
          ],
          [
           "HTR3D",
           1
          ],
          [
           "UGT2B15",
           1
          ],
          [
           "AC104695.2",
           1
          ],
          [
           "AC113346.2",
           1
          ],
          [
           "AL158817.1",
           1
          ],
          [
           "AC005394.1",
           1
          ],
          [
           "AC008154.1",
           1
          ],
          [
           "CCL23",
           1
          ],
          [
           "AC022463.1",
           1
          ],
          [
           "AL353688.1",
           1
          ],
          [
           "IL1A",
           1
          ],
          [
           "PDLIM4",
           1
          ],
          [
           "AC011586.1",
           1
          ],
          [
           "SLC22A11",
           1
          ],
          [
           "AL121790.2",
           1
          ],
          [
           "AC003092.2",
           1
          ],
          [
           "AC004672.2",
           1
          ],
          [
           "AL023553.1",
           1
          ],
          [
           "AL132633.1",
           1
          ],
          [
           "AC096747.1",
           1
          ],
          [
           "LRRC18",
           1
          ],
          [
           "MGP",
           1
          ],
          [
           "AC096759.2",
           1
          ],
          [
           "AL132819.1",
           1
          ],
          [
           "TSPAN19",
           1
          ],
          [
           "ANXA8",
           1
          ],
          [
           "TECTB",
           1
          ],
          [
           "BHLHE22",
           1
          ],
          [
           "LINC00592",
           1
          ],
          [
           "POTEF",
           1
          ],
          [
           "LINC02654",
           1
          ],
          [
           "AKAIN1",
           1
          ],
          [
           "EXD1",
           1
          ],
          [
           "HCN1",
           1
          ],
          [
           "SPATA16",
           1
          ],
          [
           "AC013264.1",
           1
          ],
          [
           "AC103876.1",
           1
          ],
          [
           "AC037486.1",
           1
          ],
          [
           "PARD3B",
           1
          ],
          [
           "AC021723.2",
           1
          ],
          [
           "MGAT4C",
           1
          ],
          [
           "OTX1",
           1
          ],
          [
           "SNAI1",
           1
          ],
          [
           "SPOCD1",
           1
          ],
          [
           "AL161734.2",
           1
          ],
          [
           "AL354994.1",
           1
          ],
          [
           "AC022150.2",
           1
          ],
          [
           "RGS8",
           1
          ],
          [
           "SLC34A1",
           1
          ],
          [
           "AL390860.1",
           1
          ],
          [
           "LRFN2",
           1
          ],
          [
           "CASC17",
           1
          ],
          [
           "IL5RA",
           1
          ],
          [
           "SLC4A10",
           1
          ],
          [
           "LINC01756",
           1
          ],
          [
           "S100A12",
           1
          ],
          [
           "AL133244.2",
           1
          ],
          [
           "LINC01918",
           1
          ],
          [
           "LINC01763",
           1
          ],
          [
           "AC093798.1",
           1
          ],
          [
           "AL357835.1",
           1
          ],
          [
           "LINC00303",
           1
          ],
          [
           "AL391730.2",
           1
          ],
          [
           "AL390786.1",
           1
          ],
          [
           "AC009511.2",
           1
          ],
          [
           "TRAV1-2",
           1
          ],
          [
           "AC106045.1",
           1
          ],
          [
           "AL161716.1",
           1
          ],
          [
           "OR10H5",
           1
          ],
          [
           "GPR12",
           1
          ],
          [
           "AC112242.1",
           1
          ],
          [
           "AC022517.1",
           1
          ],
          [
           "LINC02220",
           1
          ],
          [
           "AC007406.3",
           1
          ],
          [
           "AP002761.4",
           1
          ],
          [
           "POM121L2",
           1
          ],
          [
           "AL645937.2",
           1
          ],
          [
           "AC007948.1",
           1
          ],
          [
           "SERPINB2",
           1
          ],
          [
           "AP001269.2",
           1
          ],
          [
           "LPA",
           1
          ],
          [
           "AC005009.2",
           1
          ],
          [
           "AP001464.1",
           1
          ],
          [
           "AC025822.1",
           1
          ],
          [
           "IGHV3-64",
           1
          ],
          [
           "NKX6-3",
           1
          ],
          [
           "AC023644.1",
           1
          ],
          [
           "IGLV7-46",
           1
          ],
          [
           "AP000345.3",
           1
          ],
          [
           "PEX5L-AS1",
           1
          ],
          [
           "IGLV1-44",
           1
          ],
          [
           "ZNF385D-AS2",
           1
          ],
          [
           "MYL1",
           1
          ],
          [
           "LINC00994",
           1
          ],
          [
           "DAW1",
           1
          ],
          [
           "AL355053.1",
           1
          ],
          [
           "AL050349.1",
           1
          ],
          [
           "AC131097.3",
           1
          ],
          [
           "CCR2",
           1
          ],
          [
           "TNFRSF9",
           1
          ],
          [
           "SERPINH1",
           1
          ],
          [
           "AC108134.2",
           1
          ],
          [
           "PRB1",
           1
          ],
          [
           "CYP2E1",
           1
          ],
          [
           "ACVRL1",
           1
          ],
          [
           "SCN1B",
           1
          ],
          [
           "IDI2-AS1",
           1
          ],
          [
           "AL139424.2",
           1
          ],
          [
           "AL844892.2",
           1
          ],
          [
           "AC090771.2",
           1
          ],
          [
           "AL162311.3",
           1
          ],
          [
           "ANKRD18A",
           1
          ],
          [
           "TM4SF20",
           1
          ],
          [
           "RAB25",
           1
          ],
          [
           "AC090679.2",
           1
          ],
          [
           "AC012181.2",
           1
          ],
          [
           "UBASH3B",
           1
          ],
          [
           "CARD9",
           1
          ],
          [
           "TNC",
           1
          ],
          [
           "HKDC1",
           1
          ],
          [
           "PDE2A",
           1
          ],
          [
           "HS3ST2",
           1
          ],
          [
           "AC069277.1",
           1
          ],
          [
           "LINC02843",
           1
          ],
          [
           "DPYSL3",
           1
          ],
          [
           "PRELP",
           1
          ],
          [
           "MPIG6B",
           1
          ],
          [
           "AC011444.3",
           1
          ],
          [
           "AC138123.2",
           1
          ],
          [
           "GADD45B",
           1
          ],
          [
           "HIST2H2AC",
           1
          ],
          [
           "IL1B",
           1
          ],
          [
           "NTSR1",
           1
          ],
          [
           "AL645939.5",
           1
          ],
          [
           "PEAK3",
           1
          ],
          [
           "AC005523.1",
           1
          ],
          [
           "LINC01477",
           1
          ],
          [
           "AC119868.2",
           1
          ],
          [
           "CATSPER1",
           1
          ],
          [
           "MISP",
           1
          ],
          [
           "OR6N1",
           1
          ],
          [
           "AC002456.1",
           1
          ],
          [
           "AP005717.1",
           1
          ],
          [
           "AC092933.2",
           1
          ],
          [
           "A1CF",
           1
          ],
          [
           "AC243830.2",
           1
          ],
          [
           "AC079352.1",
           1
          ],
          [
           "AC067852.2",
           1
          ],
          [
           "SYNPO",
           1
          ],
          [
           "ANKRD24",
           1
          ],
          [
           "AC006387.1",
           1
          ],
          [
           "FGFR2",
           1
          ],
          [
           "AC124947.1",
           1
          ],
          [
           "LINC00870",
           1
          ],
          [
           "AL136115.3",
           1
          ],
          [
           "CFD",
           1
          ],
          [
           "RFTN2",
           1
          ],
          [
           "AL356417.3",
           1
          ],
          [
           "AC117460.1",
           1
          ],
          [
           "CR559946.2",
           1
          ],
          [
           "GIP",
           1
          ],
          [
           "LINC02719",
           1
          ],
          [
           "QRFPR",
           1
          ],
          [
           "TPD52L1",
           1
          ],
          [
           "TNIP3",
           1
          ],
          [
           "ZBBX",
           1
          ],
          [
           "MFGE8",
           1
          ],
          [
           "CD36",
           1
          ],
          [
           "AC002091.1",
           1
          ],
          [
           "AC110809.1",
           1
          ],
          [
           "LTBP2",
           1
          ],
          [
           "USB1",
           1
          ],
          [
           "AC105290.1",
           1
          ],
          [
           "GNLY",
           1
          ],
          [
           "AC069360.1",
           1
          ],
          [
           "LAMA2",
           1
          ],
          [
           "UBD",
           1
          ],
          [
           "LINC01259",
           1
          ],
          [
           "TMEM37",
           1
          ],
          [
           "AC009060.1",
           1
          ],
          [
           "LINC02068",
           1
          ],
          [
           "NMNAT3",
           1
          ],
          [
           "IL18BP",
           1
          ],
          [
           "FBXO4",
           1
          ],
          [
           "LINC01841",
           1
          ],
          [
           "GLB1L2",
           1
          ],
          [
           "PRELID2",
           1
          ],
          [
           "CLEC12B",
           1
          ],
          [
           "AC112187.3",
           1
          ],
          [
           "AC138123.1",
           1
          ],
          [
           "SLC11A1",
           1
          ],
          [
           "ENOX1",
           1
          ],
          [
           "LINC01137",
           1
          ],
          [
           "AC010148.1",
           1
          ],
          [
           "PARD6A",
           1
          ],
          [
           "RGL4",
           1
          ],
          [
           "SDK1",
           1
          ],
          [
           "LINC02457",
           1
          ],
          [
           "AL008633.1",
           1
          ],
          [
           "AKR1B1",
           1
          ],
          [
           "AC008957.1",
           1
          ],
          [
           "AC005759.1",
           1
          ],
          [
           "AC093425.1",
           1
          ],
          [
           "HHIPL2",
           1
          ],
          [
           "CCL3L1",
           1
          ],
          [
           "LINC02273",
           1
          ],
          [
           "RPS14",
           1
          ],
          [
           "AC009570.2",
           1
          ],
          [
           "LGALS1",
           1
          ],
          [
           "MYO10",
           1
          ],
          [
           "DGCR6L",
           1
          ],
          [
           "DEPTOR",
           1
          ],
          [
           "Z69666.1",
           1
          ],
          [
           "FAM169A",
           1
          ],
          [
           "SYNM",
           1
          ],
          [
           "PLCB1",
           1
          ],
          [
           "CD8A",
           1
          ],
          [
           "AP000926.2",
           1
          ],
          [
           "LARGE-AS1",
           1
          ],
          [
           "AC007368.1",
           1
          ],
          [
           "EPHB2",
           1
          ],
          [
           "MIR646HG",
           1
          ],
          [
           "SLC46A1",
           1
          ],
          [
           "IFITM1",
           1
          ],
          [
           "TRAPPC1",
           1
          ],
          [
           "LINC01010",
           1
          ],
          [
           "RPL26",
           1
          ],
          [
           "AL133405.2",
           1
          ],
          [
           "PGBD5",
           1
          ],
          [
           "ZBTB16",
           1
          ],
          [
           "RPS7",
           1
          ],
          [
           "DBNDD1",
           1
          ],
          [
           "IL7R",
           1
          ],
          [
           "LINC02319",
           1
          ],
          [
           "CD59",
           1
          ],
          [
           "AL627171.2",
           1
          ],
          [
           "DIRAS1",
           1
          ],
          [
           "TMC3-AS1",
           1
          ],
          [
           "TAGLN2",
           1
          ],
          [
           "CYB5R3",
           1
          ],
          [
           "AC002460.2",
           1
          ],
          [
           "JUP",
           1
          ],
          [
           "RILPL1",
           1
          ],
          [
           "GZMB",
           1
          ],
          [
           "ITPRID1",
           1
          ],
          [
           "AL117335.1",
           1
          ],
          [
           "INSR",
           1
          ],
          [
           "DLG4",
           1
          ],
          [
           "NRP1",
           1
          ],
          [
           "AC079209.2",
           1
          ],
          [
           "SLC25A6",
           1
          ],
          [
           "AL161785.1",
           1
          ],
          [
           "TTC16",
           1
          ],
          [
           "SLC15A3",
           1
          ],
          [
           "ANAPC11",
           1
          ],
          [
           "TRBC1",
           1
          ],
          [
           "HIST1H1D",
           1
          ],
          [
           "CCL3",
           1
          ],
          [
           "RPS5",
           1
          ],
          [
           "RPS24",
           1
          ],
          [
           "VCAN",
           1
          ],
          [
           "GABARAP",
           1
          ],
          [
           "ICOS",
           1
          ],
          [
           "RPS13",
           1
          ],
          [
           "RGPD8",
           1
          ],
          [
           "S100Z",
           1
          ],
          [
           "AC092674.1",
           1
          ],
          [
           "RGS7",
           1
          ],
          [
           "AC009495.3",
           1
          ],
          [
           "AL031602.2",
           1
          ],
          [
           "RPL32",
           1
          ],
          [
           "SH3BGRL3",
           1
          ],
          [
           "SLC30A4",
           1
          ],
          [
           "JUN",
           1
          ],
          [
           "CCL5",
           1
          ],
          [
           "ACOD1",
           1
          ],
          [
           "LDLRAD3",
           1
          ],
          [
           "CCL2",
           1
          ],
          [
           "ZNF385A",
           1
          ],
          [
           "EEF1B2",
           1
          ],
          [
           "RPL10",
           1
          ],
          [
           "IL17RC",
           1
          ],
          [
           "NELL2",
           1
          ],
          [
           "ZNF358",
           1
          ],
          [
           "SPARC",
           1
          ],
          [
           "NPC2",
           1
          ],
          [
           "GIMAP6",
           1
          ],
          [
           "HSD17B14",
           1
          ],
          [
           "RAB13",
           1
          ],
          [
           "TENM4",
           1
          ],
          [
           "ADAM12",
           1
          ],
          [
           "IFIT5",
           1
          ],
          [
           "ACSL1",
           1
          ],
          [
           "TTC23",
           1
          ],
          [
           "ADARB2",
           1
          ],
          [
           "TRIM47",
           1
          ],
          [
           "SNTG2",
           1
          ],
          [
           "ACAP3",
           1
          ],
          [
           "AL392086.3",
           1
          ],
          [
           "MIER2",
           1
          ],
          [
           "TNR",
           1
          ],
          [
           "RPLP2",
           1
          ],
          [
           "MINK1",
           1
          ],
          [
           "CRISPLD2",
           1
          ],
          [
           "AC005224.2",
           1
          ],
          [
           "GDPD5",
           1
          ],
          [
           "SMIM25",
           1
          ],
          [
           "SECTM1",
           1
          ],
          [
           "HOOK1",
           1
          ],
          [
           "TSHZ2",
           1
          ],
          [
           "SH3RF3",
           1
          ],
          [
           "GNB4",
           1
          ],
          [
           "PLD3",
           1
          ],
          [
           "FTL",
           1
          ],
          [
           "PTPRM",
           1
          ],
          [
           "GRIP1",
           1
          ],
          [
           "AGPAT4",
           1
          ],
          [
           "CCR5",
           1
          ],
          [
           "MTSS1",
           1
          ],
          [
           "NKG7",
           1
          ],
          [
           "RPLP1",
           1
          ],
          [
           "MARCO",
           1
          ],
          [
           "AIF1",
           1
          ],
          [
           "FAAH2",
           1
          ],
          [
           "RPS11",
           1
          ],
          [
           "ATP6V1B2",
           1
          ],
          [
           "AC139720.1",
           1
          ],
          [
           "HSPA1B",
           1
          ],
          [
           "AC008691.1",
           1
          ],
          [
           "RPS23",
           1
          ],
          [
           "VAMP5",
           1
          ],
          [
           "HPCAL1",
           1
          ],
          [
           "RPS21",
           1
          ],
          [
           "RPL11",
           1
          ],
          [
           "MT1X",
           1
          ],
          [
           "S100A9",
           1
          ],
          [
           "ZNF318",
           1
          ],
          [
           "CAMSAP2",
           1
          ],
          [
           "RPL27A",
           1
          ],
          [
           "RPL38",
           1
          ],
          [
           "MT1G",
           0.9917994530225974
          ],
          [
           "RRAS2",
           0.9575395050046416
          ],
          [
           "SLC2A5",
           0.9556471841936135
          ],
          [
           "IGHG1",
           0.9555110748506891
          ],
          [
           "S100A8",
           0.954515706952435
          ],
          [
           "LINC02694",
           0.9520861099466049
          ],
          [
           "PLCB2",
           0.9470163612349616
          ],
          [
           "RPL37",
           0.9455555416774338
          ],
          [
           "RPL30",
           0.9395671718178107
          ],
          [
           "HDAC9",
           0.9274792710064645
          ],
          [
           "ENPP2",
           0.9063056932492074
          ],
          [
           "HSPA1A",
           0.8766571329290159
          ],
          [
           "RPS28",
           0.8641393554132428
          ],
          [
           "LINC01781",
           0.8446730175913578
          ],
          [
           "NOP53",
           0.8413237875552139
          ],
          [
           "NBPF14",
           0.8351864917430927
          ],
          [
           "SESN3",
           0.8184872426230719
          ],
          [
           "MT2A",
           0.8183889131165181
          ],
          [
           "RPL36",
           0.7999061908115984
          ],
          [
           "IDO1",
           0.7608415384931361
          ],
          [
           "RPL31",
           0.76029458286421
          ],
          [
           "CST3",
           0.7567201120455006
          ],
          [
           "RPS27",
           0.7258673276583515
          ],
          [
           "CD14",
           0.7207002146765583
          ],
          [
           "MPP7",
           0.6638541567122138
          ],
          [
           "LY6E",
           0.6638541567122138
          ],
          [
           "OSBPL6",
           0.6566067162560765
          ],
          [
           "EEF1A1",
           0.6297015604384933
          ],
          [
           "RPL3",
           0.6297015604384933
          ],
          [
           "RPL13A",
           0.6123995232676229
          ],
          [
           "CD68",
           0.6021800492115099
          ],
          [
           "UBA52",
           0.5747452905686977
          ],
          [
           "RPS15A",
           0.5579949305636757
          ],
          [
           "RPS26",
           0.5516275416968899
          ],
          [
           "CLEC4E",
           0.5508919575880646
          ],
          [
           "RPL18A",
           0.5064403302242033
          ],
          [
           "RPS3A",
           0.5047094140198795
          ],
          [
           "AL589693.1",
           0.5019237971737679
          ],
          [
           "RPL34",
           0.48268344697379245
          ],
          [
           "SLC12A7",
           0.4682596302260463
          ],
          [
           "TPT1",
           0.45679647458346995
          ],
          [
           "STAB1",
           0.45679647458346995
          ],
          [
           "RBM47",
           0.43796336882843806
          ],
          [
           "RPS2",
           0.4376259312614065
          ],
          [
           "CAPG",
           0.42897175988295083
          ],
          [
           "STAP1",
           0.4272334935548196
          ],
          [
           "MT1H",
           0.4125942226692087
          ],
          [
           "APOC1",
           0.41097141675389665
          ],
          [
           "SEMA3A",
           0.3985578125930704
          ],
          [
           "TCF7L2",
           0.39367426453598253
          ],
          [
           "RPS16",
           0.35605230771778157
          ],
          [
           "PPM1H",
           0.34556980670053167
          ],
          [
           "CTSB",
           0.3410028334729043
          ],
          [
           "KIAA0930",
           0.3375680059324905
          ],
          [
           "DENND5B",
           0.3375680059324905
          ],
          [
           "RPL37A",
           0.32234177077929765
          ],
          [
           "RPL21",
           0.3202155630313834
          ],
          [
           "CEP112",
           0.31572989967879733
          ],
          [
           "RPS19",
           0.31069544040448843
          ],
          [
           "LILRB3",
           0.2967814890410627
          ],
          [
           "THEMIS2",
           0.29439099696054555
          ],
          [
           "CXCL10",
           0.25602533763094737
          ],
          [
           "ITGAX",
           0.22503951505434125
          ],
          [
           "LILRB2",
           0.21034860891133417
          ],
          [
           "C1QC",
           0.18239499955369973
          ],
          [
           "APOE",
           0.16613848989098337
          ],
          [
           "LGMN",
           0.15559292083269635
          ],
          [
           "SAT1",
           0.15559292083269635
          ],
          [
           "ADGRG5",
           0.13843677834878795
          ],
          [
           "SLC2A9",
           0.11592226042226432
          ],
          [
           "RPL28",
           0.11283452354441041
          ],
          [
           "PDE7B",
           0.1088830720765094
          ],
          [
           "FGR",
           0.08494922725369097
          ],
          [
           "RPL9",
           0.07830798180087171
          ],
          [
           "FTH1",
           0.06473280923817655
          ],
          [
           "KLF2",
           0.06457619306548021
          ],
          [
           "PSTPIP2",
           0.06281297067523182
          ],
          [
           "PSAP",
           0.05789304056149477
          ],
          [
           "MAML3",
           0.05047358321755863
          ],
          [
           "TNS3",
           0.03870876874300095
          ],
          [
           "PRKN",
           0.037833153051340246
          ],
          [
           "RPL39",
           0.026692798150787643
          ],
          [
           "LTB",
           0.025267662736470277
          ],
          [
           "RPS29",
           0.02449855899294785
          ],
          [
           "RPS27A",
           0.022720043571890107
          ],
          [
           "RPS12",
           0.01967422204099588
          ],
          [
           "RPL41",
           0.00801784376581004
          ],
          [
           "TMSB10",
           0.0029891006174763844
          ],
          [
           "FAM117B",
           0.0026832019796106193
          ],
          [
           "PTMA",
           0.0015864163962356515
          ],
          [
           "RPL13",
           0.0010557131387965706
          ],
          [
           "CXCR4",
           0.00022242302633370255
          ],
          [
           "RALGPS2",
           0.000032495875354443464
          ],
          [
           "MEF2C",
           8.229809813122941e-17
          ]
         ],
         "hovertemplate": "regulation=Not significant<br>Log2 Fold Change=%{x}<br>-Log10 Adjusted P-Value=%{y}<br>names=%{customdata[0]}<br>pvals_adj=%{customdata[1]}<extra></extra>",
         "legendgroup": "Not significant",
         "marker": {
          "color": "lightgray",
          "symbol": "circle"
         },
         "mode": "markers",
         "name": "Not significant",
         "showlegend": true,
         "type": "scattergl",
         "x": {
          "bdata": "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",
          "dtype": "f4"
         },
         "xaxis": "x",
         "y": {
          "bdata": "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",
          "dtype": "f8"
         },
         "yaxis": "y"
        },
        {
         "customdata": [
          [
           "ADGRE2",
           0.0473523424001914
          ],
          [
           "C1QA",
           0.0473523424001914
          ],
          [
           "PTGDS",
           0.035036439407410074
          ],
          [
           "SERPING1",
           0.03499593932349677
          ],
          [
           "AC087500.1",
           0.03252826096418976
          ],
          [
           "PIK3R6",
           0.029377577497070324
          ],
          [
           "C1QB",
           0.027256930102311075
          ],
          [
           "CHI3L1",
           0.025437794302291553
          ],
          [
           "CDC42BPB",
           0.02376732436861447
          ],
          [
           "KIF13A",
           0.015022568760615989
          ],
          [
           "MACROD2",
           0.014767259956886963
          ],
          [
           "LYZ",
           0.008569504784274705
          ],
          [
           "TMEM176B",
           0.008257034325725656
          ],
          [
           "SCO2",
           0.00687221507369362
          ],
          [
           "SIGLEC1",
           0.006428768366005016
          ],
          [
           "IL18",
           0.006415238482073525
          ],
          [
           "TBXAS1",
           0.005663538218812252
          ],
          [
           "APP",
           0.005248368554810251
          ],
          [
           "RGL1",
           0.004637898738579048
          ],
          [
           "CXCL9",
           0.0023512915757232518
          ],
          [
           "SLCO2B1",
           0.0015057862232046226
          ],
          [
           "RAP1GAP2",
           0.0014699049082187877
          ],
          [
           "PLCL1",
           0.00048289078044755476
          ],
          [
           "NR1H3",
           0.00044647000461743493
          ],
          [
           "NPL",
           0.0003903411578467468
          ],
          [
           "FRMD4B",
           0.00034348975474160633
          ],
          [
           "FAM20A",
           0.0003018770027502529
          ],
          [
           "MYOF",
           0.00010652959062572032
          ],
          [
           "FMNL2",
           0.0000815229174077438
          ],
          [
           "NR3C2",
           0.0000619760701255427
          ],
          [
           "AC119396.1",
           0.000056502860025200634
          ],
          [
           "IGF1R",
           0.00004223595041000863
          ],
          [
           "FMN1",
           0.00003467506347623606
          ],
          [
           "ANKRD22",
           0.00003146758625429958
          ],
          [
           "SLC1A3",
           0.000018181525211223837
          ],
          [
           "RASSF4",
           0.000014479555368950696
          ],
          [
           "LRMDA",
           0.000006673660694820887
          ],
          [
           "PLXDC2",
           0.00000650498361654117
          ],
          [
           "TNFAIP2",
           0.0000059763934191373794
          ],
          [
           "DOCK4",
           0.00000461296801210551
          ],
          [
           "DAPK1",
           0.00000461296801210551
          ],
          [
           "GAS7",
           0.000003994554768586127
          ],
          [
           "SLC8A1",
           0.0000039577451186969936
          ],
          [
           "DDX58",
           0.000003925559251547715
          ],
          [
           "ABCA1",
           4.068964120507243e-7
          ],
          [
           "KCNMA1",
           3.439537217800742e-7
          ],
          [
           "COL19A1",
           3.159314846095356e-7
          ],
          [
           "AL162414.1",
           7.739693104076136e-8
          ],
          [
           "SELL",
           3.051063023285848e-8
          ],
          [
           "TYMP",
           1.1173443970125112e-11
          ],
          [
           "SAMD4A",
           5.409043384133196e-13
          ],
          [
           "COBLL1",
           1.4581015201688173e-13
          ],
          [
           "PDE4D",
           6.215933468860208e-14
          ],
          [
           "HVCN1",
           3.75875630959831e-15
          ],
          [
           "STEAP1B",
           1.8389396961074354e-17
          ],
          [
           "GBP1",
           3.4150495505713158e-18
          ],
          [
           "TFEC",
           1.0191341672280231e-25
          ],
          [
           "IFI44L",
           3.145975878669949e-27
          ],
          [
           "FCRL1",
           3.691948231697602e-34
          ],
          [
           "LARGE1",
           1.2550823333697694e-40
          ],
          [
           "GNG7",
           4.79514769062334e-49
          ],
          [
           "CDK14",
           1.0273123559070709e-51
          ],
          [
           "CCSER1",
           3.95128389544209e-101
          ],
          [
           "BANK1",
           1.3724842844877607e-182
          ]
         ],
         "hovertemplate": "regulation=Downregulated<br>Log2 Fold Change=%{x}<br>-Log10 Adjusted P-Value=%{y}<br>names=%{customdata[0]}<br>pvals_adj=%{customdata[1]}<extra></extra>",
         "legendgroup": "Downregulated",
         "marker": {
          "color": "blue",
          "symbol": "circle"
         },
         "mode": "markers",
         "name": "Downregulated",
         "showlegend": true,
         "type": "scattergl",
         "x": {
          "bdata": "gfUOwOVdy7+1TuS/5C4ewCbT07/3XULAuQjev/9CLsC4Gj7A4UeOv6Tg579SOb+/N9YbwEXbzb/ELjnAJZW5vwf8rr8QVyfAlzTSvzPjwb+TKUrAlerYv0WFxb/DfNy/kUnPvxewur8fHBjAxkUOwHA52L8jEaa/2nYiwFYQK8BTAADAsx8xwFdwI8D+ggXAYywNwMaoH8DvuiHACA0hwLXEN8A7DgXAVEgFwP/ror/ICjLAdjg0wGUtur8iy0jA9jMSwMgzwr+cKte/u6eZwM6Iz78cst6/w+kmwJ+C9b+V/VvAkJmDwFBNjr/bXJPAjM9+wLw2GcB8cpLAqeYnwA==",
          "dtype": "f4"
         },
         "xaxis": "x",
         "y": {
          "bdata": "IuVDJc0x9T8i5UMlzTH1P7ZND2+lSfc/4fy9JLRL9z80oleSx833PyFl1awBg/g/CXfoVEkI+T9U06D6J4P5Pymugxb8+/k/B/XvRQ4s/T8/078qjEr9P8UuMIJOiQBAsTOpIViqAEANuhE5oE0BQPeBsk30iAFAZfY3A9SKAUBun7kVrfkBQPbABeNjPQJA0QwQwl+rAkBx8M52kAcFQK1gJ9PwkwZATUpHQmSpBkC+YYA4eocKQOp6l7M5zQpAHc2j07hEC0D/7vvUcrYLQIE3ot9OKQxACYJerL3HD0ATD6t92VoQQCNEBTnD1BBA8Zu2P+H9EECOaowlTX8RQHg20rYF1xFADt2yFjACEkBMHat4I/YSQOpGZ/tiWxNAvxM75NmzFEDH5+NiPL8UQKjnvSDt5BRAdEe/ghVYFUB0R7+CFVgVQGsrSKwYmBVAw/leozacFUAmAohG2J8VQPTJgXbjjxlAdTKVvZ/aGUDgBna3agAaQKceYWfycRxAEau9B+wPHkAvubgGVOclQMFrN2+kiChAYxCnAiSsKUCDZOOIuWkqQG0Lf8+T2SxAzXscTkW8MEBuoyhLc3cxQKvuqYzk/ThAbWFVGpOAOkDY3xwrZLdAQJekdLVe80NASET/etsoSEDsuzeIgH5JQArCbwrPGVlA/VQfipm7ZkA=",
          "dtype": "f8"
         },
         "yaxis": "y"
        }
       ],
       "layout": {
        "annotations": [
         {
          "arrowhead": 1,
          "ax": 20,
          "ay": -20,
          "font": {
           "size": 10
          },
          "showarrow": true,
          "text": "AC090125.1",
          "x": 3.980236291885376,
          "y": 228.43795366300841
         },
         {
          "arrowhead": 1,
          "ax": 20,
          "ay": -20,
          "font": {
           "size": 10
          },
          "showarrow": true,
          "text": "PRSS21",
          "x": 3.372960329055786,
          "y": 4.368002142293027
         },
         {
          "arrowhead": 1,
          "ax": 20,
          "ay": -20,
          "font": {
           "size": 10
          },
          "showarrow": true,
          "text": "PDGFD",
          "x": 3.3628604412078857,
          "y": 146.39897695161162
         },
         {
          "arrowhead": 1,
          "ax": 20,
          "ay": -20,
          "font": {
           "size": 10
          },
          "showarrow": true,
          "text": "DGKG",
          "x": 3.235677480697632,
          "y": 148.31678699066882
         },
         {
          "arrowhead": 1,
          "ax": 20,
          "ay": -20,
          "font": {
           "size": 10
          },
          "showarrow": true,
          "text": "LINC01320",
          "x": 3.2239439487457275,
          "y": 186.04586008099452
         },
         {
          "arrowhead": 1,
          "ax": 20,
          "ay": -20,
          "font": {
           "size": 10
          },
          "showarrow": true,
          "text": "GPM6A",
          "x": 3.22054123878479,
          "y": 186.56768684057582
         },
         {
          "arrowhead": 1,
          "ax": 20,
          "ay": -20,
          "font": {
           "size": 10
          },
          "showarrow": true,
          "text": "GRHPR",
          "x": 3.1693975925445557,
          "y": 151.06825318153224
         },
         {
          "arrowhead": 1,
          "ax": 20,
          "ay": -20,
          "font": {
           "size": 10
          },
          "showarrow": true,
          "text": "RHEX",
          "x": 3.0134165287017822,
          "y": 152.90861829268766
         },
         {
          "arrowhead": 1,
          "ax": 20,
          "ay": -20,
          "font": {
           "size": 10
          },
          "showarrow": true,
          "text": "ZNF804A",
          "x": 2.88033390045166,
          "y": 127.97220706951485
         },
         {
          "arrowhead": 1,
          "ax": 20,
          "ay": -20,
          "font": {
           "size": 10
          },
          "showarrow": true,
          "text": "FCRL5",
          "x": 2.877648115158081,
          "y": 174.24597003114962
         },
         {
          "arrowhead": 1,
          "ax": 20,
          "ay": -20,
          "font": {
           "size": 10
          },
          "showarrow": true,
          "text": "COBLL1",
          "x": -4.801724910736084,
          "y": 12.83621223725658
         },
         {
          "arrowhead": 1,
          "ax": 20,
          "ay": -20,
          "font": {
           "size": 10
          },
          "showarrow": true,
          "text": "LARGE1",
          "x": -4.6050848960876465,
          "y": 39.901327783541255
         },
         {
          "arrowhead": 1,
          "ax": 20,
          "ay": -20,
          "font": {
           "size": 10
          },
          "showarrow": true,
          "text": "CCSER1",
          "x": -4.576475143432617,
          "y": 100.40326176561226
         },
         {
          "arrowhead": 1,
          "ax": 20,
          "ay": -20,
          "font": {
           "size": 10
          },
          "showarrow": true,
          "text": "IFI44L",
          "x": -4.112495422363281,
          "y": 26.502244611592165
         },
         {
          "arrowhead": 1,
          "ax": 20,
          "ay": -20,
          "font": {
           "size": 10
          },
          "showarrow": true,
          "text": "GNG7",
          "x": -3.981417655944824,
          "y": 48.31919801201053
         },
         {
          "arrowhead": 1,
          "ax": 20,
          "ay": -20,
          "font": {
           "size": 10
          },
          "showarrow": true,
          "text": "TFEC",
          "x": -3.437352418899536,
          "y": 24.991768638121965
         },
         {
          "arrowhead": 1,
          "ax": 20,
          "ay": -20,
          "font": {
           "size": 10
          },
          "showarrow": true,
          "text": "AL162414.1",
          "x": -3.1373982429504395,
          "y": 7.111276259710997
         },
         {
          "arrowhead": 1,
          "ax": 20,
          "ay": -20,
          "font": {
           "size": 10
          },
          "showarrow": true,
          "text": "DAPK1",
          "x": -2.8713810443878174,
          "y": 5.336019556927443
         },
         {
          "arrowhead": 1,
          "ax": 20,
          "ay": -20,
          "font": {
           "size": 10
          },
          "showarrow": true,
          "text": "KCNMA1",
          "x": -2.815946102142334,
          "y": 6.463499986869114
         },
         {
          "arrowhead": 1,
          "ax": 20,
          "ay": -20,
          "font": {
           "size": 10
          },
          "showarrow": true,
          "text": "ABCA1",
          "x": -2.7819080352783203,
          "y": 6.390516139671025
         }
        ],
        "hovermode": "closest",
        "legend": {
         "title": {
          "text": "Gene Regulation"
         },
         "tracegroupgap": 0
        },
        "template": {
         "data": {
          "bar": [
           {
            "error_x": {
             "color": "rgb(36,36,36)"
            },
            "error_y": {
             "color": "rgb(36,36,36)"
            },
            "marker": {
             "line": {
              "color": "white",
              "width": 0.5
             },
             "pattern": {
              "fillmode": "overlay",
              "size": 10,
              "solidity": 0.2
             }
            },
            "type": "bar"
           }
          ],
          "barpolar": [
           {
            "marker": {
             "line": {
              "color": "white",
              "width": 0.5
             },
             "pattern": {
              "fillmode": "overlay",
              "size": 10,
              "solidity": 0.2
             }
            },
            "type": "barpolar"
           }
          ],
          "carpet": [
           {
            "aaxis": {
             "endlinecolor": "rgb(36,36,36)",
             "gridcolor": "white",
             "linecolor": "white",
             "minorgridcolor": "white",
             "startlinecolor": "rgb(36,36,36)"
            },
            "baxis": {
             "endlinecolor": "rgb(36,36,36)",
             "gridcolor": "white",
             "linecolor": "white",
             "minorgridcolor": "white",
             "startlinecolor": "rgb(36,36,36)"
            },
            "type": "carpet"
           }
          ],
          "choropleth": [
           {
            "colorbar": {
             "outlinewidth": 1,
             "tickcolor": "rgb(36,36,36)",
             "ticks": "outside"
            },
            "type": "choropleth"
           }
          ],
          "contour": [
           {
            "colorbar": {
             "outlinewidth": 1,
             "tickcolor": "rgb(36,36,36)",
             "ticks": "outside"
            },
            "colorscale": [
             [
              0,
              "#440154"
             ],
             [
              0.1111111111111111,
              "#482878"
             ],
             [
              0.2222222222222222,
              "#3e4989"
             ],
             [
              0.3333333333333333,
              "#31688e"
             ],
             [
              0.4444444444444444,
              "#26828e"
             ],
             [
              0.5555555555555556,
              "#1f9e89"
             ],
             [
              0.6666666666666666,
              "#35b779"
             ],
             [
              0.7777777777777778,
              "#6ece58"
             ],
             [
              0.8888888888888888,
              "#b5de2b"
             ],
             [
              1,
              "#fde725"
             ]
            ],
            "type": "contour"
           }
          ],
          "contourcarpet": [
           {
            "colorbar": {
             "outlinewidth": 1,
             "tickcolor": "rgb(36,36,36)",
             "ticks": "outside"
            },
            "type": "contourcarpet"
           }
          ],
          "heatmap": [
           {
            "colorbar": {
             "outlinewidth": 1,
             "tickcolor": "rgb(36,36,36)",
             "ticks": "outside"
            },
            "colorscale": [
             [
              0,
              "#440154"
             ],
             [
              0.1111111111111111,
              "#482878"
             ],
             [
              0.2222222222222222,
              "#3e4989"
             ],
             [
              0.3333333333333333,
              "#31688e"
             ],
             [
              0.4444444444444444,
              "#26828e"
             ],
             [
              0.5555555555555556,
              "#1f9e89"
             ],
             [
              0.6666666666666666,
              "#35b779"
             ],
             [
              0.7777777777777778,
              "#6ece58"
             ],
             [
              0.8888888888888888,
              "#b5de2b"
             ],
             [
              1,
              "#fde725"
             ]
            ],
            "type": "heatmap"
           }
          ],
          "histogram": [
           {
            "marker": {
             "line": {
              "color": "white",
              "width": 0.6
             }
            },
            "type": "histogram"
           }
          ],
          "histogram2d": [
           {
            "colorbar": {
             "outlinewidth": 1,
             "tickcolor": "rgb(36,36,36)",
             "ticks": "outside"
            },
            "colorscale": [
             [
              0,
              "#440154"
             ],
             [
              0.1111111111111111,
              "#482878"
             ],
             [
              0.2222222222222222,
              "#3e4989"
             ],
             [
              0.3333333333333333,
              "#31688e"
             ],
             [
              0.4444444444444444,
              "#26828e"
             ],
             [
              0.5555555555555556,
              "#1f9e89"
             ],
             [
              0.6666666666666666,
              "#35b779"
             ],
             [
              0.7777777777777778,
              "#6ece58"
             ],
             [
              0.8888888888888888,
              "#b5de2b"
             ],
             [
              1,
              "#fde725"
             ]
            ],
            "type": "histogram2d"
           }
          ],
          "histogram2dcontour": [
           {
            "colorbar": {
             "outlinewidth": 1,
             "tickcolor": "rgb(36,36,36)",
             "ticks": "outside"
            },
            "colorscale": [
             [
              0,
              "#440154"
             ],
             [
              0.1111111111111111,
              "#482878"
             ],
             [
              0.2222222222222222,
              "#3e4989"
             ],
             [
              0.3333333333333333,
              "#31688e"
             ],
             [
              0.4444444444444444,
              "#26828e"
             ],
             [
              0.5555555555555556,
              "#1f9e89"
             ],
             [
              0.6666666666666666,
              "#35b779"
             ],
             [
              0.7777777777777778,
              "#6ece58"
             ],
             [
              0.8888888888888888,
              "#b5de2b"
             ],
             [
              1,
              "#fde725"
             ]
            ],
            "type": "histogram2dcontour"
           }
          ],
          "mesh3d": [
           {
            "colorbar": {
             "outlinewidth": 1,
             "tickcolor": "rgb(36,36,36)",
             "ticks": "outside"
            },
            "type": "mesh3d"
           }
          ],
          "parcoords": [
           {
            "line": {
             "colorbar": {
              "outlinewidth": 1,
              "tickcolor": "rgb(36,36,36)",
              "ticks": "outside"
             }
            },
            "type": "parcoords"
           }
          ],
          "pie": [
           {
            "automargin": true,
            "type": "pie"
           }
          ],
          "scatter": [
           {
            "fillpattern": {
             "fillmode": "overlay",
             "size": 10,
             "solidity": 0.2
            },
            "type": "scatter"
           }
          ],
          "scatter3d": [
           {
            "line": {
             "colorbar": {
              "outlinewidth": 1,
              "tickcolor": "rgb(36,36,36)",
              "ticks": "outside"
             }
            },
            "marker": {
             "colorbar": {
              "outlinewidth": 1,
              "tickcolor": "rgb(36,36,36)",
              "ticks": "outside"
             }
            },
            "type": "scatter3d"
           }
          ],
          "scattercarpet": [
           {
            "marker": {
             "colorbar": {
              "outlinewidth": 1,
              "tickcolor": "rgb(36,36,36)",
              "ticks": "outside"
             }
            },
            "type": "scattercarpet"
           }
          ],
          "scattergeo": [
           {
            "marker": {
             "colorbar": {
              "outlinewidth": 1,
              "tickcolor": "rgb(36,36,36)",
              "ticks": "outside"
             }
            },
            "type": "scattergeo"
           }
          ],
          "scattergl": [
           {
            "marker": {
             "colorbar": {
              "outlinewidth": 1,
              "tickcolor": "rgb(36,36,36)",
              "ticks": "outside"
             }
            },
            "type": "scattergl"
           }
          ],
          "scattermap": [
           {
            "marker": {
             "colorbar": {
              "outlinewidth": 1,
              "tickcolor": "rgb(36,36,36)",
              "ticks": "outside"
             }
            },
            "type": "scattermap"
           }
          ],
          "scattermapbox": [
           {
            "marker": {
             "colorbar": {
              "outlinewidth": 1,
              "tickcolor": "rgb(36,36,36)",
              "ticks": "outside"
             }
            },
            "type": "scattermapbox"
           }
          ],
          "scatterpolar": [
           {
            "marker": {
             "colorbar": {
              "outlinewidth": 1,
              "tickcolor": "rgb(36,36,36)",
              "ticks": "outside"
             }
            },
            "type": "scatterpolar"
           }
          ],
          "scatterpolargl": [
           {
            "marker": {
             "colorbar": {
              "outlinewidth": 1,
              "tickcolor": "rgb(36,36,36)",
              "ticks": "outside"
             }
            },
            "type": "scatterpolargl"
           }
          ],
          "scatterternary": [
           {
            "marker": {
             "colorbar": {
              "outlinewidth": 1,
              "tickcolor": "rgb(36,36,36)",
              "ticks": "outside"
             }
            },
            "type": "scatterternary"
           }
          ],
          "surface": [
           {
            "colorbar": {
             "outlinewidth": 1,
             "tickcolor": "rgb(36,36,36)",
             "ticks": "outside"
            },
            "colorscale": [
             [
              0,
              "#440154"
             ],
             [
              0.1111111111111111,
              "#482878"
             ],
             [
              0.2222222222222222,
              "#3e4989"
             ],
             [
              0.3333333333333333,
              "#31688e"
             ],
             [
              0.4444444444444444,
              "#26828e"
             ],
             [
              0.5555555555555556,
              "#1f9e89"
             ],
             [
              0.6666666666666666,
              "#35b779"
             ],
             [
              0.7777777777777778,
              "#6ece58"
             ],
             [
              0.8888888888888888,
              "#b5de2b"
             ],
             [
              1,
              "#fde725"
             ]
            ],
            "type": "surface"
           }
          ],
          "table": [
           {
            "cells": {
             "fill": {
              "color": "rgb(237,237,237)"
             },
             "line": {
              "color": "white"
             }
            },
            "header": {
             "fill": {
              "color": "rgb(217,217,217)"
             },
             "line": {
              "color": "white"
             }
            },
            "type": "table"
           }
          ]
         },
         "layout": {
          "annotationdefaults": {
           "arrowhead": 0,
           "arrowwidth": 1
          },
          "autotypenumbers": "strict",
          "coloraxis": {
           "colorbar": {
            "outlinewidth": 1,
            "tickcolor": "rgb(36,36,36)",
            "ticks": "outside"
           }
          },
          "colorscale": {
           "diverging": [
            [
             0,
             "rgb(103,0,31)"
            ],
            [
             0.1,
             "rgb(178,24,43)"
            ],
            [
             0.2,
             "rgb(214,96,77)"
            ],
            [
             0.3,
             "rgb(244,165,130)"
            ],
            [
             0.4,
             "rgb(253,219,199)"
            ],
            [
             0.5,
             "rgb(247,247,247)"
            ],
            [
             0.6,
             "rgb(209,229,240)"
            ],
            [
             0.7,
             "rgb(146,197,222)"
            ],
            [
             0.8,
             "rgb(67,147,195)"
            ],
            [
             0.9,
             "rgb(33,102,172)"
            ],
            [
             1,
             "rgb(5,48,97)"
            ]
           ],
           "sequential": [
            [
             0,
             "#440154"
            ],
            [
             0.1111111111111111,
             "#482878"
            ],
            [
             0.2222222222222222,
             "#3e4989"
            ],
            [
             0.3333333333333333,
             "#31688e"
            ],
            [
             0.4444444444444444,
             "#26828e"
            ],
            [
             0.5555555555555556,
             "#1f9e89"
            ],
            [
             0.6666666666666666,
             "#35b779"
            ],
            [
             0.7777777777777778,
             "#6ece58"
            ],
            [
             0.8888888888888888,
             "#b5de2b"
            ],
            [
             1,
             "#fde725"
            ]
           ],
           "sequentialminus": [
            [
             0,
             "#440154"
            ],
            [
             0.1111111111111111,
             "#482878"
            ],
            [
             0.2222222222222222,
             "#3e4989"
            ],
            [
             0.3333333333333333,
             "#31688e"
            ],
            [
             0.4444444444444444,
             "#26828e"
            ],
            [
             0.5555555555555556,
             "#1f9e89"
            ],
            [
             0.6666666666666666,
             "#35b779"
            ],
            [
             0.7777777777777778,
             "#6ece58"
            ],
            [
             0.8888888888888888,
             "#b5de2b"
            ],
            [
             1,
             "#fde725"
            ]
           ]
          },
          "colorway": [
           "#1F77B4",
           "#FF7F0E",
           "#2CA02C",
           "#D62728",
           "#9467BD",
           "#8C564B",
           "#E377C2",
           "#7F7F7F",
           "#BCBD22",
           "#17BECF"
          ],
          "font": {
           "color": "rgb(36,36,36)"
          },
          "geo": {
           "bgcolor": "white",
           "lakecolor": "white",
           "landcolor": "white",
           "showlakes": true,
           "showland": true,
           "subunitcolor": "white"
          },
          "hoverlabel": {
           "align": "left"
          },
          "hovermode": "closest",
          "mapbox": {
           "style": "light"
          },
          "paper_bgcolor": "white",
          "plot_bgcolor": "white",
          "polar": {
           "angularaxis": {
            "gridcolor": "rgb(232,232,232)",
            "linecolor": "rgb(36,36,36)",
            "showgrid": false,
            "showline": true,
            "ticks": "outside"
           },
           "bgcolor": "white",
           "radialaxis": {
            "gridcolor": "rgb(232,232,232)",
            "linecolor": "rgb(36,36,36)",
            "showgrid": false,
            "showline": true,
            "ticks": "outside"
           }
          },
          "scene": {
           "xaxis": {
            "backgroundcolor": "white",
            "gridcolor": "rgb(232,232,232)",
            "gridwidth": 2,
            "linecolor": "rgb(36,36,36)",
            "showbackground": true,
            "showgrid": false,
            "showline": true,
            "ticks": "outside",
            "zeroline": false,
            "zerolinecolor": "rgb(36,36,36)"
           },
           "yaxis": {
            "backgroundcolor": "white",
            "gridcolor": "rgb(232,232,232)",
            "gridwidth": 2,
            "linecolor": "rgb(36,36,36)",
            "showbackground": true,
            "showgrid": false,
            "showline": true,
            "ticks": "outside",
            "zeroline": false,
            "zerolinecolor": "rgb(36,36,36)"
           },
           "zaxis": {
            "backgroundcolor": "white",
            "gridcolor": "rgb(232,232,232)",
            "gridwidth": 2,
            "linecolor": "rgb(36,36,36)",
            "showbackground": true,
            "showgrid": false,
            "showline": true,
            "ticks": "outside",
            "zeroline": false,
            "zerolinecolor": "rgb(36,36,36)"
           }
          },
          "shapedefaults": {
           "fillcolor": "black",
           "line": {
            "width": 0
           },
           "opacity": 0.3
          },
          "ternary": {
           "aaxis": {
            "gridcolor": "rgb(232,232,232)",
            "linecolor": "rgb(36,36,36)",
            "showgrid": false,
            "showline": true,
            "ticks": "outside"
           },
           "baxis": {
            "gridcolor": "rgb(232,232,232)",
            "linecolor": "rgb(36,36,36)",
            "showgrid": false,
            "showline": true,
            "ticks": "outside"
           },
           "bgcolor": "white",
           "caxis": {
            "gridcolor": "rgb(232,232,232)",
            "linecolor": "rgb(36,36,36)",
            "showgrid": false,
            "showline": true,
            "ticks": "outside"
           }
          },
          "title": {
           "x": 0.05
          },
          "xaxis": {
           "automargin": true,
           "gridcolor": "rgb(232,232,232)",
           "linecolor": "rgb(36,36,36)",
           "showgrid": false,
           "showline": true,
           "ticks": "outside",
           "title": {
            "standoff": 15
           },
           "zeroline": false,
           "zerolinecolor": "rgb(36,36,36)"
          },
          "yaxis": {
           "automargin": true,
           "gridcolor": "rgb(232,232,232)",
           "linecolor": "rgb(36,36,36)",
           "showgrid": false,
           "showline": true,
           "ticks": "outside",
           "title": {
            "standoff": 15
           },
           "zeroline": false,
           "zerolinecolor": "rgb(36,36,36)"
          }
         }
        },
        "title": {
         "text": "Interactive Volcano Plot"
        },
        "xaxis": {
         "anchor": "y",
         "domain": [
          0,
          1
         ],
         "title": {
          "text": "Log2 Fold Change"
         }
        },
        "yaxis": {
         "anchor": "x",
         "domain": [
          0,
          1
         ],
         "title": {
          "text": "-Log10 Adjusted P-Value"
         }
        }
       }
      }
     },
     "metadata": {},
     "output_type": "display_data"
    }
   ],
   "source": [
    "import plotly.express as px\n",
    "import pandas as pd\n",
    "import numpy as np\n",
    "\n",
    "# Color logic\n",
    "df['regulation'] = 'Not significant'\n",
    "df.loc[(df['logfoldchanges'] > 1) & (df['pvals_adj'] < 0.05), 'regulation'] = 'Upregulated'\n",
    "df.loc[(df['logfoldchanges'] < -1) & (df['pvals_adj'] < 0.05), 'regulation'] = 'Downregulated'\n",
    "\n",
    "# Create interactive plot\n",
    "fig = px.scatter(\n",
    "    df,\n",
    "    x='logfoldchanges',\n",
    "    y='neg_log10_padj',\n",
    "    color='regulation',\n",
    "    hover_data=['names', 'logfoldchanges', 'pvals_adj'],\n",
    "    color_discrete_map={\n",
    "        'Upregulated': 'red',\n",
    "        'Downregulated': 'blue',\n",
    "        'Not significant': 'lightgray'\n",
    "    },\n",
    "    title='Interactive Volcano Plot',\n",
    "    labels={\n",
    "        'logfoldchanges': 'Log2 Fold Change',\n",
    "        'neg_log10_padj': '-Log10 Adjusted P-Value'\n",
    "    }\n",
    ")\n",
    "\n",
    "# Add text labels for top genes\n",
    "for i, row in pd.concat([top_up, top_down]).iterrows():\n",
    "    fig.add_annotation(\n",
    "        x=row['logfoldchanges'],\n",
    "        y=row['neg_log10_padj'],\n",
    "        text=row['names'],\n",
    "        showarrow=True,\n",
    "        arrowhead=1,\n",
    "        ax=20,\n",
    "        ay=-20,\n",
    "        font=dict(size=10)\n",
    "    )\n",
    "\n",
    "fig.update_layout(\n",
    "    template='simple_white',\n",
    "    legend_title_text='Gene Regulation',\n",
    "    hovermode='closest'\n",
    ")\n",
    "\n",
    "fig.show()\n"
   ]
  },
  {
   "cell_type": "code",
   "execution_count": null,
   "id": "8f8fc6af",
   "metadata": {},
   "outputs": [
    {
     "data": {
      "image/png": "[encoded data removed]",
      "text/plain": [
       "<Figure size 1000x700 with 1 Axes>"
      ]
     },
     "metadata": {},
     "output_type": "display_data"
    }
   ],
   "source": [
    "# Cap y-values for visualization\n",
    "y_cap = 50\n",
    "df['neg_log10_padj_capped'] = df['neg_log10_padj'].clip(upper=y_cap)\n",
    "\n",
    "# Define significance\n",
    "df['color'] = 'grey'\n",
    "df.loc[(df['logfoldchanges'] > 1) & (df['pvals_adj'] < 0.05), 'color'] = 'red'\n",
    "df.loc[(df['logfoldchanges'] < -1) & (df['pvals_adj'] < 0.05), 'color'] = 'blue'\n",
    "\n",
    "# Create plot\n",
    "plt.figure(figsize=(10, 7))\n",
    "plt.scatter(df['logfoldchanges'], df['neg_log10_padj_capped'], c=df['color'], alpha=0.7, s=15, edgecolor='none')\n",
    "plt.axhline(y=-np.log10(0.05), color='black', linestyle='--', linewidth=1)\n",
    "plt.axvline(x=1, color='black', linestyle='--', linewidth=1)\n",
    "plt.axvline(x=-1, color='black', linestyle='--', linewidth=1)\n",
    "\n",
    "# Label top 10 most significant genes\n",
    "top_genes = df.nsmallest(10, 'pvals_adj')\n",
    "for _, row in top_genes.iterrows():\n",
    "    plt.text(row['logfoldchanges'], min(row['neg_log10_padj_capped'] + 1, y_cap),\n",
    "             row['names'], fontsize=8, ha='center', color='black')\n",
    "\n",
    "plt.title(\"Volcano Plot: LYM vs B\")\n",
    "plt.xlabel(\"Log2 Fold Change\")\n",
    "plt.ylabel(\"-Log10 Adjusted P-Value (Capped at 50)\")\n",
    "plt.grid(True, linestyle='--', alpha=0.3)\n",
    "plt.ylim([0, y_cap + 5])\n",
    "plt.tight_layout()\n",
    "plt.show()"
   ]
  },
  {
   "cell_type": "code",
   "execution_count": 273,
   "id": "4738a02a",
   "metadata": {},
   "outputs": [],
   "source": [
    "pre_rank = de[['names','logfoldchanges']].dropna()\n",
    "pre_rank = pre_rank.set_index('names')['logfoldchanges'].sort_values(ascending=False)"
   ]
  },
  {
   "cell_type": "code",
   "execution_count": 274,
   "id": "3b78ab83",
   "metadata": {},
   "outputs": [
    {
     "data": {
      "text/plain": [
       "names\n",
       "LINC00885     28.199322\n",
       "AC124254.2    27.587738\n",
       "VASH2         27.266937\n",
       "MYO3B         26.611078\n",
       "AC106897.1    26.422716\n",
       "                ...    \n",
       "AL355053.1   -22.036936\n",
       "AP000345.3   -22.037790\n",
       "SERPINB2     -22.042740\n",
       "LINC01756    -22.091923\n",
       "AP001269.2   -22.091923\n",
       "Name: logfoldchanges, Length: 3000, dtype: float32"
      ]
     },
     "execution_count": 274,
     "metadata": {},
     "output_type": "execute_result"
    }
   ],
   "source": [
    "pre_rank"
   ]
  },
  {
   "cell_type": "code",
   "execution_count": 275,
   "id": "1de58235",
   "metadata": {},
   "outputs": [
    {
     "name": "stderr",
     "output_type": "stream",
     "text": [
      "2025-05-20 14:26:30,645 [WARNING] Duplicated values found in preranked stats: 6.93% of genes\n",
      "The order of those genes will be arbitrary, which may produce unexpected results.\n"
     ]
    }
   ],
   "source": [
    "gs_res = gp.prerank(\n",
    "    rnk=pre_rank,\n",
    "    gene_sets='MSigDB_Hallmark_2020',\n",
    "    threads=4,\n",
    "    permutation_num=100,      # reduce for speed, increase for robustness\n",
    "    outdir=None,              # don’t write to disk\n",
    "    seed=42,\n",
    ")\n"
   ]
  },
  {
   "cell_type": "code",
   "execution_count": 276,
   "id": "0b2a87cc",
   "metadata": {},
   "outputs": [
    {
     "data": {
      "application/vnd.microsoft.datawrangler.viewer.v0+json": {
       "columns": [
        {
         "name": "index",
         "rawType": "int64",
         "type": "integer"
        },
        {
         "name": "Name",
         "rawType": "object",
         "type": "string"
        },
        {
         "name": "Term",
         "rawType": "object",
         "type": "string"
        },
        {
         "name": "ES",
         "rawType": "object",
         "type": "string"
        },
        {
         "name": "NES",
         "rawType": "object",
         "type": "string"
        },
        {
         "name": "NOM p-val",
         "rawType": "object",
         "type": "string"
        },
        {
         "name": "FDR q-val",
         "rawType": "object",
         "type": "string"
        },
        {
         "name": "FWER p-val",
         "rawType": "object",
         "type": "string"
        },
        {
         "name": "Tag %",
         "rawType": "object",
         "type": "string"
        },
        {
         "name": "Gene %",
         "rawType": "object",
         "type": "string"
        },
        {
         "name": "Lead_genes",
         "rawType": "object",
         "type": "string"
        }
       ],
       "conversionMethod": "pd.DataFrame",
       "ref": "68eda962-5781-40f2-950a-75e259d3797f",
       "rows": [
        [
         "0",
         "prerank",
         "UV Response Dn",
         "0.6457803900867329",
         "1.1229868598177166",
         "0.14",
         "1.0",
         "0.95",
         "3/16",
         "13.40%",
         "TFPI;MMP16;COL11A1"
        ],
        [
         "1",
         "prerank",
         "Epithelial Mesenchymal Transition",
         "0.5609039340405465",
         "1.039005988561109",
         "0.29",
         "1.0",
         "1.0",
         "11/46",
         "19.23%",
         "SFRP4;LAMA2;TNC;THBS1;COL5A3;PLOD2;DCN;CDH11;COL11A1;MXRA5;COL16A1"
        ],
        [
         "2",
         "prerank",
         "Estrogen Response Early",
         "0.5828418863935038",
         "1.0325191830653966",
         "0.45",
         "1.0",
         "1.0",
         "5/21",
         "15.30%",
         "FOS;CLIC3;GFRA1;ELOVL2;TSKU"
        ],
        [
         "3",
         "prerank",
         "Estrogen Response Late",
         "0.5607724284582657",
         "1.0255658690170466",
         "0.494949494949495",
         "1.0",
         "1.0",
         "8/22",
         "30.27%",
         "FOS;CD9;PKP3;CLIC3;PTGER3;FGFR3;TPBG;CYP4F11"
        ],
        [
         "4",
         "prerank",
         "Apical Junction",
         "0.5617038501681909",
         "1.00689043401258",
         "0.55",
         "1.0",
         "1.0",
         "9/22",
         "35.23%",
         "VWF;NRXN2;PARVA;CNTN1;CDH11;COL16A1;ADRA1B;DSC1;ADAMTS5"
        ],
        [
         "5",
         "prerank",
         "Complement",
         "-0.28825458120265013",
         "-1.0",
         "1.0",
         "1.0",
         "0.0",
         "2/38",
         "0.83%",
         "SERPINB2;S100A12"
        ],
        [
         "6",
         "prerank",
         "Oxidative Phosphorylation",
         "-0.4618255853410248",
         "-1.0",
         "1.0",
         "1.0",
         "0.0",
         "53/53",
         "54.67%",
         "SLC25A6;CYB5R3;PDP1;ATP5ME;NDUFA2;COX5B;ATP5F1E;ACADSB;COX7C;COX6A1;BAX;NDUFS3;COX4I1;COX7A2;SLC25A5;UQCR10;COX6B1;ATP5F1D;LDHB;NDUFB3;ATP6V0C;ATP5F1B;UQCR11;NDUFA3;NDUFA1;ETFB;ATP5PO;NDUFB7;ATP5MC1;NDUFB8;NDUFS6;ACAT1;HCCS;MDH2;UQCRC1;MRPL15;LDHA;ATP5MG;ECHS1;UQCRH;NDUFA4;SLC25A3;NDUFB2;COX6C;NDUFC2;SDHC;UQCRFS1;CYCS;ATP5PF;PHB2;ALDH6A1;MTX2;ATP5MF"
        ],
        [
         "7",
         "prerank",
         "Unfolded Protein Response",
         "-0.3855946398659967",
         "-1.0",
         "1.0",
         "1.0",
         "0.0",
         "15/15",
         "61.67%",
         "CCL2;EEF2;RPS14;PREB;POP4;NOP14;NOLC1;ATP6V0D1;MTHFD2;BAG3;EXOSC5;BANF1;SRPRB;GEMIN4;CKS1B"
        ],
        [
         "8",
         "prerank",
         "IL-2/STAT5 Signaling",
         "-0.3263935527199463",
         "-1.0",
         "1.0",
         "1.0",
         "0.0",
         "22/22",
         "67.63%",
         "SELL;IGF1R;IL1R2;LTB;ICOS;CAPG;SPP1;ITGA6;IKZF2;TNFRSF9;RORA;HOPX;CXCL10;GADD45B;NRP1;TNFRSF8;SLC39A8;RGS16;IFITM3;IL2RA;CD83;CDKN1C"
        ],
        [
         "9",
         "prerank",
         "G2-M Checkpoint",
         "-0.3861120429386112",
         "-1.0",
         "1.0",
         "1.0",
         "0.0",
         "19/19",
         "61.67%",
         "MT2A;EFNA5;HMGN2;HMGB3;RPA2;NCL;CDKN3;NOLC1;CENPF;STMN1;CDC20;MKI67;CENPE;TOP2A;KIF4A;SMC2;PLK1;PLK4;CKS1B"
        ],
        [
         "10",
         "prerank",
         "E2F Targets",
         "-0.37970430107526887",
         "-1.0",
         "1.0",
         "1.0",
         "0.0",
         "24/24",
         "62.37%",
         "RAN;TUBB;HMGB3;RPA2;PCNA;CDKN3;RFC2;CENPM;NOLC1;STMN1;MTHFD2;RRM2;CDC20;MKI67;SPC24;CENPE;NCAPD2;TOP2A;KIF4A;DIAPH3;PLK1;PLK4;CKS1B;WDR90"
        ],
        [
         "11",
         "prerank",
         "Interferon Gamma Response",
         "-0.4018187942068036",
         "-1.0",
         "1.0",
         "1.0",
         "0.0",
         "31/31",
         "60.27%",
         "IFI44L;BANK1;LY6E;DDX58;CCL2;CCL5;CXCL9;IFITM2;KLRK1;VAMP5;IDO1;PSME2;MT2A;CXCL10;IFI35;ISG20;PSMB10;IL18BP;TRIM21;PSMB8;CD69;TNFAIP2;SOD2;MTHFD2;SRI;NAMPT;SECTM1;ICAM1;IFITM3;SERPING1;IRF5"
        ],
        [
         "12",
         "prerank",
         "Myc Targets V1",
         "-0.4389750505731625",
         "-1.0",
         "1.0",
         "1.0",
         "0.0",
         "34/34",
         "56.63%",
         "RPL34;EEF1B2;RPS5;RPS2;RPL18;RPS6;RPL22;RPS3;RPS10;RPL6;RPL14;RPLP0;SNRPD2;RAN;HNRNPA1;FBL;TUFM;PCNA;HSPE1;LDHA;MRPL23;TYMS;SNRPG;NOLC1;SLC25A3;PPIA;PSMB3;ILF2;CDC20;PSMA4;MRPL9;PHB2;NCBP1;GNL3"
        ],
        [
         "13",
         "prerank",
         "Mitotic Spindle",
         "-0.4116068433411607",
         "-1.0",
         "1.0",
         "1.0",
         "0.0",
         "19/19",
         "59.13%",
         "SYNPO;ARHGDIA;MAP1S;UXT;TUBGCP6;TUBA4A;CENPF;KIF3B;KPTN;DOCK4;CENPE;TUBGCP3;TOP2A;KIF4A;CSNK1D;TSC1;CEP131;GEMIN4;PLK1"
        ],
        [
         "14",
         "prerank",
         "Coagulation",
         "0.5348581285586436",
         "0.9824231413250953",
         "0.6",
         "1.0",
         "1.0",
         "6/26",
         "12.77%",
         "CD9;CFD;VWF;PROS1;THBS1;F10"
        ],
        [
         "15",
         "prerank",
         "KRAS Signaling Up",
         "0.5299474064698569",
         "0.982289737457155",
         "0.5959595959595959",
         "1.0",
         "1.0",
         "6/25",
         "32.47%",
         "EPHB2;SCN1B;TFPI;GFPT2;CFHR2;IGFBP3"
        ],
        [
         "16",
         "prerank",
         "Hypoxia",
         "0.5202538314057261",
         "0.9326085281095791",
         "0.77",
         "1.0",
         "1.0",
         "7/26",
         "32.47%",
         "FOS;DCN;NCAN;TPBG;PPARGC1A;CDKN1C;IGFBP3"
        ],
        [
         "17",
         "prerank",
         "Inflammatory Response",
         "0.46531075598841476",
         "0.8585417059638649",
         "0.92",
         "1.0",
         "1.0",
         "7/32",
         "35.37%",
         "STAB1;SCN1B;FFAR2;FZD5;OLR1;TPBG;IL1A"
        ],
        [
         "18",
         "prerank",
         "Allograft Rejection",
         "0.4529645562249032",
         "0.8424596896288904",
         "0.9",
         "1.0",
         "1.0",
         "1/31",
         "1.67%",
         "STAB1"
        ],
        [
         "19",
         "prerank",
         "UV Response Up",
         "0.4743914987950361",
         "0.8274675523667975",
         "0.898989898989899",
         "1.0",
         "1.0",
         "2/16",
         "7.37%",
         "FOS;FMO1"
        ],
        [
         "20",
         "prerank",
         "mTORC1 Signaling",
         "0.43400803969833934",
         "0.7882448742293957",
         "0.93",
         "1.0",
         "1.0",
         "2/29",
         "5.90%",
         "CD9;PLOD2"
        ],
        [
         "21",
         "prerank",
         "KRAS Signaling Dn",
         "0.42115599440122886",
         "0.7381782860028497",
         "0.9393939393939394",
         "1.0",
         "1.0",
         "5/17",
         "31.90%",
         "BRDT;TEX15;PAX3;FGFR3;ATP4A"
        ],
        [
         "22",
         "prerank",
         "Myogenesis",
         "0.3989117650246234",
         "0.7378524363672418",
         "0.99",
         "1.0",
         "1.0",
         "8/34",
         "34.00%",
         "VIPR1;LAMA2;CFD;CRYAB;HSPB2;SLN;IGFBP3;SOD3"
        ],
        [
         "23",
         "prerank",
         "Glycolysis",
         "0.4031471380339516",
         "0.7339301847114498",
         "0.9494949494949495",
         "1.0",
         "1.0",
         "6/24",
         "36.73%",
         "PLOD2;DCN;TPBG;IGFBP3;BIK;B4GALT2"
        ],
        [
         "24",
         "prerank",
         "p53 Pathway",
         "0.3818470839149019",
         "0.7020657082886109",
         "0.97",
         "1.0",
         "1.0",
         "6/29",
         "38.30%",
         "FOS;FGF13;CLCA2;IL1A;TP63;CDK5R1"
        ],
        [
         "25",
         "prerank",
         "TNF-alpha Signaling via NF-kB",
         "0.3295407867447408",
         "0.6083333105544751",
         "1.0",
         "1.0",
         "1.0",
         "7/35",
         "36.77%",
         "FOS;TNC;GFPT2;FJX1;OLR1;IL1A;NR4A3"
        ],
        [
         "26",
         "prerank",
         "Apoptosis",
         "0.3160017107439285",
         "0.5759154795733056",
         "1.0",
         "1.0",
         "1.0",
         "9/28",
         "43.50%",
         "DCN;IL1A;BIK;LEF1;IL18;CTH;CASP9;IFITM3;BCL2L2"
        ],
        [
         "27",
         "prerank",
         "Fatty Acid Metabolism",
         "0.30894898161245943",
         "0.5513486318499584",
         "0.99",
         "1.0",
         "1.0",
         "1/22",
         "7.37%",
         "FMO1"
        ],
        [
         "28",
         "prerank",
         "Adipogenesis",
         "0.27045957416298083",
         "0.4847597083665134",
         "1.0",
         "1.0",
         "1.0",
         "25/27",
         "70.97%",
         "PTGER3;ELOVL6;ENPP2;NKIRAS1;CRAT;UCK1;CD36;ARAF;SDHC;DDT;SORBS1;ECHS1;MRPL15;UQCRC1;MDH2;NDUFB7;ATP5PO;ETFB;UQCR11;UQCR10;NDUFS3;COX6A1;PREB;APOE;VEGFB"
        ]
       ],
       "shape": {
        "columns": 10,
        "rows": 29
       }
      },
      "text/html": [
       "<div>\n",
       "<style scoped>\n",
       "    .dataframe tbody tr th:only-of-type {\n",
       "        vertical-align: middle;\n",
       "    }\n",
       "\n",
       "    .dataframe tbody tr th {\n",
       "        vertical-align: top;\n",
       "    }\n",
       "\n",
       "    .dataframe thead th {\n",
       "        text-align: right;\n",
       "    }\n",
       "</style>\n",
       "<table border=\"1\" class=\"dataframe\">\n",
       "  <thead>\n",
       "    <tr style=\"text-align: right;\">\n",
       "      <th></th>\n",
       "      <th>Name</th>\n",
       "      <th>Term</th>\n",
       "      <th>ES</th>\n",
       "      <th>NES</th>\n",
       "      <th>NOM p-val</th>\n",
       "      <th>FDR q-val</th>\n",
       "      <th>FWER p-val</th>\n",
       "      <th>Tag %</th>\n",
       "      <th>Gene %</th>\n",
       "      <th>Lead_genes</th>\n",
       "    </tr>\n",
       "  </thead>\n",
       "  <tbody>\n",
       "    <tr>\n",
       "      <th>0</th>\n",
       "      <td>prerank</td>\n",
       "      <td>UV Response Dn</td>\n",
       "      <td>0.64578</td>\n",
       "      <td>1.122987</td>\n",
       "      <td>0.14</td>\n",
       "      <td>1.0</td>\n",
       "      <td>0.95</td>\n",
       "      <td>3/16</td>\n",
       "      <td>13.40%</td>\n",
       "      <td>TFPI;MMP16;COL11A1</td>\n",
       "    </tr>\n",
       "    <tr>\n",
       "      <th>1</th>\n",
       "      <td>prerank</td>\n",
       "      <td>Epithelial Mesenchymal Transition</td>\n",
       "      <td>0.560904</td>\n",
       "      <td>1.039006</td>\n",
       "      <td>0.29</td>\n",
       "      <td>1.0</td>\n",
       "      <td>1.0</td>\n",
       "      <td>11/46</td>\n",
       "      <td>19.23%</td>\n",
       "      <td>SFRP4;LAMA2;TNC;THBS1;COL5A3;PLOD2;DCN;CDH11;C...</td>\n",
       "    </tr>\n",
       "    <tr>\n",
       "      <th>2</th>\n",
       "      <td>prerank</td>\n",
       "      <td>Estrogen Response Early</td>\n",
       "      <td>0.582842</td>\n",
       "      <td>1.032519</td>\n",
       "      <td>0.45</td>\n",
       "      <td>1.0</td>\n",
       "      <td>1.0</td>\n",
       "      <td>5/21</td>\n",
       "      <td>15.30%</td>\n",
       "      <td>FOS;CLIC3;GFRA1;ELOVL2;TSKU</td>\n",
       "    </tr>\n",
       "    <tr>\n",
       "      <th>3</th>\n",
       "      <td>prerank</td>\n",
       "      <td>Estrogen Response Late</td>\n",
       "      <td>0.560772</td>\n",
       "      <td>1.025566</td>\n",
       "      <td>0.494949</td>\n",
       "      <td>1.0</td>\n",
       "      <td>1.0</td>\n",
       "      <td>8/22</td>\n",
       "      <td>30.27%</td>\n",
       "      <td>FOS;CD9;PKP3;CLIC3;PTGER3;FGFR3;TPBG;CYP4F11</td>\n",
       "    </tr>\n",
       "    <tr>\n",
       "      <th>4</th>\n",
       "      <td>prerank</td>\n",
       "      <td>Apical Junction</td>\n",
       "      <td>0.561704</td>\n",
       "      <td>1.00689</td>\n",
       "      <td>0.55</td>\n",
       "      <td>1.0</td>\n",
       "      <td>1.0</td>\n",
       "      <td>9/22</td>\n",
       "      <td>35.23%</td>\n",
       "      <td>VWF;NRXN2;PARVA;CNTN1;CDH11;COL16A1;ADRA1B;DSC...</td>\n",
       "    </tr>\n",
       "    <tr>\n",
       "      <th>5</th>\n",
       "      <td>prerank</td>\n",
       "      <td>Complement</td>\n",
       "      <td>-0.288255</td>\n",
       "      <td>-1.0</td>\n",
       "      <td>1.0</td>\n",
       "      <td>1.0</td>\n",
       "      <td>0.0</td>\n",
       "      <td>2/38</td>\n",
       "      <td>0.83%</td>\n",
       "      <td>SERPINB2;S100A12</td>\n",
       "    </tr>\n",
       "    <tr>\n",
       "      <th>6</th>\n",
       "      <td>prerank</td>\n",
       "      <td>Oxidative Phosphorylation</td>\n",
       "      <td>-0.461826</td>\n",
       "      <td>-1.0</td>\n",
       "      <td>1.0</td>\n",
       "      <td>1.0</td>\n",
       "      <td>0.0</td>\n",
       "      <td>53/53</td>\n",
       "      <td>54.67%</td>\n",
       "      <td>SLC25A6;CYB5R3;PDP1;ATP5ME;NDUFA2;COX5B;ATP5F1...</td>\n",
       "    </tr>\n",
       "    <tr>\n",
       "      <th>7</th>\n",
       "      <td>prerank</td>\n",
       "      <td>Unfolded Protein Response</td>\n",
       "      <td>-0.385595</td>\n",
       "      <td>-1.0</td>\n",
       "      <td>1.0</td>\n",
       "      <td>1.0</td>\n",
       "      <td>0.0</td>\n",
       "      <td>15/15</td>\n",
       "      <td>61.67%</td>\n",
       "      <td>CCL2;EEF2;RPS14;PREB;POP4;NOP14;NOLC1;ATP6V0D1...</td>\n",
       "    </tr>\n",
       "    <tr>\n",
       "      <th>8</th>\n",
       "      <td>prerank</td>\n",
       "      <td>IL-2/STAT5 Signaling</td>\n",
       "      <td>-0.326394</td>\n",
       "      <td>-1.0</td>\n",
       "      <td>1.0</td>\n",
       "      <td>1.0</td>\n",
       "      <td>0.0</td>\n",
       "      <td>22/22</td>\n",
       "      <td>67.63%</td>\n",
       "      <td>SELL;IGF1R;IL1R2;LTB;ICOS;CAPG;SPP1;ITGA6;IKZF...</td>\n",
       "    </tr>\n",
       "    <tr>\n",
       "      <th>9</th>\n",
       "      <td>prerank</td>\n",
       "      <td>G2-M Checkpoint</td>\n",
       "      <td>-0.386112</td>\n",
       "      <td>-1.0</td>\n",
       "      <td>1.0</td>\n",
       "      <td>1.0</td>\n",
       "      <td>0.0</td>\n",
       "      <td>19/19</td>\n",
       "      <td>61.67%</td>\n",
       "      <td>MT2A;EFNA5;HMGN2;HMGB3;RPA2;NCL;CDKN3;NOLC1;CE...</td>\n",
       "    </tr>\n",
       "    <tr>\n",
       "      <th>10</th>\n",
       "      <td>prerank</td>\n",
       "      <td>E2F Targets</td>\n",
       "      <td>-0.379704</td>\n",
       "      <td>-1.0</td>\n",
       "      <td>1.0</td>\n",
       "      <td>1.0</td>\n",
       "      <td>0.0</td>\n",
       "      <td>24/24</td>\n",
       "      <td>62.37%</td>\n",
       "      <td>RAN;TUBB;HMGB3;RPA2;PCNA;CDKN3;RFC2;CENPM;NOLC...</td>\n",
       "    </tr>\n",
       "    <tr>\n",
       "      <th>11</th>\n",
       "      <td>prerank</td>\n",
       "      <td>Interferon Gamma Response</td>\n",
       "      <td>-0.401819</td>\n",
       "      <td>-1.0</td>\n",
       "      <td>1.0</td>\n",
       "      <td>1.0</td>\n",
       "      <td>0.0</td>\n",
       "      <td>31/31</td>\n",
       "      <td>60.27%</td>\n",
       "      <td>IFI44L;BANK1;LY6E;DDX58;CCL2;CCL5;CXCL9;IFITM2...</td>\n",
       "    </tr>\n",
       "    <tr>\n",
       "      <th>12</th>\n",
       "      <td>prerank</td>\n",
       "      <td>Myc Targets V1</td>\n",
       "      <td>-0.438975</td>\n",
       "      <td>-1.0</td>\n",
       "      <td>1.0</td>\n",
       "      <td>1.0</td>\n",
       "      <td>0.0</td>\n",
       "      <td>34/34</td>\n",
       "      <td>56.63%</td>\n",
       "      <td>RPL34;EEF1B2;RPS5;RPS2;RPL18;RPS6;RPL22;RPS3;R...</td>\n",
       "    </tr>\n",
       "    <tr>\n",
       "      <th>13</th>\n",
       "      <td>prerank</td>\n",
       "      <td>Mitotic Spindle</td>\n",
       "      <td>-0.411607</td>\n",
       "      <td>-1.0</td>\n",
       "      <td>1.0</td>\n",
       "      <td>1.0</td>\n",
       "      <td>0.0</td>\n",
       "      <td>19/19</td>\n",
       "      <td>59.13%</td>\n",
       "      <td>SYNPO;ARHGDIA;MAP1S;UXT;TUBGCP6;TUBA4A;CENPF;K...</td>\n",
       "    </tr>\n",
       "    <tr>\n",
       "      <th>14</th>\n",
       "      <td>prerank</td>\n",
       "      <td>Coagulation</td>\n",
       "      <td>0.534858</td>\n",
       "      <td>0.982423</td>\n",
       "      <td>0.6</td>\n",
       "      <td>1.0</td>\n",
       "      <td>1.0</td>\n",
       "      <td>6/26</td>\n",
       "      <td>12.77%</td>\n",
       "      <td>CD9;CFD;VWF;PROS1;THBS1;F10</td>\n",
       "    </tr>\n",
       "    <tr>\n",
       "      <th>15</th>\n",
       "      <td>prerank</td>\n",
       "      <td>KRAS Signaling Up</td>\n",
       "      <td>0.529947</td>\n",
       "      <td>0.98229</td>\n",
       "      <td>0.59596</td>\n",
       "      <td>1.0</td>\n",
       "      <td>1.0</td>\n",
       "      <td>6/25</td>\n",
       "      <td>32.47%</td>\n",
       "      <td>EPHB2;SCN1B;TFPI;GFPT2;CFHR2;IGFBP3</td>\n",
       "    </tr>\n",
       "    <tr>\n",
       "      <th>16</th>\n",
       "      <td>prerank</td>\n",
       "      <td>Hypoxia</td>\n",
       "      <td>0.520254</td>\n",
       "      <td>0.932609</td>\n",
       "      <td>0.77</td>\n",
       "      <td>1.0</td>\n",
       "      <td>1.0</td>\n",
       "      <td>7/26</td>\n",
       "      <td>32.47%</td>\n",
       "      <td>FOS;DCN;NCAN;TPBG;PPARGC1A;CDKN1C;IGFBP3</td>\n",
       "    </tr>\n",
       "    <tr>\n",
       "      <th>17</th>\n",
       "      <td>prerank</td>\n",
       "      <td>Inflammatory Response</td>\n",
       "      <td>0.465311</td>\n",
       "      <td>0.858542</td>\n",
       "      <td>0.92</td>\n",
       "      <td>1.0</td>\n",
       "      <td>1.0</td>\n",
       "      <td>7/32</td>\n",
       "      <td>35.37%</td>\n",
       "      <td>STAB1;SCN1B;FFAR2;FZD5;OLR1;TPBG;IL1A</td>\n",
       "    </tr>\n",
       "    <tr>\n",
       "      <th>18</th>\n",
       "      <td>prerank</td>\n",
       "      <td>Allograft Rejection</td>\n",
       "      <td>0.452965</td>\n",
       "      <td>0.84246</td>\n",
       "      <td>0.9</td>\n",
       "      <td>1.0</td>\n",
       "      <td>1.0</td>\n",
       "      <td>1/31</td>\n",
       "      <td>1.67%</td>\n",
       "      <td>STAB1</td>\n",
       "    </tr>\n",
       "    <tr>\n",
       "      <th>19</th>\n",
       "      <td>prerank</td>\n",
       "      <td>UV Response Up</td>\n",
       "      <td>0.474391</td>\n",
       "      <td>0.827468</td>\n",
       "      <td>0.89899</td>\n",
       "      <td>1.0</td>\n",
       "      <td>1.0</td>\n",
       "      <td>2/16</td>\n",
       "      <td>7.37%</td>\n",
       "      <td>FOS;FMO1</td>\n",
       "    </tr>\n",
       "    <tr>\n",
       "      <th>20</th>\n",
       "      <td>prerank</td>\n",
       "      <td>mTORC1 Signaling</td>\n",
       "      <td>0.434008</td>\n",
       "      <td>0.788245</td>\n",
       "      <td>0.93</td>\n",
       "      <td>1.0</td>\n",
       "      <td>1.0</td>\n",
       "      <td>2/29</td>\n",
       "      <td>5.90%</td>\n",
       "      <td>CD9;PLOD2</td>\n",
       "    </tr>\n",
       "    <tr>\n",
       "      <th>21</th>\n",
       "      <td>prerank</td>\n",
       "      <td>KRAS Signaling Dn</td>\n",
       "      <td>0.421156</td>\n",
       "      <td>0.738178</td>\n",
       "      <td>0.939394</td>\n",
       "      <td>1.0</td>\n",
       "      <td>1.0</td>\n",
       "      <td>5/17</td>\n",
       "      <td>31.90%</td>\n",
       "      <td>BRDT;TEX15;PAX3;FGFR3;ATP4A</td>\n",
       "    </tr>\n",
       "    <tr>\n",
       "      <th>22</th>\n",
       "      <td>prerank</td>\n",
       "      <td>Myogenesis</td>\n",
       "      <td>0.398912</td>\n",
       "      <td>0.737852</td>\n",
       "      <td>0.99</td>\n",
       "      <td>1.0</td>\n",
       "      <td>1.0</td>\n",
       "      <td>8/34</td>\n",
       "      <td>34.00%</td>\n",
       "      <td>VIPR1;LAMA2;CFD;CRYAB;HSPB2;SLN;IGFBP3;SOD3</td>\n",
       "    </tr>\n",
       "    <tr>\n",
       "      <th>23</th>\n",
       "      <td>prerank</td>\n",
       "      <td>Glycolysis</td>\n",
       "      <td>0.403147</td>\n",
       "      <td>0.73393</td>\n",
       "      <td>0.949495</td>\n",
       "      <td>1.0</td>\n",
       "      <td>1.0</td>\n",
       "      <td>6/24</td>\n",
       "      <td>36.73%</td>\n",
       "      <td>PLOD2;DCN;TPBG;IGFBP3;BIK;B4GALT2</td>\n",
       "    </tr>\n",
       "    <tr>\n",
       "      <th>24</th>\n",
       "      <td>prerank</td>\n",
       "      <td>p53 Pathway</td>\n",
       "      <td>0.381847</td>\n",
       "      <td>0.702066</td>\n",
       "      <td>0.97</td>\n",
       "      <td>1.0</td>\n",
       "      <td>1.0</td>\n",
       "      <td>6/29</td>\n",
       "      <td>38.30%</td>\n",
       "      <td>FOS;FGF13;CLCA2;IL1A;TP63;CDK5R1</td>\n",
       "    </tr>\n",
       "    <tr>\n",
       "      <th>25</th>\n",
       "      <td>prerank</td>\n",
       "      <td>TNF-alpha Signaling via NF-kB</td>\n",
       "      <td>0.329541</td>\n",
       "      <td>0.608333</td>\n",
       "      <td>1.0</td>\n",
       "      <td>1.0</td>\n",
       "      <td>1.0</td>\n",
       "      <td>7/35</td>\n",
       "      <td>36.77%</td>\n",
       "      <td>FOS;TNC;GFPT2;FJX1;OLR1;IL1A;NR4A3</td>\n",
       "    </tr>\n",
       "    <tr>\n",
       "      <th>26</th>\n",
       "      <td>prerank</td>\n",
       "      <td>Apoptosis</td>\n",
       "      <td>0.316002</td>\n",
       "      <td>0.575915</td>\n",
       "      <td>1.0</td>\n",
       "      <td>1.0</td>\n",
       "      <td>1.0</td>\n",
       "      <td>9/28</td>\n",
       "      <td>43.50%</td>\n",
       "      <td>DCN;IL1A;BIK;LEF1;IL18;CTH;CASP9;IFITM3;BCL2L2</td>\n",
       "    </tr>\n",
       "    <tr>\n",
       "      <th>27</th>\n",
       "      <td>prerank</td>\n",
       "      <td>Fatty Acid Metabolism</td>\n",
       "      <td>0.308949</td>\n",
       "      <td>0.551349</td>\n",
       "      <td>0.99</td>\n",
       "      <td>1.0</td>\n",
       "      <td>1.0</td>\n",
       "      <td>1/22</td>\n",
       "      <td>7.37%</td>\n",
       "      <td>FMO1</td>\n",
       "    </tr>\n",
       "    <tr>\n",
       "      <th>28</th>\n",
       "      <td>prerank</td>\n",
       "      <td>Adipogenesis</td>\n",
       "      <td>0.27046</td>\n",
       "      <td>0.48476</td>\n",
       "      <td>1.0</td>\n",
       "      <td>1.0</td>\n",
       "      <td>1.0</td>\n",
       "      <td>25/27</td>\n",
       "      <td>70.97%</td>\n",
       "      <td>PTGER3;ELOVL6;ENPP2;NKIRAS1;CRAT;UCK1;CD36;ARA...</td>\n",
       "    </tr>\n",
       "  </tbody>\n",
       "</table>\n",
       "</div>"
      ],
      "text/plain": [
       "       Name                               Term        ES       NES NOM p-val  \\\n",
       "0   prerank                     UV Response Dn   0.64578  1.122987      0.14   \n",
       "1   prerank  Epithelial Mesenchymal Transition  0.560904  1.039006      0.29   \n",
       "2   prerank            Estrogen Response Early  0.582842  1.032519      0.45   \n",
       "3   prerank             Estrogen Response Late  0.560772  1.025566  0.494949   \n",
       "4   prerank                    Apical Junction  0.561704   1.00689      0.55   \n",
       "5   prerank                         Complement -0.288255      -1.0       1.0   \n",
       "6   prerank          Oxidative Phosphorylation -0.461826      -1.0       1.0   \n",
       "7   prerank          Unfolded Protein Response -0.385595      -1.0       1.0   \n",
       "8   prerank               IL-2/STAT5 Signaling -0.326394      -1.0       1.0   \n",
       "9   prerank                    G2-M Checkpoint -0.386112      -1.0       1.0   \n",
       "10  prerank                        E2F Targets -0.379704      -1.0       1.0   \n",
       "11  prerank          Interferon Gamma Response -0.401819      -1.0       1.0   \n",
       "12  prerank                     Myc Targets V1 -0.438975      -1.0       1.0   \n",
       "13  prerank                    Mitotic Spindle -0.411607      -1.0       1.0   \n",
       "14  prerank                        Coagulation  0.534858  0.982423       0.6   \n",
       "15  prerank                  KRAS Signaling Up  0.529947   0.98229   0.59596   \n",
       "16  prerank                            Hypoxia  0.520254  0.932609      0.77   \n",
       "17  prerank              Inflammatory Response  0.465311  0.858542      0.92   \n",
       "18  prerank                Allograft Rejection  0.452965   0.84246       0.9   \n",
       "19  prerank                     UV Response Up  0.474391  0.827468   0.89899   \n",
       "20  prerank                   mTORC1 Signaling  0.434008  0.788245      0.93   \n",
       "21  prerank                  KRAS Signaling Dn  0.421156  0.738178  0.939394   \n",
       "22  prerank                         Myogenesis  0.398912  0.737852      0.99   \n",
       "23  prerank                         Glycolysis  0.403147   0.73393  0.949495   \n",
       "24  prerank                        p53 Pathway  0.381847  0.702066      0.97   \n",
       "25  prerank      TNF-alpha Signaling via NF-kB  0.329541  0.608333       1.0   \n",
       "26  prerank                          Apoptosis  0.316002  0.575915       1.0   \n",
       "27  prerank              Fatty Acid Metabolism  0.308949  0.551349      0.99   \n",
       "28  prerank                       Adipogenesis   0.27046   0.48476       1.0   \n",
       "\n",
       "   FDR q-val FWER p-val  Tag %  Gene %  \\\n",
       "0        1.0       0.95   3/16  13.40%   \n",
       "1        1.0        1.0  11/46  19.23%   \n",
       "2        1.0        1.0   5/21  15.30%   \n",
       "3        1.0        1.0   8/22  30.27%   \n",
       "4        1.0        1.0   9/22  35.23%   \n",
       "5        1.0        0.0   2/38   0.83%   \n",
       "6        1.0        0.0  53/53  54.67%   \n",
       "7        1.0        0.0  15/15  61.67%   \n",
       "8        1.0        0.0  22/22  67.63%   \n",
       "9        1.0        0.0  19/19  61.67%   \n",
       "10       1.0        0.0  24/24  62.37%   \n",
       "11       1.0        0.0  31/31  60.27%   \n",
       "12       1.0        0.0  34/34  56.63%   \n",
       "13       1.0        0.0  19/19  59.13%   \n",
       "14       1.0        1.0   6/26  12.77%   \n",
       "15       1.0        1.0   6/25  32.47%   \n",
       "16       1.0        1.0   7/26  32.47%   \n",
       "17       1.0        1.0   7/32  35.37%   \n",
       "18       1.0        1.0   1/31   1.67%   \n",
       "19       1.0        1.0   2/16   7.37%   \n",
       "20       1.0        1.0   2/29   5.90%   \n",
       "21       1.0        1.0   5/17  31.90%   \n",
       "22       1.0        1.0   8/34  34.00%   \n",
       "23       1.0        1.0   6/24  36.73%   \n",
       "24       1.0        1.0   6/29  38.30%   \n",
       "25       1.0        1.0   7/35  36.77%   \n",
       "26       1.0        1.0   9/28  43.50%   \n",
       "27       1.0        1.0   1/22   7.37%   \n",
       "28       1.0        1.0  25/27  70.97%   \n",
       "\n",
       "                                           Lead_genes  \n",
       "0                                  TFPI;MMP16;COL11A1  \n",
       "1   SFRP4;LAMA2;TNC;THBS1;COL5A3;PLOD2;DCN;CDH11;C...  \n",
       "2                         FOS;CLIC3;GFRA1;ELOVL2;TSKU  \n",
       "3        FOS;CD9;PKP3;CLIC3;PTGER3;FGFR3;TPBG;CYP4F11  \n",
       "4   VWF;NRXN2;PARVA;CNTN1;CDH11;COL16A1;ADRA1B;DSC...  \n",
       "5                                    SERPINB2;S100A12  \n",
       "6   SLC25A6;CYB5R3;PDP1;ATP5ME;NDUFA2;COX5B;ATP5F1...  \n",
       "7   CCL2;EEF2;RPS14;PREB;POP4;NOP14;NOLC1;ATP6V0D1...  \n",
       "8   SELL;IGF1R;IL1R2;LTB;ICOS;CAPG;SPP1;ITGA6;IKZF...  \n",
       "9   MT2A;EFNA5;HMGN2;HMGB3;RPA2;NCL;CDKN3;NOLC1;CE...  \n",
       "10  RAN;TUBB;HMGB3;RPA2;PCNA;CDKN3;RFC2;CENPM;NOLC...  \n",
       "11  IFI44L;BANK1;LY6E;DDX58;CCL2;CCL5;CXCL9;IFITM2...  \n",
       "12  RPL34;EEF1B2;RPS5;RPS2;RPL18;RPS6;RPL22;RPS3;R...  \n",
       "13  SYNPO;ARHGDIA;MAP1S;UXT;TUBGCP6;TUBA4A;CENPF;K...  \n",
       "14                        CD9;CFD;VWF;PROS1;THBS1;F10  \n",
       "15                EPHB2;SCN1B;TFPI;GFPT2;CFHR2;IGFBP3  \n",
       "16           FOS;DCN;NCAN;TPBG;PPARGC1A;CDKN1C;IGFBP3  \n",
       "17              STAB1;SCN1B;FFAR2;FZD5;OLR1;TPBG;IL1A  \n",
       "18                                              STAB1  \n",
       "19                                           FOS;FMO1  \n",
       "20                                          CD9;PLOD2  \n",
       "21                        BRDT;TEX15;PAX3;FGFR3;ATP4A  \n",
       "22        VIPR1;LAMA2;CFD;CRYAB;HSPB2;SLN;IGFBP3;SOD3  \n",
       "23                  PLOD2;DCN;TPBG;IGFBP3;BIK;B4GALT2  \n",
       "24                   FOS;FGF13;CLCA2;IL1A;TP63;CDK5R1  \n",
       "25                 FOS;TNC;GFPT2;FJX1;OLR1;IL1A;NR4A3  \n",
       "26     DCN;IL1A;BIK;LEF1;IL18;CTH;CASP9;IFITM3;BCL2L2  \n",
       "27                                               FMO1  \n",
       "28  PTGER3;ELOVL6;ENPP2;NKIRAS1;CRAT;UCK1;CD36;ARA...  "
      ]
     },
     "execution_count": 276,
     "metadata": {},
     "output_type": "execute_result"
    }
   ],
   "source": [
    "gs_res.res2d"
   ]
  },
  {
   "cell_type": "code",
   "execution_count": 279,
   "id": "f7437589",
   "metadata": {},
   "outputs": [
    {
     "data": {
      "image/png": "[encoded data removed]",
      "text/plain": [
       "<Figure size 400x500 with 4 Axes>"
      ]
     },
     "execution_count": 279,
     "metadata": {},
     "output_type": "execute_result"
    },
    {
     "data": {
      "image/png": "[encoded data removed]",
      "text/plain": [
       "<Figure size 400x500 with 4 Axes>"
      ]
     },
     "metadata": {},
     "output_type": "display_data"
    }
   ],
   "source": [
    "terms = gs_res.res2d.Term\n",
    "gs_res.plot(terms=terms[1])"
   ]
  },
  {
   "cell_type": "code",
   "execution_count": null,
   "id": "16fd06ce",
   "metadata": {},
   "outputs": [],
   "source": []
  }
 ],
 "metadata": {
  "kernelspec": {
   "display_name": "Python 3 (ipykernel)",
   "language": "python",
   "name": "python3"
  },
  "language_info": {
   "codemirror_mode": {
    "name": "ipython",
    "version": 3
   },
   "file_extension": ".py",
   "mimetype": "text/x-python",
   "name": "python",
   "nbconvert_exporter": "python",
   "pygments_lexer": "ipython3",
   "version": "3.10.6"
  }
 },
 "nbformat": 4,
 "nbformat_minor": 5
}
