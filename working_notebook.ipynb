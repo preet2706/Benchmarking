{
 "cells": [
  {
   "cell_type": "code",
   "execution_count": 1,
   "id": "9b4e7b3c",
   "metadata": {},
   "outputs": [],
   "source": [
    "import pandas as pd\n",
    "import numpy as np\n",
    "import os\n",
    "import matplotlib.pyplot as plt\n",
    "import seaborn as sns\n",
    "import anndata\n",
    "import scanpy as sc\n",
    "import sklearn\n",
    "from scipy.stats import pearsonr"
   ]
  },
  {
   "cell_type": "code",
   "execution_count": null,
   "id": "a1301936",
   "metadata": {},
   "outputs": [
    {
     "name": "stderr",
     "output_type": "stream",
     "text": [
      "/usr/local/lib/python3.9/site-packages/anndata/_core/anndata.py:1832: UserWarning: Variable names are not unique. To make them unique, call `.var_names_make_unique`.\n",
      "  utils.warn_names_duplicates(\"var\")\n"
     ]
    }
   ],
   "source": [
    "RNA_data = sc.read_h5ad('../scButterfly/data/lymphoma/lymphoma_RNA.h5ad')\n",
    "RNA_data\n",
    "genes = list(RNA_data.var_names)\n",
    "RNA_df = pd.DataFrame(RNA_data.X.toarray(), columns=genes)"
   ]
  },
  {
   "cell_type": "code",
   "execution_count": null,
   "id": "a921c144",
   "metadata": {},
   "outputs": [],
   "source": [
    "trrust = pd.read_csv(\"../Benchmarking/data/trrust_rawdata.human.tsv\", sep=\"\\t\", header=None)\n",
    "trrust.columns = [\"TF\", \"Target\", \"Regulation\", \"PMID\"]\n",
    "tftg = trrust[[\"TF\", \"Target\"]].drop_duplicates()\n"
   ]
  },
  {
   "cell_type": "code",
   "execution_count": null,
   "id": "513bd0be",
   "metadata": {},
   "outputs": [
    {
     "data": {
      "application/vnd.microsoft.datawrangler.viewer.v0+json": {
       "columns": [
        {
         "name": "index",
         "rawType": "int64",
         "type": "integer"
        },
        {
         "name": "TF",
         "rawType": "object",
         "type": "string"
        },
        {
         "name": "Target",
         "rawType": "object",
         "type": "string"
        },
        {
         "name": "Regulation",
         "rawType": "object",
         "type": "string"
        },
        {
         "name": "PMID",
         "rawType": "object",
         "type": "string"
        }
       ],
       "conversionMethod": "pd.DataFrame",
       "ref": "1f8bded0-73d1-4c2c-998b-a5f1e7436788",
       "rows": [
        [
         "0",
         "AATF",
         "BAX",
         "Repression",
         "22909821"
        ],
        [
         "1",
         "AATF",
         "CDKN1A",
         "Unknown",
         "17157788"
        ],
        [
         "2",
         "AATF",
         "KLK3",
         "Unknown",
         "23146908"
        ],
        [
         "3",
         "AATF",
         "MYC",
         "Activation",
         "20549547"
        ],
        [
         "4",
         "AATF",
         "TP53",
         "Unknown",
         "17157788"
        ],
        [
         "5",
         "ABL1",
         "BAX",
         "Activation",
         "11753601"
        ],
        [
         "6",
         "ABL1",
         "BCL2",
         "Repression",
         "11753601"
        ],
        [
         "7",
         "ABL1",
         "BCL6",
         "Repression",
         "15509806"
        ],
        [
         "8",
         "ABL1",
         "CCND2",
         "Activation",
         "15509806"
        ],
        [
         "9",
         "ABL1",
         "CDKN1A",
         "Activation",
         "11753601;9916993"
        ],
        [
         "10",
         "ABL1",
         "CSF1",
         "Activation",
         "23418320"
        ],
        [
         "11",
         "ABL1",
         "CSF1",
         "Unknown",
         "18619508"
        ],
        [
         "12",
         "ABL1",
         "FOXO3",
         "Activation",
         "15509806"
        ],
        [
         "13",
         "ABL1",
         "JUN",
         "Activation",
         "15145216"
        ],
        [
         "14",
         "ABL1",
         "JUN",
         "Repression",
         "19357699"
        ],
        [
         "15",
         "ABL1",
         "PIM1",
         "Activation",
         "15145216"
        ],
        [
         "16",
         "ABL1",
         "TP53",
         "Activation",
         "11753601"
        ],
        [
         "17",
         "AES",
         "EPHA3",
         "Unknown",
         "20676368"
        ],
        [
         "18",
         "AES",
         "LEF1",
         "Activation",
         "20676368"
        ],
        [
         "19",
         "AES",
         "RND3",
         "Activation",
         "23546594"
        ],
        [
         "20",
         "AHR",
         "ABCG2",
         "Unknown",
         "20460431"
        ],
        [
         "21",
         "AHR",
         "AHRR",
         "Activation",
         "18848529"
        ],
        [
         "22",
         "AHR",
         "ARNT",
         "Unknown",
         "19255421;8631989"
        ],
        [
         "23",
         "AHR",
         "BRCA1",
         "Unknown",
         "18259752"
        ],
        [
         "24",
         "AHR",
         "CA9",
         "Repression",
         "19154183"
        ],
        [
         "25",
         "AHR",
         "CCND1",
         "Unknown",
         "24380854"
        ],
        [
         "26",
         "AHR",
         "CCNG2",
         "Activation",
         "22596188"
        ],
        [
         "27",
         "AHR",
         "CYP1A1",
         "Activation",
         "12213390;9865727"
        ],
        [
         "28",
         "AHR",
         "CYP1A1",
         "Repression",
         "17012224"
        ],
        [
         "29",
         "AHR",
         "CYP1A1",
         "Unknown",
         "10359656;12376470;15325265;19376845;21357676;24639079;8631128;9698073"
        ],
        [
         "30",
         "AHR",
         "CYP1A2",
         "Unknown",
         "21357676"
        ],
        [
         "31",
         "AHR",
         "CYP1B1",
         "Activation",
         "16115918;19287966"
        ],
        [
         "32",
         "AHR",
         "CYP1B1",
         "Unknown",
         "12376470;19376845;21742528;24299737"
        ],
        [
         "33",
         "AHR",
         "CYP2B6",
         "Unknown",
         "19928584"
        ],
        [
         "34",
         "AHR",
         "FOS",
         "Unknown",
         "10478842"
        ],
        [
         "35",
         "AHR",
         "IL13",
         "Unknown",
         "22981205"
        ],
        [
         "36",
         "AHR",
         "IL1B",
         "Unknown",
         "23349129"
        ],
        [
         "37",
         "AHR",
         "IL6",
         "Activation",
         "20511231"
        ],
        [
         "38",
         "AHR",
         "IL6",
         "Unknown",
         "18483242;23349129"
        ],
        [
         "39",
         "AHR",
         "MFSD2A",
         "Unknown",
         "21736709"
        ],
        [
         "40",
         "AHR",
         "MT2A",
         "Unknown",
         "23994556"
        ],
        [
         "41",
         "AHR",
         "MYC",
         "Unknown",
         "11114727;16091746"
        ],
        [
         "42",
         "AHR",
         "PCNA",
         "Activation",
         "12417031"
        ],
        [
         "43",
         "AHR",
         "RFC3",
         "Activation",
         "12417031"
        ],
        [
         "44",
         "AHR",
         "UGT1A1",
         "Activation",
         "18172616"
        ],
        [
         "45",
         "AHR",
         "UGT1A6",
         "Unknown",
         "9466822"
        ],
        [
         "46",
         "AIP",
         "AHR",
         "Activation",
         "11469723"
        ],
        [
         "47",
         "AIP",
         "GREB1",
         "Repression",
         "21984905"
        ],
        [
         "48",
         "AIP",
         "NFKB2",
         "Repression",
         "21984905"
        ],
        [
         "49",
         "AIP",
         "RSF1",
         "Repression",
         "21984905"
        ]
       ],
       "shape": {
        "columns": 4,
        "rows": 9396
       }
      },
      "text/html": [
       "<div>\n",
       "<style scoped>\n",
       "    .dataframe tbody tr th:only-of-type {\n",
       "        vertical-align: middle;\n",
       "    }\n",
       "\n",
       "    .dataframe tbody tr th {\n",
       "        vertical-align: top;\n",
       "    }\n",
       "\n",
       "    .dataframe thead th {\n",
       "        text-align: right;\n",
       "    }\n",
       "</style>\n",
       "<table border=\"1\" class=\"dataframe\">\n",
       "  <thead>\n",
       "    <tr style=\"text-align: right;\">\n",
       "      <th></th>\n",
       "      <th>TF</th>\n",
       "      <th>Target</th>\n",
       "      <th>Regulation</th>\n",
       "      <th>PMID</th>\n",
       "    </tr>\n",
       "  </thead>\n",
       "  <tbody>\n",
       "    <tr>\n",
       "      <th>0</th>\n",
       "      <td>AATF</td>\n",
       "      <td>BAX</td>\n",
       "      <td>Repression</td>\n",
       "      <td>22909821</td>\n",
       "    </tr>\n",
       "    <tr>\n",
       "      <th>1</th>\n",
       "      <td>AATF</td>\n",
       "      <td>CDKN1A</td>\n",
       "      <td>Unknown</td>\n",
       "      <td>17157788</td>\n",
       "    </tr>\n",
       "    <tr>\n",
       "      <th>2</th>\n",
       "      <td>AATF</td>\n",
       "      <td>KLK3</td>\n",
       "      <td>Unknown</td>\n",
       "      <td>23146908</td>\n",
       "    </tr>\n",
       "    <tr>\n",
       "      <th>3</th>\n",
       "      <td>AATF</td>\n",
       "      <td>MYC</td>\n",
       "      <td>Activation</td>\n",
       "      <td>20549547</td>\n",
       "    </tr>\n",
       "    <tr>\n",
       "      <th>4</th>\n",
       "      <td>AATF</td>\n",
       "      <td>TP53</td>\n",
       "      <td>Unknown</td>\n",
       "      <td>17157788</td>\n",
       "    </tr>\n",
       "    <tr>\n",
       "      <th>...</th>\n",
       "      <td>...</td>\n",
       "      <td>...</td>\n",
       "      <td>...</td>\n",
       "      <td>...</td>\n",
       "    </tr>\n",
       "    <tr>\n",
       "      <th>9391</th>\n",
       "      <td>ZNF76</td>\n",
       "      <td>CDKN1A</td>\n",
       "      <td>Repression</td>\n",
       "      <td>15280358</td>\n",
       "    </tr>\n",
       "    <tr>\n",
       "      <th>9392</th>\n",
       "      <td>ZNF76</td>\n",
       "      <td>PCYT1A</td>\n",
       "      <td>Activation</td>\n",
       "      <td>14702349</td>\n",
       "    </tr>\n",
       "    <tr>\n",
       "      <th>9393</th>\n",
       "      <td>ZNF76</td>\n",
       "      <td>TALDO1</td>\n",
       "      <td>Unknown</td>\n",
       "      <td>14702349</td>\n",
       "    </tr>\n",
       "    <tr>\n",
       "      <th>9394</th>\n",
       "      <td>ZNRD1</td>\n",
       "      <td>ABCB1</td>\n",
       "      <td>Activation</td>\n",
       "      <td>16373708</td>\n",
       "    </tr>\n",
       "    <tr>\n",
       "      <th>9395</th>\n",
       "      <td>ZNRD1</td>\n",
       "      <td>BCL2</td>\n",
       "      <td>Activation</td>\n",
       "      <td>16373708;16609701</td>\n",
       "    </tr>\n",
       "  </tbody>\n",
       "</table>\n",
       "<p>9396 rows × 4 columns</p>\n",
       "</div>"
      ],
      "text/plain": [
       "         TF  Target  Regulation               PMID\n",
       "0      AATF     BAX  Repression           22909821\n",
       "1      AATF  CDKN1A     Unknown           17157788\n",
       "2      AATF    KLK3     Unknown           23146908\n",
       "3      AATF     MYC  Activation           20549547\n",
       "4      AATF    TP53     Unknown           17157788\n",
       "...     ...     ...         ...                ...\n",
       "9391  ZNF76  CDKN1A  Repression           15280358\n",
       "9392  ZNF76  PCYT1A  Activation           14702349\n",
       "9393  ZNF76  TALDO1     Unknown           14702349\n",
       "9394  ZNRD1   ABCB1  Activation           16373708\n",
       "9395  ZNRD1    BCL2  Activation  16373708;16609701\n",
       "\n",
       "[9396 rows x 4 columns]"
      ]
     },
     "execution_count": 12,
     "metadata": {},
     "output_type": "execute_result"
    }
   ],
   "source": [
    "trrust"
   ]
  },
  {
   "cell_type": "code",
   "execution_count": null,
   "id": "20ec2b82",
   "metadata": {},
   "outputs": [],
   "source": [
    "tftg_filtered = tftg[tftg[\"TF\"].isin(genes) & tftg[\"Target\"].isin(genes)].reset_index(drop=True)"
   ]
  },
  {
   "cell_type": "code",
   "execution_count": null,
   "id": "c9da785b",
   "metadata": {},
   "outputs": [
    {
     "data": {
      "application/vnd.microsoft.datawrangler.viewer.v0+json": {
       "columns": [
        {
         "name": "index",
         "rawType": "int64",
         "type": "integer"
        },
        {
         "name": "TF",
         "rawType": "object",
         "type": "string"
        },
        {
         "name": "Target",
         "rawType": "object",
         "type": "string"
        }
       ],
       "conversionMethod": "pd.DataFrame",
       "ref": "9d3996f6-7573-4a8a-b85f-5476d9b6007a",
       "rows": [
        [
         "0",
         "AATF",
         "BAX"
        ],
        [
         "1",
         "AATF",
         "CDKN1A"
        ],
        [
         "2",
         "AATF",
         "KLK3"
        ],
        [
         "3",
         "AATF",
         "MYC"
        ],
        [
         "4",
         "AATF",
         "TP53"
        ],
        [
         "5",
         "ABL1",
         "BAX"
        ],
        [
         "6",
         "ABL1",
         "BCL2"
        ],
        [
         "7",
         "ABL1",
         "BCL6"
        ],
        [
         "8",
         "ABL1",
         "CCND2"
        ],
        [
         "9",
         "ABL1",
         "CDKN1A"
        ],
        [
         "10",
         "ABL1",
         "CSF1"
        ],
        [
         "11",
         "ABL1",
         "FOXO3"
        ],
        [
         "12",
         "ABL1",
         "JUN"
        ],
        [
         "13",
         "ABL1",
         "PIM1"
        ],
        [
         "14",
         "ABL1",
         "TP53"
        ],
        [
         "15",
         "AHR",
         "ABCG2"
        ],
        [
         "16",
         "AHR",
         "AHRR"
        ],
        [
         "17",
         "AHR",
         "ARNT"
        ],
        [
         "18",
         "AHR",
         "BRCA1"
        ],
        [
         "19",
         "AHR",
         "CA9"
        ],
        [
         "20",
         "AHR",
         "CCND1"
        ],
        [
         "21",
         "AHR",
         "CCNG2"
        ],
        [
         "22",
         "AHR",
         "CYP1A1"
        ],
        [
         "23",
         "AHR",
         "CYP1A2"
        ],
        [
         "24",
         "AHR",
         "CYP1B1"
        ],
        [
         "25",
         "AHR",
         "CYP2B6"
        ],
        [
         "26",
         "AHR",
         "FOS"
        ],
        [
         "27",
         "AHR",
         "IL13"
        ],
        [
         "28",
         "AHR",
         "IL1B"
        ],
        [
         "29",
         "AHR",
         "IL6"
        ],
        [
         "30",
         "AHR",
         "MFSD2A"
        ],
        [
         "31",
         "AHR",
         "MT2A"
        ],
        [
         "32",
         "AHR",
         "MYC"
        ],
        [
         "33",
         "AHR",
         "PCNA"
        ],
        [
         "34",
         "AHR",
         "RFC3"
        ],
        [
         "35",
         "AHR",
         "UGT1A1"
        ],
        [
         "36",
         "AHR",
         "UGT1A6"
        ],
        [
         "37",
         "AIP",
         "AHR"
        ],
        [
         "38",
         "AIP",
         "GREB1"
        ],
        [
         "39",
         "AIP",
         "NFKB2"
        ],
        [
         "40",
         "AIP",
         "RSF1"
        ],
        [
         "41",
         "AIP",
         "TFF1"
        ],
        [
         "42",
         "AIRE",
         "CHRNA1"
        ],
        [
         "43",
         "ANKRD1",
         "NPPA"
        ],
        [
         "44",
         "APBB1",
         "GMPS"
        ],
        [
         "45",
         "APC",
         "AKT1"
        ],
        [
         "46",
         "APC",
         "AMHR2"
        ],
        [
         "47",
         "APC",
         "BIRC5"
        ],
        [
         "48",
         "APC",
         "DLG1"
        ],
        [
         "49",
         "APC",
         "DNMT1"
        ]
       ],
       "shape": {
        "columns": 2,
        "rows": 8348
       }
      },
      "text/html": [
       "<div>\n",
       "<style scoped>\n",
       "    .dataframe tbody tr th:only-of-type {\n",
       "        vertical-align: middle;\n",
       "    }\n",
       "\n",
       "    .dataframe tbody tr th {\n",
       "        vertical-align: top;\n",
       "    }\n",
       "\n",
       "    .dataframe thead th {\n",
       "        text-align: right;\n",
       "    }\n",
       "</style>\n",
       "<table border=\"1\" class=\"dataframe\">\n",
       "  <thead>\n",
       "    <tr style=\"text-align: right;\">\n",
       "      <th></th>\n",
       "      <th>TF</th>\n",
       "      <th>Target</th>\n",
       "    </tr>\n",
       "  </thead>\n",
       "  <tbody>\n",
       "    <tr>\n",
       "      <th>0</th>\n",
       "      <td>AATF</td>\n",
       "      <td>BAX</td>\n",
       "    </tr>\n",
       "    <tr>\n",
       "      <th>1</th>\n",
       "      <td>AATF</td>\n",
       "      <td>CDKN1A</td>\n",
       "    </tr>\n",
       "    <tr>\n",
       "      <th>2</th>\n",
       "      <td>AATF</td>\n",
       "      <td>KLK3</td>\n",
       "    </tr>\n",
       "    <tr>\n",
       "      <th>3</th>\n",
       "      <td>AATF</td>\n",
       "      <td>MYC</td>\n",
       "    </tr>\n",
       "    <tr>\n",
       "      <th>4</th>\n",
       "      <td>AATF</td>\n",
       "      <td>TP53</td>\n",
       "    </tr>\n",
       "    <tr>\n",
       "      <th>...</th>\n",
       "      <td>...</td>\n",
       "      <td>...</td>\n",
       "    </tr>\n",
       "    <tr>\n",
       "      <th>8343</th>\n",
       "      <td>ZNF76</td>\n",
       "      <td>CDKN1A</td>\n",
       "    </tr>\n",
       "    <tr>\n",
       "      <th>8344</th>\n",
       "      <td>ZNF76</td>\n",
       "      <td>PCYT1A</td>\n",
       "    </tr>\n",
       "    <tr>\n",
       "      <th>8345</th>\n",
       "      <td>ZNF76</td>\n",
       "      <td>TALDO1</td>\n",
       "    </tr>\n",
       "    <tr>\n",
       "      <th>8346</th>\n",
       "      <td>ZNRD1</td>\n",
       "      <td>ABCB1</td>\n",
       "    </tr>\n",
       "    <tr>\n",
       "      <th>8347</th>\n",
       "      <td>ZNRD1</td>\n",
       "      <td>BCL2</td>\n",
       "    </tr>\n",
       "  </tbody>\n",
       "</table>\n",
       "<p>8348 rows × 2 columns</p>\n",
       "</div>"
      ],
      "text/plain": [
       "         TF  Target\n",
       "0      AATF     BAX\n",
       "1      AATF  CDKN1A\n",
       "2      AATF    KLK3\n",
       "3      AATF     MYC\n",
       "4      AATF    TP53\n",
       "...     ...     ...\n",
       "8343  ZNF76  CDKN1A\n",
       "8344  ZNF76  PCYT1A\n",
       "8345  ZNF76  TALDO1\n",
       "8346  ZNRD1   ABCB1\n",
       "8347  ZNRD1    BCL2\n",
       "\n",
       "[8348 rows x 2 columns]"
      ]
     },
     "execution_count": 14,
     "metadata": {},
     "output_type": "execute_result"
    }
   ],
   "source": [
    "tftg_filtered"
   ]
  },
  {
   "cell_type": "code",
   "execution_count": null,
   "id": "cfc37402",
   "metadata": {},
   "outputs": [],
   "source": [
    "def compute_tf_target_corr(pairs, expr_df, method=\"pearson\"):\n",
    "    correlations = []\n",
    "    for _, row in pairs.iterrows():\n",
    "        tf_expr = expr_df[row[\"TF\"]]\n",
    "        target_expr = expr_df[row[\"Target\"]]\n",
    "        if method == \"pearson\":\n",
    "            r_value, p_value = pearsonr(tf_expr, target_expr)\n",
    "        correlations.append((r_value, p_value))\n",
    "    return pd.concat([pairs, pd.DataFrame(correlations, columns=[\"Correlation\", \"P-value\"])], axis=1)"
   ]
  },
  {
   "cell_type": "code",
   "execution_count": null,
   "id": "b1ed4e6c",
   "metadata": {},
   "outputs": [
    {
     "name": "stderr",
     "output_type": "stream",
     "text": [
      "/usr/local/lib/python3.9/site-packages/scipy/stats/_stats_py.py:4781: ConstantInputWarning: An input array is constant; the correlation coefficient is not defined.\n",
      "  warnings.warn(stats.ConstantInputWarning(msg))\n"
     ]
    }
   ],
   "source": [
    "corr = compute_tf_target_corr(tftg_filtered, RNA_df, method=\"pearson\")"
   ]
  },
  {
   "cell_type": "code",
   "execution_count": null,
   "id": "a1f4a5d8",
   "metadata": {},
   "outputs": [
    {
     "data": {
      "application/vnd.microsoft.datawrangler.viewer.v0+json": {
       "columns": [
        {
         "name": "index",
         "rawType": "int64",
         "type": "integer"
        },
        {
         "name": "TF",
         "rawType": "object",
         "type": "string"
        },
        {
         "name": "Target",
         "rawType": "object",
         "type": "string"
        },
        {
         "name": "Correlation",
         "rawType": "float64",
         "type": "float"
        },
        {
         "name": "P-value",
         "rawType": "float64",
         "type": "float"
        }
       ],
       "conversionMethod": "pd.DataFrame",
       "ref": "0efd146e-ae66-410a-a21f-9ea7a50bf41e",
       "rows": [
        [
         "0",
         "AATF",
         "BAX",
         "0.06445334388446455",
         "5.839253896929984e-15"
        ],
        [
         "1",
         "AATF",
         "CDKN1A",
         "0.017179006906907247",
         "0.03762473069549395"
        ],
        [
         "2",
         "AATF",
         "KLK3",
         "0.007489065204807161",
         "0.36481094382861656"
        ],
        [
         "3",
         "AATF",
         "MYC",
         "0.06333694010610628",
         "1.6951272346050712e-14"
        ],
        [
         "4",
         "AATF",
         "TP53",
         "0.0845314276462335",
         "1.218585263017796e-24"
        ],
        [
         "5",
         "ABL1",
         "BAX",
         "0.07210613998367567",
         "2.4009668328194575e-18"
        ],
        [
         "6",
         "ABL1",
         "BCL2",
         "0.18202026551068934",
         "2.667126787812453e-109"
        ],
        [
         "7",
         "ABL1",
         "BCL6",
         "0.16629255757903028",
         "2.69151884595541e-91"
        ],
        [
         "8",
         "ABL1",
         "CCND2",
         "0.0958486541624672",
         "3.0740242272708215e-31"
        ],
        [
         "9",
         "ABL1",
         "CDKN1A",
         "0.041167605776088884",
         "6.239652769652171e-07"
        ],
        [
         "10",
         "ABL1",
         "CSF1",
         "-0.01014812903499254",
         "0.21944016164401325"
        ],
        [
         "11",
         "ABL1",
         "FOXO3",
         "0.08776153604260396",
         "1.9366290344017483e-26"
        ],
        [
         "12",
         "ABL1",
         "JUN",
         "0.020464772503424957",
         "0.01326316713131386"
        ],
        [
         "13",
         "ABL1",
         "PIM1",
         "0.1123652873067958",
         "2.312084749993135e-42"
        ],
        [
         "14",
         "ABL1",
         "TP53",
         "0.06618287036630517",
         "1.0807013250112773e-15"
        ],
        [
         "15",
         "AHR",
         "ABCG2",
         "0.02851377219081151",
         "0.0005584208763481897"
        ],
        [
         "16",
         "AHR",
         "AHRR",
         "0.05016155815585976",
         "1.250094653170428e-09"
        ],
        [
         "17",
         "AHR",
         "ARNT",
         "0.12334381364882868",
         "9.540103706175713e-51"
        ],
        [
         "18",
         "AHR",
         "BRCA1",
         "0.17415130849663657",
         "4.4555492189453794e-100"
        ],
        [
         "19",
         "AHR",
         "CA9",
         "0.01520608115681532",
         "0.06574820714465997"
        ],
        [
         "20",
         "AHR",
         "CCND1",
         "0.04781154414025712",
         "7.088951115843729e-09"
        ],
        [
         "21",
         "AHR",
         "CCNG2",
         "0.10223216594444462",
         "2.509883005635633e-35"
        ],
        [
         "22",
         "AHR",
         "CYP1A1",
         "0.016788362538770193",
         "0.04219020616566452"
        ],
        [
         "23",
         "AHR",
         "CYP1A2",
         "0.009526852177768436",
         "0.24897839389927065"
        ],
        [
         "24",
         "AHR",
         "CYP1B1",
         "0.037509803651542974",
         "5.61165838517785e-06"
        ],
        [
         "25",
         "AHR",
         "CYP2B6",
         "0.009363893612981834",
         "0.2571663803538449"
        ],
        [
         "26",
         "AHR",
         "FOS",
         "0.03811734204148398",
         "3.947807192521522e-06"
        ],
        [
         "27",
         "AHR",
         "IL13",
         "0.012638916793784129",
         "0.12615333319486846"
        ],
        [
         "28",
         "AHR",
         "IL1B",
         "0.034610702593171484",
         "2.7973664070443015e-05"
        ],
        [
         "29",
         "AHR",
         "IL6",
         "0.007915221542104701",
         "0.3381606591340605"
        ],
        [
         "30",
         "AHR",
         "MFSD2A",
         "0.10700913107150431",
         "1.4677442769058372e-38"
        ],
        [
         "31",
         "AHR",
         "MT2A",
         "0.0694074470467504",
         "4.139696428717998e-17"
        ],
        [
         "32",
         "AHR",
         "MYC",
         "0.07315977659788939",
         "7.673321394557365e-19"
        ],
        [
         "33",
         "AHR",
         "PCNA",
         "0.047733420210995296",
         "7.499693618948285e-09"
        ],
        [
         "34",
         "AHR",
         "RFC3",
         "0.1926469003415986",
         "1.9093540242525042e-122"
        ],
        [
         "35",
         "AHR",
         "UGT1A1",
         null,
         null
        ],
        [
         "36",
         "AHR",
         "UGT1A6",
         null,
         null
        ],
        [
         "37",
         "AIP",
         "AHR",
         "0.051877929663013876",
         "3.3471622960387656e-10"
        ],
        [
         "38",
         "AIP",
         "GREB1",
         "0.028608864393863447",
         "0.0005350654116830329"
        ],
        [
         "39",
         "AIP",
         "NFKB2",
         "0.047121801187770686",
         "1.1620715020144644e-08"
        ],
        [
         "40",
         "AIP",
         "RSF1",
         "0.06294667311192964",
         "2.4498396391778676e-14"
        ],
        [
         "41",
         "AIP",
         "TFF1",
         null,
         null
        ],
        [
         "42",
         "AIRE",
         "CHRNA1",
         "-0.0006876973046361856",
         "0.9336800720200636"
        ],
        [
         "43",
         "ANKRD1",
         "NPPA",
         "-0.0003599298749593637",
         "0.9652601210658995"
        ],
        [
         "44",
         "APBB1",
         "GMPS",
         "0.040510977812139484",
         "9.38602727472679e-07"
        ],
        [
         "45",
         "APC",
         "AKT1",
         "0.07789028411086445",
         "3.7438430142773544e-21"
        ],
        [
         "46",
         "APC",
         "AMHR2",
         "0.01294223369508595",
         "0.11731208124619935"
        ],
        [
         "47",
         "APC",
         "BIRC5",
         "0.04111922250224859",
         "6.431572818105848e-07"
        ],
        [
         "48",
         "APC",
         "DLG1",
         "0.18226237588701277",
         "1.3658664107070444e-109"
        ],
        [
         "49",
         "APC",
         "DNMT1",
         "0.07658966242138192",
         "1.6717424799393335e-20"
        ]
       ],
       "shape": {
        "columns": 4,
        "rows": 8348
       }
      },
      "text/html": [
       "<div>\n",
       "<style scoped>\n",
       "    .dataframe tbody tr th:only-of-type {\n",
       "        vertical-align: middle;\n",
       "    }\n",
       "\n",
       "    .dataframe tbody tr th {\n",
       "        vertical-align: top;\n",
       "    }\n",
       "\n",
       "    .dataframe thead th {\n",
       "        text-align: right;\n",
       "    }\n",
       "</style>\n",
       "<table border=\"1\" class=\"dataframe\">\n",
       "  <thead>\n",
       "    <tr style=\"text-align: right;\">\n",
       "      <th></th>\n",
       "      <th>TF</th>\n",
       "      <th>Target</th>\n",
       "      <th>Correlation</th>\n",
       "      <th>P-value</th>\n",
       "    </tr>\n",
       "  </thead>\n",
       "  <tbody>\n",
       "    <tr>\n",
       "      <th>0</th>\n",
       "      <td>AATF</td>\n",
       "      <td>BAX</td>\n",
       "      <td>0.064453</td>\n",
       "      <td>5.839254e-15</td>\n",
       "    </tr>\n",
       "    <tr>\n",
       "      <th>1</th>\n",
       "      <td>AATF</td>\n",
       "      <td>CDKN1A</td>\n",
       "      <td>0.017179</td>\n",
       "      <td>3.762473e-02</td>\n",
       "    </tr>\n",
       "    <tr>\n",
       "      <th>2</th>\n",
       "      <td>AATF</td>\n",
       "      <td>KLK3</td>\n",
       "      <td>0.007489</td>\n",
       "      <td>3.648109e-01</td>\n",
       "    </tr>\n",
       "    <tr>\n",
       "      <th>3</th>\n",
       "      <td>AATF</td>\n",
       "      <td>MYC</td>\n",
       "      <td>0.063337</td>\n",
       "      <td>1.695127e-14</td>\n",
       "    </tr>\n",
       "    <tr>\n",
       "      <th>4</th>\n",
       "      <td>AATF</td>\n",
       "      <td>TP53</td>\n",
       "      <td>0.084531</td>\n",
       "      <td>1.218585e-24</td>\n",
       "    </tr>\n",
       "    <tr>\n",
       "      <th>...</th>\n",
       "      <td>...</td>\n",
       "      <td>...</td>\n",
       "      <td>...</td>\n",
       "      <td>...</td>\n",
       "    </tr>\n",
       "    <tr>\n",
       "      <th>8343</th>\n",
       "      <td>ZNF76</td>\n",
       "      <td>CDKN1A</td>\n",
       "      <td>0.010632</td>\n",
       "      <td>1.982477e-01</td>\n",
       "    </tr>\n",
       "    <tr>\n",
       "      <th>8344</th>\n",
       "      <td>ZNF76</td>\n",
       "      <td>PCYT1A</td>\n",
       "      <td>0.100810</td>\n",
       "      <td>2.154979e-34</td>\n",
       "    </tr>\n",
       "    <tr>\n",
       "      <th>8345</th>\n",
       "      <td>ZNF76</td>\n",
       "      <td>TALDO1</td>\n",
       "      <td>0.048268</td>\n",
       "      <td>5.093731e-09</td>\n",
       "    </tr>\n",
       "    <tr>\n",
       "      <th>8346</th>\n",
       "      <td>ZNRD1</td>\n",
       "      <td>ABCB1</td>\n",
       "      <td>0.045747</td>\n",
       "      <td>3.049790e-08</td>\n",
       "    </tr>\n",
       "    <tr>\n",
       "      <th>8347</th>\n",
       "      <td>ZNRD1</td>\n",
       "      <td>BCL2</td>\n",
       "      <td>0.066335</td>\n",
       "      <td>9.301560e-16</td>\n",
       "    </tr>\n",
       "  </tbody>\n",
       "</table>\n",
       "<p>8348 rows × 4 columns</p>\n",
       "</div>"
      ],
      "text/plain": [
       "         TF  Target  Correlation       P-value\n",
       "0      AATF     BAX     0.064453  5.839254e-15\n",
       "1      AATF  CDKN1A     0.017179  3.762473e-02\n",
       "2      AATF    KLK3     0.007489  3.648109e-01\n",
       "3      AATF     MYC     0.063337  1.695127e-14\n",
       "4      AATF    TP53     0.084531  1.218585e-24\n",
       "...     ...     ...          ...           ...\n",
       "8343  ZNF76  CDKN1A     0.010632  1.982477e-01\n",
       "8344  ZNF76  PCYT1A     0.100810  2.154979e-34\n",
       "8345  ZNF76  TALDO1     0.048268  5.093731e-09\n",
       "8346  ZNRD1   ABCB1     0.045747  3.049790e-08\n",
       "8347  ZNRD1    BCL2     0.066335  9.301560e-16\n",
       "\n",
       "[8348 rows x 4 columns]"
      ]
     },
     "execution_count": 20,
     "metadata": {},
     "output_type": "execute_result"
    }
   ],
   "source": [
    "corr"
   ]
  }
 ],
 "metadata": {
  "kernelspec": {
   "display_name": "Python 3 (ipykernel)",
   "language": "python",
   "name": "python3"
  },
  "language_info": {
   "codemirror_mode": {
    "name": "ipython",
    "version": 3
   },
   "file_extension": ".py",
   "mimetype": "text/x-python",
   "name": "python",
   "nbconvert_exporter": "python",
   "pygments_lexer": "ipython3",
   "version": "3.10.6"
  }
 },
 "nbformat": 4,
 "nbformat_minor": 5
}
