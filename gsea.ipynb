{
 "cells": [
  {
   "cell_type": "code",
   "execution_count": 663,
   "id": "9b4e7b3c",
   "metadata": {},
   "outputs": [],
   "source": [
    "import pandas as pd\n",
    "import numpy as np\n",
    "import os\n",
    "import matplotlib.pyplot as plt\n",
    "import seaborn as sns\n",
    "import anndata\n",
    "import scanpy as sc\n",
    "import sklearn\n",
    "from scipy.stats import pearsonr"
   ]
  },
  {
   "cell_type": "code",
   "execution_count": 664,
   "id": "2588204b",
   "metadata": {},
   "outputs": [
    {
     "name": "stdout",
     "output_type": "stream",
     "text": [
      "['ARCHS4_Cell-lines', 'ARCHS4_IDG_Coexp', 'ARCHS4_Kinases_Coexp', 'ARCHS4_TFs_Coexp', 'ARCHS4_Tissues', 'Achilles_fitness_decrease', 'Achilles_fitness_increase', 'Aging_Perturbations_from_GEO_down', 'Aging_Perturbations_from_GEO_up', 'Allen_Brain_Atlas_10x_scRNA_2021', 'Allen_Brain_Atlas_down', 'Allen_Brain_Atlas_up', 'Azimuth_2023', 'Azimuth_Cell_Types_2021', 'BioCarta_2013', 'BioCarta_2015', 'BioCarta_2016', 'BioPlanet_2019', 'BioPlex_2017', 'CCLE_Proteomics_2020', 'COMPARTMENTS_Curated_2025', 'COMPARTMENTS_Experimental_2025', 'CORUM', 'COVID-19_Related_Gene_Sets', 'COVID-19_Related_Gene_Sets_2021', 'Cancer_Cell_Line_Encyclopedia', 'CellMarker_2024', 'CellMarker_Augmented_2021', 'ChEA_2013', 'ChEA_2015', 'ChEA_2016', 'ChEA_2022', 'Chromosome_Location', 'Chromosome_Location_hg19', 'ClinVar_2019', 'DGIdb_Drug_Targets_2024', 'DSigDB', 'Data_Acquisition_Method_Most_Popular_Genes', 'DepMap_CRISPR_GeneDependency_CellLines_2023', 'DepMap_WG_CRISPR_Screens_Broad_CellLines_2019', 'DepMap_WG_CRISPR_Screens_Sanger_CellLines_2019', 'Descartes_Cell_Types_and_Tissue_2021', 'Diabetes_Perturbations_GEO_2022', 'DisGeNET', 'Disease_Perturbations_from_GEO_down', 'Disease_Perturbations_from_GEO_up', 'Disease_Signatures_from_GEO_down_2014', 'Disease_Signatures_from_GEO_up_2014', 'DrugMatrix', 'Drug_Perturbations_from_GEO_2014', 'Drug_Perturbations_from_GEO_down', 'Drug_Perturbations_from_GEO_up', 'ENCODE_Histone_Modifications_2013', 'ENCODE_Histone_Modifications_2015', 'ENCODE_TF_ChIP-seq_2014', 'ENCODE_TF_ChIP-seq_2015', 'ENCODE_and_ChEA_Consensus_TFs_from_ChIP-X', 'ESCAPE', 'Elsevier_Pathway_Collection', 'Enrichr_Libraries_Most_Popular_Genes', 'Enrichr_Submissions_TF-Gene_Coocurrence', 'Enrichr_Users_Contributed_Lists_2020', 'Epigenomics_Roadmap_HM_ChIP-seq', 'FANTOM6_lncRNA_KD_DEGs', 'GO_Biological_Process_2013', 'GO_Biological_Process_2015', 'GO_Biological_Process_2017', 'GO_Biological_Process_2017b', 'GO_Biological_Process_2018', 'GO_Biological_Process_2021', 'GO_Biological_Process_2023', 'GO_Biological_Process_2025', 'GO_Cellular_Component_2013', 'GO_Cellular_Component_2015', 'GO_Cellular_Component_2017', 'GO_Cellular_Component_2017b', 'GO_Cellular_Component_2018', 'GO_Cellular_Component_2021', 'GO_Cellular_Component_2023', 'GO_Cellular_Component_2025', 'GO_Molecular_Function_2013', 'GO_Molecular_Function_2015', 'GO_Molecular_Function_2017', 'GO_Molecular_Function_2017b', 'GO_Molecular_Function_2018', 'GO_Molecular_Function_2021', 'GO_Molecular_Function_2023', 'GO_Molecular_Function_2025', 'GTEx_Aging_Signatures_2021', 'GTEx_Tissue_Expression_Down', 'GTEx_Tissue_Expression_Up', 'GTEx_Tissues_V8_2023', 'GWAS_Catalog_2019', 'GWAS_Catalog_2023', 'GeDiPNet_2023', 'GeneSigDB', 'Gene_Perturbations_from_GEO_down', 'Gene_Perturbations_from_GEO_up', 'Genes_Associated_with_NIH_Grants', 'Genome_Browser_PWMs', 'GlyGen_Glycosylated_Proteins_2022', 'HDSigDB_Human_2021', 'HDSigDB_Mouse_2021', 'HMDB_Metabolites', 'HMS_LINCS_KinomeScan', 'HomoloGene', 'HuBMAP_ASCT_plus_B_augmented_w_RNAseq_Coexpression', 'HuBMAP_ASCTplusB_augmented_2022', 'HumanCyc_2015', 'HumanCyc_2016', 'Human_Gene_Atlas', 'Human_Phenotype_Ontology', 'IDG_Drug_Targets_2022', 'InterPro_Domains_2019', 'Jensen_COMPARTMENTS', 'Jensen_DISEASES', 'Jensen_DISEASES_Curated_2025', 'Jensen_DISEASES_Experimental_2025', 'Jensen_TISSUES', 'KEA_2013', 'KEA_2015', 'KEGG_2013', 'KEGG_2015', 'KEGG_2016', 'KEGG_2019_Human', 'KEGG_2019_Mouse', 'KEGG_2021_Human', 'KOMP2_Mouse_Phenotypes_2022', 'Kinase_Perturbations_from_GEO_down', 'Kinase_Perturbations_from_GEO_up', 'L1000_Kinase_and_GPCR_Perturbations_down', 'L1000_Kinase_and_GPCR_Perturbations_up', 'LINCS_L1000_CRISPR_KO_Consensus_Sigs', 'LINCS_L1000_Chem_Pert_Consensus_Sigs', 'LINCS_L1000_Chem_Pert_down', 'LINCS_L1000_Chem_Pert_up', 'LINCS_L1000_Ligand_Perturbations_down', 'LINCS_L1000_Ligand_Perturbations_up', 'Ligand_Perturbations_from_GEO_down', 'Ligand_Perturbations_from_GEO_up', 'MAGMA_Drugs_and_Diseases', 'MAGNET_2023', 'MCF7_Perturbations_from_GEO_down', 'MCF7_Perturbations_from_GEO_up', 'MGI_Mammalian_Phenotype_2013', 'MGI_Mammalian_Phenotype_2017', 'MGI_Mammalian_Phenotype_Level_3', 'MGI_Mammalian_Phenotype_Level_4', 'MGI_Mammalian_Phenotype_Level_4_2019', 'MGI_Mammalian_Phenotype_Level_4_2021', 'MGI_Mammalian_Phenotype_Level_4_2024', 'MSigDB_Computational', 'MSigDB_Hallmark_2020', 'MSigDB_Oncogenic_Signatures', 'Metabolomics_Workbench_Metabolites_2022', 'Microbe_Perturbations_from_GEO_down', 'Microbe_Perturbations_from_GEO_up', 'MoTrPAC_2023', 'Mouse_Gene_Atlas', 'NCI-60_Cancer_Cell_Lines', 'NCI-Nature_2016', 'NIBR_DRUGseq_2025_down', 'NIBR_DRUGseq_2025_up', 'NIH_Funded_PIs_2017_AutoRIF_ARCHS4_Predictions', 'NIH_Funded_PIs_2017_GeneRIF_ARCHS4_Predictions', 'NIH_Funded_PIs_2017_Human_AutoRIF', 'NIH_Funded_PIs_2017_Human_GeneRIF', 'NURSA_Human_Endogenous_Complexome', 'OMIM_Disease', 'OMIM_Expanded', 'Old_CMAP_down', 'Old_CMAP_up', 'Orphanet_Augmented_2021', 'PFOCR_Pathways', 'PFOCR_Pathways_2023', 'PPI_Hub_Proteins', 'PanglaoDB_Augmented_2021', 'Panther_2015', 'Panther_2016', 'PerturbAtlas', 'PerturbAtlas_MouseGenePerturbationSigs', 'PerturbSeq_ReplogleK562', 'PerturbSeq_ReplogleRPE1', 'Pfam_Domains_2019', 'Pfam_InterPro_Domains', 'PheWeb_2019', 'PhenGenI_Association_2021', 'Phosphatase_Substrates_from_DEPOD', 'ProteomicsDB_2020', 'Proteomics_Drug_Atlas_2023', 'RNA-Seq_Disease_Gene_and_Drug_Signatures_from_GEO', 'RNAseq_Automatic_GEO_Signatures_Human_Down', 'RNAseq_Automatic_GEO_Signatures_Human_Up', 'RNAseq_Automatic_GEO_Signatures_Mouse_Down', 'RNAseq_Automatic_GEO_Signatures_Mouse_Up', 'Rare_Diseases_AutoRIF_ARCHS4_Predictions', 'Rare_Diseases_AutoRIF_Gene_Lists', 'Rare_Diseases_GeneRIF_ARCHS4_Predictions', 'Rare_Diseases_GeneRIF_Gene_Lists', 'Reactome_2013', 'Reactome_2015', 'Reactome_2016', 'Reactome_2022', 'Reactome_Pathways_2024', 'Rummagene_kinases', 'Rummagene_signatures', 'Rummagene_transcription_factors', 'SILAC_Phosphoproteomics', 'SubCell_BarCode', 'SynGO_2022', 'SynGO_2024', 'SysMyo_Muscle_Gene_Sets', 'TF-LOF_Expression_from_GEO', 'TF_Perturbations_Followed_by_Expression', 'TG_GATES_2020', 'TISSUES_Curated_2025', 'TISSUES_Experimental_2025', 'TRANSFAC_and_JASPAR_PWMs', 'TRRUST_Transcription_Factors_2019', 'Table_Mining_of_CRISPR_Studies', 'Tabula_Muris', 'Tabula_Sapiens', 'TargetScan_microRNA', 'TargetScan_microRNA_2017', 'The_Kinase_Library_2023', 'The_Kinase_Library_2024', 'Tissue_Protein_Expression_from_Human_Proteome_Map', 'Tissue_Protein_Expression_from_ProteomicsDB', 'Transcription_Factor_PPIs', 'UK_Biobank_GWAS_v1', 'Virus-Host_PPI_P-HIPSTer_2020', 'VirusMINT', 'Virus_Perturbations_from_GEO_down', 'Virus_Perturbations_from_GEO_up', 'WikiPathway_2021_Human', 'WikiPathway_2023_Human', 'WikiPathways_2013', 'WikiPathways_2015', 'WikiPathways_2016', 'WikiPathways_2019_Human', 'WikiPathways_2019_Mouse', 'WikiPathways_2024_Human', 'WikiPathways_2024_Mouse', 'dbGaP', 'huMAP', 'lncHUB_lncRNA_Co-Expression', 'miRTarBase_2017']\n"
     ]
    }
   ],
   "source": [
    "import gseapy as gp\n",
    "\n",
    "# Retrieve the list of available gene set libraries\n",
    "libraries = gp.get_library_name()\n",
    "print(libraries)"
   ]
  },
  {
   "cell_type": "code",
   "execution_count": null,
   "id": "a1301936",
   "metadata": {},
   "outputs": [
    {
     "name": "stderr",
     "output_type": "stream",
     "text": [
      "/usr/local/lib/python3.9/site-packages/anndata/_core/anndata.py:1832: UserWarning: Variable names are not unique. To make them unique, call `.var_names_make_unique`.\n",
      "  utils.warn_names_duplicates(\"var\")\n"
     ]
    }
   ],
   "source": [
    "RNA_data = sc.read_h5ad('../scButterfly/data/lymphoma/lymphoma_RNA.h5ad')\n",
    "RNA_data\n",
    "genes = list(RNA_data.var_names)\n",
    "RNA_df = pd.DataFrame(RNA_data.X.toarray(), columns=genes)"
   ]
  },
  {
   "cell_type": "code",
   "execution_count": null,
   "id": "a921c144",
   "metadata": {},
   "outputs": [],
   "source": [
    "trrust = pd.read_csv(\"../Benchmarking/data/trrust_rawdata.human.tsv\", sep=\"\\t\", header=None)\n",
    "trrust.columns = [\"TF\", \"Target\", \"Regulation\", \"PMID\"]\n",
    "tftg = trrust[[\"TF\", \"Target\"]].drop_duplicates()\n"
   ]
  },
  {
   "cell_type": "code",
   "execution_count": null,
   "id": "513bd0be",
   "metadata": {},
   "outputs": [
    {
     "data": {
      "application/vnd.microsoft.datawrangler.viewer.v0+json": {
       "columns": [
        {
         "name": "index",
         "rawType": "int64",
         "type": "integer"
        },
        {
         "name": "TF",
         "rawType": "object",
         "type": "string"
        },
        {
         "name": "Target",
         "rawType": "object",
         "type": "string"
        },
        {
         "name": "Regulation",
         "rawType": "object",
         "type": "string"
        },
        {
         "name": "PMID",
         "rawType": "object",
         "type": "string"
        }
       ],
       "conversionMethod": "pd.DataFrame",
       "ref": "1f8bded0-73d1-4c2c-998b-a5f1e7436788",
       "rows": [
        [
         "0",
         "AATF",
         "BAX",
         "Repression",
         "22909821"
        ],
        [
         "1",
         "AATF",
         "CDKN1A",
         "Unknown",
         "17157788"
        ],
        [
         "2",
         "AATF",
         "KLK3",
         "Unknown",
         "23146908"
        ],
        [
         "3",
         "AATF",
         "MYC",
         "Activation",
         "20549547"
        ],
        [
         "4",
         "AATF",
         "TP53",
         "Unknown",
         "17157788"
        ],
        [
         "5",
         "ABL1",
         "BAX",
         "Activation",
         "11753601"
        ],
        [
         "6",
         "ABL1",
         "BCL2",
         "Repression",
         "11753601"
        ],
        [
         "7",
         "ABL1",
         "BCL6",
         "Repression",
         "15509806"
        ],
        [
         "8",
         "ABL1",
         "CCND2",
         "Activation",
         "15509806"
        ],
        [
         "9",
         "ABL1",
         "CDKN1A",
         "Activation",
         "11753601;9916993"
        ],
        [
         "10",
         "ABL1",
         "CSF1",
         "Activation",
         "23418320"
        ],
        [
         "11",
         "ABL1",
         "CSF1",
         "Unknown",
         "18619508"
        ],
        [
         "12",
         "ABL1",
         "FOXO3",
         "Activation",
         "15509806"
        ],
        [
         "13",
         "ABL1",
         "JUN",
         "Activation",
         "15145216"
        ],
        [
         "14",
         "ABL1",
         "JUN",
         "Repression",
         "19357699"
        ],
        [
         "15",
         "ABL1",
         "PIM1",
         "Activation",
         "15145216"
        ],
        [
         "16",
         "ABL1",
         "TP53",
         "Activation",
         "11753601"
        ],
        [
         "17",
         "AES",
         "EPHA3",
         "Unknown",
         "20676368"
        ],
        [
         "18",
         "AES",
         "LEF1",
         "Activation",
         "20676368"
        ],
        [
         "19",
         "AES",
         "RND3",
         "Activation",
         "23546594"
        ],
        [
         "20",
         "AHR",
         "ABCG2",
         "Unknown",
         "20460431"
        ],
        [
         "21",
         "AHR",
         "AHRR",
         "Activation",
         "18848529"
        ],
        [
         "22",
         "AHR",
         "ARNT",
         "Unknown",
         "19255421;8631989"
        ],
        [
         "23",
         "AHR",
         "BRCA1",
         "Unknown",
         "18259752"
        ],
        [
         "24",
         "AHR",
         "CA9",
         "Repression",
         "19154183"
        ],
        [
         "25",
         "AHR",
         "CCND1",
         "Unknown",
         "24380854"
        ],
        [
         "26",
         "AHR",
         "CCNG2",
         "Activation",
         "22596188"
        ],
        [
         "27",
         "AHR",
         "CYP1A1",
         "Activation",
         "12213390;9865727"
        ],
        [
         "28",
         "AHR",
         "CYP1A1",
         "Repression",
         "17012224"
        ],
        [
         "29",
         "AHR",
         "CYP1A1",
         "Unknown",
         "10359656;12376470;15325265;19376845;21357676;24639079;8631128;9698073"
        ],
        [
         "30",
         "AHR",
         "CYP1A2",
         "Unknown",
         "21357676"
        ],
        [
         "31",
         "AHR",
         "CYP1B1",
         "Activation",
         "16115918;19287966"
        ],
        [
         "32",
         "AHR",
         "CYP1B1",
         "Unknown",
         "12376470;19376845;21742528;24299737"
        ],
        [
         "33",
         "AHR",
         "CYP2B6",
         "Unknown",
         "19928584"
        ],
        [
         "34",
         "AHR",
         "FOS",
         "Unknown",
         "10478842"
        ],
        [
         "35",
         "AHR",
         "IL13",
         "Unknown",
         "22981205"
        ],
        [
         "36",
         "AHR",
         "IL1B",
         "Unknown",
         "23349129"
        ],
        [
         "37",
         "AHR",
         "IL6",
         "Activation",
         "20511231"
        ],
        [
         "38",
         "AHR",
         "IL6",
         "Unknown",
         "18483242;23349129"
        ],
        [
         "39",
         "AHR",
         "MFSD2A",
         "Unknown",
         "21736709"
        ],
        [
         "40",
         "AHR",
         "MT2A",
         "Unknown",
         "23994556"
        ],
        [
         "41",
         "AHR",
         "MYC",
         "Unknown",
         "11114727;16091746"
        ],
        [
         "42",
         "AHR",
         "PCNA",
         "Activation",
         "12417031"
        ],
        [
         "43",
         "AHR",
         "RFC3",
         "Activation",
         "12417031"
        ],
        [
         "44",
         "AHR",
         "UGT1A1",
         "Activation",
         "18172616"
        ],
        [
         "45",
         "AHR",
         "UGT1A6",
         "Unknown",
         "9466822"
        ],
        [
         "46",
         "AIP",
         "AHR",
         "Activation",
         "11469723"
        ],
        [
         "47",
         "AIP",
         "GREB1",
         "Repression",
         "21984905"
        ],
        [
         "48",
         "AIP",
         "NFKB2",
         "Repression",
         "21984905"
        ],
        [
         "49",
         "AIP",
         "RSF1",
         "Repression",
         "21984905"
        ]
       ],
       "shape": {
        "columns": 4,
        "rows": 9396
       }
      },
      "text/html": [
       "<div>\n",
       "<style scoped>\n",
       "    .dataframe tbody tr th:only-of-type {\n",
       "        vertical-align: middle;\n",
       "    }\n",
       "\n",
       "    .dataframe tbody tr th {\n",
       "        vertical-align: top;\n",
       "    }\n",
       "\n",
       "    .dataframe thead th {\n",
       "        text-align: right;\n",
       "    }\n",
       "</style>\n",
       "<table border=\"1\" class=\"dataframe\">\n",
       "  <thead>\n",
       "    <tr style=\"text-align: right;\">\n",
       "      <th></th>\n",
       "      <th>TF</th>\n",
       "      <th>Target</th>\n",
       "      <th>Regulation</th>\n",
       "      <th>PMID</th>\n",
       "    </tr>\n",
       "  </thead>\n",
       "  <tbody>\n",
       "    <tr>\n",
       "      <th>0</th>\n",
       "      <td>AATF</td>\n",
       "      <td>BAX</td>\n",
       "      <td>Repression</td>\n",
       "      <td>22909821</td>\n",
       "    </tr>\n",
       "    <tr>\n",
       "      <th>1</th>\n",
       "      <td>AATF</td>\n",
       "      <td>CDKN1A</td>\n",
       "      <td>Unknown</td>\n",
       "      <td>17157788</td>\n",
       "    </tr>\n",
       "    <tr>\n",
       "      <th>2</th>\n",
       "      <td>AATF</td>\n",
       "      <td>KLK3</td>\n",
       "      <td>Unknown</td>\n",
       "      <td>23146908</td>\n",
       "    </tr>\n",
       "    <tr>\n",
       "      <th>3</th>\n",
       "      <td>AATF</td>\n",
       "      <td>MYC</td>\n",
       "      <td>Activation</td>\n",
       "      <td>20549547</td>\n",
       "    </tr>\n",
       "    <tr>\n",
       "      <th>4</th>\n",
       "      <td>AATF</td>\n",
       "      <td>TP53</td>\n",
       "      <td>Unknown</td>\n",
       "      <td>17157788</td>\n",
       "    </tr>\n",
       "    <tr>\n",
       "      <th>...</th>\n",
       "      <td>...</td>\n",
       "      <td>...</td>\n",
       "      <td>...</td>\n",
       "      <td>...</td>\n",
       "    </tr>\n",
       "    <tr>\n",
       "      <th>9391</th>\n",
       "      <td>ZNF76</td>\n",
       "      <td>CDKN1A</td>\n",
       "      <td>Repression</td>\n",
       "      <td>15280358</td>\n",
       "    </tr>\n",
       "    <tr>\n",
       "      <th>9392</th>\n",
       "      <td>ZNF76</td>\n",
       "      <td>PCYT1A</td>\n",
       "      <td>Activation</td>\n",
       "      <td>14702349</td>\n",
       "    </tr>\n",
       "    <tr>\n",
       "      <th>9393</th>\n",
       "      <td>ZNF76</td>\n",
       "      <td>TALDO1</td>\n",
       "      <td>Unknown</td>\n",
       "      <td>14702349</td>\n",
       "    </tr>\n",
       "    <tr>\n",
       "      <th>9394</th>\n",
       "      <td>ZNRD1</td>\n",
       "      <td>ABCB1</td>\n",
       "      <td>Activation</td>\n",
       "      <td>16373708</td>\n",
       "    </tr>\n",
       "    <tr>\n",
       "      <th>9395</th>\n",
       "      <td>ZNRD1</td>\n",
       "      <td>BCL2</td>\n",
       "      <td>Activation</td>\n",
       "      <td>16373708;16609701</td>\n",
       "    </tr>\n",
       "  </tbody>\n",
       "</table>\n",
       "<p>9396 rows × 4 columns</p>\n",
       "</div>"
      ],
      "text/plain": [
       "         TF  Target  Regulation               PMID\n",
       "0      AATF     BAX  Repression           22909821\n",
       "1      AATF  CDKN1A     Unknown           17157788\n",
       "2      AATF    KLK3     Unknown           23146908\n",
       "3      AATF     MYC  Activation           20549547\n",
       "4      AATF    TP53     Unknown           17157788\n",
       "...     ...     ...         ...                ...\n",
       "9391  ZNF76  CDKN1A  Repression           15280358\n",
       "9392  ZNF76  PCYT1A  Activation           14702349\n",
       "9393  ZNF76  TALDO1     Unknown           14702349\n",
       "9394  ZNRD1   ABCB1  Activation           16373708\n",
       "9395  ZNRD1    BCL2  Activation  16373708;16609701\n",
       "\n",
       "[9396 rows x 4 columns]"
      ]
     },
     "execution_count": 12,
     "metadata": {},
     "output_type": "execute_result"
    }
   ],
   "source": [
    "trrust"
   ]
  },
  {
   "cell_type": "code",
   "execution_count": null,
   "id": "20ec2b82",
   "metadata": {},
   "outputs": [],
   "source": [
    "tftg_filtered = tftg[tftg[\"TF\"].isin(genes) & tftg[\"Target\"].isin(genes)].reset_index(drop=True)"
   ]
  },
  {
   "cell_type": "code",
   "execution_count": null,
   "id": "c9da785b",
   "metadata": {},
   "outputs": [
    {
     "data": {
      "application/vnd.microsoft.datawrangler.viewer.v0+json": {
       "columns": [
        {
         "name": "index",
         "rawType": "int64",
         "type": "integer"
        },
        {
         "name": "TF",
         "rawType": "object",
         "type": "string"
        },
        {
         "name": "Target",
         "rawType": "object",
         "type": "string"
        }
       ],
       "conversionMethod": "pd.DataFrame",
       "ref": "9d3996f6-7573-4a8a-b85f-5476d9b6007a",
       "rows": [
        [
         "0",
         "AATF",
         "BAX"
        ],
        [
         "1",
         "AATF",
         "CDKN1A"
        ],
        [
         "2",
         "AATF",
         "KLK3"
        ],
        [
         "3",
         "AATF",
         "MYC"
        ],
        [
         "4",
         "AATF",
         "TP53"
        ],
        [
         "5",
         "ABL1",
         "BAX"
        ],
        [
         "6",
         "ABL1",
         "BCL2"
        ],
        [
         "7",
         "ABL1",
         "BCL6"
        ],
        [
         "8",
         "ABL1",
         "CCND2"
        ],
        [
         "9",
         "ABL1",
         "CDKN1A"
        ],
        [
         "10",
         "ABL1",
         "CSF1"
        ],
        [
         "11",
         "ABL1",
         "FOXO3"
        ],
        [
         "12",
         "ABL1",
         "JUN"
        ],
        [
         "13",
         "ABL1",
         "PIM1"
        ],
        [
         "14",
         "ABL1",
         "TP53"
        ],
        [
         "15",
         "AHR",
         "ABCG2"
        ],
        [
         "16",
         "AHR",
         "AHRR"
        ],
        [
         "17",
         "AHR",
         "ARNT"
        ],
        [
         "18",
         "AHR",
         "BRCA1"
        ],
        [
         "19",
         "AHR",
         "CA9"
        ],
        [
         "20",
         "AHR",
         "CCND1"
        ],
        [
         "21",
         "AHR",
         "CCNG2"
        ],
        [
         "22",
         "AHR",
         "CYP1A1"
        ],
        [
         "23",
         "AHR",
         "CYP1A2"
        ],
        [
         "24",
         "AHR",
         "CYP1B1"
        ],
        [
         "25",
         "AHR",
         "CYP2B6"
        ],
        [
         "26",
         "AHR",
         "FOS"
        ],
        [
         "27",
         "AHR",
         "IL13"
        ],
        [
         "28",
         "AHR",
         "IL1B"
        ],
        [
         "29",
         "AHR",
         "IL6"
        ],
        [
         "30",
         "AHR",
         "MFSD2A"
        ],
        [
         "31",
         "AHR",
         "MT2A"
        ],
        [
         "32",
         "AHR",
         "MYC"
        ],
        [
         "33",
         "AHR",
         "PCNA"
        ],
        [
         "34",
         "AHR",
         "RFC3"
        ],
        [
         "35",
         "AHR",
         "UGT1A1"
        ],
        [
         "36",
         "AHR",
         "UGT1A6"
        ],
        [
         "37",
         "AIP",
         "AHR"
        ],
        [
         "38",
         "AIP",
         "GREB1"
        ],
        [
         "39",
         "AIP",
         "NFKB2"
        ],
        [
         "40",
         "AIP",
         "RSF1"
        ],
        [
         "41",
         "AIP",
         "TFF1"
        ],
        [
         "42",
         "AIRE",
         "CHRNA1"
        ],
        [
         "43",
         "ANKRD1",
         "NPPA"
        ],
        [
         "44",
         "APBB1",
         "GMPS"
        ],
        [
         "45",
         "APC",
         "AKT1"
        ],
        [
         "46",
         "APC",
         "AMHR2"
        ],
        [
         "47",
         "APC",
         "BIRC5"
        ],
        [
         "48",
         "APC",
         "DLG1"
        ],
        [
         "49",
         "APC",
         "DNMT1"
        ]
       ],
       "shape": {
        "columns": 2,
        "rows": 8348
       }
      },
      "text/html": [
       "<div>\n",
       "<style scoped>\n",
       "    .dataframe tbody tr th:only-of-type {\n",
       "        vertical-align: middle;\n",
       "    }\n",
       "\n",
       "    .dataframe tbody tr th {\n",
       "        vertical-align: top;\n",
       "    }\n",
       "\n",
       "    .dataframe thead th {\n",
       "        text-align: right;\n",
       "    }\n",
       "</style>\n",
       "<table border=\"1\" class=\"dataframe\">\n",
       "  <thead>\n",
       "    <tr style=\"text-align: right;\">\n",
       "      <th></th>\n",
       "      <th>TF</th>\n",
       "      <th>Target</th>\n",
       "    </tr>\n",
       "  </thead>\n",
       "  <tbody>\n",
       "    <tr>\n",
       "      <th>0</th>\n",
       "      <td>AATF</td>\n",
       "      <td>BAX</td>\n",
       "    </tr>\n",
       "    <tr>\n",
       "      <th>1</th>\n",
       "      <td>AATF</td>\n",
       "      <td>CDKN1A</td>\n",
       "    </tr>\n",
       "    <tr>\n",
       "      <th>2</th>\n",
       "      <td>AATF</td>\n",
       "      <td>KLK3</td>\n",
       "    </tr>\n",
       "    <tr>\n",
       "      <th>3</th>\n",
       "      <td>AATF</td>\n",
       "      <td>MYC</td>\n",
       "    </tr>\n",
       "    <tr>\n",
       "      <th>4</th>\n",
       "      <td>AATF</td>\n",
       "      <td>TP53</td>\n",
       "    </tr>\n",
       "    <tr>\n",
       "      <th>...</th>\n",
       "      <td>...</td>\n",
       "      <td>...</td>\n",
       "    </tr>\n",
       "    <tr>\n",
       "      <th>8343</th>\n",
       "      <td>ZNF76</td>\n",
       "      <td>CDKN1A</td>\n",
       "    </tr>\n",
       "    <tr>\n",
       "      <th>8344</th>\n",
       "      <td>ZNF76</td>\n",
       "      <td>PCYT1A</td>\n",
       "    </tr>\n",
       "    <tr>\n",
       "      <th>8345</th>\n",
       "      <td>ZNF76</td>\n",
       "      <td>TALDO1</td>\n",
       "    </tr>\n",
       "    <tr>\n",
       "      <th>8346</th>\n",
       "      <td>ZNRD1</td>\n",
       "      <td>ABCB1</td>\n",
       "    </tr>\n",
       "    <tr>\n",
       "      <th>8347</th>\n",
       "      <td>ZNRD1</td>\n",
       "      <td>BCL2</td>\n",
       "    </tr>\n",
       "  </tbody>\n",
       "</table>\n",
       "<p>8348 rows × 2 columns</p>\n",
       "</div>"
      ],
      "text/plain": [
       "         TF  Target\n",
       "0      AATF     BAX\n",
       "1      AATF  CDKN1A\n",
       "2      AATF    KLK3\n",
       "3      AATF     MYC\n",
       "4      AATF    TP53\n",
       "...     ...     ...\n",
       "8343  ZNF76  CDKN1A\n",
       "8344  ZNF76  PCYT1A\n",
       "8345  ZNF76  TALDO1\n",
       "8346  ZNRD1   ABCB1\n",
       "8347  ZNRD1    BCL2\n",
       "\n",
       "[8348 rows x 2 columns]"
      ]
     },
     "execution_count": 14,
     "metadata": {},
     "output_type": "execute_result"
    }
   ],
   "source": [
    "tftg_filtered"
   ]
  },
  {
   "cell_type": "code",
   "execution_count": null,
   "id": "cfc37402",
   "metadata": {},
   "outputs": [],
   "source": [
    "def compute_tf_target_corr(pairs, expr_df, method=\"pearson\"):\n",
    "    correlations = []\n",
    "    for _, row in pairs.iterrows():\n",
    "        tf_expr = expr_df[row[\"TF\"]]\n",
    "        target_expr = expr_df[row[\"Target\"]]\n",
    "        if method == \"pearson\":\n",
    "            r_value, p_value = pearsonr(tf_expr, target_expr)\n",
    "        correlations.append((r_value, p_value))\n",
    "    return pd.concat([pairs, pd.DataFrame(correlations, columns=[\"Correlation\", \"P-value\"])], axis=1)"
   ]
  },
  {
   "cell_type": "code",
   "execution_count": null,
   "id": "b1ed4e6c",
   "metadata": {},
   "outputs": [
    {
     "name": "stderr",
     "output_type": "stream",
     "text": [
      "/usr/local/lib/python3.9/site-packages/scipy/stats/_stats_py.py:4781: ConstantInputWarning: An input array is constant; the correlation coefficient is not defined.\n",
      "  warnings.warn(stats.ConstantInputWarning(msg))\n"
     ]
    }
   ],
   "source": [
    "corr = compute_tf_target_corr(tftg_filtered, RNA_df, method=\"pearson\")"
   ]
  },
  {
   "cell_type": "code",
   "execution_count": null,
   "id": "a1f4a5d8",
   "metadata": {},
   "outputs": [
    {
     "data": {
      "application/vnd.microsoft.datawrangler.viewer.v0+json": {
       "columns": [
        {
         "name": "index",
         "rawType": "int64",
         "type": "integer"
        },
        {
         "name": "TF",
         "rawType": "object",
         "type": "string"
        },
        {
         "name": "Target",
         "rawType": "object",
         "type": "string"
        },
        {
         "name": "Correlation",
         "rawType": "float64",
         "type": "float"
        },
        {
         "name": "P-value",
         "rawType": "float64",
         "type": "float"
        }
       ],
       "conversionMethod": "pd.DataFrame",
       "ref": "0efd146e-ae66-410a-a21f-9ea7a50bf41e",
       "rows": [
        [
         "0",
         "AATF",
         "BAX",
         "0.06445334388446455",
         "5.839253896929984e-15"
        ],
        [
         "1",
         "AATF",
         "CDKN1A",
         "0.017179006906907247",
         "0.03762473069549395"
        ],
        [
         "2",
         "AATF",
         "KLK3",
         "0.007489065204807161",
         "0.36481094382861656"
        ],
        [
         "3",
         "AATF",
         "MYC",
         "0.06333694010610628",
         "1.6951272346050712e-14"
        ],
        [
         "4",
         "AATF",
         "TP53",
         "0.0845314276462335",
         "1.218585263017796e-24"
        ],
        [
         "5",
         "ABL1",
         "BAX",
         "0.07210613998367567",
         "2.4009668328194575e-18"
        ],
        [
         "6",
         "ABL1",
         "BCL2",
         "0.18202026551068934",
         "2.667126787812453e-109"
        ],
        [
         "7",
         "ABL1",
         "BCL6",
         "0.16629255757903028",
         "2.69151884595541e-91"
        ],
        [
         "8",
         "ABL1",
         "CCND2",
         "0.0958486541624672",
         "3.0740242272708215e-31"
        ],
        [
         "9",
         "ABL1",
         "CDKN1A",
         "0.041167605776088884",
         "6.239652769652171e-07"
        ],
        [
         "10",
         "ABL1",
         "CSF1",
         "-0.01014812903499254",
         "0.21944016164401325"
        ],
        [
         "11",
         "ABL1",
         "FOXO3",
         "0.08776153604260396",
         "1.9366290344017483e-26"
        ],
        [
         "12",
         "ABL1",
         "JUN",
         "0.020464772503424957",
         "0.01326316713131386"
        ],
        [
         "13",
         "ABL1",
         "PIM1",
         "0.1123652873067958",
         "2.312084749993135e-42"
        ],
        [
         "14",
         "ABL1",
         "TP53",
         "0.06618287036630517",
         "1.0807013250112773e-15"
        ],
        [
         "15",
         "AHR",
         "ABCG2",
         "0.02851377219081151",
         "0.0005584208763481897"
        ],
        [
         "16",
         "AHR",
         "AHRR",
         "0.05016155815585976",
         "1.250094653170428e-09"
        ],
        [
         "17",
         "AHR",
         "ARNT",
         "0.12334381364882868",
         "9.540103706175713e-51"
        ],
        [
         "18",
         "AHR",
         "BRCA1",
         "0.17415130849663657",
         "4.4555492189453794e-100"
        ],
        [
         "19",
         "AHR",
         "CA9",
         "0.01520608115681532",
         "0.06574820714465997"
        ],
        [
         "20",
         "AHR",
         "CCND1",
         "0.04781154414025712",
         "7.088951115843729e-09"
        ],
        [
         "21",
         "AHR",
         "CCNG2",
         "0.10223216594444462",
         "2.509883005635633e-35"
        ],
        [
         "22",
         "AHR",
         "CYP1A1",
         "0.016788362538770193",
         "0.04219020616566452"
        ],
        [
         "23",
         "AHR",
         "CYP1A2",
         "0.009526852177768436",
         "0.24897839389927065"
        ],
        [
         "24",
         "AHR",
         "CYP1B1",
         "0.037509803651542974",
         "5.61165838517785e-06"
        ],
        [
         "25",
         "AHR",
         "CYP2B6",
         "0.009363893612981834",
         "0.2571663803538449"
        ],
        [
         "26",
         "AHR",
         "FOS",
         "0.03811734204148398",
         "3.947807192521522e-06"
        ],
        [
         "27",
         "AHR",
         "IL13",
         "0.012638916793784129",
         "0.12615333319486846"
        ],
        [
         "28",
         "AHR",
         "IL1B",
         "0.034610702593171484",
         "2.7973664070443015e-05"
        ],
        [
         "29",
         "AHR",
         "IL6",
         "0.007915221542104701",
         "0.3381606591340605"
        ],
        [
         "30",
         "AHR",
         "MFSD2A",
         "0.10700913107150431",
         "1.4677442769058372e-38"
        ],
        [
         "31",
         "AHR",
         "MT2A",
         "0.0694074470467504",
         "4.139696428717998e-17"
        ],
        [
         "32",
         "AHR",
         "MYC",
         "0.07315977659788939",
         "7.673321394557365e-19"
        ],
        [
         "33",
         "AHR",
         "PCNA",
         "0.047733420210995296",
         "7.499693618948285e-09"
        ],
        [
         "34",
         "AHR",
         "RFC3",
         "0.1926469003415986",
         "1.9093540242525042e-122"
        ],
        [
         "35",
         "AHR",
         "UGT1A1",
         null,
         null
        ],
        [
         "36",
         "AHR",
         "UGT1A6",
         null,
         null
        ],
        [
         "37",
         "AIP",
         "AHR",
         "0.051877929663013876",
         "3.3471622960387656e-10"
        ],
        [
         "38",
         "AIP",
         "GREB1",
         "0.028608864393863447",
         "0.0005350654116830329"
        ],
        [
         "39",
         "AIP",
         "NFKB2",
         "0.047121801187770686",
         "1.1620715020144644e-08"
        ],
        [
         "40",
         "AIP",
         "RSF1",
         "0.06294667311192964",
         "2.4498396391778676e-14"
        ],
        [
         "41",
         "AIP",
         "TFF1",
         null,
         null
        ],
        [
         "42",
         "AIRE",
         "CHRNA1",
         "-0.0006876973046361856",
         "0.9336800720200636"
        ],
        [
         "43",
         "ANKRD1",
         "NPPA",
         "-0.0003599298749593637",
         "0.9652601210658995"
        ],
        [
         "44",
         "APBB1",
         "GMPS",
         "0.040510977812139484",
         "9.38602727472679e-07"
        ],
        [
         "45",
         "APC",
         "AKT1",
         "0.07789028411086445",
         "3.7438430142773544e-21"
        ],
        [
         "46",
         "APC",
         "AMHR2",
         "0.01294223369508595",
         "0.11731208124619935"
        ],
        [
         "47",
         "APC",
         "BIRC5",
         "0.04111922250224859",
         "6.431572818105848e-07"
        ],
        [
         "48",
         "APC",
         "DLG1",
         "0.18226237588701277",
         "1.3658664107070444e-109"
        ],
        [
         "49",
         "APC",
         "DNMT1",
         "0.07658966242138192",
         "1.6717424799393335e-20"
        ]
       ],
       "shape": {
        "columns": 4,
        "rows": 8348
       }
      },
      "text/html": [
       "<div>\n",
       "<style scoped>\n",
       "    .dataframe tbody tr th:only-of-type {\n",
       "        vertical-align: middle;\n",
       "    }\n",
       "\n",
       "    .dataframe tbody tr th {\n",
       "        vertical-align: top;\n",
       "    }\n",
       "\n",
       "    .dataframe thead th {\n",
       "        text-align: right;\n",
       "    }\n",
       "</style>\n",
       "<table border=\"1\" class=\"dataframe\">\n",
       "  <thead>\n",
       "    <tr style=\"text-align: right;\">\n",
       "      <th></th>\n",
       "      <th>TF</th>\n",
       "      <th>Target</th>\n",
       "      <th>Correlation</th>\n",
       "      <th>P-value</th>\n",
       "    </tr>\n",
       "  </thead>\n",
       "  <tbody>\n",
       "    <tr>\n",
       "      <th>0</th>\n",
       "      <td>AATF</td>\n",
       "      <td>BAX</td>\n",
       "      <td>0.064453</td>\n",
       "      <td>5.839254e-15</td>\n",
       "    </tr>\n",
       "    <tr>\n",
       "      <th>1</th>\n",
       "      <td>AATF</td>\n",
       "      <td>CDKN1A</td>\n",
       "      <td>0.017179</td>\n",
       "      <td>3.762473e-02</td>\n",
       "    </tr>\n",
       "    <tr>\n",
       "      <th>2</th>\n",
       "      <td>AATF</td>\n",
       "      <td>KLK3</td>\n",
       "      <td>0.007489</td>\n",
       "      <td>3.648109e-01</td>\n",
       "    </tr>\n",
       "    <tr>\n",
       "      <th>3</th>\n",
       "      <td>AATF</td>\n",
       "      <td>MYC</td>\n",
       "      <td>0.063337</td>\n",
       "      <td>1.695127e-14</td>\n",
       "    </tr>\n",
       "    <tr>\n",
       "      <th>4</th>\n",
       "      <td>AATF</td>\n",
       "      <td>TP53</td>\n",
       "      <td>0.084531</td>\n",
       "      <td>1.218585e-24</td>\n",
       "    </tr>\n",
       "    <tr>\n",
       "      <th>...</th>\n",
       "      <td>...</td>\n",
       "      <td>...</td>\n",
       "      <td>...</td>\n",
       "      <td>...</td>\n",
       "    </tr>\n",
       "    <tr>\n",
       "      <th>8343</th>\n",
       "      <td>ZNF76</td>\n",
       "      <td>CDKN1A</td>\n",
       "      <td>0.010632</td>\n",
       "      <td>1.982477e-01</td>\n",
       "    </tr>\n",
       "    <tr>\n",
       "      <th>8344</th>\n",
       "      <td>ZNF76</td>\n",
       "      <td>PCYT1A</td>\n",
       "      <td>0.100810</td>\n",
       "      <td>2.154979e-34</td>\n",
       "    </tr>\n",
       "    <tr>\n",
       "      <th>8345</th>\n",
       "      <td>ZNF76</td>\n",
       "      <td>TALDO1</td>\n",
       "      <td>0.048268</td>\n",
       "      <td>5.093731e-09</td>\n",
       "    </tr>\n",
       "    <tr>\n",
       "      <th>8346</th>\n",
       "      <td>ZNRD1</td>\n",
       "      <td>ABCB1</td>\n",
       "      <td>0.045747</td>\n",
       "      <td>3.049790e-08</td>\n",
       "    </tr>\n",
       "    <tr>\n",
       "      <th>8347</th>\n",
       "      <td>ZNRD1</td>\n",
       "      <td>BCL2</td>\n",
       "      <td>0.066335</td>\n",
       "      <td>9.301560e-16</td>\n",
       "    </tr>\n",
       "  </tbody>\n",
       "</table>\n",
       "<p>8348 rows × 4 columns</p>\n",
       "</div>"
      ],
      "text/plain": [
       "         TF  Target  Correlation       P-value\n",
       "0      AATF     BAX     0.064453  5.839254e-15\n",
       "1      AATF  CDKN1A     0.017179  3.762473e-02\n",
       "2      AATF    KLK3     0.007489  3.648109e-01\n",
       "3      AATF     MYC     0.063337  1.695127e-14\n",
       "4      AATF    TP53     0.084531  1.218585e-24\n",
       "...     ...     ...          ...           ...\n",
       "8343  ZNF76  CDKN1A     0.010632  1.982477e-01\n",
       "8344  ZNF76  PCYT1A     0.100810  2.154979e-34\n",
       "8345  ZNF76  TALDO1     0.048268  5.093731e-09\n",
       "8346  ZNRD1   ABCB1     0.045747  3.049790e-08\n",
       "8347  ZNRD1    BCL2     0.066335  9.301560e-16\n",
       "\n",
       "[8348 rows x 4 columns]"
      ]
     },
     "execution_count": 20,
     "metadata": {},
     "output_type": "execute_result"
    }
   ],
   "source": [
    "corr"
   ]
  },
  {
   "cell_type": "code",
   "execution_count": 154,
   "id": "26b78b82",
   "metadata": {},
   "outputs": [],
   "source": [
    "RNA_data[:, RNA_data.var['highly_variable']].write('/workspace/Benchmarking/data_scbutterfly/lymphoma_RNA_hv.h5ad')"
   ]
  },
  {
   "cell_type": "code",
   "execution_count": 188,
   "id": "9ad0f7ea",
   "metadata": {},
   "outputs": [
    {
     "data": {
      "text/plain": [
       "Index(['LINC02593', 'SAMD11', 'SDF4', 'ACAP3', 'SSU72', 'CDK11B', 'PRDM16',\n",
       "       'RPL22', 'ICMT', 'ESPN',\n",
       "       ...\n",
       "       'MT-CO2', 'MT-ATP8', 'MT-ATP6', 'MT-CO3', 'MT-ND3', 'MT-ND4L', 'MT-ND4',\n",
       "       'MT-ND5', 'MT-ND6', 'MT-CYB'],\n",
       "      dtype='object', length=3000)"
      ]
     },
     "execution_count": 188,
     "metadata": {},
     "output_type": "execute_result"
    }
   ],
   "source": [
    "RNA_data[:, RNA_data.var['highly_variable']].var_names "
   ]
  },
  {
   "cell_type": "code",
   "execution_count": 505,
   "id": "fb079819",
   "metadata": {},
   "outputs": [
    {
     "name": "stderr",
     "output_type": "stream",
     "text": [
      "/opt/venv/lib/python3.10/site-packages/anndata/_core/anndata.py:1830: UserWarning:\n",
      "\n",
      "Variable names are not unique. To make them unique, call `.var_names_make_unique`.\n",
      "\n"
     ]
    },
    {
     "data": {
      "application/vnd.microsoft.datawrangler.viewer.v0+json": {
       "columns": [
        {
         "name": "index",
         "rawType": "int64",
         "type": "integer"
        },
        {
         "name": "0",
         "rawType": "category",
         "type": "unknown"
        }
       ],
       "ref": "a131b8f9-cfd8-4a59-bb16-377fe50b6659",
       "rows": [
        [
         "0",
         "Tumor B"
        ],
        [
         "1",
         "T"
        ],
        [
         "2",
         "T cycling"
        ],
        [
         "3",
         "Mono"
        ],
        [
         "4",
         "low GEX mix"
        ],
        [
         "5",
         "Tumor B cycling"
        ],
        [
         "6",
         "B"
        ],
        [
         "7",
         "Mono/B mix"
        ],
        [
         "8",
         " B/T mix"
        ],
        [
         "9",
         "Mono/T mix"
        ],
        [
         "10",
         "unknown mix"
        ],
        [
         "11",
         "pDC"
        ],
        [
         "12",
         "Stromal cells"
        ],
        [
         "13",
         null
        ],
        [
         "14",
         "Fibroblasts"
        ]
       ],
       "shape": {
        "columns": 1,
        "rows": 15
       }
      },
      "text/plain": [
       "0             Tumor B\n",
       "1                   T\n",
       "2           T cycling\n",
       "3                Mono\n",
       "4         low GEX mix\n",
       "5     Tumor B cycling\n",
       "6                   B\n",
       "7          Mono/B mix\n",
       "8             B/T mix\n",
       "9          Mono/T mix\n",
       "10        unknown mix\n",
       "11                pDC\n",
       "12      Stromal cells\n",
       "13                NaN\n",
       "14        Fibroblasts\n",
       "dtype: category\n",
       "Categories (14, object): [' B/T mix', 'B', 'Fibroblasts', 'Mono', ..., 'Tumor B cycling', 'low GEX mix', 'pDC', 'unknown mix']"
      ]
     },
     "execution_count": 505,
     "metadata": {},
     "output_type": "execute_result"
    }
   ],
   "source": [
    "RNA_data = sc.read_h5ad('/workspace/scButterfly/data/lymphoma/lymphoma_RNA_pp.h5ad')\n",
    "pd.Series(RNA_data.obs['Cell Types'].unique())"
   ]
  },
  {
   "cell_type": "code",
   "execution_count": 553,
   "id": "e70c7d82",
   "metadata": {},
   "outputs": [
    {
     "name": "stderr",
     "output_type": "stream",
     "text": [
      "/opt/venv/lib/python3.10/site-packages/anndata/_core/anndata.py:1830: UserWarning:\n",
      "\n",
      "Variable names are not unique. To make them unique, call `.var_names_make_unique`.\n",
      "\n"
     ]
    }
   ],
   "source": [
    "RNA_data.obs['group'] = RNA_data.obs['Cell Types'].map(\n",
    "    lambda x: 'B' if x in ['B'] else ('LYM' if x in ['Tumor B', 'Tumor B cycling'] else None)\n",
    ")\n",
    "data_gsea = RNA_data[RNA_data.obs['group'].isin(['B','LYM'])].copy()"
   ]
  },
  {
   "cell_type": "code",
   "execution_count": 507,
   "id": "e4c3c5e3",
   "metadata": {},
   "outputs": [],
   "source": [
    "data_gsea = data_gsea[:, data_gsea.var['highly_variable']]"
   ]
  },
  {
   "cell_type": "code",
   "execution_count": 554,
   "id": "ecf092af",
   "metadata": {},
   "outputs": [
    {
     "name": "stdout",
     "output_type": "stream",
     "text": [
      "WARNING: adata.X seems to be already log-transformed.\n"
     ]
    }
   ],
   "source": [
    "sc.pp.log1p(data_gsea)"
   ]
  },
  {
   "cell_type": "code",
   "execution_count": 555,
   "id": "6284216d",
   "metadata": {},
   "outputs": [],
   "source": [
    "sc.tl.rank_genes_groups(\n",
    "    data_gsea,\n",
    "    groupby='group',\n",
    "    groups=['LYM'],\n",
    "    reference='B',\n",
    "    method='wilcoxon',\n",
    "    pts=True\n",
    ")"
   ]
  },
  {
   "cell_type": "code",
   "execution_count": 556,
   "id": "26f30364",
   "metadata": {},
   "outputs": [],
   "source": [
    "de = sc.get.rank_genes_groups_df(data_gsea, group='LYM')\n",
    "de['neg_log10_padj'] = -np.log10(de['pvals_adj'].replace(0, np.nan))"
   ]
  },
  {
   "cell_type": "code",
   "execution_count": 358,
   "id": "039fcaba",
   "metadata": {},
   "outputs": [],
   "source": [
    "df = de.copy()"
   ]
  },
  {
   "cell_type": "code",
   "execution_count": 272,
   "id": "770bb2a6",
   "metadata": {},
   "outputs": [
    {
     "data": {
      "image/png": "[encoded data removed]",
      "text/plain": [
       "<Figure size 700x600 with 1 Axes>"
      ]
     },
     "metadata": {},
     "output_type": "display_data"
    }
   ],
   "source": [
    "df['color'] = 'grey'\n",
    "df.loc[(df['logfoldchanges'] > 1) & (df['pvals_adj'] < 0.001), 'color'] = 'red'\n",
    "df.loc[(df['logfoldchanges'] < -1) & (df['pvals_adj'] < 0.001), 'color'] = 'blue'\n",
    "\n",
    "plt.figure(figsize=(7, 6))\n",
    "plt.scatter(df['logfoldchanges'], df['neg_log10_padj'], s=10, alpha=0.7, c=df['color'], edgecolor='none')\n",
    "plt.axhline(-np.log10(0.001), color='green', linestyle='--')\n",
    "plt.axvline(1, color='green', linestyle='dotted')\n",
    "plt.axvline(-1, color='green', linestyle='dotted')\n",
    "\n",
    "sig_df = df[df['pvals_adj'] < 0.001]\n",
    "top_up = sig_df.sort_values(by='logfoldchanges', ascending=False).head(10)\n",
    "top_down = sig_df.sort_values(by='logfoldchanges', ascending=True).head(10)\n",
    "\n",
    "for _, row in pd.concat([top_up, top_down]).iterrows():\n",
    "    plt.text(row['logfoldchanges'], row['neg_log10_padj'],\n",
    "             row['names'], fontsize=7, ha='center', va='bottom', color='black')\n",
    "\n",
    "plt.xlabel('Log2 FC')\n",
    "plt.ylabel('-Log10 Adj_p')\n",
    "plt.title('Volcano Plot: Lymphoma B vs B Cells')\n",
    "plt.tight_layout()\n",
    "plt.show()"
   ]
  },
  {
   "cell_type": "code",
   "execution_count": 249,
   "id": "603b6a95",
   "metadata": {},
   "outputs": [
    {
     "data": {
      "application/vnd.plotly.v1+json": {
       "config": {
        "plotlyServerURL": "https://plot.ly"
       },
       "data": [
        {
         "customdata": [
          [
           "AC090125.1",
           3.647928663753481e-229
          ],
          [
           "TCF4",
           2.1666678484343693e-206
          ],
          [
           "GPM6A",
           2.70590882732192e-187
          ],
          [
           "LINC01320",
           8.997874242253758e-187
          ],
          [
           "FCRL5",
           5.675837706453282e-175
          ],
          [
           "RHEX",
           1.2341891022162995e-153
          ],
          [
           "GRHPR",
           8.545683781858707e-152
          ],
          [
           "DGKG",
           4.8218423755749985e-149
          ],
          [
           "PDGFD",
           3.990460795250133e-147
          ],
          [
           "NIBAN3",
           3.211987924980529e-143
          ],
          [
           "ARHGAP24",
           1.4603727544800318e-131
          ],
          [
           "ZNF804A",
           1.0660876945599989e-128
          ],
          [
           "RUBCNL",
           2.0686658146630857e-124
          ],
          [
           "PAX5",
           2.9794814918516082e-102
          ],
          [
           "IGLC1",
           4.8780072364011325e-102
          ],
          [
           "CD83",
           1.3258540206306056e-89
          ],
          [
           "ADAMTS6",
           1.406697633174247e-76
          ],
          [
           "PGGHG",
           9.940916429246984e-55
          ],
          [
           "MZB1",
           6.047208313250863e-54
          ],
          [
           "LEF1",
           1.6029000085641309e-44
          ],
          [
           "IGHG3",
           8.37950586117109e-42
          ],
          [
           "WDR63",
           1.4732018578402645e-41
          ],
          [
           "CTSH",
           2.212086561808328e-41
          ],
          [
           "DCLK2",
           5.872488159721711e-40
          ],
          [
           "SUCLG2-AS1",
           2.126628740501201e-37
          ],
          [
           "AC083837.1",
           7.158707673069466e-36
          ],
          [
           "LYN",
           1.1829305086932973e-35
          ],
          [
           "IGKC",
           9.08806472817078e-34
          ],
          [
           "EPDR1",
           3.7111057135271866e-32
          ],
          [
           "TP63",
           3.8327895395381743e-32
          ],
          [
           "CENPP",
           5.121686234872172e-32
          ],
          [
           "PRAG1",
           1.1187117154653402e-31
          ],
          [
           "SCMH1",
           2.4368855750938714e-28
          ],
          [
           "RBBP4",
           3.991923439187242e-27
          ],
          [
           "HLA-DMB",
           6.037616580721355e-27
          ],
          [
           "SEC61B",
           1.5664272075491608e-26
          ],
          [
           "LINC01572",
           1.663163657068262e-25
          ],
          [
           "NUP188",
           3.482739118096577e-25
          ],
          [
           "SERF2",
           3.5196868845896103e-25
          ],
          [
           "EDF1",
           3.666693143925988e-25
          ],
          [
           "HIP1",
           4.1117120274578093e-25
          ],
          [
           "INIP",
           5.2977043224242755e-24
          ],
          [
           "VKORC1L1",
           5.917285316331481e-24
          ],
          [
           "IGHA1",
           1.1173631275249248e-23
          ],
          [
           "BIK",
           6.752525094477056e-23
          ],
          [
           "RBMS3",
           1.5052879061997682e-22
          ],
          [
           "IGLC7",
           4.080859496028938e-20
          ],
          [
           "IGHG4",
           4.8358702258016237e-20
          ],
          [
           "DPH7",
           1.2545748227337351e-19
          ],
          [
           "PTPRG",
           1.3542719192394306e-19
          ],
          [
           "AC139887.2",
           4.391108678569273e-19
          ],
          [
           "NCBP1",
           4.1876803807850635e-18
          ],
          [
           "LAPTM5",
           1.535640408248193e-16
          ],
          [
           "NCF1",
           2.8622216092986215e-16
          ],
          [
           "ARRDC3-AS1",
           5.171928103126145e-16
          ],
          [
           "RP9",
           3.969531517471962e-15
          ],
          [
           "CSNK1D",
           7.503175910587353e-15
          ],
          [
           "IGHA2",
           9.771709874563056e-15
          ],
          [
           "BX284613.2",
           9.971206809272892e-15
          ],
          [
           "SPON2",
           1.8177943383717617e-14
          ],
          [
           "HSPH1",
           4.307464019861217e-14
          ],
          [
           "CD52",
           4.642598448425319e-13
          ],
          [
           "MTX2",
           1.0281711779072633e-12
          ],
          [
           "GNL3",
           1.4159513373095772e-12
          ],
          [
           "MED12L",
           1.726683346580921e-12
          ],
          [
           "TUBGCP3",
           1.940668809777701e-12
          ],
          [
           "SEC61A1",
           3.1696788691192096e-12
          ],
          [
           "PPIA",
           5.809784693113191e-12
          ],
          [
           "CARM1",
           9.990654907948738e-12
          ],
          [
           "HDX",
           1.0565011154147273e-11
          ],
          [
           "USP42",
           1.0565011154147273e-11
          ],
          [
           "P4HB",
           1.0993098058727872e-11
          ],
          [
           "ABAT",
           2.4226755275981248e-11
          ],
          [
           "ARSG",
           3.188658243747945e-11
          ],
          [
           "LMAN1",
           4.569987040960958e-11
          ],
          [
           "IGHM",
           4.589487109502152e-11
          ],
          [
           "ST6GALNAC6",
           7.451461048224536e-11
          ],
          [
           "CD79A",
           1.1681383047347773e-10
          ],
          [
           "PKN3",
           1.4106082054849688e-10
          ],
          [
           "TSC1",
           2.841431588351436e-10
          ],
          [
           "RMI1",
           3.175125695076737e-10
          ],
          [
           "SEC11C",
           3.6244939636649427e-10
          ],
          [
           "HLA-DPB1",
           5.192980182611044e-10
          ],
          [
           "SLC38A10",
           8.438422215177441e-10
          ],
          [
           "CDCA7L",
           1.7917378181627643e-9
          ],
          [
           "GGA1",
           1.95161075032377e-9
          ],
          [
           "CKLF",
           2.2537988560703057e-9
          ],
          [
           "TMA7",
           2.9999240924852025e-9
          ],
          [
           "CDC37",
           3.0637509571777495e-9
          ],
          [
           "ITFG2",
           3.1000995771465427e-9
          ],
          [
           "RELB",
           3.1769536084636175e-9
          ],
          [
           "CCDC186",
           3.6138936125126355e-9
          ],
          [
           "COG2",
           5.013007205354296e-9
          ],
          [
           "EDEM3",
           1.2676851045672335e-8
          ],
          [
           "HIKESHI",
           1.3042255297399318e-8
          ],
          [
           "DVL3",
           1.324887447006369e-8
          ],
          [
           "IGHE",
           1.3906499816816398e-8
          ],
          [
           "SRRT",
           1.7201819423874652e-8
          ],
          [
           "SHLD1",
           2.396721660639712e-8
          ],
          [
           "AC097376.3",
           4.026263045365595e-8
          ],
          [
           "CCDC88B",
           6.970990851556315e-8
          ],
          [
           "EHD1",
           7.877867658167715e-8
          ],
          [
           "ABCF1",
           7.981902846962547e-8
          ],
          [
           "SCAMP2",
           1.1315575075327624e-7
          ],
          [
           "GCN1",
           2.036364071109108e-7
          ],
          [
           "PP2D1",
           3.85097783732083e-7
          ],
          [
           "ELOVL6",
           4.0071888882895387e-7
          ],
          [
           "MMP24OS",
           4.6899156433413483e-7
          ],
          [
           "PFKFB2",
           5.107269816416714e-7
          ],
          [
           "CTDSP2",
           5.465636544591345e-7
          ],
          [
           "ARRDC3",
           6.626855094144143e-7
          ],
          [
           "ARMH1",
           6.690170990289101e-7
          ],
          [
           "CDK11B",
           7.756393159031085e-7
          ],
          [
           "NOC3L",
           0.0000011151895093428572
          ],
          [
           "SLC25A29",
           0.000001463240316083955
          ],
          [
           "AC025887.2",
           0.0000017278199196408583
          ],
          [
           "NNT-AS1",
           0.000001909451016557536
          ],
          [
           "LINC01480",
           0.000002220250162986577
          ],
          [
           "GPT2",
           0.000002231585672401761
          ],
          [
           "MKRN1",
           0.000004317057578896906
          ],
          [
           "ZNF789",
           0.0000043736618708087
          ],
          [
           "SLC37A3",
           0.000004843501516886839
          ],
          [
           "MUS81",
           0.000005823672600906809
          ],
          [
           "KIF3B",
           0.000007496496095576464
          ],
          [
           "FBXO31",
           0.000014749604257457097
          ],
          [
           "ATP5MG",
           0.00001556071292611871
          ],
          [
           "NAMPT",
           0.000017030198324050936
          ],
          [
           "ATP13A4",
           0.000020896992103642536
          ],
          [
           "TPM2",
           0.000021472970898358686
          ],
          [
           "UNKL",
           0.000025452863786415526
          ],
          [
           "NCAPD2",
           0.000027727762460735713
          ],
          [
           "PPP1R35",
           0.000029178147964430748
          ],
          [
           "DIPK2A",
           0.00003211213333386042
          ],
          [
           "CHERP",
           0.00003211213333386042
          ],
          [
           "MALSU1",
           0.00003211213333386042
          ],
          [
           "EMC2",
           0.00003269058222618378
          ],
          [
           "PCSK1N",
           0.00003771288928343276
          ],
          [
           "SSU72",
           0.000040483213336719227
          ],
          [
           "LINC00885",
           0.00004063952647484004
          ],
          [
           "PRSS21",
           0.0000428546406453374
          ],
          [
           "DSTN",
           0.000044658929828322
          ],
          [
           "GSTP1",
           0.00006312938166076878
          ],
          [
           "ZNF274",
           0.00006427757591270584
          ],
          [
           "CAPN1",
           0.00007755733433652438
          ],
          [
           "TRMT10C",
           0.00008744796937847021
          ],
          [
           "CDK5R1",
           0.00008744796937847021
          ],
          [
           "PPIB",
           0.00009657449147636244
          ],
          [
           "ZC3H14",
           0.00010587878936766132
          ],
          [
           "PRPSAP1",
           0.00012973264660663306
          ],
          [
           "AC064807.1",
           0.00013318049232808306
          ],
          [
           "AL450352.1",
           0.00013318049232808306
          ],
          [
           "SMC2",
           0.0001407491573969314
          ],
          [
           "FARSA",
           0.00015064837885044976
          ],
          [
           "EIF2B1",
           0.00015941785181029441
          ],
          [
           "LRRC37A2",
           0.0001639357311491394
          ],
          [
           "NOSIP",
           0.00017313221290349526
          ],
          [
           "MAP4K3-DT",
           0.00020334620842515853
          ],
          [
           "DTX3",
           0.00020828064826773656
          ],
          [
           "UBE2V2",
           0.00024367810302249455
          ],
          [
           "OTUB1",
           0.00024367810302249455
          ],
          [
           "MHENCR",
           0.0003193817788711753
          ],
          [
           "MT-ND5",
           0.0003411569877078159
          ],
          [
           "AC008438.1",
           0.0003616401957819615
          ],
          [
           "JAM3",
           0.0004070798596164783
          ],
          [
           "PCAT1",
           0.0004542623835300975
          ],
          [
           "ARAF",
           0.00046970167856531765
          ],
          [
           "C5orf24",
           0.0005290272021627901
          ],
          [
           "OXLD1",
           0.0006534684734354315
          ],
          [
           "ZDHHC23",
           0.0006966467426155183
          ],
          [
           "THEM4",
           0.0007305173222168034
          ],
          [
           "ATP5IF1",
           0.00075171415747826
          ],
          [
           "SDHC",
           0.0007692499485526687
          ],
          [
           "IRF5",
           0.0007692499485526687
          ],
          [
           "ILF2",
           0.001172943303607989
          ],
          [
           "ARL11",
           0.0012407446710482033
          ],
          [
           "CNPY2",
           0.001343625431280373
          ],
          [
           "ROMO1",
           0.0014723611841702716
          ],
          [
           "PITPNM1",
           0.0016379730547829714
          ],
          [
           "RFX5",
           0.0016765814361027157
          ],
          [
           "CLK3",
           0.001696697743968241
          ],
          [
           "NDUFB2",
           0.0017623942156199841
          ],
          [
           "ALG3",
           0.0019544611817373467
          ],
          [
           "HCST",
           0.002224856304818773
          ],
          [
           "KLHL35",
           0.002224856304818773
          ],
          [
           "C7orf26",
           0.0022632840843696584
          ],
          [
           "PRR13",
           0.002330288013610728
          ],
          [
           "DLGAP1",
           0.0023512915757232518
          ],
          [
           "L2HGDH",
           0.0024858044244639396
          ],
          [
           "GEMIN5",
           0.002516632937834853
          ],
          [
           "TMEM183A",
           0.002742856244186788
          ],
          [
           "SRPRB",
           0.002742856244186788
          ],
          [
           "PET100",
           0.0028756961893297403
          ],
          [
           "UBB",
           0.0029497376190756553
          ],
          [
           "CBX4",
           0.0035003876161768662
          ],
          [
           "COX6C",
           0.0035003876161768662
          ],
          [
           "ATP5MF",
           0.003639476044405772
          ],
          [
           "INKA2",
           0.003639476044405772
          ],
          [
           "ZNF441",
           0.003718674424067646
          ],
          [
           "SIT1",
           0.0037237972556898695
          ],
          [
           "SS18L2",
           0.0037892861614503173
          ],
          [
           "RRN3",
           0.004637898738579048
          ],
          [
           "PSMC1",
           0.004933456000412076
          ],
          [
           "CASP9",
           0.005545438851802308
          ],
          [
           "MLEC",
           0.005732923468873095
          ],
          [
           "AFMID",
           0.005732923468873095
          ],
          [
           "SSR4",
           0.005780312183568607
          ],
          [
           "CMTM8",
           0.006415238482073525
          ],
          [
           "KRTCAP2",
           0.006568029557177169
          ],
          [
           "BRAT1",
           0.006604557652154754
          ],
          [
           "RGS10",
           0.0066392117842647164
          ],
          [
           "MAGI1",
           0.006653396283851012
          ],
          [
           "LINC02021",
           0.007226400166799927
          ],
          [
           "IL2RA",
           0.007525233910084767
          ],
          [
           "CBLL1",
           0.007695513414808489
          ],
          [
           "TOP2A",
           0.008453114710351685
          ],
          [
           "ANKRD10-IT1",
           0.009516379508761387
          ],
          [
           "LONRF3",
           0.009575488523872605
          ],
          [
           "PEBP4",
           0.010766624574271218
          ],
          [
           "ITGA1",
           0.010954574767568061
          ],
          [
           "DBI",
           0.012165881868131804
          ],
          [
           "STUB1",
           0.013230251677061223
          ],
          [
           "AL355574.1",
           0.013245280070894294
          ],
          [
           "MRPL41",
           0.013884762286044069
          ],
          [
           "IGLC3",
           0.014184737553778394
          ],
          [
           "C18orf32",
           0.014236020850297506
          ],
          [
           "AC024560.4",
           0.01447888047545474
          ],
          [
           "PRDX6",
           0.014767259956886963
          ],
          [
           "MAPK10",
           0.014944081962428501
          ],
          [
           "AC124254.2",
           0.014981850128342319
          ],
          [
           "PHPT1",
           0.014981850128342319
          ],
          [
           "LSM5",
           0.014981850128342319
          ],
          [
           "TMEM167A",
           0.015022568760615989
          ],
          [
           "LINC00276",
           0.018256688777887428
          ],
          [
           "RPGR",
           0.01948349331837662
          ],
          [
           "ASB16-AS1",
           0.01967422204099588
          ],
          [
           "WDR5",
           0.02195521611024609
          ],
          [
           "LHFPL3",
           0.02376732436861447
          ],
          [
           "POLR2E",
           0.0345407529399262
          ],
          [
           "MTHFSD",
           0.03852515710659493
          ],
          [
           "HIST1H2BJ",
           0.03870876874300095
          ],
          [
           "RBM48",
           0.0396321340851106
          ],
          [
           "NSMCE4A",
           0.03989065386563113
          ],
          [
           "AC244502.1",
           0.04010569205175453
          ],
          [
           "VASH2",
           0.04010569205175453
          ],
          [
           "AC068633.1",
           0.044156350276595716
          ],
          [
           "CCDC85B",
           0.04548541982194496
          ],
          [
           "LINC01625",
           0.047155977362020235
          ],
          [
           "AC012291.3",
           0.04789957448904761
          ]
         ],
         "hovertemplate": "regulation=Upregulated<br>Log2 Fold Change=%{x}<br>-Log10 Adjusted P-Value=%{y}<br>names=%{customdata[0]}<br>pvals_adj=%{customdata[1]}<extra></extra>",
         "legendgroup": "Upregulated",
         "marker": {
          "color": "red",
          "symbol": "circle"
         },
         "mode": "markers",
         "name": "Upregulated",
         "showlegend": true,
         "type": "scattergl",
         "x": {
          "bdata": "Mbx+QGXY4D9ZHU5AGVVOQGMrOEDR20BAaddKQFcVT0AbOVdA620aQJ3ZxD9kVzhAk54KQMCptD/emDBAOeEUQNVAIkCNsxFAGTUmQPnlDkBuFRBAl+kqQIrv8D+I5idAiUEbQM0Gnz8OUY4/MyK1PzE2HkAush1AXFblP8hf2z9gC90/fSjVP2Abyj8YyQBAOeHYPwlk9z/FxLg/I3j4P67dBkARMxBA5CjeP7gN9T+GDSdAbi0VQEwrBkBjwOQ/WVEEQFTFA0AUQNc/BK/bPxLnmD9up5w/1YbaPxpU+j9cpro/t27WP5xeJ0BtDgtAZQW7P5cUnz8s1cI/VNXUP2b4/z8IR64//6nHP87AlT9z/88/91QGQNR4tD+msq0/RbDVP6Xvzj9AnM4/syyHPwgL2T+WLJY/7M0oQI6Vvz/6X/k/NRDPPzGrhT9GoZU/7jrIP/9amT9c2Z8/P0SbP4yGoj+V1Jg/7MaTPwZGvT9B3NQ/mkiWPyjqwD+L9t4//6fuP/93xD8FD4Y/i1aUP94jhz9Gtp4/cdahPwQRnj9rdpg/bYsnQB6yB0A3r6Q/pbL+P1/4sT+PnM4/oeEDQHu4iT9zMao/dCQCQFq/I0Dl2b4/+sEXQNkO/D/KXJU/DSHNP34Zwz+OF5E/DiuXPwQzuz8Dpog/MAqOPwBd2j+GVAxAXnyhP6nDrD+emqE/zqqwP3mtxD/nLMs/4FCiP0AuEEAQG54/LyEgQJXeV0D2pQFA3gGqPzYMij8IUZU/ok3VP4gSF0CGtY8/D82BP6OTqD/jELw/AZAEQHh7pz95//0/YuSaPwrerz/1hZk/3zi7P+GX9T/OPZE/ku2cP1YFuT8ZBKM/s5OkP3PZiD818oI//nvJP6uMoj+z8/s/ClgNQDRfkz9PIpE/df+EP1pT3z+GiJ0/b3bVP06rhT83Sbc/kqOaP6l7jj9ue5Q/FZmOP+DU6D/547Y/IswqQD88tz9VpoA/L7KqP3P+uj+rAbM/djbiPwsR6D9Mt5A/G2OKPy2SkD9syZM/X1q5P1c20D+5B/A/iPCeP3hsoj/smJI/o9uPP/7mCkBZ46E/E17WP8lMwT9akMI/2eacPzJKlj8usY0/nOsFQMGdBUBpFJI/sKCJP8jcmT9mlag/Zd7NP3NAwz/n29U/LBOCP6pSrj/qjuM/sbuHPwqzkT9Ao6Q/K1XyP0xKoz+YzgpALzwYQEEDkz8AU9o/sj6RP4SYA0AExJk/EZrAPzC/nT/+xvs/tUWhP6z6yT/vmANAPy+qP72cgT+YHew/fFw2QKbiHEDZhYw/kRv5P7VBrD8=",
          "dtype": "f4"
         },
         "xaxis": "x",
         "y": {
          "bdata": "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",
          "dtype": "f8"
         },
         "yaxis": "y"
        },
        {
         "customdata": [
          [
           "AFF3",
           9.154681025589535e-50
          ],
          [
           "BACH2",
           1.2968233678700196e-10
          ],
          [
           "PLCG2",
           2.7662058347770185e-7
          ],
          [
           "P2RX5",
           0.0000010724124884551524
          ],
          [
           "RAC1",
           0.0000037627038507592195
          ],
          [
           "ENO1",
           0.000004633209650859614
          ],
          [
           "RPL4",
           0.000005738125011349166
          ],
          [
           "NARF",
           0.0000067532140958642455
          ],
          [
           "RPL15",
           0.0000574601342108929
          ],
          [
           "C12orf4",
           0.00015064837885044976
          ],
          [
           "VPS36",
           0.0001636877350575758
          ],
          [
           "RPL36AL",
           0.0007553634515815111
          ],
          [
           "PSMB1",
           0.0008489510392208868
          ],
          [
           "CD69",
           0.0012085633309694267
          ],
          [
           "UQCRH",
           0.0013489955228894344
          ],
          [
           "HMGN2",
           0.0015200137918499387
          ],
          [
           "EIF3K",
           0.0017187191366825334
          ],
          [
           "RO60",
           0.0017839945394712473
          ],
          [
           "SLC25A3",
           0.0019054467903983337
          ],
          [
           "NDUFA13",
           0.0019406817019561118
          ],
          [
           "NCL",
           0.0028756961893297403
          ],
          [
           "PSMA4",
           0.0028826388794573506
          ],
          [
           "TUBA4A",
           0.0030701817072963117
          ],
          [
           "ISG20",
           0.0032910248824594376
          ],
          [
           "MT-ND2",
           0.0035003876161768662
          ],
          [
           "WASHC1",
           0.003639476044405772
          ],
          [
           "PSMB8",
           0.0041809505531450655
          ],
          [
           "LPAR5",
           0.005163087805911408
          ],
          [
           "TMCO1",
           0.005483551252396851
          ],
          [
           "HLA-DRA",
           0.005899351917484161
          ],
          [
           "ATP5F1B",
           0.011026016148180011
          ],
          [
           "HNRNPA1",
           0.011087780714141363
          ],
          [
           "RPL35",
           0.011195181511069548
          ],
          [
           "MYL6",
           0.012383737203454138
          ],
          [
           "SELENOH",
           0.014271552258453559
          ],
          [
           "MT-ATP6",
           0.01447888047545474
          ],
          [
           "STRBP",
           0.01693158231347805
          ],
          [
           "CLNK",
           0.018256688777887428
          ],
          [
           "LDHB",
           0.02067840122712534
          ],
          [
           "RAB40C",
           0.02376732436861447
          ],
          [
           "MYL12B",
           0.02393261635522491
          ],
          [
           "GAPDH",
           0.025311225544183146
          ],
          [
           "RPA2",
           0.02587624818540522
          ],
          [
           "MT-CYB",
           0.02613265622758929
          ],
          [
           "PCDH9",
           0.027186542255964317
          ],
          [
           "CSNK2B",
           0.027186542255964317
          ],
          [
           "AKR1A1",
           0.02847028646577793
          ],
          [
           "GOLPH3L",
           0.03008802373035445
          ],
          [
           "WBP11",
           0.031105837769265076
          ],
          [
           "HSP90AA1",
           0.031105837769265076
          ],
          [
           "POMP",
           0.03318081137692063
          ],
          [
           "TPI1",
           0.037055997702534024
          ],
          [
           "CDC42EP3",
           0.03852515710659493
          ],
          [
           "PSMB4",
           0.04548541982194496
          ],
          [
           "PSMB3",
           0.04558319397383555
          ],
          [
           "MT-CO1",
           0.048587213319719776
          ],
          [
           "ICAM1",
           0.05107964961007407
          ],
          [
           "TUBB",
           0.051966190261829866
          ],
          [
           "JHY",
           0.051966190261829866
          ],
          [
           "PPP1CA",
           0.05366575411138189
          ],
          [
           "IGLC2",
           0.0549937174940521
          ],
          [
           "PSMB5",
           0.05621901456959401
          ],
          [
           "NME2",
           0.05631994172342358
          ],
          [
           "RPL23",
           0.05889674917439223
          ],
          [
           "RPL17",
           0.06035403070734888
          ],
          [
           "MIF",
           0.06111941308943302
          ],
          [
           "STMP1",
           0.06263713993963492
          ],
          [
           "NDUFB8",
           0.06372826901544142
          ],
          [
           "ATG14",
           0.06400538679655429
          ],
          [
           "MAP2K3",
           0.06467082174559592
          ],
          [
           "ZNF347",
           0.06558108155033644
          ],
          [
           "SNRPG",
           0.06567022944683566
          ],
          [
           "MAT2B",
           0.06567022944683566
          ],
          [
           "ERP29",
           0.06639148069762323
          ],
          [
           "NDUFC2",
           0.06639148069762323
          ],
          [
           "CDC14B",
           0.06765326319816771
          ],
          [
           "ABCF3",
           0.07160389791368296
          ],
          [
           "ATP5PF",
           0.07321416428173384
          ],
          [
           "NDUFA11",
           0.07459833576723125
          ],
          [
           "LTA",
           0.07465569815656313
          ],
          [
           "PHB2",
           0.07793024117820527
          ],
          [
           "PRDM11",
           0.07805301216028064
          ],
          [
           "MYBL1",
           0.07832448706273036
          ],
          [
           "BANF1",
           0.08126003924882545
          ],
          [
           "NDUFS6",
           0.08126003924882545
          ],
          [
           "ASPM",
           0.0820213531593674
          ],
          [
           "TMEM159",
           0.08227826281685459
          ],
          [
           "CIB1",
           0.08315605876698141
          ],
          [
           "NDUFA4",
           0.08363835015598403
          ],
          [
           "DYNLL1",
           0.08381754307461635
          ],
          [
           "GRAP",
           0.08494922725369097
          ],
          [
           "MKI67",
           0.08678092447497625
          ],
          [
           "PDK1",
           0.087421657474014
          ],
          [
           "BID",
           0.08885791303990219
          ],
          [
           "METTL22",
           0.08920024910533685
          ],
          [
           "LAMTOR4",
           0.08920024910533685
          ],
          [
           "PPP1R12C",
           0.09000548618393099
          ],
          [
           "RPS4X",
           0.09022044426343362
          ],
          [
           "COG1",
           0.09165955396948146
          ],
          [
           "RPS25",
           0.09165955396948146
          ],
          [
           "RPL12",
           0.09165955396948146
          ],
          [
           "NDUFA1",
           0.09973860028626619
          ],
          [
           "UQCR11",
           0.09975057717431783
          ],
          [
           "NAB2",
           0.10192928765992093
          ],
          [
           "AC005562.1",
           0.10439899274297565
          ],
          [
           "DERL1",
           0.10642330838068723
          ],
          [
           "TUBA1B",
           0.10642330838068723
          ],
          [
           "DIAPH3",
           0.10749632571873917
          ],
          [
           "STARD7-AS1",
           0.10905900765633757
          ],
          [
           "COX4I1",
           0.11335095831914505
          ],
          [
           "ABHD14B",
           0.11497906675171034
          ],
          [
           "EGR2",
           0.11526579639360783
          ],
          [
           "LDHA",
           0.12758581444009362
          ],
          [
           "EFCAB2",
           0.12869636372607357
          ],
          [
           "TXNRD1",
           0.12869636372607357
          ],
          [
           "SRI",
           0.12881625374814962
          ],
          [
           "SLC27A4",
           0.1320726939619631
          ],
          [
           "LTBP4",
           0.13240234599832523
          ],
          [
           "CYB561D1",
           0.1329945571554559
          ],
          [
           "KCTD1",
           0.1338444318101159
          ],
          [
           "TECR",
           0.13526179329099838
          ],
          [
           "ATP6V0D1",
           0.13526179329099838
          ],
          [
           "RPL14",
           0.13699003520577785
          ],
          [
           "HLA-DQB2",
           0.13843677834878795
          ],
          [
           "HSPE1",
           0.13976908825484163
          ],
          [
           "KDELR2",
           0.13976908825484163
          ],
          [
           "CASS4",
           0.14090732530532643
          ],
          [
           "ADAL",
           0.14215112420277992
          ],
          [
           "SF3A3",
           0.1426032973054118
          ],
          [
           "DMAC1",
           0.14331063342675476
          ],
          [
           "CES4A",
           0.14608060550946625
          ],
          [
           "NDUFB11",
           0.14608564983575614
          ],
          [
           "TAFA2",
           0.14614949999338836
          ],
          [
           "POLR2L",
           0.14760095489830644
          ],
          [
           "COX7C",
           0.14843811870530524
          ],
          [
           "PFDN6",
           0.14843811870530524
          ],
          [
           "UQCRC1",
           0.14880809326398492
          ],
          [
           "MTHFD2",
           0.15081946710704097
          ],
          [
           "FAM207A",
           0.15559292083269635
          ],
          [
           "GEMIN7-AS1",
           0.15559292083269635
          ],
          [
           "DBN1",
           0.15726551037573747
          ],
          [
           "RNF44",
           0.16058419173676508
          ],
          [
           "MDH2",
           0.1635135796784387
          ],
          [
           "C5orf63",
           0.16431930610766576
          ],
          [
           "SPN",
           0.16579469830485338
          ],
          [
           "NAV1",
           0.16579469830485338
          ],
          [
           "SWI5",
           0.16579469830485338
          ],
          [
           "MLF2",
           0.1670029786018445
          ],
          [
           "LINC02363",
           0.1727981664244769
          ],
          [
           "SMIM12",
           0.1727981664244769
          ],
          [
           "RPL23A",
           0.1727981664244769
          ],
          [
           "ATAT1",
           0.17330831264334975
          ],
          [
           "TMEM214",
           0.17437794058201947
          ],
          [
           "CFAP298",
           0.1764041005424007
          ],
          [
           "METTL7A",
           0.18551126659585845
          ],
          [
           "DDA1",
           0.187266129555592
          ],
          [
           "NOLC1",
           0.1892308155296491
          ],
          [
           "ZNF674",
           0.18988448954941847
          ],
          [
           "ALKBH5",
           0.1928971153960546
          ],
          [
           "AP002761.2",
           0.19362458921984865
          ],
          [
           "NOP14",
           0.19639896020981018
          ],
          [
           "ZNF276",
           0.19743660758133152
          ],
          [
           "AUP1",
           0.19830739743197753
          ],
          [
           "RPLP0",
           0.20084449040064664
          ],
          [
           "ACAT1",
           0.20116321098250697
          ],
          [
           "RNFT2",
           0.20390599370608806
          ],
          [
           "DAZAP2",
           0.20536818502900298
          ],
          [
           "NDUFS5",
           0.20536818502900298
          ],
          [
           "FAAP100",
           0.20710067056288578
          ],
          [
           "ZC3H3",
           0.2133196832803629
          ],
          [
           "CROCC",
           0.21589957485130504
          ],
          [
           "ATP5F1D",
           0.21755461588892389
          ],
          [
           "FZR1",
           0.21787316147271418
          ],
          [
           "MT-CO2",
           0.22000749881092854
          ],
          [
           "PSMB10",
           0.2206453176004333
          ],
          [
           "MT-ND3",
           0.22330518564724483
          ],
          [
           "NOL6",
           0.22330518564724483
          ],
          [
           "UXT",
           0.22503951505434125
          ],
          [
           "RAD51D",
           0.22548844097433984
          ],
          [
           "DUSP11",
           0.23011836405103742
          ],
          [
           "CEP131",
           0.23072104266574947
          ],
          [
           "ARMC6",
           0.23181190429407098
          ],
          [
           "SLC9A3R1",
           0.23785976077135354
          ],
          [
           "WBP2",
           0.23785976077135354
          ],
          [
           "STMN1",
           0.23805621888461467
          ],
          [
           "FLT1",
           0.24055251387803794
          ],
          [
           "UQCRFS1",
           0.2518300545855667
          ],
          [
           "KIF9",
           0.25611274827169495
          ],
          [
           "SDF4",
           0.26003098978593364
          ],
          [
           "MT-ND4L",
           0.2639573484982613
          ],
          [
           "ATP5F1E",
           0.2688521183494469
          ],
          [
           "RPL7A",
           0.2759220550214478
          ],
          [
           "TGFBR3",
           0.283416647251537
          ],
          [
           "KAT8",
           0.28401135933780824
          ],
          [
           "NEDD4",
           0.28671803303154814
          ],
          [
           "LAMTOR1",
           0.28925554653891455
          ],
          [
           "TUFM",
           0.2902850061089802
          ],
          [
           "CENPF",
           0.2937041618969388
          ],
          [
           "ATP5MC1",
           0.2959853839394813
          ],
          [
           "ATP5PO",
           0.3157968694184625
          ],
          [
           "TAPT1-AS1",
           0.31685326631153843
          ],
          [
           "MYO3B",
           0.31747204414506225
          ],
          [
           "TM7SF2",
           0.3202155630313834
          ],
          [
           "ATOX1",
           0.32234177077929765
          ],
          [
           "PFDN5",
           0.32298707679961436
          ],
          [
           "SNX20",
           0.32659705744417494
          ],
          [
           "RRM2",
           0.32918607633443137
          ],
          [
           "RAI14",
           0.33131262148244817
          ],
          [
           "RFC2",
           0.33131262148244817
          ],
          [
           "HIST1H3J",
           0.33299438573009527
          ],
          [
           "AL138724.1",
           0.33299438573009527
          ],
          [
           "NIF3L1",
           0.3337404061166064
          ],
          [
           "LPAR2",
           0.3343573366307472
          ],
          [
           "WDR90",
           0.33825763712570217
          ],
          [
           "MTRNR2L12",
           0.3435964225672704
          ],
          [
           "LAMP2",
           0.3435964225672704
          ],
          [
           "MAPKAPK5-AS1",
           0.3518871802387894
          ],
          [
           "DDT",
           0.3535217038468729
          ],
          [
           "H3F3B",
           0.3536566745197923
          ],
          [
           "SNRPD2",
           0.35555533794950966
          ],
          [
           "TUBA1C",
           0.37204010848702
          ],
          [
           "CENPE",
           0.3733149758272556
          ],
          [
           "RPL10A",
           0.3733149758272556
          ],
          [
           "PCNA",
           0.3746332194136035
          ],
          [
           "PCLO",
           0.3768342652795391
          ],
          [
           "EIF4EBP2",
           0.38848186745283625
          ],
          [
           "WDR83",
           0.3985578125930704
          ],
          [
           "LIPE-AS1",
           0.40867619016540463
          ],
          [
           "CHAF1B",
           0.4123889199001566
          ],
          [
           "RPL6",
           0.4193993282092198
          ],
          [
           "ATP6V0C",
           0.4205455532561418
          ],
          [
           "COX6A1",
           0.4305561627050641
          ],
          [
           "AC106897.1",
           0.43362585881282606
          ],
          [
           "SLC25A21",
           0.4370073156798314
          ],
          [
           "NACA",
           0.4370073156798314
          ],
          [
           "RPL35A",
           0.44338997947407516
          ],
          [
           "MT-ND1",
           0.45679647458346995
          ],
          [
           "SLC25A30",
           0.45679647458346995
          ],
          [
           "AC005037.1",
           0.4611180618669268
          ],
          [
           "RPS3",
           0.46216165304649615
          ],
          [
           "AC007773.1",
           0.4688475781713183
          ],
          [
           "NELFE",
           0.4806614027640323
          ],
          [
           "TAPBPL",
           0.4824963498370699
          ],
          [
           "CYCS",
           0.4829149596982089
          ],
          [
           "VPS72",
           0.4895467559176847
          ],
          [
           "RFXANK",
           0.4914074749005576
          ],
          [
           "THG1L",
           0.5006233258422073
          ],
          [
           "ELOB",
           0.5017312790195659
          ],
          [
           "WDR1",
           0.5032814011958574
          ],
          [
           "ANXA5",
           0.5048991558246129
          ],
          [
           "HECW2",
           0.5048991558246129
          ],
          [
           "SLC25A5",
           0.5064403302242033
          ],
          [
           "ZNHIT1",
           0.5104468500481782
          ],
          [
           "LBH",
           0.5104468500481782
          ],
          [
           "TIMM17B",
           0.5139570631127084
          ],
          [
           "AC064834.1",
           0.532266145760596
          ],
          [
           "MAGED2",
           0.5364421457025202
          ],
          [
           "BOP1",
           0.5364421457025202
          ],
          [
           "GDPD1",
           0.5392578343645703
          ],
          [
           "TUSC2",
           0.5420370025820215
          ],
          [
           "GET3",
           0.5431190060100789
          ],
          [
           "FP236383.3",
           0.5508919575880646
          ],
          [
           "GJC1",
           0.5527241417684257
          ],
          [
           "CRIP1",
           0.5539668783131018
          ],
          [
           "UBXN11",
           0.5540046960646551
          ],
          [
           "PRDX5",
           0.5540046960646551
          ],
          [
           "SLC43A2",
           0.5540046960646551
          ],
          [
           "TOR1A",
           0.5562858640489228
          ],
          [
           "TUBGCP6",
           0.5580426369925403
          ],
          [
           "ABCF2",
           0.5625398248192227
          ],
          [
           "SH2B3",
           0.5626853770833912
          ],
          [
           "SOX5",
           0.5646282904048961
          ],
          [
           "LINC01355",
           0.5650429546950932
          ],
          [
           "BAX",
           0.5667485866831393
          ],
          [
           "ALDH6A1",
           0.5672874247289761
          ],
          [
           "LINC01619",
           0.5701960799541063
          ],
          [
           "EMC10",
           0.5714725075565948
          ],
          [
           "SARS2",
           0.5738805325317748
          ],
          [
           "MT-ND4",
           0.5768182752728066
          ],
          [
           "RBPJ",
           0.5917559060864362
          ],
          [
           "RHPN1",
           0.592763513655994
          ],
          [
           "ZNF250",
           0.6015687367791622
          ],
          [
           "GPATCH11",
           0.6186328589161676
          ],
          [
           "CDK2AP2",
           0.6248594887532021
          ],
          [
           "NBEAL2",
           0.6284735948610503
          ],
          [
           "COX6B1",
           0.6285755187454327
          ],
          [
           "PARP10",
           0.6297015604384933
          ],
          [
           "STN1",
           0.6347606170674114
          ],
          [
           "AAMDC",
           0.6347606170674114
          ],
          [
           "RAN",
           0.6408844018417398
          ],
          [
           "PLPBP",
           0.6535040620304036
          ],
          [
           "SLC26A6",
           0.6563660632749576
          ],
          [
           "MGRN1",
           0.6617621081710088
          ],
          [
           "ADRM1",
           0.6638541567122138
          ],
          [
           "KIF4A",
           0.664262991026191
          ],
          [
           "CD5L",
           0.6703081700505057
          ],
          [
           "UBL5",
           0.6703081700505057
          ],
          [
           "B4GALT6",
           0.6714343343817365
          ],
          [
           "SNIP1",
           0.6755081264879712
          ],
          [
           "NRXN1",
           0.6768337602547645
          ],
          [
           "FBL",
           0.6781089652155008
          ],
          [
           "LIX1L",
           0.6781089652155008
          ],
          [
           "USP19",
           0.6864370416319888
          ],
          [
           "POLL",
           0.6927868271812982
          ],
          [
           "DRAIC",
           0.6952876895937029
          ],
          [
           "GRIN2B",
           0.6956825308539938
          ],
          [
           "HIST1H1C",
           0.6988959072428432
          ],
          [
           "AP001462.1",
           0.6989825899666318
          ],
          [
           "PRDX1",
           0.7094505597798327
          ],
          [
           "NBPF20",
           0.7117917518574878
          ],
          [
           "AC005920.2",
           0.7121069046457051
          ],
          [
           "YIPF3",
           0.7140270824036691
          ],
          [
           "NDUFB7",
           0.7140270824036691
          ],
          [
           "AC027288.3",
           0.7140304655107588
          ],
          [
           "UQCR10",
           0.7182192626489377
          ],
          [
           "MICOS13",
           0.7207002146765583
          ],
          [
           "PBDC1",
           0.7208782939697709
          ],
          [
           "RBM22",
           0.7213813012064145
          ],
          [
           "JMJD8",
           0.7213813012064145
          ],
          [
           "PUF60",
           0.7245955802361403
          ],
          [
           "EIF3I",
           0.7245955802361403
          ],
          [
           "TOR4A",
           0.7255570941871027
          ],
          [
           "RPS10",
           0.7258673276583515
          ],
          [
           "FAM76A",
           0.7283052532212827
          ],
          [
           "MXRA7",
           0.7369686504073171
          ],
          [
           "MT-ND6",
           0.7401031202871714
          ],
          [
           "TIMM8A",
           0.750219860028588
          ],
          [
           "WARS",
           0.7567201120455006
          ],
          [
           "LAMB4",
           0.7575895860900086
          ],
          [
           "HSPA13",
           0.7592631540812375
          ],
          [
           "NDUFB3",
           0.76029458286421
          ],
          [
           "AL133523.1",
           0.7704784793070367
          ],
          [
           "ISG20L2",
           0.7786251803611404
          ],
          [
           "MICOS10",
           0.7862515667219795
          ],
          [
           "TNFSF4",
           0.7889716291913355
          ],
          [
           "GRN",
           0.791215433539883
          ],
          [
           "NDUFA3",
           0.791215433539883
          ],
          [
           "ERMAP",
           0.8166675142423888
          ],
          [
           "AC099778.1",
           0.8184872426230719
          ],
          [
           "FIGNL1",
           0.8186162239401147
          ],
          [
           "PIGV",
           0.8266872421181524
          ],
          [
           "ANXA6",
           0.8266872421181524
          ],
          [
           "NR4A2",
           0.8413237875552139
          ],
          [
           "CNPY4",
           0.8413237875552139
          ],
          [
           "MRPL58",
           0.8471112686671595
          ],
          [
           "SLC39A8",
           0.8471112686671595
          ],
          [
           "NUAK2",
           0.8471112686671595
          ],
          [
           "AC111006.1",
           0.8622531026054313
          ],
          [
           "SLC9B1",
           0.8641393554132428
          ],
          [
           "TBX21",
           0.8641393554132428
          ],
          [
           "BFSP2",
           0.8641393554132428
          ],
          [
           "IFT140",
           0.8787177335807206
          ],
          [
           "G6PD",
           0.8994606872716312
          ],
          [
           "FBXL2",
           0.9057472444718
          ],
          [
           "GPX7",
           0.9057472444718
          ],
          [
           "ERAL1",
           0.9063056932492074
          ],
          [
           "TRABD2A",
           0.9244150557883991
          ],
          [
           "H2AFZ",
           0.9263696818705205
          ],
          [
           "EYS",
           0.9355258669514067
          ],
          [
           "PLK4",
           0.9395671718178107
          ],
          [
           "RPL8",
           0.9403097646279088
          ],
          [
           "MRPL9",
           0.9437820436503713
          ],
          [
           "NDUFAF4",
           0.9437820436503713
          ],
          [
           "MCM10",
           0.9469196408071393
          ],
          [
           "RPL27",
           0.9513355208350686
          ],
          [
           "CERS3",
           0.954515706952435
          ],
          [
           "ICAM2",
           0.954515706952435
          ],
          [
           "C12orf66",
           0.9665883409189866
          ],
          [
           "CHCHD1",
           0.9695679790924485
          ],
          [
           "RPL36A",
           0.9754420155394741
          ],
          [
           "AC244033.2",
           0.9955290062068048
          ],
          [
           "MT-ATP8",
           0.9988064326409687
          ],
          [
           "COX7A2",
           1
          ],
          [
           "CCDC9",
           1
          ],
          [
           "CNBD2",
           1
          ],
          [
           "LAMTOR2",
           1
          ],
          [
           "LZTR1",
           1
          ],
          [
           "BBC3",
           1
          ],
          [
           "ISOC2",
           1
          ],
          [
           "CACNB2",
           1
          ],
          [
           "BCL2L12",
           1
          ],
          [
           "NR4A3",
           1
          ],
          [
           "CCDC159",
           1
          ],
          [
           "PLK1",
           1
          ],
          [
           "TRMT61A",
           1
          ],
          [
           "ARHGDIA",
           1
          ],
          [
           "F13A1",
           1
          ],
          [
           "AL160314.2",
           1
          ],
          [
           "RPS17",
           1
          ],
          [
           "SPINT1-AS1",
           1
          ],
          [
           "ZNF354B",
           1
          ],
          [
           "MED29",
           1
          ],
          [
           "CARD19",
           1
          ],
          [
           "DDX49",
           1
          ],
          [
           "PGAP3",
           1
          ],
          [
           "PRKAG2-AS1",
           1
          ],
          [
           "NDUFB9",
           1
          ],
          [
           "ACADSB",
           1
          ],
          [
           "UCK1",
           1
          ],
          [
           "ECHS1",
           1
          ],
          [
           "CKS1B",
           1
          ],
          [
           "COX14",
           1
          ],
          [
           "ZNF184",
           1
          ],
          [
           "NTAN1",
           1
          ],
          [
           "FCSK",
           1
          ],
          [
           "PAK6",
           1
          ],
          [
           "NAA80",
           1
          ],
          [
           "KLRK1",
           1
          ],
          [
           "AC011921.1",
           1
          ],
          [
           "NEO1",
           1
          ],
          [
           "PAXX",
           1
          ],
          [
           "FASTKD3",
           1
          ],
          [
           "BCL2L2",
           1
          ],
          [
           "TBC1D24",
           1
          ],
          [
           "GSTZ1",
           1
          ],
          [
           "TEX264",
           1
          ],
          [
           "MTFP1",
           1
          ],
          [
           "RNASEH2C",
           1
          ],
          [
           "GREB1L",
           1
          ],
          [
           "MRPL51",
           1
          ],
          [
           "RPL24",
           1
          ],
          [
           "AL121972.1",
           1
          ],
          [
           "RBM15B",
           1
          ],
          [
           "EXOSC5",
           1
          ],
          [
           "PYROXD2",
           1
          ],
          [
           "AC073320.1",
           1
          ],
          [
           "OSER1-DT",
           1
          ],
          [
           "EBF1",
           1
          ],
          [
           "RPL19",
           1
          ],
          [
           "ANK1",
           1
          ],
          [
           "NXT2",
           1
          ],
          [
           "LIN37",
           1
          ],
          [
           "MYO18A",
           1
          ],
          [
           "RORA",
           1
          ],
          [
           "BLOC1S1",
           1
          ],
          [
           "RTKN2",
           1
          ],
          [
           "NCAPH",
           1
          ],
          [
           "FP671120.4",
           1
          ],
          [
           "SEPTIN1",
           1
          ],
          [
           "NDUFA2",
           1
          ],
          [
           "IRAK2",
           1
          ],
          [
           "SH3BP5L",
           1
          ],
          [
           "B4GALT2",
           1
          ],
          [
           "RPUSD3",
           1
          ],
          [
           "RRAGA",
           1
          ],
          [
           "HCCS",
           1
          ],
          [
           "C19orf73",
           1
          ],
          [
           "TMEM223",
           1
          ],
          [
           "R3HCC1",
           1
          ],
          [
           "SPRY4-AS1",
           1
          ],
          [
           "TRAPPC2L",
           1
          ],
          [
           "LINC00653",
           1
          ],
          [
           "RPS27L",
           1
          ],
          [
           "C11orf21",
           1
          ],
          [
           "COA3",
           1
          ],
          [
           "IL12A-AS1",
           1
          ],
          [
           "RPS8",
           1
          ],
          [
           "RPL22",
           1
          ],
          [
           "NKIRAS1",
           1
          ],
          [
           "MS4A1",
           1
          ],
          [
           "CCDC34",
           1
          ],
          [
           "OCEL1",
           1
          ],
          [
           "RNF187",
           1
          ],
          [
           "EIF3F",
           1
          ],
          [
           "PAK1IP1",
           1
          ],
          [
           "RRP8",
           1
          ],
          [
           "MAIP1",
           1
          ],
          [
           "ADCY9",
           1
          ],
          [
           "AC008543.1",
           1
          ],
          [
           "ROBO2",
           1
          ],
          [
           "LIX1L-AS1",
           1
          ],
          [
           "AC020916.1",
           1
          ],
          [
           "RPSA",
           1
          ],
          [
           "GADD45GIP1",
           1
          ],
          [
           "LSM3",
           1
          ],
          [
           "C11orf1",
           1
          ],
          [
           "STK16",
           1
          ],
          [
           "ATG101",
           1
          ],
          [
           "GPR161",
           1
          ],
          [
           "PCIF1",
           1
          ],
          [
           "CENPM",
           1
          ],
          [
           "MDP1",
           1
          ],
          [
           "RNASEH2B-AS1",
           1
          ],
          [
           "CCL4",
           1
          ],
          [
           "LINC00893",
           1
          ],
          [
           "ERG28",
           1
          ],
          [
           "CDKN2AIPNL",
           1
          ],
          [
           "ETFB",
           1
          ],
          [
           "ATP5ME",
           1
          ],
          [
           "MTRNR2L8",
           1
          ],
          [
           "SLC2A6",
           1
          ],
          [
           "MLST8",
           1
          ],
          [
           "FAM153CP",
           1
          ],
          [
           "FAU",
           1
          ],
          [
           "S100A10",
           1
          ],
          [
           "DNPH1",
           1
          ],
          [
           "TXN2",
           1
          ],
          [
           "GON7",
           1
          ],
          [
           "AC011287.1",
           1
          ],
          [
           "APRT",
           1
          ],
          [
           "COX5B",
           1
          ],
          [
           "ZNF891",
           1
          ],
          [
           "TMPRSS6",
           1
          ],
          [
           "AC016074.2",
           1
          ],
          [
           "TPMT",
           1
          ],
          [
           "S100A4",
           1
          ],
          [
           "LINC01301",
           1
          ],
          [
           "APOLD1",
           1
          ],
          [
           "SIVA1",
           1
          ],
          [
           "RGS16",
           1
          ],
          [
           "HDGFL3",
           1
          ],
          [
           "MRPL15",
           1
          ],
          [
           "TIMP1",
           1
          ],
          [
           "MAK16",
           1
          ],
          [
           "FUNDC2",
           1
          ],
          [
           "RBFOX1",
           1
          ],
          [
           "LIN28B",
           1
          ],
          [
           "AP2S1",
           1
          ],
          [
           "LINC02470",
           1
          ],
          [
           "CSMD1",
           1
          ],
          [
           "HYAL2",
           1
          ],
          [
           "VEGFB",
           1
          ],
          [
           "LSR",
           1
          ],
          [
           "NDUFS3",
           1
          ],
          [
           "PTGR2",
           1
          ],
          [
           "AL020995.1",
           1
          ],
          [
           "POP4",
           1
          ],
          [
           "APEX2",
           1
          ],
          [
           "TRIM21",
           1
          ],
          [
           "EEF2",
           1
          ],
          [
           "OTUD1",
           1
          ],
          [
           "TEDC2",
           1
          ],
          [
           "AL157911.1",
           1
          ],
          [
           "RPS9",
           1
          ],
          [
           "PLD6",
           1
          ],
          [
           "CSRP1",
           1
          ],
          [
           "KBTBD4",
           1
          ],
          [
           "AC004816.1",
           1
          ],
          [
           "DNAJB1",
           1
          ],
          [
           "HJURP",
           1
          ],
          [
           "MCTP1",
           1
          ],
          [
           "SVIP",
           1
          ],
          [
           "TP53TG5",
           1
          ],
          [
           "RASSF8-AS1",
           1
          ],
          [
           "ZBTB11-AS1",
           1
          ],
          [
           "C3orf70",
           1
          ],
          [
           "LRRC8C-DT",
           1
          ],
          [
           "CDC20",
           1
          ],
          [
           "MECOM",
           1
          ],
          [
           "RPS6",
           1
          ],
          [
           "MRPL23",
           1
          ],
          [
           "LINC01208",
           1
          ],
          [
           "EEF1AKMT4",
           1
          ],
          [
           "MRPL43",
           1
          ],
          [
           "KPTN",
           1
          ],
          [
           "AL035458.2",
           1
          ],
          [
           "C19orf71",
           1
          ],
          [
           "SOD2",
           1
          ],
          [
           "ICMT",
           1
          ],
          [
           "CXADR",
           1
          ],
          [
           "AAMP",
           1
          ],
          [
           "ADCY5",
           1
          ],
          [
           "MPST",
           1
          ],
          [
           "ANGPTL6",
           1
          ],
          [
           "GRIK4",
           1
          ],
          [
           "MAD2L2",
           1
          ],
          [
           "EEF1G",
           1
          ],
          [
           "LRRC56",
           1
          ],
          [
           "UBC",
           1
          ],
          [
           "AC005786.3",
           1
          ],
          [
           "PAQR4",
           1
          ],
          [
           "AL139021.2",
           1
          ],
          [
           "SORBS1",
           1
          ],
          [
           "FXYD6",
           1
          ],
          [
           "GALE",
           1
          ],
          [
           "LINC00589",
           1
          ],
          [
           "WDR83OS",
           1
          ],
          [
           "MIEF2",
           1
          ],
          [
           "AC020913.1",
           1
          ],
          [
           "VIPR1",
           1
          ],
          [
           "PCGF1",
           1
          ],
          [
           "LINC02718",
           1
          ],
          [
           "TAFA1",
           1
          ],
          [
           "CFAP47",
           1
          ],
          [
           "GPC5",
           1
          ],
          [
           "ARHGEF39",
           1
          ],
          [
           "SF3B6",
           1
          ],
          [
           "SEC14L2",
           1
          ],
          [
           "INF2",
           1
          ],
          [
           "FN1",
           1
          ],
          [
           "RHEBL1",
           1
          ],
          [
           "LSAMP",
           1
          ],
          [
           "TYMS",
           1
          ],
          [
           "KCNN1",
           1
          ],
          [
           "MZT2A",
           1
          ],
          [
           "TEX30",
           1
          ],
          [
           "PRR7",
           1
          ],
          [
           "UBXN1",
           1
          ],
          [
           "NUDT15",
           1
          ],
          [
           "CFAP54",
           1
          ],
          [
           "ERICH6",
           1
          ],
          [
           "AC145285.2",
           1
          ],
          [
           "GEMIN4",
           1
          ],
          [
           "GRK7",
           1
          ],
          [
           "SFRP4",
           1
          ],
          [
           "DPH6-DT",
           1
          ],
          [
           "KLRD1",
           1
          ],
          [
           "LINC00348",
           1
          ],
          [
           "LDB2",
           1
          ],
          [
           "ZNF695",
           1
          ],
          [
           "AP000146.1",
           1
          ],
          [
           "FSTL5",
           1
          ],
          [
           "AL136456.1",
           1
          ],
          [
           "RAB15",
           1
          ],
          [
           "EPHA6",
           1
          ],
          [
           "MEIOC",
           1
          ],
          [
           "CCL4L2",
           1
          ],
          [
           "BMERB1",
           1
          ],
          [
           "NPAS1",
           1
          ],
          [
           "DCC",
           1
          ],
          [
           "AC010642.2",
           1
          ],
          [
           "PACRG",
           1
          ],
          [
           "CDH18",
           1
          ],
          [
           "PSME2",
           1
          ],
          [
           "B9D2",
           1
          ],
          [
           "SHC4",
           1
          ],
          [
           "SNAI3-AS1",
           1
          ],
          [
           "SPATA24",
           1
          ],
          [
           "CCDC115",
           1
          ],
          [
           "BAG3",
           1
          ],
          [
           "RIMS1",
           1
          ],
          [
           "ALG1",
           1
          ],
          [
           "AC026333.4",
           1
          ],
          [
           "MAP7D1",
           1
          ],
          [
           "KIZ-AS1",
           1
          ],
          [
           "ADAMTS3",
           1
          ],
          [
           "AC232271.1",
           1
          ],
          [
           "PARD3",
           1
          ],
          [
           "RUSC1",
           1
          ],
          [
           "AL591368.1",
           1
          ],
          [
           "AC004917.1",
           1
          ],
          [
           "CCDC183",
           1
          ],
          [
           "AL022068.1",
           1
          ],
          [
           "CCDC102B",
           1
          ],
          [
           "RBMS3-AS3",
           1
          ],
          [
           "NKAIN2",
           1
          ],
          [
           "SLC5A10",
           1
          ],
          [
           "AL356488.2",
           1
          ],
          [
           "ECT2L",
           1
          ],
          [
           "FGFRL1",
           1
          ],
          [
           "SPTBN4",
           1
          ],
          [
           "THSD4",
           1
          ],
          [
           "LMTK3",
           1
          ],
          [
           "LFNG",
           1
          ],
          [
           "DLL3",
           1
          ],
          [
           "NOTCH4",
           1
          ],
          [
           "SPC24",
           1
          ],
          [
           "PCK2",
           1
          ],
          [
           "AC078923.1",
           1
          ],
          [
           "ERBB4",
           1
          ],
          [
           "AC090921.1",
           1
          ],
          [
           "PPM1K-DT",
           1
          ],
          [
           "LINC01353",
           1
          ],
          [
           "CALM3",
           1
          ],
          [
           "RHBDL3",
           1
          ],
          [
           "KCND2",
           1
          ],
          [
           "COL26A1",
           1
          ],
          [
           "RPL29",
           1
          ],
          [
           "DGKB",
           1
          ],
          [
           "HECTD3",
           1
          ],
          [
           "CTHRC1",
           1
          ],
          [
           "GNG4",
           1
          ],
          [
           "AC093577.1",
           1
          ],
          [
           "SURF2",
           1
          ],
          [
           "AL357507.1",
           1
          ],
          [
           "PYCARD",
           1
          ],
          [
           "GPC6",
           1
          ],
          [
           "IFNG-AS1",
           1
          ],
          [
           "CTH",
           1
          ],
          [
           "ADM5",
           1
          ],
          [
           "PKD1L1",
           1
          ],
          [
           "ZNF175",
           1
          ],
          [
           "THAP9-AS1",
           1
          ],
          [
           "FGF14",
           1
          ],
          [
           "RALYL",
           1
          ],
          [
           "SEZ6L2",
           1
          ],
          [
           "MT-CO3",
           1
          ],
          [
           "AC084816.1",
           1
          ],
          [
           "ACRBP",
           1
          ],
          [
           "TBC1D4",
           1
          ],
          [
           "PCBD1",
           1
          ],
          [
           "CNTN5",
           1
          ],
          [
           "COL1A2",
           1
          ],
          [
           "CRTAM",
           1
          ],
          [
           "AC106739.1",
           1
          ],
          [
           "AC016907.2",
           1
          ],
          [
           "PDP1",
           1
          ],
          [
           "AC110611.1",
           1
          ],
          [
           "TEX14",
           1
          ],
          [
           "HIST1H4C",
           1
          ],
          [
           "HGH1",
           1
          ],
          [
           "B4GALNT3",
           1
          ],
          [
           "LAG3",
           1
          ],
          [
           "TMEM145",
           1
          ],
          [
           "GSG1L",
           1
          ],
          [
           "NOTCH3",
           1
          ],
          [
           "ADGRV1",
           1
          ],
          [
           "CKMT2",
           1
          ],
          [
           "HIST1H2BH",
           1
          ],
          [
           "CCDC187",
           1
          ],
          [
           "ZFX-AS1",
           1
          ],
          [
           "ZMYND10",
           1
          ],
          [
           "ZNF20",
           1
          ],
          [
           "RXRA",
           1
          ],
          [
           "MANEAL",
           1
          ],
          [
           "CRYBB1",
           1
          ],
          [
           "ANKS1B",
           1
          ],
          [
           "MARCH2",
           1
          ],
          [
           "MIXL1",
           1
          ],
          [
           "AC026803.3",
           1
          ],
          [
           "LRRC31",
           1
          ],
          [
           "AC079742.1",
           1
          ],
          [
           "HECW1",
           1
          ],
          [
           "DNAH9",
           1
          ],
          [
           "TSPO",
           1
          ],
          [
           "AC099063.4",
           1
          ],
          [
           "RHCE",
           1
          ],
          [
           "Z96074.1",
           1
          ],
          [
           "PREB",
           1
          ],
          [
           "IFI35",
           1
          ],
          [
           "LRRC4B",
           1
          ],
          [
           "AP000692.2",
           1
          ],
          [
           "PDE11A",
           1
          ],
          [
           "RPL7",
           1
          ],
          [
           "DUSP28",
           1
          ],
          [
           "AC011477.9",
           1
          ],
          [
           "ME3",
           1
          ],
          [
           "CACNA1B",
           1
          ],
          [
           "CFAP58",
           1
          ],
          [
           "AC114689.3",
           1
          ],
          [
           "EFR3B",
           1
          ],
          [
           "CD9",
           1
          ],
          [
           "KCTD16",
           1
          ],
          [
           "AC019131.1",
           1
          ],
          [
           "COL6A2",
           1
          ],
          [
           "PRKG1",
           1
          ],
          [
           "TMEM238",
           1
          ],
          [
           "ANO3",
           1
          ],
          [
           "CACNA1E",
           1
          ],
          [
           "TRIM7",
           1
          ],
          [
           "CUX2",
           1
          ],
          [
           "AKAP5",
           1
          ],
          [
           "CCDC178",
           1
          ],
          [
           "PPP1R36",
           1
          ],
          [
           "LINC02775",
           1
          ],
          [
           "DMXL2",
           1
          ],
          [
           "TTC3-AS1",
           1
          ],
          [
           "RPL18",
           1
          ],
          [
           "TEAD3",
           1
          ],
          [
           "AL031073.2",
           1
          ],
          [
           "ABI3BP",
           1
          ],
          [
           "AC008079.1",
           1
          ],
          [
           "TRIM45",
           1
          ],
          [
           "CAP2",
           1
          ],
          [
           "AC016042.1",
           1
          ],
          [
           "RGPD2",
           1
          ],
          [
           "GRIA1",
           1
          ],
          [
           "LINC00535",
           1
          ],
          [
           "COX16",
           1
          ],
          [
           "C5orf47",
           1
          ],
          [
           "GRM1",
           1
          ],
          [
           "AC009137.1",
           1
          ],
          [
           "EFNA5",
           1
          ],
          [
           "C4orf48",
           1
          ],
          [
           "STEAP2-AS1",
           1
          ],
          [
           "TBX10",
           1
          ],
          [
           "TENM3-AS1",
           1
          ],
          [
           "LINC00511",
           1
          ],
          [
           "AC023794.1",
           1
          ],
          [
           "AC093462.1",
           1
          ],
          [
           "HORMAD2-AS1",
           1
          ],
          [
           "AC096570.1",
           1
          ],
          [
           "AGBL1",
           1
          ],
          [
           "AC093330.1",
           1
          ],
          [
           "AC007390.2",
           1
          ],
          [
           "SLC10A1",
           1
          ],
          [
           "HIST1H1E",
           1
          ],
          [
           "NCAM1",
           1
          ],
          [
           "AC112206.2",
           1
          ],
          [
           "MAF1",
           1
          ],
          [
           "PPP1R12A-AS1",
           1
          ],
          [
           "DVL2",
           1
          ],
          [
           "AC092422.1",
           1
          ],
          [
           "SMAGP",
           1
          ],
          [
           "HSD17B6",
           1
          ],
          [
           "GXYLT2",
           1
          ],
          [
           "DPP10",
           1
          ],
          [
           "TFAP4",
           1
          ],
          [
           "SCAT1",
           1
          ],
          [
           "COL3A1",
           1
          ],
          [
           "LINC01198",
           1
          ],
          [
           "ZNF649-AS1",
           1
          ],
          [
           "GP1BB",
           1
          ],
          [
           "NRXN2",
           1
          ],
          [
           "COL5A3",
           1
          ],
          [
           "ESPN",
           1
          ],
          [
           "AC233296.1",
           1
          ],
          [
           "IKZF2",
           1
          ],
          [
           "INTS5",
           1
          ],
          [
           "OPCML",
           1
          ],
          [
           "KCNK10",
           1
          ],
          [
           "AC243829.2",
           1
          ],
          [
           "LINC00824",
           1
          ],
          [
           "AL356295.1",
           1
          ],
          [
           "AL157762.1",
           1
          ],
          [
           "REEP1",
           1
          ],
          [
           "UNC13C",
           1
          ],
          [
           "AC008571.2",
           1
          ],
          [
           "AC010255.3",
           1
          ],
          [
           "AC007099.1",
           1
          ],
          [
           "TMEM132D",
           1
          ],
          [
           "AC093865.1",
           1
          ],
          [
           "DNAH17",
           1
          ],
          [
           "HIST1H3B",
           1
          ],
          [
           "AC008696.2",
           1
          ],
          [
           "AC007220.1",
           1
          ],
          [
           "AL355336.1",
           1
          ],
          [
           "IGHEP2",
           1
          ],
          [
           "LINC01991",
           1
          ],
          [
           "THBS1",
           1
          ],
          [
           "AC023469.1",
           1
          ],
          [
           "AC138028.1",
           1
          ],
          [
           "NRGN",
           1
          ],
          [
           "UPK2",
           1
          ],
          [
           "COL22A1",
           1
          ],
          [
           "CHSY3",
           1
          ],
          [
           "VGLL3",
           1
          ],
          [
           "CLIC3",
           1
          ],
          [
           "C12orf56",
           1
          ],
          [
           "KCNG2",
           1
          ],
          [
           "AC073114.1",
           1
          ],
          [
           "COL1A1",
           1
          ],
          [
           "AL161421.1",
           1
          ],
          [
           "ABI3",
           1
          ],
          [
           "TNKS1BP1",
           1
          ],
          [
           "NRIP2",
           1
          ],
          [
           "EVA1C",
           1
          ],
          [
           "NR2F2-AS1",
           1
          ],
          [
           "PRKAR2A-AS1",
           1
          ],
          [
           "LINC02306",
           1
          ],
          [
           "DNER",
           1
          ],
          [
           "GRM7-AS3",
           1
          ],
          [
           "AC010761.3",
           1
          ],
          [
           "AL133467.1",
           1
          ],
          [
           "AC011472.1",
           1
          ],
          [
           "SLC7A14",
           1
          ],
          [
           "ZNF683",
           1
          ],
          [
           "MALRD1",
           1
          ],
          [
           "IL12RB2",
           1
          ],
          [
           "CDH4",
           1
          ],
          [
           "FBXL7",
           1
          ],
          [
           "VWF",
           1
          ],
          [
           "FCN1",
           1
          ],
          [
           "FAM227A",
           1
          ],
          [
           "AC069281.1",
           1
          ],
          [
           "TAS1R1",
           1
          ],
          [
           "PAPPA",
           1
          ],
          [
           "CEMIP",
           1
          ],
          [
           "THSD4-AS1",
           1
          ],
          [
           "C8orf34",
           1
          ],
          [
           "AC004704.1",
           1
          ],
          [
           "SEMA6D",
           1
          ],
          [
           "AC093817.2",
           1
          ],
          [
           "LINC02076",
           1
          ],
          [
           "AC005091.1",
           1
          ],
          [
           "PALM",
           1
          ],
          [
           "FUT7",
           1
          ],
          [
           "LRRC2",
           1
          ],
          [
           "NRG4",
           1
          ],
          [
           "HIST1H2BK",
           1
          ],
          [
           "WIPF3",
           1
          ],
          [
           "DCN",
           1
          ],
          [
           "AC079804.3",
           1
          ],
          [
           "GLYATL2",
           1
          ],
          [
           "AL136040.2",
           1
          ],
          [
           "AL356807.1",
           1
          ],
          [
           "AJUBA",
           1
          ],
          [
           "SAMD11",
           1
          ],
          [
           "AC092666.1",
           1
          ],
          [
           "APCDD1",
           1
          ],
          [
           "TFPI",
           1
          ],
          [
           "AL024498.1",
           1
          ],
          [
           "AC009975.1",
           1
          ],
          [
           "AC005746.2",
           1
          ],
          [
           "EAF1-AS1",
           1
          ],
          [
           "CCDC83",
           1
          ],
          [
           "PKP3",
           1
          ],
          [
           "AC012409.2",
           1
          ],
          [
           "SEZ6L",
           1
          ],
          [
           "HAPLN3",
           1
          ],
          [
           "SLC26A3",
           1
          ],
          [
           "AL157400.3",
           1
          ],
          [
           "AC117386.2",
           1
          ],
          [
           "AC112484.3",
           1
          ],
          [
           "AC092849.1",
           1
          ],
          [
           "AC064807.4",
           1
          ],
          [
           "AC011586.2",
           1
          ],
          [
           "LY6G5C",
           1
          ],
          [
           "AC009292.2",
           1
          ],
          [
           "UCKL1-AS1",
           1
          ],
          [
           "GALNT16",
           1
          ],
          [
           "TLCD2",
           1
          ],
          [
           "MMP16",
           1
          ],
          [
           "TMC2",
           1
          ],
          [
           "PVALEF",
           1
          ],
          [
           "EFHC2",
           1
          ],
          [
           "PARVA",
           1
          ],
          [
           "ZNF541",
           1
          ],
          [
           "AL157395.1",
           1
          ],
          [
           "LINC02428",
           1
          ],
          [
           "SYT14",
           1
          ],
          [
           "OVCH1-AS1",
           1
          ],
          [
           "RPS20",
           1
          ],
          [
           "GFER",
           1
          ],
          [
           "LINC01924",
           1
          ],
          [
           "AL139274.2",
           1
          ],
          [
           "AC061708.1",
           1
          ],
          [
           "KAZALD1",
           1
          ],
          [
           "XIRP2",
           1
          ],
          [
           "ACKR2",
           1
          ],
          [
           "PLOD2",
           1
          ],
          [
           "ECE2",
           1
          ],
          [
           "GLI3",
           1
          ],
          [
           "PLXDC1",
           1
          ],
          [
           "AC073842.1",
           1
          ],
          [
           "COL21A1",
           1
          ],
          [
           "CACNA1I",
           1
          ],
          [
           "PPP1R1C",
           1
          ],
          [
           "SYN2",
           1
          ],
          [
           "GFRA1",
           1
          ],
          [
           "AL110292.1",
           1
          ],
          [
           "EMX2OS",
           1
          ],
          [
           "AC013472.3",
           1
          ],
          [
           "TEX26-AS1",
           1
          ],
          [
           "DPYSL5",
           1
          ],
          [
           "CCN4",
           1
          ],
          [
           "VWA7",
           1
          ],
          [
           "ZNF503-AS1",
           1
          ],
          [
           "SYT16",
           1
          ],
          [
           "SLC16A10",
           1
          ],
          [
           "GPM6B",
           1
          ],
          [
           "TRPV3",
           1
          ],
          [
           "LINC02147",
           1
          ],
          [
           "AL035401.1",
           1
          ],
          [
           "PCDH11Y",
           1
          ],
          [
           "U91328.2",
           1
          ],
          [
           "NEGR1",
           1
          ],
          [
           "PANO1",
           1
          ],
          [
           "KCNIP4",
           1
          ],
          [
           "FLNC-AS1",
           1
          ],
          [
           "LINC02742",
           1
          ],
          [
           "GSEC",
           1
          ],
          [
           "LINGO1",
           1
          ],
          [
           "ACD",
           1
          ],
          [
           "AC005104.3",
           1
          ],
          [
           "AC011995.2",
           1
          ],
          [
           "ELFN1",
           1
          ],
          [
           "NXPH1",
           1
          ],
          [
           "LINC01607",
           1
          ],
          [
           "AC004921.2",
           1
          ],
          [
           "CT70",
           1
          ],
          [
           "AC008751.3",
           1
          ],
          [
           "ACAN",
           1
          ],
          [
           "AL590483.1",
           1
          ],
          [
           "TTLL6",
           1
          ],
          [
           "AC092364.1",
           1
          ],
          [
           "RAB3A",
           1
          ],
          [
           "FRMD6-AS2",
           1
          ],
          [
           "AC011474.1",
           1
          ],
          [
           "LINC00448",
           1
          ],
          [
           "NECTIN3-AS1",
           1
          ],
          [
           "SALL2",
           1
          ],
          [
           "TUBA1A",
           1
          ],
          [
           "AC019118.2",
           1
          ],
          [
           "CDKN3",
           1
          ],
          [
           "ZNF341-AS1",
           1
          ],
          [
           "ADGRB3",
           1
          ],
          [
           "CDH13",
           1
          ],
          [
           "AL157886.1",
           1
          ],
          [
           "HIST1H2AH",
           1
          ],
          [
           "ANKRD30B",
           1
          ],
          [
           "MEIOB",
           1
          ],
          [
           "AC004908.3",
           1
          ],
          [
           "AC239799.2",
           1
          ],
          [
           "TRGC2",
           1
          ],
          [
           "LINC01162",
           1
          ],
          [
           "SULF1",
           1
          ],
          [
           "AC072028.1",
           1
          ],
          [
           "HYKK",
           1
          ],
          [
           "CFAP97D2",
           1
          ],
          [
           "EYA1",
           1
          ],
          [
           "LINC01348",
           1
          ],
          [
           "TLL1",
           1
          ],
          [
           "LRRC26",
           1
          ],
          [
           "AC078962.2",
           1
          ],
          [
           "LINC02388",
           1
          ],
          [
           "LINC01492",
           1
          ],
          [
           "LINC02326",
           1
          ],
          [
           "TTC39A-AS1",
           1
          ],
          [
           "FKBP6",
           1
          ],
          [
           "AC024559.2",
           1
          ],
          [
           "PTGER3",
           1
          ],
          [
           "GCM1",
           1
          ],
          [
           "GDF5",
           1
          ],
          [
           "AL137100.3",
           1
          ],
          [
           "EBF2",
           1
          ],
          [
           "TAFA5",
           1
          ],
          [
           "WASF3",
           1
          ],
          [
           "AC005229.5",
           1
          ],
          [
           "CNTN1",
           1
          ],
          [
           "GDF9",
           1
          ],
          [
           "GPRC5A",
           1
          ],
          [
           "AC040963.1",
           1
          ],
          [
           "AC010230.1",
           1
          ],
          [
           "LRRC38",
           1
          ],
          [
           "HMGB3",
           1
          ],
          [
           "AL136114.1",
           1
          ],
          [
           "AC023509.3",
           1
          ],
          [
           "FGF13",
           1
          ],
          [
           "LINC00871",
           1
          ],
          [
           "MALINC1",
           1
          ],
          [
           "PTPN14",
           1
          ],
          [
           "ITGA6",
           1
          ],
          [
           "AL355306.2",
           1
          ],
          [
           "LINC02814",
           1
          ],
          [
           "SVOPL",
           1
          ],
          [
           "CLTRN",
           1
          ],
          [
           "SYCP2L",
           1
          ],
          [
           "FFAR2",
           1
          ],
          [
           "RIT2",
           1
          ],
          [
           "TLL2",
           1
          ],
          [
           "AP001122.1",
           1
          ],
          [
           "KLRC1",
           1
          ],
          [
           "LINC02479",
           1
          ],
          [
           "TARID",
           1
          ],
          [
           "AC015878.1",
           1
          ],
          [
           "ID2-AS1",
           1
          ],
          [
           "UNC80",
           1
          ],
          [
           "LINC01890",
           1
          ],
          [
           "AL158154.3",
           1
          ],
          [
           "RNF180",
           1
          ],
          [
           "AC093607.1",
           1
          ],
          [
           "KLHL7-DT",
           1
          ],
          [
           "GML",
           1
          ],
          [
           "NCKAP5",
           1
          ],
          [
           "CSMD3",
           1
          ],
          [
           "AP001605.1",
           1
          ],
          [
           "PDGFRL",
           1
          ],
          [
           "AC004702.1",
           1
          ],
          [
           "AC098818.2",
           1
          ],
          [
           "AC137579.1",
           1
          ],
          [
           "LOXHD1",
           1
          ],
          [
           "SLCO6A1",
           1
          ],
          [
           "CALR3",
           1
          ],
          [
           "LIFR-AS1",
           1
          ],
          [
           "SCEL",
           1
          ],
          [
           "UBE2U",
           1
          ],
          [
           "HIST2H4B",
           1
          ],
          [
           "ELOVL2",
           1
          ],
          [
           "AL008730.1",
           1
          ],
          [
           "AC007091.1",
           1
          ],
          [
           "CAMK2A",
           1
          ],
          [
           "AC092110.1",
           1
          ],
          [
           "AC006064.5",
           1
          ],
          [
           "WNT1",
           1
          ],
          [
           "XKR7",
           1
          ],
          [
           "AL162253.1",
           1
          ],
          [
           "AC092490.2",
           1
          ],
          [
           "AC144836.1",
           1
          ],
          [
           "TNFRSF8",
           1
          ],
          [
           "AC007319.1",
           1
          ],
          [
           "LINC00299",
           1
          ],
          [
           "AL031658.1",
           1
          ],
          [
           "TMEM237",
           1
          ],
          [
           "ZNF521",
           1
          ],
          [
           "SAMMSON",
           1
          ],
          [
           "LINC02288",
           1
          ],
          [
           "FBXO27",
           1
          ],
          [
           "FAM9B",
           1
          ],
          [
           "NCAN",
           1
          ],
          [
           "FMO1",
           1
          ],
          [
           "AC023830.1",
           1
          ],
          [
           "SCNN1B",
           1
          ],
          [
           "LINC02389",
           1
          ],
          [
           "AC021504.1",
           1
          ],
          [
           "AL034550.2",
           1
          ],
          [
           "SIRLNT",
           1
          ],
          [
           "SEPTIN9-DT",
           1
          ],
          [
           "ST8SIA6-AS1",
           1
          ],
          [
           "CDH11",
           1
          ],
          [
           "AC005005.4",
           1
          ],
          [
           "RPP38-DT",
           1
          ],
          [
           "ATP12A",
           1
          ],
          [
           "AC069287.2",
           1
          ],
          [
           "AC016542.1",
           1
          ],
          [
           "CASC9",
           1
          ],
          [
           "ANXA3",
           1
          ],
          [
           "SPAAR",
           1
          ],
          [
           "LINC01744",
           1
          ],
          [
           "LMX1A",
           1
          ],
          [
           "LINC02141",
           1
          ],
          [
           "AC021393.1",
           1
          ],
          [
           "AC107959.2",
           1
          ],
          [
           "LINC02327",
           1
          ],
          [
           "SYCP1",
           1
          ],
          [
           "CCR9",
           1
          ],
          [
           "AL359632.1",
           1
          ],
          [
           "HIST1H2BB",
           1
          ],
          [
           "GSG1L2",
           1
          ],
          [
           "CBLC",
           1
          ],
          [
           "AC104024.1",
           1
          ],
          [
           "AL606923.2",
           1
          ],
          [
           "AL049795.2",
           1
          ],
          [
           "LINC02228",
           1
          ],
          [
           "AC035140.1",
           1
          ],
          [
           "EPS8L1",
           1
          ],
          [
           "DENND6B",
           1
          ],
          [
           "LINC02069",
           1
          ],
          [
           "SLC35E4",
           1
          ],
          [
           "TIMP3",
           1
          ],
          [
           "AC013565.1",
           1
          ],
          [
           "C8orf58",
           1
          ],
          [
           "LINC01192",
           1
          ],
          [
           "KCNIP1",
           1
          ],
          [
           "MZT2B",
           1
          ],
          [
           "ZNHIT2",
           1
          ],
          [
           "BRICD5",
           1
          ],
          [
           "AL353768.2",
           1
          ],
          [
           "PRDM16",
           1
          ],
          [
           "AC006197.2",
           1
          ],
          [
           "C15orf39",
           1
          ],
          [
           "TMPRSS12",
           1
          ],
          [
           "CRTAC1",
           1
          ],
          [
           "EMILIN1",
           1
          ],
          [
           "DACH2",
           1
          ],
          [
           "CT69",
           1
          ],
          [
           "LINC02789",
           1
          ],
          [
           "RPS15",
           1
          ],
          [
           "AC022182.2",
           1
          ],
          [
           "AC007448.5",
           1
          ],
          [
           "AL160396.2",
           1
          ],
          [
           "LINC00635",
           1
          ],
          [
           "CHRM2",
           1
          ],
          [
           "FAM71E1",
           1
          ],
          [
           "DPPA2",
           1
          ],
          [
           "LINC02206",
           1
          ],
          [
           "TMPRSS7",
           1
          ],
          [
           "NDUFA4L2",
           1
          ],
          [
           "AC073934.1",
           1
          ],
          [
           "UNC5A",
           1
          ],
          [
           "AL358134.1",
           1
          ],
          [
           "LRRC74B",
           1
          ],
          [
           "AC007529.2",
           1
          ],
          [
           "LINC02669",
           1
          ],
          [
           "BEGAIN",
           1
          ],
          [
           "AF111167.1",
           1
          ],
          [
           "AC005540.1",
           1
          ],
          [
           "AC091100.1",
           1
          ],
          [
           "DAAM2",
           1
          ],
          [
           "BSN-DT",
           1
          ],
          [
           "AC104758.5",
           1
          ],
          [
           "AL035670.1",
           1
          ],
          [
           "LINC02074",
           1
          ],
          [
           "CCDC13-AS1",
           1
          ],
          [
           "PABPN1L",
           1
          ],
          [
           "LINC01942",
           1
          ],
          [
           "GJB1",
           1
          ],
          [
           "DRD2",
           1
          ],
          [
           "AC092078.2",
           1
          ],
          [
           "AL158064.1",
           1
          ],
          [
           "CYP3A43",
           1
          ],
          [
           "CAPN13",
           1
          ],
          [
           "LINC02498",
           1
          ],
          [
           "AC104590.1",
           1
          ],
          [
           "MAP1A",
           1
          ],
          [
           "PPP1R14B-AS1",
           1
          ],
          [
           "AC005546.1",
           1
          ],
          [
           "CDH10",
           1
          ],
          [
           "MOGAT2",
           1
          ],
          [
           "TSKU",
           1
          ],
          [
           "AC106744.1",
           1
          ],
          [
           "AC138761.1",
           1
          ],
          [
           "AC010677.2",
           1
          ],
          [
           "LINC00384",
           1
          ],
          [
           "AC067838.1",
           1
          ],
          [
           "LINC00351",
           1
          ],
          [
           "LINC02740",
           1
          ],
          [
           "AC097713.1",
           1
          ],
          [
           "NMNAT2",
           1
          ],
          [
           "CACNA2D1",
           1
          ],
          [
           "CDHR1",
           1
          ],
          [
           "LINC00865",
           1
          ],
          [
           "RND1",
           1
          ],
          [
           "BICC1",
           1
          ],
          [
           "HEXA-AS1",
           1
          ],
          [
           "AC092802.1",
           1
          ],
          [
           "IGHJ6",
           1
          ],
          [
           "TCF7",
           1
          ],
          [
           "AL009176.1",
           1
          ],
          [
           "AC018845.1",
           1
          ],
          [
           "AL023803.1",
           1
          ],
          [
           "HOPX",
           1
          ],
          [
           "CFTR",
           1
          ],
          [
           "MRPL53",
           1
          ],
          [
           "SPAG7",
           1
          ],
          [
           "DCLK3",
           1
          ],
          [
           "FREM3",
           1
          ],
          [
           "TEX15",
           1
          ],
          [
           "AL358335.2",
           1
          ],
          [
           "SCARA5",
           1
          ],
          [
           "SLC13A5",
           1
          ],
          [
           "LINC02577",
           1
          ],
          [
           "AC084361.1",
           1
          ],
          [
           "CYP27C1",
           1
          ],
          [
           "LINC02466",
           1
          ],
          [
           "MORN5",
           1
          ],
          [
           "AL590640.1",
           1
          ],
          [
           "DSCAS",
           1
          ],
          [
           "WDR72",
           1
          ],
          [
           "WNT2",
           1
          ],
          [
           "SCGB1B2P",
           1
          ],
          [
           "AC139722.1",
           1
          ],
          [
           "RSPO4",
           1
          ],
          [
           "AL121899.3",
           1
          ],
          [
           "CHRNA9",
           1
          ],
          [
           "LINC02204",
           1
          ],
          [
           "AL513220.1",
           1
          ],
          [
           "ITCH-AS1",
           1
          ],
          [
           "AC005682.2",
           1
          ],
          [
           "CEACAM5",
           1
          ],
          [
           "AL158211.1",
           1
          ],
          [
           "AL357140.4",
           1
          ],
          [
           "AC004852.2",
           1
          ],
          [
           "C1orf185",
           1
          ],
          [
           "AF127577.3",
           1
          ],
          [
           "AC018695.4",
           1
          ],
          [
           "CD300LB",
           1
          ],
          [
           "AC093635.1",
           1
          ],
          [
           "FAM182B",
           1
          ],
          [
           "LINC02005",
           1
          ],
          [
           "AP001994.2",
           1
          ],
          [
           "LINC01951",
           1
          ],
          [
           "AC123768.4",
           1
          ],
          [
           "AL050338.2",
           1
          ],
          [
           "LINC01947",
           1
          ],
          [
           "PAX6",
           1
          ],
          [
           "AC022217.2",
           1
          ],
          [
           "LINC02540",
           1
          ],
          [
           "GRIA2",
           1
          ],
          [
           "PRIMA1",
           1
          ],
          [
           "PROSER2-AS1",
           1
          ],
          [
           "AC015845.1",
           1
          ],
          [
           "ITPRIP-AS1",
           1
          ],
          [
           "LINC01525",
           1
          ],
          [
           "LINC01288",
           1
          ],
          [
           "KIF19",
           1
          ],
          [
           "AC104304.3",
           1
          ],
          [
           "ACSS3",
           1
          ],
          [
           "AC004949.1",
           1
          ],
          [
           "PDE3A",
           1
          ],
          [
           "PPP1R32",
           1
          ],
          [
           "AC104664.1",
           1
          ],
          [
           "AL591506.1",
           1
          ],
          [
           "HAS2-AS1",
           1
          ],
          [
           "SLC1A1",
           1
          ],
          [
           "BARX2",
           1
          ],
          [
           "ADGRG1",
           1
          ],
          [
           "VAT1",
           1
          ],
          [
           "BNC2",
           1
          ],
          [
           "GFPT2",
           1
          ],
          [
           "CDH7",
           1
          ],
          [
           "ZFHX4-AS1",
           1
          ],
          [
           "AP000845.1",
           1
          ],
          [
           "PIK3C2G",
           1
          ],
          [
           "CACNG2",
           1
          ],
          [
           "CTCFL",
           1
          ],
          [
           "AC018730.1",
           1
          ],
          [
           "CDH22",
           1
          ],
          [
           "AL137077.2",
           1
          ],
          [
           "OLFML1",
           1
          ],
          [
           "AL353803.2",
           1
          ],
          [
           "CR382287.2",
           1
          ],
          [
           "AC009387.1",
           1
          ],
          [
           "AP002518.2",
           1
          ],
          [
           "RARRES2",
           1
          ],
          [
           "KREMEN1",
           1
          ],
          [
           "LINC02497",
           1
          ],
          [
           "LINC02505",
           1
          ],
          [
           "AC004946.1",
           1
          ],
          [
           "HTR2A",
           1
          ],
          [
           "LINC02438",
           1
          ],
          [
           "PKP4-AS1",
           1
          ],
          [
           "GABRG1",
           1
          ],
          [
           "ST8SIA2",
           1
          ],
          [
           "AC092979.2",
           1
          ],
          [
           "AC131235.2",
           1
          ],
          [
           "LINC00433",
           1
          ],
          [
           "FJX1",
           1
          ],
          [
           "PAMR1",
           1
          ],
          [
           "DAOA-AS1",
           1
          ],
          [
           "AC079848.2",
           1
          ],
          [
           "CALB1",
           1
          ],
          [
           "AC080112.4",
           1
          ],
          [
           "AC009411.2",
           1
          ],
          [
           "PIH1D3",
           1
          ],
          [
           "AC067930.1",
           1
          ],
          [
           "AL162713.2",
           1
          ],
          [
           "ZNF25-DT",
           1
          ],
          [
           "AC005089.1",
           1
          ],
          [
           "TECRL",
           1
          ],
          [
           "KITLG",
           1
          ],
          [
           "ODF4",
           1
          ],
          [
           "ADRA1B",
           1
          ],
          [
           "AC011363.1",
           1
          ],
          [
           "AC113167.1",
           1
          ],
          [
           "AC011389.1",
           1
          ],
          [
           "AL357552.2",
           1
          ],
          [
           "LINC01035",
           1
          ],
          [
           "TRIM31-AS1",
           1
          ],
          [
           "TMEM211",
           1
          ],
          [
           "FOXN4",
           1
          ],
          [
           "NANOGNB",
           1
          ],
          [
           "SLC1A6",
           1
          ],
          [
           "CLPSL1",
           1
          ],
          [
           "AL138826.1",
           1
          ],
          [
           "AC104819.3",
           1
          ],
          [
           "BMP5",
           1
          ],
          [
           "COL16A1",
           1
          ],
          [
           "AC006483.2",
           1
          ],
          [
           "AC073941.1",
           1
          ],
          [
           "CRYAB",
           1
          ],
          [
           "SH3GL3",
           1
          ],
          [
           "AP000813.1",
           1
          ],
          [
           "CCDC89",
           1
          ],
          [
           "AC018755.1",
           1
          ],
          [
           "SERPINB11",
           1
          ],
          [
           "LINC01446",
           1
          ],
          [
           "CTRB1",
           1
          ],
          [
           "AL109829.1",
           1
          ],
          [
           "BEST3",
           1
          ],
          [
           "SPHKAP",
           1
          ],
          [
           "AL157938.4",
           1
          ],
          [
           "PAX3",
           1
          ],
          [
           "GCSAML",
           1
          ],
          [
           "AC127459.2",
           1
          ],
          [
           "GCSIR",
           1
          ],
          [
           "FAM181A-AS1",
           1
          ],
          [
           "AL357079.2",
           1
          ],
          [
           "GPC3",
           1
          ],
          [
           "AC061958.1",
           1
          ],
          [
           "EFEMP2",
           1
          ],
          [
           "LINC02541",
           1
          ],
          [
           "SBK1",
           1
          ],
          [
           "FUOM",
           1
          ],
          [
           "AC104088.1",
           1
          ],
          [
           "AC008474.1",
           1
          ],
          [
           "CCDC85A",
           1
          ],
          [
           "AL096677.1",
           1
          ],
          [
           "AC079296.1",
           1
          ],
          [
           "SNCAIP",
           1
          ],
          [
           "MYOZ2",
           1
          ],
          [
           "LINC01339",
           1
          ],
          [
           "HNF4G",
           1
          ],
          [
           "SH3PXD2A-AS1",
           1
          ],
          [
           "POU2F3",
           1
          ],
          [
           "SLC22A10",
           1
          ],
          [
           "CNMD",
           1
          ],
          [
           "NLRP9",
           1
          ],
          [
           "KIF17",
           1
          ],
          [
           "WDR87",
           1
          ],
          [
           "BRDT",
           1
          ],
          [
           "TEKT4",
           1
          ],
          [
           "SEPTIN12",
           1
          ],
          [
           "CDH19",
           1
          ],
          [
           "HRC",
           1
          ],
          [
           "GAD2",
           1
          ],
          [
           "AL157829.1",
           1
          ],
          [
           "ASB4",
           1
          ],
          [
           "COMP",
           1
          ],
          [
           "AC018467.1",
           1
          ],
          [
           "AC005740.5",
           1
          ],
          [
           "APBA2",
           1
          ],
          [
           "AL136419.3",
           1
          ],
          [
           "MAP1S",
           1
          ],
          [
           "AC242988.2",
           1
          ],
          [
           "LINC01471",
           1
          ],
          [
           "LINC01304",
           1
          ],
          [
           "AC016813.1",
           1
          ],
          [
           "EDN3",
           1
          ],
          [
           "AC060765.1",
           1
          ],
          [
           "AC079584.1",
           1
          ],
          [
           "SLC13A1",
           1
          ],
          [
           "AL139379.1",
           1
          ],
          [
           "AC083906.3",
           1
          ],
          [
           "AL391056.1",
           1
          ],
          [
           "AC123777.1",
           1
          ],
          [
           "LINC02209",
           1
          ],
          [
           "AC131210.1",
           1
          ],
          [
           "AC073336.1",
           1
          ],
          [
           "AC074011.1",
           1
          ],
          [
           "SYT13",
           1
          ],
          [
           "CCDC148-AS1",
           1
          ],
          [
           "AC021573.1",
           1
          ],
          [
           "AQP8",
           1
          ],
          [
           "FOLH1",
           1
          ],
          [
           "FCN3",
           1
          ],
          [
           "FGFR3",
           1
          ],
          [
           "GLYAT",
           1
          ],
          [
           "AC091806.1",
           1
          ],
          [
           "AC124017.1",
           1
          ],
          [
           "AC005100.1",
           1
          ],
          [
           "PASD1",
           1
          ],
          [
           "ZNF716",
           1
          ],
          [
           "AC091912.3",
           1
          ],
          [
           "CFAP65",
           1
          ],
          [
           "AC016576.1",
           1
          ],
          [
           "AC106821.2",
           1
          ],
          [
           "AC020718.1",
           1
          ],
          [
           "ATP1B2",
           1
          ],
          [
           "AC008766.1",
           1
          ],
          [
           "SCGN",
           1
          ],
          [
           "AC010931.2",
           1
          ],
          [
           "AC016642.1",
           1
          ],
          [
           "AC008147.1",
           1
          ],
          [
           "AC113391.1",
           1
          ],
          [
           "AC106798.1",
           1
          ],
          [
           "Z93241.1",
           1
          ],
          [
           "AC008429.1",
           1
          ],
          [
           "LINC02096",
           1
          ],
          [
           "FMO2",
           1
          ],
          [
           "MUC22",
           1
          ],
          [
           "LINC01720",
           1
          ],
          [
           "FIGLA",
           1
          ],
          [
           "AP003392.3",
           1
          ],
          [
           "PGLYRP4",
           1
          ],
          [
           "AP001922.1",
           1
          ],
          [
           "DMRTC2",
           1
          ],
          [
           "KLF17",
           1
          ],
          [
           "AC025576.3",
           1
          ],
          [
           "AC007128.2",
           1
          ],
          [
           "LINC02359",
           1
          ],
          [
           "SIM1",
           1
          ],
          [
           "AL158168.1",
           1
          ],
          [
           "AC092720.1",
           1
          ],
          [
           "AP001993.1",
           1
          ],
          [
           "AL445465.1",
           1
          ],
          [
           "AC096772.1",
           1
          ],
          [
           "AC090607.1",
           1
          ],
          [
           "AC008592.4",
           1
          ],
          [
           "SUSD2",
           1
          ],
          [
           "AC015522.1",
           1
          ],
          [
           "AC244102.4",
           1
          ],
          [
           "KRT27",
           1
          ],
          [
           "AC108134.4",
           1
          ],
          [
           "LINC02834",
           1
          ],
          [
           "AC063977.6",
           1
          ],
          [
           "AC026471.3",
           1
          ],
          [
           "LURAP1L-AS1",
           1
          ],
          [
           "AL589678.1",
           1
          ],
          [
           "AL353626.1",
           1
          ],
          [
           "HEYL",
           1
          ],
          [
           "AC243965.2",
           1
          ],
          [
           "AC096861.2",
           1
          ],
          [
           "AL133485.3",
           1
          ],
          [
           "AC012213.1",
           1
          ],
          [
           "AL049828.2",
           1
          ],
          [
           "CTXN1",
           1
          ],
          [
           "IGLON5",
           1
          ],
          [
           "SUN5",
           1
          ],
          [
           "AC074286.1",
           1
          ],
          [
           "RAD21-AS1",
           1
          ],
          [
           "SGCD",
           1
          ],
          [
           "PROS1",
           1
          ],
          [
           "ADGRG2",
           1
          ],
          [
           "NWD1",
           1
          ],
          [
           "LINC02008",
           1
          ],
          [
           "STUM",
           1
          ],
          [
           "PID1",
           1
          ],
          [
           "AL162493.1",
           1
          ],
          [
           "RPGRIP1",
           1
          ],
          [
           "AC138305.1",
           1
          ],
          [
           "CNTN6",
           1
          ],
          [
           "FCER2",
           1
          ],
          [
           "AL356608.3",
           1
          ],
          [
           "AC010883.3",
           1
          ],
          [
           "LINC01579",
           1
          ],
          [
           "TMEM98",
           1
          ],
          [
           "GABRA6",
           1
          ],
          [
           "CHL1-AS2",
           1
          ],
          [
           "ARHGAP29-AS1",
           1
          ],
          [
           "AC019257.1",
           1
          ],
          [
           "EEF1A2",
           1
          ],
          [
           "CCR3",
           1
          ],
          [
           "LINC01915",
           1
          ],
          [
           "AL161910.1",
           1
          ],
          [
           "TTC29",
           1
          ],
          [
           "LINC02594",
           1
          ],
          [
           "SRARP",
           1
          ],
          [
           "AC068875.1",
           1
          ],
          [
           "PAQR9-AS1",
           1
          ],
          [
           "CPLX3",
           1
          ],
          [
           "AL050344.1",
           1
          ],
          [
           "AC097521.1",
           1
          ],
          [
           "CELF2-DT",
           1
          ],
          [
           "HEY2",
           1
          ],
          [
           "AC117480.1",
           1
          ],
          [
           "ERFE",
           1
          ],
          [
           "AC096588.1",
           1
          ],
          [
           "OR9Q1",
           1
          ],
          [
           "RPS18",
           1
          ],
          [
           "NELL1",
           1
          ],
          [
           "LRP1B",
           1
          ],
          [
           "AC109441.1",
           1
          ],
          [
           "G6PC",
           1
          ],
          [
           "AC004485.1",
           1
          ],
          [
           "LINC02553",
           1
          ],
          [
           "AC108721.2",
           1
          ],
          [
           "AC107072.2",
           1
          ],
          [
           "AC010883.2",
           1
          ],
          [
           "AL136985.1",
           1
          ],
          [
           "TPO",
           1
          ],
          [
           "AC003043.1",
           1
          ],
          [
           "AC025437.4",
           1
          ],
          [
           "AC093426.1",
           1
          ],
          [
           "LINC01363",
           1
          ],
          [
           "TMEM246-AS1",
           1
          ],
          [
           "AL390800.1",
           1
          ],
          [
           "AL109910.2",
           1
          ],
          [
           "AC068787.5",
           1
          ],
          [
           "AL109653.3",
           1
          ],
          [
           "LINC02405",
           1
          ],
          [
           "TYR",
           1
          ],
          [
           "LINC02570",
           1
          ],
          [
           "TBC1D26",
           1
          ],
          [
           "FOXN1",
           1
          ],
          [
           "AC021683.2",
           1
          ],
          [
           "KIF1A",
           1
          ],
          [
           "KDR",
           1
          ],
          [
           "MINAR2",
           1
          ],
          [
           "AC003984.1",
           1
          ],
          [
           "AC073218.1",
           1
          ],
          [
           "AL831711.1",
           1
          ],
          [
           "AC127894.1",
           1
          ],
          [
           "APOBEC3B-AS1",
           1
          ],
          [
           "LINC02610",
           1
          ],
          [
           "PSG1",
           1
          ],
          [
           "SMIM33",
           1
          ],
          [
           "AC092448.1",
           1
          ],
          [
           "AC004943.3",
           1
          ],
          [
           "AC012499.1",
           1
          ],
          [
           "LINC01449",
           1
          ],
          [
           "MFAP2",
           1
          ],
          [
           "AQP1",
           1
          ],
          [
           "AC122688.2",
           1
          ],
          [
           "AC027449.1",
           1
          ],
          [
           "AC026433.1",
           1
          ],
          [
           "KRTDAP",
           1
          ],
          [
           "LINC00581",
           1
          ],
          [
           "AC108105.1",
           1
          ],
          [
           "AC009509.2",
           1
          ],
          [
           "PNLIP",
           1
          ],
          [
           "CHIA",
           1
          ],
          [
           "AC016245.2",
           1
          ],
          [
           "AC080079.2",
           1
          ],
          [
           "HIST1H2BI",
           1
          ],
          [
           "AL445123.2",
           1
          ],
          [
           "AC131649.1",
           1
          ],
          [
           "ANKS4B",
           1
          ],
          [
           "LINC02218",
           1
          ],
          [
           "AC108868.1",
           1
          ],
          [
           "AC053503.1",
           1
          ],
          [
           "FAM240B",
           1
          ],
          [
           "ST6GAL2",
           1
          ],
          [
           "MUCL3",
           1
          ],
          [
           "AL031767.2",
           1
          ],
          [
           "LINC01103",
           1
          ],
          [
           "AC016721.1",
           1
          ],
          [
           "MANCR",
           1
          ],
          [
           "FAM110D",
           1
          ],
          [
           "SLC5A8",
           1
          ],
          [
           "AL050338.1",
           1
          ],
          [
           "AC048338.2",
           1
          ],
          [
           "AL136366.1",
           1
          ],
          [
           "LINC01497",
           1
          ],
          [
           "MYZAP",
           1
          ],
          [
           "AC008780.1",
           1
          ],
          [
           "CASC6",
           1
          ],
          [
           "LINC02712",
           1
          ],
          [
           "AC008937.1",
           1
          ],
          [
           "ELAVL2",
           1
          ],
          [
           "ACSM2B",
           1
          ],
          [
           "AC012404.1",
           1
          ],
          [
           "AP002856.2",
           1
          ],
          [
           "AL023495.1",
           1
          ],
          [
           "LINC02743",
           1
          ],
          [
           "LINC00368",
           1
          ],
          [
           "AP003100.2",
           1
          ],
          [
           "AC099671.1",
           1
          ],
          [
           "AC090587.2",
           1
          ],
          [
           "AC011005.1",
           1
          ],
          [
           "AC141586.3",
           1
          ],
          [
           "OPN4",
           1
          ],
          [
           "AP001029.1",
           1
          ],
          [
           "AC022710.1",
           1
          ],
          [
           "AP001109.1",
           1
          ],
          [
           "BMX",
           1
          ],
          [
           "AC015908.3",
           1
          ],
          [
           "TMCO5A",
           1
          ],
          [
           "AC130469.1",
           1
          ],
          [
           "AL359555.1",
           1
          ],
          [
           "KRT20",
           1
          ],
          [
           "LINC02699",
           1
          ],
          [
           "LINC01282",
           1
          ],
          [
           "VWA5B2",
           1
          ],
          [
           "AC010624.5",
           1
          ],
          [
           "FGL1",
           1
          ],
          [
           "TSIX",
           1
          ],
          [
           "AC015911.2",
           1
          ],
          [
           "SPATA25",
           1
          ],
          [
           "LDLRAD1",
           1
          ],
          [
           "AC018552.2",
           1
          ],
          [
           "TRBV21-1",
           1
          ],
          [
           "SPINT4",
           1
          ],
          [
           "AC093606.1",
           1
          ],
          [
           "CITED1",
           1
          ],
          [
           "HIST2H3D",
           1
          ],
          [
           "TRPM5",
           1
          ],
          [
           "AC087269.3",
           1
          ],
          [
           "GRM7-AS1",
           1
          ],
          [
           "STRIT1",
           1
          ],
          [
           "AC104451.2",
           1
          ],
          [
           "BOK",
           1
          ],
          [
           "EDA2R",
           1
          ],
          [
           "AC108690.1",
           1
          ],
          [
           "CRB1",
           1
          ],
          [
           "AL357500.1",
           1
          ],
          [
           "AL117329.1",
           1
          ],
          [
           "LINC00970",
           1
          ],
          [
           "BRINP3",
           1
          ],
          [
           "SLC6A4",
           1
          ],
          [
           "AC064875.1",
           1
          ],
          [
           "LINC02456",
           1
          ],
          [
           "LINC00309",
           1
          ],
          [
           "TSPAN8",
           1
          ],
          [
           "AC128685.1",
           1
          ],
          [
           "LTV1",
           1
          ],
          [
           "COL11A1",
           1
          ],
          [
           "CLIC6",
           1
          ],
          [
           "AC112481.2",
           1
          ],
          [
           "CD2BP2-DT",
           1
          ],
          [
           "AP000695.2",
           1
          ],
          [
           "AC099753.1",
           1
          ],
          [
           "LRRC3B",
           1
          ],
          [
           "MAG",
           1
          ],
          [
           "SLC17A8",
           1
          ],
          [
           "AL390791.1",
           1
          ],
          [
           "CYS1",
           1
          ],
          [
           "AC005828.3",
           1
          ],
          [
           "GABRG2",
           1
          ],
          [
           "NYNRIN",
           1
          ],
          [
           "C1orf167",
           1
          ],
          [
           "PANTR1",
           1
          ],
          [
           "CIB3",
           1
          ],
          [
           "NANOG",
           1
          ],
          [
           "OVCH1",
           1
          ],
          [
           "MXRA5",
           1
          ],
          [
           "CARD10",
           1
          ],
          [
           "NLRP5",
           1
          ],
          [
           "AC026167.1",
           1
          ],
          [
           "AC096746.1",
           1
          ],
          [
           "AC012358.1",
           1
          ],
          [
           "AC092338.1",
           1
          ],
          [
           "ANGPTL5",
           1
          ],
          [
           "TSGA10IP",
           1
          ],
          [
           "AC062004.1",
           1
          ],
          [
           "MS4A13",
           1
          ],
          [
           "NOXO1",
           1
          ],
          [
           "AL161449.2",
           1
          ],
          [
           "LINC01104",
           1
          ],
          [
           "AKAP6",
           1
          ],
          [
           "LINC02321",
           1
          ],
          [
           "LINC01632",
           1
          ],
          [
           "AF131216.4",
           1
          ],
          [
           "AL121721.1",
           1
          ],
          [
           "CASC18",
           1
          ],
          [
           "OR4E2",
           1
          ],
          [
           "AC008805.2",
           1
          ],
          [
           "INPP5J",
           1
          ],
          [
           "LINC01864",
           1
          ],
          [
           "AC106772.1",
           1
          ],
          [
           "AL662873.1",
           1
          ],
          [
           "TRIM15",
           1
          ],
          [
           "LINC01080",
           1
          ],
          [
           "WFDC5",
           1
          ],
          [
           "AC110772.1",
           1
          ],
          [
           "KCNJ16",
           1
          ],
          [
           "FOXD4L5",
           1
          ],
          [
           "HTR3C",
           1
          ],
          [
           "CDKN1C",
           1
          ],
          [
           "AC079226.1",
           1
          ],
          [
           "SIGLECL1",
           1
          ],
          [
           "AL391650.2",
           1
          ],
          [
           "AC093799.1",
           1
          ],
          [
           "AC004801.3",
           1
          ],
          [
           "METTL21C",
           1
          ],
          [
           "PTHLH",
           1
          ],
          [
           "ERVK-28",
           1
          ],
          [
           "LINC01938",
           1
          ],
          [
           "DLG3-AS1",
           1
          ],
          [
           "AC103794.1",
           1
          ],
          [
           "AC073172.1",
           1
          ],
          [
           "AC123912.2",
           1
          ],
          [
           "MYO16-AS1",
           1
          ],
          [
           "SLC6A2",
           1
          ],
          [
           "LINC00839",
           1
          ],
          [
           "AC108860.2",
           1
          ],
          [
           "HEY1",
           1
          ],
          [
           "LINC02624",
           1
          ],
          [
           "FP325335.1",
           1
          ],
          [
           "DSG3",
           1
          ],
          [
           "DSC1",
           1
          ],
          [
           "IGHV1-69",
           1
          ],
          [
           "AC244517.2",
           1
          ],
          [
           "PCDHA9",
           1
          ],
          [
           "AC093334.1",
           1
          ],
          [
           "C1orf232",
           1
          ],
          [
           "LINC02442",
           1
          ],
          [
           "AC010834.3",
           1
          ],
          [
           "AC246680.1",
           1
          ],
          [
           "GPR139",
           1
          ],
          [
           "AC055716.3",
           1
          ],
          [
           "LINC00269",
           1
          ],
          [
           "HCN4",
           1
          ],
          [
           "AC005606.1",
           1
          ],
          [
           "ACKR1",
           1
          ],
          [
           "C8orf86",
           1
          ],
          [
           "AL008719.1",
           1
          ],
          [
           "AC008067.1",
           1
          ],
          [
           "GPX8",
           1
          ],
          [
           "AC005597.1",
           1
          ],
          [
           "H3F3C",
           1
          ],
          [
           "AC087588.3",
           1
          ],
          [
           "TFAP2A-AS2",
           1
          ],
          [
           "AC022634.2",
           1
          ],
          [
           "SLC6A5",
           1
          ],
          [
           "AC025470.2",
           1
          ],
          [
           "FOXCUT",
           1
          ],
          [
           "HOXB5",
           1
          ],
          [
           "OTOP2",
           1
          ],
          [
           "AC106795.5",
           1
          ],
          [
           "AC007786.1",
           1
          ],
          [
           "LINC02065",
           1
          ],
          [
           "AC026904.1",
           1
          ],
          [
           "SLC17A6",
           1
          ],
          [
           "AC100839.2",
           1
          ],
          [
           "AC103957.1",
           1
          ],
          [
           "PGC",
           1
          ],
          [
           "AC084768.1",
           1
          ],
          [
           "AL034548.1",
           1
          ],
          [
           "DCX",
           1
          ],
          [
           "SLC34A2",
           1
          ],
          [
           "AP003400.1",
           1
          ],
          [
           "SOD3",
           1
          ],
          [
           "PPARGC1A",
           1
          ],
          [
           "LINC02713",
           1
          ],
          [
           "AC004946.2",
           1
          ],
          [
           "AL645507.1",
           1
          ],
          [
           "CLCA2",
           1
          ],
          [
           "VSTM1",
           1
          ],
          [
           "LINC01222",
           1
          ],
          [
           "SLN",
           1
          ],
          [
           "BNC1",
           1
          ],
          [
           "PLS3-AS1",
           1
          ],
          [
           "AC069114.1",
           1
          ],
          [
           "TEX26",
           1
          ],
          [
           "HSPB2",
           1
          ],
          [
           "LINC02469",
           1
          ],
          [
           "AC012325.1",
           1
          ],
          [
           "TMEM121B",
           1
          ],
          [
           "AP000345.1",
           1
          ],
          [
           "LINC02393",
           1
          ],
          [
           "AC008759.2",
           1
          ],
          [
           "ACE2",
           1
          ],
          [
           "MUC5B",
           1
          ],
          [
           "CCDC158",
           1
          ],
          [
           "AC003035.2",
           1
          ],
          [
           "ADAMTS5",
           1
          ],
          [
           "LINC02429",
           1
          ],
          [
           "AL096828.3",
           1
          ],
          [
           "AC018731.1",
           1
          ],
          [
           "DEFB129",
           1
          ],
          [
           "NWD2",
           1
          ],
          [
           "CACNG6",
           1
          ],
          [
           "AC093422.2",
           1
          ],
          [
           "H2BFM",
           1
          ],
          [
           "AC012485.2",
           1
          ],
          [
           "FP236383.5",
           1
          ],
          [
           "PSG2",
           1
          ],
          [
           "AC017076.1",
           1
          ],
          [
           "NXF3",
           1
          ],
          [
           "AC005914.1",
           1
          ],
          [
           "TRIM67",
           1
          ],
          [
           "AC123784.1",
           1
          ],
          [
           "AP001117.1",
           1
          ],
          [
           "B4GALNT4",
           1
          ],
          [
           "AC007106.1",
           1
          ],
          [
           "UGT2A1",
           1
          ],
          [
           "AC092059.1",
           1
          ],
          [
           "IGFBP3",
           1
          ],
          [
           "AC099563.2",
           1
          ],
          [
           "LINC01541",
           1
          ],
          [
           "LINC01354",
           1
          ],
          [
           "AP000757.1",
           1
          ],
          [
           "AC092127.2",
           1
          ],
          [
           "HIST3H3",
           1
          ],
          [
           "TRBJ1-5",
           1
          ],
          [
           "HEPN1",
           1
          ],
          [
           "AC093766.1",
           1
          ],
          [
           "TBX18",
           1
          ],
          [
           "LINC00703",
           1
          ],
          [
           "TPBG",
           1
          ],
          [
           "NOBOX",
           1
          ],
          [
           "AC093796.1",
           1
          ],
          [
           "C11orf45",
           1
          ],
          [
           "ITGB6",
           1
          ],
          [
           "LINC02013",
           1
          ],
          [
           "AP004606.1",
           1
          ],
          [
           "AC116003.1",
           1
          ],
          [
           "MAB21L2",
           1
          ],
          [
           "FAM83B",
           1
          ],
          [
           "AC011465.1",
           1
          ],
          [
           "EQTN",
           1
          ],
          [
           "AL353138.1",
           1
          ],
          [
           "AC092431.1",
           1
          ],
          [
           "LINC01899",
           1
          ],
          [
           "DPP10-AS3",
           1
          ],
          [
           "ATP4A",
           1
          ],
          [
           "LINC02169",
           1
          ],
          [
           "APOA2",
           1
          ],
          [
           "CYP4F11",
           1
          ],
          [
           "LINC00331",
           1
          ],
          [
           "AC008278.2",
           1
          ],
          [
           "RCC2-AS1",
           1
          ],
          [
           "AC233701.1",
           1
          ],
          [
           "TUBB8P12",
           1
          ],
          [
           "MTRNR2L6",
           1
          ],
          [
           "AC090348.1",
           1
          ],
          [
           "AC068254.1",
           1
          ],
          [
           "CFHR2",
           1
          ],
          [
           "TRBV2",
           1
          ],
          [
           "AC022535.1",
           1
          ],
          [
           "AC011446.1",
           1
          ],
          [
           "CALHM5",
           1
          ],
          [
           "AC245100.6",
           1
          ],
          [
           "AL390964.1",
           1
          ],
          [
           "AL138916.2",
           1
          ],
          [
           "TSPYL6",
           1
          ],
          [
           "AC079380.1",
           1
          ],
          [
           "AC023824.3",
           1
          ],
          [
           "PLEKHA5",
           1
          ],
          [
           "IL9R",
           1
          ],
          [
           "UROD",
           1
          ],
          [
           "RNF212B",
           1
          ],
          [
           "ZBTB8B",
           1
          ],
          [
           "MYBPC2",
           1
          ],
          [
           "AC104035.1",
           1
          ],
          [
           "GNA14-AS1",
           1
          ],
          [
           "MMP20",
           1
          ],
          [
           "AL603832.1",
           1
          ],
          [
           "LINC02109",
           1
          ],
          [
           "LINC00609",
           1
          ],
          [
           "CRAT",
           1
          ],
          [
           "AC087863.2",
           1
          ],
          [
           "LINC01239",
           1
          ],
          [
           "COL6A5",
           1
          ],
          [
           "AC023194.3",
           1
          ],
          [
           "AC240565.2",
           1
          ],
          [
           "GTSE1-DT",
           1
          ],
          [
           "AC016730.1",
           1
          ],
          [
           "INSYN2A",
           1
          ],
          [
           "LINC01856",
           1
          ],
          [
           "LINC01732",
           1
          ],
          [
           "LIPN",
           1
          ],
          [
           "LINC00440",
           1
          ],
          [
           "AL589669.1",
           1
          ],
          [
           "AC115622.1",
           1
          ],
          [
           "STBD1",
           1
          ],
          [
           "GJA3",
           1
          ],
          [
           "ACTN1-AS1",
           1
          ],
          [
           "AC110285.3",
           1
          ],
          [
           "LNCOC1",
           1
          ],
          [
           "ERVH48-1",
           1
          ],
          [
           "LINC01676",
           1
          ],
          [
           "AZU1",
           1
          ],
          [
           "CNFN",
           1
          ],
          [
           "ADGRD2",
           1
          ],
          [
           "SIX4",
           1
          ],
          [
           "PNMT",
           1
          ],
          [
           "AC010834.2",
           1
          ],
          [
           "CNTNAP2",
           1
          ],
          [
           "AC020658.2",
           1
          ],
          [
           "IL20",
           1
          ],
          [
           "AC079177.1",
           1
          ],
          [
           "AC073314.1",
           1
          ],
          [
           "AC015468.3",
           1
          ],
          [
           "AP000777.1",
           1
          ],
          [
           "AC008060.1",
           1
          ],
          [
           "AC245519.1",
           1
          ],
          [
           "AC018437.3",
           1
          ],
          [
           "AC023403.1",
           1
          ],
          [
           "LINC00374",
           1
          ],
          [
           "APOBEC3B",
           1
          ],
          [
           "C1orf116",
           1
          ],
          [
           "PAGE1",
           1
          ],
          [
           "TRBJ2-7",
           1
          ],
          [
           "GJA5",
           1
          ],
          [
           "AP002414.5",
           1
          ],
          [
           "AC069439.2",
           1
          ],
          [
           "SI",
           1
          ],
          [
           "AF106564.1",
           1
          ],
          [
           "TSPAN18-AS1",
           1
          ],
          [
           "AC022929.1",
           1
          ],
          [
           "AC023442.3",
           1
          ],
          [
           "LINC01360",
           1
          ],
          [
           "CAMK1G",
           1
          ],
          [
           "AC120498.6",
           1
          ],
          [
           "WNT8A",
           1
          ],
          [
           "FLNC",
           1
          ],
          [
           "AKR1B15",
           1
          ],
          [
           "LINC00366",
           1
          ],
          [
           "TBXT",
           1
          ],
          [
           "AC068418.2",
           1
          ],
          [
           "AC188616.1",
           1
          ],
          [
           "CYP2A13",
           1
          ],
          [
           "AC015688.6",
           1
          ],
          [
           "AC008543.4",
           1
          ],
          [
           "BMP3",
           1
          ],
          [
           "FGF5",
           1
          ],
          [
           "AP001630.1",
           1
          ],
          [
           "MMP10",
           1
          ],
          [
           "AP001547.1",
           1
          ],
          [
           "CEACAM3",
           1
          ],
          [
           "AC239584.1",
           1
          ],
          [
           "AC138625.2",
           1
          ],
          [
           "AC009055.2",
           1
          ],
          [
           "FZD9",
           1
          ],
          [
           "GPR61",
           1
          ],
          [
           "PSG6",
           1
          ],
          [
           "AC093725.2",
           1
          ],
          [
           "AP002336.3",
           1
          ],
          [
           "AC096586.2",
           1
          ],
          [
           "LINC01254",
           1
          ],
          [
           "GATA5",
           1
          ],
          [
           "HTR1D",
           1
          ],
          [
           "LINC02852",
           1
          ],
          [
           "AC105398.1",
           1
          ],
          [
           "SLC22A12",
           1
          ],
          [
           "USH1G",
           1
          ],
          [
           "AL354760.1",
           1
          ],
          [
           "AC016885.2",
           1
          ],
          [
           "AC009869.1",
           1
          ],
          [
           "AC004817.2",
           1
          ],
          [
           "AL392023.1",
           1
          ],
          [
           "AVP",
           1
          ],
          [
           "PPP3R2",
           1
          ],
          [
           "AL670729.1",
           1
          ],
          [
           "AL451140.1",
           1
          ],
          [
           "CR936218.1",
           1
          ],
          [
           "AL161908.1",
           1
          ],
          [
           "LINC02164",
           1
          ],
          [
           "ZSCAN4",
           1
          ],
          [
           "AL355073.1",
           1
          ],
          [
           "AL157396.1",
           1
          ],
          [
           "LINC01570",
           1
          ],
          [
           "SCNN1G",
           1
          ],
          [
           "AL122008.4",
           1
          ],
          [
           "HSD17B3-AS1",
           1
          ],
          [
           "RAB17",
           1
          ],
          [
           "AC020922.4",
           1
          ],
          [
           "AKR1C1",
           1
          ],
          [
           "LINC02676",
           1
          ],
          [
           "C10orf53",
           1
          ],
          [
           "AC007244.1",
           1
          ],
          [
           "AC068946.3",
           1
          ],
          [
           "LINC01894",
           1
          ],
          [
           "AL133368.2",
           1
          ],
          [
           "SATB2-AS1",
           1
          ],
          [
           "LINC02634",
           1
          ],
          [
           "GJD4",
           1
          ],
          [
           "SERPINA11",
           1
          ],
          [
           "TMEM158",
           1
          ],
          [
           "AC093520.1",
           1
          ],
          [
           "AC087379.1",
           1
          ],
          [
           "TCEAL2",
           1
          ],
          [
           "OR2D3",
           1
          ],
          [
           "AL590302.2",
           1
          ],
          [
           "AC026341.3",
           1
          ],
          [
           "OR56A1",
           1
          ],
          [
           "FAM83C",
           1
          ],
          [
           "RNASE2",
           1
          ],
          [
           "AP000428.1",
           1
          ],
          [
           "OR51E1",
           1
          ],
          [
           "KRT24",
           1
          ],
          [
           "AC106738.1",
           1
          ],
          [
           "AC051649.1",
           1
          ],
          [
           "AC110741.1",
           1
          ],
          [
           "AP006621.2",
           1
          ],
          [
           "MCEMP1",
           1
          ],
          [
           "GGTLC1",
           1
          ],
          [
           "AC083841.1",
           1
          ],
          [
           "LRATD1",
           1
          ],
          [
           "RHPN1-AS1",
           1
          ],
          [
           "MAFA-AS1",
           1
          ],
          [
           "HSPB9",
           1
          ],
          [
           "AL359979.2",
           1
          ],
          [
           "LINC01166",
           1
          ],
          [
           "AC011523.1",
           1
          ],
          [
           "AC087457.1",
           1
          ],
          [
           "AL157413.1",
           1
          ],
          [
           "AL353730.1",
           1
          ],
          [
           "TEX13D",
           1
          ],
          [
           "SMIM10L2B",
           1
          ],
          [
           "LINC02593",
           1
          ],
          [
           "AC073342.2",
           1
          ],
          [
           "LINC02295",
           1
          ],
          [
           "SCGB3A1",
           1
          ],
          [
           "AC007271.1",
           1
          ],
          [
           "LINC00229",
           1
          ],
          [
           "AL109914.1",
           1
          ],
          [
           "AC103874.1",
           1
          ],
          [
           "AL365226.2",
           1
          ],
          [
           "AC105343.2",
           1
          ],
          [
           "C2orf78",
           1
          ],
          [
           "KRT73",
           1
          ],
          [
           "PLPPR4",
           1
          ],
          [
           "AC067960.1",
           1
          ],
          [
           "AC010280.2",
           1
          ],
          [
           "LINC01333",
           1
          ],
          [
           "AL136972.1",
           1
          ],
          [
           "CNGA3",
           1
          ],
          [
           "ALOX15",
           1
          ],
          [
           "AL034374.1",
           1
          ],
          [
           "NCR2",
           1
          ],
          [
           "AL133553.2",
           1
          ],
          [
           "BX324167.2",
           1
          ],
          [
           "MLN",
           1
          ],
          [
           "IGLV3-9",
           1
          ],
          [
           "AC005772.2",
           1
          ],
          [
           "LINC02477",
           1
          ],
          [
           "AC025265.2",
           1
          ],
          [
           "GK3P",
           1
          ],
          [
           "GSTT2B",
           1
          ],
          [
           "OR11A1",
           1
          ],
          [
           "AL645929.2",
           1
          ],
          [
           "AC025187.1",
           1
          ],
          [
           "AC004882.3",
           1
          ],
          [
           "AC019193.4",
           1
          ],
          [
           "AC092675.1",
           1
          ],
          [
           "AL008720.1",
           1
          ],
          [
           "AC103740.2",
           1
          ],
          [
           "NR2E1",
           1
          ],
          [
           "AL353135.1",
           1
          ],
          [
           "AC010271.2",
           1
          ],
          [
           "AC099520.2",
           1
          ],
          [
           "AC009434.1",
           1
          ],
          [
           "AC027306.1",
           1
          ],
          [
           "AC123595.1",
           1
          ],
          [
           "AL355482.2",
           1
          ],
          [
           "MB",
           1
          ],
          [
           "LINC02485",
           1
          ],
          [
           "AC079304.1",
           1
          ],
          [
           "LINC02181",
           1
          ],
          [
           "IFITM3",
           1
          ],
          [
           "CLMP",
           1
          ],
          [
           "LINC02054",
           1
          ],
          [
           "AC018754.1",
           1
          ],
          [
           "ANKRD34C-AS1",
           1
          ],
          [
           "TMIGD2",
           1
          ],
          [
           "ZNF835",
           1
          ],
          [
           "AC121320.1",
           1
          ],
          [
           "AC126696.3",
           1
          ],
          [
           "EYA4",
           1
          ],
          [
           "AC016152.1",
           1
          ],
          [
           "THSD8",
           1
          ],
          [
           "CACNA1S",
           1
          ],
          [
           "MYBPC1",
           1
          ],
          [
           "AC012447.1",
           1
          ],
          [
           "LRRTM4",
           1
          ],
          [
           "TMEM221",
           1
          ],
          [
           "AL138921.1",
           1
          ],
          [
           "ZNF703",
           1
          ],
          [
           "NXPH2",
           1
          ],
          [
           "AC012370.1",
           1
          ],
          [
           "AL109976.1",
           1
          ],
          [
           "CYP11A1",
           1
          ],
          [
           "AC012178.1",
           1
          ],
          [
           "LINC01608",
           1
          ],
          [
           "AC007920.1",
           1
          ],
          [
           "HIST2H2AB",
           1
          ],
          [
           "AC093627.4",
           1
          ],
          [
           "LINC02794",
           1
          ],
          [
           "AC092131.1",
           1
          ],
          [
           "OOSP4B",
           1
          ],
          [
           "WT1-AS",
           1
          ],
          [
           "AC092944.3",
           1
          ],
          [
           "HIST1H3I",
           1
          ],
          [
           "PAX2",
           1
          ],
          [
           "IL1R2",
           1
          ],
          [
           "AC055788.1",
           1
          ],
          [
           "AC068492.1",
           1
          ],
          [
           "AC005096.1",
           1
          ],
          [
           "AP001439.1",
           1
          ],
          [
           "AC016168.2",
           1
          ],
          [
           "PLIN1",
           1
          ],
          [
           "LINC01107",
           1
          ],
          [
           "DSEL",
           1
          ],
          [
           "AC002128.2",
           1
          ],
          [
           "LINGO2",
           1
          ],
          [
           "ABLIM2",
           1
          ],
          [
           "PDE1A",
           1
          ],
          [
           "FOS",
           1
          ],
          [
           "AF241728.2",
           1
          ],
          [
           "AC002059.1",
           1
          ],
          [
           "FZD5",
           1
          ],
          [
           "GALNT18",
           1
          ],
          [
           "ERBB2",
           1
          ],
          [
           "IFITM2",
           1
          ],
          [
           "FER1L6-AS1",
           1
          ],
          [
           "ANKK1",
           1
          ],
          [
           "SLC16A12",
           1
          ],
          [
           "SPP1",
           1
          ],
          [
           "ANKRD30A",
           1
          ],
          [
           "AC079822.1",
           1
          ],
          [
           "DLC1",
           1
          ],
          [
           "PLA2G12B",
           1
          ],
          [
           "LINC00507",
           1
          ],
          [
           "AC025259.3",
           1
          ],
          [
           "AC096759.1",
           1
          ],
          [
           "KIAA1755",
           1
          ],
          [
           "FO681492.1",
           1
          ],
          [
           "LINC01509",
           1
          ],
          [
           "AC245052.4",
           1
          ],
          [
           "ZIM2",
           1
          ],
          [
           "AL161757.4",
           1
          ],
          [
           "PTPRZ1",
           1
          ],
          [
           "IZUMO2",
           1
          ],
          [
           "CCDC172",
           1
          ],
          [
           "LINC01271",
           1
          ],
          [
           "C3orf85",
           1
          ],
          [
           "AC005695.3",
           1
          ],
          [
           "LINC02650",
           1
          ],
          [
           "CCER1",
           1
          ],
          [
           "AC138207.9",
           1
          ],
          [
           "AC068643.1",
           1
          ],
          [
           "LINC02671",
           1
          ],
          [
           "AC096669.1",
           1
          ],
          [
           "AC012322.1",
           1
          ],
          [
           "LINC02211",
           1
          ],
          [
           "AL365214.2",
           1
          ],
          [
           "ERICH3",
           1
          ],
          [
           "AC005291.1",
           1
          ],
          [
           "AC010623.1",
           1
          ],
          [
           "CIDEC",
           1
          ],
          [
           "AL157769.1",
           1
          ],
          [
           "LINC02046",
           1
          ],
          [
           "JPH4",
           1
          ],
          [
           "PRR23A",
           1
          ],
          [
           "STARD10",
           1
          ],
          [
           "HEXB",
           1
          ],
          [
           "TTC6",
           1
          ],
          [
           "DGCR9",
           1
          ],
          [
           "TRPM1",
           1
          ],
          [
           "BTBD2",
           1
          ],
          [
           "EGR1",
           1
          ],
          [
           "EML1",
           1
          ],
          [
           "TNFSF14",
           1
          ],
          [
           "CLIC1",
           1
          ],
          [
           "TAFA4",
           1
          ],
          [
           "AC090515.6",
           1
          ],
          [
           "PLPPR3",
           1
          ],
          [
           "LINC01679",
           1
          ],
          [
           "FAM71F1",
           1
          ],
          [
           "AC013472.1",
           1
          ],
          [
           "AC000068.3",
           1
          ],
          [
           "AC104623.1",
           1
          ],
          [
           "OLR1",
           1
          ],
          [
           "HIST1H2AM",
           1
          ],
          [
           "MIR217HG",
           1
          ],
          [
           "AC004522.3",
           1
          ],
          [
           "AC012146.3",
           1
          ],
          [
           "UROC1",
           1
          ],
          [
           "TSPAN1",
           1
          ],
          [
           "AC092017.4",
           1
          ],
          [
           "AL020994.2",
           1
          ],
          [
           "AGXT2",
           1
          ],
          [
           "AP000753.1",
           1
          ],
          [
           "AC009878.2",
           1
          ],
          [
           "AC006004.1",
           1
          ],
          [
           "C20orf173",
           1
          ],
          [
           "HIST1H4F",
           1
          ],
          [
           "AC096531.2",
           1
          ],
          [
           "AL121906.2",
           1
          ],
          [
           "MAGEB17",
           1
          ],
          [
           "AC008897.2",
           1
          ],
          [
           "SLC36A2",
           1
          ],
          [
           "AC097511.1",
           1
          ],
          [
           "AL049712.1",
           1
          ],
          [
           "GPR17",
           1
          ],
          [
           "AC013270.1",
           1
          ],
          [
           "PRNT",
           1
          ],
          [
           "HCAR1",
           1
          ],
          [
           "RPRML",
           1
          ],
          [
           "LINC02668",
           1
          ],
          [
           "LINC01787",
           1
          ],
          [
           "RAG2",
           1
          ],
          [
           "GGT6",
           1
          ],
          [
           "TRAV13-1",
           1
          ],
          [
           "AC003101.2",
           1
          ],
          [
           "PRRT1",
           1
          ],
          [
           "AC009318.4",
           1
          ],
          [
           "AC010343.3",
           1
          ],
          [
           "ACTN1",
           1
          ],
          [
           "GPR171",
           1
          ],
          [
           "SLIT2",
           1
          ],
          [
           "CALD1",
           1
          ],
          [
           "AC132803.1",
           1
          ],
          [
           "NRAD1",
           1
          ],
          [
           "F10",
           1
          ],
          [
           "AC002563.1",
           1
          ],
          [
           "LBX2",
           1
          ],
          [
           "AC021351.1",
           1
          ],
          [
           "NUAK1",
           1
          ],
          [
           "PRDM12",
           1
          ],
          [
           "LINC01111",
           1
          ],
          [
           "LGR5",
           1
          ],
          [
           "AC022509.5",
           1
          ],
          [
           "NDST4",
           1
          ],
          [
           "CA5A",
           1
          ],
          [
           "AC024558.2",
           1
          ],
          [
           "FAM71E2",
           1
          ],
          [
           "FAM183A",
           1
          ],
          [
           "AC011362.1",
           1
          ],
          [
           "CSNK1G2-AS1",
           1
          ],
          [
           "SPACA7",
           1
          ],
          [
           "HTR3D",
           1
          ],
          [
           "UGT2B15",
           1
          ],
          [
           "AC104695.2",
           1
          ],
          [
           "AC113346.2",
           1
          ],
          [
           "AL158817.1",
           1
          ],
          [
           "AC005394.1",
           1
          ],
          [
           "AC008154.1",
           1
          ],
          [
           "CCL23",
           1
          ],
          [
           "AC022463.1",
           1
          ],
          [
           "AL353688.1",
           1
          ],
          [
           "IL1A",
           1
          ],
          [
           "PDLIM4",
           1
          ],
          [
           "AC011586.1",
           1
          ],
          [
           "SLC22A11",
           1
          ],
          [
           "AL121790.2",
           1
          ],
          [
           "AC003092.2",
           1
          ],
          [
           "AC004672.2",
           1
          ],
          [
           "AL023553.1",
           1
          ],
          [
           "AL132633.1",
           1
          ],
          [
           "AC096747.1",
           1
          ],
          [
           "LRRC18",
           1
          ],
          [
           "MGP",
           1
          ],
          [
           "AC096759.2",
           1
          ],
          [
           "AL132819.1",
           1
          ],
          [
           "TSPAN19",
           1
          ],
          [
           "ANXA8",
           1
          ],
          [
           "TECTB",
           1
          ],
          [
           "BHLHE22",
           1
          ],
          [
           "LINC00592",
           1
          ],
          [
           "POTEF",
           1
          ],
          [
           "LINC02654",
           1
          ],
          [
           "AKAIN1",
           1
          ],
          [
           "EXD1",
           1
          ],
          [
           "HCN1",
           1
          ],
          [
           "SPATA16",
           1
          ],
          [
           "AC013264.1",
           1
          ],
          [
           "AC103876.1",
           1
          ],
          [
           "AC037486.1",
           1
          ],
          [
           "PARD3B",
           1
          ],
          [
           "AC021723.2",
           1
          ],
          [
           "MGAT4C",
           1
          ],
          [
           "OTX1",
           1
          ],
          [
           "SNAI1",
           1
          ],
          [
           "SPOCD1",
           1
          ],
          [
           "AL161734.2",
           1
          ],
          [
           "AL354994.1",
           1
          ],
          [
           "AC022150.2",
           1
          ],
          [
           "RGS8",
           1
          ],
          [
           "SLC34A1",
           1
          ],
          [
           "AL390860.1",
           1
          ],
          [
           "LRFN2",
           1
          ],
          [
           "CASC17",
           1
          ],
          [
           "IL5RA",
           1
          ],
          [
           "SLC4A10",
           1
          ],
          [
           "LINC01756",
           1
          ],
          [
           "S100A12",
           1
          ],
          [
           "AL133244.2",
           1
          ],
          [
           "LINC01918",
           1
          ],
          [
           "LINC01763",
           1
          ],
          [
           "AC093798.1",
           1
          ],
          [
           "AL357835.1",
           1
          ],
          [
           "LINC00303",
           1
          ],
          [
           "AL391730.2",
           1
          ],
          [
           "AL390786.1",
           1
          ],
          [
           "AC009511.2",
           1
          ],
          [
           "TRAV1-2",
           1
          ],
          [
           "AC106045.1",
           1
          ],
          [
           "AL161716.1",
           1
          ],
          [
           "OR10H5",
           1
          ],
          [
           "GPR12",
           1
          ],
          [
           "AC112242.1",
           1
          ],
          [
           "AC022517.1",
           1
          ],
          [
           "LINC02220",
           1
          ],
          [
           "AC007406.3",
           1
          ],
          [
           "AP002761.4",
           1
          ],
          [
           "POM121L2",
           1
          ],
          [
           "AL645937.2",
           1
          ],
          [
           "AC007948.1",
           1
          ],
          [
           "SERPINB2",
           1
          ],
          [
           "AP001269.2",
           1
          ],
          [
           "LPA",
           1
          ],
          [
           "AC005009.2",
           1
          ],
          [
           "AP001464.1",
           1
          ],
          [
           "AC025822.1",
           1
          ],
          [
           "IGHV3-64",
           1
          ],
          [
           "NKX6-3",
           1
          ],
          [
           "AC023644.1",
           1
          ],
          [
           "IGLV7-46",
           1
          ],
          [
           "AP000345.3",
           1
          ],
          [
           "PEX5L-AS1",
           1
          ],
          [
           "IGLV1-44",
           1
          ],
          [
           "ZNF385D-AS2",
           1
          ],
          [
           "MYL1",
           1
          ],
          [
           "LINC00994",
           1
          ],
          [
           "DAW1",
           1
          ],
          [
           "AL355053.1",
           1
          ],
          [
           "AL050349.1",
           1
          ],
          [
           "AC131097.3",
           1
          ],
          [
           "CCR2",
           1
          ],
          [
           "TNFRSF9",
           1
          ],
          [
           "SERPINH1",
           1
          ],
          [
           "AC108134.2",
           1
          ],
          [
           "PRB1",
           1
          ],
          [
           "CYP2E1",
           1
          ],
          [
           "ACVRL1",
           1
          ],
          [
           "SCN1B",
           1
          ],
          [
           "IDI2-AS1",
           1
          ],
          [
           "AL139424.2",
           1
          ],
          [
           "AL844892.2",
           1
          ],
          [
           "AC090771.2",
           1
          ],
          [
           "AL162311.3",
           1
          ],
          [
           "ANKRD18A",
           1
          ],
          [
           "TM4SF20",
           1
          ],
          [
           "RAB25",
           1
          ],
          [
           "AC090679.2",
           1
          ],
          [
           "AC012181.2",
           1
          ],
          [
           "UBASH3B",
           1
          ],
          [
           "CARD9",
           1
          ],
          [
           "TNC",
           1
          ],
          [
           "HKDC1",
           1
          ],
          [
           "PDE2A",
           1
          ],
          [
           "HS3ST2",
           1
          ],
          [
           "AC069277.1",
           1
          ],
          [
           "LINC02843",
           1
          ],
          [
           "DPYSL3",
           1
          ],
          [
           "PRELP",
           1
          ],
          [
           "MPIG6B",
           1
          ],
          [
           "AC011444.3",
           1
          ],
          [
           "AC138123.2",
           1
          ],
          [
           "GADD45B",
           1
          ],
          [
           "HIST2H2AC",
           1
          ],
          [
           "IL1B",
           1
          ],
          [
           "NTSR1",
           1
          ],
          [
           "AL645939.5",
           1
          ],
          [
           "PEAK3",
           1
          ],
          [
           "AC005523.1",
           1
          ],
          [
           "LINC01477",
           1
          ],
          [
           "AC119868.2",
           1
          ],
          [
           "CATSPER1",
           1
          ],
          [
           "MISP",
           1
          ],
          [
           "OR6N1",
           1
          ],
          [
           "AC002456.1",
           1
          ],
          [
           "AP005717.1",
           1
          ],
          [
           "AC092933.2",
           1
          ],
          [
           "A1CF",
           1
          ],
          [
           "AC243830.2",
           1
          ],
          [
           "AC079352.1",
           1
          ],
          [
           "AC067852.2",
           1
          ],
          [
           "SYNPO",
           1
          ],
          [
           "ANKRD24",
           1
          ],
          [
           "AC006387.1",
           1
          ],
          [
           "FGFR2",
           1
          ],
          [
           "AC124947.1",
           1
          ],
          [
           "LINC00870",
           1
          ],
          [
           "AL136115.3",
           1
          ],
          [
           "CFD",
           1
          ],
          [
           "RFTN2",
           1
          ],
          [
           "AL356417.3",
           1
          ],
          [
           "AC117460.1",
           1
          ],
          [
           "CR559946.2",
           1
          ],
          [
           "GIP",
           1
          ],
          [
           "LINC02719",
           1
          ],
          [
           "QRFPR",
           1
          ],
          [
           "TPD52L1",
           1
          ],
          [
           "TNIP3",
           1
          ],
          [
           "ZBBX",
           1
          ],
          [
           "MFGE8",
           1
          ],
          [
           "CD36",
           1
          ],
          [
           "AC002091.1",
           1
          ],
          [
           "AC110809.1",
           1
          ],
          [
           "LTBP2",
           1
          ],
          [
           "USB1",
           1
          ],
          [
           "AC105290.1",
           1
          ],
          [
           "GNLY",
           1
          ],
          [
           "AC069360.1",
           1
          ],
          [
           "LAMA2",
           1
          ],
          [
           "UBD",
           1
          ],
          [
           "LINC01259",
           1
          ],
          [
           "TMEM37",
           1
          ],
          [
           "AC009060.1",
           1
          ],
          [
           "LINC02068",
           1
          ],
          [
           "NMNAT3",
           1
          ],
          [
           "IL18BP",
           1
          ],
          [
           "FBXO4",
           1
          ],
          [
           "LINC01841",
           1
          ],
          [
           "GLB1L2",
           1
          ],
          [
           "PRELID2",
           1
          ],
          [
           "CLEC12B",
           1
          ],
          [
           "AC112187.3",
           1
          ],
          [
           "AC138123.1",
           1
          ],
          [
           "SLC11A1",
           1
          ],
          [
           "ENOX1",
           1
          ],
          [
           "LINC01137",
           1
          ],
          [
           "AC010148.1",
           1
          ],
          [
           "PARD6A",
           1
          ],
          [
           "RGL4",
           1
          ],
          [
           "SDK1",
           1
          ],
          [
           "LINC02457",
           1
          ],
          [
           "AL008633.1",
           1
          ],
          [
           "AKR1B1",
           1
          ],
          [
           "AC008957.1",
           1
          ],
          [
           "AC005759.1",
           1
          ],
          [
           "AC093425.1",
           1
          ],
          [
           "HHIPL2",
           1
          ],
          [
           "CCL3L1",
           1
          ],
          [
           "LINC02273",
           1
          ],
          [
           "RPS14",
           1
          ],
          [
           "AC009570.2",
           1
          ],
          [
           "LGALS1",
           1
          ],
          [
           "MYO10",
           1
          ],
          [
           "DGCR6L",
           1
          ],
          [
           "DEPTOR",
           1
          ],
          [
           "Z69666.1",
           1
          ],
          [
           "FAM169A",
           1
          ],
          [
           "SYNM",
           1
          ],
          [
           "PLCB1",
           1
          ],
          [
           "CD8A",
           1
          ],
          [
           "AP000926.2",
           1
          ],
          [
           "LARGE-AS1",
           1
          ],
          [
           "AC007368.1",
           1
          ],
          [
           "EPHB2",
           1
          ],
          [
           "MIR646HG",
           1
          ],
          [
           "SLC46A1",
           1
          ],
          [
           "IFITM1",
           1
          ],
          [
           "TRAPPC1",
           1
          ],
          [
           "LINC01010",
           1
          ],
          [
           "RPL26",
           1
          ],
          [
           "AL133405.2",
           1
          ],
          [
           "PGBD5",
           1
          ],
          [
           "ZBTB16",
           1
          ],
          [
           "RPS7",
           1
          ],
          [
           "DBNDD1",
           1
          ],
          [
           "IL7R",
           1
          ],
          [
           "LINC02319",
           1
          ],
          [
           "CD59",
           1
          ],
          [
           "AL627171.2",
           1
          ],
          [
           "DIRAS1",
           1
          ],
          [
           "TMC3-AS1",
           1
          ],
          [
           "TAGLN2",
           1
          ],
          [
           "CYB5R3",
           1
          ],
          [
           "AC002460.2",
           1
          ],
          [
           "JUP",
           1
          ],
          [
           "RILPL1",
           1
          ],
          [
           "GZMB",
           1
          ],
          [
           "ITPRID1",
           1
          ],
          [
           "AL117335.1",
           1
          ],
          [
           "INSR",
           1
          ],
          [
           "DLG4",
           1
          ],
          [
           "NRP1",
           1
          ],
          [
           "AC079209.2",
           1
          ],
          [
           "SLC25A6",
           1
          ],
          [
           "AL161785.1",
           1
          ],
          [
           "TTC16",
           1
          ],
          [
           "SLC15A3",
           1
          ],
          [
           "ANAPC11",
           1
          ],
          [
           "TRBC1",
           1
          ],
          [
           "HIST1H1D",
           1
          ],
          [
           "CCL3",
           1
          ],
          [
           "RPS5",
           1
          ],
          [
           "RPS24",
           1
          ],
          [
           "VCAN",
           1
          ],
          [
           "GABARAP",
           1
          ],
          [
           "ICOS",
           1
          ],
          [
           "RPS13",
           1
          ],
          [
           "RGPD8",
           1
          ],
          [
           "S100Z",
           1
          ],
          [
           "AC092674.1",
           1
          ],
          [
           "RGS7",
           1
          ],
          [
           "AC009495.3",
           1
          ],
          [
           "AL031602.2",
           1
          ],
          [
           "RPL32",
           1
          ],
          [
           "SH3BGRL3",
           1
          ],
          [
           "SLC30A4",
           1
          ],
          [
           "JUN",
           1
          ],
          [
           "CCL5",
           1
          ],
          [
           "ACOD1",
           1
          ],
          [
           "LDLRAD3",
           1
          ],
          [
           "CCL2",
           1
          ],
          [
           "ZNF385A",
           1
          ],
          [
           "EEF1B2",
           1
          ],
          [
           "RPL10",
           1
          ],
          [
           "IL17RC",
           1
          ],
          [
           "NELL2",
           1
          ],
          [
           "ZNF358",
           1
          ],
          [
           "SPARC",
           1
          ],
          [
           "NPC2",
           1
          ],
          [
           "GIMAP6",
           1
          ],
          [
           "HSD17B14",
           1
          ],
          [
           "RAB13",
           1
          ],
          [
           "TENM4",
           1
          ],
          [
           "ADAM12",
           1
          ],
          [
           "IFIT5",
           1
          ],
          [
           "ACSL1",
           1
          ],
          [
           "TTC23",
           1
          ],
          [
           "ADARB2",
           1
          ],
          [
           "TRIM47",
           1
          ],
          [
           "SNTG2",
           1
          ],
          [
           "ACAP3",
           1
          ],
          [
           "AL392086.3",
           1
          ],
          [
           "MIER2",
           1
          ],
          [
           "TNR",
           1
          ],
          [
           "RPLP2",
           1
          ],
          [
           "MINK1",
           1
          ],
          [
           "CRISPLD2",
           1
          ],
          [
           "AC005224.2",
           1
          ],
          [
           "GDPD5",
           1
          ],
          [
           "SMIM25",
           1
          ],
          [
           "SECTM1",
           1
          ],
          [
           "HOOK1",
           1
          ],
          [
           "TSHZ2",
           1
          ],
          [
           "SH3RF3",
           1
          ],
          [
           "GNB4",
           1
          ],
          [
           "PLD3",
           1
          ],
          [
           "FTL",
           1
          ],
          [
           "PTPRM",
           1
          ],
          [
           "GRIP1",
           1
          ],
          [
           "AGPAT4",
           1
          ],
          [
           "CCR5",
           1
          ],
          [
           "MTSS1",
           1
          ],
          [
           "NKG7",
           1
          ],
          [
           "RPLP1",
           1
          ],
          [
           "MARCO",
           1
          ],
          [
           "AIF1",
           1
          ],
          [
           "FAAH2",
           1
          ],
          [
           "RPS11",
           1
          ],
          [
           "ATP6V1B2",
           1
          ],
          [
           "AC139720.1",
           1
          ],
          [
           "HSPA1B",
           1
          ],
          [
           "AC008691.1",
           1
          ],
          [
           "RPS23",
           1
          ],
          [
           "VAMP5",
           1
          ],
          [
           "HPCAL1",
           1
          ],
          [
           "RPS21",
           1
          ],
          [
           "RPL11",
           1
          ],
          [
           "MT1X",
           1
          ],
          [
           "S100A9",
           1
          ],
          [
           "ZNF318",
           1
          ],
          [
           "CAMSAP2",
           1
          ],
          [
           "RPL27A",
           1
          ],
          [
           "RPL38",
           1
          ],
          [
           "MT1G",
           0.9917994530225974
          ],
          [
           "RRAS2",
           0.9575395050046416
          ],
          [
           "SLC2A5",
           0.9556471841936135
          ],
          [
           "IGHG1",
           0.9555110748506891
          ],
          [
           "S100A8",
           0.954515706952435
          ],
          [
           "LINC02694",
           0.9520861099466049
          ],
          [
           "PLCB2",
           0.9470163612349616
          ],
          [
           "RPL37",
           0.9455555416774338
          ],
          [
           "RPL30",
           0.9395671718178107
          ],
          [
           "HDAC9",
           0.9274792710064645
          ],
          [
           "ENPP2",
           0.9063056932492074
          ],
          [
           "HSPA1A",
           0.8766571329290159
          ],
          [
           "RPS28",
           0.8641393554132428
          ],
          [
           "LINC01781",
           0.8446730175913578
          ],
          [
           "NOP53",
           0.8413237875552139
          ],
          [
           "NBPF14",
           0.8351864917430927
          ],
          [
           "SESN3",
           0.8184872426230719
          ],
          [
           "MT2A",
           0.8183889131165181
          ],
          [
           "RPL36",
           0.7999061908115984
          ],
          [
           "IDO1",
           0.7608415384931361
          ],
          [
           "RPL31",
           0.76029458286421
          ],
          [
           "CST3",
           0.7567201120455006
          ],
          [
           "RPS27",
           0.7258673276583515
          ],
          [
           "CD14",
           0.7207002146765583
          ],
          [
           "MPP7",
           0.6638541567122138
          ],
          [
           "LY6E",
           0.6638541567122138
          ],
          [
           "OSBPL6",
           0.6566067162560765
          ],
          [
           "EEF1A1",
           0.6297015604384933
          ],
          [
           "RPL3",
           0.6297015604384933
          ],
          [
           "RPL13A",
           0.6123995232676229
          ],
          [
           "CD68",
           0.6021800492115099
          ],
          [
           "UBA52",
           0.5747452905686977
          ],
          [
           "RPS15A",
           0.5579949305636757
          ],
          [
           "RPS26",
           0.5516275416968899
          ],
          [
           "CLEC4E",
           0.5508919575880646
          ],
          [
           "RPL18A",
           0.5064403302242033
          ],
          [
           "RPS3A",
           0.5047094140198795
          ],
          [
           "AL589693.1",
           0.5019237971737679
          ],
          [
           "RPL34",
           0.48268344697379245
          ],
          [
           "SLC12A7",
           0.4682596302260463
          ],
          [
           "TPT1",
           0.45679647458346995
          ],
          [
           "STAB1",
           0.45679647458346995
          ],
          [
           "RBM47",
           0.43796336882843806
          ],
          [
           "RPS2",
           0.4376259312614065
          ],
          [
           "CAPG",
           0.42897175988295083
          ],
          [
           "STAP1",
           0.4272334935548196
          ],
          [
           "MT1H",
           0.4125942226692087
          ],
          [
           "APOC1",
           0.41097141675389665
          ],
          [
           "SEMA3A",
           0.3985578125930704
          ],
          [
           "TCF7L2",
           0.39367426453598253
          ],
          [
           "RPS16",
           0.35605230771778157
          ],
          [
           "PPM1H",
           0.34556980670053167
          ],
          [
           "CTSB",
           0.3410028334729043
          ],
          [
           "KIAA0930",
           0.3375680059324905
          ],
          [
           "DENND5B",
           0.3375680059324905
          ],
          [
           "RPL37A",
           0.32234177077929765
          ],
          [
           "RPL21",
           0.3202155630313834
          ],
          [
           "CEP112",
           0.31572989967879733
          ],
          [
           "RPS19",
           0.31069544040448843
          ],
          [
           "LILRB3",
           0.2967814890410627
          ],
          [
           "THEMIS2",
           0.29439099696054555
          ],
          [
           "CXCL10",
           0.25602533763094737
          ],
          [
           "ITGAX",
           0.22503951505434125
          ],
          [
           "LILRB2",
           0.21034860891133417
          ],
          [
           "C1QC",
           0.18239499955369973
          ],
          [
           "APOE",
           0.16613848989098337
          ],
          [
           "LGMN",
           0.15559292083269635
          ],
          [
           "SAT1",
           0.15559292083269635
          ],
          [
           "ADGRG5",
           0.13843677834878795
          ],
          [
           "SLC2A9",
           0.11592226042226432
          ],
          [
           "RPL28",
           0.11283452354441041
          ],
          [
           "PDE7B",
           0.1088830720765094
          ],
          [
           "FGR",
           0.08494922725369097
          ],
          [
           "RPL9",
           0.07830798180087171
          ],
          [
           "FTH1",
           0.06473280923817655
          ],
          [
           "KLF2",
           0.06457619306548021
          ],
          [
           "PSTPIP2",
           0.06281297067523182
          ],
          [
           "PSAP",
           0.05789304056149477
          ],
          [
           "MAML3",
           0.05047358321755863
          ],
          [
           "TNS3",
           0.03870876874300095
          ],
          [
           "PRKN",
           0.037833153051340246
          ],
          [
           "RPL39",
           0.026692798150787643
          ],
          [
           "LTB",
           0.025267662736470277
          ],
          [
           "RPS29",
           0.02449855899294785
          ],
          [
           "RPS27A",
           0.022720043571890107
          ],
          [
           "RPS12",
           0.01967422204099588
          ],
          [
           "RPL41",
           0.00801784376581004
          ],
          [
           "TMSB10",
           0.0029891006174763844
          ],
          [
           "FAM117B",
           0.0026832019796106193
          ],
          [
           "PTMA",
           0.0015864163962356515
          ],
          [
           "RPL13",
           0.0010557131387965706
          ],
          [
           "CXCR4",
           0.00022242302633370255
          ],
          [
           "RALGPS2",
           0.000032495875354443464
          ],
          [
           "MEF2C",
           8.229809813122941e-17
          ]
         ],
         "hovertemplate": "regulation=Not significant<br>Log2 Fold Change=%{x}<br>-Log10 Adjusted P-Value=%{y}<br>names=%{customdata[0]}<br>pvals_adj=%{customdata[1]}<extra></extra>",
         "legendgroup": "Not significant",
         "marker": {
          "color": "lightgray",
          "symbol": "circle"
         },
         "mode": "markers",
         "name": "Not significant",
         "showlegend": true,
         "type": "scattergl",
         "x": {
          "bdata": "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",
          "dtype": "f4"
         },
         "xaxis": "x",
         "y": {
          "bdata": "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",
          "dtype": "f8"
         },
         "yaxis": "y"
        },
        {
         "customdata": [
          [
           "ADGRE2",
           0.0473523424001914
          ],
          [
           "C1QA",
           0.0473523424001914
          ],
          [
           "PTGDS",
           0.035036439407410074
          ],
          [
           "SERPING1",
           0.03499593932349677
          ],
          [
           "AC087500.1",
           0.03252826096418976
          ],
          [
           "PIK3R6",
           0.029377577497070324
          ],
          [
           "C1QB",
           0.027256930102311075
          ],
          [
           "CHI3L1",
           0.025437794302291553
          ],
          [
           "CDC42BPB",
           0.02376732436861447
          ],
          [
           "KIF13A",
           0.015022568760615989
          ],
          [
           "MACROD2",
           0.014767259956886963
          ],
          [
           "LYZ",
           0.008569504784274705
          ],
          [
           "TMEM176B",
           0.008257034325725656
          ],
          [
           "SCO2",
           0.00687221507369362
          ],
          [
           "SIGLEC1",
           0.006428768366005016
          ],
          [
           "IL18",
           0.006415238482073525
          ],
          [
           "TBXAS1",
           0.005663538218812252
          ],
          [
           "APP",
           0.005248368554810251
          ],
          [
           "RGL1",
           0.004637898738579048
          ],
          [
           "CXCL9",
           0.0023512915757232518
          ],
          [
           "SLCO2B1",
           0.0015057862232046226
          ],
          [
           "RAP1GAP2",
           0.0014699049082187877
          ],
          [
           "PLCL1",
           0.00048289078044755476
          ],
          [
           "NR1H3",
           0.00044647000461743493
          ],
          [
           "NPL",
           0.0003903411578467468
          ],
          [
           "FRMD4B",
           0.00034348975474160633
          ],
          [
           "FAM20A",
           0.0003018770027502529
          ],
          [
           "MYOF",
           0.00010652959062572032
          ],
          [
           "FMNL2",
           0.0000815229174077438
          ],
          [
           "NR3C2",
           0.0000619760701255427
          ],
          [
           "AC119396.1",
           0.000056502860025200634
          ],
          [
           "IGF1R",
           0.00004223595041000863
          ],
          [
           "FMN1",
           0.00003467506347623606
          ],
          [
           "ANKRD22",
           0.00003146758625429958
          ],
          [
           "SLC1A3",
           0.000018181525211223837
          ],
          [
           "RASSF4",
           0.000014479555368950696
          ],
          [
           "LRMDA",
           0.000006673660694820887
          ],
          [
           "PLXDC2",
           0.00000650498361654117
          ],
          [
           "TNFAIP2",
           0.0000059763934191373794
          ],
          [
           "DOCK4",
           0.00000461296801210551
          ],
          [
           "DAPK1",
           0.00000461296801210551
          ],
          [
           "GAS7",
           0.000003994554768586127
          ],
          [
           "SLC8A1",
           0.0000039577451186969936
          ],
          [
           "DDX58",
           0.000003925559251547715
          ],
          [
           "ABCA1",
           4.068964120507243e-7
          ],
          [
           "KCNMA1",
           3.439537217800742e-7
          ],
          [
           "COL19A1",
           3.159314846095356e-7
          ],
          [
           "AL162414.1",
           7.739693104076136e-8
          ],
          [
           "SELL",
           3.051063023285848e-8
          ],
          [
           "TYMP",
           1.1173443970125112e-11
          ],
          [
           "SAMD4A",
           5.409043384133196e-13
          ],
          [
           "COBLL1",
           1.4581015201688173e-13
          ],
          [
           "PDE4D",
           6.215933468860208e-14
          ],
          [
           "HVCN1",
           3.75875630959831e-15
          ],
          [
           "STEAP1B",
           1.8389396961074354e-17
          ],
          [
           "GBP1",
           3.4150495505713158e-18
          ],
          [
           "TFEC",
           1.0191341672280231e-25
          ],
          [
           "IFI44L",
           3.145975878669949e-27
          ],
          [
           "FCRL1",
           3.691948231697602e-34
          ],
          [
           "LARGE1",
           1.2550823333697694e-40
          ],
          [
           "GNG7",
           4.79514769062334e-49
          ],
          [
           "CDK14",
           1.0273123559070709e-51
          ],
          [
           "CCSER1",
           3.95128389544209e-101
          ],
          [
           "BANK1",
           1.3724842844877607e-182
          ]
         ],
         "hovertemplate": "regulation=Downregulated<br>Log2 Fold Change=%{x}<br>-Log10 Adjusted P-Value=%{y}<br>names=%{customdata[0]}<br>pvals_adj=%{customdata[1]}<extra></extra>",
         "legendgroup": "Downregulated",
         "marker": {
          "color": "blue",
          "symbol": "circle"
         },
         "mode": "markers",
         "name": "Downregulated",
         "showlegend": true,
         "type": "scattergl",
         "x": {
          "bdata": "gfUOwOVdy7+1TuS/5C4ewCbT07/3XULAuQjev/9CLsC4Gj7A4UeOv6Tg579SOb+/N9YbwEXbzb/ELjnAJZW5vwf8rr8QVyfAlzTSvzPjwb+TKUrAlerYv0WFxb/DfNy/kUnPvxewur8fHBjAxkUOwHA52L8jEaa/2nYiwFYQK8BTAADAsx8xwFdwI8D+ggXAYywNwMaoH8DvuiHACA0hwLXEN8A7DgXAVEgFwP/ror/ICjLAdjg0wGUtur8iy0jA9jMSwMgzwr+cKte/u6eZwM6Iz78cst6/w+kmwJ+C9b+V/VvAkJmDwFBNjr/bXJPAjM9+wLw2GcB8cpLAqeYnwA==",
          "dtype": "f4"
         },
         "xaxis": "x",
         "y": {
          "bdata": "IuVDJc0x9T8i5UMlzTH1P7ZND2+lSfc/4fy9JLRL9z80oleSx833PyFl1awBg/g/CXfoVEkI+T9U06D6J4P5Pymugxb8+/k/B/XvRQ4s/T8/078qjEr9P8UuMIJOiQBAsTOpIViqAEANuhE5oE0BQPeBsk30iAFAZfY3A9SKAUBun7kVrfkBQPbABeNjPQJA0QwQwl+rAkBx8M52kAcFQK1gJ9PwkwZATUpHQmSpBkC+YYA4eocKQOp6l7M5zQpAHc2j07hEC0D/7vvUcrYLQIE3ot9OKQxACYJerL3HD0ATD6t92VoQQCNEBTnD1BBA8Zu2P+H9EECOaowlTX8RQHg20rYF1xFADt2yFjACEkBMHat4I/YSQOpGZ/tiWxNAvxM75NmzFEDH5+NiPL8UQKjnvSDt5BRAdEe/ghVYFUB0R7+CFVgVQGsrSKwYmBVAw/leozacFUAmAohG2J8VQPTJgXbjjxlAdTKVvZ/aGUDgBna3agAaQKceYWfycRxAEau9B+wPHkAvubgGVOclQMFrN2+kiChAYxCnAiSsKUCDZOOIuWkqQG0Lf8+T2SxAzXscTkW8MEBuoyhLc3cxQKvuqYzk/ThAbWFVGpOAOkDY3xwrZLdAQJekdLVe80NASET/etsoSEDsuzeIgH5JQArCbwrPGVlA/VQfipm7ZkA=",
          "dtype": "f8"
         },
         "yaxis": "y"
        }
       ],
       "layout": {
        "annotations": [
         {
          "arrowhead": 1,
          "ax": 20,
          "ay": -20,
          "font": {
           "size": 10
          },
          "showarrow": true,
          "text": "AC090125.1",
          "x": 3.980236291885376,
          "y": 228.43795366300841
         },
         {
          "arrowhead": 1,
          "ax": 20,
          "ay": -20,
          "font": {
           "size": 10
          },
          "showarrow": true,
          "text": "PRSS21",
          "x": 3.372960329055786,
          "y": 4.368002142293027
         },
         {
          "arrowhead": 1,
          "ax": 20,
          "ay": -20,
          "font": {
           "size": 10
          },
          "showarrow": true,
          "text": "PDGFD",
          "x": 3.3628604412078857,
          "y": 146.39897695161162
         },
         {
          "arrowhead": 1,
          "ax": 20,
          "ay": -20,
          "font": {
           "size": 10
          },
          "showarrow": true,
          "text": "DGKG",
          "x": 3.235677480697632,
          "y": 148.31678699066882
         },
         {
          "arrowhead": 1,
          "ax": 20,
          "ay": -20,
          "font": {
           "size": 10
          },
          "showarrow": true,
          "text": "LINC01320",
          "x": 3.2239439487457275,
          "y": 186.04586008099452
         },
         {
          "arrowhead": 1,
          "ax": 20,
          "ay": -20,
          "font": {
           "size": 10
          },
          "showarrow": true,
          "text": "GPM6A",
          "x": 3.22054123878479,
          "y": 186.56768684057582
         },
         {
          "arrowhead": 1,
          "ax": 20,
          "ay": -20,
          "font": {
           "size": 10
          },
          "showarrow": true,
          "text": "GRHPR",
          "x": 3.1693975925445557,
          "y": 151.06825318153224
         },
         {
          "arrowhead": 1,
          "ax": 20,
          "ay": -20,
          "font": {
           "size": 10
          },
          "showarrow": true,
          "text": "RHEX",
          "x": 3.0134165287017822,
          "y": 152.90861829268766
         },
         {
          "arrowhead": 1,
          "ax": 20,
          "ay": -20,
          "font": {
           "size": 10
          },
          "showarrow": true,
          "text": "ZNF804A",
          "x": 2.88033390045166,
          "y": 127.97220706951485
         },
         {
          "arrowhead": 1,
          "ax": 20,
          "ay": -20,
          "font": {
           "size": 10
          },
          "showarrow": true,
          "text": "FCRL5",
          "x": 2.877648115158081,
          "y": 174.24597003114962
         },
         {
          "arrowhead": 1,
          "ax": 20,
          "ay": -20,
          "font": {
           "size": 10
          },
          "showarrow": true,
          "text": "COBLL1",
          "x": -4.801724910736084,
          "y": 12.83621223725658
         },
         {
          "arrowhead": 1,
          "ax": 20,
          "ay": -20,
          "font": {
           "size": 10
          },
          "showarrow": true,
          "text": "LARGE1",
          "x": -4.6050848960876465,
          "y": 39.901327783541255
         },
         {
          "arrowhead": 1,
          "ax": 20,
          "ay": -20,
          "font": {
           "size": 10
          },
          "showarrow": true,
          "text": "CCSER1",
          "x": -4.576475143432617,
          "y": 100.40326176561226
         },
         {
          "arrowhead": 1,
          "ax": 20,
          "ay": -20,
          "font": {
           "size": 10
          },
          "showarrow": true,
          "text": "IFI44L",
          "x": -4.112495422363281,
          "y": 26.502244611592165
         },
         {
          "arrowhead": 1,
          "ax": 20,
          "ay": -20,
          "font": {
           "size": 10
          },
          "showarrow": true,
          "text": "GNG7",
          "x": -3.981417655944824,
          "y": 48.31919801201053
         },
         {
          "arrowhead": 1,
          "ax": 20,
          "ay": -20,
          "font": {
           "size": 10
          },
          "showarrow": true,
          "text": "TFEC",
          "x": -3.437352418899536,
          "y": 24.991768638121965
         },
         {
          "arrowhead": 1,
          "ax": 20,
          "ay": -20,
          "font": {
           "size": 10
          },
          "showarrow": true,
          "text": "AL162414.1",
          "x": -3.1373982429504395,
          "y": 7.111276259710997
         },
         {
          "arrowhead": 1,
          "ax": 20,
          "ay": -20,
          "font": {
           "size": 10
          },
          "showarrow": true,
          "text": "DAPK1",
          "x": -2.8713810443878174,
          "y": 5.336019556927443
         },
         {
          "arrowhead": 1,
          "ax": 20,
          "ay": -20,
          "font": {
           "size": 10
          },
          "showarrow": true,
          "text": "KCNMA1",
          "x": -2.815946102142334,
          "y": 6.463499986869114
         },
         {
          "arrowhead": 1,
          "ax": 20,
          "ay": -20,
          "font": {
           "size": 10
          },
          "showarrow": true,
          "text": "ABCA1",
          "x": -2.7819080352783203,
          "y": 6.390516139671025
         }
        ],
        "hovermode": "closest",
        "legend": {
         "title": {
          "text": "Gene Regulation"
         },
         "tracegroupgap": 0
        },
        "template": {
         "data": {
          "bar": [
           {
            "error_x": {
             "color": "rgb(36,36,36)"
            },
            "error_y": {
             "color": "rgb(36,36,36)"
            },
            "marker": {
             "line": {
              "color": "white",
              "width": 0.5
             },
             "pattern": {
              "fillmode": "overlay",
              "size": 10,
              "solidity": 0.2
             }
            },
            "type": "bar"
           }
          ],
          "barpolar": [
           {
            "marker": {
             "line": {
              "color": "white",
              "width": 0.5
             },
             "pattern": {
              "fillmode": "overlay",
              "size": 10,
              "solidity": 0.2
             }
            },
            "type": "barpolar"
           }
          ],
          "carpet": [
           {
            "aaxis": {
             "endlinecolor": "rgb(36,36,36)",
             "gridcolor": "white",
             "linecolor": "white",
             "minorgridcolor": "white",
             "startlinecolor": "rgb(36,36,36)"
            },
            "baxis": {
             "endlinecolor": "rgb(36,36,36)",
             "gridcolor": "white",
             "linecolor": "white",
             "minorgridcolor": "white",
             "startlinecolor": "rgb(36,36,36)"
            },
            "type": "carpet"
           }
          ],
          "choropleth": [
           {
            "colorbar": {
             "outlinewidth": 1,
             "tickcolor": "rgb(36,36,36)",
             "ticks": "outside"
            },
            "type": "choropleth"
           }
          ],
          "contour": [
           {
            "colorbar": {
             "outlinewidth": 1,
             "tickcolor": "rgb(36,36,36)",
             "ticks": "outside"
            },
            "colorscale": [
             [
              0,
              "#440154"
             ],
             [
              0.1111111111111111,
              "#482878"
             ],
             [
              0.2222222222222222,
              "#3e4989"
             ],
             [
              0.3333333333333333,
              "#31688e"
             ],
             [
              0.4444444444444444,
              "#26828e"
             ],
             [
              0.5555555555555556,
              "#1f9e89"
             ],
             [
              0.6666666666666666,
              "#35b779"
             ],
             [
              0.7777777777777778,
              "#6ece58"
             ],
             [
              0.8888888888888888,
              "#b5de2b"
             ],
             [
              1,
              "#fde725"
             ]
            ],
            "type": "contour"
           }
          ],
          "contourcarpet": [
           {
            "colorbar": {
             "outlinewidth": 1,
             "tickcolor": "rgb(36,36,36)",
             "ticks": "outside"
            },
            "type": "contourcarpet"
           }
          ],
          "heatmap": [
           {
            "colorbar": {
             "outlinewidth": 1,
             "tickcolor": "rgb(36,36,36)",
             "ticks": "outside"
            },
            "colorscale": [
             [
              0,
              "#440154"
             ],
             [
              0.1111111111111111,
              "#482878"
             ],
             [
              0.2222222222222222,
              "#3e4989"
             ],
             [
              0.3333333333333333,
              "#31688e"
             ],
             [
              0.4444444444444444,
              "#26828e"
             ],
             [
              0.5555555555555556,
              "#1f9e89"
             ],
             [
              0.6666666666666666,
              "#35b779"
             ],
             [
              0.7777777777777778,
              "#6ece58"
             ],
             [
              0.8888888888888888,
              "#b5de2b"
             ],
             [
              1,
              "#fde725"
             ]
            ],
            "type": "heatmap"
           }
          ],
          "histogram": [
           {
            "marker": {
             "line": {
              "color": "white",
              "width": 0.6
             }
            },
            "type": "histogram"
           }
          ],
          "histogram2d": [
           {
            "colorbar": {
             "outlinewidth": 1,
             "tickcolor": "rgb(36,36,36)",
             "ticks": "outside"
            },
            "colorscale": [
             [
              0,
              "#440154"
             ],
             [
              0.1111111111111111,
              "#482878"
             ],
             [
              0.2222222222222222,
              "#3e4989"
             ],
             [
              0.3333333333333333,
              "#31688e"
             ],
             [
              0.4444444444444444,
              "#26828e"
             ],
             [
              0.5555555555555556,
              "#1f9e89"
             ],
             [
              0.6666666666666666,
              "#35b779"
             ],
             [
              0.7777777777777778,
              "#6ece58"
             ],
             [
              0.8888888888888888,
              "#b5de2b"
             ],
             [
              1,
              "#fde725"
             ]
            ],
            "type": "histogram2d"
           }
          ],
          "histogram2dcontour": [
           {
            "colorbar": {
             "outlinewidth": 1,
             "tickcolor": "rgb(36,36,36)",
             "ticks": "outside"
            },
            "colorscale": [
             [
              0,
              "#440154"
             ],
             [
              0.1111111111111111,
              "#482878"
             ],
             [
              0.2222222222222222,
              "#3e4989"
             ],
             [
              0.3333333333333333,
              "#31688e"
             ],
             [
              0.4444444444444444,
              "#26828e"
             ],
             [
              0.5555555555555556,
              "#1f9e89"
             ],
             [
              0.6666666666666666,
              "#35b779"
             ],
             [
              0.7777777777777778,
              "#6ece58"
             ],
             [
              0.8888888888888888,
              "#b5de2b"
             ],
             [
              1,
              "#fde725"
             ]
            ],
            "type": "histogram2dcontour"
           }
          ],
          "mesh3d": [
           {
            "colorbar": {
             "outlinewidth": 1,
             "tickcolor": "rgb(36,36,36)",
             "ticks": "outside"
            },
            "type": "mesh3d"
           }
          ],
          "parcoords": [
           {
            "line": {
             "colorbar": {
              "outlinewidth": 1,
              "tickcolor": "rgb(36,36,36)",
              "ticks": "outside"
             }
            },
            "type": "parcoords"
           }
          ],
          "pie": [
           {
            "automargin": true,
            "type": "pie"
           }
          ],
          "scatter": [
           {
            "fillpattern": {
             "fillmode": "overlay",
             "size": 10,
             "solidity": 0.2
            },
            "type": "scatter"
           }
          ],
          "scatter3d": [
           {
            "line": {
             "colorbar": {
              "outlinewidth": 1,
              "tickcolor": "rgb(36,36,36)",
              "ticks": "outside"
             }
            },
            "marker": {
             "colorbar": {
              "outlinewidth": 1,
              "tickcolor": "rgb(36,36,36)",
              "ticks": "outside"
             }
            },
            "type": "scatter3d"
           }
          ],
          "scattercarpet": [
           {
            "marker": {
             "colorbar": {
              "outlinewidth": 1,
              "tickcolor": "rgb(36,36,36)",
              "ticks": "outside"
             }
            },
            "type": "scattercarpet"
           }
          ],
          "scattergeo": [
           {
            "marker": {
             "colorbar": {
              "outlinewidth": 1,
              "tickcolor": "rgb(36,36,36)",
              "ticks": "outside"
             }
            },
            "type": "scattergeo"
           }
          ],
          "scattergl": [
           {
            "marker": {
             "colorbar": {
              "outlinewidth": 1,
              "tickcolor": "rgb(36,36,36)",
              "ticks": "outside"
             }
            },
            "type": "scattergl"
           }
          ],
          "scattermap": [
           {
            "marker": {
             "colorbar": {
              "outlinewidth": 1,
              "tickcolor": "rgb(36,36,36)",
              "ticks": "outside"
             }
            },
            "type": "scattermap"
           }
          ],
          "scattermapbox": [
           {
            "marker": {
             "colorbar": {
              "outlinewidth": 1,
              "tickcolor": "rgb(36,36,36)",
              "ticks": "outside"
             }
            },
            "type": "scattermapbox"
           }
          ],
          "scatterpolar": [
           {
            "marker": {
             "colorbar": {
              "outlinewidth": 1,
              "tickcolor": "rgb(36,36,36)",
              "ticks": "outside"
             }
            },
            "type": "scatterpolar"
           }
          ],
          "scatterpolargl": [
           {
            "marker": {
             "colorbar": {
              "outlinewidth": 1,
              "tickcolor": "rgb(36,36,36)",
              "ticks": "outside"
             }
            },
            "type": "scatterpolargl"
           }
          ],
          "scatterternary": [
           {
            "marker": {
             "colorbar": {
              "outlinewidth": 1,
              "tickcolor": "rgb(36,36,36)",
              "ticks": "outside"
             }
            },
            "type": "scatterternary"
           }
          ],
          "surface": [
           {
            "colorbar": {
             "outlinewidth": 1,
             "tickcolor": "rgb(36,36,36)",
             "ticks": "outside"
            },
            "colorscale": [
             [
              0,
              "#440154"
             ],
             [
              0.1111111111111111,
              "#482878"
             ],
             [
              0.2222222222222222,
              "#3e4989"
             ],
             [
              0.3333333333333333,
              "#31688e"
             ],
             [
              0.4444444444444444,
              "#26828e"
             ],
             [
              0.5555555555555556,
              "#1f9e89"
             ],
             [
              0.6666666666666666,
              "#35b779"
             ],
             [
              0.7777777777777778,
              "#6ece58"
             ],
             [
              0.8888888888888888,
              "#b5de2b"
             ],
             [
              1,
              "#fde725"
             ]
            ],
            "type": "surface"
           }
          ],
          "table": [
           {
            "cells": {
             "fill": {
              "color": "rgb(237,237,237)"
             },
             "line": {
              "color": "white"
             }
            },
            "header": {
             "fill": {
              "color": "rgb(217,217,217)"
             },
             "line": {
              "color": "white"
             }
            },
            "type": "table"
           }
          ]
         },
         "layout": {
          "annotationdefaults": {
           "arrowhead": 0,
           "arrowwidth": 1
          },
          "autotypenumbers": "strict",
          "coloraxis": {
           "colorbar": {
            "outlinewidth": 1,
            "tickcolor": "rgb(36,36,36)",
            "ticks": "outside"
           }
          },
          "colorscale": {
           "diverging": [
            [
             0,
             "rgb(103,0,31)"
            ],
            [
             0.1,
             "rgb(178,24,43)"
            ],
            [
             0.2,
             "rgb(214,96,77)"
            ],
            [
             0.3,
             "rgb(244,165,130)"
            ],
            [
             0.4,
             "rgb(253,219,199)"
            ],
            [
             0.5,
             "rgb(247,247,247)"
            ],
            [
             0.6,
             "rgb(209,229,240)"
            ],
            [
             0.7,
             "rgb(146,197,222)"
            ],
            [
             0.8,
             "rgb(67,147,195)"
            ],
            [
             0.9,
             "rgb(33,102,172)"
            ],
            [
             1,
             "rgb(5,48,97)"
            ]
           ],
           "sequential": [
            [
             0,
             "#440154"
            ],
            [
             0.1111111111111111,
             "#482878"
            ],
            [
             0.2222222222222222,
             "#3e4989"
            ],
            [
             0.3333333333333333,
             "#31688e"
            ],
            [
             0.4444444444444444,
             "#26828e"
            ],
            [
             0.5555555555555556,
             "#1f9e89"
            ],
            [
             0.6666666666666666,
             "#35b779"
            ],
            [
             0.7777777777777778,
             "#6ece58"
            ],
            [
             0.8888888888888888,
             "#b5de2b"
            ],
            [
             1,
             "#fde725"
            ]
           ],
           "sequentialminus": [
            [
             0,
             "#440154"
            ],
            [
             0.1111111111111111,
             "#482878"
            ],
            [
             0.2222222222222222,
             "#3e4989"
            ],
            [
             0.3333333333333333,
             "#31688e"
            ],
            [
             0.4444444444444444,
             "#26828e"
            ],
            [
             0.5555555555555556,
             "#1f9e89"
            ],
            [
             0.6666666666666666,
             "#35b779"
            ],
            [
             0.7777777777777778,
             "#6ece58"
            ],
            [
             0.8888888888888888,
             "#b5de2b"
            ],
            [
             1,
             "#fde725"
            ]
           ]
          },
          "colorway": [
           "#1F77B4",
           "#FF7F0E",
           "#2CA02C",
           "#D62728",
           "#9467BD",
           "#8C564B",
           "#E377C2",
           "#7F7F7F",
           "#BCBD22",
           "#17BECF"
          ],
          "font": {
           "color": "rgb(36,36,36)"
          },
          "geo": {
           "bgcolor": "white",
           "lakecolor": "white",
           "landcolor": "white",
           "showlakes": true,
           "showland": true,
           "subunitcolor": "white"
          },
          "hoverlabel": {
           "align": "left"
          },
          "hovermode": "closest",
          "mapbox": {
           "style": "light"
          },
          "paper_bgcolor": "white",
          "plot_bgcolor": "white",
          "polar": {
           "angularaxis": {
            "gridcolor": "rgb(232,232,232)",
            "linecolor": "rgb(36,36,36)",
            "showgrid": false,
            "showline": true,
            "ticks": "outside"
           },
           "bgcolor": "white",
           "radialaxis": {
            "gridcolor": "rgb(232,232,232)",
            "linecolor": "rgb(36,36,36)",
            "showgrid": false,
            "showline": true,
            "ticks": "outside"
           }
          },
          "scene": {
           "xaxis": {
            "backgroundcolor": "white",
            "gridcolor": "rgb(232,232,232)",
            "gridwidth": 2,
            "linecolor": "rgb(36,36,36)",
            "showbackground": true,
            "showgrid": false,
            "showline": true,
            "ticks": "outside",
            "zeroline": false,
            "zerolinecolor": "rgb(36,36,36)"
           },
           "yaxis": {
            "backgroundcolor": "white",
            "gridcolor": "rgb(232,232,232)",
            "gridwidth": 2,
            "linecolor": "rgb(36,36,36)",
            "showbackground": true,
            "showgrid": false,
            "showline": true,
            "ticks": "outside",
            "zeroline": false,
            "zerolinecolor": "rgb(36,36,36)"
           },
           "zaxis": {
            "backgroundcolor": "white",
            "gridcolor": "rgb(232,232,232)",
            "gridwidth": 2,
            "linecolor": "rgb(36,36,36)",
            "showbackground": true,
            "showgrid": false,
            "showline": true,
            "ticks": "outside",
            "zeroline": false,
            "zerolinecolor": "rgb(36,36,36)"
           }
          },
          "shapedefaults": {
           "fillcolor": "black",
           "line": {
            "width": 0
           },
           "opacity": 0.3
          },
          "ternary": {
           "aaxis": {
            "gridcolor": "rgb(232,232,232)",
            "linecolor": "rgb(36,36,36)",
            "showgrid": false,
            "showline": true,
            "ticks": "outside"
           },
           "baxis": {
            "gridcolor": "rgb(232,232,232)",
            "linecolor": "rgb(36,36,36)",
            "showgrid": false,
            "showline": true,
            "ticks": "outside"
           },
           "bgcolor": "white",
           "caxis": {
            "gridcolor": "rgb(232,232,232)",
            "linecolor": "rgb(36,36,36)",
            "showgrid": false,
            "showline": true,
            "ticks": "outside"
           }
          },
          "title": {
           "x": 0.05
          },
          "xaxis": {
           "automargin": true,
           "gridcolor": "rgb(232,232,232)",
           "linecolor": "rgb(36,36,36)",
           "showgrid": false,
           "showline": true,
           "ticks": "outside",
           "title": {
            "standoff": 15
           },
           "zeroline": false,
           "zerolinecolor": "rgb(36,36,36)"
          },
          "yaxis": {
           "automargin": true,
           "gridcolor": "rgb(232,232,232)",
           "linecolor": "rgb(36,36,36)",
           "showgrid": false,
           "showline": true,
           "ticks": "outside",
           "title": {
            "standoff": 15
           },
           "zeroline": false,
           "zerolinecolor": "rgb(36,36,36)"
          }
         }
        },
        "title": {
         "text": "Interactive Volcano Plot"
        },
        "xaxis": {
         "anchor": "y",
         "domain": [
          0,
          1
         ],
         "title": {
          "text": "Log2 Fold Change"
         }
        },
        "yaxis": {
         "anchor": "x",
         "domain": [
          0,
          1
         ],
         "title": {
          "text": "-Log10 Adjusted P-Value"
         }
        }
       }
      }
     },
     "metadata": {},
     "output_type": "display_data"
    }
   ],
   "source": [
    "import plotly.express as px\n",
    "import pandas as pd\n",
    "import numpy as np\n",
    "\n",
    "# Color logic\n",
    "df['regulation'] = 'Not significant'\n",
    "df.loc[(df['logfoldchanges'] > 1) & (df['pvals_adj'] < 0.05), 'regulation'] = 'Upregulated'\n",
    "df.loc[(df['logfoldchanges'] < -1) & (df['pvals_adj'] < 0.05), 'regulation'] = 'Downregulated'\n",
    "\n",
    "# Create interactive plot\n",
    "fig = px.scatter(\n",
    "    df,\n",
    "    x='logfoldchanges',\n",
    "    y='neg_log10_padj',\n",
    "    color='regulation',\n",
    "    hover_data=['names', 'logfoldchanges', 'pvals_adj'],\n",
    "    color_discrete_map={\n",
    "        'Upregulated': 'red',\n",
    "        'Downregulated': 'blue',\n",
    "        'Not significant': 'lightgray'\n",
    "    },\n",
    "    title='Interactive Volcano Plot',\n",
    "    labels={\n",
    "        'logfoldchanges': 'Log2 Fold Change',\n",
    "        'neg_log10_padj': '-Log10 Adjusted P-Value'\n",
    "    }\n",
    ")\n",
    "\n",
    "# Add text labels for top genes\n",
    "for i, row in pd.concat([top_up, top_down]).iterrows():\n",
    "    fig.add_annotation(\n",
    "        x=row['logfoldchanges'],\n",
    "        y=row['neg_log10_padj'],\n",
    "        text=row['names'],\n",
    "        showarrow=True,\n",
    "        arrowhead=1,\n",
    "        ax=20,\n",
    "        ay=-20,\n",
    "        font=dict(size=10)\n",
    "    )\n",
    "\n",
    "fig.update_layout(\n",
    "    template='simple_white',\n",
    "    legend_title_text='Gene Regulation',\n",
    "    hovermode='closest'\n",
    ")\n",
    "\n",
    "fig.show()\n"
   ]
  },
  {
   "cell_type": "code",
   "execution_count": 359,
   "id": "4738a02a",
   "metadata": {},
   "outputs": [],
   "source": [
    "pre_rank = de[['names','logfoldchanges']].dropna()\n",
    "pre_rank = pre_rank.set_index('names')['logfoldchanges'].sort_values(ascending=False)"
   ]
  },
  {
   "cell_type": "code",
   "execution_count": 360,
   "id": "3b78ab83",
   "metadata": {},
   "outputs": [
    {
     "data": {
      "application/vnd.microsoft.datawrangler.viewer.v0+json": {
       "columns": [
        {
         "name": "names",
         "rawType": "object",
         "type": "string"
        },
        {
         "name": "logfoldchanges",
         "rawType": "float32",
         "type": "float"
        }
       ],
       "ref": "bb6df379-c989-4952-8416-e31983156f43",
       "rows": [
        [
         "LINC00885",
         "28.199322"
        ],
        [
         "AC124254.2",
         "27.587738"
        ],
        [
         "VASH2",
         "27.266937"
        ],
        [
         "MYO3B",
         "26.611078"
        ],
        [
         "AC106897.1",
         "26.422716"
        ],
        [
         "BFSP2",
         "26.39119"
        ],
        [
         "SPINT1-AS1",
         "26.14771"
        ],
        [
         "LAMB4",
         "26.029718"
        ],
        [
         "BCL2L12",
         "25.976446"
        ],
        [
         "TRMT61A",
         "25.897358"
        ],
        [
         "PAK6",
         "25.893057"
        ],
        [
         "LINC01301",
         "25.875925"
        ],
        [
         "BBC3",
         "25.8616"
        ],
        [
         "C3orf70",
         "25.7945"
        ],
        [
         "GPR161",
         "25.655851"
        ],
        [
         "AC008543.1",
         "25.480135"
        ],
        [
         "VIPR1",
         "25.458752"
        ],
        [
         "RASSF8-AS1",
         "25.422379"
        ],
        [
         "TEDC2",
         "25.35754"
        ],
        [
         "CXADR",
         "25.230337"
        ],
        [
         "LIN28B",
         "25.19791"
        ],
        [
         "LINC00589",
         "25.16678"
        ],
        [
         "B4GALNT3",
         "25.092472"
        ],
        [
         "SFRP4",
         "25.02494"
        ],
        [
         "LDLRAD3",
         "24.932798"
        ],
        [
         "FXYD6",
         "24.896793"
        ],
        [
         "LINC00348",
         "24.885101"
        ],
        [
         "SPTBN4",
         "24.875086"
        ],
        [
         "AC026333.4",
         "24.861958"
        ],
        [
         "COL26A1",
         "24.770525"
        ],
        [
         "AC145285.2",
         "24.759312"
        ],
        [
         "LINC02718",
         "24.722519"
        ],
        [
         "SIGLEC1",
         "24.71104"
        ],
        [
         "DLL3",
         "24.68926"
        ],
        [
         "ADCY5",
         "24.686737"
        ],
        [
         "AC016907.2",
         "24.64296"
        ],
        [
         "RBMS3-AS3",
         "24.63374"
        ],
        [
         "EPHB2",
         "24.62923"
        ],
        [
         "CARD9",
         "24.59001"
        ],
        [
         "AC004917.1",
         "24.5782"
        ],
        [
         "CFAP47",
         "24.559668"
        ],
        [
         "MYO10",
         "24.520288"
        ],
        [
         "SLC5A10",
         "24.498198"
        ],
        [
         "LINC01353",
         "24.457613"
        ],
        [
         "FOS",
         "24.438417"
        ],
        [
         "LILRB3",
         "24.41474"
        ],
        [
         "PKD1L1",
         "24.397865"
        ],
        [
         "AC093330.1",
         "24.377932"
        ],
        [
         "KCTD16",
         "24.363869"
        ],
        [
         "STAB1",
         "24.361868"
        ]
       ],
       "shape": {
        "columns": 1,
        "rows": 3000
       }
      },
      "text/plain": [
       "names\n",
       "LINC00885     28.199322\n",
       "AC124254.2    27.587738\n",
       "VASH2         27.266937\n",
       "MYO3B         26.611078\n",
       "AC106897.1    26.422716\n",
       "                ...    \n",
       "AL355053.1   -22.036936\n",
       "AP000345.3   -22.037790\n",
       "SERPINB2     -22.042740\n",
       "LINC01756    -22.091923\n",
       "AP001269.2   -22.091923\n",
       "Name: logfoldchanges, Length: 3000, dtype: float32"
      ]
     },
     "execution_count": 360,
     "metadata": {},
     "output_type": "execute_result"
    }
   ],
   "source": [
    "pre_rank"
   ]
  },
  {
   "cell_type": "code",
   "execution_count": 361,
   "id": "1de58235",
   "metadata": {},
   "outputs": [
    {
     "name": "stderr",
     "output_type": "stream",
     "text": [
      "2025-05-23 08:14:10,423 [WARNING] Duplicated values found in preranked stats: 6.93% of genes\n",
      "The order of those genes will be arbitrary, which may produce unexpected results.\n"
     ]
    }
   ],
   "source": [
    "gs_res = gp.prerank(\n",
    "    rnk=pre_rank,\n",
    "    gene_sets='MSigDB_Hallmark_2020',\n",
    "    threads=4,\n",
    "    permutation_num=100,      # reduce for speed, increase for robustness\n",
    "    outdir=None,              # don’t write to disk\n",
    "    seed=42,\n",
    ")\n"
   ]
  },
  {
   "cell_type": "code",
   "execution_count": 362,
   "id": "0b2a87cc",
   "metadata": {},
   "outputs": [
    {
     "data": {
      "application/vnd.microsoft.datawrangler.viewer.v0+json": {
       "columns": [
        {
         "name": "index",
         "rawType": "int64",
         "type": "integer"
        },
        {
         "name": "Name",
         "rawType": "object",
         "type": "string"
        },
        {
         "name": "Term",
         "rawType": "object",
         "type": "string"
        },
        {
         "name": "ES",
         "rawType": "object",
         "type": "string"
        },
        {
         "name": "NES",
         "rawType": "object",
         "type": "string"
        },
        {
         "name": "NOM p-val",
         "rawType": "object",
         "type": "string"
        },
        {
         "name": "FDR q-val",
         "rawType": "object",
         "type": "string"
        },
        {
         "name": "FWER p-val",
         "rawType": "object",
         "type": "string"
        },
        {
         "name": "Tag %",
         "rawType": "object",
         "type": "string"
        },
        {
         "name": "Gene %",
         "rawType": "object",
         "type": "string"
        },
        {
         "name": "Lead_genes",
         "rawType": "object",
         "type": "string"
        }
       ],
       "conversionMethod": "pd.DataFrame",
       "ref": "34d61188-7ebd-4b22-8205-d825f477286c",
       "rows": [
        [
         "0",
         "prerank",
         "UV Response Dn",
         "0.6457803900867329",
         "1.1229868598177166",
         "0.14",
         "1.0",
         "0.95",
         "3/16",
         "13.40%",
         "TFPI;MMP16;COL11A1"
        ],
        [
         "1",
         "prerank",
         "Epithelial Mesenchymal Transition",
         "0.5609039340405465",
         "1.039005988561109",
         "0.29",
         "1.0",
         "1.0",
         "11/46",
         "19.23%",
         "SFRP4;LAMA2;TNC;THBS1;COL5A3;PLOD2;DCN;CDH11;COL11A1;MXRA5;COL16A1"
        ],
        [
         "2",
         "prerank",
         "Estrogen Response Early",
         "0.5828418863935038",
         "1.0325191830653966",
         "0.45",
         "1.0",
         "1.0",
         "5/21",
         "15.30%",
         "FOS;CLIC3;GFRA1;ELOVL2;TSKU"
        ],
        [
         "3",
         "prerank",
         "Estrogen Response Late",
         "0.5607724284582657",
         "1.0255658690170466",
         "0.494949494949495",
         "1.0",
         "1.0",
         "8/22",
         "30.27%",
         "FOS;CD9;PKP3;CLIC3;PTGER3;FGFR3;TPBG;CYP4F11"
        ],
        [
         "4",
         "prerank",
         "Apical Junction",
         "0.5617038501681909",
         "1.00689043401258",
         "0.55",
         "1.0",
         "1.0",
         "9/22",
         "35.23%",
         "VWF;NRXN2;PARVA;CNTN1;CDH11;COL16A1;ADRA1B;DSC1;ADAMTS5"
        ],
        [
         "5",
         "prerank",
         "Complement",
         "-0.28825458120265013",
         "-1.0",
         "1.0",
         "1.0",
         "0.0",
         "2/38",
         "0.83%",
         "SERPINB2;S100A12"
        ],
        [
         "6",
         "prerank",
         "Unfolded Protein Response",
         "-0.3855946398659967",
         "-1.0",
         "1.0",
         "1.0",
         "0.0",
         "15/15",
         "61.67%",
         "CCL2;EEF2;RPS14;PREB;POP4;NOP14;NOLC1;ATP6V0D1;MTHFD2;BAG3;EXOSC5;BANF1;SRPRB;GEMIN4;CKS1B"
        ],
        [
         "7",
         "prerank",
         "E2F Targets",
         "-0.37970430107526887",
         "-1.0",
         "1.0",
         "1.0",
         "0.0",
         "24/24",
         "62.37%",
         "RAN;TUBB;HMGB3;RPA2;PCNA;CDKN3;RFC2;CENPM;NOLC1;STMN1;MTHFD2;RRM2;CDC20;MKI67;SPC24;CENPE;NCAPD2;TOP2A;KIF4A;DIAPH3;PLK1;PLK4;CKS1B;WDR90"
        ],
        [
         "8",
         "prerank",
         "Interferon Gamma Response",
         "-0.4018187942068036",
         "-1.0",
         "1.0",
         "1.0",
         "0.0",
         "31/31",
         "60.27%",
         "IFI44L;BANK1;LY6E;DDX58;CCL2;CCL5;CXCL9;IFITM2;KLRK1;VAMP5;IDO1;PSME2;MT2A;CXCL10;IFI35;ISG20;PSMB10;IL18BP;TRIM21;PSMB8;CD69;TNFAIP2;SOD2;MTHFD2;SRI;NAMPT;SECTM1;ICAM1;IFITM3;SERPING1;IRF5"
        ],
        [
         "9",
         "prerank",
         "Mitotic Spindle",
         "-0.4116068433411607",
         "-1.0",
         "1.0",
         "1.0",
         "0.0",
         "19/19",
         "59.13%",
         "SYNPO;ARHGDIA;MAP1S;UXT;TUBGCP6;TUBA4A;CENPF;KIF3B;KPTN;DOCK4;CENPE;TUBGCP3;TOP2A;KIF4A;CSNK1D;TSC1;CEP131;GEMIN4;PLK1"
        ],
        [
         "10",
         "prerank",
         "IL-2/STAT5 Signaling",
         "-0.3263935527199463",
         "-1.0",
         "1.0",
         "1.0",
         "0.0",
         "22/22",
         "67.63%",
         "SELL;IGF1R;IL1R2;LTB;ICOS;CAPG;SPP1;ITGA6;IKZF2;TNFRSF9;RORA;HOPX;CXCL10;GADD45B;NRP1;TNFRSF8;SLC39A8;RGS16;IFITM3;IL2RA;CD83;CDKN1C"
        ],
        [
         "11",
         "prerank",
         "Oxidative Phosphorylation",
         "-0.4618255853410248",
         "-1.0",
         "1.0",
         "1.0",
         "0.0",
         "53/53",
         "54.67%",
         "SLC25A6;CYB5R3;PDP1;ATP5ME;NDUFA2;COX5B;ATP5F1E;ACADSB;COX7C;COX6A1;BAX;NDUFS3;COX4I1;COX7A2;SLC25A5;UQCR10;COX6B1;ATP5F1D;LDHB;NDUFB3;ATP6V0C;ATP5F1B;UQCR11;NDUFA3;NDUFA1;ETFB;ATP5PO;NDUFB7;ATP5MC1;NDUFB8;NDUFS6;ACAT1;HCCS;MDH2;UQCRC1;MRPL15;LDHA;ATP5MG;ECHS1;UQCRH;NDUFA4;SLC25A3;NDUFB2;COX6C;NDUFC2;SDHC;UQCRFS1;CYCS;ATP5PF;PHB2;ALDH6A1;MTX2;ATP5MF"
        ],
        [
         "12",
         "prerank",
         "Myc Targets V1",
         "-0.4389750505731625",
         "-1.0",
         "1.0",
         "1.0",
         "0.0",
         "34/34",
         "56.63%",
         "RPL34;EEF1B2;RPS5;RPS2;RPL18;RPS6;RPL22;RPS3;RPS10;RPL6;RPL14;RPLP0;SNRPD2;RAN;HNRNPA1;FBL;TUFM;PCNA;HSPE1;LDHA;MRPL23;TYMS;SNRPG;NOLC1;SLC25A3;PPIA;PSMB3;ILF2;CDC20;PSMA4;MRPL9;PHB2;NCBP1;GNL3"
        ],
        [
         "13",
         "prerank",
         "G2-M Checkpoint",
         "-0.3861120429386112",
         "-1.0",
         "1.0",
         "1.0",
         "0.0",
         "19/19",
         "61.67%",
         "MT2A;EFNA5;HMGN2;HMGB3;RPA2;NCL;CDKN3;NOLC1;CENPF;STMN1;CDC20;MKI67;CENPE;TOP2A;KIF4A;SMC2;PLK1;PLK4;CKS1B"
        ],
        [
         "14",
         "prerank",
         "Coagulation",
         "0.5348581285586436",
         "0.9824231413250953",
         "0.6",
         "1.0",
         "1.0",
         "6/26",
         "12.77%",
         "CD9;CFD;VWF;PROS1;THBS1;F10"
        ],
        [
         "15",
         "prerank",
         "KRAS Signaling Up",
         "0.5299474064698569",
         "0.982289737457155",
         "0.5959595959595959",
         "1.0",
         "1.0",
         "6/25",
         "32.47%",
         "EPHB2;SCN1B;TFPI;GFPT2;CFHR2;IGFBP3"
        ],
        [
         "16",
         "prerank",
         "Hypoxia",
         "0.5202538314057261",
         "0.9326085281095791",
         "0.77",
         "1.0",
         "1.0",
         "7/26",
         "32.47%",
         "FOS;DCN;NCAN;TPBG;PPARGC1A;CDKN1C;IGFBP3"
        ],
        [
         "17",
         "prerank",
         "Inflammatory Response",
         "0.46531075598841476",
         "0.8585417059638649",
         "0.92",
         "1.0",
         "1.0",
         "7/32",
         "35.37%",
         "STAB1;SCN1B;FFAR2;FZD5;OLR1;TPBG;IL1A"
        ],
        [
         "18",
         "prerank",
         "Allograft Rejection",
         "0.4529645562249032",
         "0.8424596896288904",
         "0.9",
         "1.0",
         "1.0",
         "1/31",
         "1.67%",
         "STAB1"
        ],
        [
         "19",
         "prerank",
         "UV Response Up",
         "0.4743914987950361",
         "0.8274675523667975",
         "0.898989898989899",
         "1.0",
         "1.0",
         "2/16",
         "7.37%",
         "FOS;FMO1"
        ],
        [
         "20",
         "prerank",
         "mTORC1 Signaling",
         "0.43400803969833934",
         "0.7882448742293957",
         "0.93",
         "1.0",
         "1.0",
         "2/29",
         "5.90%",
         "CD9;PLOD2"
        ],
        [
         "21",
         "prerank",
         "KRAS Signaling Dn",
         "0.42115599440122886",
         "0.7381782860028497",
         "0.9393939393939394",
         "1.0",
         "1.0",
         "5/17",
         "31.90%",
         "BRDT;TEX15;PAX3;FGFR3;ATP4A"
        ],
        [
         "22",
         "prerank",
         "Myogenesis",
         "0.3989117650246234",
         "0.7378524363672418",
         "0.99",
         "1.0",
         "1.0",
         "8/34",
         "34.00%",
         "VIPR1;LAMA2;CFD;CRYAB;HSPB2;SLN;IGFBP3;SOD3"
        ],
        [
         "23",
         "prerank",
         "Glycolysis",
         "0.4031471380339516",
         "0.7339301847114498",
         "0.9494949494949495",
         "1.0",
         "1.0",
         "6/24",
         "36.73%",
         "PLOD2;DCN;TPBG;IGFBP3;BIK;B4GALT2"
        ],
        [
         "24",
         "prerank",
         "p53 Pathway",
         "0.3818470839149019",
         "0.7020657082886109",
         "0.97",
         "1.0",
         "1.0",
         "6/29",
         "38.30%",
         "FOS;FGF13;CLCA2;IL1A;TP63;CDK5R1"
        ],
        [
         "25",
         "prerank",
         "TNF-alpha Signaling via NF-kB",
         "0.3295407867447408",
         "0.6083333105544751",
         "1.0",
         "1.0",
         "1.0",
         "7/35",
         "36.77%",
         "FOS;TNC;GFPT2;FJX1;OLR1;IL1A;NR4A3"
        ],
        [
         "26",
         "prerank",
         "Apoptosis",
         "0.3160017107439285",
         "0.5759154795733056",
         "1.0",
         "1.0",
         "1.0",
         "9/28",
         "43.50%",
         "DCN;IL1A;BIK;LEF1;IL18;CTH;CASP9;IFITM3;BCL2L2"
        ],
        [
         "27",
         "prerank",
         "Fatty Acid Metabolism",
         "0.30894898161245943",
         "0.5513486318499584",
         "0.99",
         "1.0",
         "1.0",
         "1/22",
         "7.37%",
         "FMO1"
        ],
        [
         "28",
         "prerank",
         "Adipogenesis",
         "0.27045957416298083",
         "0.4847597083665134",
         "1.0",
         "1.0",
         "1.0",
         "25/27",
         "70.97%",
         "PTGER3;ELOVL6;ENPP2;NKIRAS1;CRAT;UCK1;CD36;ARAF;SDHC;DDT;SORBS1;ECHS1;MRPL15;UQCRC1;MDH2;NDUFB7;ATP5PO;ETFB;UQCR11;UQCR10;NDUFS3;COX6A1;PREB;APOE;VEGFB"
        ]
       ],
       "shape": {
        "columns": 10,
        "rows": 29
       }
      },
      "text/html": [
       "<div>\n",
       "<style scoped>\n",
       "    .dataframe tbody tr th:only-of-type {\n",
       "        vertical-align: middle;\n",
       "    }\n",
       "\n",
       "    .dataframe tbody tr th {\n",
       "        vertical-align: top;\n",
       "    }\n",
       "\n",
       "    .dataframe thead th {\n",
       "        text-align: right;\n",
       "    }\n",
       "</style>\n",
       "<table border=\"1\" class=\"dataframe\">\n",
       "  <thead>\n",
       "    <tr style=\"text-align: right;\">\n",
       "      <th></th>\n",
       "      <th>Name</th>\n",
       "      <th>Term</th>\n",
       "      <th>ES</th>\n",
       "      <th>NES</th>\n",
       "      <th>NOM p-val</th>\n",
       "      <th>FDR q-val</th>\n",
       "      <th>FWER p-val</th>\n",
       "      <th>Tag %</th>\n",
       "      <th>Gene %</th>\n",
       "      <th>Lead_genes</th>\n",
       "    </tr>\n",
       "  </thead>\n",
       "  <tbody>\n",
       "    <tr>\n",
       "      <th>0</th>\n",
       "      <td>prerank</td>\n",
       "      <td>UV Response Dn</td>\n",
       "      <td>0.64578</td>\n",
       "      <td>1.122987</td>\n",
       "      <td>0.14</td>\n",
       "      <td>1.0</td>\n",
       "      <td>0.95</td>\n",
       "      <td>3/16</td>\n",
       "      <td>13.40%</td>\n",
       "      <td>TFPI;MMP16;COL11A1</td>\n",
       "    </tr>\n",
       "    <tr>\n",
       "      <th>1</th>\n",
       "      <td>prerank</td>\n",
       "      <td>Epithelial Mesenchymal Transition</td>\n",
       "      <td>0.560904</td>\n",
       "      <td>1.039006</td>\n",
       "      <td>0.29</td>\n",
       "      <td>1.0</td>\n",
       "      <td>1.0</td>\n",
       "      <td>11/46</td>\n",
       "      <td>19.23%</td>\n",
       "      <td>SFRP4;LAMA2;TNC;THBS1;COL5A3;PLOD2;DCN;CDH11;C...</td>\n",
       "    </tr>\n",
       "    <tr>\n",
       "      <th>2</th>\n",
       "      <td>prerank</td>\n",
       "      <td>Estrogen Response Early</td>\n",
       "      <td>0.582842</td>\n",
       "      <td>1.032519</td>\n",
       "      <td>0.45</td>\n",
       "      <td>1.0</td>\n",
       "      <td>1.0</td>\n",
       "      <td>5/21</td>\n",
       "      <td>15.30%</td>\n",
       "      <td>FOS;CLIC3;GFRA1;ELOVL2;TSKU</td>\n",
       "    </tr>\n",
       "    <tr>\n",
       "      <th>3</th>\n",
       "      <td>prerank</td>\n",
       "      <td>Estrogen Response Late</td>\n",
       "      <td>0.560772</td>\n",
       "      <td>1.025566</td>\n",
       "      <td>0.494949</td>\n",
       "      <td>1.0</td>\n",
       "      <td>1.0</td>\n",
       "      <td>8/22</td>\n",
       "      <td>30.27%</td>\n",
       "      <td>FOS;CD9;PKP3;CLIC3;PTGER3;FGFR3;TPBG;CYP4F11</td>\n",
       "    </tr>\n",
       "    <tr>\n",
       "      <th>4</th>\n",
       "      <td>prerank</td>\n",
       "      <td>Apical Junction</td>\n",
       "      <td>0.561704</td>\n",
       "      <td>1.00689</td>\n",
       "      <td>0.55</td>\n",
       "      <td>1.0</td>\n",
       "      <td>1.0</td>\n",
       "      <td>9/22</td>\n",
       "      <td>35.23%</td>\n",
       "      <td>VWF;NRXN2;PARVA;CNTN1;CDH11;COL16A1;ADRA1B;DSC...</td>\n",
       "    </tr>\n",
       "    <tr>\n",
       "      <th>5</th>\n",
       "      <td>prerank</td>\n",
       "      <td>Complement</td>\n",
       "      <td>-0.288255</td>\n",
       "      <td>-1.0</td>\n",
       "      <td>1.0</td>\n",
       "      <td>1.0</td>\n",
       "      <td>0.0</td>\n",
       "      <td>2/38</td>\n",
       "      <td>0.83%</td>\n",
       "      <td>SERPINB2;S100A12</td>\n",
       "    </tr>\n",
       "    <tr>\n",
       "      <th>6</th>\n",
       "      <td>prerank</td>\n",
       "      <td>Unfolded Protein Response</td>\n",
       "      <td>-0.385595</td>\n",
       "      <td>-1.0</td>\n",
       "      <td>1.0</td>\n",
       "      <td>1.0</td>\n",
       "      <td>0.0</td>\n",
       "      <td>15/15</td>\n",
       "      <td>61.67%</td>\n",
       "      <td>CCL2;EEF2;RPS14;PREB;POP4;NOP14;NOLC1;ATP6V0D1...</td>\n",
       "    </tr>\n",
       "    <tr>\n",
       "      <th>7</th>\n",
       "      <td>prerank</td>\n",
       "      <td>E2F Targets</td>\n",
       "      <td>-0.379704</td>\n",
       "      <td>-1.0</td>\n",
       "      <td>1.0</td>\n",
       "      <td>1.0</td>\n",
       "      <td>0.0</td>\n",
       "      <td>24/24</td>\n",
       "      <td>62.37%</td>\n",
       "      <td>RAN;TUBB;HMGB3;RPA2;PCNA;CDKN3;RFC2;CENPM;NOLC...</td>\n",
       "    </tr>\n",
       "    <tr>\n",
       "      <th>8</th>\n",
       "      <td>prerank</td>\n",
       "      <td>Interferon Gamma Response</td>\n",
       "      <td>-0.401819</td>\n",
       "      <td>-1.0</td>\n",
       "      <td>1.0</td>\n",
       "      <td>1.0</td>\n",
       "      <td>0.0</td>\n",
       "      <td>31/31</td>\n",
       "      <td>60.27%</td>\n",
       "      <td>IFI44L;BANK1;LY6E;DDX58;CCL2;CCL5;CXCL9;IFITM2...</td>\n",
       "    </tr>\n",
       "    <tr>\n",
       "      <th>9</th>\n",
       "      <td>prerank</td>\n",
       "      <td>Mitotic Spindle</td>\n",
       "      <td>-0.411607</td>\n",
       "      <td>-1.0</td>\n",
       "      <td>1.0</td>\n",
       "      <td>1.0</td>\n",
       "      <td>0.0</td>\n",
       "      <td>19/19</td>\n",
       "      <td>59.13%</td>\n",
       "      <td>SYNPO;ARHGDIA;MAP1S;UXT;TUBGCP6;TUBA4A;CENPF;K...</td>\n",
       "    </tr>\n",
       "    <tr>\n",
       "      <th>10</th>\n",
       "      <td>prerank</td>\n",
       "      <td>IL-2/STAT5 Signaling</td>\n",
       "      <td>-0.326394</td>\n",
       "      <td>-1.0</td>\n",
       "      <td>1.0</td>\n",
       "      <td>1.0</td>\n",
       "      <td>0.0</td>\n",
       "      <td>22/22</td>\n",
       "      <td>67.63%</td>\n",
       "      <td>SELL;IGF1R;IL1R2;LTB;ICOS;CAPG;SPP1;ITGA6;IKZF...</td>\n",
       "    </tr>\n",
       "    <tr>\n",
       "      <th>11</th>\n",
       "      <td>prerank</td>\n",
       "      <td>Oxidative Phosphorylation</td>\n",
       "      <td>-0.461826</td>\n",
       "      <td>-1.0</td>\n",
       "      <td>1.0</td>\n",
       "      <td>1.0</td>\n",
       "      <td>0.0</td>\n",
       "      <td>53/53</td>\n",
       "      <td>54.67%</td>\n",
       "      <td>SLC25A6;CYB5R3;PDP1;ATP5ME;NDUFA2;COX5B;ATP5F1...</td>\n",
       "    </tr>\n",
       "    <tr>\n",
       "      <th>12</th>\n",
       "      <td>prerank</td>\n",
       "      <td>Myc Targets V1</td>\n",
       "      <td>-0.438975</td>\n",
       "      <td>-1.0</td>\n",
       "      <td>1.0</td>\n",
       "      <td>1.0</td>\n",
       "      <td>0.0</td>\n",
       "      <td>34/34</td>\n",
       "      <td>56.63%</td>\n",
       "      <td>RPL34;EEF1B2;RPS5;RPS2;RPL18;RPS6;RPL22;RPS3;R...</td>\n",
       "    </tr>\n",
       "    <tr>\n",
       "      <th>13</th>\n",
       "      <td>prerank</td>\n",
       "      <td>G2-M Checkpoint</td>\n",
       "      <td>-0.386112</td>\n",
       "      <td>-1.0</td>\n",
       "      <td>1.0</td>\n",
       "      <td>1.0</td>\n",
       "      <td>0.0</td>\n",
       "      <td>19/19</td>\n",
       "      <td>61.67%</td>\n",
       "      <td>MT2A;EFNA5;HMGN2;HMGB3;RPA2;NCL;CDKN3;NOLC1;CE...</td>\n",
       "    </tr>\n",
       "    <tr>\n",
       "      <th>14</th>\n",
       "      <td>prerank</td>\n",
       "      <td>Coagulation</td>\n",
       "      <td>0.534858</td>\n",
       "      <td>0.982423</td>\n",
       "      <td>0.6</td>\n",
       "      <td>1.0</td>\n",
       "      <td>1.0</td>\n",
       "      <td>6/26</td>\n",
       "      <td>12.77%</td>\n",
       "      <td>CD9;CFD;VWF;PROS1;THBS1;F10</td>\n",
       "    </tr>\n",
       "    <tr>\n",
       "      <th>15</th>\n",
       "      <td>prerank</td>\n",
       "      <td>KRAS Signaling Up</td>\n",
       "      <td>0.529947</td>\n",
       "      <td>0.98229</td>\n",
       "      <td>0.59596</td>\n",
       "      <td>1.0</td>\n",
       "      <td>1.0</td>\n",
       "      <td>6/25</td>\n",
       "      <td>32.47%</td>\n",
       "      <td>EPHB2;SCN1B;TFPI;GFPT2;CFHR2;IGFBP3</td>\n",
       "    </tr>\n",
       "    <tr>\n",
       "      <th>16</th>\n",
       "      <td>prerank</td>\n",
       "      <td>Hypoxia</td>\n",
       "      <td>0.520254</td>\n",
       "      <td>0.932609</td>\n",
       "      <td>0.77</td>\n",
       "      <td>1.0</td>\n",
       "      <td>1.0</td>\n",
       "      <td>7/26</td>\n",
       "      <td>32.47%</td>\n",
       "      <td>FOS;DCN;NCAN;TPBG;PPARGC1A;CDKN1C;IGFBP3</td>\n",
       "    </tr>\n",
       "    <tr>\n",
       "      <th>17</th>\n",
       "      <td>prerank</td>\n",
       "      <td>Inflammatory Response</td>\n",
       "      <td>0.465311</td>\n",
       "      <td>0.858542</td>\n",
       "      <td>0.92</td>\n",
       "      <td>1.0</td>\n",
       "      <td>1.0</td>\n",
       "      <td>7/32</td>\n",
       "      <td>35.37%</td>\n",
       "      <td>STAB1;SCN1B;FFAR2;FZD5;OLR1;TPBG;IL1A</td>\n",
       "    </tr>\n",
       "    <tr>\n",
       "      <th>18</th>\n",
       "      <td>prerank</td>\n",
       "      <td>Allograft Rejection</td>\n",
       "      <td>0.452965</td>\n",
       "      <td>0.84246</td>\n",
       "      <td>0.9</td>\n",
       "      <td>1.0</td>\n",
       "      <td>1.0</td>\n",
       "      <td>1/31</td>\n",
       "      <td>1.67%</td>\n",
       "      <td>STAB1</td>\n",
       "    </tr>\n",
       "    <tr>\n",
       "      <th>19</th>\n",
       "      <td>prerank</td>\n",
       "      <td>UV Response Up</td>\n",
       "      <td>0.474391</td>\n",
       "      <td>0.827468</td>\n",
       "      <td>0.89899</td>\n",
       "      <td>1.0</td>\n",
       "      <td>1.0</td>\n",
       "      <td>2/16</td>\n",
       "      <td>7.37%</td>\n",
       "      <td>FOS;FMO1</td>\n",
       "    </tr>\n",
       "    <tr>\n",
       "      <th>20</th>\n",
       "      <td>prerank</td>\n",
       "      <td>mTORC1 Signaling</td>\n",
       "      <td>0.434008</td>\n",
       "      <td>0.788245</td>\n",
       "      <td>0.93</td>\n",
       "      <td>1.0</td>\n",
       "      <td>1.0</td>\n",
       "      <td>2/29</td>\n",
       "      <td>5.90%</td>\n",
       "      <td>CD9;PLOD2</td>\n",
       "    </tr>\n",
       "    <tr>\n",
       "      <th>21</th>\n",
       "      <td>prerank</td>\n",
       "      <td>KRAS Signaling Dn</td>\n",
       "      <td>0.421156</td>\n",
       "      <td>0.738178</td>\n",
       "      <td>0.939394</td>\n",
       "      <td>1.0</td>\n",
       "      <td>1.0</td>\n",
       "      <td>5/17</td>\n",
       "      <td>31.90%</td>\n",
       "      <td>BRDT;TEX15;PAX3;FGFR3;ATP4A</td>\n",
       "    </tr>\n",
       "    <tr>\n",
       "      <th>22</th>\n",
       "      <td>prerank</td>\n",
       "      <td>Myogenesis</td>\n",
       "      <td>0.398912</td>\n",
       "      <td>0.737852</td>\n",
       "      <td>0.99</td>\n",
       "      <td>1.0</td>\n",
       "      <td>1.0</td>\n",
       "      <td>8/34</td>\n",
       "      <td>34.00%</td>\n",
       "      <td>VIPR1;LAMA2;CFD;CRYAB;HSPB2;SLN;IGFBP3;SOD3</td>\n",
       "    </tr>\n",
       "    <tr>\n",
       "      <th>23</th>\n",
       "      <td>prerank</td>\n",
       "      <td>Glycolysis</td>\n",
       "      <td>0.403147</td>\n",
       "      <td>0.73393</td>\n",
       "      <td>0.949495</td>\n",
       "      <td>1.0</td>\n",
       "      <td>1.0</td>\n",
       "      <td>6/24</td>\n",
       "      <td>36.73%</td>\n",
       "      <td>PLOD2;DCN;TPBG;IGFBP3;BIK;B4GALT2</td>\n",
       "    </tr>\n",
       "    <tr>\n",
       "      <th>24</th>\n",
       "      <td>prerank</td>\n",
       "      <td>p53 Pathway</td>\n",
       "      <td>0.381847</td>\n",
       "      <td>0.702066</td>\n",
       "      <td>0.97</td>\n",
       "      <td>1.0</td>\n",
       "      <td>1.0</td>\n",
       "      <td>6/29</td>\n",
       "      <td>38.30%</td>\n",
       "      <td>FOS;FGF13;CLCA2;IL1A;TP63;CDK5R1</td>\n",
       "    </tr>\n",
       "    <tr>\n",
       "      <th>25</th>\n",
       "      <td>prerank</td>\n",
       "      <td>TNF-alpha Signaling via NF-kB</td>\n",
       "      <td>0.329541</td>\n",
       "      <td>0.608333</td>\n",
       "      <td>1.0</td>\n",
       "      <td>1.0</td>\n",
       "      <td>1.0</td>\n",
       "      <td>7/35</td>\n",
       "      <td>36.77%</td>\n",
       "      <td>FOS;TNC;GFPT2;FJX1;OLR1;IL1A;NR4A3</td>\n",
       "    </tr>\n",
       "    <tr>\n",
       "      <th>26</th>\n",
       "      <td>prerank</td>\n",
       "      <td>Apoptosis</td>\n",
       "      <td>0.316002</td>\n",
       "      <td>0.575915</td>\n",
       "      <td>1.0</td>\n",
       "      <td>1.0</td>\n",
       "      <td>1.0</td>\n",
       "      <td>9/28</td>\n",
       "      <td>43.50%</td>\n",
       "      <td>DCN;IL1A;BIK;LEF1;IL18;CTH;CASP9;IFITM3;BCL2L2</td>\n",
       "    </tr>\n",
       "    <tr>\n",
       "      <th>27</th>\n",
       "      <td>prerank</td>\n",
       "      <td>Fatty Acid Metabolism</td>\n",
       "      <td>0.308949</td>\n",
       "      <td>0.551349</td>\n",
       "      <td>0.99</td>\n",
       "      <td>1.0</td>\n",
       "      <td>1.0</td>\n",
       "      <td>1/22</td>\n",
       "      <td>7.37%</td>\n",
       "      <td>FMO1</td>\n",
       "    </tr>\n",
       "    <tr>\n",
       "      <th>28</th>\n",
       "      <td>prerank</td>\n",
       "      <td>Adipogenesis</td>\n",
       "      <td>0.27046</td>\n",
       "      <td>0.48476</td>\n",
       "      <td>1.0</td>\n",
       "      <td>1.0</td>\n",
       "      <td>1.0</td>\n",
       "      <td>25/27</td>\n",
       "      <td>70.97%</td>\n",
       "      <td>PTGER3;ELOVL6;ENPP2;NKIRAS1;CRAT;UCK1;CD36;ARA...</td>\n",
       "    </tr>\n",
       "  </tbody>\n",
       "</table>\n",
       "</div>"
      ],
      "text/plain": [
       "       Name                               Term        ES       NES NOM p-val  \\\n",
       "0   prerank                     UV Response Dn   0.64578  1.122987      0.14   \n",
       "1   prerank  Epithelial Mesenchymal Transition  0.560904  1.039006      0.29   \n",
       "2   prerank            Estrogen Response Early  0.582842  1.032519      0.45   \n",
       "3   prerank             Estrogen Response Late  0.560772  1.025566  0.494949   \n",
       "4   prerank                    Apical Junction  0.561704   1.00689      0.55   \n",
       "5   prerank                         Complement -0.288255      -1.0       1.0   \n",
       "6   prerank          Unfolded Protein Response -0.385595      -1.0       1.0   \n",
       "7   prerank                        E2F Targets -0.379704      -1.0       1.0   \n",
       "8   prerank          Interferon Gamma Response -0.401819      -1.0       1.0   \n",
       "9   prerank                    Mitotic Spindle -0.411607      -1.0       1.0   \n",
       "10  prerank               IL-2/STAT5 Signaling -0.326394      -1.0       1.0   \n",
       "11  prerank          Oxidative Phosphorylation -0.461826      -1.0       1.0   \n",
       "12  prerank                     Myc Targets V1 -0.438975      -1.0       1.0   \n",
       "13  prerank                    G2-M Checkpoint -0.386112      -1.0       1.0   \n",
       "14  prerank                        Coagulation  0.534858  0.982423       0.6   \n",
       "15  prerank                  KRAS Signaling Up  0.529947   0.98229   0.59596   \n",
       "16  prerank                            Hypoxia  0.520254  0.932609      0.77   \n",
       "17  prerank              Inflammatory Response  0.465311  0.858542      0.92   \n",
       "18  prerank                Allograft Rejection  0.452965   0.84246       0.9   \n",
       "19  prerank                     UV Response Up  0.474391  0.827468   0.89899   \n",
       "20  prerank                   mTORC1 Signaling  0.434008  0.788245      0.93   \n",
       "21  prerank                  KRAS Signaling Dn  0.421156  0.738178  0.939394   \n",
       "22  prerank                         Myogenesis  0.398912  0.737852      0.99   \n",
       "23  prerank                         Glycolysis  0.403147   0.73393  0.949495   \n",
       "24  prerank                        p53 Pathway  0.381847  0.702066      0.97   \n",
       "25  prerank      TNF-alpha Signaling via NF-kB  0.329541  0.608333       1.0   \n",
       "26  prerank                          Apoptosis  0.316002  0.575915       1.0   \n",
       "27  prerank              Fatty Acid Metabolism  0.308949  0.551349      0.99   \n",
       "28  prerank                       Adipogenesis   0.27046   0.48476       1.0   \n",
       "\n",
       "   FDR q-val FWER p-val  Tag %  Gene %  \\\n",
       "0        1.0       0.95   3/16  13.40%   \n",
       "1        1.0        1.0  11/46  19.23%   \n",
       "2        1.0        1.0   5/21  15.30%   \n",
       "3        1.0        1.0   8/22  30.27%   \n",
       "4        1.0        1.0   9/22  35.23%   \n",
       "5        1.0        0.0   2/38   0.83%   \n",
       "6        1.0        0.0  15/15  61.67%   \n",
       "7        1.0        0.0  24/24  62.37%   \n",
       "8        1.0        0.0  31/31  60.27%   \n",
       "9        1.0        0.0  19/19  59.13%   \n",
       "10       1.0        0.0  22/22  67.63%   \n",
       "11       1.0        0.0  53/53  54.67%   \n",
       "12       1.0        0.0  34/34  56.63%   \n",
       "13       1.0        0.0  19/19  61.67%   \n",
       "14       1.0        1.0   6/26  12.77%   \n",
       "15       1.0        1.0   6/25  32.47%   \n",
       "16       1.0        1.0   7/26  32.47%   \n",
       "17       1.0        1.0   7/32  35.37%   \n",
       "18       1.0        1.0   1/31   1.67%   \n",
       "19       1.0        1.0   2/16   7.37%   \n",
       "20       1.0        1.0   2/29   5.90%   \n",
       "21       1.0        1.0   5/17  31.90%   \n",
       "22       1.0        1.0   8/34  34.00%   \n",
       "23       1.0        1.0   6/24  36.73%   \n",
       "24       1.0        1.0   6/29  38.30%   \n",
       "25       1.0        1.0   7/35  36.77%   \n",
       "26       1.0        1.0   9/28  43.50%   \n",
       "27       1.0        1.0   1/22   7.37%   \n",
       "28       1.0        1.0  25/27  70.97%   \n",
       "\n",
       "                                           Lead_genes  \n",
       "0                                  TFPI;MMP16;COL11A1  \n",
       "1   SFRP4;LAMA2;TNC;THBS1;COL5A3;PLOD2;DCN;CDH11;C...  \n",
       "2                         FOS;CLIC3;GFRA1;ELOVL2;TSKU  \n",
       "3        FOS;CD9;PKP3;CLIC3;PTGER3;FGFR3;TPBG;CYP4F11  \n",
       "4   VWF;NRXN2;PARVA;CNTN1;CDH11;COL16A1;ADRA1B;DSC...  \n",
       "5                                    SERPINB2;S100A12  \n",
       "6   CCL2;EEF2;RPS14;PREB;POP4;NOP14;NOLC1;ATP6V0D1...  \n",
       "7   RAN;TUBB;HMGB3;RPA2;PCNA;CDKN3;RFC2;CENPM;NOLC...  \n",
       "8   IFI44L;BANK1;LY6E;DDX58;CCL2;CCL5;CXCL9;IFITM2...  \n",
       "9   SYNPO;ARHGDIA;MAP1S;UXT;TUBGCP6;TUBA4A;CENPF;K...  \n",
       "10  SELL;IGF1R;IL1R2;LTB;ICOS;CAPG;SPP1;ITGA6;IKZF...  \n",
       "11  SLC25A6;CYB5R3;PDP1;ATP5ME;NDUFA2;COX5B;ATP5F1...  \n",
       "12  RPL34;EEF1B2;RPS5;RPS2;RPL18;RPS6;RPL22;RPS3;R...  \n",
       "13  MT2A;EFNA5;HMGN2;HMGB3;RPA2;NCL;CDKN3;NOLC1;CE...  \n",
       "14                        CD9;CFD;VWF;PROS1;THBS1;F10  \n",
       "15                EPHB2;SCN1B;TFPI;GFPT2;CFHR2;IGFBP3  \n",
       "16           FOS;DCN;NCAN;TPBG;PPARGC1A;CDKN1C;IGFBP3  \n",
       "17              STAB1;SCN1B;FFAR2;FZD5;OLR1;TPBG;IL1A  \n",
       "18                                              STAB1  \n",
       "19                                           FOS;FMO1  \n",
       "20                                          CD9;PLOD2  \n",
       "21                        BRDT;TEX15;PAX3;FGFR3;ATP4A  \n",
       "22        VIPR1;LAMA2;CFD;CRYAB;HSPB2;SLN;IGFBP3;SOD3  \n",
       "23                  PLOD2;DCN;TPBG;IGFBP3;BIK;B4GALT2  \n",
       "24                   FOS;FGF13;CLCA2;IL1A;TP63;CDK5R1  \n",
       "25                 FOS;TNC;GFPT2;FJX1;OLR1;IL1A;NR4A3  \n",
       "26     DCN;IL1A;BIK;LEF1;IL18;CTH;CASP9;IFITM3;BCL2L2  \n",
       "27                                               FMO1  \n",
       "28  PTGER3;ELOVL6;ENPP2;NKIRAS1;CRAT;UCK1;CD36;ARA...  "
      ]
     },
     "execution_count": 362,
     "metadata": {},
     "output_type": "execute_result"
    }
   ],
   "source": [
    "gs_res.res2d"
   ]
  },
  {
   "cell_type": "code",
   "execution_count": 363,
   "id": "f7437589",
   "metadata": {},
   "outputs": [
    {
     "data": {
      "image/png": "[encoded data removed]",
      "text/plain": [
       "<Figure size 400x500 with 4 Axes>"
      ]
     },
     "execution_count": 363,
     "metadata": {},
     "output_type": "execute_result"
    },
    {
     "data": {
      "image/png": "[encoded data removed]",
      "text/plain": [
       "<Figure size 400x500 with 4 Axes>"
      ]
     },
     "metadata": {},
     "output_type": "display_data"
    }
   ],
   "source": [
    "terms = gs_res.res2d.Term\n",
    "gs_res.plot(terms=terms[1])"
   ]
  },
  {
   "cell_type": "code",
   "execution_count": 374,
   "id": "16fd06ce",
   "metadata": {},
   "outputs": [],
   "source": [
    "expr_df = pd.DataFrame(data_gsea.X.toarray().T, index=data_gsea.var_names, columns=data_gsea.obs_names)\n",
    "phenotypes = data_gsea.obs['group'].values"
   ]
  },
  {
   "cell_type": "code",
   "execution_count": 375,
   "id": "eea6018f",
   "metadata": {},
   "outputs": [
    {
     "name": "stderr",
     "output_type": "stream",
     "text": [
      "2025-05-23 08:17:00,376 [WARNING] Found duplicated gene names, values averaged by gene names!\n",
      "/opt/venv/lib/python3.10/site-packages/gseapy/gsea.py:173: UserWarning:\n",
      "\n",
      "Boolean Series key will be reindexed to match DataFrame index.\n",
      "\n"
     ]
    }
   ],
   "source": [
    "gsea_result = gp.gsea(\n",
    "    data=expr_df,\n",
    "    gene_sets='MSigDB_Hallmark_2020',  # dict or path to .gmt\n",
    "    cls=phenotypes,                # Array of class labels\n",
    "    permutation_num=1000,\n",
    "    method='signal_to_noise',      # or 't_test', 'log2_ratio_of_classes'\n",
    "    outdir=None,          # Change or set to None\n",
    "    no_plot=False,                  # Disable plots if not needed\n",
    "    seed=42\n",
    ")"
   ]
  },
  {
   "cell_type": "code",
   "execution_count": 376,
   "id": "cb09368a",
   "metadata": {},
   "outputs": [
    {
     "data": {
      "application/vnd.microsoft.datawrangler.viewer.v0+json": {
       "columns": [
        {
         "name": "index",
         "rawType": "int64",
         "type": "integer"
        },
        {
         "name": "Name",
         "rawType": "object",
         "type": "string"
        },
        {
         "name": "Term",
         "rawType": "object",
         "type": "string"
        },
        {
         "name": "ES",
         "rawType": "object",
         "type": "string"
        },
        {
         "name": "NES",
         "rawType": "object",
         "type": "string"
        },
        {
         "name": "NOM p-val",
         "rawType": "object",
         "type": "string"
        },
        {
         "name": "FDR q-val",
         "rawType": "object",
         "type": "string"
        },
        {
         "name": "FWER p-val",
         "rawType": "object",
         "type": "string"
        },
        {
         "name": "Tag %",
         "rawType": "object",
         "type": "string"
        },
        {
         "name": "Gene %",
         "rawType": "object",
         "type": "string"
        },
        {
         "name": "Lead_genes",
         "rawType": "object",
         "type": "string"
        }
       ],
       "conversionMethod": "pd.DataFrame",
       "ref": "2c9b7224-f4b2-4b3f-a374-1e6b9dbe0037",
       "rows": [
        [
         "0",
         "gsea",
         "mTORC1 Signaling",
         "0.5983403349629142",
         "2.5671091212491133",
         "0.0",
         "0.0",
         "0.0",
         "151/197",
         "33.41%",
         "TFRC;SLA;SKAP2;GSK3B;GCLC;EGLN3;ACACA;SERP1;CANX;SYTL2;PSMC2;NMT1;PITPNB;SEC11A;RPA1;FADS2;ATP2A2;USO1;ARPC5L;GMPS;HSPA9;CALR;TBK1;HSP90B1;GBE1;PSMD12;BCAT1;NUP205;INSIG1;CYB5B;EEF1E1;UBE2D3;ELOVL6;PPIA;ADIPOR2;GGA2;ETF1;PSMD14;BTG2;SQSTM1;IFRD1;TES;GTF2H1;NAMPT;NFYC;RPN1;ENO1;CTSC;ACTR2;HSPA4;TCEA1;STIP1;HSPA5;RIT1;UCHL5;PSMC6;PSMA3;CYP51A1;HMBS;PSMB5;PSMA4;PSPH;DHFR;ATP6V1D;PGK1;IMMT;SRD5A1;GPI;CCT6A;IDI1;P4HA1;EIF2S2;PDAP1;SC5D;PFKL;EDEM1;DDX39A;SQLE;XBP1;HSPD1;RAB1A;PSMD13;SHMT2;COPS5;TMEM97;UFM1;PPA1;ACTR3;FADS1;YKT6;POLR3G;SLC1A4;TXNRD1;ACSL3;MAP2K3;HPRT1;MTHFD2;HMGCS1;TUBA4A;CORO1A;TOMM40;SSR1;SCD;CACYBP;HMGCR;LDHA;RDH11;GAPDH;TPI1;PSME3;PGM1;PIK3R3;ERO1A;M6PR;TM7SF2;MCM4;PDK1;AURKA;NUFIP1;ABCF2;HSPE1;SLC7A11;RRM2;SORD;PLK1;GLA;TRIB3;UNG;PRDX1;BUB1;AK4;EBP;ATP5MC1;IDH1;PNO1;PSAT1;ACLY;GOT1;PSMG1;LTA4H;RRP9;SLC9A3R1;PSMC4;CDC25A;SLC37A4;MTHFD2L;ADD3;GSR;ELOVL5;CD9;G6PD"
        ],
        [
         "1",
         "gsea",
         "PI3K/AKT/mTOR  Signaling",
         "0.6081986939405465",
         "2.5430993896418883",
         "0.0",
         "0.0",
         "0.0",
         "64/104",
         "25.35%",
         "SLA;GSK3B;MAPKAP1;SMAD2;ACACA;MAP2K6;GRB2;ITPR2;CAMK4;CLTC;MAP3K7;NCK1;RPTOR;TRAF2;PRKAR2A;PTEN;MAPK8;CALR;TBK1;HSP90B1;PTPN11;RPS6KA3;TSC2;UBE2D3;ATF1;RAF1;SQSTM1;PPP2R1B;MAPK10;MKNK1;AP2M1;LCK;MAPK1;ACTR2;RAC1;RIT1;ARF1;EIF4E;CAB39;MAPK9;RPS6KA1;THEM4;PRKAG1;CSNK2B;ARPC3;AKT1;ACTR3;YWHAB;MAP2K3;E2F1;CDK4;DUSP3;PAK4;UBE2N;VAV3;PIK3R3;PIN1;NOD1;PPP1CA;PDK1;CDK2;PLA2G12A;CFL1;ECSIT"
        ],
        [
         "2",
         "gsea",
         "G2-M Checkpoint",
         "0.6420031044940022",
         "2.5310579298065488",
         "0.0",
         "0.0",
         "0.0",
         "152/195",
         "28.15%",
         "MEIS2;TRA2B;SLC38A1;SMARCC1;DMD;EZH2;CUL4A;SS18;RAD23B;SMC4;FANCC;EWSR1;CUL5;MYBL2;STAG1;TOP1;E2F3;CUL1;ABL1;ATRX;SRSF10;MNAT1;ODF2;CUL3;PDS5B;SRSF2;SRSF1;HNRNPU;TFDP1;PRPF4B;ORC5;PRIM2;KPNB1;SFPQ;MTF2;PRC1;NUP98;KNL1;CDC27;XPO1;CTCF;ILF3;NUMA1;SLC12A2;G3BP1;TACC3;SMC1A;POLQ;NASP;HNRNPD;BUB3;NUSAP1;BRCA2;DBF4;TNPO2;KIF5B;LBR;ARID4A;ORC6;KMT5A;GSPT1;UCK2;PURA;CHAF1A;SYNCRIP;CHEK1;KIF15;SMC2;BCL3;NSD2;RAD21;KIF11;YTHDC1;WRN;DKC1;TMPO;CASP8AP2;SLC7A1;TOP2A;TENT4A;SNRPD1;HIF1A;JPT1;DDX39A;PML;POLA2;CHMP1A;SQLE;KATNA1;ATF5;CKS2;MCM3;CBX1;KIF20B;PTTG1;EXO1;MCM5;E2F4;STIL;MAP3K20;MKI67;KIF22;NCL;HSPA8;CCNT1;MAPK14;MARCKS;E2F1;LIG3;CDK4;DR1;KPNA2;HMGN2;FOXN3;CDC7;CDC6;TTK;RPA2;HMGA1;RBL1;CENPE;DTYMK;STMN1;KIF23;RBM14;PAFAH1B1;CDC25B;NOLC1;CDC45;PLK4;AURKA;NDC80;SAP30;ODC1;BARD1;MYC;AURKB;CKS1B;POLE;KIF4A;TGFB1;RACGAP1;TRAIP;PLK1;INCENP;CENPF;FBXO5;UBE2S;KIF2C;RASAL2;BUB1;PRMT5"
        ],
        [
         "3",
         "gsea",
         "Myc Targets V1",
         "0.6158571868307815",
         "2.5290970899942256",
         "0.0",
         "0.0",
         "0.0",
         "138/196",
         "25.19%",
         "TRA2B;GOT2;SMARCC1;HNRNPA2B1;FAM120A;RAD23B;CANX;CUL1;AP3S1;EIF3B;HNRNPC;CBX3;NCBP2;EIF3J;NCBP1;SRSF2;SRSF1;HNRNPU;TFDP1;KPNB1;RFC4;UBE2E1;GNL3;DUT;DDX21;SRPK1;XPO1;CCT3;G3BP1;NPM1;PPIA;SET;NOP56;HNRNPD;SSBP1;PABPC1;SNRPA1;BUB3;ETF1;PSMD14;SNRPA;SF3B3;TXNL4A;IFRD1;UBA2;MCM7;STARD7;GSPT1;CNBP;HNRNPA3;PTGES3;PSMD3;CCT2;EIF4G2;HSP90AB1;SYNCRIP;RSL1D1;POLD2;AIMP2;PSMA6;TOMM70;SERBP1;TARDBP;PSMD1;EXOSC7;PSMC6;EIF4H;COX5A;ERH;DEK;PWP1;EIF4E;DDX18;PSMA4;PGK1;POLE3;HNRNPR;PSMA1;SRM;PSMD8;EIF1AX;EIF2S2;SLC25A3;SNRPD1;ABCE1;UBE2L3;HDAC2;HSPD1;ILF2;COPS5;DHX15;PRDX4;MCM5;SRSF7;ORC2;PSMB3;CCT4;MRPS18B;RRM1;SRSF3;RNPS1;CTPS1;HPRT1;PSMA2;PSMD7;PSMA7;CDK4;KPNA2;PABPC4;PHB2;CLNS1A;PSMB2;EIF2S1;NAP1L1;USP1;SNRPG;PA2G4;LDHA;VBP1;PPM1G;PRDX3;HNRNPA1;CAD;TCP1;NME1;VDAC1;MCM4;U2AF1;NOLC1;CDK2;SNRPB2;CDC45;LSM2;ACP1;YWHAE;NDUFAB1;ODC1;MYC"
        ],
        [
         "4",
         "gsea",
         "Oxidative Phosphorylation",
         "0.5748421158078189",
         "2.501448659790667",
         "0.0",
         "0.0",
         "0.0",
         "156/200",
         "34.39%",
         "OPA1;GOT2;PMPCA;ETFA;OGDH;SUCLA2;HSPA9;DLAT;ACADM;MTX2;ABCB7;NDUFS4;SDHD;ATP6V0E1;ATP6V1C1;NDUFA5;MPC1;DLD;ATP6V1H;SLC25A12;NNT;MTRR;LRPPRC;ATP6V1G1;GPX4;ATP1B1;NDUFB5;ATP5F1A;RHOT2;TOMM70;TIMM8B;PDHA1;SDHB;UQCRC2;TCIRG1;GLUD1;MTRF1;FDX1;COX10;ATP5F1C;MRPS11;COX5A;ATP5MG;ATP6V1D;HADHA;PDHX;IMMT;GPI;NDUFV2;SDHC;ATP5MF;RHOT1;AFG3L2;UQCRH;SLC25A3;SUPV3L1;NDUFV1;NDUFB1;PDHB;IDH3A;AIFM1;COX17;TIMM9;NDUFA8;NDUFB2;COX6C;IDH3B;POR;ATP5MC2;SDHA;ACAA2;TIMM10;TIMM17A;PHB2;ATP5PF;TIMM50;HTRA2;ATP6V1E1;HADHB;DECR1;MRPS22;COX15;CS;NDUFC2;NDUFA4;NDUFS1;LDHA;BCKDHA;MFN2;ISCA1;VDAC2;NDUFS2;ATP6V0B;PRDX3;NDUFB4;IDH3G;ALAS1;DLST;NDUFS6;ATP5F1B;UQCR11;LDHB;VDAC1;UQCRC1;ATP5F1E;UQCRFS1;NDUFB8;TIMM13;ATP6AP1;NDUFAB1;NDUFA1;CYCS;COX4I1;SURF1;ACAT1;ATP5PD;SUCLG1;ATP6V0C;COX7A2L;ACAA1;MDH2;COX8A;COX7C;ALDH6A1;ATP5PO;SLC25A20;ATP6V1F;FXN;MRPL34;ECI1;ATP5MC1;GRPEL1;IDH1;MDH1;HSD17B10;COX6B1;NDUFB7;SLC25A5;ATP5MC3;COX11;ATP5F1D;IDH2;MRPS15;BAX;COX6A1;ACO2;OXA1L;NDUFA3;ATP5PB;NDUFB6;COX7A2;CYC1;ISCU;ETFB;UQCR10;NDUFB3"
        ],
        [
         "5",
         "gsea",
         "Protein Secretion",
         "0.6461770234525145",
         "2.492850016176065",
         "0.0",
         "0.0",
         "0.0",
         "70/94",
         "24.62%",
         "STAM;GOLGA4;ARFGEF2;COPB2;IGF2R;MON2;AP3S1;ARFGEF1;AP3B1;ADAM10;GBF1;CLTC;SEC31A;CLTA;RAB5A;SCRN1;NAPG;USO1;COPB1;ARCN1;RAB14;GNAS;LMAN1;RPS6KA3;COG2;AP1G1;STX7;SEC24D;VPS4B;YIPF6;STX16;SGMS1;ATP6V1H;RAB2A;VAMP7;RER1;CLCN3;VPS45;STX12;AP2M1;CTSC;DNM1L;MAPK1;TMX1;TSG101;SEC22B;ZW10;ARF1;CLN5;RAB22A;GOSR2;AP2B1;PAM;ATP1A1;SOD1;VAMP4;YKT6;SCAMP3;NAPA;BNIP3;BET1;LAMP2;SNAP23;SCAMP1;DOP1A;OCRL;M6PR;AP2S1;ANP32E;ARFIP1"
        ],
        [
         "6",
         "gsea",
         "TGF-beta Signaling",
         "0.6349841099835348",
         "2.491365127842407",
         "0.0",
         "0.0",
         "0.0",
         "22/53",
         "13.25%",
         "BMPR2;BMPR1A;BCAR3;ARID4B;SKIL;CTNNB1;SMURF1;MAP3K7;CDK9;RHOA;APC;IFNGR2;HIPK2;SMURF2;XIAP;UBE2D3;TRIM33;TGIF1;FNTA;HDAC1;PPM1A;TGFBR1"
        ],
        [
         "7",
         "gsea",
         "DNA Repair",
         "0.57065722957554",
         "2.4893818547085265",
         "0.0",
         "0.0",
         "0.0",
         "119/150",
         "36.43%",
         "NT5C3A;SNAPC4;HCLS1;EDF1;POLA1;RALA;POM121;NFX1;PDE4B;ERCC5;NCBP2;AK3;NELFB;POLR3C;RFC4;CSTF3;DUT;DCTN4;SUPT5H;SEC61A1;RFC3;ERCC8;UMPS;USP11;GTF2H1;SRSF6;GPX4;GSDME;POLR1D;RPA3;RNMT;TSG101;SMAD5;AGO4;GTF2B;ERCC3;UPF3B;TAF1C;ADA;AK1;GTF3C5;ITPA;EIF1B;SDCBP;MPG;DDB1;NUDT21;POLA2;ELL;DAD1;COX17;POLR1C;ARL6IP1;RAE1;POLD4;RFC5;TARBP2;NELFCD;ERCC1;RRM2B;HPRT1;LIG1;POLR2E;POLR2H;GTF2A2;POLD3;POLR3GL;TAF6;RPA2;ERCC4;POLD1;RAD51;GUK1;NPR2;ERCC2;NME1;ELOA;ZNF707;POLR2D;SUPT4H1;POLH;SF3A3;TAF12;POLR2A;POLL;SURF1;GTF2F1;SNAPC5;NME3;RFC2;NELFE;BCAP31;VPS28;IMPDH2;POLB;FEN1;ALYREF;CANT1;TAF13;TAF10;POLR2C;DGUOK;DGCR8;XPC;PCNA;RAD52;AAAS;GTF2H3;ADRM1;TP53;NT5C;POLR2J;TMED2;POLR2K;MPC2;REV3L;RBX1;PDE6G;POLR2G"
        ],
        [
         "8",
         "gsea",
         "Mitotic Spindle",
         "0.6117543900520961",
         "2.4846346790082703",
         "0.0",
         "0.0",
         "0.0",
         "135/199",
         "27.99%",
         "CCDC88A;RABGAP1;ARHGEF7;FARP1;DLG1;RAPGEF5;ARHGEF12;CDK5RAP2;ABI1;KNTC1;SPTAN1;FGD4;SMC4;BCL2L11;ROCK1;RASA1;TLK1;ABL1;ARFGEF1;RASA2;CNTRL;ARHGEF11;NF1;NCK1;MYO9B;PPP4R2;CEP57;DOCK2;RANBP9;HOOK3;SEPTIN9;PIF1;ARHGEF3;CD2AP;ARHGAP4;STAU1;RAB3GAP1;CSNK1D;PRC1;CEP192;APC;TUBGCP3;CDC27;TSC1;NUMA1;PCNT;WASF2;EZR;AKAP13;NEDD9;SMC1A;WASL;STK38L;NUSAP1;FGD6;RAPGEF6;SMC3;BRCA2;LATS1;CLIP1;KIF5B;PKD2;ARHGEF2;RICTOR;LRPPRC;ATG4B;CKAP5;NIN;PCGF5;KIF15;RHOT2;SASS6;MARK4;PLEKHG2;KIF3B;KIF11;SOS1;KIFAP3;DYNC1H1;EPB41;ARHGAP27;ARHGAP5;RALBP1;TOP2A;HDAC6;MYH10;KLC1;TUBGCP2;KATNA1;TBCD;CLASP1;CAPZB;ALMS1;KIF20B;PCM1;KIF22;ALS2;MAPRE1;MID1;MARCKS;TUBA4A;CDC42;CEP131;ITSN1;GSN;RFC1;ECT2;TTK;ARL8A;CENPE;KIF23;PAFAH1B1;ACTN4;KIF3C;AURKA;NDC80;YWHAE;MAP3K11;PDLIM5;KIF4A;RACGAP1;SSH2;PLK1;DLGAP5;INCENP;ANLN;MID1IP1;CENPF;KIF1B;FBXO5;TAOK2;KIF2C;CEP250;RASAL2;BUB1"
        ],
        [
         "9",
         "gsea",
         "Unfolded Protein Response",
         "0.5943533120595403",
         "2.454210206289386",
         "0.0",
         "0.0",
         "0.0",
         "82/108",
         "33.03%",
         "EIF4A2;CNOT4;TSPYL2;DDX10;DCP1A;SERP1;EIF4G1;PDIA5;SEC11A;SEC31A;EXOC2;ATF6;DNAJC3;HSPA9;ALDH18A1;CALR;HSP90B1;MTREX;CNOT2;TTC37;ARFGAP1;NPM1;FUS;NOP56;DCP2;KIF5B;CNOT6;PDIA6;PARN;SLC30A5;ERN1;SRPRA;HSPA5;KHSRP;FKBP14;EIF4E;DKC1;GOSR2;ZBTB17;SRPRB;IMP3;EXOSC1;SDAD1;EDEM1;XBP1;YWHAZ;HYOU1;ATF4;EXOSC10;BANF1;SLC1A4;ATP6V0D1;MTHFD2;EDC4;EIF2S1;SSR1;ERO1A;TATDN2;SPCS3;NOLC1;EIF4A3;DNAJA4;CKS1B;CXXC1;YIF1A;HERPUD1;PAIP1;WIPI1;EIF4A1;NOP14;SPCS1;VEGFA;PSAT1;XPOT;EXOSC2;NFYB;NABP1;RRP9;EIF2AK3;LSM1;EXOSC9;NFYA"
        ],
        [
         "10",
         "gsea",
         "Pperoxisome",
         "0.5660621506361821",
         "2.453255960795333",
         "0.0",
         "0.0",
         "0.0",
         "63/101",
         "29.97%",
         "SMARCC1;SLC23A2;SLC25A19;EHHADH;ACSL4;FDPS;HSD17B4;ESR2;PEX14;ABCB4;VPS4B;PABPC1;ABCB1;CDK7;CNBP;SCP2;IDE;ACSL5;PEX2;ERCC3;SOD2;SLC35B2;SIAH1;PEX6;FIS1;MLYCD;CLN6;IDI1;TOP2A;LONP2;DHRS3;MSH2;ABCC5;SOD1;GNPAT;CAT;CADM1;BCL10;FADS1;PEX13;ERCC1;CTPS1;GSTK1;SLC25A17;ECI2;ACOX1;ATXN1;RDH11;ALDH9A1;MVP;PEX11B;ITGB1BP1;HMGCL;PEX11A;ACOT8;HSD17B11;ACAA1;PRDX1;PRDX5;CTBP1;IDH1;ACSL1;NR1I2"
        ],
        [
         "11",
         "gsea",
         "Allograft Rejection",
         "0.5565169000974991",
         "2.4355940705170247",
         "0.0",
         "0.0",
         "0.0",
         "72/187",
         "23.67%",
         "IRF8;IL4R;CDKN2A;HLA-DMA;ETS1;JAK2;ABI1;IL16;IRF4;LYN;HCLS1;CD96;IL7;MRPL3;CSK;CD47;HLA-DMB;IFNAR2;MAP3K7;NCK1;HLA-DOB;EIF3J;TRAF2;EIF3A;TAP2;BRCA1;BCAT1;IFNGR2;IKBKB;NPM1;CD80;CTSS;HLA-DRA;HLA-DOA;IL2RA;ICAM1;HLA-DQA1;LCK;CD79A;SRGN;BCL3;CCND2;CD74;FCGR2B;MAP4K1;EIF4G3;ZAP70;GLMN;TAPBP;HIF1A;ELF4;ABCE1;ST8SIA4;MTIF2;PTPRC;TAP1;AKT1;CD86;RIPK2;BCL10;ITGAL;LY75;CD40;GALNT1;TLR2;HLA-A;SIT1;WAS;B2M;UBE2N;IL18;NME1"
        ],
        [
         "12",
         "gsea",
         "E2F Targets",
         "0.6017653088664665",
         "2.424727966334597",
         "0.0",
         "0.0",
         "0.0",
         "144/198",
         "28.19%",
         "TFRC;TRA2B;CDKN2A;EZH2;PNN;LUC7L3;SMC4;RAD50;MYBL2;STAG1;TCF19;NUP153;PRKDC;RPA1;SMC6;PDS5B;SRSF2;SRSF1;PRIM2;EED;DUT;PMS2;BRCA1;XPO1;CTCF;NUP205;RBBP7;ILF3;HELLS;RFC3;TACC3;SMC1A;NUP107;NASP;NOP56;MRE11;HNRNPD;SMC3;BRCA2;IPO7;MCM7;LBR;MLH1;ORC6;GSPT1;RAD51C;SYNCRIP;SLBP;CHEK2;CHEK1;CSE1L;ING3;POLD2;MMS22L;TBRG4;NCAPD2;RPA3;ATAD2;ZW10;RAD21;WEE1;DEK;DONSON;TMPO;CCNE1;AK2;TOP2A;JPT1;NUDT21;DDX39A;MSH2;POLA2;CKS2;MELK;MCM3;WDR90;PTTG1;RAD51AP1;CNOT9;DIAPH3;NBN;PRDX4;MCM5;ORC2;PPM1D;MKI67;KIF22;RAD1;CTPS1;MTHFD2;GINS4;CDK4;LIG1;SHMT1;KPNA2;EIF2S1;POLD3;NAP1L1;RFC1;USP1;KIF18B;CIT;PA2G4;RPA2;BUB1B;TUBB;POLD1;CCP110;HMGA1;PAICS;CENPE;PPP1R8;GINS1;CBX5;STMN1;NME1;MXD3;CDC25B;MCM4;NOLC1;PLK4;ANP32E;AURKA;BARD1;MYC;AURKB;CKS1B;RRM2;POLE;EXOSC8;KIF4A;CDCA8;RACGAP1;RFC2;PLK1;DLGAP5;TIPIN;UNG;PAN2;UBE2S;TIMELESS;KIF2C;DNMT1;RANBP1"
        ],
        [
         "13",
         "gsea",
         "Glycolysis",
         "0.5207594921289177",
         "2.3518152302144997",
         "0.0",
         "0.0",
         "0.0",
         "100/192",
         "30.42%",
         "GOT2;FUT8;COPB2;BIK;GCLC;PMM2;SLC25A13;EGLN3;ZNF292;GALK2;KIF2A;PAXIP1;AK3;PKM;CD44;HS2ST1;PFKP;ECD;B4GALT4;COG2;PPIA;NASP;GYS1;PHKA2;B4GALT1;DLD;HDLBP;ARPP19;AGL;AKR1A1;ENO1;ME2;EXT1;HSPA5;GLCE;GFPT1;GUSB;PGK1;SLC35A3;SDHC;MED24;FAM162A;IRS2;CLN6;PAM;P4HA1;RBCK1;SOD1;XYLT2;TXN;ABCB6;PGLS;LHPP;PPP2CB;HOMER1;CHPF2;QSOX1;ISG20;HAX1;LDHA;B3GAT3;ALDH9A1;TPI1;B4GALT7;TGFBI;STMN1;NDUFV3;ERO1A;B4GALT2;CHST12;UGP2;PGAM1;AURKA;RPE;SAP30;CHST2;TSTA3;EXT2;PDK3;GNE;GNPDA1;ANKZF1;MIF;BPNT1;MDH2;TALDO1;AK4;MIOX;PLOD1;IDUA;VEGFA;GMPPB;PFKFB1;IDH1;MDH1;MET;MXI1;GOT1;SLC16A3;HMMR"
        ],
        [
         "14",
         "gsea",
         "heme Metabolism",
         "0.5351598623949462",
         "2.3513852876881307",
         "0.0",
         "0.0",
         "0.0",
         "98/189",
         "30.59%",
         "TFRC;ARHGEF12;DCUN1D1;NR3C1;RBM5;GAPVD1;TFDP2;BACH1;GCLC;CDR2;TOP1;PICALM;ATP6V0A1;DCAF10;KAT2B;EIF2AK1;GMPS;RBM38;RIOK3;CDC27;BTRC;RCL1;XK;TENT5C;MARK3;BTG2;USP15;SEC14L1;KDM7A;OPTN;RANBP10;NNT;RAD23A;NARF;FBXO34;MKRN1;CLCN3;TCEA1;ELL2;SYNJ1;UCP2;NEK7;FBXO9;HMBS;NFE2L1;SLC66A2;EPB41;SLC11A2;UROS;SDCBP;UBAC1;ALAD;SIDT2;BMP2K;CAT;BNIP3L;ABCB6;IGSF3;VEZF1;BSG;LPIN2;PGLS;MOSPD1;MAP2K3;DAAM1;CAST;RNF123;HTRA2;SLC25A38;LAMP2;PIGQ;ISCA1;FECH;ATG4A;CTSB;DCAF11;BLVRA;PSMD9;OSBP2;ERMAP;SLC7A11;GYPC;PPP2R5B;FN3K;YPEL5;MINPP1;XPO7;ALDH6A1;HDGF;LRP10;RNF19A;CIR1;MXI1;CLIC2;ADIPOR1;NCOA4;MFHAS1;AQP3"
        ],
        [
         "15",
         "gsea",
         "Androgen Response",
         "0.5449685760709305",
         "2.2433865809945943",
         "0.0",
         "0.0",
         "0.0",
         "66/99",
         "34.71%",
         "NGLY1;IQGAP2;FKBP5;TNFAIP8;PIAS1;CDK6;APPBP2;LMAN1;INSIG1;RPS6KA3;SEC24D;B4GALT1;SMS;GPD1L;VAPA;RRP12;PLPP1;ELL2;SLC38A2;ANKH;ELK4;DBI;ABHD2;RAB4A;STK39;GNAI3;IDI1;UBE2J1;ABCC4;AKT1;ITGAV;CDC14B;FADS1;PGM3;ACSL3;XRCC5;HMGCS1;CAMKK2;ZMIZ1;SRP19;SCD;MYL12A;TMEM50A;PA2G4;HMGCR;ARID5B;B2M;MAK;SAT1;SPCS3;PDLIM5;CENPN;SORD;UAP1;ZBTB10;NCOA4;MERTK;MAP7;XRCC6;CCND3;ADRM1;GSR;ELOVL5;UBE2I;NDRG1;HOMER2"
        ],
        [
         "16",
         "gsea",
         "Fatty Acid Metabolism",
         "0.5046136104324154",
         "2.241681570059639",
         "0.0",
         "0.0",
         "0.0",
         "94/149",
         "36.75%",
         "GRHPR;EHHADH;SUCLA2;BCKDHB;ACSL4;PTPRG;HSDL2;HSPH1;SUCLG2;ACADM;HIBCH;HSD17B4;SDHD;D2HGDH;ADIPOR2;GCDH;AUH;PTS;DLD;SMS;KMT5A;MCEE;CCDC58;ACSL5;PDHA1;GPD2;PPARA;MGLL;SDHC;HSD17B7;HSP90AA1;MLYCD;IDI1;UROS;ALAD;PDHB;NBN;IDH3B;RAP1GDS1;OSTC;SDHA;ACAA2;HMGCS1;ALDH3A2;PRDX6;ECI2;ACOX1;HADHB;DECR1;LDHA;RDH11;METAP1;ALDH9A1;TP53INP2;ACOT2;IDH3G;DLST;HMGCL;BLVRA;ERP29;FASN;ODC1;ACOT8;HSD17B11;MIF;GSTZ1;SUCLG1;ACAT2;ACAA1;APEX1;MDH2;CRYZ;ECI1;IDH1;MDH1;HSD17B10;ACSL1;UGDH;ACO2;BPHL;GLUL;ELOVL5;CPT2;CBR1;ECHS1;ENO2;UBE2L6;CBR3;ENO3;HADH;NSDHL;GABARAPL1;ECH1;YWHAH"
        ],
        [
         "17",
         "gsea",
         "Adipogenesis",
         "0.4910016956786351",
         "2.2323467022903625",
         "0.0",
         "0.0",
         "0.0",
         "114/195",
         "36.02%",
         "MCCC1;ATP1B3;AGPAT3;SQOR;NMT1;RREB1;BCL6;UBQLN1;PDCD4;DLAT;ACADM;BAZ2A;GBE1;HIBCH;RIOK3;PEX14;ELOVL6;ADIPOR2;BCL2L13;YWHAG;MIGA2;NDUFA5;DLD;MTCH2;SCP2;GPX4;GPD2;DHRS7B;SDHB;TKT;DNAJC15;RTN3;UCP2;GPHN;PTCD3;ABCB8;TANK;CD151;MGLL;IMMT;AK2;SDHC;RMDN3;CHUK;PFKL;ARAF;IDH3A;SOD1;LPCAT3;AIFM1;CAT;MAP4K3;COQ5;POR;DRAM2;ESRRA;ENPP2;ACAA2;PPM1B;ITSN1;ACOX1;DECR1;CS;RNF11;BCKDHA;DBT;PRDX3;IDH3G;PGM1;UQCR11;UQCRC1;LIPE;OMD;NDUFAB1;ATL2;SLC27A1;GPAT4;SUCLG1;PFKFB3;ELMOD3;ESYT1;APLP2;MDH2;TALDO1;COX8A;DDT;CMPK1;ATP5PO;PPP1R15B;NKIRAS1;COQ9;GRPEL1;IDH1;CD302;ACLY;G3BP2;TOB1;NDUFB7;SLC25A1;NABP1;UCK1;COX6A1;ACO2;MRAP;CPT2;CYC1;ETFB;PEMT;UQCR10;ECHS1;STOM;GHITM;HADH;JAGN1"
        ],
        [
         "18",
         "gsea",
         "Reactive Oxygen Species Pathway",
         "0.5660567009240954",
         "2.2178585386827665",
         "0.0",
         "0.0",
         "0.0",
         "26/49",
         "23.63%",
         "GCLC;OXSR1;MBP;SCAF4;PFKP;MSRA;SBNO2;GPX4;SELENOS;ABCC1;SOD2;ATOX1;SOD1;CAT;TXN;TXNRD2;PRDX4;STK25;TXNRD1;PRDX6;PTPA;NDUFS2;NDUFB4;ERCC2;FTL;HMOX2"
        ],
        [
         "19",
         "gsea",
         "UV Response Up",
         "0.48094489644524135",
         "2.2136887875022984",
         "0.0",
         "0.0",
         "0.0",
         "76/153",
         "32.62%",
         "TFRC;PPP1R2;E2F5;LYN;BCL2L11;CHKA;PTPRD;PRPF3;HNRNPU;POLG2;PRKCD;RFC4;DDX21;CYB5B;STARD3;GLS;ATP6V1C1;BTG2;NUP58;SQSTM1;EIF5;ABCB1;ICAM1;RPN1;NXF1;CASP3;STIP1;RAB27A;EIF2S3;SOD2;CCNE1;MARK2;POLE3;CDKN2B;MGAT1;PDAP1;IL6ST;TAP1;WIZ;CDC5L;STK25;BSG;YKT6;NFKBIA;DNAJA1;TUBA4A;POLR2H;CREG1;PPAT;TMBIM6;BID;PRKACA;RXRB;ALAS1;CDK2;AP2S1;TGFBRAP1;CLTB;SHOX2;ACAA1;EPCAM;CHRNA5;ATP6V1F;FEN1;CLCN2;GRPEL1;ONECUT1;GCH1;PSMC3;AQP3;BTG3;BAK1;C4BPB;FOS;HSPA13;CCND3"
        ],
        [
         "20",
         "gsea",
         "IL-2/STAT5 Signaling",
         "0.5045540870130086",
         "2.195295566224156",
         "0.0",
         "0.0",
         "0.0",
         "72/193",
         "25.33%",
         "AHR;IRF8;IL4R;CD83;NFKBIZ;BMPR2;BCL2;TRAF1;HUWE1;MAPKAPK2;IRF4;RHOH;IGF2R;IL10RA;SNX14;CD79B;BATF;RABGAP1L;PHTF2;NCOA3;POU2F1;PIM1;CD44;FAM126B;HIPK2;PTRH2;SNX9;PLAGL1;UMPS;SLC39A8;ABCB1;TWSG1;CDC42SE2;UCK2;IL2RA;NOP2;GPX4;LCLAT1;CASP3;PLPP1;CCND2;DCPS;CTSZ;PTCH1;MAP3K8;CCNE1;CTLA4;P4HA1;SYNGR2;DHRS3;XBP1;CD86;PLSCR1;ITGAV;BATF3;AHNAK;ADAM19;CDC6;AGER;SWAP70;RNH1;TNFRSF1B;ITGAE;PLEC;LRIG1;BCL2L1;CKAP4;EEF1AKMT1;ODC1;CD48;MYC;IL18R1"
        ],
        [
         "21",
         "gsea",
         "Apoptosis",
         "0.506240841503278",
         "2.195140093559767",
         "0.0",
         "0.0",
         "0.0",
         "77/154",
         "29.74%",
         "LEF1;BIK;SPTAN1;CTNNB1;DAP3;BCL2L11;ROCK1;IGF2R;CFLAR;DNAJC3;PDCD4;CREBBP;CD44;BRCA1;PAK1;XIAP;NEDD9;PTK2;ETF1;BTG2;SQSTM1;DAP;FEZ1;CASP2;GPX4;DNM1L;CASP3;RHOT2;CCND2;ANKH;PSEN1;WEE1;SOD2;CASP9;TOP2A;SLC20A1;HSPB1;SC5D;MCL1;SOD1;BIRC3;BNIP3L;TAP1;BCL10;MADD;DNAJA1;GSN;CD69;ISG20;DFFA;PPP3R1;BID;VDAC2;LGALS3;BCL2L1;SAT1;IL18;PMAIP1;CDC25B;CDK2;MGMT;FAS;BCL2L10;RARA;SATB1;BMF;PPP2R5B;DIABLO;EBP;TGFBR3;BCAP31;BCL2L2;RELA;CASP4;CAV1;GCH1;CASP8"
        ],
        [
         "22",
         "gsea",
         "Myc Targets V2",
         "0.5609199320300159",
         "2.168852983815505",
         "0.0",
         "0.0",
         "0.0",
         "46/58",
         "35.13%",
         "CBX3;DUSP2;GNL3;RCL1;NPM1;NOP56;FARSA;NOP2;RRP12;UTP20;AIMP2;TBRG4;WDR43;DDX18;PRMT3;SRM;RABEPK;TCOF1;SUPV3L1;HSPD1;PPRC1;TMEM97;MCM5;TFB2M;CDK4;PES1;LAS1L;PA2G4;MCM4;NOLC1;PLK4;MYC;HSPE1;SORD;PLK1;MRTO4;UNG;WDR74;RRP9;PPAN;MAP3K6;IPO4;NDUFAF4;HK2;EXOSC5;NOP16"
        ],
        [
         "23",
         "gsea",
         "KRAS Signaling Up",
         "0.48962668753884103",
         "2.163049106358189",
         "0.0",
         "0.0",
         "0.0",
         "62/186",
         "26.35%",
         "IRF8;CBL;ST6GAL1;IKZF1;ETS1;TRAF1;AVL9;PTBP2;EVI5;IL10RA;RABGAP1L;MMD;DOCK2;LAPTM5;DNMBP;ZNF277;LAT2;TOR1AIP2;RBM4;CCSER2;AKT2;CTSS;SDCCAG8;AMMECR1;CBX8;PCSK1N;CD37;ABCB1;LCP1;STRN;NIN;TNFAIP3;CCND2;ANKH;WDR33;ETV5;MAP4K1;ATG10;CBR4;TRIB1;PTCD2;ZNF639;BIRC3;F13A1;USP12;MAP3K1;CDADC1;FUCA1;CROT;PSMB8;ADAM8;KCNN4;PIGR;TNFRSF1B;ITGA2;ERO1A;ADAM17;GPNMB;LY96;SATB1;GYPC;ENG"
        ],
        [
         "24",
         "gsea",
         "UV Response Dn",
         "0.5189742681918754",
         "2.161046232593242",
         "0.0",
         "0.0",
         "0.0",
         "51/142",
         "21.47%",
         "DLG1;BMPR1A;MIOS;NR3C1;DYRK1A;ATP2C1;RUNX1;KALRN;TGFBR2;BCKDHB;RASA2;ATRX;LAMC1;PRDM2;SFMBT1;TOGARAM1;NFKB1;CDK13;PTEN;SCAF8;SPOP;ARHGEF9;ATRN;DDAH1;MAP2K5;INSIG1;ANXA2;PEX14;WDR37;MRPS31;SYNE1;NIPBL;DMAC2L;PHF3;PRKCA;PRKCE;YTHDC1;ABCC1;NEK7;MGLL;MTA1;SLC7A1;TENT4A;GRK5;AGGF1;SCN8A;MAPK14;ZMIZ1;PIAS3;SRI;ATXN1"
        ],
        [
         "25",
         "gsea",
         "IL-6/JAK/STAT3 Signaling",
         "0.493281989750931",
         "2.116240712003004",
         "0.0",
         "0.0",
         "0.0",
         "26/85",
         "22.39%",
         "IL4R;CBL;PTPN1;IL7;GRB2;TYK2;PTPN2;IL17RB;PIM1;CD44;PTPN11;IL10RB;IFNGR2;STAM2;IL2RA;IRF9;STAT3;MAP3K8;IL17RA;IL6ST;IL15RA;IFNAR1;TLR2;HAX1;TNFRSF1B;CSF3R"
        ],
        [
         "26",
         "gsea",
         "p53 Pathway",
         "0.4623915704676032",
         "2.1153833193485205",
         "0.0",
         "0.0",
         "0.0",
         "97/191",
         "35.33%",
         "CDKN2A;TP63;NOL8;DGKA;PVT1;PTPRE;TSPYL2;NOTCH1;IP6K2;ZMAT3;FBXW7;RB1;ELP1;POM121;ST14;ERCC5;HDAC3;ABAT;TRAF4;CYFIP2;SEC61A1;WWP1;BTG2;CDK5R1;PLK3;RAD51C;RALGDS;ZFP36L1;SLC3A2;CCND2;MDM2;TRAFD1;RAD9A;ADA;AK1;CDKN2B;IRAK1;FAM162A;EI24;CCNK;ABCC5;IER5;TAP1;CD82;BLCAP;PPM1D;TM7SF3;APAF1;GM2A;FUCA1;MXD4;RAB40C;KIF13B;HINT1;WRAP73;ANKRA2;HEXIM1;CCP110;RCHY1;SAT1;PIDD1;RHBDF2;LDHB;POLH;FAS;CGRRF1;EPS8L2;DNTTIP2;AEN;SLC7A11;SP1;TGFB1;TRIB3;CSRNP2;ITGB4;PERP;NINJ1;SLC35D1;TOB1;XPC;RAP2B;PCNA;BAK1;BAX;FOS;MXD1;CCND3;CTSF;TP53;ISCU;VAMP8;NDRG1;RGS16;PDGFA;TNFSF9;CD81;STOM"
        ],
        [
         "27",
         "gsea",
         "Bile Acid Metabolism",
         "0.4677348929375211",
         "2.1097197501564815",
         "0.0",
         "0.0",
         "0.0",
         "48/109",
         "29.97%",
         "SLC23A2;BCAR3;FADS2;ABCA5;PNPLA8;HSD17B4;OPTN;SCP2;LCK;ABCA6;ACSL5;SLC29A1;NPC1;SLC35B2;HACL1;PEX6;PEX1;MLYCD;IDI1;LONP2;SOD1;GNPAT;CAT;NEDD4;PEX26;FADS1;PEX13;CROT;GSTK1;PEX7;ATXN1;EFHC1;ALDH9A1;TFCP2L1;ABCA9;LIPE;PFKM;PEX11A;SLC23A1;HSD17B11;GNMT;PEX19;SLC27A5;PEX16;PRDX5;IDH1;ACSL1;NR1I2"
        ],
        [
         "28",
         "gsea",
         "Hedgehog Signaling",
         "0.5496954463537963",
         "2.06636920617971",
         "0.0",
         "6.224774102947804e-05",
         "0.001",
         "9/35",
         "18.01%",
         "NRCAM;TLE1;RASA1;NF1;CDK6;CDK5R1;PTCH1;PML;LDB1"
        ],
        [
         "29",
         "gsea",
         "Estrogen Response Early",
         "0.45465786192941443",
         "2.0651028226602586",
         "0.0",
         "6.017281632849545e-05",
         "0.001",
         "74/189",
         "31.65%",
         "UGCG;INPP5F;FARP1;BCL2;SH3BP5;FKBP5;JAK2;FRK;FCMR;WWC1;CBFA2T3;RHOBTB3;AMFR;IL17RB;CD44;KDM4B;GAB2;ABAT;MAST4;FAM102A;TIPARP;ELF1;RBBP8;B4GALT1;AFF1;RPS6KA2;KAZN;RRP12;GREB1;NADSYN1;OVOL2;ABHD2;SIAH2;MED24;IL6ST;DHRS3;XBP1;TMEM164;FOXC1;NCOR2;TGIF2;FDFT1;ZNF185;SLC1A4;AKAP1;RAPGEFL1;MYBL1;MED13L;SNX24;LRIG1;PMAIP1;MINDY1;PEX11A;FASN;ARL3;BAG1;MYC;RARA;MREG;ITPK1;CLDN7;SLC39A6;GLA;ADCY1;PRSS23;ADCY9;NBL1;SLC37A1;CANT1;AQP3;TOB1;SLC16A1;PLAAT3;SLC9A3R1"
        ],
        [
         "30",
         "gsea",
         "Wnt-beta Catenin Signaling",
         "0.5657726286223379",
         "2.038118390624085",
         "0.0",
         "5.823175773725366e-05",
         "0.001",
         "17/40",
         "25.19%",
         "LEF1;CTNNB1;NOTCH1;CUL1;NUMB;CCND2;NCSTN;PTCH1;WNT5B;RBPJ;PPARD;MAML1;HDAC2;NCOR2;AXIN1;ADAM17;MYC"
        ],
        [
         "31",
         "gsea",
         "TNF-alpha Signaling via NF-kB",
         "0.44399262088834973",
         "2.012269518106978",
         "0.0",
         "0.00016923604592389342",
         "0.003",
         "79/196",
         "32.49%",
         "CD83;CCNL1;TRAF1;NFAT5;PTPRE;TNFAIP8;BCL2A1;CFLAR;PDE4B;BCL6;DUSP2;NFKB1;TNIP1;CD44;RELB;IFNGR2;TIPARP;CD80;TGIF1;BTG2;SQSTM1;B4GALT1;EHD1;NAMPT;ICAM1;TNFAIP3;BCL3;SLC16A6;MAP3K8;SOD2;TANK;SLC2A6;IRS2;NFKBIE;IL6ST;MCL1;IER5;TRIB1;BIRC2;IL15RA;BIRC3;TAP1;NFE2L2;RIPK2;NFKBIA;MAP2K3;MARCKS;TLR2;CD69;ZC3H12A;EGR2;ZFP36;PTGER4;LITAF;SAT1;IL18;KDM6B;NR4A3;RCAN1;MYC;PDLIM5;PANX1;KYNU;PFKFB3;NFKB2;YRDC;ZBTB10;RELA;VEGFA;GCH1;CCRL2;NINJ1;REL;NR4A2;BTG3;TRIP10;KLF9;FOS;MXD1"
        ],
        [
         "32",
         "gsea",
         "Spermatogenesis",
         "0.4793508297079676",
         "1.992824181726606",
         "0.0",
         "0.00016410768089589664",
         "0.003",
         "43/111",
         "27.99%",
         "TLE4;EZH2;TOPBP1;BRAF;PIAS2;IP6K1;CAMK4;PRKAR2A;MLLT10;RFC4;STAM2;SLC12A2;DBF4;PCSK1N;RPL39L;PGS1;PHF7;IDE;CSNK2A2;MAST2;STRBP;NF2;ZC3H14;MTOR;RAD17;GFI1;CLPB;IFT88;TSN;ZPBP;SIRT1;CHFR;GMCL1;TTK;PHKG2;JAM3;COIL;AURKA;AGFG1;TALDO1;PEBP1;KIF2C;BUB1"
        ],
        [
         "33",
         "gsea",
         "Complement",
         "0.44196632486325044",
         "1.9638517152873887",
         "0.0",
         "0.00047784295319687557",
         "0.009",
         "84/196",
         "33.71%",
         "DGKG;CTSH;JAK2;PRCP;DOCK10;LYN;PIK3CA;USP8;ADAM9;GRB2;DGKH;XPNPEP1;KIF2A;USP16;DOCK9;PRKCD;PIM1;CD46;CR2;AKAP10;CBLB;KCNIP2;CTSS;RAF1;USP15;USP14;GNAI2;CDK5R1;EHD1;C1S;LCK;CTSC;CASP3;TNFAIP3;GPD2;HSPA5;PSEN1;FDX1;ATOX1;GNAI3;CASP9;GNB2;RNF4;VCPIP1;ZEB1;PLSCR1;PSMB9;PCLO;CD55;RCE1;PPP2CB;PPP4C;SH2B3;LAMP2;WAS;LGALS3;SIRT6;PRDM4;CTSB;RABIF;KYNU;ANXA5;CP;RBSN;GNG2;RHOG;ZFPM2;S100A13;C2;CASP4;STX4;CALM1;PIK3CG;PFN1;TIMP2;LTA4H;F8;TIMP1;C4BPB;PHEX;IRF2;GMFB;CASP5;MSRB1"
        ],
        [
         "34",
         "gsea",
         "Interferon Gamma Response",
         "0.44614460740134976",
         "1.9324921452047514",
         "0.0",
         "0.0008252271953622232",
         "0.013",
         "77/198",
         "23.56%",
         "IRF8;IL4R;PELI1;PTPN1;HLA-DMA;JAK2;IRF4;IL7;IL10RA;IFNAR2;PDE4B;SPPL2A;PTPN2;NFKB1;NCOA3;PIM1;HLA-DRB1;TRIM26;LATS2;PFKP;CIITA;RAPGEF6;MX2;NAMPT;ICAM1;HLA-DQA1;NUP93;IRF5;C1S;IRF9;CASP3;TNFAIP3;STAT3;CD74;TRAFD1;SOD2;PSMA3;NLRC5;ST3GAL5;RNF213;TOR1B;TAPBP;ADAR;HIF1A;PNPT1;PML;ST8SIA4;RBCK1;OGFR;IL15RA;PARP12;TAP1;TDRD7;CD86;PLSCR1;PSMB9;RIPK2;NFKBIA;CMTR1;MTHFD2;PSMA2;CD40;AUTS2;PSMB8;RNF31;PSMB2;CD69;HLA-A;ISG20;SRI;ZNFX1;ARID5B;B2M;MVP;HLA-B;NOD1;GPR18"
        ],
        [
         "35",
         "gsea",
         "Apical Surface",
         "0.5234890141962601",
         "1.9167334673719076",
         "0.0",
         "0.0008524482313203522",
         "0.013",
         "10/43",
         "15.72%",
         "SULF2;LYN;ATP8B1;ADAM10;BRCA1;FLOT2;ADIPOR2;B4GALT1;NCOA6;HSPB1"
        ],
        [
         "36",
         "gsea",
         "Cholesterol Homeostasis",
         "0.472228486767865",
         "1.9088740163588545",
         "0.0018726591760299626",
         "0.0009757753999215476",
         "0.013",
         "42/73",
         "38.66%",
         "LSS;CTNNB1;CHKA;FADS2;ATXN2;FDPS;STX5;GUSB;CYP51A1;HSD17B7;IDI1;SC5D;SQLE;ATF5;TMEM97;PLSCR1;FDFT1;HMGCS1;SCD;PCYT2;HMGCR;LGALS3;ACTG1;SREBF2;TM7SF2;FASN;PDK3;ACAT2;MVD;TRIB3;ANXA5;EBP;GSTM2;ALDOC;CD9;ABCA2;S100A11;NSDHL;ECH1;PNRC1;ETHE1;LDLR"
        ],
        [
         "37",
         "gsea",
         "Apical Junction",
         "0.4288844404374982",
         "1.8664954393660869",
         "0.0",
         "0.0015676602148739602",
         "0.02",
         "63/193",
         "28.08%",
         "SKAP2;DLG1;SYK;TRAF1;EXOC4;ADAM9;RASA1;MPZL1;NF1;SGCE;PTEN;PIK3CB;INSIG1;TSC1;SYMPK;PTK2;WASL;AKT2;CDK8;TIAL1;ITGA3;GNAI2;B4GALT1;MPP5;PBX2;CTNNA1;ICAM1;DHX16;ARPC2;NF2;ICAM5;MAP4K2;IKBKG;MYH10;PTPRC;CLDN15;ACTB;CD86;INPPL1;MAP3K20;RSU1;MAPK14;MYL12B;CTNND1;MSN;ITGA2;TGFBI;ACTG1;JAM3;PIK3R3;ACTN4;ADAM15;GTF2F1;VASP;PKD1;SORBS3;ARHGEF6;CLDN7;AKT3;MVD;CLDN11;TAOK2;ITGB4"
        ],
        [
         "38",
         "gsea",
         "Inflammatory Response",
         "0.4062751025126351",
         "1.8364768669901097",
         "0.0016474464579901153",
         "0.002221765525975216",
         "0.031",
         "52/192",
         "25.33%",
         "MSR1;AHR;IL4R;ABI1;ATP2C1;LYN;PTPRE;IL10RA;PDE4B;NFKB1;ATP2A2;RNF144B;CD70;IFNGR2;SEMA4D;RAF1;BTG2;NAMPT;ICAM1;LCK;SELENOS;PSEN1;CYBB;GNAI3;SLC11A2;SLC7A1;LTA;TAPBP;HIF1A;SLC31A1;IL15RA;CD82;RIPK2;IFNAR1;CD55;NFKBIA;CD40;TLR2;CD69;KCNMB2;CCR7;SRI;GABBR1;PTGER4;TNFRSF1B;CSF3R;IL18;CHST2;ACVR2A;CD48;MYC;IL18R1"
        ],
        [
         "39",
         "gsea",
         "Estrogen Response Late",
         "0.3918381183609047",
         "1.8209191421038604",
         "0.0",
         "0.0026175175102895517",
         "0.037",
         "77/190",
         "34.86%",
         "FARP1;BCL2;FKBP5;JAK2;FRK;BATF;SNX10;ST14;AMFR;DUSP2;PDCD4;IL17RB;JAK1;CD44;DLG5;FAM102A;RBBP8;METTL3;AFF1;RPS6KA2;DNAJC1;SLC29A1;OVOL2;ABHD2;SIAH2;PLXNB1;TOP2A;IL6ST;NAB2;XBP1;MEST;FOXC1;STIL;COX6C;NCOR2;FDFT1;SLC1A4;HPRT1;ALDH3A2;RAPGEFL1;ISG20;ZFP36;CDC6;PLK4;XRCC3;TSTA3;ARL3;BAG1;ITPK1;SORD;GLA;PTPN6;PRSS23;NBL1;SLC2A8;CAV1;PERP;LLGL2;UGDH;TOB1;BTG3;MOCS2;SLC16A1;PLAAT3;SLC9A3R1;IDH2;FOS;PRKAR2B;ADD3;ELOVL5;CD9;MYB;ETFB;S100A9;MICB;HOMER2;PPIF"
        ],
        [
         "40",
         "gsea",
         "KRAS Signaling Dn",
         "0.3879615249060483",
         "1.7471168705767735",
         "0.0",
         "0.00545958235956105",
         "0.07",
         "39/154",
         "28.44%",
         "NR6A1;THRB;PTPRJ;SKIL;CLDN16;VPS50;RYR1;PLAG1;SLC16A7;TG;ASB7;CDKAL1;TENT5C;CD80;DTNB;BTG2;CPEB3;TCL1A;SLC25A23;GTF3C5;SPTBN2;SIDT1;KMT2D;MSH5;CLSTN3;MFSD6;ARPP21;MTHFR;TFCP2L1;PDCD1;THNSL2;CHST2;BARD1;SLC29A3;ENTPD7;SHOX2;YPEL1;FGF22;IDUA"
        ],
        [
         "41",
         "gsea",
         "Hypoxia",
         "0.3812127492231638",
         "1.7441233726871128",
         "0.0",
         "0.0055444952188399375",
         "0.071",
         "81/191",
         "35.79%",
         "GRHPR;BCL2;ETS1;GCNT2;NR3C1;ZNF292;NEDD4L;XPNPEP1;KLHL24;HEXA;PIM1;GBE1;TIPARP;PFKP;ANXA2;GYS1;TES;HDLBP;ENO1;EXT1;TNFAIP3;HSPA5;HK1;PRKCA;WSB1;KDM3A;SIAH2;RBPJ;PGK1;GPI;FAM162A;IRS2;TPST2;PAM;P4HA1;PFKL;BNIP3L;MAP3K1;PHKG1;JMJD6;VHL;ISG20;ZFP36;LDHA;GAPDH;TPI1;TGFBI;PGM1;ERO1A;PDK1;UGP2;SAP30;CHST2;PDK3;NDST1;KIF5A;IDS;ANKZF1;MIF;PFKFB3;CP;AK4;PRDX5;VEGFA;CAV1;MXI1;SLC25A1;NAGK;ALDOC;SLC37A4;FOS;NDST2;ADORA2B;ATP7A;NDRG1;HK2;ENO2;NOCT;SLC6A6;LDHC;ENO3"
        ],
        [
         "42",
         "gsea",
         "Xenobiotic Metabolism",
         "0.3865196379970133",
         "1.7138631958280477",
         "0.0",
         "0.007178756924771665",
         "0.085",
         "80/184",
         "38.82%",
         "IRF8;GCNT2;GCLC;GART;NMT1;ATP2A2;MAN1A1;MCCC2;BCAT1;CYFIP2;SAR1B;SSR3;PTS;LONP1;ARPP19;CNDP2;PTGES3;ABHD6;COMT;NPC1;HACL1;ASL;PPARD;SLC46A3;SPINT2;CAT;SHMT2;TMEM97;POR;SLC22A1;ACOX3;LPIN2;SLC35B1;HPRT1;CROT;ACOX1;TMBIM6;ALDH9A1;ENTPD5;DHPS;ALAS1;MTHFD1;ACP1;FAS;PDLIM5;MPP2;PYCR1;GNMT;KYNU;PSMB10;DDT;IDH1;GCH1;AP4B1;NINJ1;SLC35D1;UGDH;DHRS1;ACO2;BPHL;GSR;LCAT;PGD;ELOVL5;GSTO1;ADH5;GSS;CBR1;PEMT;SLC6A6;ACP2;NFS1;GABARAPL1;ECH1;HMOX1;ETFDH;FAH;IGFBP4;PTGR1;AHCY"
        ],
        [
         "43",
         "gsea",
         "Interferon Alpha Response",
         "0.36830894100579564",
         "1.53078136839113",
         "0.0481651376146789",
         "0.033765155344330736",
         "0.261",
         "47/96",
         "36.21%",
         "IL4R;NCOA7;IL7;CD47;HLA-C;TRIM26;ELF1;C1S;IRF9;CD74;TRAFD1;PSMA3;ADAR;PNPT1;OGFR;PARP12;TAP1;TDRD7;PLSCR1;PSMB9;RIPK2;CMTR1;PSMB8;RNF31;ISG20;LPAR6;B2M;SAMD9;UBA7;STAT2;RTP4;CCRL2;CASP8;MVB12A;LAMP3;IFI27;IRF2;IFITM3;TRIM14;TRIM25;NUB1;SP110;LAP3;PSME2;UBE2L6;BST2;TRIM5"
        ],
        [
         "44",
         "gsea",
         "Coagulation",
         "0.32189244446369053",
         "1.4745877916703585",
         "0.01476510067114094",
         "0.05042482008327918",
         "0.335",
         "57/127",
         "46.58%",
         "CTSH;ADAM9;ARF4;USP11;C1S;RAC1;CASP9;GNB2;SIRT2;GSN;LAMP2;ITGA2;CTSB;RAPGEF3;RABIF;PRSS23;S100A13;C2;WDR1;LTA4H;F8;TIMP1;CD9;PEF1;DUSP14;MSRB2;ISCU;PECAM1;CTSK;TMPRSS6;PLAT;RGN;C1R;CFD;APOC2;VWF;CAPN5;PROS1;C8G;SH2B2;SERPING1;MMP2;FBN1;THBS1;FYN;MST1;APOA1;CPB2;FN1;APOC1;CFH;CSRP1;SPARC;PREP;CPN1;HPN;C1QA"
        ],
        [
         "45",
         "gsea",
         "Myogenesis",
         "0.3027418984722571",
         "1.4308624331634838",
         "0.019455252918287938",
         "0.0656145318921159",
         "0.391",
         "95/184",
         "50.51%",
         "EIF4A2;DMD;GNAO1;MEF2A;SPTAN1;NOTCH1;RB1;RYR1;TPM2;FDPS;TSC2;TPM3;AKT2;KIFC3;IFRD1;PDLIM7;AGL;MAPK12;RIT1;SH2B1;DMPK;MYL6B;AK1;SYNGR2;FLII;AEBP1;ITGB5;SIRT2;GSN;SCD;VIPR1;PFKM;ATP6AP1;PDE4DIP;BAG1;TEAD4;SORBS3;TGFB1;MAPRE3;ITGB4;ADCY9;WWTR1;ACSL1;MYOM1;MEF2D;MYO1C;MYH11;PICK1;SH3BGR;FST;ENO3;GABARAPL2;DTNA;LAMA2;COL4A2;OCEL1;CFD;CAV3;ATP2A1;HDAC5;KCNH2;PRNP;LDB3;ITGB1;KCNH1;CTF1;KLF5;PTP4A3;ACTN3;MYH3;CHRNB1;TNNC2;SPARC;BHLHE40;CD36;SPHK1;NQO1;ACHE;IGF1;SORBS1;LPIN1;FOXO4;AGRN;FHL1;ABLIM1;IGFBP7;CKB;SMTN;PYGM;GADD45B;FXYD1;PTGIS;COL6A3;CHRNG;FGF2"
        ],
        [
         "46",
         "gsea",
         "Notch Signaling",
         "0.4317894773803012",
         "1.4169558481594373",
         "0.07166123778501629",
         "0.07021015420116361",
         "0.411",
         "15/32",
         "36.15%",
         "DTX1;NOTCH1;CUL1;PRKCA;PPARD;FBXW11;DTX2;TCF7L2;SKP1;SAP30;MAML2;APH1A;DTX4;NOTCH3;RBX1"
        ],
        [
         "47",
         "gsea",
         "Pancreas Beta Cells",
         "0.4382560013924018",
         "1.352082388810285",
         "0.10353535353535354",
         "0.10022534719715022",
         "0.494",
         "8/28",
         "29.05%",
         "ELP4;SEC11A;FOXO1;SRP9;SRPRB;AKT3;STXBP1;SPCS1"
        ],
        [
         "48",
         "gsea",
         "Epithelial Mesenchymal Transition",
         "0.240190928327873",
         "1.020071895071517",
         "0.4364060676779463",
         "0.43670728454570507",
         "0.914",
         "83/195",
         "51.12%",
         "LOXL2;COPA;COLGALT1;CALU;LAMC1;TPM2;CD44;MCM7;TNFAIP3;BASP1;PPIB;PLOD3;ACTA2;MEST;CADM1;ITGAV;ECM2;ITGB5;FUCA1;QSOX1;TPM4;ITGA2;TGFBI;P3H1;SAT1;IL32;FAS;SGCB;TGFB1;GPX7;SFRP4;TGFBR3;PLOD1;PCOLCE2;VEGFA;WIPF1;PFN2;SERPINE2;OXTR;TIMP1;NTM;ENO2;PDGFRB;MFAP5;ELN;LAMA2;COL4A2;IGFBP4;TNC;ITGB1;ECM1;FSTL3;COL1A2;MMP2;FBN1;THBS1;GEM;COL4A1;DAB2;DST;COL5A3;FBLN1;FN1;BGN;SPARC;PLOD2;ANPEP;PMP22;LAMA1;APLP1;DCN;CCN1;FMOD;SCG2;CD59;GADD45B;AREG;COL6A3;FGF2;THBS2;LUM;LOX;PTX3"
        ],
        [
         "49",
         "gsea",
         "Angiogenesis",
         "0.24088232918270547",
         "0.8900717232363752",
         "0.6282642089093702",
         "0.6196837316773774",
         "0.974",
         "8/34",
         "34.50%",
         "PTK2;CCND2;ITGAV;LRPAP1;FGFR1;VEGFA;TIMP1;PDGFA"
        ]
       ],
       "shape": {
        "columns": 10,
        "rows": 50
       }
      },
      "text/html": [
       "<div>\n",
       "<style scoped>\n",
       "    .dataframe tbody tr th:only-of-type {\n",
       "        vertical-align: middle;\n",
       "    }\n",
       "\n",
       "    .dataframe tbody tr th {\n",
       "        vertical-align: top;\n",
       "    }\n",
       "\n",
       "    .dataframe thead th {\n",
       "        text-align: right;\n",
       "    }\n",
       "</style>\n",
       "<table border=\"1\" class=\"dataframe\">\n",
       "  <thead>\n",
       "    <tr style=\"text-align: right;\">\n",
       "      <th></th>\n",
       "      <th>Name</th>\n",
       "      <th>Term</th>\n",
       "      <th>ES</th>\n",
       "      <th>NES</th>\n",
       "      <th>NOM p-val</th>\n",
       "      <th>FDR q-val</th>\n",
       "      <th>FWER p-val</th>\n",
       "      <th>Tag %</th>\n",
       "      <th>Gene %</th>\n",
       "      <th>Lead_genes</th>\n",
       "    </tr>\n",
       "  </thead>\n",
       "  <tbody>\n",
       "    <tr>\n",
       "      <th>0</th>\n",
       "      <td>gsea</td>\n",
       "      <td>mTORC1 Signaling</td>\n",
       "      <td>0.59834</td>\n",
       "      <td>2.567109</td>\n",
       "      <td>0.0</td>\n",
       "      <td>0.0</td>\n",
       "      <td>0.0</td>\n",
       "      <td>151/197</td>\n",
       "      <td>33.41%</td>\n",
       "      <td>TFRC;SLA;SKAP2;GSK3B;GCLC;EGLN3;ACACA;SERP1;CA...</td>\n",
       "    </tr>\n",
       "    <tr>\n",
       "      <th>1</th>\n",
       "      <td>gsea</td>\n",
       "      <td>PI3K/AKT/mTOR  Signaling</td>\n",
       "      <td>0.608199</td>\n",
       "      <td>2.543099</td>\n",
       "      <td>0.0</td>\n",
       "      <td>0.0</td>\n",
       "      <td>0.0</td>\n",
       "      <td>64/104</td>\n",
       "      <td>25.35%</td>\n",
       "      <td>SLA;GSK3B;MAPKAP1;SMAD2;ACACA;MAP2K6;GRB2;ITPR...</td>\n",
       "    </tr>\n",
       "    <tr>\n",
       "      <th>2</th>\n",
       "      <td>gsea</td>\n",
       "      <td>G2-M Checkpoint</td>\n",
       "      <td>0.642003</td>\n",
       "      <td>2.531058</td>\n",
       "      <td>0.0</td>\n",
       "      <td>0.0</td>\n",
       "      <td>0.0</td>\n",
       "      <td>152/195</td>\n",
       "      <td>28.15%</td>\n",
       "      <td>MEIS2;TRA2B;SLC38A1;SMARCC1;DMD;EZH2;CUL4A;SS1...</td>\n",
       "    </tr>\n",
       "    <tr>\n",
       "      <th>3</th>\n",
       "      <td>gsea</td>\n",
       "      <td>Myc Targets V1</td>\n",
       "      <td>0.615857</td>\n",
       "      <td>2.529097</td>\n",
       "      <td>0.0</td>\n",
       "      <td>0.0</td>\n",
       "      <td>0.0</td>\n",
       "      <td>138/196</td>\n",
       "      <td>25.19%</td>\n",
       "      <td>TRA2B;GOT2;SMARCC1;HNRNPA2B1;FAM120A;RAD23B;CA...</td>\n",
       "    </tr>\n",
       "    <tr>\n",
       "      <th>4</th>\n",
       "      <td>gsea</td>\n",
       "      <td>Oxidative Phosphorylation</td>\n",
       "      <td>0.574842</td>\n",
       "      <td>2.501449</td>\n",
       "      <td>0.0</td>\n",
       "      <td>0.0</td>\n",
       "      <td>0.0</td>\n",
       "      <td>156/200</td>\n",
       "      <td>34.39%</td>\n",
       "      <td>OPA1;GOT2;PMPCA;ETFA;OGDH;SUCLA2;HSPA9;DLAT;AC...</td>\n",
       "    </tr>\n",
       "    <tr>\n",
       "      <th>5</th>\n",
       "      <td>gsea</td>\n",
       "      <td>Protein Secretion</td>\n",
       "      <td>0.646177</td>\n",
       "      <td>2.49285</td>\n",
       "      <td>0.0</td>\n",
       "      <td>0.0</td>\n",
       "      <td>0.0</td>\n",
       "      <td>70/94</td>\n",
       "      <td>24.62%</td>\n",
       "      <td>STAM;GOLGA4;ARFGEF2;COPB2;IGF2R;MON2;AP3S1;ARF...</td>\n",
       "    </tr>\n",
       "    <tr>\n",
       "      <th>6</th>\n",
       "      <td>gsea</td>\n",
       "      <td>TGF-beta Signaling</td>\n",
       "      <td>0.634984</td>\n",
       "      <td>2.491365</td>\n",
       "      <td>0.0</td>\n",
       "      <td>0.0</td>\n",
       "      <td>0.0</td>\n",
       "      <td>22/53</td>\n",
       "      <td>13.25%</td>\n",
       "      <td>BMPR2;BMPR1A;BCAR3;ARID4B;SKIL;CTNNB1;SMURF1;M...</td>\n",
       "    </tr>\n",
       "    <tr>\n",
       "      <th>7</th>\n",
       "      <td>gsea</td>\n",
       "      <td>DNA Repair</td>\n",
       "      <td>0.570657</td>\n",
       "      <td>2.489382</td>\n",
       "      <td>0.0</td>\n",
       "      <td>0.0</td>\n",
       "      <td>0.0</td>\n",
       "      <td>119/150</td>\n",
       "      <td>36.43%</td>\n",
       "      <td>NT5C3A;SNAPC4;HCLS1;EDF1;POLA1;RALA;POM121;NFX...</td>\n",
       "    </tr>\n",
       "    <tr>\n",
       "      <th>8</th>\n",
       "      <td>gsea</td>\n",
       "      <td>Mitotic Spindle</td>\n",
       "      <td>0.611754</td>\n",
       "      <td>2.484635</td>\n",
       "      <td>0.0</td>\n",
       "      <td>0.0</td>\n",
       "      <td>0.0</td>\n",
       "      <td>135/199</td>\n",
       "      <td>27.99%</td>\n",
       "      <td>CCDC88A;RABGAP1;ARHGEF7;FARP1;DLG1;RAPGEF5;ARH...</td>\n",
       "    </tr>\n",
       "    <tr>\n",
       "      <th>9</th>\n",
       "      <td>gsea</td>\n",
       "      <td>Unfolded Protein Response</td>\n",
       "      <td>0.594353</td>\n",
       "      <td>2.45421</td>\n",
       "      <td>0.0</td>\n",
       "      <td>0.0</td>\n",
       "      <td>0.0</td>\n",
       "      <td>82/108</td>\n",
       "      <td>33.03%</td>\n",
       "      <td>EIF4A2;CNOT4;TSPYL2;DDX10;DCP1A;SERP1;EIF4G1;P...</td>\n",
       "    </tr>\n",
       "    <tr>\n",
       "      <th>10</th>\n",
       "      <td>gsea</td>\n",
       "      <td>Pperoxisome</td>\n",
       "      <td>0.566062</td>\n",
       "      <td>2.453256</td>\n",
       "      <td>0.0</td>\n",
       "      <td>0.0</td>\n",
       "      <td>0.0</td>\n",
       "      <td>63/101</td>\n",
       "      <td>29.97%</td>\n",
       "      <td>SMARCC1;SLC23A2;SLC25A19;EHHADH;ACSL4;FDPS;HSD...</td>\n",
       "    </tr>\n",
       "    <tr>\n",
       "      <th>11</th>\n",
       "      <td>gsea</td>\n",
       "      <td>Allograft Rejection</td>\n",
       "      <td>0.556517</td>\n",
       "      <td>2.435594</td>\n",
       "      <td>0.0</td>\n",
       "      <td>0.0</td>\n",
       "      <td>0.0</td>\n",
       "      <td>72/187</td>\n",
       "      <td>23.67%</td>\n",
       "      <td>IRF8;IL4R;CDKN2A;HLA-DMA;ETS1;JAK2;ABI1;IL16;I...</td>\n",
       "    </tr>\n",
       "    <tr>\n",
       "      <th>12</th>\n",
       "      <td>gsea</td>\n",
       "      <td>E2F Targets</td>\n",
       "      <td>0.601765</td>\n",
       "      <td>2.424728</td>\n",
       "      <td>0.0</td>\n",
       "      <td>0.0</td>\n",
       "      <td>0.0</td>\n",
       "      <td>144/198</td>\n",
       "      <td>28.19%</td>\n",
       "      <td>TFRC;TRA2B;CDKN2A;EZH2;PNN;LUC7L3;SMC4;RAD50;M...</td>\n",
       "    </tr>\n",
       "    <tr>\n",
       "      <th>13</th>\n",
       "      <td>gsea</td>\n",
       "      <td>Glycolysis</td>\n",
       "      <td>0.520759</td>\n",
       "      <td>2.351815</td>\n",
       "      <td>0.0</td>\n",
       "      <td>0.0</td>\n",
       "      <td>0.0</td>\n",
       "      <td>100/192</td>\n",
       "      <td>30.42%</td>\n",
       "      <td>GOT2;FUT8;COPB2;BIK;GCLC;PMM2;SLC25A13;EGLN3;Z...</td>\n",
       "    </tr>\n",
       "    <tr>\n",
       "      <th>14</th>\n",
       "      <td>gsea</td>\n",
       "      <td>heme Metabolism</td>\n",
       "      <td>0.53516</td>\n",
       "      <td>2.351385</td>\n",
       "      <td>0.0</td>\n",
       "      <td>0.0</td>\n",
       "      <td>0.0</td>\n",
       "      <td>98/189</td>\n",
       "      <td>30.59%</td>\n",
       "      <td>TFRC;ARHGEF12;DCUN1D1;NR3C1;RBM5;GAPVD1;TFDP2;...</td>\n",
       "    </tr>\n",
       "    <tr>\n",
       "      <th>15</th>\n",
       "      <td>gsea</td>\n",
       "      <td>Androgen Response</td>\n",
       "      <td>0.544969</td>\n",
       "      <td>2.243387</td>\n",
       "      <td>0.0</td>\n",
       "      <td>0.0</td>\n",
       "      <td>0.0</td>\n",
       "      <td>66/99</td>\n",
       "      <td>34.71%</td>\n",
       "      <td>NGLY1;IQGAP2;FKBP5;TNFAIP8;PIAS1;CDK6;APPBP2;L...</td>\n",
       "    </tr>\n",
       "    <tr>\n",
       "      <th>16</th>\n",
       "      <td>gsea</td>\n",
       "      <td>Fatty Acid Metabolism</td>\n",
       "      <td>0.504614</td>\n",
       "      <td>2.241682</td>\n",
       "      <td>0.0</td>\n",
       "      <td>0.0</td>\n",
       "      <td>0.0</td>\n",
       "      <td>94/149</td>\n",
       "      <td>36.75%</td>\n",
       "      <td>GRHPR;EHHADH;SUCLA2;BCKDHB;ACSL4;PTPRG;HSDL2;H...</td>\n",
       "    </tr>\n",
       "    <tr>\n",
       "      <th>17</th>\n",
       "      <td>gsea</td>\n",
       "      <td>Adipogenesis</td>\n",
       "      <td>0.491002</td>\n",
       "      <td>2.232347</td>\n",
       "      <td>0.0</td>\n",
       "      <td>0.0</td>\n",
       "      <td>0.0</td>\n",
       "      <td>114/195</td>\n",
       "      <td>36.02%</td>\n",
       "      <td>MCCC1;ATP1B3;AGPAT3;SQOR;NMT1;RREB1;BCL6;UBQLN...</td>\n",
       "    </tr>\n",
       "    <tr>\n",
       "      <th>18</th>\n",
       "      <td>gsea</td>\n",
       "      <td>Reactive Oxygen Species Pathway</td>\n",
       "      <td>0.566057</td>\n",
       "      <td>2.217859</td>\n",
       "      <td>0.0</td>\n",
       "      <td>0.0</td>\n",
       "      <td>0.0</td>\n",
       "      <td>26/49</td>\n",
       "      <td>23.63%</td>\n",
       "      <td>GCLC;OXSR1;MBP;SCAF4;PFKP;MSRA;SBNO2;GPX4;SELE...</td>\n",
       "    </tr>\n",
       "    <tr>\n",
       "      <th>19</th>\n",
       "      <td>gsea</td>\n",
       "      <td>UV Response Up</td>\n",
       "      <td>0.480945</td>\n",
       "      <td>2.213689</td>\n",
       "      <td>0.0</td>\n",
       "      <td>0.0</td>\n",
       "      <td>0.0</td>\n",
       "      <td>76/153</td>\n",
       "      <td>32.62%</td>\n",
       "      <td>TFRC;PPP1R2;E2F5;LYN;BCL2L11;CHKA;PTPRD;PRPF3;...</td>\n",
       "    </tr>\n",
       "    <tr>\n",
       "      <th>20</th>\n",
       "      <td>gsea</td>\n",
       "      <td>IL-2/STAT5 Signaling</td>\n",
       "      <td>0.504554</td>\n",
       "      <td>2.195296</td>\n",
       "      <td>0.0</td>\n",
       "      <td>0.0</td>\n",
       "      <td>0.0</td>\n",
       "      <td>72/193</td>\n",
       "      <td>25.33%</td>\n",
       "      <td>AHR;IRF8;IL4R;CD83;NFKBIZ;BMPR2;BCL2;TRAF1;HUW...</td>\n",
       "    </tr>\n",
       "    <tr>\n",
       "      <th>21</th>\n",
       "      <td>gsea</td>\n",
       "      <td>Apoptosis</td>\n",
       "      <td>0.506241</td>\n",
       "      <td>2.19514</td>\n",
       "      <td>0.0</td>\n",
       "      <td>0.0</td>\n",
       "      <td>0.0</td>\n",
       "      <td>77/154</td>\n",
       "      <td>29.74%</td>\n",
       "      <td>LEF1;BIK;SPTAN1;CTNNB1;DAP3;BCL2L11;ROCK1;IGF2...</td>\n",
       "    </tr>\n",
       "    <tr>\n",
       "      <th>22</th>\n",
       "      <td>gsea</td>\n",
       "      <td>Myc Targets V2</td>\n",
       "      <td>0.56092</td>\n",
       "      <td>2.168853</td>\n",
       "      <td>0.0</td>\n",
       "      <td>0.0</td>\n",
       "      <td>0.0</td>\n",
       "      <td>46/58</td>\n",
       "      <td>35.13%</td>\n",
       "      <td>CBX3;DUSP2;GNL3;RCL1;NPM1;NOP56;FARSA;NOP2;RRP...</td>\n",
       "    </tr>\n",
       "    <tr>\n",
       "      <th>23</th>\n",
       "      <td>gsea</td>\n",
       "      <td>KRAS Signaling Up</td>\n",
       "      <td>0.489627</td>\n",
       "      <td>2.163049</td>\n",
       "      <td>0.0</td>\n",
       "      <td>0.0</td>\n",
       "      <td>0.0</td>\n",
       "      <td>62/186</td>\n",
       "      <td>26.35%</td>\n",
       "      <td>IRF8;CBL;ST6GAL1;IKZF1;ETS1;TRAF1;AVL9;PTBP2;E...</td>\n",
       "    </tr>\n",
       "    <tr>\n",
       "      <th>24</th>\n",
       "      <td>gsea</td>\n",
       "      <td>UV Response Dn</td>\n",
       "      <td>0.518974</td>\n",
       "      <td>2.161046</td>\n",
       "      <td>0.0</td>\n",
       "      <td>0.0</td>\n",
       "      <td>0.0</td>\n",
       "      <td>51/142</td>\n",
       "      <td>21.47%</td>\n",
       "      <td>DLG1;BMPR1A;MIOS;NR3C1;DYRK1A;ATP2C1;RUNX1;KAL...</td>\n",
       "    </tr>\n",
       "    <tr>\n",
       "      <th>25</th>\n",
       "      <td>gsea</td>\n",
       "      <td>IL-6/JAK/STAT3 Signaling</td>\n",
       "      <td>0.493282</td>\n",
       "      <td>2.116241</td>\n",
       "      <td>0.0</td>\n",
       "      <td>0.0</td>\n",
       "      <td>0.0</td>\n",
       "      <td>26/85</td>\n",
       "      <td>22.39%</td>\n",
       "      <td>IL4R;CBL;PTPN1;IL7;GRB2;TYK2;PTPN2;IL17RB;PIM1...</td>\n",
       "    </tr>\n",
       "    <tr>\n",
       "      <th>26</th>\n",
       "      <td>gsea</td>\n",
       "      <td>p53 Pathway</td>\n",
       "      <td>0.462392</td>\n",
       "      <td>2.115383</td>\n",
       "      <td>0.0</td>\n",
       "      <td>0.0</td>\n",
       "      <td>0.0</td>\n",
       "      <td>97/191</td>\n",
       "      <td>35.33%</td>\n",
       "      <td>CDKN2A;TP63;NOL8;DGKA;PVT1;PTPRE;TSPYL2;NOTCH1...</td>\n",
       "    </tr>\n",
       "    <tr>\n",
       "      <th>27</th>\n",
       "      <td>gsea</td>\n",
       "      <td>Bile Acid Metabolism</td>\n",
       "      <td>0.467735</td>\n",
       "      <td>2.10972</td>\n",
       "      <td>0.0</td>\n",
       "      <td>0.0</td>\n",
       "      <td>0.0</td>\n",
       "      <td>48/109</td>\n",
       "      <td>29.97%</td>\n",
       "      <td>SLC23A2;BCAR3;FADS2;ABCA5;PNPLA8;HSD17B4;OPTN;...</td>\n",
       "    </tr>\n",
       "    <tr>\n",
       "      <th>28</th>\n",
       "      <td>gsea</td>\n",
       "      <td>Hedgehog Signaling</td>\n",
       "      <td>0.549695</td>\n",
       "      <td>2.066369</td>\n",
       "      <td>0.0</td>\n",
       "      <td>0.000062</td>\n",
       "      <td>0.001</td>\n",
       "      <td>9/35</td>\n",
       "      <td>18.01%</td>\n",
       "      <td>NRCAM;TLE1;RASA1;NF1;CDK6;CDK5R1;PTCH1;PML;LDB1</td>\n",
       "    </tr>\n",
       "    <tr>\n",
       "      <th>29</th>\n",
       "      <td>gsea</td>\n",
       "      <td>Estrogen Response Early</td>\n",
       "      <td>0.454658</td>\n",
       "      <td>2.065103</td>\n",
       "      <td>0.0</td>\n",
       "      <td>0.00006</td>\n",
       "      <td>0.001</td>\n",
       "      <td>74/189</td>\n",
       "      <td>31.65%</td>\n",
       "      <td>UGCG;INPP5F;FARP1;BCL2;SH3BP5;FKBP5;JAK2;FRK;F...</td>\n",
       "    </tr>\n",
       "    <tr>\n",
       "      <th>30</th>\n",
       "      <td>gsea</td>\n",
       "      <td>Wnt-beta Catenin Signaling</td>\n",
       "      <td>0.565773</td>\n",
       "      <td>2.038118</td>\n",
       "      <td>0.0</td>\n",
       "      <td>0.000058</td>\n",
       "      <td>0.001</td>\n",
       "      <td>17/40</td>\n",
       "      <td>25.19%</td>\n",
       "      <td>LEF1;CTNNB1;NOTCH1;CUL1;NUMB;CCND2;NCSTN;PTCH1...</td>\n",
       "    </tr>\n",
       "    <tr>\n",
       "      <th>31</th>\n",
       "      <td>gsea</td>\n",
       "      <td>TNF-alpha Signaling via NF-kB</td>\n",
       "      <td>0.443993</td>\n",
       "      <td>2.01227</td>\n",
       "      <td>0.0</td>\n",
       "      <td>0.000169</td>\n",
       "      <td>0.003</td>\n",
       "      <td>79/196</td>\n",
       "      <td>32.49%</td>\n",
       "      <td>CD83;CCNL1;TRAF1;NFAT5;PTPRE;TNFAIP8;BCL2A1;CF...</td>\n",
       "    </tr>\n",
       "    <tr>\n",
       "      <th>32</th>\n",
       "      <td>gsea</td>\n",
       "      <td>Spermatogenesis</td>\n",
       "      <td>0.479351</td>\n",
       "      <td>1.992824</td>\n",
       "      <td>0.0</td>\n",
       "      <td>0.000164</td>\n",
       "      <td>0.003</td>\n",
       "      <td>43/111</td>\n",
       "      <td>27.99%</td>\n",
       "      <td>TLE4;EZH2;TOPBP1;BRAF;PIAS2;IP6K1;CAMK4;PRKAR2...</td>\n",
       "    </tr>\n",
       "    <tr>\n",
       "      <th>33</th>\n",
       "      <td>gsea</td>\n",
       "      <td>Complement</td>\n",
       "      <td>0.441966</td>\n",
       "      <td>1.963852</td>\n",
       "      <td>0.0</td>\n",
       "      <td>0.000478</td>\n",
       "      <td>0.009</td>\n",
       "      <td>84/196</td>\n",
       "      <td>33.71%</td>\n",
       "      <td>DGKG;CTSH;JAK2;PRCP;DOCK10;LYN;PIK3CA;USP8;ADA...</td>\n",
       "    </tr>\n",
       "    <tr>\n",
       "      <th>34</th>\n",
       "      <td>gsea</td>\n",
       "      <td>Interferon Gamma Response</td>\n",
       "      <td>0.446145</td>\n",
       "      <td>1.932492</td>\n",
       "      <td>0.0</td>\n",
       "      <td>0.000825</td>\n",
       "      <td>0.013</td>\n",
       "      <td>77/198</td>\n",
       "      <td>23.56%</td>\n",
       "      <td>IRF8;IL4R;PELI1;PTPN1;HLA-DMA;JAK2;IRF4;IL7;IL...</td>\n",
       "    </tr>\n",
       "    <tr>\n",
       "      <th>35</th>\n",
       "      <td>gsea</td>\n",
       "      <td>Apical Surface</td>\n",
       "      <td>0.523489</td>\n",
       "      <td>1.916733</td>\n",
       "      <td>0.0</td>\n",
       "      <td>0.000852</td>\n",
       "      <td>0.013</td>\n",
       "      <td>10/43</td>\n",
       "      <td>15.72%</td>\n",
       "      <td>SULF2;LYN;ATP8B1;ADAM10;BRCA1;FLOT2;ADIPOR2;B4...</td>\n",
       "    </tr>\n",
       "    <tr>\n",
       "      <th>36</th>\n",
       "      <td>gsea</td>\n",
       "      <td>Cholesterol Homeostasis</td>\n",
       "      <td>0.472228</td>\n",
       "      <td>1.908874</td>\n",
       "      <td>0.001873</td>\n",
       "      <td>0.000976</td>\n",
       "      <td>0.013</td>\n",
       "      <td>42/73</td>\n",
       "      <td>38.66%</td>\n",
       "      <td>LSS;CTNNB1;CHKA;FADS2;ATXN2;FDPS;STX5;GUSB;CYP...</td>\n",
       "    </tr>\n",
       "    <tr>\n",
       "      <th>37</th>\n",
       "      <td>gsea</td>\n",
       "      <td>Apical Junction</td>\n",
       "      <td>0.428884</td>\n",
       "      <td>1.866495</td>\n",
       "      <td>0.0</td>\n",
       "      <td>0.001568</td>\n",
       "      <td>0.02</td>\n",
       "      <td>63/193</td>\n",
       "      <td>28.08%</td>\n",
       "      <td>SKAP2;DLG1;SYK;TRAF1;EXOC4;ADAM9;RASA1;MPZL1;N...</td>\n",
       "    </tr>\n",
       "    <tr>\n",
       "      <th>38</th>\n",
       "      <td>gsea</td>\n",
       "      <td>Inflammatory Response</td>\n",
       "      <td>0.406275</td>\n",
       "      <td>1.836477</td>\n",
       "      <td>0.001647</td>\n",
       "      <td>0.002222</td>\n",
       "      <td>0.031</td>\n",
       "      <td>52/192</td>\n",
       "      <td>25.33%</td>\n",
       "      <td>MSR1;AHR;IL4R;ABI1;ATP2C1;LYN;PTPRE;IL10RA;PDE...</td>\n",
       "    </tr>\n",
       "    <tr>\n",
       "      <th>39</th>\n",
       "      <td>gsea</td>\n",
       "      <td>Estrogen Response Late</td>\n",
       "      <td>0.391838</td>\n",
       "      <td>1.820919</td>\n",
       "      <td>0.0</td>\n",
       "      <td>0.002618</td>\n",
       "      <td>0.037</td>\n",
       "      <td>77/190</td>\n",
       "      <td>34.86%</td>\n",
       "      <td>FARP1;BCL2;FKBP5;JAK2;FRK;BATF;SNX10;ST14;AMFR...</td>\n",
       "    </tr>\n",
       "    <tr>\n",
       "      <th>40</th>\n",
       "      <td>gsea</td>\n",
       "      <td>KRAS Signaling Dn</td>\n",
       "      <td>0.387962</td>\n",
       "      <td>1.747117</td>\n",
       "      <td>0.0</td>\n",
       "      <td>0.00546</td>\n",
       "      <td>0.07</td>\n",
       "      <td>39/154</td>\n",
       "      <td>28.44%</td>\n",
       "      <td>NR6A1;THRB;PTPRJ;SKIL;CLDN16;VPS50;RYR1;PLAG1;...</td>\n",
       "    </tr>\n",
       "    <tr>\n",
       "      <th>41</th>\n",
       "      <td>gsea</td>\n",
       "      <td>Hypoxia</td>\n",
       "      <td>0.381213</td>\n",
       "      <td>1.744123</td>\n",
       "      <td>0.0</td>\n",
       "      <td>0.005544</td>\n",
       "      <td>0.071</td>\n",
       "      <td>81/191</td>\n",
       "      <td>35.79%</td>\n",
       "      <td>GRHPR;BCL2;ETS1;GCNT2;NR3C1;ZNF292;NEDD4L;XPNP...</td>\n",
       "    </tr>\n",
       "    <tr>\n",
       "      <th>42</th>\n",
       "      <td>gsea</td>\n",
       "      <td>Xenobiotic Metabolism</td>\n",
       "      <td>0.38652</td>\n",
       "      <td>1.713863</td>\n",
       "      <td>0.0</td>\n",
       "      <td>0.007179</td>\n",
       "      <td>0.085</td>\n",
       "      <td>80/184</td>\n",
       "      <td>38.82%</td>\n",
       "      <td>IRF8;GCNT2;GCLC;GART;NMT1;ATP2A2;MAN1A1;MCCC2;...</td>\n",
       "    </tr>\n",
       "    <tr>\n",
       "      <th>43</th>\n",
       "      <td>gsea</td>\n",
       "      <td>Interferon Alpha Response</td>\n",
       "      <td>0.368309</td>\n",
       "      <td>1.530781</td>\n",
       "      <td>0.048165</td>\n",
       "      <td>0.033765</td>\n",
       "      <td>0.261</td>\n",
       "      <td>47/96</td>\n",
       "      <td>36.21%</td>\n",
       "      <td>IL4R;NCOA7;IL7;CD47;HLA-C;TRIM26;ELF1;C1S;IRF9...</td>\n",
       "    </tr>\n",
       "    <tr>\n",
       "      <th>44</th>\n",
       "      <td>gsea</td>\n",
       "      <td>Coagulation</td>\n",
       "      <td>0.321892</td>\n",
       "      <td>1.474588</td>\n",
       "      <td>0.014765</td>\n",
       "      <td>0.050425</td>\n",
       "      <td>0.335</td>\n",
       "      <td>57/127</td>\n",
       "      <td>46.58%</td>\n",
       "      <td>CTSH;ADAM9;ARF4;USP11;C1S;RAC1;CASP9;GNB2;SIRT...</td>\n",
       "    </tr>\n",
       "    <tr>\n",
       "      <th>45</th>\n",
       "      <td>gsea</td>\n",
       "      <td>Myogenesis</td>\n",
       "      <td>0.302742</td>\n",
       "      <td>1.430862</td>\n",
       "      <td>0.019455</td>\n",
       "      <td>0.065615</td>\n",
       "      <td>0.391</td>\n",
       "      <td>95/184</td>\n",
       "      <td>50.51%</td>\n",
       "      <td>EIF4A2;DMD;GNAO1;MEF2A;SPTAN1;NOTCH1;RB1;RYR1;...</td>\n",
       "    </tr>\n",
       "    <tr>\n",
       "      <th>46</th>\n",
       "      <td>gsea</td>\n",
       "      <td>Notch Signaling</td>\n",
       "      <td>0.431789</td>\n",
       "      <td>1.416956</td>\n",
       "      <td>0.071661</td>\n",
       "      <td>0.07021</td>\n",
       "      <td>0.411</td>\n",
       "      <td>15/32</td>\n",
       "      <td>36.15%</td>\n",
       "      <td>DTX1;NOTCH1;CUL1;PRKCA;PPARD;FBXW11;DTX2;TCF7L...</td>\n",
       "    </tr>\n",
       "    <tr>\n",
       "      <th>47</th>\n",
       "      <td>gsea</td>\n",
       "      <td>Pancreas Beta Cells</td>\n",
       "      <td>0.438256</td>\n",
       "      <td>1.352082</td>\n",
       "      <td>0.103535</td>\n",
       "      <td>0.100225</td>\n",
       "      <td>0.494</td>\n",
       "      <td>8/28</td>\n",
       "      <td>29.05%</td>\n",
       "      <td>ELP4;SEC11A;FOXO1;SRP9;SRPRB;AKT3;STXBP1;SPCS1</td>\n",
       "    </tr>\n",
       "    <tr>\n",
       "      <th>48</th>\n",
       "      <td>gsea</td>\n",
       "      <td>Epithelial Mesenchymal Transition</td>\n",
       "      <td>0.240191</td>\n",
       "      <td>1.020072</td>\n",
       "      <td>0.436406</td>\n",
       "      <td>0.436707</td>\n",
       "      <td>0.914</td>\n",
       "      <td>83/195</td>\n",
       "      <td>51.12%</td>\n",
       "      <td>LOXL2;COPA;COLGALT1;CALU;LAMC1;TPM2;CD44;MCM7;...</td>\n",
       "    </tr>\n",
       "    <tr>\n",
       "      <th>49</th>\n",
       "      <td>gsea</td>\n",
       "      <td>Angiogenesis</td>\n",
       "      <td>0.240882</td>\n",
       "      <td>0.890072</td>\n",
       "      <td>0.628264</td>\n",
       "      <td>0.619684</td>\n",
       "      <td>0.974</td>\n",
       "      <td>8/34</td>\n",
       "      <td>34.50%</td>\n",
       "      <td>PTK2;CCND2;ITGAV;LRPAP1;FGFR1;VEGFA;TIMP1;PDGFA</td>\n",
       "    </tr>\n",
       "  </tbody>\n",
       "</table>\n",
       "</div>"
      ],
      "text/plain": [
       "    Name                               Term        ES       NES NOM p-val  \\\n",
       "0   gsea                   mTORC1 Signaling   0.59834  2.567109       0.0   \n",
       "1   gsea           PI3K/AKT/mTOR  Signaling  0.608199  2.543099       0.0   \n",
       "2   gsea                    G2-M Checkpoint  0.642003  2.531058       0.0   \n",
       "3   gsea                     Myc Targets V1  0.615857  2.529097       0.0   \n",
       "4   gsea          Oxidative Phosphorylation  0.574842  2.501449       0.0   \n",
       "5   gsea                  Protein Secretion  0.646177   2.49285       0.0   \n",
       "6   gsea                 TGF-beta Signaling  0.634984  2.491365       0.0   \n",
       "7   gsea                         DNA Repair  0.570657  2.489382       0.0   \n",
       "8   gsea                    Mitotic Spindle  0.611754  2.484635       0.0   \n",
       "9   gsea          Unfolded Protein Response  0.594353   2.45421       0.0   \n",
       "10  gsea                        Pperoxisome  0.566062  2.453256       0.0   \n",
       "11  gsea                Allograft Rejection  0.556517  2.435594       0.0   \n",
       "12  gsea                        E2F Targets  0.601765  2.424728       0.0   \n",
       "13  gsea                         Glycolysis  0.520759  2.351815       0.0   \n",
       "14  gsea                    heme Metabolism   0.53516  2.351385       0.0   \n",
       "15  gsea                  Androgen Response  0.544969  2.243387       0.0   \n",
       "16  gsea              Fatty Acid Metabolism  0.504614  2.241682       0.0   \n",
       "17  gsea                       Adipogenesis  0.491002  2.232347       0.0   \n",
       "18  gsea    Reactive Oxygen Species Pathway  0.566057  2.217859       0.0   \n",
       "19  gsea                     UV Response Up  0.480945  2.213689       0.0   \n",
       "20  gsea               IL-2/STAT5 Signaling  0.504554  2.195296       0.0   \n",
       "21  gsea                          Apoptosis  0.506241   2.19514       0.0   \n",
       "22  gsea                     Myc Targets V2   0.56092  2.168853       0.0   \n",
       "23  gsea                  KRAS Signaling Up  0.489627  2.163049       0.0   \n",
       "24  gsea                     UV Response Dn  0.518974  2.161046       0.0   \n",
       "25  gsea           IL-6/JAK/STAT3 Signaling  0.493282  2.116241       0.0   \n",
       "26  gsea                        p53 Pathway  0.462392  2.115383       0.0   \n",
       "27  gsea               Bile Acid Metabolism  0.467735   2.10972       0.0   \n",
       "28  gsea                 Hedgehog Signaling  0.549695  2.066369       0.0   \n",
       "29  gsea            Estrogen Response Early  0.454658  2.065103       0.0   \n",
       "30  gsea         Wnt-beta Catenin Signaling  0.565773  2.038118       0.0   \n",
       "31  gsea      TNF-alpha Signaling via NF-kB  0.443993   2.01227       0.0   \n",
       "32  gsea                    Spermatogenesis  0.479351  1.992824       0.0   \n",
       "33  gsea                         Complement  0.441966  1.963852       0.0   \n",
       "34  gsea          Interferon Gamma Response  0.446145  1.932492       0.0   \n",
       "35  gsea                     Apical Surface  0.523489  1.916733       0.0   \n",
       "36  gsea            Cholesterol Homeostasis  0.472228  1.908874  0.001873   \n",
       "37  gsea                    Apical Junction  0.428884  1.866495       0.0   \n",
       "38  gsea              Inflammatory Response  0.406275  1.836477  0.001647   \n",
       "39  gsea             Estrogen Response Late  0.391838  1.820919       0.0   \n",
       "40  gsea                  KRAS Signaling Dn  0.387962  1.747117       0.0   \n",
       "41  gsea                            Hypoxia  0.381213  1.744123       0.0   \n",
       "42  gsea              Xenobiotic Metabolism   0.38652  1.713863       0.0   \n",
       "43  gsea          Interferon Alpha Response  0.368309  1.530781  0.048165   \n",
       "44  gsea                        Coagulation  0.321892  1.474588  0.014765   \n",
       "45  gsea                         Myogenesis  0.302742  1.430862  0.019455   \n",
       "46  gsea                    Notch Signaling  0.431789  1.416956  0.071661   \n",
       "47  gsea                Pancreas Beta Cells  0.438256  1.352082  0.103535   \n",
       "48  gsea  Epithelial Mesenchymal Transition  0.240191  1.020072  0.436406   \n",
       "49  gsea                       Angiogenesis  0.240882  0.890072  0.628264   \n",
       "\n",
       "   FDR q-val FWER p-val    Tag %  Gene %  \\\n",
       "0        0.0        0.0  151/197  33.41%   \n",
       "1        0.0        0.0   64/104  25.35%   \n",
       "2        0.0        0.0  152/195  28.15%   \n",
       "3        0.0        0.0  138/196  25.19%   \n",
       "4        0.0        0.0  156/200  34.39%   \n",
       "5        0.0        0.0    70/94  24.62%   \n",
       "6        0.0        0.0    22/53  13.25%   \n",
       "7        0.0        0.0  119/150  36.43%   \n",
       "8        0.0        0.0  135/199  27.99%   \n",
       "9        0.0        0.0   82/108  33.03%   \n",
       "10       0.0        0.0   63/101  29.97%   \n",
       "11       0.0        0.0   72/187  23.67%   \n",
       "12       0.0        0.0  144/198  28.19%   \n",
       "13       0.0        0.0  100/192  30.42%   \n",
       "14       0.0        0.0   98/189  30.59%   \n",
       "15       0.0        0.0    66/99  34.71%   \n",
       "16       0.0        0.0   94/149  36.75%   \n",
       "17       0.0        0.0  114/195  36.02%   \n",
       "18       0.0        0.0    26/49  23.63%   \n",
       "19       0.0        0.0   76/153  32.62%   \n",
       "20       0.0        0.0   72/193  25.33%   \n",
       "21       0.0        0.0   77/154  29.74%   \n",
       "22       0.0        0.0    46/58  35.13%   \n",
       "23       0.0        0.0   62/186  26.35%   \n",
       "24       0.0        0.0   51/142  21.47%   \n",
       "25       0.0        0.0    26/85  22.39%   \n",
       "26       0.0        0.0   97/191  35.33%   \n",
       "27       0.0        0.0   48/109  29.97%   \n",
       "28  0.000062      0.001     9/35  18.01%   \n",
       "29   0.00006      0.001   74/189  31.65%   \n",
       "30  0.000058      0.001    17/40  25.19%   \n",
       "31  0.000169      0.003   79/196  32.49%   \n",
       "32  0.000164      0.003   43/111  27.99%   \n",
       "33  0.000478      0.009   84/196  33.71%   \n",
       "34  0.000825      0.013   77/198  23.56%   \n",
       "35  0.000852      0.013    10/43  15.72%   \n",
       "36  0.000976      0.013    42/73  38.66%   \n",
       "37  0.001568       0.02   63/193  28.08%   \n",
       "38  0.002222      0.031   52/192  25.33%   \n",
       "39  0.002618      0.037   77/190  34.86%   \n",
       "40   0.00546       0.07   39/154  28.44%   \n",
       "41  0.005544      0.071   81/191  35.79%   \n",
       "42  0.007179      0.085   80/184  38.82%   \n",
       "43  0.033765      0.261    47/96  36.21%   \n",
       "44  0.050425      0.335   57/127  46.58%   \n",
       "45  0.065615      0.391   95/184  50.51%   \n",
       "46   0.07021      0.411    15/32  36.15%   \n",
       "47  0.100225      0.494     8/28  29.05%   \n",
       "48  0.436707      0.914   83/195  51.12%   \n",
       "49  0.619684      0.974     8/34  34.50%   \n",
       "\n",
       "                                           Lead_genes  \n",
       "0   TFRC;SLA;SKAP2;GSK3B;GCLC;EGLN3;ACACA;SERP1;CA...  \n",
       "1   SLA;GSK3B;MAPKAP1;SMAD2;ACACA;MAP2K6;GRB2;ITPR...  \n",
       "2   MEIS2;TRA2B;SLC38A1;SMARCC1;DMD;EZH2;CUL4A;SS1...  \n",
       "3   TRA2B;GOT2;SMARCC1;HNRNPA2B1;FAM120A;RAD23B;CA...  \n",
       "4   OPA1;GOT2;PMPCA;ETFA;OGDH;SUCLA2;HSPA9;DLAT;AC...  \n",
       "5   STAM;GOLGA4;ARFGEF2;COPB2;IGF2R;MON2;AP3S1;ARF...  \n",
       "6   BMPR2;BMPR1A;BCAR3;ARID4B;SKIL;CTNNB1;SMURF1;M...  \n",
       "7   NT5C3A;SNAPC4;HCLS1;EDF1;POLA1;RALA;POM121;NFX...  \n",
       "8   CCDC88A;RABGAP1;ARHGEF7;FARP1;DLG1;RAPGEF5;ARH...  \n",
       "9   EIF4A2;CNOT4;TSPYL2;DDX10;DCP1A;SERP1;EIF4G1;P...  \n",
       "10  SMARCC1;SLC23A2;SLC25A19;EHHADH;ACSL4;FDPS;HSD...  \n",
       "11  IRF8;IL4R;CDKN2A;HLA-DMA;ETS1;JAK2;ABI1;IL16;I...  \n",
       "12  TFRC;TRA2B;CDKN2A;EZH2;PNN;LUC7L3;SMC4;RAD50;M...  \n",
       "13  GOT2;FUT8;COPB2;BIK;GCLC;PMM2;SLC25A13;EGLN3;Z...  \n",
       "14  TFRC;ARHGEF12;DCUN1D1;NR3C1;RBM5;GAPVD1;TFDP2;...  \n",
       "15  NGLY1;IQGAP2;FKBP5;TNFAIP8;PIAS1;CDK6;APPBP2;L...  \n",
       "16  GRHPR;EHHADH;SUCLA2;BCKDHB;ACSL4;PTPRG;HSDL2;H...  \n",
       "17  MCCC1;ATP1B3;AGPAT3;SQOR;NMT1;RREB1;BCL6;UBQLN...  \n",
       "18  GCLC;OXSR1;MBP;SCAF4;PFKP;MSRA;SBNO2;GPX4;SELE...  \n",
       "19  TFRC;PPP1R2;E2F5;LYN;BCL2L11;CHKA;PTPRD;PRPF3;...  \n",
       "20  AHR;IRF8;IL4R;CD83;NFKBIZ;BMPR2;BCL2;TRAF1;HUW...  \n",
       "21  LEF1;BIK;SPTAN1;CTNNB1;DAP3;BCL2L11;ROCK1;IGF2...  \n",
       "22  CBX3;DUSP2;GNL3;RCL1;NPM1;NOP56;FARSA;NOP2;RRP...  \n",
       "23  IRF8;CBL;ST6GAL1;IKZF1;ETS1;TRAF1;AVL9;PTBP2;E...  \n",
       "24  DLG1;BMPR1A;MIOS;NR3C1;DYRK1A;ATP2C1;RUNX1;KAL...  \n",
       "25  IL4R;CBL;PTPN1;IL7;GRB2;TYK2;PTPN2;IL17RB;PIM1...  \n",
       "26  CDKN2A;TP63;NOL8;DGKA;PVT1;PTPRE;TSPYL2;NOTCH1...  \n",
       "27  SLC23A2;BCAR3;FADS2;ABCA5;PNPLA8;HSD17B4;OPTN;...  \n",
       "28    NRCAM;TLE1;RASA1;NF1;CDK6;CDK5R1;PTCH1;PML;LDB1  \n",
       "29  UGCG;INPP5F;FARP1;BCL2;SH3BP5;FKBP5;JAK2;FRK;F...  \n",
       "30  LEF1;CTNNB1;NOTCH1;CUL1;NUMB;CCND2;NCSTN;PTCH1...  \n",
       "31  CD83;CCNL1;TRAF1;NFAT5;PTPRE;TNFAIP8;BCL2A1;CF...  \n",
       "32  TLE4;EZH2;TOPBP1;BRAF;PIAS2;IP6K1;CAMK4;PRKAR2...  \n",
       "33  DGKG;CTSH;JAK2;PRCP;DOCK10;LYN;PIK3CA;USP8;ADA...  \n",
       "34  IRF8;IL4R;PELI1;PTPN1;HLA-DMA;JAK2;IRF4;IL7;IL...  \n",
       "35  SULF2;LYN;ATP8B1;ADAM10;BRCA1;FLOT2;ADIPOR2;B4...  \n",
       "36  LSS;CTNNB1;CHKA;FADS2;ATXN2;FDPS;STX5;GUSB;CYP...  \n",
       "37  SKAP2;DLG1;SYK;TRAF1;EXOC4;ADAM9;RASA1;MPZL1;N...  \n",
       "38  MSR1;AHR;IL4R;ABI1;ATP2C1;LYN;PTPRE;IL10RA;PDE...  \n",
       "39  FARP1;BCL2;FKBP5;JAK2;FRK;BATF;SNX10;ST14;AMFR...  \n",
       "40  NR6A1;THRB;PTPRJ;SKIL;CLDN16;VPS50;RYR1;PLAG1;...  \n",
       "41  GRHPR;BCL2;ETS1;GCNT2;NR3C1;ZNF292;NEDD4L;XPNP...  \n",
       "42  IRF8;GCNT2;GCLC;GART;NMT1;ATP2A2;MAN1A1;MCCC2;...  \n",
       "43  IL4R;NCOA7;IL7;CD47;HLA-C;TRIM26;ELF1;C1S;IRF9...  \n",
       "44  CTSH;ADAM9;ARF4;USP11;C1S;RAC1;CASP9;GNB2;SIRT...  \n",
       "45  EIF4A2;DMD;GNAO1;MEF2A;SPTAN1;NOTCH1;RB1;RYR1;...  \n",
       "46  DTX1;NOTCH1;CUL1;PRKCA;PPARD;FBXW11;DTX2;TCF7L...  \n",
       "47     ELP4;SEC11A;FOXO1;SRP9;SRPRB;AKT3;STXBP1;SPCS1  \n",
       "48  LOXL2;COPA;COLGALT1;CALU;LAMC1;TPM2;CD44;MCM7;...  \n",
       "49    PTK2;CCND2;ITGAV;LRPAP1;FGFR1;VEGFA;TIMP1;PDGFA  "
      ]
     },
     "execution_count": 376,
     "metadata": {},
     "output_type": "execute_result"
    }
   ],
   "source": [
    "gsea_result.res2d"
   ]
  },
  {
   "cell_type": "code",
   "execution_count": 377,
   "id": "fc48fd9e",
   "metadata": {},
   "outputs": [
    {
     "data": {
      "image/png": "[encoded data removed]",
      "text/plain": [
       "<Figure size 1000x600 with 4 Axes>"
      ]
     },
     "metadata": {},
     "output_type": "display_data"
    }
   ],
   "source": [
    "axs = gsea_result.plot(terms=gsea_result.res2d.Term[0], figsize=(10, 6))"
   ]
  },
  {
   "cell_type": "code",
   "execution_count": 564,
   "id": "ea6c2245",
   "metadata": {},
   "outputs": [],
   "source": [
    "RNA_data_pred = sc.read_h5ad('/workspace/scButterfly/data/lymphoma/predicted/pred_RNA_lymphoma2.h5ad')"
   ]
  },
  {
   "cell_type": "code",
   "execution_count": 565,
   "id": "da2e760e",
   "metadata": {},
   "outputs": [],
   "source": [
    "RNA_data_pred.obs['group'] = RNA_data_pred.obs['Cell Types'].map(\n",
    "    lambda x: 'B' if x in ['B'] else ('LYM' if x in ['Tumor B', 'Tumor B cycling'] else None)\n",
    ")\n",
    "data_gsea_pred = RNA_data_pred[RNA_data_pred.obs['group'].isin(['B','LYM'])].copy()"
   ]
  },
  {
   "cell_type": "code",
   "execution_count": 393,
   "id": "9617093d",
   "metadata": {},
   "outputs": [],
   "source": [
    "expr_df_pred = pd.DataFrame(data_gsea_pred.X.toarray().T, index=data_gsea_pred.var_names, columns=data_gsea_pred.obs_names)\n",
    "phenotypes_pred = data_gsea_pred.obs['group'].values"
   ]
  },
  {
   "cell_type": "code",
   "execution_count": 317,
   "id": "c9bd5d2e",
   "metadata": {},
   "outputs": [
    {
     "name": "stderr",
     "output_type": "stream",
     "text": [
      "/opt/venv/lib/python3.10/site-packages/gseapy/gsea.py:173: UserWarning:\n",
      "\n",
      "Boolean Series key will be reindexed to match DataFrame index.\n",
      "\n"
     ]
    }
   ],
   "source": [
    "gsea_result_pred = gp.gsea(\n",
    "    data=expr_df_pred,\n",
    "    gene_sets='MSigDB_Hallmark_2020',  # dict or path to .gmt\n",
    "    cls=phenotypes_pred,                # Array of class labels\n",
    "    permutation_num=1000,\n",
    "    method='signal_to_noise',      # or 't_test', 'log2_ratio_of_classes'\n",
    "    outdir=None,          # Change or set to None\n",
    "    no_plot=False,                  # Disable plots if not needed\n",
    "    seed=42\n",
    ")"
   ]
  },
  {
   "cell_type": "code",
   "execution_count": 318,
   "id": "1a739d49",
   "metadata": {},
   "outputs": [
    {
     "data": {
      "application/vnd.microsoft.datawrangler.viewer.v0+json": {
       "columns": [
        {
         "name": "index",
         "rawType": "int64",
         "type": "integer"
        },
        {
         "name": "Name",
         "rawType": "object",
         "type": "string"
        },
        {
         "name": "Term",
         "rawType": "object",
         "type": "string"
        },
        {
         "name": "ES",
         "rawType": "object",
         "type": "string"
        },
        {
         "name": "NES",
         "rawType": "object",
         "type": "string"
        },
        {
         "name": "NOM p-val",
         "rawType": "object",
         "type": "string"
        },
        {
         "name": "FDR q-val",
         "rawType": "object",
         "type": "string"
        },
        {
         "name": "FWER p-val",
         "rawType": "object",
         "type": "string"
        },
        {
         "name": "Tag %",
         "rawType": "object",
         "type": "string"
        },
        {
         "name": "Gene %",
         "rawType": "object",
         "type": "string"
        },
        {
         "name": "Lead_genes",
         "rawType": "object",
         "type": "string"
        }
       ],
       "conversionMethod": "pd.DataFrame",
       "ref": "8b4d36df-53af-468b-8a7d-2cc19c7e8f85",
       "rows": [
        [
         "0",
         "gsea",
         "TNF-alpha Signaling via NF-kB",
         "0.49072575006469593",
         "1.6001011102776954",
         "0.03861003861003861",
         "1.0",
         "0.275",
         "9/23",
         "23.40%",
         "BCL2A1;BCL6;CD83;TRAF1;SLC2A6;EHD1;DNAJB4;EGR2;RELB"
        ],
        [
         "1",
         "gsea",
         "heme Metabolism",
         "0.4846452970962051",
         "1.4932293965450993",
         "0.02178217821782178",
         "0.9866395764068464",
         "0.409",
         "6/15",
         "24.23%",
         "MOCOS;NFE2L1;RHCE;MKRN1;TENT5C;ERMAP"
        ],
        [
         "2",
         "gsea",
         "IL-2/STAT5 Signaling",
         "0.4705692156648566",
         "1.4328475605551745",
         "0.12966601178781925",
         "0.8983910027500719",
         "0.471",
         "5/22",
         "7.35%",
         "RGS16;FAH;GPX4;CD83;TRAF1"
        ],
        [
         "3",
         "gsea",
         "DNA Repair",
         "0.5123828019267961",
         "1.4271099206965598",
         "0.008032128514056224",
         "0.6918790789311661",
         "0.477",
         "14/18",
         "42.98%",
         "EDF1;GPX4;SEC61A1;ADA;POLR2E;PDE6G;NME1;ELL;NELFE;POLL;POLD4;RPA2;ADRM1;RFC2"
        ],
        [
         "4",
         "gsea",
         "UV Response Up",
         "0.44556675470265594",
         "1.3839938415656985",
         "0.07056451612903226",
         "0.6707917744120182",
         "0.519",
         "13/16",
         "48.79%",
         "FMO1;TST;HYAL2;EPCAM;TUBA4A;ATF3;AP2S1;BID;HSPA13;CLTB;TYRO3;MRPL23;DNAJB1"
        ],
        [
         "5",
         "gsea",
         "Adipogenesis",
         "0.42728845947020716",
         "1.3572440499852692",
         "0.0905587668593449",
         "0.635184501087715",
         "0.556",
         "20/34",
         "43.21%",
         "ELOVL6;BCL6;FAH;GPX4;NKIRAS1;SQOR;TST;UCK1;ARAF;SDHC;PFKL;SORBS1;UQCRC1;SOD1;NDUFS3;SLC25A1;DDT;MRPL15;ATP5PO;VEGFB"
        ],
        [
         "6",
         "gsea",
         "Mitotic Spindle",
         "0.4375964416920417",
         "1.2943077533139424",
         "0.1627450980392157",
         "0.7065016623568526",
         "0.615",
         "11/22",
         "39.12%",
         "TSC1;TUBGCP3;CEP131;SMC4;KPTN;CSNK1D;TUBA4A;RHOT2;PLK1;UXT;KIF3B"
        ],
        [
         "7",
         "gsea",
         "KRAS Signaling Dn",
         "0.43573278555442535",
         "1.285166566922164",
         "0.21863117870722434",
         "0.6380064031523212",
         "0.618",
         "4/15",
         "16.05%",
         "ARPP21;TENM2;KCNN1;TENT5C"
        ],
        [
         "8",
         "gsea",
         "Fatty Acid Metabolism",
         "0.43890037531060455",
         "1.2374575527265024",
         "0.20850202429149797",
         "0.6726388375815787",
         "0.649",
         "8/17",
         "33.44%",
         "GRHPR;PTPRG;FMO1;GSTZ1;SDHC;PRDX6;HCCS;HSD17B10"
        ],
        [
         "9",
         "gsea",
         "Unfolded Protein Response",
         "0.43496750795317923",
         "1.2299257344991026",
         "0.2049808429118774",
         "0.6224602881418544",
         "0.651",
         "15/19",
         "53.35%",
         "SERP1;SRPRB;EXOSC5;NOLC1;BAG3;ATP6V0D1;ATF3;BANF1;NOP14;MTHFD2;CKS1B;POP4;PREB;GEMIN4;DCTN1"
        ],
        [
         "10",
         "gsea",
         "Glycolysis",
         "0.39391997540699397",
         "1.206879804391369",
         "0.2522851919561243",
         "0.6147082199908207",
         "0.67",
         "21/25",
         "53.63%",
         "BIK;COG2;AKR1A1;QSOX1;SDHC;ALG1;GALE;GPC3;B4GALT2;SOD1;PGK1;PPIA;ENO1;STMN1;G6PD;MIF;ISG20;PPFIA4;PGAM1;LDHA;TPI1"
        ],
        [
         "11",
         "gsea",
         "Coagulation",
         "0.432330710599664",
         "1.2024115558289896",
         "0.28597122302158273",
         "0.5704090218774371",
         "0.67",
         "6/22",
         "26.84%",
         "CTSH;CASP9;C1S;TMPRSS6;RAC1;CD9"
        ],
        [
         "12",
         "gsea",
         "Complement",
         "0.39370958045567195",
         "1.1962992860778487",
         "0.28308823529411764",
         "0.5370691369952545",
         "0.672",
         "17/31",
         "52.19%",
         "CTSH;CASP9;CDK5R1;PCLO;EHD1;C1S;TMPRSS6;CD46;NOTCH4;ATOX1;SH2B3;VCPIP1;CSRP1;LAMP2;ANXA5;PDP1;CD59"
        ],
        [
         "13",
         "gsea",
         "p53 Pathway",
         "0.3636804671356034",
         "1.1754348164477013",
         "0.27104722792607805",
         "0.5307008285397645",
         "0.679",
         "8/31",
         "19.44%",
         "RGS16;CDK5R1;IP6K2;ABAT;PIDD1;SEC61A1;ADA;RAD9A"
        ],
        [
         "14",
         "gsea",
         "mTORC1 Signaling",
         "0.3992296260822926",
         "1.1292269868985827",
         "0.3815261044176707",
         "0.5678693100192915",
         "0.703",
         "19/30",
         "43.44%",
         "ELOVL6;TM7SF2;SERP1;PFKL;ABCF2;TUBA4A;CD9;PLK1;PSMB5;PGK1;PPIA;PSMA4;MAP2K3;ENO1;TXNRD1;PRDX1;MTHFD2;HSPE1;G6PD"
        ],
        [
         "15",
         "gsea",
         "Oxidative Phosphorylation",
         "0.4052496127703646",
         "1.0698331089807238",
         "0.42",
         "0.6299255017854944",
         "0.735",
         "54/58",
         "58.42%",
         "GPX4;MTX2;ATP5F1A;TCIRG1;SDHC;NDUFA4;COX5A;PHB2;NDUFB2;RHOT2;UQCRC1;CYCS;UQCRH;ATP5PF;ACAT1;HCCS;SLC25A3;NDUFB4;NDUFS6;HSD17B10;NDUFC2;ATP5MF;NDUFS3;NDUFA3;MRPL15;NDUFB8;ATP5PO;ATP5F1B;LDHB;NDUFA1;COX6B1;UQCRFS1;COX7B;NDUFA2;ATP5MG;ACADSB;MRPS12;UQCRQ;PDP1;COX4I1;ATP6V0C;NDUFB7;UQCR11;COX7C;SLC25A5;LDHA;BAX;ETFB;COX7A2;COX6A1;ATP5F1D;NDUFB3;ATP5F1E;ATP5MC1"
        ],
        [
         "16",
         "gsea",
         "Apical Junction",
         "0.33110928371482673",
         "1.0254476272750914",
         "0.4383561643835616",
         "0.66376569098271",
         "0.748",
         "7/24",
         "34.60%",
         "TRAF1;TSC1;CNTN1;MVD;JAM3;SYK;MYL12B"
        ],
        [
         "17",
         "gsea",
         "G2-M Checkpoint",
         "0.3896009553256145",
         "0.9937573815764079",
         "0.4764705882352941",
         "0.675118690911081",
         "0.759",
         "18/22",
         "55.40%",
         "CUL4A;SMC4;TACC3;CTCF;NOLC1;SMC2;PLK1;RPA2;STMN1;NCL;HMGB3;CKS1B;PLK4;TOP2A;CENPE;MKI67;KIF4A;UPF1"
        ],
        [
         "18",
         "gsea",
         "Inflammatory Response",
         "0.3632515204488497",
         "0.9363167418524904",
         "0.5083798882681564",
         "0.7245672363398338",
         "0.786",
         "2/17",
         "4.84%",
         "LTA;RGS16"
        ],
        [
         "19",
         "gsea",
         "Myc Targets V1",
         "0.3264713658115742",
         "0.9154700394925785",
         "0.5708955223880597",
         "0.7162757049624431",
         "0.797",
         "20/47",
         "39.72%",
         "GNL3;ILF2;MRPL9;NME1;UBE2E1;PSMB3;COX5A;STARD7;PHB2;NOLC1;SF3B3;TUFM;SLC25A3;HSP90AB1;PTGES3;PGK1;PPIA;PSMA4;CCT5;UBA2"
        ],
        [
         "20",
         "gsea",
         "E2F Targets",
         "0.3714532298765108",
         "0.9137305117824073",
         "0.5394990366088632",
         "0.6834866688948699",
         "0.797",
         "23/30",
         "55.53%",
         "SMC4;NME1;WDR90;TACC3;CTCF;NCAPD2;NOLC1;PLK1;RPA2;STMN1;MTHFD2;RFC2;HMGB3;CKS1B;RNASEH2A;PLK4;TOP2A;DIAPH3;CENPE;MKI67;KIF4A;PCNA;CENPM"
        ],
        [
         "21",
         "gsea",
         "Interferon Gamma Response",
         "-0.3045870192908415",
         "-0.8960558115073132",
         "0.5435244161358811",
         "1.0",
         "0.809119830328738",
         "7/26",
         "6.28%",
         "DDX58;BANK1;TXNIP;HLA-B;CD74;PSME1;CXCL9"
        ],
        [
         "22",
         "gsea",
         "KRAS Signaling Up",
         "-0.2773832230971184",
         "-0.8456117786402694",
         "0.6412556053811659",
         "1.0",
         "0.8409331919406151",
         "5/17",
         "6.37%",
         "CXCR4;GNG11;JUP;SPP1;FBXO4"
        ],
        [
         "23",
         "gsea",
         "Epithelial Mesenchymal Transition",
         "0.2842565745819863",
         "0.844807188735659",
         "0.6228070175438597",
         "0.7357468292082255",
         "0.83",
         "4/35",
         "14.00%",
         "TPM2;CAP2;SFRP4;GPX7"
        ],
        [
         "24",
         "gsea",
         "Allograft Rejection",
         "-0.25379125925350055",
         "-0.7616513814470721",
         "0.676",
         "1.0",
         "0.8791092258748674",
         "11/31",
         "11.58%",
         "LTB;CAPG;RPL39;CD74;RPL9;CXCL9;CCR5;CCND3;RPS19;RPS3A;HLA-G"
        ],
        [
         "25",
         "gsea",
         "Apoptosis",
         "0.22501146855663756",
         "0.738805588181397",
         "0.7788649706457925",
         "0.823883865233988",
         "0.875",
         "3/28",
         "6.33%",
         "BIK;GPX4;CASP9"
        ],
        [
         "26",
         "gsea",
         "Hypoxia",
         "0.21851988178828274",
         "0.7177971304833984",
         "0.7722960151802657",
         "0.8111685752986086",
         "0.883",
         "17/31",
         "53.63%",
         "GRHPR;PFKL;KDM3A;SIAH2;PRDX5;ETS1;GPC3;ATF3;PGK1;SLC25A1;ENO1;HK1;MIF;ISG20;PPFIA4;LDHA;TPI1"
        ],
        [
         "27",
         "gsea",
         "UV Response Dn",
         "-0.2415801322714573",
         "-0.6909469137587031",
         "0.8073170731707318",
         "1.0",
         "0.9056203605514316",
         "6/16",
         "12.51%",
         "IGF1R;COL3A1;CACNA1A;PTPRM;COL1A1;EFEMP1"
        ],
        [
         "28",
         "gsea",
         "Estrogen Response Late",
         "0.2054836379841259",
         "0.6266632060956722",
         "0.845724907063197",
         "0.863009481590937",
         "0.915",
         "12/23",
         "54.47%",
         "NAB2;TST;SIAH2;CD9;GALE;RNASEH2A;ST6GALNAC2;PLK4;TOP2A;ISG20;PLAC1;ETFB"
        ],
        [
         "29",
         "gsea",
         "Myogenesis",
         "-0.20487896738805345",
         "-0.6208798873040345",
         "0.8214285714285714",
         "1.0",
         "0.9427359490986215",
         "2/25",
         "0.42%",
         "APP;LARGE1"
        ],
        [
         "30",
         "gsea",
         "Estrogen Response Early",
         "-0.15119917918282763",
         "-0.4252858261100989",
         "0.981941309255079",
         "0.9820436373492343",
         "0.9957582184517497",
         "2/18",
         "5.63%",
         "IGF1R;OLFM1"
        ]
       ],
       "shape": {
        "columns": 10,
        "rows": 31
       }
      },
      "text/html": [
       "<div>\n",
       "<style scoped>\n",
       "    .dataframe tbody tr th:only-of-type {\n",
       "        vertical-align: middle;\n",
       "    }\n",
       "\n",
       "    .dataframe tbody tr th {\n",
       "        vertical-align: top;\n",
       "    }\n",
       "\n",
       "    .dataframe thead th {\n",
       "        text-align: right;\n",
       "    }\n",
       "</style>\n",
       "<table border=\"1\" class=\"dataframe\">\n",
       "  <thead>\n",
       "    <tr style=\"text-align: right;\">\n",
       "      <th></th>\n",
       "      <th>Name</th>\n",
       "      <th>Term</th>\n",
       "      <th>ES</th>\n",
       "      <th>NES</th>\n",
       "      <th>NOM p-val</th>\n",
       "      <th>FDR q-val</th>\n",
       "      <th>FWER p-val</th>\n",
       "      <th>Tag %</th>\n",
       "      <th>Gene %</th>\n",
       "      <th>Lead_genes</th>\n",
       "    </tr>\n",
       "  </thead>\n",
       "  <tbody>\n",
       "    <tr>\n",
       "      <th>0</th>\n",
       "      <td>gsea</td>\n",
       "      <td>TNF-alpha Signaling via NF-kB</td>\n",
       "      <td>0.490726</td>\n",
       "      <td>1.600101</td>\n",
       "      <td>0.03861</td>\n",
       "      <td>1.0</td>\n",
       "      <td>0.275</td>\n",
       "      <td>9/23</td>\n",
       "      <td>23.40%</td>\n",
       "      <td>BCL2A1;BCL6;CD83;TRAF1;SLC2A6;EHD1;DNAJB4;EGR2...</td>\n",
       "    </tr>\n",
       "    <tr>\n",
       "      <th>1</th>\n",
       "      <td>gsea</td>\n",
       "      <td>heme Metabolism</td>\n",
       "      <td>0.484645</td>\n",
       "      <td>1.493229</td>\n",
       "      <td>0.021782</td>\n",
       "      <td>0.98664</td>\n",
       "      <td>0.409</td>\n",
       "      <td>6/15</td>\n",
       "      <td>24.23%</td>\n",
       "      <td>MOCOS;NFE2L1;RHCE;MKRN1;TENT5C;ERMAP</td>\n",
       "    </tr>\n",
       "    <tr>\n",
       "      <th>2</th>\n",
       "      <td>gsea</td>\n",
       "      <td>IL-2/STAT5 Signaling</td>\n",
       "      <td>0.470569</td>\n",
       "      <td>1.432848</td>\n",
       "      <td>0.129666</td>\n",
       "      <td>0.898391</td>\n",
       "      <td>0.471</td>\n",
       "      <td>5/22</td>\n",
       "      <td>7.35%</td>\n",
       "      <td>RGS16;FAH;GPX4;CD83;TRAF1</td>\n",
       "    </tr>\n",
       "    <tr>\n",
       "      <th>3</th>\n",
       "      <td>gsea</td>\n",
       "      <td>DNA Repair</td>\n",
       "      <td>0.512383</td>\n",
       "      <td>1.42711</td>\n",
       "      <td>0.008032</td>\n",
       "      <td>0.691879</td>\n",
       "      <td>0.477</td>\n",
       "      <td>14/18</td>\n",
       "      <td>42.98%</td>\n",
       "      <td>EDF1;GPX4;SEC61A1;ADA;POLR2E;PDE6G;NME1;ELL;NE...</td>\n",
       "    </tr>\n",
       "    <tr>\n",
       "      <th>4</th>\n",
       "      <td>gsea</td>\n",
       "      <td>UV Response Up</td>\n",
       "      <td>0.445567</td>\n",
       "      <td>1.383994</td>\n",
       "      <td>0.070565</td>\n",
       "      <td>0.670792</td>\n",
       "      <td>0.519</td>\n",
       "      <td>13/16</td>\n",
       "      <td>48.79%</td>\n",
       "      <td>FMO1;TST;HYAL2;EPCAM;TUBA4A;ATF3;AP2S1;BID;HSP...</td>\n",
       "    </tr>\n",
       "    <tr>\n",
       "      <th>5</th>\n",
       "      <td>gsea</td>\n",
       "      <td>Adipogenesis</td>\n",
       "      <td>0.427288</td>\n",
       "      <td>1.357244</td>\n",
       "      <td>0.090559</td>\n",
       "      <td>0.635185</td>\n",
       "      <td>0.556</td>\n",
       "      <td>20/34</td>\n",
       "      <td>43.21%</td>\n",
       "      <td>ELOVL6;BCL6;FAH;GPX4;NKIRAS1;SQOR;TST;UCK1;ARA...</td>\n",
       "    </tr>\n",
       "    <tr>\n",
       "      <th>6</th>\n",
       "      <td>gsea</td>\n",
       "      <td>Mitotic Spindle</td>\n",
       "      <td>0.437596</td>\n",
       "      <td>1.294308</td>\n",
       "      <td>0.162745</td>\n",
       "      <td>0.706502</td>\n",
       "      <td>0.615</td>\n",
       "      <td>11/22</td>\n",
       "      <td>39.12%</td>\n",
       "      <td>TSC1;TUBGCP3;CEP131;SMC4;KPTN;CSNK1D;TUBA4A;RH...</td>\n",
       "    </tr>\n",
       "    <tr>\n",
       "      <th>7</th>\n",
       "      <td>gsea</td>\n",
       "      <td>KRAS Signaling Dn</td>\n",
       "      <td>0.435733</td>\n",
       "      <td>1.285167</td>\n",
       "      <td>0.218631</td>\n",
       "      <td>0.638006</td>\n",
       "      <td>0.618</td>\n",
       "      <td>4/15</td>\n",
       "      <td>16.05%</td>\n",
       "      <td>ARPP21;TENM2;KCNN1;TENT5C</td>\n",
       "    </tr>\n",
       "    <tr>\n",
       "      <th>8</th>\n",
       "      <td>gsea</td>\n",
       "      <td>Fatty Acid Metabolism</td>\n",
       "      <td>0.4389</td>\n",
       "      <td>1.237458</td>\n",
       "      <td>0.208502</td>\n",
       "      <td>0.672639</td>\n",
       "      <td>0.649</td>\n",
       "      <td>8/17</td>\n",
       "      <td>33.44%</td>\n",
       "      <td>GRHPR;PTPRG;FMO1;GSTZ1;SDHC;PRDX6;HCCS;HSD17B10</td>\n",
       "    </tr>\n",
       "    <tr>\n",
       "      <th>9</th>\n",
       "      <td>gsea</td>\n",
       "      <td>Unfolded Protein Response</td>\n",
       "      <td>0.434968</td>\n",
       "      <td>1.229926</td>\n",
       "      <td>0.204981</td>\n",
       "      <td>0.62246</td>\n",
       "      <td>0.651</td>\n",
       "      <td>15/19</td>\n",
       "      <td>53.35%</td>\n",
       "      <td>SERP1;SRPRB;EXOSC5;NOLC1;BAG3;ATP6V0D1;ATF3;BA...</td>\n",
       "    </tr>\n",
       "    <tr>\n",
       "      <th>10</th>\n",
       "      <td>gsea</td>\n",
       "      <td>Glycolysis</td>\n",
       "      <td>0.39392</td>\n",
       "      <td>1.20688</td>\n",
       "      <td>0.252285</td>\n",
       "      <td>0.614708</td>\n",
       "      <td>0.67</td>\n",
       "      <td>21/25</td>\n",
       "      <td>53.63%</td>\n",
       "      <td>BIK;COG2;AKR1A1;QSOX1;SDHC;ALG1;GALE;GPC3;B4GA...</td>\n",
       "    </tr>\n",
       "    <tr>\n",
       "      <th>11</th>\n",
       "      <td>gsea</td>\n",
       "      <td>Coagulation</td>\n",
       "      <td>0.432331</td>\n",
       "      <td>1.202412</td>\n",
       "      <td>0.285971</td>\n",
       "      <td>0.570409</td>\n",
       "      <td>0.67</td>\n",
       "      <td>6/22</td>\n",
       "      <td>26.84%</td>\n",
       "      <td>CTSH;CASP9;C1S;TMPRSS6;RAC1;CD9</td>\n",
       "    </tr>\n",
       "    <tr>\n",
       "      <th>12</th>\n",
       "      <td>gsea</td>\n",
       "      <td>Complement</td>\n",
       "      <td>0.39371</td>\n",
       "      <td>1.196299</td>\n",
       "      <td>0.283088</td>\n",
       "      <td>0.537069</td>\n",
       "      <td>0.672</td>\n",
       "      <td>17/31</td>\n",
       "      <td>52.19%</td>\n",
       "      <td>CTSH;CASP9;CDK5R1;PCLO;EHD1;C1S;TMPRSS6;CD46;N...</td>\n",
       "    </tr>\n",
       "    <tr>\n",
       "      <th>13</th>\n",
       "      <td>gsea</td>\n",
       "      <td>p53 Pathway</td>\n",
       "      <td>0.36368</td>\n",
       "      <td>1.175435</td>\n",
       "      <td>0.271047</td>\n",
       "      <td>0.530701</td>\n",
       "      <td>0.679</td>\n",
       "      <td>8/31</td>\n",
       "      <td>19.44%</td>\n",
       "      <td>RGS16;CDK5R1;IP6K2;ABAT;PIDD1;SEC61A1;ADA;RAD9A</td>\n",
       "    </tr>\n",
       "    <tr>\n",
       "      <th>14</th>\n",
       "      <td>gsea</td>\n",
       "      <td>mTORC1 Signaling</td>\n",
       "      <td>0.39923</td>\n",
       "      <td>1.129227</td>\n",
       "      <td>0.381526</td>\n",
       "      <td>0.567869</td>\n",
       "      <td>0.703</td>\n",
       "      <td>19/30</td>\n",
       "      <td>43.44%</td>\n",
       "      <td>ELOVL6;TM7SF2;SERP1;PFKL;ABCF2;TUBA4A;CD9;PLK1...</td>\n",
       "    </tr>\n",
       "    <tr>\n",
       "      <th>15</th>\n",
       "      <td>gsea</td>\n",
       "      <td>Oxidative Phosphorylation</td>\n",
       "      <td>0.40525</td>\n",
       "      <td>1.069833</td>\n",
       "      <td>0.42</td>\n",
       "      <td>0.629926</td>\n",
       "      <td>0.735</td>\n",
       "      <td>54/58</td>\n",
       "      <td>58.42%</td>\n",
       "      <td>GPX4;MTX2;ATP5F1A;TCIRG1;SDHC;NDUFA4;COX5A;PHB...</td>\n",
       "    </tr>\n",
       "    <tr>\n",
       "      <th>16</th>\n",
       "      <td>gsea</td>\n",
       "      <td>Apical Junction</td>\n",
       "      <td>0.331109</td>\n",
       "      <td>1.025448</td>\n",
       "      <td>0.438356</td>\n",
       "      <td>0.663766</td>\n",
       "      <td>0.748</td>\n",
       "      <td>7/24</td>\n",
       "      <td>34.60%</td>\n",
       "      <td>TRAF1;TSC1;CNTN1;MVD;JAM3;SYK;MYL12B</td>\n",
       "    </tr>\n",
       "    <tr>\n",
       "      <th>17</th>\n",
       "      <td>gsea</td>\n",
       "      <td>G2-M Checkpoint</td>\n",
       "      <td>0.389601</td>\n",
       "      <td>0.993757</td>\n",
       "      <td>0.476471</td>\n",
       "      <td>0.675119</td>\n",
       "      <td>0.759</td>\n",
       "      <td>18/22</td>\n",
       "      <td>55.40%</td>\n",
       "      <td>CUL4A;SMC4;TACC3;CTCF;NOLC1;SMC2;PLK1;RPA2;STM...</td>\n",
       "    </tr>\n",
       "    <tr>\n",
       "      <th>18</th>\n",
       "      <td>gsea</td>\n",
       "      <td>Inflammatory Response</td>\n",
       "      <td>0.363252</td>\n",
       "      <td>0.936317</td>\n",
       "      <td>0.50838</td>\n",
       "      <td>0.724567</td>\n",
       "      <td>0.786</td>\n",
       "      <td>2/17</td>\n",
       "      <td>4.84%</td>\n",
       "      <td>LTA;RGS16</td>\n",
       "    </tr>\n",
       "    <tr>\n",
       "      <th>19</th>\n",
       "      <td>gsea</td>\n",
       "      <td>Myc Targets V1</td>\n",
       "      <td>0.326471</td>\n",
       "      <td>0.91547</td>\n",
       "      <td>0.570896</td>\n",
       "      <td>0.716276</td>\n",
       "      <td>0.797</td>\n",
       "      <td>20/47</td>\n",
       "      <td>39.72%</td>\n",
       "      <td>GNL3;ILF2;MRPL9;NME1;UBE2E1;PSMB3;COX5A;STARD7...</td>\n",
       "    </tr>\n",
       "    <tr>\n",
       "      <th>20</th>\n",
       "      <td>gsea</td>\n",
       "      <td>E2F Targets</td>\n",
       "      <td>0.371453</td>\n",
       "      <td>0.913731</td>\n",
       "      <td>0.539499</td>\n",
       "      <td>0.683487</td>\n",
       "      <td>0.797</td>\n",
       "      <td>23/30</td>\n",
       "      <td>55.53%</td>\n",
       "      <td>SMC4;NME1;WDR90;TACC3;CTCF;NCAPD2;NOLC1;PLK1;R...</td>\n",
       "    </tr>\n",
       "    <tr>\n",
       "      <th>21</th>\n",
       "      <td>gsea</td>\n",
       "      <td>Interferon Gamma Response</td>\n",
       "      <td>-0.304587</td>\n",
       "      <td>-0.896056</td>\n",
       "      <td>0.543524</td>\n",
       "      <td>1.0</td>\n",
       "      <td>0.80912</td>\n",
       "      <td>7/26</td>\n",
       "      <td>6.28%</td>\n",
       "      <td>DDX58;BANK1;TXNIP;HLA-B;CD74;PSME1;CXCL9</td>\n",
       "    </tr>\n",
       "    <tr>\n",
       "      <th>22</th>\n",
       "      <td>gsea</td>\n",
       "      <td>KRAS Signaling Up</td>\n",
       "      <td>-0.277383</td>\n",
       "      <td>-0.845612</td>\n",
       "      <td>0.641256</td>\n",
       "      <td>1.0</td>\n",
       "      <td>0.840933</td>\n",
       "      <td>5/17</td>\n",
       "      <td>6.37%</td>\n",
       "      <td>CXCR4;GNG11;JUP;SPP1;FBXO4</td>\n",
       "    </tr>\n",
       "    <tr>\n",
       "      <th>23</th>\n",
       "      <td>gsea</td>\n",
       "      <td>Epithelial Mesenchymal Transition</td>\n",
       "      <td>0.284257</td>\n",
       "      <td>0.844807</td>\n",
       "      <td>0.622807</td>\n",
       "      <td>0.735747</td>\n",
       "      <td>0.83</td>\n",
       "      <td>4/35</td>\n",
       "      <td>14.00%</td>\n",
       "      <td>TPM2;CAP2;SFRP4;GPX7</td>\n",
       "    </tr>\n",
       "    <tr>\n",
       "      <th>24</th>\n",
       "      <td>gsea</td>\n",
       "      <td>Allograft Rejection</td>\n",
       "      <td>-0.253791</td>\n",
       "      <td>-0.761651</td>\n",
       "      <td>0.676</td>\n",
       "      <td>1.0</td>\n",
       "      <td>0.879109</td>\n",
       "      <td>11/31</td>\n",
       "      <td>11.58%</td>\n",
       "      <td>LTB;CAPG;RPL39;CD74;RPL9;CXCL9;CCR5;CCND3;RPS1...</td>\n",
       "    </tr>\n",
       "    <tr>\n",
       "      <th>25</th>\n",
       "      <td>gsea</td>\n",
       "      <td>Apoptosis</td>\n",
       "      <td>0.225011</td>\n",
       "      <td>0.738806</td>\n",
       "      <td>0.778865</td>\n",
       "      <td>0.823884</td>\n",
       "      <td>0.875</td>\n",
       "      <td>3/28</td>\n",
       "      <td>6.33%</td>\n",
       "      <td>BIK;GPX4;CASP9</td>\n",
       "    </tr>\n",
       "    <tr>\n",
       "      <th>26</th>\n",
       "      <td>gsea</td>\n",
       "      <td>Hypoxia</td>\n",
       "      <td>0.21852</td>\n",
       "      <td>0.717797</td>\n",
       "      <td>0.772296</td>\n",
       "      <td>0.811169</td>\n",
       "      <td>0.883</td>\n",
       "      <td>17/31</td>\n",
       "      <td>53.63%</td>\n",
       "      <td>GRHPR;PFKL;KDM3A;SIAH2;PRDX5;ETS1;GPC3;ATF3;PG...</td>\n",
       "    </tr>\n",
       "    <tr>\n",
       "      <th>27</th>\n",
       "      <td>gsea</td>\n",
       "      <td>UV Response Dn</td>\n",
       "      <td>-0.24158</td>\n",
       "      <td>-0.690947</td>\n",
       "      <td>0.807317</td>\n",
       "      <td>1.0</td>\n",
       "      <td>0.90562</td>\n",
       "      <td>6/16</td>\n",
       "      <td>12.51%</td>\n",
       "      <td>IGF1R;COL3A1;CACNA1A;PTPRM;COL1A1;EFEMP1</td>\n",
       "    </tr>\n",
       "    <tr>\n",
       "      <th>28</th>\n",
       "      <td>gsea</td>\n",
       "      <td>Estrogen Response Late</td>\n",
       "      <td>0.205484</td>\n",
       "      <td>0.626663</td>\n",
       "      <td>0.845725</td>\n",
       "      <td>0.863009</td>\n",
       "      <td>0.915</td>\n",
       "      <td>12/23</td>\n",
       "      <td>54.47%</td>\n",
       "      <td>NAB2;TST;SIAH2;CD9;GALE;RNASEH2A;ST6GALNAC2;PL...</td>\n",
       "    </tr>\n",
       "    <tr>\n",
       "      <th>29</th>\n",
       "      <td>gsea</td>\n",
       "      <td>Myogenesis</td>\n",
       "      <td>-0.204879</td>\n",
       "      <td>-0.62088</td>\n",
       "      <td>0.821429</td>\n",
       "      <td>1.0</td>\n",
       "      <td>0.942736</td>\n",
       "      <td>2/25</td>\n",
       "      <td>0.42%</td>\n",
       "      <td>APP;LARGE1</td>\n",
       "    </tr>\n",
       "    <tr>\n",
       "      <th>30</th>\n",
       "      <td>gsea</td>\n",
       "      <td>Estrogen Response Early</td>\n",
       "      <td>-0.151199</td>\n",
       "      <td>-0.425286</td>\n",
       "      <td>0.981941</td>\n",
       "      <td>0.982044</td>\n",
       "      <td>0.995758</td>\n",
       "      <td>2/18</td>\n",
       "      <td>5.63%</td>\n",
       "      <td>IGF1R;OLFM1</td>\n",
       "    </tr>\n",
       "  </tbody>\n",
       "</table>\n",
       "</div>"
      ],
      "text/plain": [
       "    Name                               Term        ES       NES NOM p-val  \\\n",
       "0   gsea      TNF-alpha Signaling via NF-kB  0.490726  1.600101   0.03861   \n",
       "1   gsea                    heme Metabolism  0.484645  1.493229  0.021782   \n",
       "2   gsea               IL-2/STAT5 Signaling  0.470569  1.432848  0.129666   \n",
       "3   gsea                         DNA Repair  0.512383   1.42711  0.008032   \n",
       "4   gsea                     UV Response Up  0.445567  1.383994  0.070565   \n",
       "5   gsea                       Adipogenesis  0.427288  1.357244  0.090559   \n",
       "6   gsea                    Mitotic Spindle  0.437596  1.294308  0.162745   \n",
       "7   gsea                  KRAS Signaling Dn  0.435733  1.285167  0.218631   \n",
       "8   gsea              Fatty Acid Metabolism    0.4389  1.237458  0.208502   \n",
       "9   gsea          Unfolded Protein Response  0.434968  1.229926  0.204981   \n",
       "10  gsea                         Glycolysis   0.39392   1.20688  0.252285   \n",
       "11  gsea                        Coagulation  0.432331  1.202412  0.285971   \n",
       "12  gsea                         Complement   0.39371  1.196299  0.283088   \n",
       "13  gsea                        p53 Pathway   0.36368  1.175435  0.271047   \n",
       "14  gsea                   mTORC1 Signaling   0.39923  1.129227  0.381526   \n",
       "15  gsea          Oxidative Phosphorylation   0.40525  1.069833      0.42   \n",
       "16  gsea                    Apical Junction  0.331109  1.025448  0.438356   \n",
       "17  gsea                    G2-M Checkpoint  0.389601  0.993757  0.476471   \n",
       "18  gsea              Inflammatory Response  0.363252  0.936317   0.50838   \n",
       "19  gsea                     Myc Targets V1  0.326471   0.91547  0.570896   \n",
       "20  gsea                        E2F Targets  0.371453  0.913731  0.539499   \n",
       "21  gsea          Interferon Gamma Response -0.304587 -0.896056  0.543524   \n",
       "22  gsea                  KRAS Signaling Up -0.277383 -0.845612  0.641256   \n",
       "23  gsea  Epithelial Mesenchymal Transition  0.284257  0.844807  0.622807   \n",
       "24  gsea                Allograft Rejection -0.253791 -0.761651     0.676   \n",
       "25  gsea                          Apoptosis  0.225011  0.738806  0.778865   \n",
       "26  gsea                            Hypoxia   0.21852  0.717797  0.772296   \n",
       "27  gsea                     UV Response Dn  -0.24158 -0.690947  0.807317   \n",
       "28  gsea             Estrogen Response Late  0.205484  0.626663  0.845725   \n",
       "29  gsea                         Myogenesis -0.204879  -0.62088  0.821429   \n",
       "30  gsea            Estrogen Response Early -0.151199 -0.425286  0.981941   \n",
       "\n",
       "   FDR q-val FWER p-val  Tag %  Gene %  \\\n",
       "0        1.0      0.275   9/23  23.40%   \n",
       "1    0.98664      0.409   6/15  24.23%   \n",
       "2   0.898391      0.471   5/22   7.35%   \n",
       "3   0.691879      0.477  14/18  42.98%   \n",
       "4   0.670792      0.519  13/16  48.79%   \n",
       "5   0.635185      0.556  20/34  43.21%   \n",
       "6   0.706502      0.615  11/22  39.12%   \n",
       "7   0.638006      0.618   4/15  16.05%   \n",
       "8   0.672639      0.649   8/17  33.44%   \n",
       "9    0.62246      0.651  15/19  53.35%   \n",
       "10  0.614708       0.67  21/25  53.63%   \n",
       "11  0.570409       0.67   6/22  26.84%   \n",
       "12  0.537069      0.672  17/31  52.19%   \n",
       "13  0.530701      0.679   8/31  19.44%   \n",
       "14  0.567869      0.703  19/30  43.44%   \n",
       "15  0.629926      0.735  54/58  58.42%   \n",
       "16  0.663766      0.748   7/24  34.60%   \n",
       "17  0.675119      0.759  18/22  55.40%   \n",
       "18  0.724567      0.786   2/17   4.84%   \n",
       "19  0.716276      0.797  20/47  39.72%   \n",
       "20  0.683487      0.797  23/30  55.53%   \n",
       "21       1.0    0.80912   7/26   6.28%   \n",
       "22       1.0   0.840933   5/17   6.37%   \n",
       "23  0.735747       0.83   4/35  14.00%   \n",
       "24       1.0   0.879109  11/31  11.58%   \n",
       "25  0.823884      0.875   3/28   6.33%   \n",
       "26  0.811169      0.883  17/31  53.63%   \n",
       "27       1.0    0.90562   6/16  12.51%   \n",
       "28  0.863009      0.915  12/23  54.47%   \n",
       "29       1.0   0.942736   2/25   0.42%   \n",
       "30  0.982044   0.995758   2/18   5.63%   \n",
       "\n",
       "                                           Lead_genes  \n",
       "0   BCL2A1;BCL6;CD83;TRAF1;SLC2A6;EHD1;DNAJB4;EGR2...  \n",
       "1                MOCOS;NFE2L1;RHCE;MKRN1;TENT5C;ERMAP  \n",
       "2                           RGS16;FAH;GPX4;CD83;TRAF1  \n",
       "3   EDF1;GPX4;SEC61A1;ADA;POLR2E;PDE6G;NME1;ELL;NE...  \n",
       "4   FMO1;TST;HYAL2;EPCAM;TUBA4A;ATF3;AP2S1;BID;HSP...  \n",
       "5   ELOVL6;BCL6;FAH;GPX4;NKIRAS1;SQOR;TST;UCK1;ARA...  \n",
       "6   TSC1;TUBGCP3;CEP131;SMC4;KPTN;CSNK1D;TUBA4A;RH...  \n",
       "7                           ARPP21;TENM2;KCNN1;TENT5C  \n",
       "8     GRHPR;PTPRG;FMO1;GSTZ1;SDHC;PRDX6;HCCS;HSD17B10  \n",
       "9   SERP1;SRPRB;EXOSC5;NOLC1;BAG3;ATP6V0D1;ATF3;BA...  \n",
       "10  BIK;COG2;AKR1A1;QSOX1;SDHC;ALG1;GALE;GPC3;B4GA...  \n",
       "11                    CTSH;CASP9;C1S;TMPRSS6;RAC1;CD9  \n",
       "12  CTSH;CASP9;CDK5R1;PCLO;EHD1;C1S;TMPRSS6;CD46;N...  \n",
       "13    RGS16;CDK5R1;IP6K2;ABAT;PIDD1;SEC61A1;ADA;RAD9A  \n",
       "14  ELOVL6;TM7SF2;SERP1;PFKL;ABCF2;TUBA4A;CD9;PLK1...  \n",
       "15  GPX4;MTX2;ATP5F1A;TCIRG1;SDHC;NDUFA4;COX5A;PHB...  \n",
       "16               TRAF1;TSC1;CNTN1;MVD;JAM3;SYK;MYL12B  \n",
       "17  CUL4A;SMC4;TACC3;CTCF;NOLC1;SMC2;PLK1;RPA2;STM...  \n",
       "18                                          LTA;RGS16  \n",
       "19  GNL3;ILF2;MRPL9;NME1;UBE2E1;PSMB3;COX5A;STARD7...  \n",
       "20  SMC4;NME1;WDR90;TACC3;CTCF;NCAPD2;NOLC1;PLK1;R...  \n",
       "21           DDX58;BANK1;TXNIP;HLA-B;CD74;PSME1;CXCL9  \n",
       "22                         CXCR4;GNG11;JUP;SPP1;FBXO4  \n",
       "23                               TPM2;CAP2;SFRP4;GPX7  \n",
       "24  LTB;CAPG;RPL39;CD74;RPL9;CXCL9;CCR5;CCND3;RPS1...  \n",
       "25                                     BIK;GPX4;CASP9  \n",
       "26  GRHPR;PFKL;KDM3A;SIAH2;PRDX5;ETS1;GPC3;ATF3;PG...  \n",
       "27           IGF1R;COL3A1;CACNA1A;PTPRM;COL1A1;EFEMP1  \n",
       "28  NAB2;TST;SIAH2;CD9;GALE;RNASEH2A;ST6GALNAC2;PL...  \n",
       "29                                         APP;LARGE1  \n",
       "30                                        IGF1R;OLFM1  "
      ]
     },
     "execution_count": 318,
     "metadata": {},
     "output_type": "execute_result"
    }
   ],
   "source": [
    "gsea_result_pred.res2d"
   ]
  },
  {
   "cell_type": "code",
   "execution_count": 321,
   "id": "8f032710",
   "metadata": {},
   "outputs": [
    {
     "data": {
      "image/png": "[encoded data removed]",
      "text/plain": [
       "<Figure size 1000x600 with 4 Axes>"
      ]
     },
     "metadata": {},
     "output_type": "display_data"
    }
   ],
   "source": [
    "axs = gsea_result_pred.plot(terms=gsea_result_pred.res2d.Term[14], figsize=(10, 6))"
   ]
  },
  {
   "cell_type": "code",
   "execution_count": 557,
   "id": "e1bdd0cf",
   "metadata": {},
   "outputs": [],
   "source": [
    "data_gsea_hv = data_gsea[:, data_gsea.var['highly_variable']].copy()\n",
    "expr_df_hv = pd.DataFrame(data_gsea_hv.X.toarray().T, index=data_gsea_hv.var_names, columns=data_gsea_hv.obs_names)"
   ]
  },
  {
   "cell_type": "code",
   "execution_count": null,
   "id": "8c40a8ed",
   "metadata": {},
   "outputs": [],
   "source": [
    "gsea_result_hv = gp.gsea(\n",
    "    data=expr_df_hv,\n",
    "    gene_sets='MSigDB_Hallmark_2020',  # dict or path to .gmt\n",
    "    cls=phenotypes,                # Array of class labels\n",
    "    permutation_num=1000,\n",
    "    method='signal_to_noise',      # or 't_test', 'log2_ratio_of_classes'\n",
    "    outdir=None,          # Change or set to None\n",
    "    no_plot=False,                  # Disable plots if not needed\n",
    "    seed=42\n",
    ")"
   ]
  },
  {
   "cell_type": "code",
   "execution_count": 566,
   "id": "50398280",
   "metadata": {},
   "outputs": [
    {
     "data": {
      "application/vnd.microsoft.datawrangler.viewer.v0+json": {
       "columns": [
        {
         "name": "index",
         "rawType": "int64",
         "type": "integer"
        },
        {
         "name": "Name",
         "rawType": "object",
         "type": "string"
        },
        {
         "name": "Term",
         "rawType": "object",
         "type": "string"
        },
        {
         "name": "ES",
         "rawType": "object",
         "type": "string"
        },
        {
         "name": "NES",
         "rawType": "object",
         "type": "string"
        },
        {
         "name": "NOM p-val",
         "rawType": "object",
         "type": "string"
        },
        {
         "name": "FDR q-val",
         "rawType": "object",
         "type": "string"
        },
        {
         "name": "FWER p-val",
         "rawType": "object",
         "type": "string"
        },
        {
         "name": "Tag %",
         "rawType": "object",
         "type": "string"
        },
        {
         "name": "Gene %",
         "rawType": "object",
         "type": "string"
        },
        {
         "name": "Lead_genes",
         "rawType": "object",
         "type": "string"
        }
       ],
       "conversionMethod": "pd.DataFrame",
       "ref": "2fb67481-2cec-4a40-9cb4-95b739fac8e2",
       "rows": [
        [
         "0",
         "gsea",
         "Oxidative Phosphorylation",
         "0.6480003034054528",
         "2.5884070342219836",
         "0.0",
         "0.0",
         "0.0",
         "49/53",
         "34.34%",
         "MTX2;ATP5MF;ATP5MG;SDHC;SLC25A3;UQCRH;NDUFB2;COX6C;PHB2;ATP5PF;NDUFC2;NDUFA4;LDHA;NDUFS6;UQCRFS1;LDHB;UQCR11;ATP5F1B;NDUFB8;UQCRC1;CYCS;NDUFA1;ACAT1;ATP5F1E;ALDH6A1;COX4I1;ATP6V0C;MDH2;ATP5PO;ATP5MC1;COX7C;COX6B1;NDUFB7;SLC25A5;ATP5F1D;NDUFA3;ETFB;COX6A1;BAX;ECHS1;UQCR10;COX7A2;NDUFB3;NDUFS3;MRPL15;COX5B;HCCS;ATP5ME;ACADSB"
        ],
        [
         "1",
         "gsea",
         "mTORC1 Signaling",
         "0.6675680424143208",
         "2.3681119333909475",
         "0.0",
         "0.0",
         "0.0",
         "24/29",
         "24.64%",
         "ELOVL6;PPIA;NAMPT;ENO1;PSMB5;PSMA4;MAP2K3;TXNRD1;MTHFD2;TUBA4A;LDHA;TM7SF2;TPI1;GAPDH;ABCF2;PDK1;RRM2;HSPE1;PLK1;PRDX1;ATP5MC1;CD9;SLC9A3R1;G6PD"
        ],
        [
         "2",
         "gsea",
         "Complement",
         "0.5411700110014828",
         "2.281323698591918",
         "0.0",
         "0.0",
         "0.0",
         "15/38",
         "25.10%",
         "DGKG;CTSH;LYN;CDK5R1;EHD1;ATOX1;CASP9;PCLO;SH2B3;LAMP2;CTSB;ANXA5;TIMP1;S100A9;TMPRSS6"
        ],
        [
         "3",
         "gsea",
         "TNF-alpha Signaling via NF-kB",
         "0.5745900521093007",
         "2.262543524511639",
         "0.0",
         "0.0",
         "0.0",
         "15/35",
         "21.83%",
         "CD83;RELB;EHD1;ICAM1;NAMPT;SOD2;SLC2A6;MAP2K3;EGR2;NR4A3;CD69;IL18;SAT1;FOS;NR4A2"
        ],
        [
         "4",
         "gsea",
         "Glycolysis",
         "0.6062306175707703",
         "2.2069229812913145",
         "0.0",
         "0.0",
         "0.0",
         "13/24",
         "19.94%",
         "BIK;COG2;PPIA;AKR1A1;ENO1;SDHC;B4GALT2;LDHA;STMN1;TPI1;ISG20;MIF;MDH2"
        ],
        [
         "5",
         "gsea",
         "E2F Targets",
         "0.665837622549455",
         "2.116731494275596",
         "0.0",
         "0.0006006422251484279",
         "0.002",
         "17/24",
         "18.59%",
         "NCAPD2;TOP2A;WDR90;DIAPH3;MKI67;MTHFD2;CENPE;STMN1;PLK4;TUBB;RPA2;CKS1B;KIF4A;NOLC1;RRM2;PLK1;RFC2"
        ],
        [
         "6",
         "gsea",
         "Fatty Acid Metabolism",
         "0.6282838958584572",
         "2.104820215583396",
         "0.0",
         "0.0005148361929843668",
         "0.002",
         "11/22",
         "19.94%",
         "GRHPR;PTPRG;HSPH1;SDHC;HSP90AA1;PRDX6;LDHA;ERP29;GSTZ1;MIF;MDH2"
        ],
        [
         "7",
         "gsea",
         "G2-M Checkpoint",
         "0.7124975820886155",
         "2.1033797089753947",
         "0.0",
         "0.00045048166886132096",
         "0.002",
         "14/19",
         "18.31%",
         "SMC2;TOP2A;MKI67;NCL;CENPE;HMGN2;STMN1;PLK4;RPA2;CKS1B;KIF4A;NOLC1;CENPF;PLK1"
        ],
        [
         "8",
         "gsea",
         "Mitotic Spindle",
         "0.650956366029048",
         "2.0901856305086013",
         "0.0",
         "0.000600642225148428",
         "0.003",
         "17/19",
         "33.67%",
         "CSNK1D;TUBGCP3;TSC1;KIF3B;TOP2A;CEP131;CENPE;TUBA4A;KIF4A;CENPF;PLK1;UXT;DOCK4;TUBGCP6;GEMIN4;ARHGDIA;KPTN"
        ],
        [
         "9",
         "gsea",
         "Apoptosis",
         "0.5694580370686181",
         "2.087503380605955",
         "0.0",
         "0.0007207706701781134",
         "0.004",
         "15/27",
         "26.66%",
         "LEF1;BIK;SOD2;CASP9;TOP2A;CD69;BID;IL18;ISG20;SAT1;TGFBR3;BCL2L2;TIMP1;IFITM3;BAX"
        ],
        [
         "10",
         "gsea",
         "Myc Targets V1",
         "0.5879272871471954",
         "2.0799864753422717",
         "0.0",
         "0.0006552460637982851",
         "0.004",
         "25/34",
         "34.77%",
         "NCBP1;GNL3;PPIA;PSMA4;SLC25A3;ILF2;PSMB3;PHB2;SNRPG;LDHA;NOLC1;HNRNPA1;HSPE1;MRPL9;PCNA;RPLP0;RPL6;TUFM;RPL14;TYMS;SNRPD2;CDC20;RPS3;FBL;RAN"
        ],
        [
         "11",
         "gsea",
         "Allograft Rejection",
         "0.5474707618729143",
         "1.983487018908031",
         "0.0",
         "0.0018019266754452838",
         "0.011",
         "11/31",
         "23.28%",
         "LYN;HLA-DMB;IL2RA;ICAM1;HLA-DRA;CD79A;SIT1;IL18;PSMB10;STAB1;TIMP1"
        ],
        [
         "12",
         "gsea",
         "Coagulation",
         "0.5329512413619485",
         "1.8748001432812926",
         "0.0",
         "0.007900755423106245",
         "0.051",
         "18/25",
         "37.33%",
         "CTSH;RAC1;CASP9;LAMP2;CTSB;CD9;TIMP1;WDR1;TMPRSS6;CFD;VWF;PROS1;THBS1;SERPING1;SPARC;CSRP1;APOC1;FN1"
        ],
        [
         "13",
         "gsea",
         "p53 Pathway",
         "0.4753243359431842",
         "1.812774860167638",
         "0.0",
         "0.01274219577636308",
         "0.084",
         "13/29",
         "27.91%",
         "TP63;ABAT;SEC61A1;CDK5R1;RAB40C;LDHB;SAT1;FOS;PCNA;RGS16;BAX;RXRA;FGF13"
        ],
        [
         "14",
         "gsea",
         "Adipogenesis",
         "0.49982419602619854",
         "1.8019938544708765",
         "0.013363028953229399",
         "0.01309400050823573",
         "0.09",
         "25/27",
         "46.43%",
         "ELOVL6;SDHC;ARAF;ENPP2;UQCR11;UQCRC1;MDH2;NKIRAS1;ATP5PO;DDT;UCK1;NDUFB7;ETFB;COX6A1;ECHS1;UQCR10;NDUFS3;MRPL15;CD36;SORBS1;APOE;PTGER3;VEGFB;CRAT;UBC"
        ],
        [
         "15",
         "gsea",
         "KRAS Signaling Dn",
         "-0.5358318624822529",
         "-1.8016521861052235",
         "0.019801980198019802",
         "0.03294214535721639",
         "0.11623246492985972",
         "4/16",
         "3.52%",
         "IFI44L;PRKN;ZBTB16;SERPINB2"
        ],
        [
         "16",
         "gsea",
         "Unfolded Protein Response",
         "0.5857471194702749",
         "1.8004106206278248",
         "0.0069767441860465115",
         "0.012275625476470995",
         "0.09",
         "11/15",
         "34.52%",
         "SRPRB;BANF1;ATP6V0D1;MTHFD2;CKS1B;NOLC1;NOP14;EXOSC5;BAG3;GEMIN4;POP4"
        ],
        [
         "17",
         "gsea",
         "UV Response Up",
         "0.5775417088840539",
         "1.775426798720373",
         "0.006355932203389831",
         "0.014097426343189574",
         "0.107",
         "8/16",
         "23.96%",
         "LYN;ICAM1;SOD2;TUBA4A;BID;AP2S1;FOS;HSPA13"
        ],
        [
         "18",
         "gsea",
         "Hypoxia",
         "0.4652634602941009",
         "1.7650463641027219",
         "0.0081799591002045",
         "0.01401498525346332",
         "0.11",
         "11/26",
         "21.54%",
         "GRHPR;ENO1;RBPJ;LDHA;TPI1;GAPDH;ISG20;PDK1;MIF;PRDX5;FOS"
        ],
        [
         "19",
         "gsea",
         "Inflammatory Response",
         "0.44569996861513633",
         "1.7200980065431042",
         "0.020089285714285716",
         "0.01877797272306138",
         "0.149",
         "12/32",
         "25.49%",
         "LYN;ICAM1;NAMPT;LTA;SRI;CD69;IL18;STAB1;TIMP1;RGS16;SCN1B;ADRM1"
        ],
        [
         "20",
         "gsea",
         "KRAS Signaling Up",
         "0.4461508786223775",
         "1.580436021970822",
         "0.03296703296703297",
         "0.04531845588744888",
         "0.311",
         "7/23",
         "25.31%",
         "LAPTM5;PCSK1N;F13A1;PSMB8;EPHB2;RGS16;SCN1B"
        ],
        [
         "21",
         "gsea",
         "IL-2/STAT5 Signaling",
         "0.474161207313904",
         "1.5624554986566277",
         "0.033932135728542916",
         "0.0481371840440383",
         "0.332",
         "3/22",
         "4.69%",
         "CD83;SLC39A8;IL2RA"
        ],
        [
         "22",
         "gsea",
         "Myogenesis",
         "-0.33693249981358137",
         "-1.3707703503921775",
         "0.10408163265306122",
         "0.19806464896026355",
         "0.5991983967935872",
         "3/32",
         "1.28%",
         "LARGE1;APP;MEF2C"
        ],
        [
         "23",
         "gsea",
         "Interferon Gamma Response",
         "-0.4089051244382221",
         "-1.3631371111017996",
         "0.125",
         "0.1365040148239654",
         "0.6122244488977956",
         "4/31",
         "1.46%",
         "BANK1;IFI44L;DDX58;LY6E"
        ],
        [
         "24",
         "gsea",
         "Apical Junction",
         "0.3814589263790721",
         "1.2125034171955849",
         "0.23590504451038577",
         "0.26963375525299427",
         "0.82",
         "13/21",
         "48.13%",
         "TSC1;ICAM1;MYL12B;JAM3;VWF;NRXN2;ACTN1;PARVA;CNTN1;ICAM2;CRAT;CDH11;NEGR1"
        ],
        [
         "25",
         "gsea",
         "Epithelial Mesenchymal Transition",
         "0.31804176863957156",
         "1.2007825425873493",
         "0.22580645161290322",
         "0.26911383174585",
         "0.826",
         "16/46",
         "37.33%",
         "TPM2;PPIB;SFRP4;GPX7;SAT1;TGFBR3;TIMP1;LAMA2;TNC;THBS1;COL5A3;SPARC;PLOD2;COL1A2;DCN;FN1"
        ],
        [
         "26",
         "gsea",
         "Estrogen Response Late",
         "0.3370698767224452",
         "1.1865408967072903",
         "0.22459893048128343",
         "0.27216600827038134",
         "0.847",
         "15/22",
         "34.48%",
         "TOP2A;NAB2;COX6C;PLK4;ISG20;FOS;CD9;S100A9;SLC9A3R1;ETFB;PKP3;CDC20;GALE;MYOF;CLIC3"
        ],
        [
         "27",
         "gsea",
         "Estrogen Response Early",
         "0.35082527065898",
         "1.0648191122869448",
         "0.3836477987421384",
         "0.3931083235151431",
         "0.919",
         "11/20",
         "39.92%",
         "ABAT;MYBL1;ADCY9;FOS;SLC9A3R1;THSD4;SEC14L2;MYOF;CLIC3;ISG20L2;GFRA1"
        ],
        [
         "28",
         "gsea",
         "UV Response Dn",
         "0.21280861712806104",
         "0.6113609898590401",
         "0.9188712522045855",
         "0.9309723473560191",
         "1.0",
         "10/16",
         "49.77%",
         "SRI;TGFBR3;RXRA;COL1A2;KCNMA1;TFPI;MMP16;PTPRM;COL1A1;COL11A1"
        ]
       ],
       "shape": {
        "columns": 10,
        "rows": 29
       }
      },
      "text/html": [
       "<div>\n",
       "<style scoped>\n",
       "    .dataframe tbody tr th:only-of-type {\n",
       "        vertical-align: middle;\n",
       "    }\n",
       "\n",
       "    .dataframe tbody tr th {\n",
       "        vertical-align: top;\n",
       "    }\n",
       "\n",
       "    .dataframe thead th {\n",
       "        text-align: right;\n",
       "    }\n",
       "</style>\n",
       "<table border=\"1\" class=\"dataframe\">\n",
       "  <thead>\n",
       "    <tr style=\"text-align: right;\">\n",
       "      <th></th>\n",
       "      <th>Name</th>\n",
       "      <th>Term</th>\n",
       "      <th>ES</th>\n",
       "      <th>NES</th>\n",
       "      <th>NOM p-val</th>\n",
       "      <th>FDR q-val</th>\n",
       "      <th>FWER p-val</th>\n",
       "      <th>Tag %</th>\n",
       "      <th>Gene %</th>\n",
       "      <th>Lead_genes</th>\n",
       "    </tr>\n",
       "  </thead>\n",
       "  <tbody>\n",
       "    <tr>\n",
       "      <th>0</th>\n",
       "      <td>gsea</td>\n",
       "      <td>Oxidative Phosphorylation</td>\n",
       "      <td>0.648</td>\n",
       "      <td>2.588407</td>\n",
       "      <td>0.0</td>\n",
       "      <td>0.0</td>\n",
       "      <td>0.0</td>\n",
       "      <td>49/53</td>\n",
       "      <td>34.34%</td>\n",
       "      <td>MTX2;ATP5MF;ATP5MG;SDHC;SLC25A3;UQCRH;NDUFB2;C...</td>\n",
       "    </tr>\n",
       "    <tr>\n",
       "      <th>1</th>\n",
       "      <td>gsea</td>\n",
       "      <td>mTORC1 Signaling</td>\n",
       "      <td>0.667568</td>\n",
       "      <td>2.368112</td>\n",
       "      <td>0.0</td>\n",
       "      <td>0.0</td>\n",
       "      <td>0.0</td>\n",
       "      <td>24/29</td>\n",
       "      <td>24.64%</td>\n",
       "      <td>ELOVL6;PPIA;NAMPT;ENO1;PSMB5;PSMA4;MAP2K3;TXNR...</td>\n",
       "    </tr>\n",
       "    <tr>\n",
       "      <th>2</th>\n",
       "      <td>gsea</td>\n",
       "      <td>Complement</td>\n",
       "      <td>0.54117</td>\n",
       "      <td>2.281324</td>\n",
       "      <td>0.0</td>\n",
       "      <td>0.0</td>\n",
       "      <td>0.0</td>\n",
       "      <td>15/38</td>\n",
       "      <td>25.10%</td>\n",
       "      <td>DGKG;CTSH;LYN;CDK5R1;EHD1;ATOX1;CASP9;PCLO;SH2...</td>\n",
       "    </tr>\n",
       "    <tr>\n",
       "      <th>3</th>\n",
       "      <td>gsea</td>\n",
       "      <td>TNF-alpha Signaling via NF-kB</td>\n",
       "      <td>0.57459</td>\n",
       "      <td>2.262544</td>\n",
       "      <td>0.0</td>\n",
       "      <td>0.0</td>\n",
       "      <td>0.0</td>\n",
       "      <td>15/35</td>\n",
       "      <td>21.83%</td>\n",
       "      <td>CD83;RELB;EHD1;ICAM1;NAMPT;SOD2;SLC2A6;MAP2K3;...</td>\n",
       "    </tr>\n",
       "    <tr>\n",
       "      <th>4</th>\n",
       "      <td>gsea</td>\n",
       "      <td>Glycolysis</td>\n",
       "      <td>0.606231</td>\n",
       "      <td>2.206923</td>\n",
       "      <td>0.0</td>\n",
       "      <td>0.0</td>\n",
       "      <td>0.0</td>\n",
       "      <td>13/24</td>\n",
       "      <td>19.94%</td>\n",
       "      <td>BIK;COG2;PPIA;AKR1A1;ENO1;SDHC;B4GALT2;LDHA;ST...</td>\n",
       "    </tr>\n",
       "    <tr>\n",
       "      <th>5</th>\n",
       "      <td>gsea</td>\n",
       "      <td>E2F Targets</td>\n",
       "      <td>0.665838</td>\n",
       "      <td>2.116731</td>\n",
       "      <td>0.0</td>\n",
       "      <td>0.000601</td>\n",
       "      <td>0.002</td>\n",
       "      <td>17/24</td>\n",
       "      <td>18.59%</td>\n",
       "      <td>NCAPD2;TOP2A;WDR90;DIAPH3;MKI67;MTHFD2;CENPE;S...</td>\n",
       "    </tr>\n",
       "    <tr>\n",
       "      <th>6</th>\n",
       "      <td>gsea</td>\n",
       "      <td>Fatty Acid Metabolism</td>\n",
       "      <td>0.628284</td>\n",
       "      <td>2.10482</td>\n",
       "      <td>0.0</td>\n",
       "      <td>0.000515</td>\n",
       "      <td>0.002</td>\n",
       "      <td>11/22</td>\n",
       "      <td>19.94%</td>\n",
       "      <td>GRHPR;PTPRG;HSPH1;SDHC;HSP90AA1;PRDX6;LDHA;ERP...</td>\n",
       "    </tr>\n",
       "    <tr>\n",
       "      <th>7</th>\n",
       "      <td>gsea</td>\n",
       "      <td>G2-M Checkpoint</td>\n",
       "      <td>0.712498</td>\n",
       "      <td>2.10338</td>\n",
       "      <td>0.0</td>\n",
       "      <td>0.00045</td>\n",
       "      <td>0.002</td>\n",
       "      <td>14/19</td>\n",
       "      <td>18.31%</td>\n",
       "      <td>SMC2;TOP2A;MKI67;NCL;CENPE;HMGN2;STMN1;PLK4;RP...</td>\n",
       "    </tr>\n",
       "    <tr>\n",
       "      <th>8</th>\n",
       "      <td>gsea</td>\n",
       "      <td>Mitotic Spindle</td>\n",
       "      <td>0.650956</td>\n",
       "      <td>2.090186</td>\n",
       "      <td>0.0</td>\n",
       "      <td>0.000601</td>\n",
       "      <td>0.003</td>\n",
       "      <td>17/19</td>\n",
       "      <td>33.67%</td>\n",
       "      <td>CSNK1D;TUBGCP3;TSC1;KIF3B;TOP2A;CEP131;CENPE;T...</td>\n",
       "    </tr>\n",
       "    <tr>\n",
       "      <th>9</th>\n",
       "      <td>gsea</td>\n",
       "      <td>Apoptosis</td>\n",
       "      <td>0.569458</td>\n",
       "      <td>2.087503</td>\n",
       "      <td>0.0</td>\n",
       "      <td>0.000721</td>\n",
       "      <td>0.004</td>\n",
       "      <td>15/27</td>\n",
       "      <td>26.66%</td>\n",
       "      <td>LEF1;BIK;SOD2;CASP9;TOP2A;CD69;BID;IL18;ISG20;...</td>\n",
       "    </tr>\n",
       "    <tr>\n",
       "      <th>10</th>\n",
       "      <td>gsea</td>\n",
       "      <td>Myc Targets V1</td>\n",
       "      <td>0.587927</td>\n",
       "      <td>2.079986</td>\n",
       "      <td>0.0</td>\n",
       "      <td>0.000655</td>\n",
       "      <td>0.004</td>\n",
       "      <td>25/34</td>\n",
       "      <td>34.77%</td>\n",
       "      <td>NCBP1;GNL3;PPIA;PSMA4;SLC25A3;ILF2;PSMB3;PHB2;...</td>\n",
       "    </tr>\n",
       "    <tr>\n",
       "      <th>11</th>\n",
       "      <td>gsea</td>\n",
       "      <td>Allograft Rejection</td>\n",
       "      <td>0.547471</td>\n",
       "      <td>1.983487</td>\n",
       "      <td>0.0</td>\n",
       "      <td>0.001802</td>\n",
       "      <td>0.011</td>\n",
       "      <td>11/31</td>\n",
       "      <td>23.28%</td>\n",
       "      <td>LYN;HLA-DMB;IL2RA;ICAM1;HLA-DRA;CD79A;SIT1;IL1...</td>\n",
       "    </tr>\n",
       "    <tr>\n",
       "      <th>12</th>\n",
       "      <td>gsea</td>\n",
       "      <td>Coagulation</td>\n",
       "      <td>0.532951</td>\n",
       "      <td>1.8748</td>\n",
       "      <td>0.0</td>\n",
       "      <td>0.007901</td>\n",
       "      <td>0.051</td>\n",
       "      <td>18/25</td>\n",
       "      <td>37.33%</td>\n",
       "      <td>CTSH;RAC1;CASP9;LAMP2;CTSB;CD9;TIMP1;WDR1;TMPR...</td>\n",
       "    </tr>\n",
       "    <tr>\n",
       "      <th>13</th>\n",
       "      <td>gsea</td>\n",
       "      <td>p53 Pathway</td>\n",
       "      <td>0.475324</td>\n",
       "      <td>1.812775</td>\n",
       "      <td>0.0</td>\n",
       "      <td>0.012742</td>\n",
       "      <td>0.084</td>\n",
       "      <td>13/29</td>\n",
       "      <td>27.91%</td>\n",
       "      <td>TP63;ABAT;SEC61A1;CDK5R1;RAB40C;LDHB;SAT1;FOS;...</td>\n",
       "    </tr>\n",
       "    <tr>\n",
       "      <th>14</th>\n",
       "      <td>gsea</td>\n",
       "      <td>Adipogenesis</td>\n",
       "      <td>0.499824</td>\n",
       "      <td>1.801994</td>\n",
       "      <td>0.013363</td>\n",
       "      <td>0.013094</td>\n",
       "      <td>0.09</td>\n",
       "      <td>25/27</td>\n",
       "      <td>46.43%</td>\n",
       "      <td>ELOVL6;SDHC;ARAF;ENPP2;UQCR11;UQCRC1;MDH2;NKIR...</td>\n",
       "    </tr>\n",
       "    <tr>\n",
       "      <th>15</th>\n",
       "      <td>gsea</td>\n",
       "      <td>KRAS Signaling Dn</td>\n",
       "      <td>-0.535832</td>\n",
       "      <td>-1.801652</td>\n",
       "      <td>0.019802</td>\n",
       "      <td>0.032942</td>\n",
       "      <td>0.116232</td>\n",
       "      <td>4/16</td>\n",
       "      <td>3.52%</td>\n",
       "      <td>IFI44L;PRKN;ZBTB16;SERPINB2</td>\n",
       "    </tr>\n",
       "    <tr>\n",
       "      <th>16</th>\n",
       "      <td>gsea</td>\n",
       "      <td>Unfolded Protein Response</td>\n",
       "      <td>0.585747</td>\n",
       "      <td>1.800411</td>\n",
       "      <td>0.006977</td>\n",
       "      <td>0.012276</td>\n",
       "      <td>0.09</td>\n",
       "      <td>11/15</td>\n",
       "      <td>34.52%</td>\n",
       "      <td>SRPRB;BANF1;ATP6V0D1;MTHFD2;CKS1B;NOLC1;NOP14;...</td>\n",
       "    </tr>\n",
       "    <tr>\n",
       "      <th>17</th>\n",
       "      <td>gsea</td>\n",
       "      <td>UV Response Up</td>\n",
       "      <td>0.577542</td>\n",
       "      <td>1.775427</td>\n",
       "      <td>0.006356</td>\n",
       "      <td>0.014097</td>\n",
       "      <td>0.107</td>\n",
       "      <td>8/16</td>\n",
       "      <td>23.96%</td>\n",
       "      <td>LYN;ICAM1;SOD2;TUBA4A;BID;AP2S1;FOS;HSPA13</td>\n",
       "    </tr>\n",
       "    <tr>\n",
       "      <th>18</th>\n",
       "      <td>gsea</td>\n",
       "      <td>Hypoxia</td>\n",
       "      <td>0.465263</td>\n",
       "      <td>1.765046</td>\n",
       "      <td>0.00818</td>\n",
       "      <td>0.014015</td>\n",
       "      <td>0.11</td>\n",
       "      <td>11/26</td>\n",
       "      <td>21.54%</td>\n",
       "      <td>GRHPR;ENO1;RBPJ;LDHA;TPI1;GAPDH;ISG20;PDK1;MIF...</td>\n",
       "    </tr>\n",
       "    <tr>\n",
       "      <th>19</th>\n",
       "      <td>gsea</td>\n",
       "      <td>Inflammatory Response</td>\n",
       "      <td>0.4457</td>\n",
       "      <td>1.720098</td>\n",
       "      <td>0.020089</td>\n",
       "      <td>0.018778</td>\n",
       "      <td>0.149</td>\n",
       "      <td>12/32</td>\n",
       "      <td>25.49%</td>\n",
       "      <td>LYN;ICAM1;NAMPT;LTA;SRI;CD69;IL18;STAB1;TIMP1;...</td>\n",
       "    </tr>\n",
       "    <tr>\n",
       "      <th>20</th>\n",
       "      <td>gsea</td>\n",
       "      <td>KRAS Signaling Up</td>\n",
       "      <td>0.446151</td>\n",
       "      <td>1.580436</td>\n",
       "      <td>0.032967</td>\n",
       "      <td>0.045318</td>\n",
       "      <td>0.311</td>\n",
       "      <td>7/23</td>\n",
       "      <td>25.31%</td>\n",
       "      <td>LAPTM5;PCSK1N;F13A1;PSMB8;EPHB2;RGS16;SCN1B</td>\n",
       "    </tr>\n",
       "    <tr>\n",
       "      <th>21</th>\n",
       "      <td>gsea</td>\n",
       "      <td>IL-2/STAT5 Signaling</td>\n",
       "      <td>0.474161</td>\n",
       "      <td>1.562455</td>\n",
       "      <td>0.033932</td>\n",
       "      <td>0.048137</td>\n",
       "      <td>0.332</td>\n",
       "      <td>3/22</td>\n",
       "      <td>4.69%</td>\n",
       "      <td>CD83;SLC39A8;IL2RA</td>\n",
       "    </tr>\n",
       "    <tr>\n",
       "      <th>22</th>\n",
       "      <td>gsea</td>\n",
       "      <td>Myogenesis</td>\n",
       "      <td>-0.336932</td>\n",
       "      <td>-1.37077</td>\n",
       "      <td>0.104082</td>\n",
       "      <td>0.198065</td>\n",
       "      <td>0.599198</td>\n",
       "      <td>3/32</td>\n",
       "      <td>1.28%</td>\n",
       "      <td>LARGE1;APP;MEF2C</td>\n",
       "    </tr>\n",
       "    <tr>\n",
       "      <th>23</th>\n",
       "      <td>gsea</td>\n",
       "      <td>Interferon Gamma Response</td>\n",
       "      <td>-0.408905</td>\n",
       "      <td>-1.363137</td>\n",
       "      <td>0.125</td>\n",
       "      <td>0.136504</td>\n",
       "      <td>0.612224</td>\n",
       "      <td>4/31</td>\n",
       "      <td>1.46%</td>\n",
       "      <td>BANK1;IFI44L;DDX58;LY6E</td>\n",
       "    </tr>\n",
       "    <tr>\n",
       "      <th>24</th>\n",
       "      <td>gsea</td>\n",
       "      <td>Apical Junction</td>\n",
       "      <td>0.381459</td>\n",
       "      <td>1.212503</td>\n",
       "      <td>0.235905</td>\n",
       "      <td>0.269634</td>\n",
       "      <td>0.82</td>\n",
       "      <td>13/21</td>\n",
       "      <td>48.13%</td>\n",
       "      <td>TSC1;ICAM1;MYL12B;JAM3;VWF;NRXN2;ACTN1;PARVA;C...</td>\n",
       "    </tr>\n",
       "    <tr>\n",
       "      <th>25</th>\n",
       "      <td>gsea</td>\n",
       "      <td>Epithelial Mesenchymal Transition</td>\n",
       "      <td>0.318042</td>\n",
       "      <td>1.200783</td>\n",
       "      <td>0.225806</td>\n",
       "      <td>0.269114</td>\n",
       "      <td>0.826</td>\n",
       "      <td>16/46</td>\n",
       "      <td>37.33%</td>\n",
       "      <td>TPM2;PPIB;SFRP4;GPX7;SAT1;TGFBR3;TIMP1;LAMA2;T...</td>\n",
       "    </tr>\n",
       "    <tr>\n",
       "      <th>26</th>\n",
       "      <td>gsea</td>\n",
       "      <td>Estrogen Response Late</td>\n",
       "      <td>0.33707</td>\n",
       "      <td>1.186541</td>\n",
       "      <td>0.224599</td>\n",
       "      <td>0.272166</td>\n",
       "      <td>0.847</td>\n",
       "      <td>15/22</td>\n",
       "      <td>34.48%</td>\n",
       "      <td>TOP2A;NAB2;COX6C;PLK4;ISG20;FOS;CD9;S100A9;SLC...</td>\n",
       "    </tr>\n",
       "    <tr>\n",
       "      <th>27</th>\n",
       "      <td>gsea</td>\n",
       "      <td>Estrogen Response Early</td>\n",
       "      <td>0.350825</td>\n",
       "      <td>1.064819</td>\n",
       "      <td>0.383648</td>\n",
       "      <td>0.393108</td>\n",
       "      <td>0.919</td>\n",
       "      <td>11/20</td>\n",
       "      <td>39.92%</td>\n",
       "      <td>ABAT;MYBL1;ADCY9;FOS;SLC9A3R1;THSD4;SEC14L2;MY...</td>\n",
       "    </tr>\n",
       "    <tr>\n",
       "      <th>28</th>\n",
       "      <td>gsea</td>\n",
       "      <td>UV Response Dn</td>\n",
       "      <td>0.212809</td>\n",
       "      <td>0.611361</td>\n",
       "      <td>0.918871</td>\n",
       "      <td>0.930972</td>\n",
       "      <td>1.0</td>\n",
       "      <td>10/16</td>\n",
       "      <td>49.77%</td>\n",
       "      <td>SRI;TGFBR3;RXRA;COL1A2;KCNMA1;TFPI;MMP16;PTPRM...</td>\n",
       "    </tr>\n",
       "  </tbody>\n",
       "</table>\n",
       "</div>"
      ],
      "text/plain": [
       "    Name                               Term        ES       NES NOM p-val  \\\n",
       "0   gsea          Oxidative Phosphorylation     0.648  2.588407       0.0   \n",
       "1   gsea                   mTORC1 Signaling  0.667568  2.368112       0.0   \n",
       "2   gsea                         Complement   0.54117  2.281324       0.0   \n",
       "3   gsea      TNF-alpha Signaling via NF-kB   0.57459  2.262544       0.0   \n",
       "4   gsea                         Glycolysis  0.606231  2.206923       0.0   \n",
       "5   gsea                        E2F Targets  0.665838  2.116731       0.0   \n",
       "6   gsea              Fatty Acid Metabolism  0.628284   2.10482       0.0   \n",
       "7   gsea                    G2-M Checkpoint  0.712498   2.10338       0.0   \n",
       "8   gsea                    Mitotic Spindle  0.650956  2.090186       0.0   \n",
       "9   gsea                          Apoptosis  0.569458  2.087503       0.0   \n",
       "10  gsea                     Myc Targets V1  0.587927  2.079986       0.0   \n",
       "11  gsea                Allograft Rejection  0.547471  1.983487       0.0   \n",
       "12  gsea                        Coagulation  0.532951    1.8748       0.0   \n",
       "13  gsea                        p53 Pathway  0.475324  1.812775       0.0   \n",
       "14  gsea                       Adipogenesis  0.499824  1.801994  0.013363   \n",
       "15  gsea                  KRAS Signaling Dn -0.535832 -1.801652  0.019802   \n",
       "16  gsea          Unfolded Protein Response  0.585747  1.800411  0.006977   \n",
       "17  gsea                     UV Response Up  0.577542  1.775427  0.006356   \n",
       "18  gsea                            Hypoxia  0.465263  1.765046   0.00818   \n",
       "19  gsea              Inflammatory Response    0.4457  1.720098  0.020089   \n",
       "20  gsea                  KRAS Signaling Up  0.446151  1.580436  0.032967   \n",
       "21  gsea               IL-2/STAT5 Signaling  0.474161  1.562455  0.033932   \n",
       "22  gsea                         Myogenesis -0.336932  -1.37077  0.104082   \n",
       "23  gsea          Interferon Gamma Response -0.408905 -1.363137     0.125   \n",
       "24  gsea                    Apical Junction  0.381459  1.212503  0.235905   \n",
       "25  gsea  Epithelial Mesenchymal Transition  0.318042  1.200783  0.225806   \n",
       "26  gsea             Estrogen Response Late   0.33707  1.186541  0.224599   \n",
       "27  gsea            Estrogen Response Early  0.350825  1.064819  0.383648   \n",
       "28  gsea                     UV Response Dn  0.212809  0.611361  0.918871   \n",
       "\n",
       "   FDR q-val FWER p-val  Tag %  Gene %  \\\n",
       "0        0.0        0.0  49/53  34.34%   \n",
       "1        0.0        0.0  24/29  24.64%   \n",
       "2        0.0        0.0  15/38  25.10%   \n",
       "3        0.0        0.0  15/35  21.83%   \n",
       "4        0.0        0.0  13/24  19.94%   \n",
       "5   0.000601      0.002  17/24  18.59%   \n",
       "6   0.000515      0.002  11/22  19.94%   \n",
       "7    0.00045      0.002  14/19  18.31%   \n",
       "8   0.000601      0.003  17/19  33.67%   \n",
       "9   0.000721      0.004  15/27  26.66%   \n",
       "10  0.000655      0.004  25/34  34.77%   \n",
       "11  0.001802      0.011  11/31  23.28%   \n",
       "12  0.007901      0.051  18/25  37.33%   \n",
       "13  0.012742      0.084  13/29  27.91%   \n",
       "14  0.013094       0.09  25/27  46.43%   \n",
       "15  0.032942   0.116232   4/16   3.52%   \n",
       "16  0.012276       0.09  11/15  34.52%   \n",
       "17  0.014097      0.107   8/16  23.96%   \n",
       "18  0.014015       0.11  11/26  21.54%   \n",
       "19  0.018778      0.149  12/32  25.49%   \n",
       "20  0.045318      0.311   7/23  25.31%   \n",
       "21  0.048137      0.332   3/22   4.69%   \n",
       "22  0.198065   0.599198   3/32   1.28%   \n",
       "23  0.136504   0.612224   4/31   1.46%   \n",
       "24  0.269634       0.82  13/21  48.13%   \n",
       "25  0.269114      0.826  16/46  37.33%   \n",
       "26  0.272166      0.847  15/22  34.48%   \n",
       "27  0.393108      0.919  11/20  39.92%   \n",
       "28  0.930972        1.0  10/16  49.77%   \n",
       "\n",
       "                                           Lead_genes  \n",
       "0   MTX2;ATP5MF;ATP5MG;SDHC;SLC25A3;UQCRH;NDUFB2;C...  \n",
       "1   ELOVL6;PPIA;NAMPT;ENO1;PSMB5;PSMA4;MAP2K3;TXNR...  \n",
       "2   DGKG;CTSH;LYN;CDK5R1;EHD1;ATOX1;CASP9;PCLO;SH2...  \n",
       "3   CD83;RELB;EHD1;ICAM1;NAMPT;SOD2;SLC2A6;MAP2K3;...  \n",
       "4   BIK;COG2;PPIA;AKR1A1;ENO1;SDHC;B4GALT2;LDHA;ST...  \n",
       "5   NCAPD2;TOP2A;WDR90;DIAPH3;MKI67;MTHFD2;CENPE;S...  \n",
       "6   GRHPR;PTPRG;HSPH1;SDHC;HSP90AA1;PRDX6;LDHA;ERP...  \n",
       "7   SMC2;TOP2A;MKI67;NCL;CENPE;HMGN2;STMN1;PLK4;RP...  \n",
       "8   CSNK1D;TUBGCP3;TSC1;KIF3B;TOP2A;CEP131;CENPE;T...  \n",
       "9   LEF1;BIK;SOD2;CASP9;TOP2A;CD69;BID;IL18;ISG20;...  \n",
       "10  NCBP1;GNL3;PPIA;PSMA4;SLC25A3;ILF2;PSMB3;PHB2;...  \n",
       "11  LYN;HLA-DMB;IL2RA;ICAM1;HLA-DRA;CD79A;SIT1;IL1...  \n",
       "12  CTSH;RAC1;CASP9;LAMP2;CTSB;CD9;TIMP1;WDR1;TMPR...  \n",
       "13  TP63;ABAT;SEC61A1;CDK5R1;RAB40C;LDHB;SAT1;FOS;...  \n",
       "14  ELOVL6;SDHC;ARAF;ENPP2;UQCR11;UQCRC1;MDH2;NKIR...  \n",
       "15                        IFI44L;PRKN;ZBTB16;SERPINB2  \n",
       "16  SRPRB;BANF1;ATP6V0D1;MTHFD2;CKS1B;NOLC1;NOP14;...  \n",
       "17         LYN;ICAM1;SOD2;TUBA4A;BID;AP2S1;FOS;HSPA13  \n",
       "18  GRHPR;ENO1;RBPJ;LDHA;TPI1;GAPDH;ISG20;PDK1;MIF...  \n",
       "19  LYN;ICAM1;NAMPT;LTA;SRI;CD69;IL18;STAB1;TIMP1;...  \n",
       "20        LAPTM5;PCSK1N;F13A1;PSMB8;EPHB2;RGS16;SCN1B  \n",
       "21                                 CD83;SLC39A8;IL2RA  \n",
       "22                                   LARGE1;APP;MEF2C  \n",
       "23                            BANK1;IFI44L;DDX58;LY6E  \n",
       "24  TSC1;ICAM1;MYL12B;JAM3;VWF;NRXN2;ACTN1;PARVA;C...  \n",
       "25  TPM2;PPIB;SFRP4;GPX7;SAT1;TGFBR3;TIMP1;LAMA2;T...  \n",
       "26  TOP2A;NAB2;COX6C;PLK4;ISG20;FOS;CD9;S100A9;SLC...  \n",
       "27  ABAT;MYBL1;ADCY9;FOS;SLC9A3R1;THSD4;SEC14L2;MY...  \n",
       "28  SRI;TGFBR3;RXRA;COL1A2;KCNMA1;TFPI;MMP16;PTPRM...  "
      ]
     },
     "execution_count": 566,
     "metadata": {},
     "output_type": "execute_result"
    }
   ],
   "source": [
    "gsea_result_hv.res2d"
   ]
  },
  {
   "cell_type": "code",
   "execution_count": 559,
   "id": "d1c59d4c",
   "metadata": {},
   "outputs": [],
   "source": [
    "deg_list = de[(de[\"pvals_adj\"] < 0.05) & (abs(de[\"logfoldchanges\"]) > 1)]['names'].tolist()"
   ]
  },
  {
   "cell_type": "code",
   "execution_count": 521,
   "id": "76558535",
   "metadata": {},
   "outputs": [
    {
     "data": {
      "text/plain": [
       "6737"
      ]
     },
     "execution_count": 521,
     "metadata": {},
     "output_type": "execute_result"
    }
   ],
   "source": [
    "len(deg_list)"
   ]
  },
  {
   "cell_type": "code",
   "execution_count": 560,
   "id": "c46ddba5",
   "metadata": {},
   "outputs": [
    {
     "data": {
      "text/plain": [
       "Index(['MIR1302-2HG', 'FAM138A', 'OR4F5', 'AL627309.1', 'AL627309.3',\n",
       "       'AL627309.2', 'AL627309.5', 'AL627309.4', 'AP006222.2', 'AL732372.1',\n",
       "       ...\n",
       "       'AC133551.1', 'AC136612.1', 'AC136616.1', 'AC136616.3', 'AC136616.2',\n",
       "       'AC141272.1', 'AC023491.2', 'AC007325.1', 'AC007325.4', 'AC007325.2'],\n",
       "      dtype='object', length=36601)"
      ]
     },
     "execution_count": 560,
     "metadata": {},
     "output_type": "execute_result"
    }
   ],
   "source": [
    "data_gsea.var_names"
   ]
  },
  {
   "cell_type": "code",
   "execution_count": 561,
   "id": "e9537a23",
   "metadata": {},
   "outputs": [],
   "source": [
    "enr = gp.enrichr(\n",
    "    gene_list=deg_list,\n",
    "    gene_sets='MSigDB_Hallmark_2020',  # or 'GO_Biological_Process_2021', 'Reactome_2022', etc.\n",
    "    organism='Human',\n",
    "    background=list(data_gsea.var_names),          \n",
    "    outdir=None,     # optional\n",
    "    cutoff=0.01                   # p-value cutoff\n",
    ")"
   ]
  },
  {
   "cell_type": "code",
   "execution_count": 563,
   "id": "6b2bf98c",
   "metadata": {},
   "outputs": [
    {
     "data": {
      "application/vnd.microsoft.datawrangler.viewer.v0+json": {
       "columns": [
        {
         "name": "index",
         "rawType": "int64",
         "type": "integer"
        },
        {
         "name": "Gene_set",
         "rawType": "object",
         "type": "string"
        },
        {
         "name": "Term",
         "rawType": "object",
         "type": "string"
        },
        {
         "name": "P-value",
         "rawType": "float64",
         "type": "float"
        },
        {
         "name": "Adjusted P-value",
         "rawType": "float64",
         "type": "float"
        },
        {
         "name": "Old P-value",
         "rawType": "int64",
         "type": "integer"
        },
        {
         "name": "Old adjusted P-value",
         "rawType": "int64",
         "type": "integer"
        },
        {
         "name": "Odds Ratio",
         "rawType": "float64",
         "type": "float"
        },
        {
         "name": "Combined Score",
         "rawType": "float64",
         "type": "float"
        },
        {
         "name": "Genes",
         "rawType": "object",
         "type": "string"
        }
       ],
       "conversionMethod": "pd.DataFrame",
       "ref": "7582a566-79d8-43e3-9f34-c8576e779f35",
       "rows": [
        [
         "0",
         "MSigDB_Hallmark_2020",
         "Myc Targets V1",
         "3.79494255631649e-55",
         "1.897471278158245e-53",
         "0",
         "0",
         "10.24020618556701",
         "1283.1849878142561",
         "HNRNPU;HNRNPR;PWP1;PHB2;UBE2L3;PSMD8;PSMD7;TRIM28;SNRPD1;PSMD3;PSMD1;TXNL4A;KPNA2;DDX18;SMARCC1;STARD7;EIF1AX;IFRD1;MRPS18B;UBE2E1;ILF2;CLNS1A;SRSF2;SNRPG;SRSF3;VDAC1;ERH;HPRT1;PPIA;SRSF7;SNRPA;KPNB1;SET;PSMD14;CUL1;NOLC1;GSPT1;PRDX3;LDHA;PRDX4;G3BP1;ORC2;PGK1;CBX3;GOT2;PA2G4;EIF2S2;EIF2S1;SRPK1;LSM2;AIMP2;COPS5;CDK4;HNRNPD;UBA2;RNPS1;HNRNPC;EIF4G2;SLC25A3;HSP90AB1;MCM7;SYNCRIP;XPO1;DHX15;AP3S1;ACP1;CCT3;TOMM70;CCT2;RFC4;NCBP1;VBP1;NCBP2;PABPC4;CAD;CTPS1;RAD23B;GNL3;PSMA6;PSMA4;TFDP1;PSMA1;PSMA2;CANX;TCP1;SNRPA1;MCM5;ETF1;PABPC1;HDAC2;SF3B3;ODC1;SRSF1;DDX21;COX5A;PSMA7;HSPD1;SRM;PPM1G;EXOSC7;PSMB2;PSMB3;TRA2B;FAM120A;POLD2;USP1;EIF4H;SNRPB2;BUB3;HNRNPA1;EIF4E;CCT5;CCT4;NOP56;NPM1;DUT;HNRNPA3;RRM1;PTGES3;CNBP;DEK;HSPE1;RSL1D1;PSMC6;XPOT;APEX1;HNRNPA2B1;SERBP1;NDUFAB1;EIF3J;POLE3;HDGF;SSBP1;TARDBP;ABCE1;EIF3B"
        ],
        [
         "1",
         "MSigDB_Hallmark_2020",
         "G2-M Checkpoint",
         "5.213726588915886e-45",
         "1.3034316472289714e-43",
         "0",
         "0",
         "8.05125516227378",
         "820.9465088475034",
         "JPT1;CCNT1;HNRNPU;ARID4A;MKI67;SMC4;SMC2;PTTG1;SNRPD1;KIF5B;CHEK1;STMN1;CDC27;NUSAP1;KMT5A;KPNA2;HMGN2;TMPO;SMARCC1;SLC38A1;PRPF4B;KNL1;CDC25B;ILF3;DDX39A;EWSR1;DKC1;NCL;SRSF2;NUP98;KIF20B;ATF5;KPNB1;NOTCH2;CUL5;YTHDC1;CUL3;CUL1;NOLC1;PDS5B;HIF1A;GSPT1;ORC5;ORC6;RAD21;G3BP1;ABL1;MAP3K20;BARD1;HSPA8;STIL;DR1;ODF2;CBX1;HMGA1;CDC7;FANCC;NDC80;SQLE;STAG1;UCK2;POLA2;NASP;CDK4;BCL3;HNRNPD;MNAT1;EZH2;TOP2A;NUMA1;KIF11;CTCF;BRCA2;TENT4A;KIF15;LMNB1;SYNCRIP;CHAF1A;XPO1;CHMP1A;MYBL2;LBR;POLE;TNPO2;SS18;RBM14;ATRX;KIF22;SMC1A;RAD23B;SFPQ;DBF4;TFDP1;RBL1;MTF2;CKS2;MCM3;MCM5;TOP1;PRIM2;ODC1;SRSF1;SLC7A1;PURA;WRN;TRA2B;KATNA1;NSD2;DMD;E2F3;BUB3;E2F4;SRSF10;SLC12A2;CASP8AP2;POLQ;RPA2;MAPK14;MEIS2;PML;CUL4A;CENPE;MARCKS;PRC1;TACC3"
        ],
        [
         "2",
         "MSigDB_Hallmark_2020",
         "E2F Targets",
         "8.49826600807022e-39",
         "1.4163776680117035e-37",
         "0",
         "0",
         "6.783378347596889",
         "594.6374341373155",
         "JPT1;NUP107;MRE11;TFRC;CSE1L;CCP110;SMC6;MKI67;SMC3;SMC4;IPO7;PNN;PTTG1;CHEK2;CHEK1;STMN1;NBN;KPNA2;TMPO;LIG1;CDC25B;ILF3;DDX39A;MELK;MSH2;MTHFD2;CCNE1;ZW10;TIMELESS;SRSF2;SNRPB;SLBP;NUP205;DNMT1;PRKDC;AK2;NOLC1;PDS5B;GSPT1;PRDX4;ORC6;RAD21;ORC2;BARD1;CBX5;HMGA1;NUP153;PA2G4;PAICS;EIF2S1;PAN2;POLA2;STAG1;DIAPH3;NASP;CDK4;ANP32E;HNRNPD;CNOT9;EZH2;TOP2A;MCM7;BRCA1;CTCF;BRCA2;LMNB1;SYNCRIP;XPO1;ING3;MYBL2;POLE;LBR;TCF19;HELLS;RFC3;RFC1;EED;RFC2;TUBB;CTPS1;KIF22;SMC1A;CIT;MMS22L;RAD51C;CKS2;MCM3;LUC7L3;MCM5;PRIM2;SRSF1;PPM1D;TBRG4;POLD3;POLD1;TRA2B;EXOSC8;PPP1R8;POLD2;USP1;PMS2;RBBP7;NOP56;DUT;CDKN2A;ATAD2;RPA1;DONSON;RPA2;DEK;MLH1;CENPE;NUDT21;RAD50;WEE1;RPA3;TACC3;NCAPD2;RAD1"
        ],
        [
         "3",
         "MSigDB_Hallmark_2020",
         "Oxidative Phosphorylation",
         "2.3025706183408108e-37",
         "2.8782132729260136e-36",
         "0",
         "0",
         "6.478655770833487",
         "546.549911032946",
         "ISCA1;MTRR;ACAA2;COX6A1;PHB2;MTRF1;MPC1;PMPCA;ATP6V1E1;ACAA1;PDHX;ATP6V1G1;ATP6V0E1;SDHC;SDHD;SDHA;ATP1B1;SDHB;AFG3L2;COX7A2L;POR;FDX1;UQCRC1;VDAC2;VDAC1;UQCRC2;ABCB7;COX15;COX17;ATP5MC2;HTRA2;UQCRH;ACAT1;PRDX3;LDHB;LDHA;RHOT2;RHOT1;ATP6V1H;NDUFV2;NDUFV1;ATP6V1D;ATP5MG;ATP6V1C1;ATP5MF;COX10;DECR1;HSPA9;PDHA1;GOT2;CS;GLUD1;OGDH;ACO2;GPI;SLC25A3;ALAS1;MRPS11;COX4I1;ETFA;TCIRG1;COX7C;AIFM1;OPA1;NNT;IDH3B;TIMM17A;ACADM;DLAT;IDH3A;COX8A;TOMM70;ATP6V0B;ATP6AP1;GPX4;MRPS22;NDUFC2;HADHB;SUPV3L1;HADHA;NDUFS6;NDUFS4;NDUFS2;NDUFS1;SLC25A5;SLC25A12;DLD;ATP6V0C;NDUFB8;NDUFB5;TIMM9;NDUFB4;NDUFB2;DLST;NDUFB1;UQCR11;PDHB;COX5A;ATP5F1A;ATP5F1B;MFN2;TIMM8B;ATP5PF;ATP5PD;MDH1;NDUFA5;MTX2;MDH2;NDUFA4;NDUFA1;IMMT;ATP5F1C;COX6C;LRPPRC;SUCLA2;NDUFAB1;ATP5PO;BAX"
        ],
        [
         "4",
         "MSigDB_Hallmark_2020",
         "mTORC1 Signaling",
         "3.76140501150579e-37",
         "3.76140501150579e-36",
         "0",
         "0",
         "6.502292768959435",
         "545.3528597143358",
         "ERO1A;TES;TFRC;PITPNB;UBE2D3;ARPC5L;SLA;ENO1;FADS2;TBK1;NAMPT;FADS1;PSPH;PDK1;MAP2K3;IFRD1;ACSL3;TUBA4A;SYTL2;ACLY;DDX39A;MTHFD2;PPA1;PSME3;HMBS;HPRT1;SQSTM1;PPIA;SKAP2;IDI1;NUP205;PSMD12;PSMD14;SHMT2;PSMD13;INSIG1;RPN1;GMPS;PIK3R3;SLC1A4;ADIPOR2;ACACA;HSP90B1;SLC9A3R1;STIP1;LDHA;RDH11;PRDX1;PGK1;SSR1;LTA4H;ATP6V1D;HSPA9;XBP1;HSPA5;HSPA4;SRD5A1;EDEM1;M6PR;EIF2S2;DHFR;CCT6A;SQLE;GCLC;COPS5;P4HA1;NMT1;CALR;GPI;GSK3B;BTG2;GBE1;ATP2A2;SERP1;CTSC;PGM1;ACTR2;TPI1;HMGCS1;ELOVL6;CACYBP;UCHL5;PSMA3;PSMA4;CANX;ETF1;EEF1E1;BCAT1;GAPDH;RAB1A;TOMM40;NUFIP1;USO1;HMGCR;HSPD1;GGA2;PSMB5;SC5D;YKT6;SEC11A;CYB5B;EGLN3;NFYC;TXNRD1;CYP51A1;RPA1;IMMT;PDAP1;GTF2H1;HSPE1;RIT1;UFM1;PFKL;PSMC6;SCD;PSMC2;TCEA1"
        ],
        [
         "5",
         "MSigDB_Hallmark_2020",
         "Mitotic Spindle",
         "1.8184237072909097e-34",
         "1.5153530894090914e-33",
         "0",
         "0",
         "6.033875526638579",
         "468.7713258458544",
         "SMC3;SMC4;UXT;PREX1;PPP4R2;KIF5B;CDC27;NUSAP1;CEP250;KNTC1;KIFAP3;CDK5RAP2;RALBP1;CEP131;CSNK1D;TSC1;ACTN4;TUBA4A;CD2AP;CLIP1;KIF20B;EZR;ARL8A;NOTCH2;PIF1;EPB41;TUBGCP2;KLC1;RHOT2;BCL2L11;KIF3B;EPB41L2;ABL1;STK38L;CEP192;MARK4;ECT2;MYH10;TBCD;ARHGAP27;HOOK3;NDC80;CCDC88A;DLG1;SASS6;NF1;TUBGCP3;MAP3K11;TOP2A;CEP57;NUMA1;KIF11;WASL;BRCA2;ARHGAP5;PKD2;KIF15;ARHGAP4;LMNB1;CNTRL;TLK1;KIF1B;SPTAN1;NCK1;ARHGEF11;ARHGEF12;PLEKHG2;RFC1;KIF22;SMC1A;CKAP5;LATS1;ALS2;RASA1;RASA2;ARHGEF3;ATG4B;ARHGEF2;MAPRE1;ARHGEF7;RAPGEF5;DOCK2;RAPGEF6;RABGAP1;STAU1;ROCK1;TUBD1;NEDD9;HDAC6;CDC42;FGD4;FGD6;KATNA1;RICTOR;PCNT;PDLIM5;WASF2;ARFGEF1;FARP1;DYNC1H1;GSN;PCGF5;RANBP9;MYO9B;SEPTIN9;LRPPRC;CENPE;MARCKS;NIN;APC;PRC1;ALMS1;ABI1;RAB3GAP1"
        ],
        [
         "6",
         "MSigDB_Hallmark_2020",
         "Protein Secretion",
         "3.517997663846921e-30",
         "2.5128554741763722e-29",
         "0",
         "0",
         "11.441893041172644",
         "775.9853050487486",
         "ARF1;CLTC;SNAP23;CLTA;RAB22A;RPS6KA3;GOLGA4;SCRN1;AP1G1;LAMP2;KIF1B;AP3S1;DNM1L;AP2M1;CTSC;RAB2A;TPD52;STX7;COG2;ADAM10;AP3B1;SCAMP1;SCAMP3;VAMP7;RER1;TMX1;ZW10;ERGIC3;VAMP4;SEC22B;NAPA;COPB2;STX12;TSG101;SGMS1;STX16;COPB1;VPS4B;GOSR2;USO1;ATP1A1;CLCN3;NAPG;CLN5;LMAN1;ATP6V1H;MAPK1;YKT6;SEC31A;ARFGEF1;ARFGEF2;MON2;GBF1;M6PR;AP2B1;STAM;IGF2R;ARCN1;SOD1;RAB14;GNAS;YIPF6;ANP32E;VPS45;SEC24D;PAM;RAB5A;COPE;BET1"
        ],
        [
         "7",
         "MSigDB_Hallmark_2020",
         "DNA Repair",
         "1.2795452774649313e-25",
         "7.997157984155821e-25",
         "0",
         "0",
         "5.861499114696046",
         "335.97012465330255",
         "ARL6IP1;ELL;MPG;GTF2B;POLB;SEC61A1;GUK1;SNAPC4;PDE4B;ELOA;NELFB;POLL;NELFCD;POLH;RFC5;RFC3;RFC4;LIG1;GPX4;NCBP2;RFC2;NME3;EDF1;VPS37B;NT5C3A;DDB1;RRM2B;DAD1;NFX1;POLR1C;POLR1D;HCLS1;HPRT1;SRSF6;UMPS;EIF1B;POM121;GTF2A2;RALA;TSG101;GTF3C5;RNMT;CSTF3;USP11;DCTN4;AK1;COX17;AK3;XPC;POLD3;SDCBP;DGUOK;POLD4;POLR2A;TAF1C;POLD1;POLR2E;POLR2H;RAE1;SF3A3;BCAP31;DUT;TAF12;POLR3GL;UPF3B;RPA2;GTF2H1;SUPT5H;SMAD5;POLA1;NUDT21;POLA2;ERCC3;AGO4;POLR3C;ERCC4;ERCC1;RPA3;ERCC2;ERCC8;ERCC5;TAF6;ITPA;ADA;GSDME"
        ],
        [
         "8",
         "MSigDB_Hallmark_2020",
         "Unfolded Protein Response",
         "8.47860475615191e-24",
         "4.7103359756399496e-23",
         "0",
         "0",
         "7.244169096209912",
         "384.84283455871554",
         "EIF4A2;ERO1A;FKBP14;EIF4A3;HERPUD1;EDC4;TATDN2;SERP1;KHSRP;KIF5B;MTREX;BANF1;TSPYL2;TTC37;IMP3;SLC30A5;DDX10;WIPI1;PDIA6;PDIA5;ARFGAP1;ERN1;DNAJC3;MTHFD2;DKC1;ATP6V0D1;ATF6;DCP2;EXOC2;ATF4;GOSR2;PARN;CXXC1;NOLC1;SLC1A4;SDAD1;HSP90B1;EXOSC10;SSR1;EIF4E;SEC11A;EXOSC1;SEC31A;PAIP1;HSPA9;NOP56;ZBTB17;XBP1;NOP14;NPM1;HSPA5;FUS;EDEM1;EIF2S1;CNOT4;SPCS3;CNOT6;SPCS1;XPOT;DNAJA4;CNOT2;SRPRA;SRPRB;HYOU1;CALR;ALDH18A1;DCP1A;EIF4G1"
        ],
        [
         "9",
         "MSigDB_Hallmark_2020",
         "PI3K/AKT/mTOR  Signaling",
         "3.042116812827854e-17",
         "1.521058406413927e-16",
         "0",
         "0",
         "5.512327928640198",
         "209.64150973168458",
         "ATF1;GSK3B;ARF1;YWHAB;UBE2D3;CLTC;PTEN;PRKAG1;SLA;ECSIT;RPTOR;RPS6KA3;TBK1;PPP2R1B;RPS6KA1;AKT1;RAC1;MAP3K7;AP2M1;PDK1;NCK1;MAP2K3;ACTR2;TSC2;TRAF2;LCK;CSNK2B;RAF1;SQSTM1;CAB39;MAPKAP1;PIK3R3;ITPR2;NOD1;ACACA;HSP90B1;MAPK9;MAPK8;PRKAR2A;MKNK1;THEM4;MAPK1;RIPK1;EIF4E;MAP2K6;PAK4;SMAD2;PTPN11;PPP1CA;MAPK10;RIT1;CDK4;ARPC3;CAMK4;UBE2N;PIN1;GRB2;CALR"
        ],
        [
         "10",
         "MSigDB_Hallmark_2020",
         "Pperoxisome",
         "4.931643668285707e-16",
         "2.24165621285714e-15",
         "0",
         "0",
         "5.2096315158777715",
         "183.61705301624428",
         "TOP2A;SLC23A2;SLC35B2;ECI2;IDE;SCP2;LONP2;MLYCD;ACAA1;FADS1;GSTK1;ACOT8;SMARCC1;ACSL1;ABCC5;ACSL5;ACSL4;PEX2;CTPS1;GNPAT;SLC25A17;MSH2;ACOX1;SLC25A19;EHHADH;PEX6;CAT;ITGB1BP1;PABPC1;ALDH9A1;IDI1;ABCB1;ABCB4;MVP;VPS4B;HSD17B4;BCL10;HSD17B11;CLN6;HMGCL;RDH11;PRDX1;FIS1;FDPS;CADM1;CNBP;SIAH1;SOD2;PEX13;ESR2;PEX14;DHRS3;SOD1;CDK7;ERCC3;ERCC1"
        ],
        [
         "11",
         "MSigDB_Hallmark_2020",
         "Adipogenesis",
         "6.06588999621158e-14",
         "2.527454165088158e-13",
         "0",
         "0",
         "3.1345594756121073",
         "95.39564723220955",
         "MTCH2;RNF11;ACAA2;GBE1;ARAF;COX6A1;GPHN;SCP2;AIFM1;DBT;ACADM;DLAT;PGM1;YWHAG;HIBCH;IDH3A;COX8A;MIGA2;GPX4;CHUK;APLP2;MCCC1;TALDO1;ELMOD3;ELOVL6;ATP1B3;SDHC;SDHB;ACLY;POR;PPM1B;ACOX1;GPD2;CAT;UQCRC1;CMPK1;TKT;DLD;MGLL;RTN3;PPP1R15B;CD151;PFKFB3;ATL2;AK2;BAZ2A;ABCB8;UQCR11;ADIPOR2;AGPAT3;PRDX3;BCL2L13;GPAT4;DHRS7B;UCP2;UBQLN1;DRAM2;RREB1;MAP4K3;DECR1;ESRRA;PTCD3;NDUFA5;RIOK3;MDH2;SQOR;RMDN3;IMMT;DNAJC15;PEX14;COQ5;SOD1;CS;PFKL;BCL6;LPCAT3;NDUFAB1;NMT1;ATP5PO;PDCD4;ESYT1;ACO2"
        ],
        [
         "12",
         "MSigDB_Hallmark_2020",
         "Glycolysis",
         "1.7606232075780977e-12",
         "6.771627721454222e-12",
         "0",
         "0",
         "2.9427589057568015",
         "79.64680938551973",
         "ERO1A;B4GALT1;ZNF292;XYLT2;HDLBP;IRS2;ENO1;HS2ST1;GYS1;FAM162A;STMN1;PDK3;QSOX1;PGLS;ME2;GUSB;TPI1;CHPF2;GLCE;PGAM1;COG2;AKR1A1;TALDO1;SDHC;MIF;PHKA2;MED24;PKM;HAX1;KIF2A;RBCK1;DLD;PPIA;CD44;B4GALT4;GNE;SLC25A13;ALDH9A1;COPB2;PAXIP1;RPE;AK3;TXN;ARPP19;CLN6;PPP2CB;LDHA;FUT8;UGP2;CHST12;MXI1;PGK1;BPNT1;NDUFV3;ANKZF1;LHPP;EGLN3;SLC35A3;HOMER1;MDH1;HSPA5;MDH2;BIK;B3GAT3;AGL;PMM2;GFPT1;GOT2;ECD;SOD1;EXT1;ISG20;EXT2;GCLC;P4HA1;NASP;PAM;GALK2;PFKP"
        ],
        [
         "13",
         "MSigDB_Hallmark_2020",
         "Interferon Gamma Response",
         "3.846832526026775e-12",
         "1.3738687592952768e-11",
         "0",
         "0",
         "2.9050721370604147",
         "76.35625086672106",
         "OGFR;CD86;CD40;CIITA;SPPL2A;TNFAIP3;ADAR;IFI44L;ICAM1;CASP3;NAMPT;PIM1;PDE4B;TRIM26;JAK2;CMTR1;IFNAR2;IL15RA;IL4R;IL15;RIPK2;TAP1;TRAFD1;NUP93;PLSCR1;PSMA3;LATS2;MTHFD2;BANK1;PSMA2;IRF4;PELI1;IRF8;IRF5;RBCK1;RAPGEF6;IRF9;RNF31;C1S;MVP;NOD1;SRI;HIF1A;PSMB10;HLA-DMA;APOL6;PSMB2;ST8SIA4;SLAMF7;ST3GAL5;RIPK1;HLA-DQA1;GBP4;PTPN1;PNPT1;GCH1;IL10RA;MX2;STAT3;TDRD7;TOR1B;SOD2;PARP12;PSMB8;NFKB1;PML;PSMB9;ISG20;NFKBIA;ZNFX1;IL7;FAS;CD69;XAF1;GPR18;HLA-DRB1;PTPN2;PFKP"
        ],
        [
         "14",
         "MSigDB_Hallmark_2020",
         "Fatty Acid Metabolism",
         "1.7984632894858673e-11",
         "5.994877631619558e-11",
         "0",
         "0",
         "3.1544971664460255",
         "78.04700252893964",
         "ACAA2;ECI2;PTPRG;ALAD;MCEE;AUH;IDH3B;MLYCD;NBN;KMT5A;ACADM;ACAA1;HIBCH;ACOT8;HSP90AA1;HSDL2;HMGCS1;ACSL1;BCKDHB;ACSL5;SDHC;ACSL4;SDHD;MIF;SDHA;ALDH3A2;HADHB;ACOX1;GPD2;EHHADH;SMS;ERP29;SUCLG2;PPARA;DLD;MGLL;ALDH9A1;GCDH;IDI1;ODC1;HSD17B4;DLST;PDHB;HSD17B11;HSD17B7;ADIPOR2;PTS;HMGCL;LDHA;HSPH1;RDH11;D2HGDH;DECR1;PDHA1;MDH1;MDH2;UROS;CCDC58;PRDX6;GRHPR;SUCLA2;OSTC;APEX1;ACO2;METAP1"
        ],
        [
         "15",
         "MSigDB_Hallmark_2020",
         "heme Metabolism",
         "2.872444736092257e-11",
         "8.976389800288303e-11",
         "0",
         "0",
         "2.815637295927835",
         "68.3447314334534",
         "ISCA1;BTG2;NARF;TFRC;NR3C1;BACH1;ALAD;PSMD9;NNT;BSG;CDC27;LAMP2;PGLS;BTRC;RBM5;FBXO9;CTSB;MAP2K3;BNIP3L;ARHGEF12;SLC11A2;RAD23A;VEZF1;GAPVD1;TENT5C;RNF123;KAT2B;DAAM1;TFDP2;HMBS;CAT;TOP1;OPTN;KDM7A;SIDT2;USP15;GYPC;SLC66A2;EPB41;DCUN1D1;GMPS;HTRA2;CLCN3;SDCBP;SEC14L1;UCP2;MXI1;DCAF10;DCAF11;MARK3;CDR2;ATP6V0A1;RBM38;RIOK3;EIF2AK1;UROS;NEK7;XPO7;FBXO34;ELL2;UBAC1;RCL1;SLC25A38;GCLC;XK;SYNJ1;MKRN1;RANBP10;TCEA1;HDGF;YPEL5;LRP10;LPIN2;NFE2L1;PICALM"
        ],
        [
         "16",
         "MSigDB_Hallmark_2020",
         "Androgen Response",
         "3.897805596587728e-11",
         "1.1464134107610966e-10",
         "0",
         "0",
         "4.030058684770727",
         "96.59253640955329",
         "SRP19;IDI1;TNFAIP8;B4GALT1;INSIG1;ABHD2;NGLY1;STK39;GNAI3;DBI;HMGCR;IQGAP2;MYL12A;CDC14B;UBE2J1;CAMKK2;ELK4;RPS6KA3;LMAN1;ANKH;ZMIZ1;PGM3;AKT1;ITGAV;RRP12;PDLIM5;SLC38A2;FADS1;TPD52;ABCC4;RAB4A;HMGCS1;TMEM50A;ACSL3;PA2G4;ELL2;PIAS1;SPCS3;CDK6;APPBP2;VAPA;SCD;SMS;GPD1L;SEC24D;PLPP1;FKBP5"
        ],
        [
         "17",
         "MSigDB_Hallmark_2020",
         "Apoptosis",
         "1.0767792688663877e-10",
         "2.991053524628855e-10",
         "0",
         "0",
         "3.0071291004956904",
         "69.01925574242115",
         "TOP2A;BTG2;HSPB1;BRCA1;CASP9;CCND2;CASP3;CASP2;DNM1L;SPTAN1;BNIP3L;DFFA;GPX4;TAP1;CDC25B;DNAJC3;FEZ1;MADD;DPYD;VDAC2;ETF1;SQSTM1;CD44;DAP3;BIRC3;ROCK1;SATB1;SLC20A1;LEF1;XIAP;NEDD9;BCL10;PSEN1;RELA;RHOT2;PAK1;BCL2L11;ANKH;PMAIP1;SC5D;BMF;BID;MCL1;BCAP31;CREBBP;GSN;GCH1;BIK;MGMT;CFLAR;SOD2;IGF2R;PTK2;SOD1;ISG20;DNAJA1;DAP;WEE1;PDCD4;BAX;FAS;CTNNB1;CD69;BCL2L1"
        ],
        [
         "18",
         "MSigDB_Hallmark_2020",
         "TGF-beta Signaling",
         "2.9852370353050976e-08",
         "7.855886935013415e-08",
         "0",
         "0",
         "4.79233982008445",
         "83.03687968936329",
         "BCAR3;BMPR2;SLC20A1;HDAC1;UBE2D3;XIAP;ARID4B;FNTA;MAP3K7;SKIL;TGIF1;SMURF2;SMURF1;IFNGR2;TGFBR1;RHOA;HIPK2;PPP1CA;NCOR2;FKBP1A;CDK9;PPM1A;RAB31;APC;CTNNB1;TRIM33;ENG;BMPR1A"
        ],
        [
         "19",
         "MSigDB_Hallmark_2020",
         "Reactive Oxygen Species Pathway",
         "4.998813288049358e-08",
         "1.2497033220123396e-07",
         "0",
         "0",
         "5.0294739299005435",
         "84.55290139939322",
         "NDUFB4;TXN;PTPA;SBNO2;PRDX4;PRDX1;MBP;HMOX2;ABCC1;GPX4;TXNRD2;TXNRD1;OXSR1;SOD2;PRDX6;SCAF4;ATOX1;SOD1;MSRA;GCLC;SELENOS;STK25;CAT;ERCC2;NDUFS2;PFKP"
        ],
        [
         "20",
         "MSigDB_Hallmark_2020",
         "Allograft Rejection",
         "9.899210325949954e-08",
         "2.3569548395118936e-07",
         "0",
         "0",
         "2.3167536070064028",
         "37.36512519262283",
         "CD86;CD40;SPI1;CD80;LY75;BRCA1;ETS1;CTSS;ICAM1;IKBKB;MRPL3;CCND2;SIT1;AKT1;JAK2;HLA-DOA;MAP3K7;HLA-DOB;NCK1;MAP4K1;IFNAR2;TPD52;SRGN;CD96;IL4R;IL15;RIPK2;IFNGR2;TAP2;TAP1;IL16;TRAF2;ZAP70;LCK;IRF4;ELF4;HCLS1;IRF8;CD47;BCAT1;WAS;MTIF2;BCL10;HIF1A;PSMB10;CD79A;HLA-DMA;HLA-DMB;ST8SIA4;CSK;HLA-DQA1;LYN;NPM1;CDKN2A;GALNT1;GLMN;IL7;IL2RA;ABI1;BCL3;EIF3J;UBE2N;FAS;HLA-DRA;ABCE1;FCGR2B;EIF3A"
        ],
        [
         "21",
         "MSigDB_Hallmark_2020",
         "UV Response Dn",
         "1.4305140242663231e-07",
         "3.2511682369689165e-07",
         "0",
         "0",
         "2.595808742836741",
         "40.91010624377189",
         "PHF3;PTEN;PRDM2;LAMC1;NR3C1;TENT4A;IGF1R;SYNE1;ZMIZ1;PIAS3;ABCC1;WDR37;ANXA2;MIOS;SFMBT1;BCKDHB;ATRX;DYRK1A;PRKCA;RUNX1;TGFBR2;ATRN;ARHGEF9;DDAH1;SCN8A;RASA2;MGLL;NOTCH2;YTHDC1;INSIG1;MRPS31;PIK3R3;SRI;ATP2C1;KALRN;SLC7A1;SCAF8;MTA1;GRK5;SPOP;TOGARAM1;PDLIM5;MAP2K5;DMAC2L;MGMT;NEK7;MAPK14;NFKB1;PEX14;DLG1;AGGF1;CDK13;BMPR1A"
        ],
        [
         "22",
         "MSigDB_Hallmark_2020",
         "Myc Targets V2",
         "2.1342759014519878e-07",
         "4.6397302205477995e-07",
         "0",
         "0",
         "4.152804295942721",
         "63.78694200139023",
         "NOP2;NOLC1;RABEPK;WDR43;SRM;TBRG4;HSPD1;TCOF1;PES1;UTP20;RRP12;NOP56;DDX18;DUSP2;NPM1;CBX3;PRMT3;TFB2M;PA2G4;PPRC1;HSPE1;GNL3;SUPV3L1;RCL1;AIMP2;CDK4;MCM5;FARSA"
        ],
        [
         "23",
         "MSigDB_Hallmark_2020",
         "p53 Pathway",
         "2.3125746569366015e-07",
         "4.81786386861792e-07",
         "0",
         "0",
         "2.2642041127189643",
         "34.59643696480302",
         "CYFIP2;RB1;CCNK;BTG2;CD82;DGKA;CCP110;ABAT;TM7SF3;SEC61A1;HINT1;CCND2;GM2A;FAM162A;KIF13B;IER5;TP63;POLH;TSPYL2;APAF1;FBXW7;ABCC5;DNTTIP2;TAP1;TRAFD1;WRAP73;RAD51C;TRAF4;ANKRA2;POM121;NOTCH1;HDAC3;SLC35D1;PVT1;EI24;AK1;NOL8;XPC;SLC3A2;PPM1D;RCHY1;ZFP36L1;LDHB;IRAK1;RAB40C;ZMAT3;RALGDS;IP6K2;HEXIM1;PLK3;ST14;CDKN2A;FUCA1;ELP1;WWP1;BLCAP;PTPRE;SP1;MDM2;FAS;BAX;ERCC5;ADA;CDK5R1;MXD4;RAD9A"
        ],
        [
         "24",
         "MSigDB_Hallmark_2020",
         "UV Response Up",
         "4.3026633236526785e-07",
         "8.605326647305357e-07",
         "0",
         "0",
         "2.4269659255876164",
         "35.57655722861565",
         "BTG2;ALAS1;TFRC;HNRNPU;ICAM1;GLS;PPAT;CASP3;BSG;ACAA1;PRKACA;STARD3;RFC4;PRKCD;TAP1;TUBA4A;POLG2;CCNE1;PRPF3;TMBIM6;IL6ST;SQSTM1;NUP58;ABCB1;RPN1;TGFBRAP1;DDX21;WIZ;RXRB;STIP1;NXF1;PPP1R2;BCL2L11;MGAT1;POLR2H;E2F5;BID;YKT6;ATP6V1C1;MARK2;LYN;CYB5B;CHKA;GCH1;RAB27A;CDC5L;PDAP1;SOD2;NFKBIA;PTPRD;DNAJA1;EIF2S3;EIF5;STK25;POLE3"
        ],
        [
         "25",
         "MSigDB_Hallmark_2020",
         "IL-2/STAT5 Signaling",
         "9.670535578039423e-07",
         "1.8597183803921967e-06",
         "0",
         "0",
         "2.1627183566194823",
         "29.951512381529103",
         "CD86;PHTF2;RNH1;CD83;BMPR2;CTSZ;AHR;ITGAE;LCLAT1;IGF1R;CCND2;CASP3;NFKBIZ;PIM1;CTLA4;MAP3K8;SLC39A8;ITGAV;IL4R;GPX4;RHOH;TRAF1;FAM126B;TNFRSF1B;TWSG1;PLSCR1;CCNE1;IRF4;PTRH2;MAPKAPK2;IRF8;UMPS;PLPP1;CD44;PLEC;ABCB1;AHNAK;ODC1;NOP2;AGER;CD79B;SYNGR2;PLAGL1;LRIG1;SNX9;DCPS;GBP4;XBP1;RABGAP1L;POU2F1;IL10RA;PTCH1;HUWE1;DHRS3;IGF2R;HIPK2;BATF;UCK2;P4HA1;SELL;SNX14;IL2RA;BCL2;IL18R1;BCL2L1"
        ],
        [
         "26",
         "MSigDB_Hallmark_2020",
         "Complement",
         "2.2852251446114907e-05",
         "4.231898415947205e-05",
         "0",
         "0",
         "1.95511766272786",
         "20.893288484854605",
         "DGKG;PRDM4;DOCK9;TNFAIP3;CBLB;CTSS;DOCK10;CASP9;AKAP10;CASP3;LAMP2;PIM1;CTSH;JAK2;CTSC;CTSB;USP8;CR2;CR1;PRKCD;ANXA5;SIRT6;RBSN;PLSCR1;KIF2A;PIK3CA;LCK;GPD2;FDX1;ADAM9;CD46;RAF1;L3MBTL4;DGKH;USP14;USP15;USP16;C1S;WAS;GNAI3;PRCP;PSEN1;RNF4;GNAI2;PPP2CB;VCPIP1;PPP4C;RCE1;LTA4H;SH2B3;CD55;LYN;HSPA5;KCNIP2;ATOX1;PSMB9;EHD1;XPNPEP1;GNB2;GRB2;CDK5R1"
        ],
        [
         "27",
         "MSigDB_Hallmark_2020",
         "TNF-alpha Signaling via NF-kB",
         "0.00016691139278973883",
         "0.0002877782634305842",
         "0",
         "0",
         "1.81868887885298",
         "15.819042198611482",
         "BTG2;TNFAIP8;CD83;B4GALT1;CD80;TNFAIP3;IRS2;LITAF;SLC2A6;ICAM1;ZFP36;ZC3H12A;NAMPT;SLC16A6;PDE4B;MAP3K8;CCNL1;IER5;MAP2K3;KDM6B;TGIF1;IL15RA;DUSP2;RIPK2;IFNGR2;TAP1;TRAF1;TRIB1;IL6ST;SQSTM1;CD44;BIRC2;BIRC3;PTGER4;NFAT5;PFKFB3;BCL2A1;RELA;RELB;PDLIM5;MCL1;EGR2;GCH1;TIPARP;CFLAR;SOD2;NFKB1;NFKB2;EHD1;NFKBIA;PTPRE;MARCKS;BCL6;TNIP1;BCL3;CD69;NFKBIE;NFE2L2"
        ],
        [
         "28",
         "MSigDB_Hallmark_2020",
         "Hypoxia",
         "0.00016691139278973883",
         "0.0002877782634305842",
         "0",
         "0",
         "1.81868887885298",
         "15.819042198611482",
         "ERO1A;GPI;TES;ZNF292;GBE1;HEXA;HDLBP;TNFAIP3;IRS2;ENO1;RBPJ;NR3C1;ETS1;HK1;GYS1;ZFP36;FAM162A;PIM1;PDK3;IDS;LARGE1;PGM1;PDK1;TPD52;BNIP3L;WSB1;TPI1;ANXA2;PRKCA;MIF;JMJD6;TPST2;GAPDH;KDM3A;PFKFB3;NEDD4L;PLAC8;LDHA;UGP2;PHKG1;MXI1;GCNT2;PGK1;VHL;ANKZF1;HSPA5;TIPARP;SIAH2;KLHL24;EXT1;ISG20;GRHPR;PFKL;P4HA1;XPNPEP1;BCL2;PAM;PFKP"
        ],
        [
         "29",
         "MSigDB_Hallmark_2020",
         "Bile Acid Metabolism",
         "0.0007116147250644978",
         "0.001186024541774163",
         "0",
         "0",
         "2.0213935683548945",
         "14.6510078442494",
         "BCAR3;SLC35B2;SLC23A2;IDI1;HSD17B4;CROT;HSD17B11;PEX26;NR3C2;FADS2;SCP2;LONP2;HACL1;MLYCD;FADS1;GSTK1;ABCA5;ACSL1;ABCA6;PNPLA8;ACSL5;PEX1;PEX13;SOD1;GNPAT;PEX7;NPC1;LCK;PEX6;NEDD4;CAT;EFHC1;SLC29A1;OPTN;ALDH9A1"
        ],
        [
         "30",
         "MSigDB_Hallmark_2020",
         "Interferon Alpha Response",
         "0.000759513572797122",
         "0.0012250218916082611",
         "0",
         "0",
         "2.120496366787965",
         "15.23116993405121",
         "OGFR;RNF31;UBA7;SAMD9;C1S;ADAR;IFI44L;TRIM26;CMTR1;GBP4;IL4R;PNPT1;IL15;RIPK2;TAP1;HLA-C;TRAFD1;TDRD7;PARP12;PSMB8;PSMB9;ISG20;PLSCR1;PSMA3;ELF1;SELL;IL7;LPAR6;NCOA7;CD47;IRF9"
        ],
        [
         "31",
         "MSigDB_Hallmark_2020",
         "KRAS Signaling Up",
         "0.000873258022457971",
         "0.0013644656600905797",
         "0",
         "0",
         "1.6997872048325096",
         "11.972076352779775",
         "ERO1A;TNFAIP3;IKZF1;CROT;ETS1;CTSS;RBM4;CCND2;AKT2;CD37;MAP4K1;ST6GAL1;CDADC1;MMD;ATG10;TRAF1;TNFRSF1B;PTBP2;WDR33;LAT2;ZNF639;IRF8;ADAM8;LCP1;TRIB1;DOCK2;ZNF277;SDCCAG8;ENG;BIRC3;ABCB1;GYPC;SATB1;USP12;TOR1AIP2;LY96;CBL;PCSK1N;ANKH;KCNN4;EVI5;CBR4;CBX8;RABGAP1L;PTCD2;FUCA1;IL10RA;LAPTM5;AMMECR1;PSMB8;NIN;DNMBP;CCSER2;STRN;AVL9"
        ],
        [
         "32",
         "MSigDB_Hallmark_2020",
         "Wnt-beta Catenin Signaling",
         "0.002156330996811327",
         "0.003267168176986859",
         "0",
         "0",
         "2.733586841984698",
         "16.782438489621313",
         "HDAC2;NOTCH1;WNT5B;MAML1;PTCH1;LEF1;CUL1;AXIN1;CSNK1E;RBPJ;NCOR2;NCSTN;CCND2;NUMB;CTNNB1;PPARD"
        ],
        [
         "33",
         "MSigDB_Hallmark_2020",
         "IL-6/JAK/STAT3 Signaling",
         "0.0030459108101762705",
         "0.004479280603200398",
         "0",
         "0",
         "1.9999328859060403",
         "11.587521755747776",
         "CBL;PIM1;MAP3K8;IL15RA;PTPN1;IL4R;ITGA4;IL10RB;IFNGR2;STAT3;PTPN11;TYK2;TNFRSF1B;IL17RB;IL17RA;HAX1;IL7;IL2RA;FAS;GRB2;IL6ST;STAM2;IRF9;CD44;PTPN2;IL18R1;IFNAR1"
        ],
        [
         "34",
         "MSigDB_Hallmark_2020",
         "Cholesterol Homeostasis",
         "0.00582666673304674",
         "0.0083238096186382",
         "0",
         "0",
         "2.0037000341946287",
         "10.309658195691076",
         "IDI1;FDPS;HMGCS1;CHKA;ANXA5;CYP51A1;HMGCR;ANTXR2;HSD17B7;LSS;FADS2;SQLE;PLSCR1;ATXN2;SCD;PDK3;SC5D;STX5;CTNNB1;MVD;GUSB;ATF5;FDFT1"
        ],
        [
         "35",
         "MSigDB_Hallmark_2020",
         "Estrogen Response Early",
         "0.007701683546348968",
         "0.010696782703262455",
         "0",
         "0",
         "1.5221066653004764",
         "7.407052523847187",
         "FCMR;B4GALT1;MAST4;WWC1;ABAT;NADSYN1;AFF1;IGF1R;FAM102A;RPS6KA2;RRP12;JAK2;MYBL1;MREG;TGIF2;ITPK1;KAZN;GAB2;CBFA2T3;IL17RB;OVOL2;NCOR2;ELF1;MED24;RAB31;IL6ST;CD44;FKBP5;ARL3;ABHD2;RHOBTB3;SLC1A4;TMEM164;AKAP1;UGCG;SLC9A3R1;INPP5F;LRIG1;RBBP8;SH3BP5;PMAIP1;FDFT1;FARP1;XBP1;KDM4B;TIPARP;SIAH2;AMFR;DHRS3;BCL2;FRK"
        ],
        [
         "36",
         "MSigDB_Hallmark_2020",
         "Spermatogenesis",
         "0.009913792988257725",
         "0.013397017551699628",
         "0",
         "0",
         "1.6327079218784288",
         "7.533033950860712",
         "CLPB;GFI1;MAST2;PEBP1;IDE;PHF7;GMCL1;PGS1;COIL;PCSK1N;PRKAR2A;PHKG2;TOPBP1;IP6K1;ZC3H14;JAM3;TLE4;RPL39L;SLC12A2;RFC4;CSNK2A2;TALDO1;BRAF;SIRT1;PIAS2;TSN;MTOR;CHFR;MLLT10;IFT88;DBF4;CAMK4;RAD17;NF2;STAM2;EZH2"
        ],
        [
         "37",
         "MSigDB_Hallmark_2020",
         "Apical Junction",
         "0.018620912132428745",
         "0.023872964272344546",
         "0",
         "0",
         "1.442517487784068",
         "5.746225168263428",
         "CD86;B4GALT1;CTNND1;INPPL1;PTEN;ICAM5;WASL;PIK3CB;PKD1;ICAM1;TIAL1;SGCE;AKT2;DHX16;IKBKG;MAP4K2;SYK;ITGA3;TSC1;ACTN4;TRAF1;CLDN15;RASA1;EXOC4;ADAM9;MVD;SKAP2;INSIG1;PIK3R3;MYL12B;GNAI2;EPB41L2;CTNNA1;MAP3K20;SYMPK;RSU1;MYH10;MPZL1;JAM3;VASP;PBX2;MPP5;MAPK14;PTK2;CDK8;DLG1;ARPC2;NF1;NF2"
        ],
        [
         "38",
         "MSigDB_Hallmark_2020",
         "Inflammatory Response",
         "0.018620912132428745",
         "0.023872964272344546",
         "0",
         "0",
         "1.442517487784068",
         "5.746225168263428",
         "CD40;BTG2;CD82;ATP2A2;AHR;ICAM1;NAMPT;PDE4B;CCR7;KIF1B;IL15RA;IL4R;IL15;RIPK2;IFNGR2;SLC11A2;CYBB;TNFRSF1B;RNF144B;SELENOS;LCK;LTA;RAF1;IFNAR1;PTGER4;GNAI3;PSEN1;SRI;ATP2C1;HIF1A;SLC7A1;RELA;CD55;SLAMF1;LYN;MSR1;GABBR1;GCH1;SEMA4D;CD70;SLC31A1;IL10RA;NFKB1;NFKBIA;PTPRE;SELL;ABI1;CD69;IL18R1"
        ],
        [
         "39",
         "MSigDB_Hallmark_2020",
         "Xenobiotic Metabolism",
         "0.032294922005025144",
         "0.04036865250628143",
         "0",
         "0",
         "1.3924936424831713",
         "4.780215220480451",
         "CYFIP2;SLC46A3;ALAS1;SLC35D1;SHMT2;SAR1B;SLC35B1;ATP2A2;ABHD6;SPINT2;CROT;COMT;ARPP19;PTS;PSMB10;CNDP2;LONP1;GCNT2;ASL;HACL1;MAN1A1;PDLIM5;ACP1;MCCC2;GCH1;ENTPD5;PTGES3;SSR3;DHPS;POR;GCLC;MTHFD1;NPC1;ACOX1;CAT;NMT1;FAS;IRF8;TMBIM6;HPRT1;ACO2;ACOX3;BCAT1;GART;LPIN2;PPARD;ALDH9A1"
        ]
       ],
       "shape": {
        "columns": 9,
        "rows": 40
       }
      },
      "text/html": [
       "<div>\n",
       "<style scoped>\n",
       "    .dataframe tbody tr th:only-of-type {\n",
       "        vertical-align: middle;\n",
       "    }\n",
       "\n",
       "    .dataframe tbody tr th {\n",
       "        vertical-align: top;\n",
       "    }\n",
       "\n",
       "    .dataframe thead th {\n",
       "        text-align: right;\n",
       "    }\n",
       "</style>\n",
       "<table border=\"1\" class=\"dataframe\">\n",
       "  <thead>\n",
       "    <tr style=\"text-align: right;\">\n",
       "      <th></th>\n",
       "      <th>Gene_set</th>\n",
       "      <th>Term</th>\n",
       "      <th>P-value</th>\n",
       "      <th>Adjusted P-value</th>\n",
       "      <th>Old P-value</th>\n",
       "      <th>Old adjusted P-value</th>\n",
       "      <th>Odds Ratio</th>\n",
       "      <th>Combined Score</th>\n",
       "      <th>Genes</th>\n",
       "    </tr>\n",
       "  </thead>\n",
       "  <tbody>\n",
       "    <tr>\n",
       "      <th>0</th>\n",
       "      <td>MSigDB_Hallmark_2020</td>\n",
       "      <td>Myc Targets V1</td>\n",
       "      <td>3.794943e-55</td>\n",
       "      <td>1.897471e-53</td>\n",
       "      <td>0</td>\n",
       "      <td>0</td>\n",
       "      <td>10.240206</td>\n",
       "      <td>1283.184988</td>\n",
       "      <td>HNRNPU;HNRNPR;PWP1;PHB2;UBE2L3;PSMD8;PSMD7;TRI...</td>\n",
       "    </tr>\n",
       "    <tr>\n",
       "      <th>1</th>\n",
       "      <td>MSigDB_Hallmark_2020</td>\n",
       "      <td>G2-M Checkpoint</td>\n",
       "      <td>5.213727e-45</td>\n",
       "      <td>1.303432e-43</td>\n",
       "      <td>0</td>\n",
       "      <td>0</td>\n",
       "      <td>8.051255</td>\n",
       "      <td>820.946509</td>\n",
       "      <td>JPT1;CCNT1;HNRNPU;ARID4A;MKI67;SMC4;SMC2;PTTG1...</td>\n",
       "    </tr>\n",
       "    <tr>\n",
       "      <th>2</th>\n",
       "      <td>MSigDB_Hallmark_2020</td>\n",
       "      <td>E2F Targets</td>\n",
       "      <td>8.498266e-39</td>\n",
       "      <td>1.416378e-37</td>\n",
       "      <td>0</td>\n",
       "      <td>0</td>\n",
       "      <td>6.783378</td>\n",
       "      <td>594.637434</td>\n",
       "      <td>JPT1;NUP107;MRE11;TFRC;CSE1L;CCP110;SMC6;MKI67...</td>\n",
       "    </tr>\n",
       "    <tr>\n",
       "      <th>3</th>\n",
       "      <td>MSigDB_Hallmark_2020</td>\n",
       "      <td>Oxidative Phosphorylation</td>\n",
       "      <td>2.302571e-37</td>\n",
       "      <td>2.878213e-36</td>\n",
       "      <td>0</td>\n",
       "      <td>0</td>\n",
       "      <td>6.478656</td>\n",
       "      <td>546.549911</td>\n",
       "      <td>ISCA1;MTRR;ACAA2;COX6A1;PHB2;MTRF1;MPC1;PMPCA;...</td>\n",
       "    </tr>\n",
       "    <tr>\n",
       "      <th>4</th>\n",
       "      <td>MSigDB_Hallmark_2020</td>\n",
       "      <td>mTORC1 Signaling</td>\n",
       "      <td>3.761405e-37</td>\n",
       "      <td>3.761405e-36</td>\n",
       "      <td>0</td>\n",
       "      <td>0</td>\n",
       "      <td>6.502293</td>\n",
       "      <td>545.352860</td>\n",
       "      <td>ERO1A;TES;TFRC;PITPNB;UBE2D3;ARPC5L;SLA;ENO1;F...</td>\n",
       "    </tr>\n",
       "    <tr>\n",
       "      <th>5</th>\n",
       "      <td>MSigDB_Hallmark_2020</td>\n",
       "      <td>Mitotic Spindle</td>\n",
       "      <td>1.818424e-34</td>\n",
       "      <td>1.515353e-33</td>\n",
       "      <td>0</td>\n",
       "      <td>0</td>\n",
       "      <td>6.033876</td>\n",
       "      <td>468.771326</td>\n",
       "      <td>SMC3;SMC4;UXT;PREX1;PPP4R2;KIF5B;CDC27;NUSAP1;...</td>\n",
       "    </tr>\n",
       "    <tr>\n",
       "      <th>6</th>\n",
       "      <td>MSigDB_Hallmark_2020</td>\n",
       "      <td>Protein Secretion</td>\n",
       "      <td>3.517998e-30</td>\n",
       "      <td>2.512855e-29</td>\n",
       "      <td>0</td>\n",
       "      <td>0</td>\n",
       "      <td>11.441893</td>\n",
       "      <td>775.985305</td>\n",
       "      <td>ARF1;CLTC;SNAP23;CLTA;RAB22A;RPS6KA3;GOLGA4;SC...</td>\n",
       "    </tr>\n",
       "    <tr>\n",
       "      <th>7</th>\n",
       "      <td>MSigDB_Hallmark_2020</td>\n",
       "      <td>DNA Repair</td>\n",
       "      <td>1.279545e-25</td>\n",
       "      <td>7.997158e-25</td>\n",
       "      <td>0</td>\n",
       "      <td>0</td>\n",
       "      <td>5.861499</td>\n",
       "      <td>335.970125</td>\n",
       "      <td>ARL6IP1;ELL;MPG;GTF2B;POLB;SEC61A1;GUK1;SNAPC4...</td>\n",
       "    </tr>\n",
       "    <tr>\n",
       "      <th>8</th>\n",
       "      <td>MSigDB_Hallmark_2020</td>\n",
       "      <td>Unfolded Protein Response</td>\n",
       "      <td>8.478605e-24</td>\n",
       "      <td>4.710336e-23</td>\n",
       "      <td>0</td>\n",
       "      <td>0</td>\n",
       "      <td>7.244169</td>\n",
       "      <td>384.842835</td>\n",
       "      <td>EIF4A2;ERO1A;FKBP14;EIF4A3;HERPUD1;EDC4;TATDN2...</td>\n",
       "    </tr>\n",
       "    <tr>\n",
       "      <th>9</th>\n",
       "      <td>MSigDB_Hallmark_2020</td>\n",
       "      <td>PI3K/AKT/mTOR  Signaling</td>\n",
       "      <td>3.042117e-17</td>\n",
       "      <td>1.521058e-16</td>\n",
       "      <td>0</td>\n",
       "      <td>0</td>\n",
       "      <td>5.512328</td>\n",
       "      <td>209.641510</td>\n",
       "      <td>ATF1;GSK3B;ARF1;YWHAB;UBE2D3;CLTC;PTEN;PRKAG1;...</td>\n",
       "    </tr>\n",
       "    <tr>\n",
       "      <th>10</th>\n",
       "      <td>MSigDB_Hallmark_2020</td>\n",
       "      <td>Pperoxisome</td>\n",
       "      <td>4.931644e-16</td>\n",
       "      <td>2.241656e-15</td>\n",
       "      <td>0</td>\n",
       "      <td>0</td>\n",
       "      <td>5.209632</td>\n",
       "      <td>183.617053</td>\n",
       "      <td>TOP2A;SLC23A2;SLC35B2;ECI2;IDE;SCP2;LONP2;MLYC...</td>\n",
       "    </tr>\n",
       "    <tr>\n",
       "      <th>11</th>\n",
       "      <td>MSigDB_Hallmark_2020</td>\n",
       "      <td>Adipogenesis</td>\n",
       "      <td>6.065890e-14</td>\n",
       "      <td>2.527454e-13</td>\n",
       "      <td>0</td>\n",
       "      <td>0</td>\n",
       "      <td>3.134559</td>\n",
       "      <td>95.395647</td>\n",
       "      <td>MTCH2;RNF11;ACAA2;GBE1;ARAF;COX6A1;GPHN;SCP2;A...</td>\n",
       "    </tr>\n",
       "    <tr>\n",
       "      <th>12</th>\n",
       "      <td>MSigDB_Hallmark_2020</td>\n",
       "      <td>Glycolysis</td>\n",
       "      <td>1.760623e-12</td>\n",
       "      <td>6.771628e-12</td>\n",
       "      <td>0</td>\n",
       "      <td>0</td>\n",
       "      <td>2.942759</td>\n",
       "      <td>79.646809</td>\n",
       "      <td>ERO1A;B4GALT1;ZNF292;XYLT2;HDLBP;IRS2;ENO1;HS2...</td>\n",
       "    </tr>\n",
       "    <tr>\n",
       "      <th>13</th>\n",
       "      <td>MSigDB_Hallmark_2020</td>\n",
       "      <td>Interferon Gamma Response</td>\n",
       "      <td>3.846833e-12</td>\n",
       "      <td>1.373869e-11</td>\n",
       "      <td>0</td>\n",
       "      <td>0</td>\n",
       "      <td>2.905072</td>\n",
       "      <td>76.356251</td>\n",
       "      <td>OGFR;CD86;CD40;CIITA;SPPL2A;TNFAIP3;ADAR;IFI44...</td>\n",
       "    </tr>\n",
       "    <tr>\n",
       "      <th>14</th>\n",
       "      <td>MSigDB_Hallmark_2020</td>\n",
       "      <td>Fatty Acid Metabolism</td>\n",
       "      <td>1.798463e-11</td>\n",
       "      <td>5.994878e-11</td>\n",
       "      <td>0</td>\n",
       "      <td>0</td>\n",
       "      <td>3.154497</td>\n",
       "      <td>78.047003</td>\n",
       "      <td>ACAA2;ECI2;PTPRG;ALAD;MCEE;AUH;IDH3B;MLYCD;NBN...</td>\n",
       "    </tr>\n",
       "    <tr>\n",
       "      <th>15</th>\n",
       "      <td>MSigDB_Hallmark_2020</td>\n",
       "      <td>heme Metabolism</td>\n",
       "      <td>2.872445e-11</td>\n",
       "      <td>8.976390e-11</td>\n",
       "      <td>0</td>\n",
       "      <td>0</td>\n",
       "      <td>2.815637</td>\n",
       "      <td>68.344731</td>\n",
       "      <td>ISCA1;BTG2;NARF;TFRC;NR3C1;BACH1;ALAD;PSMD9;NN...</td>\n",
       "    </tr>\n",
       "    <tr>\n",
       "      <th>16</th>\n",
       "      <td>MSigDB_Hallmark_2020</td>\n",
       "      <td>Androgen Response</td>\n",
       "      <td>3.897806e-11</td>\n",
       "      <td>1.146413e-10</td>\n",
       "      <td>0</td>\n",
       "      <td>0</td>\n",
       "      <td>4.030059</td>\n",
       "      <td>96.592536</td>\n",
       "      <td>SRP19;IDI1;TNFAIP8;B4GALT1;INSIG1;ABHD2;NGLY1;...</td>\n",
       "    </tr>\n",
       "    <tr>\n",
       "      <th>17</th>\n",
       "      <td>MSigDB_Hallmark_2020</td>\n",
       "      <td>Apoptosis</td>\n",
       "      <td>1.076779e-10</td>\n",
       "      <td>2.991054e-10</td>\n",
       "      <td>0</td>\n",
       "      <td>0</td>\n",
       "      <td>3.007129</td>\n",
       "      <td>69.019256</td>\n",
       "      <td>TOP2A;BTG2;HSPB1;BRCA1;CASP9;CCND2;CASP3;CASP2...</td>\n",
       "    </tr>\n",
       "    <tr>\n",
       "      <th>18</th>\n",
       "      <td>MSigDB_Hallmark_2020</td>\n",
       "      <td>TGF-beta Signaling</td>\n",
       "      <td>2.985237e-08</td>\n",
       "      <td>7.855887e-08</td>\n",
       "      <td>0</td>\n",
       "      <td>0</td>\n",
       "      <td>4.792340</td>\n",
       "      <td>83.036880</td>\n",
       "      <td>BCAR3;BMPR2;SLC20A1;HDAC1;UBE2D3;XIAP;ARID4B;F...</td>\n",
       "    </tr>\n",
       "    <tr>\n",
       "      <th>19</th>\n",
       "      <td>MSigDB_Hallmark_2020</td>\n",
       "      <td>Reactive Oxygen Species Pathway</td>\n",
       "      <td>4.998813e-08</td>\n",
       "      <td>1.249703e-07</td>\n",
       "      <td>0</td>\n",
       "      <td>0</td>\n",
       "      <td>5.029474</td>\n",
       "      <td>84.552901</td>\n",
       "      <td>NDUFB4;TXN;PTPA;SBNO2;PRDX4;PRDX1;MBP;HMOX2;AB...</td>\n",
       "    </tr>\n",
       "    <tr>\n",
       "      <th>20</th>\n",
       "      <td>MSigDB_Hallmark_2020</td>\n",
       "      <td>Allograft Rejection</td>\n",
       "      <td>9.899210e-08</td>\n",
       "      <td>2.356955e-07</td>\n",
       "      <td>0</td>\n",
       "      <td>0</td>\n",
       "      <td>2.316754</td>\n",
       "      <td>37.365125</td>\n",
       "      <td>CD86;CD40;SPI1;CD80;LY75;BRCA1;ETS1;CTSS;ICAM1...</td>\n",
       "    </tr>\n",
       "    <tr>\n",
       "      <th>21</th>\n",
       "      <td>MSigDB_Hallmark_2020</td>\n",
       "      <td>UV Response Dn</td>\n",
       "      <td>1.430514e-07</td>\n",
       "      <td>3.251168e-07</td>\n",
       "      <td>0</td>\n",
       "      <td>0</td>\n",
       "      <td>2.595809</td>\n",
       "      <td>40.910106</td>\n",
       "      <td>PHF3;PTEN;PRDM2;LAMC1;NR3C1;TENT4A;IGF1R;SYNE1...</td>\n",
       "    </tr>\n",
       "    <tr>\n",
       "      <th>22</th>\n",
       "      <td>MSigDB_Hallmark_2020</td>\n",
       "      <td>Myc Targets V2</td>\n",
       "      <td>2.134276e-07</td>\n",
       "      <td>4.639730e-07</td>\n",
       "      <td>0</td>\n",
       "      <td>0</td>\n",
       "      <td>4.152804</td>\n",
       "      <td>63.786942</td>\n",
       "      <td>NOP2;NOLC1;RABEPK;WDR43;SRM;TBRG4;HSPD1;TCOF1;...</td>\n",
       "    </tr>\n",
       "    <tr>\n",
       "      <th>23</th>\n",
       "      <td>MSigDB_Hallmark_2020</td>\n",
       "      <td>p53 Pathway</td>\n",
       "      <td>2.312575e-07</td>\n",
       "      <td>4.817864e-07</td>\n",
       "      <td>0</td>\n",
       "      <td>0</td>\n",
       "      <td>2.264204</td>\n",
       "      <td>34.596437</td>\n",
       "      <td>CYFIP2;RB1;CCNK;BTG2;CD82;DGKA;CCP110;ABAT;TM7...</td>\n",
       "    </tr>\n",
       "    <tr>\n",
       "      <th>24</th>\n",
       "      <td>MSigDB_Hallmark_2020</td>\n",
       "      <td>UV Response Up</td>\n",
       "      <td>4.302663e-07</td>\n",
       "      <td>8.605327e-07</td>\n",
       "      <td>0</td>\n",
       "      <td>0</td>\n",
       "      <td>2.426966</td>\n",
       "      <td>35.576557</td>\n",
       "      <td>BTG2;ALAS1;TFRC;HNRNPU;ICAM1;GLS;PPAT;CASP3;BS...</td>\n",
       "    </tr>\n",
       "    <tr>\n",
       "      <th>25</th>\n",
       "      <td>MSigDB_Hallmark_2020</td>\n",
       "      <td>IL-2/STAT5 Signaling</td>\n",
       "      <td>9.670536e-07</td>\n",
       "      <td>1.859718e-06</td>\n",
       "      <td>0</td>\n",
       "      <td>0</td>\n",
       "      <td>2.162718</td>\n",
       "      <td>29.951512</td>\n",
       "      <td>CD86;PHTF2;RNH1;CD83;BMPR2;CTSZ;AHR;ITGAE;LCLA...</td>\n",
       "    </tr>\n",
       "    <tr>\n",
       "      <th>26</th>\n",
       "      <td>MSigDB_Hallmark_2020</td>\n",
       "      <td>Complement</td>\n",
       "      <td>2.285225e-05</td>\n",
       "      <td>4.231898e-05</td>\n",
       "      <td>0</td>\n",
       "      <td>0</td>\n",
       "      <td>1.955118</td>\n",
       "      <td>20.893288</td>\n",
       "      <td>DGKG;PRDM4;DOCK9;TNFAIP3;CBLB;CTSS;DOCK10;CASP...</td>\n",
       "    </tr>\n",
       "    <tr>\n",
       "      <th>27</th>\n",
       "      <td>MSigDB_Hallmark_2020</td>\n",
       "      <td>TNF-alpha Signaling via NF-kB</td>\n",
       "      <td>1.669114e-04</td>\n",
       "      <td>2.877783e-04</td>\n",
       "      <td>0</td>\n",
       "      <td>0</td>\n",
       "      <td>1.818689</td>\n",
       "      <td>15.819042</td>\n",
       "      <td>BTG2;TNFAIP8;CD83;B4GALT1;CD80;TNFAIP3;IRS2;LI...</td>\n",
       "    </tr>\n",
       "    <tr>\n",
       "      <th>28</th>\n",
       "      <td>MSigDB_Hallmark_2020</td>\n",
       "      <td>Hypoxia</td>\n",
       "      <td>1.669114e-04</td>\n",
       "      <td>2.877783e-04</td>\n",
       "      <td>0</td>\n",
       "      <td>0</td>\n",
       "      <td>1.818689</td>\n",
       "      <td>15.819042</td>\n",
       "      <td>ERO1A;GPI;TES;ZNF292;GBE1;HEXA;HDLBP;TNFAIP3;I...</td>\n",
       "    </tr>\n",
       "    <tr>\n",
       "      <th>29</th>\n",
       "      <td>MSigDB_Hallmark_2020</td>\n",
       "      <td>Bile Acid Metabolism</td>\n",
       "      <td>7.116147e-04</td>\n",
       "      <td>1.186025e-03</td>\n",
       "      <td>0</td>\n",
       "      <td>0</td>\n",
       "      <td>2.021394</td>\n",
       "      <td>14.651008</td>\n",
       "      <td>BCAR3;SLC35B2;SLC23A2;IDI1;HSD17B4;CROT;HSD17B...</td>\n",
       "    </tr>\n",
       "    <tr>\n",
       "      <th>30</th>\n",
       "      <td>MSigDB_Hallmark_2020</td>\n",
       "      <td>Interferon Alpha Response</td>\n",
       "      <td>7.595136e-04</td>\n",
       "      <td>1.225022e-03</td>\n",
       "      <td>0</td>\n",
       "      <td>0</td>\n",
       "      <td>2.120496</td>\n",
       "      <td>15.231170</td>\n",
       "      <td>OGFR;RNF31;UBA7;SAMD9;C1S;ADAR;IFI44L;TRIM26;C...</td>\n",
       "    </tr>\n",
       "    <tr>\n",
       "      <th>31</th>\n",
       "      <td>MSigDB_Hallmark_2020</td>\n",
       "      <td>KRAS Signaling Up</td>\n",
       "      <td>8.732580e-04</td>\n",
       "      <td>1.364466e-03</td>\n",
       "      <td>0</td>\n",
       "      <td>0</td>\n",
       "      <td>1.699787</td>\n",
       "      <td>11.972076</td>\n",
       "      <td>ERO1A;TNFAIP3;IKZF1;CROT;ETS1;CTSS;RBM4;CCND2;...</td>\n",
       "    </tr>\n",
       "    <tr>\n",
       "      <th>32</th>\n",
       "      <td>MSigDB_Hallmark_2020</td>\n",
       "      <td>Wnt-beta Catenin Signaling</td>\n",
       "      <td>2.156331e-03</td>\n",
       "      <td>3.267168e-03</td>\n",
       "      <td>0</td>\n",
       "      <td>0</td>\n",
       "      <td>2.733587</td>\n",
       "      <td>16.782438</td>\n",
       "      <td>HDAC2;NOTCH1;WNT5B;MAML1;PTCH1;LEF1;CUL1;AXIN1...</td>\n",
       "    </tr>\n",
       "    <tr>\n",
       "      <th>33</th>\n",
       "      <td>MSigDB_Hallmark_2020</td>\n",
       "      <td>IL-6/JAK/STAT3 Signaling</td>\n",
       "      <td>3.045911e-03</td>\n",
       "      <td>4.479281e-03</td>\n",
       "      <td>0</td>\n",
       "      <td>0</td>\n",
       "      <td>1.999933</td>\n",
       "      <td>11.587522</td>\n",
       "      <td>CBL;PIM1;MAP3K8;IL15RA;PTPN1;IL4R;ITGA4;IL10RB...</td>\n",
       "    </tr>\n",
       "    <tr>\n",
       "      <th>34</th>\n",
       "      <td>MSigDB_Hallmark_2020</td>\n",
       "      <td>Cholesterol Homeostasis</td>\n",
       "      <td>5.826667e-03</td>\n",
       "      <td>8.323810e-03</td>\n",
       "      <td>0</td>\n",
       "      <td>0</td>\n",
       "      <td>2.003700</td>\n",
       "      <td>10.309658</td>\n",
       "      <td>IDI1;FDPS;HMGCS1;CHKA;ANXA5;CYP51A1;HMGCR;ANTX...</td>\n",
       "    </tr>\n",
       "    <tr>\n",
       "      <th>35</th>\n",
       "      <td>MSigDB_Hallmark_2020</td>\n",
       "      <td>Estrogen Response Early</td>\n",
       "      <td>7.701684e-03</td>\n",
       "      <td>1.069678e-02</td>\n",
       "      <td>0</td>\n",
       "      <td>0</td>\n",
       "      <td>1.522107</td>\n",
       "      <td>7.407053</td>\n",
       "      <td>FCMR;B4GALT1;MAST4;WWC1;ABAT;NADSYN1;AFF1;IGF1...</td>\n",
       "    </tr>\n",
       "    <tr>\n",
       "      <th>36</th>\n",
       "      <td>MSigDB_Hallmark_2020</td>\n",
       "      <td>Spermatogenesis</td>\n",
       "      <td>9.913793e-03</td>\n",
       "      <td>1.339702e-02</td>\n",
       "      <td>0</td>\n",
       "      <td>0</td>\n",
       "      <td>1.632708</td>\n",
       "      <td>7.533034</td>\n",
       "      <td>CLPB;GFI1;MAST2;PEBP1;IDE;PHF7;GMCL1;PGS1;COIL...</td>\n",
       "    </tr>\n",
       "    <tr>\n",
       "      <th>37</th>\n",
       "      <td>MSigDB_Hallmark_2020</td>\n",
       "      <td>Apical Junction</td>\n",
       "      <td>1.862091e-02</td>\n",
       "      <td>2.387296e-02</td>\n",
       "      <td>0</td>\n",
       "      <td>0</td>\n",
       "      <td>1.442517</td>\n",
       "      <td>5.746225</td>\n",
       "      <td>CD86;B4GALT1;CTNND1;INPPL1;PTEN;ICAM5;WASL;PIK...</td>\n",
       "    </tr>\n",
       "    <tr>\n",
       "      <th>38</th>\n",
       "      <td>MSigDB_Hallmark_2020</td>\n",
       "      <td>Inflammatory Response</td>\n",
       "      <td>1.862091e-02</td>\n",
       "      <td>2.387296e-02</td>\n",
       "      <td>0</td>\n",
       "      <td>0</td>\n",
       "      <td>1.442517</td>\n",
       "      <td>5.746225</td>\n",
       "      <td>CD40;BTG2;CD82;ATP2A2;AHR;ICAM1;NAMPT;PDE4B;CC...</td>\n",
       "    </tr>\n",
       "    <tr>\n",
       "      <th>39</th>\n",
       "      <td>MSigDB_Hallmark_2020</td>\n",
       "      <td>Xenobiotic Metabolism</td>\n",
       "      <td>3.229492e-02</td>\n",
       "      <td>4.036865e-02</td>\n",
       "      <td>0</td>\n",
       "      <td>0</td>\n",
       "      <td>1.392494</td>\n",
       "      <td>4.780215</td>\n",
       "      <td>CYFIP2;SLC46A3;ALAS1;SLC35D1;SHMT2;SAR1B;SLC35...</td>\n",
       "    </tr>\n",
       "  </tbody>\n",
       "</table>\n",
       "</div>"
      ],
      "text/plain": [
       "                Gene_set                             Term       P-value  \\\n",
       "0   MSigDB_Hallmark_2020                   Myc Targets V1  3.794943e-55   \n",
       "1   MSigDB_Hallmark_2020                  G2-M Checkpoint  5.213727e-45   \n",
       "2   MSigDB_Hallmark_2020                      E2F Targets  8.498266e-39   \n",
       "3   MSigDB_Hallmark_2020        Oxidative Phosphorylation  2.302571e-37   \n",
       "4   MSigDB_Hallmark_2020                 mTORC1 Signaling  3.761405e-37   \n",
       "5   MSigDB_Hallmark_2020                  Mitotic Spindle  1.818424e-34   \n",
       "6   MSigDB_Hallmark_2020                Protein Secretion  3.517998e-30   \n",
       "7   MSigDB_Hallmark_2020                       DNA Repair  1.279545e-25   \n",
       "8   MSigDB_Hallmark_2020        Unfolded Protein Response  8.478605e-24   \n",
       "9   MSigDB_Hallmark_2020         PI3K/AKT/mTOR  Signaling  3.042117e-17   \n",
       "10  MSigDB_Hallmark_2020                      Pperoxisome  4.931644e-16   \n",
       "11  MSigDB_Hallmark_2020                     Adipogenesis  6.065890e-14   \n",
       "12  MSigDB_Hallmark_2020                       Glycolysis  1.760623e-12   \n",
       "13  MSigDB_Hallmark_2020        Interferon Gamma Response  3.846833e-12   \n",
       "14  MSigDB_Hallmark_2020            Fatty Acid Metabolism  1.798463e-11   \n",
       "15  MSigDB_Hallmark_2020                  heme Metabolism  2.872445e-11   \n",
       "16  MSigDB_Hallmark_2020                Androgen Response  3.897806e-11   \n",
       "17  MSigDB_Hallmark_2020                        Apoptosis  1.076779e-10   \n",
       "18  MSigDB_Hallmark_2020               TGF-beta Signaling  2.985237e-08   \n",
       "19  MSigDB_Hallmark_2020  Reactive Oxygen Species Pathway  4.998813e-08   \n",
       "20  MSigDB_Hallmark_2020              Allograft Rejection  9.899210e-08   \n",
       "21  MSigDB_Hallmark_2020                   UV Response Dn  1.430514e-07   \n",
       "22  MSigDB_Hallmark_2020                   Myc Targets V2  2.134276e-07   \n",
       "23  MSigDB_Hallmark_2020                      p53 Pathway  2.312575e-07   \n",
       "24  MSigDB_Hallmark_2020                   UV Response Up  4.302663e-07   \n",
       "25  MSigDB_Hallmark_2020             IL-2/STAT5 Signaling  9.670536e-07   \n",
       "26  MSigDB_Hallmark_2020                       Complement  2.285225e-05   \n",
       "27  MSigDB_Hallmark_2020    TNF-alpha Signaling via NF-kB  1.669114e-04   \n",
       "28  MSigDB_Hallmark_2020                          Hypoxia  1.669114e-04   \n",
       "29  MSigDB_Hallmark_2020             Bile Acid Metabolism  7.116147e-04   \n",
       "30  MSigDB_Hallmark_2020        Interferon Alpha Response  7.595136e-04   \n",
       "31  MSigDB_Hallmark_2020                KRAS Signaling Up  8.732580e-04   \n",
       "32  MSigDB_Hallmark_2020       Wnt-beta Catenin Signaling  2.156331e-03   \n",
       "33  MSigDB_Hallmark_2020         IL-6/JAK/STAT3 Signaling  3.045911e-03   \n",
       "34  MSigDB_Hallmark_2020          Cholesterol Homeostasis  5.826667e-03   \n",
       "35  MSigDB_Hallmark_2020          Estrogen Response Early  7.701684e-03   \n",
       "36  MSigDB_Hallmark_2020                  Spermatogenesis  9.913793e-03   \n",
       "37  MSigDB_Hallmark_2020                  Apical Junction  1.862091e-02   \n",
       "38  MSigDB_Hallmark_2020            Inflammatory Response  1.862091e-02   \n",
       "39  MSigDB_Hallmark_2020            Xenobiotic Metabolism  3.229492e-02   \n",
       "\n",
       "    Adjusted P-value  Old P-value  Old adjusted P-value  Odds Ratio  \\\n",
       "0       1.897471e-53            0                     0   10.240206   \n",
       "1       1.303432e-43            0                     0    8.051255   \n",
       "2       1.416378e-37            0                     0    6.783378   \n",
       "3       2.878213e-36            0                     0    6.478656   \n",
       "4       3.761405e-36            0                     0    6.502293   \n",
       "5       1.515353e-33            0                     0    6.033876   \n",
       "6       2.512855e-29            0                     0   11.441893   \n",
       "7       7.997158e-25            0                     0    5.861499   \n",
       "8       4.710336e-23            0                     0    7.244169   \n",
       "9       1.521058e-16            0                     0    5.512328   \n",
       "10      2.241656e-15            0                     0    5.209632   \n",
       "11      2.527454e-13            0                     0    3.134559   \n",
       "12      6.771628e-12            0                     0    2.942759   \n",
       "13      1.373869e-11            0                     0    2.905072   \n",
       "14      5.994878e-11            0                     0    3.154497   \n",
       "15      8.976390e-11            0                     0    2.815637   \n",
       "16      1.146413e-10            0                     0    4.030059   \n",
       "17      2.991054e-10            0                     0    3.007129   \n",
       "18      7.855887e-08            0                     0    4.792340   \n",
       "19      1.249703e-07            0                     0    5.029474   \n",
       "20      2.356955e-07            0                     0    2.316754   \n",
       "21      3.251168e-07            0                     0    2.595809   \n",
       "22      4.639730e-07            0                     0    4.152804   \n",
       "23      4.817864e-07            0                     0    2.264204   \n",
       "24      8.605327e-07            0                     0    2.426966   \n",
       "25      1.859718e-06            0                     0    2.162718   \n",
       "26      4.231898e-05            0                     0    1.955118   \n",
       "27      2.877783e-04            0                     0    1.818689   \n",
       "28      2.877783e-04            0                     0    1.818689   \n",
       "29      1.186025e-03            0                     0    2.021394   \n",
       "30      1.225022e-03            0                     0    2.120496   \n",
       "31      1.364466e-03            0                     0    1.699787   \n",
       "32      3.267168e-03            0                     0    2.733587   \n",
       "33      4.479281e-03            0                     0    1.999933   \n",
       "34      8.323810e-03            0                     0    2.003700   \n",
       "35      1.069678e-02            0                     0    1.522107   \n",
       "36      1.339702e-02            0                     0    1.632708   \n",
       "37      2.387296e-02            0                     0    1.442517   \n",
       "38      2.387296e-02            0                     0    1.442517   \n",
       "39      4.036865e-02            0                     0    1.392494   \n",
       "\n",
       "    Combined Score                                              Genes  \n",
       "0      1283.184988  HNRNPU;HNRNPR;PWP1;PHB2;UBE2L3;PSMD8;PSMD7;TRI...  \n",
       "1       820.946509  JPT1;CCNT1;HNRNPU;ARID4A;MKI67;SMC4;SMC2;PTTG1...  \n",
       "2       594.637434  JPT1;NUP107;MRE11;TFRC;CSE1L;CCP110;SMC6;MKI67...  \n",
       "3       546.549911  ISCA1;MTRR;ACAA2;COX6A1;PHB2;MTRF1;MPC1;PMPCA;...  \n",
       "4       545.352860  ERO1A;TES;TFRC;PITPNB;UBE2D3;ARPC5L;SLA;ENO1;F...  \n",
       "5       468.771326  SMC3;SMC4;UXT;PREX1;PPP4R2;KIF5B;CDC27;NUSAP1;...  \n",
       "6       775.985305  ARF1;CLTC;SNAP23;CLTA;RAB22A;RPS6KA3;GOLGA4;SC...  \n",
       "7       335.970125  ARL6IP1;ELL;MPG;GTF2B;POLB;SEC61A1;GUK1;SNAPC4...  \n",
       "8       384.842835  EIF4A2;ERO1A;FKBP14;EIF4A3;HERPUD1;EDC4;TATDN2...  \n",
       "9       209.641510  ATF1;GSK3B;ARF1;YWHAB;UBE2D3;CLTC;PTEN;PRKAG1;...  \n",
       "10      183.617053  TOP2A;SLC23A2;SLC35B2;ECI2;IDE;SCP2;LONP2;MLYC...  \n",
       "11       95.395647  MTCH2;RNF11;ACAA2;GBE1;ARAF;COX6A1;GPHN;SCP2;A...  \n",
       "12       79.646809  ERO1A;B4GALT1;ZNF292;XYLT2;HDLBP;IRS2;ENO1;HS2...  \n",
       "13       76.356251  OGFR;CD86;CD40;CIITA;SPPL2A;TNFAIP3;ADAR;IFI44...  \n",
       "14       78.047003  ACAA2;ECI2;PTPRG;ALAD;MCEE;AUH;IDH3B;MLYCD;NBN...  \n",
       "15       68.344731  ISCA1;BTG2;NARF;TFRC;NR3C1;BACH1;ALAD;PSMD9;NN...  \n",
       "16       96.592536  SRP19;IDI1;TNFAIP8;B4GALT1;INSIG1;ABHD2;NGLY1;...  \n",
       "17       69.019256  TOP2A;BTG2;HSPB1;BRCA1;CASP9;CCND2;CASP3;CASP2...  \n",
       "18       83.036880  BCAR3;BMPR2;SLC20A1;HDAC1;UBE2D3;XIAP;ARID4B;F...  \n",
       "19       84.552901  NDUFB4;TXN;PTPA;SBNO2;PRDX4;PRDX1;MBP;HMOX2;AB...  \n",
       "20       37.365125  CD86;CD40;SPI1;CD80;LY75;BRCA1;ETS1;CTSS;ICAM1...  \n",
       "21       40.910106  PHF3;PTEN;PRDM2;LAMC1;NR3C1;TENT4A;IGF1R;SYNE1...  \n",
       "22       63.786942  NOP2;NOLC1;RABEPK;WDR43;SRM;TBRG4;HSPD1;TCOF1;...  \n",
       "23       34.596437  CYFIP2;RB1;CCNK;BTG2;CD82;DGKA;CCP110;ABAT;TM7...  \n",
       "24       35.576557  BTG2;ALAS1;TFRC;HNRNPU;ICAM1;GLS;PPAT;CASP3;BS...  \n",
       "25       29.951512  CD86;PHTF2;RNH1;CD83;BMPR2;CTSZ;AHR;ITGAE;LCLA...  \n",
       "26       20.893288  DGKG;PRDM4;DOCK9;TNFAIP3;CBLB;CTSS;DOCK10;CASP...  \n",
       "27       15.819042  BTG2;TNFAIP8;CD83;B4GALT1;CD80;TNFAIP3;IRS2;LI...  \n",
       "28       15.819042  ERO1A;GPI;TES;ZNF292;GBE1;HEXA;HDLBP;TNFAIP3;I...  \n",
       "29       14.651008  BCAR3;SLC35B2;SLC23A2;IDI1;HSD17B4;CROT;HSD17B...  \n",
       "30       15.231170  OGFR;RNF31;UBA7;SAMD9;C1S;ADAR;IFI44L;TRIM26;C...  \n",
       "31       11.972076  ERO1A;TNFAIP3;IKZF1;CROT;ETS1;CTSS;RBM4;CCND2;...  \n",
       "32       16.782438  HDAC2;NOTCH1;WNT5B;MAML1;PTCH1;LEF1;CUL1;AXIN1...  \n",
       "33       11.587522  CBL;PIM1;MAP3K8;IL15RA;PTPN1;IL4R;ITGA4;IL10RB...  \n",
       "34       10.309658  IDI1;FDPS;HMGCS1;CHKA;ANXA5;CYP51A1;HMGCR;ANTX...  \n",
       "35        7.407053  FCMR;B4GALT1;MAST4;WWC1;ABAT;NADSYN1;AFF1;IGF1...  \n",
       "36        7.533034  CLPB;GFI1;MAST2;PEBP1;IDE;PHF7;GMCL1;PGS1;COIL...  \n",
       "37        5.746225  CD86;B4GALT1;CTNND1;INPPL1;PTEN;ICAM5;WASL;PIK...  \n",
       "38        5.746225  CD40;BTG2;CD82;ATP2A2;AHR;ICAM1;NAMPT;PDE4B;CC...  \n",
       "39        4.780215  CYFIP2;SLC46A3;ALAS1;SLC35D1;SHMT2;SAR1B;SLC35...  "
      ]
     },
     "execution_count": 563,
     "metadata": {},
     "output_type": "execute_result"
    }
   ],
   "source": [
    "enr.results[enr.results['Adjusted P-value'] < 0.05]"
   ]
  },
  {
   "cell_type": "code",
   "execution_count": 568,
   "id": "1da1be5d",
   "metadata": {},
   "outputs": [],
   "source": [
    "sc.tl.rank_genes_groups(\n",
    "    data_gsea_hv,\n",
    "    groupby='group',\n",
    "    groups=['LYM'],\n",
    "    reference='B',\n",
    "    method='wilcoxon',\n",
    "    pts=True\n",
    ")"
   ]
  },
  {
   "cell_type": "code",
   "execution_count": 569,
   "id": "2fedb365",
   "metadata": {},
   "outputs": [],
   "source": [
    "de_hv = sc.get.rank_genes_groups_df(data_gsea_hv, group='LYM')\n",
    "de_hv['neg_log10_padj'] = -np.log10(de_hv['pvals_adj'].replace(0, np.nan))"
   ]
  },
  {
   "cell_type": "code",
   "execution_count": 570,
   "id": "50028680",
   "metadata": {},
   "outputs": [],
   "source": [
    "deg_list_hv = de_hv[(de_hv[\"pvals_adj\"] < 0.05) & (abs(de_hv[\"logfoldchanges\"]) > 1)]['names'].tolist()"
   ]
  },
  {
   "cell_type": "code",
   "execution_count": 571,
   "id": "641b4898",
   "metadata": {},
   "outputs": [],
   "source": [
    "enr_hv = gp.enrichr(\n",
    "    gene_list=deg_list_hv,\n",
    "    gene_sets='MSigDB_Hallmark_2020',  # or 'GO_Biological_Process_2021', 'Reactome_2022', etc.\n",
    "    organism='Human',\n",
    "    background=list(data_gsea_hv.var_names),          \n",
    "    outdir=None,     # optional\n",
    "    cutoff=0.01                   # p-value cutoff\n",
    ")"
   ]
  },
  {
   "cell_type": "code",
   "execution_count": 572,
   "id": "cd9c191a",
   "metadata": {},
   "outputs": [
    {
     "data": {
      "application/vnd.microsoft.datawrangler.viewer.v0+json": {
       "columns": [
        {
         "name": "index",
         "rawType": "int64",
         "type": "integer"
        },
        {
         "name": "Gene_set",
         "rawType": "object",
         "type": "string"
        },
        {
         "name": "Term",
         "rawType": "object",
         "type": "string"
        },
        {
         "name": "P-value",
         "rawType": "float64",
         "type": "float"
        },
        {
         "name": "Adjusted P-value",
         "rawType": "float64",
         "type": "float"
        },
        {
         "name": "Old P-value",
         "rawType": "int64",
         "type": "integer"
        },
        {
         "name": "Old adjusted P-value",
         "rawType": "int64",
         "type": "integer"
        },
        {
         "name": "Odds Ratio",
         "rawType": "float64",
         "type": "float"
        },
        {
         "name": "Combined Score",
         "rawType": "float64",
         "type": "float"
        },
        {
         "name": "Genes",
         "rawType": "object",
         "type": "string"
        }
       ],
       "conversionMethod": "pd.DataFrame",
       "ref": "d58e4c18-2bc1-477d-af7c-065fe86d8b0a",
       "rows": [
        [
         "0",
         "MSigDB_Hallmark_2020",
         "Oxidative Phosphorylation",
         "1.8535506420942707e-08",
         "8.897043082052499e-07",
         "0",
         "0",
         "5.327592029719689",
         "94.85019853942246",
         "SLC25A3;NDUFB8;COX4I1;NDUFB2;UQCR11;PHB2;COX7C;UQCRH;ACAT1;LDHB;LDHA;ATP5F1B;ATP5MG;ATP5MF;ATP5PF;MTX2;NDUFA4;NDUFA1;NDUFC2;SDHC;COX6C;NDUFS6;UQCRC1;ATP5PO;ATP6V0C"
        ],
        [
         "1",
         "MSigDB_Hallmark_2020",
         "mTORC1 Signaling",
         "6.284775228981988e-08",
         "1.508346054955677e-06",
         "0",
         "0",
         "8.348801237432328",
         "138.44441951707324",
         "MAP2K3;TPI1;TXNRD1;ELOVL6;ENO1;HSPE1;TUBA4A;SLC9A3R1;LDHA;PSMA4;PSMB5;MTHFD2;PRDX1;NAMPT;PPIA;GAPDH;PDK1"
        ],
        [
         "2",
         "MSigDB_Hallmark_2020",
         "PI3K/AKT/mTOR  Signaling",
         "0.00012630269610635082",
         "0.002020843137701613",
         "0",
         "0",
         "13.486772486772487",
         "121.06845283014657",
         "MAP2K3;MAPK10;CSNK2B;THEM4;RAC1;PDK1;PPP1CA"
        ],
        [
         "3",
         "MSigDB_Hallmark_2020",
         "E2F Targets",
         "0.00028798409122077553",
         "0.002764647275719445",
         "0",
         "0",
         "4.916211934518571",
         "40.07993556261085",
         "TOP2A;CENPE;DIAPH3;MTHFD2;RFC2;TUBB;STMN1;NOLC1;RPA2;NCAPD2;MKI67"
        ],
        [
         "4",
         "MSigDB_Hallmark_2020",
         "Glycolysis",
         "0.00028798409122077553",
         "0.002764647275719445",
         "0",
         "0",
         "4.916211934518571",
         "40.07993556261085",
         "ISG20;LDHA;TPI1;BIK;STMN1;COG2;AKR1A1;SDHC;ENO1;MIF;PPIA"
        ],
        [
         "5",
         "MSigDB_Hallmark_2020",
         "Fatty Acid Metabolism",
         "0.000595336081423607",
         "0.004156819621329454",
         "0",
         "0",
         "4.832572298325723",
         "35.8885398623476",
         "GRHPR;LDHA;HSP90AA1;HSPH1;ACSL1;ERP29;SDHC;MIF;PRDX6;PTPRG"
        ],
        [
         "6",
         "MSigDB_Hallmark_2020",
         "Myc Targets V1",
         "0.0007080641375866088",
         "0.004156819621329454",
         "0",
         "0",
         "3.6018609742747674",
         "26.1242107643486",
         "SLC25A3;NCBP1;NOLC1;HSPE1;PHB2;ILF2;GNL3;LDHA;PSMA4;PSMB3;SNRPG;HNRNPA1;PPIA"
        ],
        [
         "7",
         "MSigDB_Hallmark_2020",
         "Mitotic Spindle",
         "0.0007794036789992726",
         "0.004156819621329454",
         "0",
         "0",
         "5.211389521640091",
         "37.29781810786817",
         "UXT;TOP2A;CENPE;KIF3B;CEP131;CSNK1D;TSC1;TUBGCP3;TUBA4A"
        ],
        [
         "8",
         "MSigDB_Hallmark_2020",
         "G2-M Checkpoint",
         "0.0007794036789992726",
         "0.004156819621329454",
         "0",
         "0",
         "5.211389521640091",
         "37.29781810786817",
         "TOP2A;CENPE;NCL;STMN1;NOLC1;RPA2;MKI67;HMGN2;SMC2"
        ],
        [
         "9",
         "MSigDB_Hallmark_2020",
         "Interferon Gamma Response",
         "0.000998290380217582",
         "0.004791793825044394",
         "0",
         "0",
         "3.669241912119749",
         "25.352503565216338",
         "ISG20;MTHFD2;BANK1;NAMPT;IRF5;CD69;SRI;SOD2;PSMB8;IFI44L;PSMB10;ICAM1"
        ],
        [
         "10",
         "MSigDB_Hallmark_2020",
         "Reactive Oxygen Species Pathway",
         "0.0011767480642370315",
         "0.00513490064394341",
         "0",
         "0",
         "14.390519187358917",
         "97.06405944054816",
         "PRDX1;TXNRD1;SOD2;PRDX6;ATOX1"
        ],
        [
         "11",
         "MSigDB_Hallmark_2020",
         "Hypoxia",
         "0.0027881441834101445",
         "0.011152576733640578",
         "0",
         "0",
         "3.6187214611872145",
         "21.286691389625535",
         "ISG20;GRHPR;LDHA;TPI1;ENO1;MIF;RBPJ;LARGE1;GAPDH;PDK1"
        ],
        [
         "12",
         "MSigDB_Hallmark_2020",
         "DNA Repair",
         "0.004449615906640416",
         "0.016429351039903076",
         "0",
         "0",
         "5.760180995475113",
         "31.191020077133125",
         "SF3A3;SEC61A1;RFC2;POLR2E;RPA2;EDF1"
        ]
       ],
       "shape": {
        "columns": 9,
        "rows": 13
       }
      },
      "text/html": [
       "<div>\n",
       "<style scoped>\n",
       "    .dataframe tbody tr th:only-of-type {\n",
       "        vertical-align: middle;\n",
       "    }\n",
       "\n",
       "    .dataframe tbody tr th {\n",
       "        vertical-align: top;\n",
       "    }\n",
       "\n",
       "    .dataframe thead th {\n",
       "        text-align: right;\n",
       "    }\n",
       "</style>\n",
       "<table border=\"1\" class=\"dataframe\">\n",
       "  <thead>\n",
       "    <tr style=\"text-align: right;\">\n",
       "      <th></th>\n",
       "      <th>Gene_set</th>\n",
       "      <th>Term</th>\n",
       "      <th>P-value</th>\n",
       "      <th>Adjusted P-value</th>\n",
       "      <th>Old P-value</th>\n",
       "      <th>Old adjusted P-value</th>\n",
       "      <th>Odds Ratio</th>\n",
       "      <th>Combined Score</th>\n",
       "      <th>Genes</th>\n",
       "    </tr>\n",
       "  </thead>\n",
       "  <tbody>\n",
       "    <tr>\n",
       "      <th>0</th>\n",
       "      <td>MSigDB_Hallmark_2020</td>\n",
       "      <td>Oxidative Phosphorylation</td>\n",
       "      <td>1.853551e-08</td>\n",
       "      <td>8.897043e-07</td>\n",
       "      <td>0</td>\n",
       "      <td>0</td>\n",
       "      <td>5.327592</td>\n",
       "      <td>94.850199</td>\n",
       "      <td>SLC25A3;NDUFB8;COX4I1;NDUFB2;UQCR11;PHB2;COX7C...</td>\n",
       "    </tr>\n",
       "    <tr>\n",
       "      <th>1</th>\n",
       "      <td>MSigDB_Hallmark_2020</td>\n",
       "      <td>mTORC1 Signaling</td>\n",
       "      <td>6.284775e-08</td>\n",
       "      <td>1.508346e-06</td>\n",
       "      <td>0</td>\n",
       "      <td>0</td>\n",
       "      <td>8.348801</td>\n",
       "      <td>138.444420</td>\n",
       "      <td>MAP2K3;TPI1;TXNRD1;ELOVL6;ENO1;HSPE1;TUBA4A;SL...</td>\n",
       "    </tr>\n",
       "    <tr>\n",
       "      <th>2</th>\n",
       "      <td>MSigDB_Hallmark_2020</td>\n",
       "      <td>PI3K/AKT/mTOR  Signaling</td>\n",
       "      <td>1.263027e-04</td>\n",
       "      <td>2.020843e-03</td>\n",
       "      <td>0</td>\n",
       "      <td>0</td>\n",
       "      <td>13.486772</td>\n",
       "      <td>121.068453</td>\n",
       "      <td>MAP2K3;MAPK10;CSNK2B;THEM4;RAC1;PDK1;PPP1CA</td>\n",
       "    </tr>\n",
       "    <tr>\n",
       "      <th>3</th>\n",
       "      <td>MSigDB_Hallmark_2020</td>\n",
       "      <td>E2F Targets</td>\n",
       "      <td>2.879841e-04</td>\n",
       "      <td>2.764647e-03</td>\n",
       "      <td>0</td>\n",
       "      <td>0</td>\n",
       "      <td>4.916212</td>\n",
       "      <td>40.079936</td>\n",
       "      <td>TOP2A;CENPE;DIAPH3;MTHFD2;RFC2;TUBB;STMN1;NOLC...</td>\n",
       "    </tr>\n",
       "    <tr>\n",
       "      <th>4</th>\n",
       "      <td>MSigDB_Hallmark_2020</td>\n",
       "      <td>Glycolysis</td>\n",
       "      <td>2.879841e-04</td>\n",
       "      <td>2.764647e-03</td>\n",
       "      <td>0</td>\n",
       "      <td>0</td>\n",
       "      <td>4.916212</td>\n",
       "      <td>40.079936</td>\n",
       "      <td>ISG20;LDHA;TPI1;BIK;STMN1;COG2;AKR1A1;SDHC;ENO...</td>\n",
       "    </tr>\n",
       "    <tr>\n",
       "      <th>5</th>\n",
       "      <td>MSigDB_Hallmark_2020</td>\n",
       "      <td>Fatty Acid Metabolism</td>\n",
       "      <td>5.953361e-04</td>\n",
       "      <td>4.156820e-03</td>\n",
       "      <td>0</td>\n",
       "      <td>0</td>\n",
       "      <td>4.832572</td>\n",
       "      <td>35.888540</td>\n",
       "      <td>GRHPR;LDHA;HSP90AA1;HSPH1;ACSL1;ERP29;SDHC;MIF...</td>\n",
       "    </tr>\n",
       "    <tr>\n",
       "      <th>6</th>\n",
       "      <td>MSigDB_Hallmark_2020</td>\n",
       "      <td>Myc Targets V1</td>\n",
       "      <td>7.080641e-04</td>\n",
       "      <td>4.156820e-03</td>\n",
       "      <td>0</td>\n",
       "      <td>0</td>\n",
       "      <td>3.601861</td>\n",
       "      <td>26.124211</td>\n",
       "      <td>SLC25A3;NCBP1;NOLC1;HSPE1;PHB2;ILF2;GNL3;LDHA;...</td>\n",
       "    </tr>\n",
       "    <tr>\n",
       "      <th>7</th>\n",
       "      <td>MSigDB_Hallmark_2020</td>\n",
       "      <td>Mitotic Spindle</td>\n",
       "      <td>7.794037e-04</td>\n",
       "      <td>4.156820e-03</td>\n",
       "      <td>0</td>\n",
       "      <td>0</td>\n",
       "      <td>5.211390</td>\n",
       "      <td>37.297818</td>\n",
       "      <td>UXT;TOP2A;CENPE;KIF3B;CEP131;CSNK1D;TSC1;TUBGC...</td>\n",
       "    </tr>\n",
       "    <tr>\n",
       "      <th>8</th>\n",
       "      <td>MSigDB_Hallmark_2020</td>\n",
       "      <td>G2-M Checkpoint</td>\n",
       "      <td>7.794037e-04</td>\n",
       "      <td>4.156820e-03</td>\n",
       "      <td>0</td>\n",
       "      <td>0</td>\n",
       "      <td>5.211390</td>\n",
       "      <td>37.297818</td>\n",
       "      <td>TOP2A;CENPE;NCL;STMN1;NOLC1;RPA2;MKI67;HMGN2;SMC2</td>\n",
       "    </tr>\n",
       "    <tr>\n",
       "      <th>9</th>\n",
       "      <td>MSigDB_Hallmark_2020</td>\n",
       "      <td>Interferon Gamma Response</td>\n",
       "      <td>9.982904e-04</td>\n",
       "      <td>4.791794e-03</td>\n",
       "      <td>0</td>\n",
       "      <td>0</td>\n",
       "      <td>3.669242</td>\n",
       "      <td>25.352504</td>\n",
       "      <td>ISG20;MTHFD2;BANK1;NAMPT;IRF5;CD69;SRI;SOD2;PS...</td>\n",
       "    </tr>\n",
       "    <tr>\n",
       "      <th>10</th>\n",
       "      <td>MSigDB_Hallmark_2020</td>\n",
       "      <td>Reactive Oxygen Species Pathway</td>\n",
       "      <td>1.176748e-03</td>\n",
       "      <td>5.134901e-03</td>\n",
       "      <td>0</td>\n",
       "      <td>0</td>\n",
       "      <td>14.390519</td>\n",
       "      <td>97.064059</td>\n",
       "      <td>PRDX1;TXNRD1;SOD2;PRDX6;ATOX1</td>\n",
       "    </tr>\n",
       "    <tr>\n",
       "      <th>11</th>\n",
       "      <td>MSigDB_Hallmark_2020</td>\n",
       "      <td>Hypoxia</td>\n",
       "      <td>2.788144e-03</td>\n",
       "      <td>1.115258e-02</td>\n",
       "      <td>0</td>\n",
       "      <td>0</td>\n",
       "      <td>3.618721</td>\n",
       "      <td>21.286691</td>\n",
       "      <td>ISG20;GRHPR;LDHA;TPI1;ENO1;MIF;RBPJ;LARGE1;GAP...</td>\n",
       "    </tr>\n",
       "    <tr>\n",
       "      <th>12</th>\n",
       "      <td>MSigDB_Hallmark_2020</td>\n",
       "      <td>DNA Repair</td>\n",
       "      <td>4.449616e-03</td>\n",
       "      <td>1.642935e-02</td>\n",
       "      <td>0</td>\n",
       "      <td>0</td>\n",
       "      <td>5.760181</td>\n",
       "      <td>31.191020</td>\n",
       "      <td>SF3A3;SEC61A1;RFC2;POLR2E;RPA2;EDF1</td>\n",
       "    </tr>\n",
       "  </tbody>\n",
       "</table>\n",
       "</div>"
      ],
      "text/plain": [
       "                Gene_set                             Term       P-value  \\\n",
       "0   MSigDB_Hallmark_2020        Oxidative Phosphorylation  1.853551e-08   \n",
       "1   MSigDB_Hallmark_2020                 mTORC1 Signaling  6.284775e-08   \n",
       "2   MSigDB_Hallmark_2020         PI3K/AKT/mTOR  Signaling  1.263027e-04   \n",
       "3   MSigDB_Hallmark_2020                      E2F Targets  2.879841e-04   \n",
       "4   MSigDB_Hallmark_2020                       Glycolysis  2.879841e-04   \n",
       "5   MSigDB_Hallmark_2020            Fatty Acid Metabolism  5.953361e-04   \n",
       "6   MSigDB_Hallmark_2020                   Myc Targets V1  7.080641e-04   \n",
       "7   MSigDB_Hallmark_2020                  Mitotic Spindle  7.794037e-04   \n",
       "8   MSigDB_Hallmark_2020                  G2-M Checkpoint  7.794037e-04   \n",
       "9   MSigDB_Hallmark_2020        Interferon Gamma Response  9.982904e-04   \n",
       "10  MSigDB_Hallmark_2020  Reactive Oxygen Species Pathway  1.176748e-03   \n",
       "11  MSigDB_Hallmark_2020                          Hypoxia  2.788144e-03   \n",
       "12  MSigDB_Hallmark_2020                       DNA Repair  4.449616e-03   \n",
       "\n",
       "    Adjusted P-value  Old P-value  Old adjusted P-value  Odds Ratio  \\\n",
       "0       8.897043e-07            0                     0    5.327592   \n",
       "1       1.508346e-06            0                     0    8.348801   \n",
       "2       2.020843e-03            0                     0   13.486772   \n",
       "3       2.764647e-03            0                     0    4.916212   \n",
       "4       2.764647e-03            0                     0    4.916212   \n",
       "5       4.156820e-03            0                     0    4.832572   \n",
       "6       4.156820e-03            0                     0    3.601861   \n",
       "7       4.156820e-03            0                     0    5.211390   \n",
       "8       4.156820e-03            0                     0    5.211390   \n",
       "9       4.791794e-03            0                     0    3.669242   \n",
       "10      5.134901e-03            0                     0   14.390519   \n",
       "11      1.115258e-02            0                     0    3.618721   \n",
       "12      1.642935e-02            0                     0    5.760181   \n",
       "\n",
       "    Combined Score                                              Genes  \n",
       "0        94.850199  SLC25A3;NDUFB8;COX4I1;NDUFB2;UQCR11;PHB2;COX7C...  \n",
       "1       138.444420  MAP2K3;TPI1;TXNRD1;ELOVL6;ENO1;HSPE1;TUBA4A;SL...  \n",
       "2       121.068453        MAP2K3;MAPK10;CSNK2B;THEM4;RAC1;PDK1;PPP1CA  \n",
       "3        40.079936  TOP2A;CENPE;DIAPH3;MTHFD2;RFC2;TUBB;STMN1;NOLC...  \n",
       "4        40.079936  ISG20;LDHA;TPI1;BIK;STMN1;COG2;AKR1A1;SDHC;ENO...  \n",
       "5        35.888540  GRHPR;LDHA;HSP90AA1;HSPH1;ACSL1;ERP29;SDHC;MIF...  \n",
       "6        26.124211  SLC25A3;NCBP1;NOLC1;HSPE1;PHB2;ILF2;GNL3;LDHA;...  \n",
       "7        37.297818  UXT;TOP2A;CENPE;KIF3B;CEP131;CSNK1D;TSC1;TUBGC...  \n",
       "8        37.297818  TOP2A;CENPE;NCL;STMN1;NOLC1;RPA2;MKI67;HMGN2;SMC2  \n",
       "9        25.352504  ISG20;MTHFD2;BANK1;NAMPT;IRF5;CD69;SRI;SOD2;PS...  \n",
       "10       97.064059                      PRDX1;TXNRD1;SOD2;PRDX6;ATOX1  \n",
       "11       21.286691  ISG20;GRHPR;LDHA;TPI1;ENO1;MIF;RBPJ;LARGE1;GAP...  \n",
       "12       31.191020                SF3A3;SEC61A1;RFC2;POLR2E;RPA2;EDF1  "
      ]
     },
     "execution_count": 572,
     "metadata": {},
     "output_type": "execute_result"
    }
   ],
   "source": [
    "enr_hv.results[enr_hv.results['Adjusted P-value'] < 0.05]"
   ]
  },
  {
   "cell_type": "markdown",
   "id": "a7e5f465",
   "metadata": {},
   "source": [
    "scButterfly (ORA)"
   ]
  },
  {
   "cell_type": "code",
   "execution_count": 573,
   "id": "8b91b43d",
   "metadata": {},
   "outputs": [],
   "source": [
    "sc.pp.log1p(data_gsea_pred)\n",
    "sc.tl.rank_genes_groups(\n",
    "    data_gsea_pred,\n",
    "    groupby='group',\n",
    "    groups=['LYM'],\n",
    "    reference='B',\n",
    "    method='wilcoxon',\n",
    "    pts=True\n",
    ")\n",
    "de_pred = sc.get.rank_genes_groups_df(data_gsea_pred, group='LYM')\n",
    "de_pred['neg_log10_padj'] = -np.log10(de_pred['pvals_adj'].replace(0, np.nan))"
   ]
  },
  {
   "cell_type": "code",
   "execution_count": 574,
   "id": "20e54eaa",
   "metadata": {},
   "outputs": [],
   "source": [
    "deg_list_pred = de_pred[(de_pred[\"pvals_adj\"] < 0.05) & (abs(de_pred[\"logfoldchanges\"]) > 1)]['names'].tolist()"
   ]
  },
  {
   "cell_type": "code",
   "execution_count": 575,
   "id": "f7f9a8e4",
   "metadata": {},
   "outputs": [],
   "source": [
    "enr_pred = gp.enrichr(\n",
    "    gene_list=deg_list_pred,\n",
    "    gene_sets='MSigDB_Hallmark_2020',  # or 'GO_Biological_Process_2021', 'Reactome_2022', etc.\n",
    "    organism='Human',\n",
    "    background=list(data_gsea_pred.var_names),          \n",
    "    outdir=None,     # optional\n",
    "    cutoff=0.01                   # p-value cutoff\n",
    ")"
   ]
  },
  {
   "cell_type": "code",
   "execution_count": 576,
   "id": "407408cd",
   "metadata": {},
   "outputs": [
    {
     "data": {
      "application/vnd.microsoft.datawrangler.viewer.v0+json": {
       "columns": [
        {
         "name": "index",
         "rawType": "int64",
         "type": "integer"
        },
        {
         "name": "Gene_set",
         "rawType": "object",
         "type": "string"
        },
        {
         "name": "Term",
         "rawType": "object",
         "type": "string"
        },
        {
         "name": "P-value",
         "rawType": "float64",
         "type": "float"
        },
        {
         "name": "Adjusted P-value",
         "rawType": "float64",
         "type": "float"
        },
        {
         "name": "Old P-value",
         "rawType": "int64",
         "type": "integer"
        },
        {
         "name": "Old adjusted P-value",
         "rawType": "int64",
         "type": "integer"
        },
        {
         "name": "Odds Ratio",
         "rawType": "float64",
         "type": "float"
        },
        {
         "name": "Combined Score",
         "rawType": "float64",
         "type": "float"
        },
        {
         "name": "Genes",
         "rawType": "object",
         "type": "string"
        }
       ],
       "conversionMethod": "pd.DataFrame",
       "ref": "d4ea6407-0794-42d3-b5dc-980286e77ba2",
       "rows": [
        [
         "0",
         "MSigDB_Hallmark_2020",
         "E2F Targets",
         "0.00012916670101435136",
         "0.0063291683497032165",
         "0",
         "0",
         "4.193952033368092",
         "37.55435232094693",
         "PLK4;TOP2A;RNASEH2A;RFC2;PLK1;NOLC1;HMGB3;SMC4;NME1;CKS1B;CENPE;DIAPH3;MTHFD2;WDR90;KIF4A;STMN1;TACC3;CENPM;NCAPD2;CDKN3"
        ]
       ],
       "shape": {
        "columns": 9,
        "rows": 1
       }
      },
      "text/html": [
       "<div>\n",
       "<style scoped>\n",
       "    .dataframe tbody tr th:only-of-type {\n",
       "        vertical-align: middle;\n",
       "    }\n",
       "\n",
       "    .dataframe tbody tr th {\n",
       "        vertical-align: top;\n",
       "    }\n",
       "\n",
       "    .dataframe thead th {\n",
       "        text-align: right;\n",
       "    }\n",
       "</style>\n",
       "<table border=\"1\" class=\"dataframe\">\n",
       "  <thead>\n",
       "    <tr style=\"text-align: right;\">\n",
       "      <th></th>\n",
       "      <th>Gene_set</th>\n",
       "      <th>Term</th>\n",
       "      <th>P-value</th>\n",
       "      <th>Adjusted P-value</th>\n",
       "      <th>Old P-value</th>\n",
       "      <th>Old adjusted P-value</th>\n",
       "      <th>Odds Ratio</th>\n",
       "      <th>Combined Score</th>\n",
       "      <th>Genes</th>\n",
       "    </tr>\n",
       "  </thead>\n",
       "  <tbody>\n",
       "    <tr>\n",
       "      <th>0</th>\n",
       "      <td>MSigDB_Hallmark_2020</td>\n",
       "      <td>E2F Targets</td>\n",
       "      <td>0.000129</td>\n",
       "      <td>0.006329</td>\n",
       "      <td>0</td>\n",
       "      <td>0</td>\n",
       "      <td>4.193952</td>\n",
       "      <td>37.554352</td>\n",
       "      <td>PLK4;TOP2A;RNASEH2A;RFC2;PLK1;NOLC1;HMGB3;SMC4...</td>\n",
       "    </tr>\n",
       "  </tbody>\n",
       "</table>\n",
       "</div>"
      ],
      "text/plain": [
       "               Gene_set         Term   P-value  Adjusted P-value  Old P-value  \\\n",
       "0  MSigDB_Hallmark_2020  E2F Targets  0.000129          0.006329            0   \n",
       "\n",
       "   Old adjusted P-value  Odds Ratio  Combined Score  \\\n",
       "0                     0    4.193952       37.554352   \n",
       "\n",
       "                                               Genes  \n",
       "0  PLK4;TOP2A;RNASEH2A;RFC2;PLK1;NOLC1;HMGB3;SMC4...  "
      ]
     },
     "execution_count": 576,
     "metadata": {},
     "output_type": "execute_result"
    }
   ],
   "source": [
    "enr_pred.results[enr_pred.results['Adjusted P-value'] < 0.05]"
   ]
  },
  {
   "cell_type": "markdown",
   "id": "56b95d78",
   "metadata": {},
   "source": [
    "Babel (ORA)"
   ]
  },
  {
   "cell_type": "code",
   "execution_count": 580,
   "id": "ecb4b18f",
   "metadata": {},
   "outputs": [],
   "source": [
    "RNA_data_pred_babel = sc.read_h5ad('/workspace/babel/mymodel/atac_rna_test_preds_pp.h5ad')"
   ]
  },
  {
   "cell_type": "code",
   "execution_count": 581,
   "id": "e27ef9ea",
   "metadata": {},
   "outputs": [],
   "source": [
    "RNA_data_pred_babel.obs['group'] = RNA_data_pred_babel.obs['Cell Types'].map(\n",
    "    lambda x: 'B' if x in ['B'] else ('LYM' if x in ['Tumor B', 'Tumor B cycling'] else None)\n",
    ")\n",
    "data_gsea_pred_babel = RNA_data_pred_babel[RNA_data_pred_babel.obs['group'].isin(['B','LYM'])].copy()"
   ]
  },
  {
   "cell_type": "code",
   "execution_count": 579,
   "id": "cd4587a8",
   "metadata": {},
   "outputs": [],
   "source": [
    "data_gsea_pred_babel = data_gsea_pred_babel[:, data_gsea_pred_babel.var['highly_variable']].copy()"
   ]
  },
  {
   "cell_type": "code",
   "execution_count": 582,
   "id": "40275f1a",
   "metadata": {},
   "outputs": [],
   "source": [
    "sc.pp.log1p(data_gsea_pred_babel)\n",
    "sc.tl.rank_genes_groups(\n",
    "    data_gsea_pred_babel,\n",
    "    groupby='group',\n",
    "    groups=['LYM'],\n",
    "    reference='B',\n",
    "    method='wilcoxon',\n",
    "    pts=True\n",
    ")\n",
    "de_pred_babel = sc.get.rank_genes_groups_df(data_gsea_pred_babel, group='LYM')\n",
    "de_pred_babel['neg_log10_padj'] = -np.log10(de_pred_babel['pvals_adj'].replace(0, np.nan))"
   ]
  },
  {
   "cell_type": "code",
   "execution_count": 583,
   "id": "1702e3a0",
   "metadata": {},
   "outputs": [],
   "source": [
    "deg_list_pred_babel = de_pred_babel[(de_pred_babel[\"pvals_adj\"] < 0.05) & (abs(de_pred_babel[\"logfoldchanges\"]) > 1)]['names'].tolist()"
   ]
  },
  {
   "cell_type": "code",
   "execution_count": 584,
   "id": "f9d7a754",
   "metadata": {},
   "outputs": [],
   "source": [
    "enr_pred_babel = gp.enrichr(\n",
    "    gene_list=deg_list_pred_babel,\n",
    "    gene_sets='MSigDB_Hallmark_2020',  # or 'GO_Biological_Process_2021', 'Reactome_2022', etc.\n",
    "    organism='Human',\n",
    "    background=list(data_gsea_pred_babel.var_names),          \n",
    "    outdir=None,     # optional\n",
    "    cutoff=0.01                   # p-value cutoff\n",
    ")"
   ]
  },
  {
   "cell_type": "code",
   "execution_count": 585,
   "id": "9d6a56ff",
   "metadata": {},
   "outputs": [
    {
     "data": {
      "application/vnd.microsoft.datawrangler.viewer.v0+json": {
       "columns": [
        {
         "name": "index",
         "rawType": "int64",
         "type": "integer"
        },
        {
         "name": "Gene_set",
         "rawType": "object",
         "type": "string"
        },
        {
         "name": "Term",
         "rawType": "object",
         "type": "string"
        },
        {
         "name": "P-value",
         "rawType": "float64",
         "type": "float"
        },
        {
         "name": "Adjusted P-value",
         "rawType": "float64",
         "type": "float"
        },
        {
         "name": "Old P-value",
         "rawType": "int64",
         "type": "integer"
        },
        {
         "name": "Old adjusted P-value",
         "rawType": "int64",
         "type": "integer"
        },
        {
         "name": "Odds Ratio",
         "rawType": "float64",
         "type": "float"
        },
        {
         "name": "Combined Score",
         "rawType": "float64",
         "type": "float"
        },
        {
         "name": "Genes",
         "rawType": "object",
         "type": "string"
        }
       ],
       "conversionMethod": "pd.DataFrame",
       "ref": "dcc063fd-b4a0-4120-b776-a3ba1ffc2658",
       "rows": [
        [
         "0",
         "MSigDB_Hallmark_2020",
         "Inflammatory Response",
         "2.0760716146109884e-14",
         "1.0380358073054943e-12",
         "0",
         "0",
         "3.0766812227074234",
         "96.93303818188194",
         "NPFFR2;IFITM1;CDKN1A;CXCL9;CSF1;TNFAIP6;AQP9;ICAM4;AHR;SLC4A4;CX3CL1;BEST1;ADGRE1;GPR132;IL18RAP;RGS1;LAMP3;CLEC5A;C3AR1;TNFSF10;PROK2;BDKRB1;FFAR2;ROS1;SCARF1;ICOSLG;CMKLR1;EDN1;PTGIR;IL4R;IL1R1;IL15;PLAUR;GP1BA;EMP3;OSMR;TNFRSF1B;F3;EREG;TLR1;MMP14;IL1B;IRF1;APLNR;IRF7;LCP2;ITGA5;MET;TLR3;LY6E;CALCRL;PTGER2;PTAFR;FPR1;LPAR1;KCNA3;CXCR6;SGMS2;MEFV;ACVR1B;RASGRP1;SLC7A2;PIK3R5;GNA15;CCL5;P2RY2;NLRP3;CCL2;CD14;LDLR;CCL17;KCNJ2;SLAMF1;ABCA1;MSR1;FZD5;GCH1;SLC31A2;CCL20;TPBG;LIF;OSM;EIF2AK2;BST2;P2RX7;CXCL10;CXCL11;IL6;KLF6;SELL;GPR183;IL2RB;NMUR1;IL7R;MXD1;IL18R1"
        ],
        [
         "1",
         "MSigDB_Hallmark_2020",
         "Interferon Gamma Response",
         "4.109474824572224e-13",
         "1.027368706143056e-11",
         "0",
         "0",
         "2.895574077874587",
         "82.58267313327737",
         "IFITM3;LGALS3BP;CDKN1A;CXCL9;IFITM2;BTG1;EIF4E3;TNFAIP6;TNFAIP2;SECTM1;IFI35;IFIT1;IFI30;IFIT3;IFI44L;IFIT2;OASL;IFIH1;MT2A;DHX58;TNFSF10;EPSTI1;CASP1;CD38;ITGB7;UPP1;HERC6;CMKLR1;GBP6;ZBP1;BATF2;IL4R;RSAD2;SP110;IL15;DDX58;PLA2G4A;HLA-G;LATS2;BANK1;IRF1;OAS3;PSME1;PELI1;IRF7;TRIM14;SERPING1;TXNIP;CMPK2;IRF8;XCL1;LCP2;VAMP5;IDO1;LY6E;CD274;CFH;FGL2;FPR1;CSF2RB;PTGS2;DDX60;SAMHD1;USP18;HELZ2;SOCS3;HLA-DMA;KLRK1;APOL6;SOCS1;CCL5;STAT4;CCL2;FCGR1A;GBP4;VCAM1;GCH1;STAT1;STAT2;P2RY14;GZMA;MX1;EIF2AK2;IFI44;PARP14;BST2;SELP;CXCL10;CXCL11;IL6;IL7;IL2RB;SSPN;XAF1"
        ],
        [
         "2",
         "MSigDB_Hallmark_2020",
         "TNF-alpha Signaling via NF-kB",
         "3.593442437546027e-11",
         "5.98907072924338e-10",
         "0",
         "0",
         "2.643402835696414",
         "63.57205491567135",
         "CDKN1A;BTG1;CD83;CSF2;CSF1;TNFAIP6;CD80;PLEK;TNFAIP2;SLC2A3;AREG;TNF;CXCL2;ETS2;IFIT2;IFIH1;CCND1;PLAU;PMEPA1;DENND5A;CCN1;CCNL1;JUNB;IER2;ICOSLG;IER3;DUSP5;EDN1;SERPINB2;TSC22D1;DUSP1;DDX58;PLAUR;FOS;F3;RHOB;IL23A;IL1B;IRF1;SIK1;PLPP3;B4GALT5;CEBPB;SDC4;BCL2A1;CEBPD;PTGS2;SOCS3;DRAM1;CCL5;CCL4;CCL2;PDLIM5;LDLR;STAT5A;ABCA1;EGR1;JUN;EGR3;JAG1;SMAD3;GADD45B;GCH1;LAMB3;GADD45A;CCL20;PLK2;LIF;G0S2;KLF4;PNRC1;KLF2;FOSL2;EIF1;VEGFA;CXCL10;SPSB1;IL6;CXCL11;KLF6;ID2;GPR183;CLCF1;MAFF;BHLHE40;F2RL1;FOSB;ACKR3;IL7R;MXD1"
        ],
        [
         "3",
         "MSigDB_Hallmark_2020",
         "Allograft Rejection",
         "2.413297407766028e-10",
         "3.0166217597075353e-09",
         "0",
         "0",
         "2.609590200948295",
         "57.78900156400587",
         "ITK;CXCL9;DYRK3;SPI1;CSF1;CD80;GPR65;NCF4;ITGB2;PRF1;UBE2D1;CD3G;FASLG;CD3E;RPL9;CD3D;TNF;MRPL3;IL18RAP;RPS19;CCR5;ICOSLG;CCR2;TPD52;IL4R;IFNGR1;IL15;F2R;RPS3A;HLA-G;MMP9;HLA-E;EREG;TLR1;FGR;CD8B;CD8A;IL1B;IRF7;IRF8;LCP2;TLR6;LTB;BCAT1;TLR3;GCNT1;CD1D;THY1;HDAC9;HLA-DMA;SOCS1;CCL5;CCL4;STAT4;NLRP3;CCL2;CCL19;IL12RB1;GBP2;CCR1;FYB1;TGFB1;STAT1;CDKN2A;TRAT1;GZMA;CRTAM;LIF;GZMB;INHBB;RPL3L;IL2;IL4;CD2;IL6;CD4;IL7;CD7;IL2RB;CD28;KLRD1;DEGS1;CD247;EIF3D"
        ],
        [
         "4",
         "MSigDB_Hallmark_2020",
         "Interferon Alpha Response",
         "8.07394343817886e-09",
         "8.07394343817886e-08",
         "0",
         "0",
         "3.3289775891315116",
         "62.03424507856852",
         "IFITM3;LGALS3BP;IFITM1;IFITM2;CSF1;IFI35;IFI30;IFIT3;IFI44L;IFIT2;OASL;IFIH1;NUB1;TRIM5;LAMP3;DHX58;EPSTI1;CASP1;HERC6;BATF2;IL4R;RSAD2;SP110;IL15;TENT5A;PARP9;IRF1;PSME1;IRF7;CMPK2;TRIM14;TXNIP;LY6E;GMPR;DDX60;USP18;HELZ2;GBP2;GBP4;STAT2;MX1;IFI44;EIF2AK2;PARP14;BST2;CXCL10;CXCL11;SELL;IL7"
        ],
        [
         "5",
         "MSigDB_Hallmark_2020",
         "IL-6/JAK/STAT3 Signaling",
         "5.1382583086184696e-08",
         "4.281881923848725e-07",
         "0",
         "0",
         "3.4368615236294193",
         "57.68416892646567",
         "ACVRL1;CXCL9;CSF2;CSF1;CSF2RB;ACVR1B;TNF;PIK3R5;SOCS3;SOCS1;PDGFC;CD38;CD14;A2M;IL12RB1;CCR1;JUN;IL4R;TGFB1;TNFRSF12A;ITGA4;IL1R1;IFNGR1;STAT1;IL1R2;STAT2;DNTT;OSMR;TNFRSF1B;IL17RB;TNFRSF1A;INHBE;CXCL10;IL6;CXCL11;IL7;IL1B;IRF1;CD9;LTB;LTBR;IL18R1"
        ],
        [
         "6",
         "MSigDB_Hallmark_2020",
         "Complement",
         "3.4739630727099654e-07",
         "2.4814021947928328e-06",
         "0",
         "0",
         "2.149005834773245",
         "31.96173314734854",
         "FCN1;DGKG;DOCK4;SERPINA1;ITGAM;DYRK2;CPQ;PLEK;CLU;CTSO;PCLO;GNGT2;CASP10;HNF4A;TIMP2;CASP1;ME1;CTSH;PRSS3;CTSD;DUSP5;SERPINB2;FCER1G;CR1;PLAUR;PLA2G4A;GP1BA;HPCAL4;F3;ADRA2B;DUSP6;F5;MMP14;MMP15;IRF1;IRF7;SERPING1;ADAM9;CDH13;LCP2;ANG;S100A9;L3MBTL4;LTF;C1QA;CEBPB;KLK1;CFH;LRP1;SRC;PDGFB;PLG;GATA3;ITIH1;RASGRP1;PIK3R5;C3;DPP4;C9;SPOCK2;CCL5;S100A12;FYN;RCE1;APOBEC3F;GCA;KCNIP2;GZMA;TFPI2;GZMB;GZMK;IL6;MAFF;CALM3;KLKB1;LGMN;CDK5R1;HSPA1A"
        ],
        [
         "7",
         "MSigDB_Hallmark_2020",
         "Epithelial Mesenchymal Transition",
         "5.920945666028174e-07",
         "3.7005910412676084e-06",
         "0",
         "0",
         "2.1211977364821157",
         "30.41712594617421",
         "OXTR;SPARC;COL16A1;LAMC1;AREG;FGF2;MYLK;LOXL2;COMP;CDH6;GLIPR1;EFEMP2;LGALS1;ANPEP;DPYSL3;TIMP3;PMEPA1;CCN1;PRSS2;TGM2;TNFRSF12A;DST;IL15;MMP1;IGFBP3;TPM2;IGFBP2;PLAUR;EMP3;DCN;RHOB;MMP14;VCAN;COL6A2;ADAM12;COL6A3;ITGA5;MYL9;SCG2;PFN2;FBN2;NOTCH2;TAGLN;SDC4;PCOLCE2;LRP1;LAMA1;TNFRSF11B;THY1;THBS2;FBLN5;NT5E;CALD1;SERPINH1;SPP1;MSX1;MEST;IL32;JUN;VCAM1;TGFB1;GADD45B;GADD45A;TFPI2;VEGFA;MFAP5;COL3A1;IL6;COL1A2;CXCL12;FAP;ID2;COL5A2;MGP;SDC1;VIM;SNTB1"
        ],
        [
         "8",
         "MSigDB_Hallmark_2020",
         "KRAS Signaling Up",
         "7.88793391976563e-07",
         "4.382185510980905e-06",
         "0",
         "0",
         "2.111679784502715",
         "29.674932188058545",
         "NRP1;SNAP25;SPON1;ADAMDEC1;PTPRR;MTMR10;PLVAP;CSF2;CAB39L;ITGB2;PRDM1;TMEM100;ADGRA2;KIF5C;PLAU;C3AR1;CMKLR1;ST6GAL1;GUCY1A1;FCER1G;PEG3;MMD;IGFBP3;VWA5A;PLAUR;ANXA10;ETV1;PDCD1LG2;TNFRSF1B;MMP9;DUSP6;EREG;CLEC4A;ALDH1A3;PCP4;IL1B;TNNT2;ALDH1A2;HKDC1;PECAM1;SPARCL1;IRF8;TRIB2;CFH;CXCR4;PTGS2;TFPI;HDAC9;RELN;EPB41L3;SPP1;PLEK2;MPZL2;CBX8;ACE;JUP;GALNT3;CCL20;TMEM176B;TMEM176A;CIDEA;LIF;G0S2;WNT7A;KLF4;GNG11;CXCL10;MAFB;DNMBP;CFHR2;ID2;ITGBL1;F2RL1;CPE;ADGRL4;IL7R"
        ],
        [
         "9",
         "MSigDB_Hallmark_2020",
         "IL-2/STAT5 Signaling",
         "1.59907706950655e-06",
         "7.99538534753275e-06",
         "0",
         "0",
         "2.0577592006169296",
         "27.46302699238967",
         "IFITM3;CDKN1C;CYFIP1;NRP1;CD83;CSF2;GUCY1B1;CSF1;GPR65;RORA;SLC2A3;PTH1R;AHR;IKZF2;IGF1R;GLIPR2;SCN9A;NFKBIZ;TNFSF10;TNFSF11;ENPP1;DENND5A;TNFRSF4;WLS;TGM2;EOMES;PRKCH;IL4R;CISH;IFNGR1;IL1R2;ANXA4;TNFRSF18;FLT3LG;TNFRSF1B;RHOB;CDCP1;COL6A1;IRF8;ITGA6;LTB;IRF6;ITIH5;PTGER2;FGL2;FURIN;CST7;COCH;SOCS2;IL1RL1;NT5E;SOCS1;SPP1;LRRC8C;MAP6;ICOS;GBP4;GADD45B;PTCH1;SPRY4;LIF;HOPX;TTC39B;SELP;CXCL10;MYO1E;KLF6;SELL;BHLHE40;MAFF;IL2RB;BCL2;GALM;MXD1;DRC1;IL18R1"
        ],
        [
         "10",
         "MSigDB_Hallmark_2020",
         "Coagulation",
         "2.088761699893583e-06",
         "9.49437136315265e-06",
         "0",
         "0",
         "2.3522198785229613",
         "30.76454067195265",
         "SPARC;SERPINA1;CPQ;PLEK;CLU;DUSP14;COMP;THBD;CTSO;C8G;PLAU;HNF4A;CAPN2;CTSH;TIMP3;ANXA1;SERPINB2;VWF;MMP1;GP1BA;MMP9;F3;DUSP6;MMP14;ACOX2;MMP15;PECAM1;SERPING1;ADAM9;MASP2;ANG;RAPGEF3;CFD;C1QA;CPB2;CFH;LRP1;CFI;PDGFB;PLG;FURIN;CRIP2;ITIH1;C3;DPP4;C9;P2RY1;FYN;A2M;TFPI2;KLF7;MAFF;CD9;F13B;KLKB1;LGMN"
        ],
        [
         "11",
         "MSigDB_Hallmark_2020",
         "Myogenesis",
         "6.770451675168179e-06",
         "2.821021531320075e-05",
         "0",
         "0",
         "1.9695882732478425",
         "23.443896469567367",
         "APP;VIPR1;CDKN1A;SPARC;SCHIP1;HSPB2;LSP1;FGF2;CLU;MYOM2;MYLK;CSRP3;MB;GJA5;SPEG;LARGE1;EPHB3;TEAD4;MYBPC3;GABARAPL2;ACTN3;GAA;TPM2;IGFBP3;ACTA1;PTP4A3;MRAS;PPP1R3C;MYL1;MYL2;TNNT2;COL6A2;ADAM12;APLNR;CASQ2;COL6A3;MYH9;CDH13;MAPRE3;MYH7;CFD;TAGLN;CTF1;PSEN2;CACNA1H;CNN3;ABLIM1;EFS;CHRNG;STC2;TNNI2;NCAM1;CKB;CACNG1;SH3BGR;PDLIM7;SVIL;DTNA;TGFB1;GADD45B;CKM;MAPK12;REEP1;GNAO1;SMTN;COL3A1;PKIA;FXYD1;BHLHE40;SSPN;TCAP;PLXNB2;LPIN1;PFKM"
        ],
        [
         "12",
         "MSigDB_Hallmark_2020",
         "Hedgehog Signaling",
         "3.537345947116299e-05",
         "0.00013605176719678073",
         "0",
         "0",
         "4.323252699709856",
         "44.31138931058965",
         "NRP1;TLE3;NRP2;RTN1;TLE1;PTCH1;PLG;UNC5C;THY1;ETS2;VEGFA;ADGRG1;HEY1;DPYSL2;HEY2;MYH9;NRCAM;SCG2;CDK5R1"
        ],
        [
         "13",
         "MSigDB_Hallmark_2020",
         "Estrogen Response Early",
         "5.03838614471603e-05",
         "0.00017994236231128679",
         "0",
         "0",
         "1.8427705791146676",
         "18.23576215076437",
         "LAD1;CLIC3;WWC1;FHL2;AREG;TSKU;RAPGEFL1;IGF1R;CALB2;CYP26B1;DEPTOR;CCND1;TBC1D30;SYBU;TGM2;CISH;MYOF;KCNK15;FOS;CBFA2T3;RHOD;IL17RB;SLC7A5;OLFM1;RAB31;ELF3;MPPED2;MAPT;FOXC1;SLC24A3;PEX11A;TMPRSS3;RHOBTB3;ASB13;ADCY1;ADD3;RASGRP1;PAPSS2;SLC7A2;UGCG;SYNGR1;ABLIM1;INPP5F;STC2;P2RY2;NRIP1;SH3BP5;FLNB;CA12;FARP1;SVIL;EGR3;OPN3;BCL11B;WFS1;ABCA3;TPBG;GREB1;INHBB;KLF4;TTC39A;REEP1;CXCL12;MLPH;SYT12;DLC1;BHLHE40;BCL2;CHPT1;RETREG1;FRK"
        ],
        [
         "14",
         "MSigDB_Hallmark_2020",
         "Apical Junction",
         "0.00046331741843250824",
         "0.0015443913947750275",
         "0",
         "0",
         "1.696535296499034",
         "13.024468019761287",
         "COL16A1;ICAM2;ICAM4;ICAM5;ADRA1B;CX3CL1;ACTG2;CDH6;CALB2;SGCE;ADAMTS5;CDH1;SIRPA;SPEG;LDLRAP1;AMH;ACTN3;SYK;VWF;ITGA3;ACTN1;RHOF;MMP9;VAV2;CLDN5;ACTA1;VCAN;CLDN14;CLDN19;PECAM1;ADAM9;MYH9;EVL;MYL9;DSC1;SKAP2;GRB7;CD274;NLGN2;SRC;WNK4;NEXN;ATP1A3;NRXN2;TNFRSF11B;THY1;GNAI1;LIMA1;RRAS;EPB41L2;PLCG1;FLNC;MPZL2;FYB1;VCAM1;JUP;LAMB3;NEGR1;LAYN;TJP1;PPP2R2C;COL9A1;CNTN1;NECTIN3;NECTIN2;CRB3;NECTIN1"
        ],
        [
         "15",
         "MSigDB_Hallmark_2020",
         "UV Response Dn",
         "0.000878520622360771",
         "0.0027453769448774093",
         "0",
         "0",
         "1.7869969335767382",
         "12.575582012435792",
         "NRP1;CDKN1B;CELF2;SCHIP1;FHL2;PTPRM;PTPN21;LAMC1;IGF1R;CCN1;DUSP1;ANXA4;PRKCA;F3;VAV2;INPP4B;PLCB4;MMP16;DDAH1;MAP1B;KCNMA1;KIT;PLPP3;MET;MT1E;NOTCH2;SDC2;GCNT1;LPAR1;TFPI;ADD3;KALRN;FBLN5;PRKAR2B;FYN;PDLIM5;LDLR;SMAD3;FZD2;ATP2B4;SYNJ2;CDC42BPA;SMAD7;TJP1;COL3A1;COL1A2;DLC1;COL5A2;BHLHE40;ID1;BMPR1A"
        ],
        [
         "16",
         "MSigDB_Hallmark_2020",
         "Angiogenesis",
         "0.003877577028306894",
         "0.011404638318549688",
         "0",
         "0",
         "2.6810996737398516",
         "14.886926045417585",
         "APP;NRP1;JAG1;PRG2;LPL;VEGFA;VAV2;THBD;VCAN;COL3A1;APOH;COL5A2;SLCO2A1;SPP1;S100A4;MSX1"
        ],
        [
         "17",
         "MSigDB_Hallmark_2020",
         "Estrogen Response Late",
         "0.006590177259413968",
         "0.018306047942816577",
         "0",
         "0",
         "1.4973222195377305",
         "7.519814266701032",
         "CLIC3;SERPINA1;ST6GALNAC2;AREG;RAPGEFL1;SLC2A8;CYP26B1;CCND1;CDH1;GPER1;LARGE1;UNC13B;CISH;MYOF;EMP2;LSR;FOS;PRLR;IL17RB;SLC7A5;OLFM1;PCP4;RAB31;ACOX2;MAPT;PKP3;S100A9;LTF;FOXC1;SLC24A3;TMPRSS3;PTGER3;ADD3;PAPSS2;PRKAR2B;NRIP1;FLNB;CKB;MEST;CA12;FARP1;ST14;EGR3;OPN3;WFS1;ABCA3;TPBG;TFPI2;ATP2B4;DNAJC12;CYP4F11;KLF4;CXCL12;ID2;DLG5;BCL2;CPE;CD9;PLXNB1;CHPT1;FGFR3;FRK"
        ],
        [
         "18",
         "MSigDB_Hallmark_2020",
         "Hypoxia",
         "0.00975268623855203",
         "0.025664963785663242",
         "0",
         "0",
         "1.4710702341137123",
         "6.811367816193336",
         "CDKN1C;ERRFI1;CDKN1A;BTG1;CDKN1B;RORA;SLC2A3;MT2A;KIF5A;PGM2;CCN1;LARGE1;IER3;TGM2;TPD52;DUSP1;GAA;IGFBP3;PLAUR;PRKCA;FOS;F3;DCN;HOXB9;PPP1R3C;DDIT4;MYH9;S100A4;ALDOB;MT1E;TMEM45A;SDC4;SDC2;PDGFB;NEDD4L;CXCR4;FOXO3;PLAC8;STC2;B4GALNT2;CA12;JUN;DTNA;TGFB3;TPBG;B3GALT6;PNRC1;HS3ST1;FOSL2;VEGFA;GRHPR;KLF7;IL6;KLF6;P4HA2;BHLHE40;MAFF;BCL2;ACKR3;INHA"
        ],
        [
         "19",
         "MSigDB_Hallmark_2020",
         "TGF-beta Signaling",
         "0.017173146643534042",
         "0.04293286660883511",
         "0",
         "0",
         "1.9294871794871795",
         "7.8422238166952845",
         "CDKN1C;BCAR3;ACVR1;SMAD1;TGFB1;SMAD3;SLC20A1;NOG;FURIN;SMAD6;SMAD7;SKI;TJP1;RAB31;CDH1;ID2;ID1;PMEPA1;JUNB;BMPR1A"
        ]
       ],
       "shape": {
        "columns": 9,
        "rows": 20
       }
      },
      "text/html": [
       "<div>\n",
       "<style scoped>\n",
       "    .dataframe tbody tr th:only-of-type {\n",
       "        vertical-align: middle;\n",
       "    }\n",
       "\n",
       "    .dataframe tbody tr th {\n",
       "        vertical-align: top;\n",
       "    }\n",
       "\n",
       "    .dataframe thead th {\n",
       "        text-align: right;\n",
       "    }\n",
       "</style>\n",
       "<table border=\"1\" class=\"dataframe\">\n",
       "  <thead>\n",
       "    <tr style=\"text-align: right;\">\n",
       "      <th></th>\n",
       "      <th>Gene_set</th>\n",
       "      <th>Term</th>\n",
       "      <th>P-value</th>\n",
       "      <th>Adjusted P-value</th>\n",
       "      <th>Old P-value</th>\n",
       "      <th>Old adjusted P-value</th>\n",
       "      <th>Odds Ratio</th>\n",
       "      <th>Combined Score</th>\n",
       "      <th>Genes</th>\n",
       "    </tr>\n",
       "  </thead>\n",
       "  <tbody>\n",
       "    <tr>\n",
       "      <th>0</th>\n",
       "      <td>MSigDB_Hallmark_2020</td>\n",
       "      <td>Inflammatory Response</td>\n",
       "      <td>2.076072e-14</td>\n",
       "      <td>1.038036e-12</td>\n",
       "      <td>0</td>\n",
       "      <td>0</td>\n",
       "      <td>3.076681</td>\n",
       "      <td>96.933038</td>\n",
       "      <td>NPFFR2;IFITM1;CDKN1A;CXCL9;CSF1;TNFAIP6;AQP9;I...</td>\n",
       "    </tr>\n",
       "    <tr>\n",
       "      <th>1</th>\n",
       "      <td>MSigDB_Hallmark_2020</td>\n",
       "      <td>Interferon Gamma Response</td>\n",
       "      <td>4.109475e-13</td>\n",
       "      <td>1.027369e-11</td>\n",
       "      <td>0</td>\n",
       "      <td>0</td>\n",
       "      <td>2.895574</td>\n",
       "      <td>82.582673</td>\n",
       "      <td>IFITM3;LGALS3BP;CDKN1A;CXCL9;IFITM2;BTG1;EIF4E...</td>\n",
       "    </tr>\n",
       "    <tr>\n",
       "      <th>2</th>\n",
       "      <td>MSigDB_Hallmark_2020</td>\n",
       "      <td>TNF-alpha Signaling via NF-kB</td>\n",
       "      <td>3.593442e-11</td>\n",
       "      <td>5.989071e-10</td>\n",
       "      <td>0</td>\n",
       "      <td>0</td>\n",
       "      <td>2.643403</td>\n",
       "      <td>63.572055</td>\n",
       "      <td>CDKN1A;BTG1;CD83;CSF2;CSF1;TNFAIP6;CD80;PLEK;T...</td>\n",
       "    </tr>\n",
       "    <tr>\n",
       "      <th>3</th>\n",
       "      <td>MSigDB_Hallmark_2020</td>\n",
       "      <td>Allograft Rejection</td>\n",
       "      <td>2.413297e-10</td>\n",
       "      <td>3.016622e-09</td>\n",
       "      <td>0</td>\n",
       "      <td>0</td>\n",
       "      <td>2.609590</td>\n",
       "      <td>57.789002</td>\n",
       "      <td>ITK;CXCL9;DYRK3;SPI1;CSF1;CD80;GPR65;NCF4;ITGB...</td>\n",
       "    </tr>\n",
       "    <tr>\n",
       "      <th>4</th>\n",
       "      <td>MSigDB_Hallmark_2020</td>\n",
       "      <td>Interferon Alpha Response</td>\n",
       "      <td>8.073943e-09</td>\n",
       "      <td>8.073943e-08</td>\n",
       "      <td>0</td>\n",
       "      <td>0</td>\n",
       "      <td>3.328978</td>\n",
       "      <td>62.034245</td>\n",
       "      <td>IFITM3;LGALS3BP;IFITM1;IFITM2;CSF1;IFI35;IFI30...</td>\n",
       "    </tr>\n",
       "    <tr>\n",
       "      <th>5</th>\n",
       "      <td>MSigDB_Hallmark_2020</td>\n",
       "      <td>IL-6/JAK/STAT3 Signaling</td>\n",
       "      <td>5.138258e-08</td>\n",
       "      <td>4.281882e-07</td>\n",
       "      <td>0</td>\n",
       "      <td>0</td>\n",
       "      <td>3.436862</td>\n",
       "      <td>57.684169</td>\n",
       "      <td>ACVRL1;CXCL9;CSF2;CSF1;CSF2RB;ACVR1B;TNF;PIK3R...</td>\n",
       "    </tr>\n",
       "    <tr>\n",
       "      <th>6</th>\n",
       "      <td>MSigDB_Hallmark_2020</td>\n",
       "      <td>Complement</td>\n",
       "      <td>3.473963e-07</td>\n",
       "      <td>2.481402e-06</td>\n",
       "      <td>0</td>\n",
       "      <td>0</td>\n",
       "      <td>2.149006</td>\n",
       "      <td>31.961733</td>\n",
       "      <td>FCN1;DGKG;DOCK4;SERPINA1;ITGAM;DYRK2;CPQ;PLEK;...</td>\n",
       "    </tr>\n",
       "    <tr>\n",
       "      <th>7</th>\n",
       "      <td>MSigDB_Hallmark_2020</td>\n",
       "      <td>Epithelial Mesenchymal Transition</td>\n",
       "      <td>5.920946e-07</td>\n",
       "      <td>3.700591e-06</td>\n",
       "      <td>0</td>\n",
       "      <td>0</td>\n",
       "      <td>2.121198</td>\n",
       "      <td>30.417126</td>\n",
       "      <td>OXTR;SPARC;COL16A1;LAMC1;AREG;FGF2;MYLK;LOXL2;...</td>\n",
       "    </tr>\n",
       "    <tr>\n",
       "      <th>8</th>\n",
       "      <td>MSigDB_Hallmark_2020</td>\n",
       "      <td>KRAS Signaling Up</td>\n",
       "      <td>7.887934e-07</td>\n",
       "      <td>4.382186e-06</td>\n",
       "      <td>0</td>\n",
       "      <td>0</td>\n",
       "      <td>2.111680</td>\n",
       "      <td>29.674932</td>\n",
       "      <td>NRP1;SNAP25;SPON1;ADAMDEC1;PTPRR;MTMR10;PLVAP;...</td>\n",
       "    </tr>\n",
       "    <tr>\n",
       "      <th>9</th>\n",
       "      <td>MSigDB_Hallmark_2020</td>\n",
       "      <td>IL-2/STAT5 Signaling</td>\n",
       "      <td>1.599077e-06</td>\n",
       "      <td>7.995385e-06</td>\n",
       "      <td>0</td>\n",
       "      <td>0</td>\n",
       "      <td>2.057759</td>\n",
       "      <td>27.463027</td>\n",
       "      <td>IFITM3;CDKN1C;CYFIP1;NRP1;CD83;CSF2;GUCY1B1;CS...</td>\n",
       "    </tr>\n",
       "    <tr>\n",
       "      <th>10</th>\n",
       "      <td>MSigDB_Hallmark_2020</td>\n",
       "      <td>Coagulation</td>\n",
       "      <td>2.088762e-06</td>\n",
       "      <td>9.494371e-06</td>\n",
       "      <td>0</td>\n",
       "      <td>0</td>\n",
       "      <td>2.352220</td>\n",
       "      <td>30.764541</td>\n",
       "      <td>SPARC;SERPINA1;CPQ;PLEK;CLU;DUSP14;COMP;THBD;C...</td>\n",
       "    </tr>\n",
       "    <tr>\n",
       "      <th>11</th>\n",
       "      <td>MSigDB_Hallmark_2020</td>\n",
       "      <td>Myogenesis</td>\n",
       "      <td>6.770452e-06</td>\n",
       "      <td>2.821022e-05</td>\n",
       "      <td>0</td>\n",
       "      <td>0</td>\n",
       "      <td>1.969588</td>\n",
       "      <td>23.443896</td>\n",
       "      <td>APP;VIPR1;CDKN1A;SPARC;SCHIP1;HSPB2;LSP1;FGF2;...</td>\n",
       "    </tr>\n",
       "    <tr>\n",
       "      <th>12</th>\n",
       "      <td>MSigDB_Hallmark_2020</td>\n",
       "      <td>Hedgehog Signaling</td>\n",
       "      <td>3.537346e-05</td>\n",
       "      <td>1.360518e-04</td>\n",
       "      <td>0</td>\n",
       "      <td>0</td>\n",
       "      <td>4.323253</td>\n",
       "      <td>44.311389</td>\n",
       "      <td>NRP1;TLE3;NRP2;RTN1;TLE1;PTCH1;PLG;UNC5C;THY1;...</td>\n",
       "    </tr>\n",
       "    <tr>\n",
       "      <th>13</th>\n",
       "      <td>MSigDB_Hallmark_2020</td>\n",
       "      <td>Estrogen Response Early</td>\n",
       "      <td>5.038386e-05</td>\n",
       "      <td>1.799424e-04</td>\n",
       "      <td>0</td>\n",
       "      <td>0</td>\n",
       "      <td>1.842771</td>\n",
       "      <td>18.235762</td>\n",
       "      <td>LAD1;CLIC3;WWC1;FHL2;AREG;TSKU;RAPGEFL1;IGF1R;...</td>\n",
       "    </tr>\n",
       "    <tr>\n",
       "      <th>14</th>\n",
       "      <td>MSigDB_Hallmark_2020</td>\n",
       "      <td>Apical Junction</td>\n",
       "      <td>4.633174e-04</td>\n",
       "      <td>1.544391e-03</td>\n",
       "      <td>0</td>\n",
       "      <td>0</td>\n",
       "      <td>1.696535</td>\n",
       "      <td>13.024468</td>\n",
       "      <td>COL16A1;ICAM2;ICAM4;ICAM5;ADRA1B;CX3CL1;ACTG2;...</td>\n",
       "    </tr>\n",
       "    <tr>\n",
       "      <th>15</th>\n",
       "      <td>MSigDB_Hallmark_2020</td>\n",
       "      <td>UV Response Dn</td>\n",
       "      <td>8.785206e-04</td>\n",
       "      <td>2.745377e-03</td>\n",
       "      <td>0</td>\n",
       "      <td>0</td>\n",
       "      <td>1.786997</td>\n",
       "      <td>12.575582</td>\n",
       "      <td>NRP1;CDKN1B;CELF2;SCHIP1;FHL2;PTPRM;PTPN21;LAM...</td>\n",
       "    </tr>\n",
       "    <tr>\n",
       "      <th>16</th>\n",
       "      <td>MSigDB_Hallmark_2020</td>\n",
       "      <td>Angiogenesis</td>\n",
       "      <td>3.877577e-03</td>\n",
       "      <td>1.140464e-02</td>\n",
       "      <td>0</td>\n",
       "      <td>0</td>\n",
       "      <td>2.681100</td>\n",
       "      <td>14.886926</td>\n",
       "      <td>APP;NRP1;JAG1;PRG2;LPL;VEGFA;VAV2;THBD;VCAN;CO...</td>\n",
       "    </tr>\n",
       "    <tr>\n",
       "      <th>17</th>\n",
       "      <td>MSigDB_Hallmark_2020</td>\n",
       "      <td>Estrogen Response Late</td>\n",
       "      <td>6.590177e-03</td>\n",
       "      <td>1.830605e-02</td>\n",
       "      <td>0</td>\n",
       "      <td>0</td>\n",
       "      <td>1.497322</td>\n",
       "      <td>7.519814</td>\n",
       "      <td>CLIC3;SERPINA1;ST6GALNAC2;AREG;RAPGEFL1;SLC2A8...</td>\n",
       "    </tr>\n",
       "    <tr>\n",
       "      <th>18</th>\n",
       "      <td>MSigDB_Hallmark_2020</td>\n",
       "      <td>Hypoxia</td>\n",
       "      <td>9.752686e-03</td>\n",
       "      <td>2.566496e-02</td>\n",
       "      <td>0</td>\n",
       "      <td>0</td>\n",
       "      <td>1.471070</td>\n",
       "      <td>6.811368</td>\n",
       "      <td>CDKN1C;ERRFI1;CDKN1A;BTG1;CDKN1B;RORA;SLC2A3;M...</td>\n",
       "    </tr>\n",
       "    <tr>\n",
       "      <th>19</th>\n",
       "      <td>MSigDB_Hallmark_2020</td>\n",
       "      <td>TGF-beta Signaling</td>\n",
       "      <td>1.717315e-02</td>\n",
       "      <td>4.293287e-02</td>\n",
       "      <td>0</td>\n",
       "      <td>0</td>\n",
       "      <td>1.929487</td>\n",
       "      <td>7.842224</td>\n",
       "      <td>CDKN1C;BCAR3;ACVR1;SMAD1;TGFB1;SMAD3;SLC20A1;N...</td>\n",
       "    </tr>\n",
       "  </tbody>\n",
       "</table>\n",
       "</div>"
      ],
      "text/plain": [
       "                Gene_set                               Term       P-value  \\\n",
       "0   MSigDB_Hallmark_2020              Inflammatory Response  2.076072e-14   \n",
       "1   MSigDB_Hallmark_2020          Interferon Gamma Response  4.109475e-13   \n",
       "2   MSigDB_Hallmark_2020      TNF-alpha Signaling via NF-kB  3.593442e-11   \n",
       "3   MSigDB_Hallmark_2020                Allograft Rejection  2.413297e-10   \n",
       "4   MSigDB_Hallmark_2020          Interferon Alpha Response  8.073943e-09   \n",
       "5   MSigDB_Hallmark_2020           IL-6/JAK/STAT3 Signaling  5.138258e-08   \n",
       "6   MSigDB_Hallmark_2020                         Complement  3.473963e-07   \n",
       "7   MSigDB_Hallmark_2020  Epithelial Mesenchymal Transition  5.920946e-07   \n",
       "8   MSigDB_Hallmark_2020                  KRAS Signaling Up  7.887934e-07   \n",
       "9   MSigDB_Hallmark_2020               IL-2/STAT5 Signaling  1.599077e-06   \n",
       "10  MSigDB_Hallmark_2020                        Coagulation  2.088762e-06   \n",
       "11  MSigDB_Hallmark_2020                         Myogenesis  6.770452e-06   \n",
       "12  MSigDB_Hallmark_2020                 Hedgehog Signaling  3.537346e-05   \n",
       "13  MSigDB_Hallmark_2020            Estrogen Response Early  5.038386e-05   \n",
       "14  MSigDB_Hallmark_2020                    Apical Junction  4.633174e-04   \n",
       "15  MSigDB_Hallmark_2020                     UV Response Dn  8.785206e-04   \n",
       "16  MSigDB_Hallmark_2020                       Angiogenesis  3.877577e-03   \n",
       "17  MSigDB_Hallmark_2020             Estrogen Response Late  6.590177e-03   \n",
       "18  MSigDB_Hallmark_2020                            Hypoxia  9.752686e-03   \n",
       "19  MSigDB_Hallmark_2020                 TGF-beta Signaling  1.717315e-02   \n",
       "\n",
       "    Adjusted P-value  Old P-value  Old adjusted P-value  Odds Ratio  \\\n",
       "0       1.038036e-12            0                     0    3.076681   \n",
       "1       1.027369e-11            0                     0    2.895574   \n",
       "2       5.989071e-10            0                     0    2.643403   \n",
       "3       3.016622e-09            0                     0    2.609590   \n",
       "4       8.073943e-08            0                     0    3.328978   \n",
       "5       4.281882e-07            0                     0    3.436862   \n",
       "6       2.481402e-06            0                     0    2.149006   \n",
       "7       3.700591e-06            0                     0    2.121198   \n",
       "8       4.382186e-06            0                     0    2.111680   \n",
       "9       7.995385e-06            0                     0    2.057759   \n",
       "10      9.494371e-06            0                     0    2.352220   \n",
       "11      2.821022e-05            0                     0    1.969588   \n",
       "12      1.360518e-04            0                     0    4.323253   \n",
       "13      1.799424e-04            0                     0    1.842771   \n",
       "14      1.544391e-03            0                     0    1.696535   \n",
       "15      2.745377e-03            0                     0    1.786997   \n",
       "16      1.140464e-02            0                     0    2.681100   \n",
       "17      1.830605e-02            0                     0    1.497322   \n",
       "18      2.566496e-02            0                     0    1.471070   \n",
       "19      4.293287e-02            0                     0    1.929487   \n",
       "\n",
       "    Combined Score                                              Genes  \n",
       "0        96.933038  NPFFR2;IFITM1;CDKN1A;CXCL9;CSF1;TNFAIP6;AQP9;I...  \n",
       "1        82.582673  IFITM3;LGALS3BP;CDKN1A;CXCL9;IFITM2;BTG1;EIF4E...  \n",
       "2        63.572055  CDKN1A;BTG1;CD83;CSF2;CSF1;TNFAIP6;CD80;PLEK;T...  \n",
       "3        57.789002  ITK;CXCL9;DYRK3;SPI1;CSF1;CD80;GPR65;NCF4;ITGB...  \n",
       "4        62.034245  IFITM3;LGALS3BP;IFITM1;IFITM2;CSF1;IFI35;IFI30...  \n",
       "5        57.684169  ACVRL1;CXCL9;CSF2;CSF1;CSF2RB;ACVR1B;TNF;PIK3R...  \n",
       "6        31.961733  FCN1;DGKG;DOCK4;SERPINA1;ITGAM;DYRK2;CPQ;PLEK;...  \n",
       "7        30.417126  OXTR;SPARC;COL16A1;LAMC1;AREG;FGF2;MYLK;LOXL2;...  \n",
       "8        29.674932  NRP1;SNAP25;SPON1;ADAMDEC1;PTPRR;MTMR10;PLVAP;...  \n",
       "9        27.463027  IFITM3;CDKN1C;CYFIP1;NRP1;CD83;CSF2;GUCY1B1;CS...  \n",
       "10       30.764541  SPARC;SERPINA1;CPQ;PLEK;CLU;DUSP14;COMP;THBD;C...  \n",
       "11       23.443896  APP;VIPR1;CDKN1A;SPARC;SCHIP1;HSPB2;LSP1;FGF2;...  \n",
       "12       44.311389  NRP1;TLE3;NRP2;RTN1;TLE1;PTCH1;PLG;UNC5C;THY1;...  \n",
       "13       18.235762  LAD1;CLIC3;WWC1;FHL2;AREG;TSKU;RAPGEFL1;IGF1R;...  \n",
       "14       13.024468  COL16A1;ICAM2;ICAM4;ICAM5;ADRA1B;CX3CL1;ACTG2;...  \n",
       "15       12.575582  NRP1;CDKN1B;CELF2;SCHIP1;FHL2;PTPRM;PTPN21;LAM...  \n",
       "16       14.886926  APP;NRP1;JAG1;PRG2;LPL;VEGFA;VAV2;THBD;VCAN;CO...  \n",
       "17        7.519814  CLIC3;SERPINA1;ST6GALNAC2;AREG;RAPGEFL1;SLC2A8...  \n",
       "18        6.811368  CDKN1C;ERRFI1;CDKN1A;BTG1;CDKN1B;RORA;SLC2A3;M...  \n",
       "19        7.842224  CDKN1C;BCAR3;ACVR1;SMAD1;TGFB1;SMAD3;SLC20A1;N...  "
      ]
     },
     "execution_count": 585,
     "metadata": {},
     "output_type": "execute_result"
    }
   ],
   "source": [
    "enr_pred_babel.results[enr_pred_babel.results['Adjusted P-value'] < 0.05]"
   ]
  },
  {
   "cell_type": "code",
   "execution_count": 586,
   "id": "dec82d5f",
   "metadata": {},
   "outputs": [
    {
     "data": {
      "application/vnd.microsoft.datawrangler.viewer.v0+json": {
       "columns": [
        {
         "name": "index",
         "rawType": "int64",
         "type": "integer"
        },
        {
         "name": "Gene_set",
         "rawType": "object",
         "type": "string"
        },
        {
         "name": "Term",
         "rawType": "object",
         "type": "string"
        },
        {
         "name": "P-value",
         "rawType": "float64",
         "type": "float"
        },
        {
         "name": "Adjusted P-value",
         "rawType": "float64",
         "type": "float"
        },
        {
         "name": "Old P-value",
         "rawType": "int64",
         "type": "integer"
        },
        {
         "name": "Old adjusted P-value",
         "rawType": "int64",
         "type": "integer"
        },
        {
         "name": "Odds Ratio",
         "rawType": "float64",
         "type": "float"
        },
        {
         "name": "Combined Score",
         "rawType": "float64",
         "type": "float"
        },
        {
         "name": "Genes",
         "rawType": "object",
         "type": "string"
        }
       ],
       "conversionMethod": "pd.DataFrame",
       "ref": "3567302d-7b8a-4c34-bb6b-f3cdc3131f5b",
       "rows": [
        [
         "0",
         "MSigDB_Hallmark_2020",
         "Inflammatory Response",
         "2.0760716146109884e-14",
         "1.0380358073054943e-12",
         "0",
         "0",
         "3.0766812227074234",
         "96.93303818188194",
         "NPFFR2;IFITM1;CDKN1A;CXCL9;CSF1;TNFAIP6;AQP9;ICAM4;AHR;SLC4A4;CX3CL1;BEST1;ADGRE1;GPR132;IL18RAP;RGS1;LAMP3;CLEC5A;C3AR1;TNFSF10;PROK2;BDKRB1;FFAR2;ROS1;SCARF1;ICOSLG;CMKLR1;EDN1;PTGIR;IL4R;IL1R1;IL15;PLAUR;GP1BA;EMP3;OSMR;TNFRSF1B;F3;EREG;TLR1;MMP14;IL1B;IRF1;APLNR;IRF7;LCP2;ITGA5;MET;TLR3;LY6E;CALCRL;PTGER2;PTAFR;FPR1;LPAR1;KCNA3;CXCR6;SGMS2;MEFV;ACVR1B;RASGRP1;SLC7A2;PIK3R5;GNA15;CCL5;P2RY2;NLRP3;CCL2;CD14;LDLR;CCL17;KCNJ2;SLAMF1;ABCA1;MSR1;FZD5;GCH1;SLC31A2;CCL20;TPBG;LIF;OSM;EIF2AK2;BST2;P2RX7;CXCL10;CXCL11;IL6;KLF6;SELL;GPR183;IL2RB;NMUR1;IL7R;MXD1;IL18R1"
        ],
        [
         "1",
         "MSigDB_Hallmark_2020",
         "Interferon Gamma Response",
         "4.109474824572224e-13",
         "1.027368706143056e-11",
         "0",
         "0",
         "2.895574077874587",
         "82.58267313327737",
         "IFITM3;LGALS3BP;CDKN1A;CXCL9;IFITM2;BTG1;EIF4E3;TNFAIP6;TNFAIP2;SECTM1;IFI35;IFIT1;IFI30;IFIT3;IFI44L;IFIT2;OASL;IFIH1;MT2A;DHX58;TNFSF10;EPSTI1;CASP1;CD38;ITGB7;UPP1;HERC6;CMKLR1;GBP6;ZBP1;BATF2;IL4R;RSAD2;SP110;IL15;DDX58;PLA2G4A;HLA-G;LATS2;BANK1;IRF1;OAS3;PSME1;PELI1;IRF7;TRIM14;SERPING1;TXNIP;CMPK2;IRF8;XCL1;LCP2;VAMP5;IDO1;LY6E;CD274;CFH;FGL2;FPR1;CSF2RB;PTGS2;DDX60;SAMHD1;USP18;HELZ2;SOCS3;HLA-DMA;KLRK1;APOL6;SOCS1;CCL5;STAT4;CCL2;FCGR1A;GBP4;VCAM1;GCH1;STAT1;STAT2;P2RY14;GZMA;MX1;EIF2AK2;IFI44;PARP14;BST2;SELP;CXCL10;CXCL11;IL6;IL7;IL2RB;SSPN;XAF1"
        ],
        [
         "2",
         "MSigDB_Hallmark_2020",
         "TNF-alpha Signaling via NF-kB",
         "3.593442437546027e-11",
         "5.98907072924338e-10",
         "0",
         "0",
         "2.643402835696414",
         "63.57205491567135",
         "CDKN1A;BTG1;CD83;CSF2;CSF1;TNFAIP6;CD80;PLEK;TNFAIP2;SLC2A3;AREG;TNF;CXCL2;ETS2;IFIT2;IFIH1;CCND1;PLAU;PMEPA1;DENND5A;CCN1;CCNL1;JUNB;IER2;ICOSLG;IER3;DUSP5;EDN1;SERPINB2;TSC22D1;DUSP1;DDX58;PLAUR;FOS;F3;RHOB;IL23A;IL1B;IRF1;SIK1;PLPP3;B4GALT5;CEBPB;SDC4;BCL2A1;CEBPD;PTGS2;SOCS3;DRAM1;CCL5;CCL4;CCL2;PDLIM5;LDLR;STAT5A;ABCA1;EGR1;JUN;EGR3;JAG1;SMAD3;GADD45B;GCH1;LAMB3;GADD45A;CCL20;PLK2;LIF;G0S2;KLF4;PNRC1;KLF2;FOSL2;EIF1;VEGFA;CXCL10;SPSB1;IL6;CXCL11;KLF6;ID2;GPR183;CLCF1;MAFF;BHLHE40;F2RL1;FOSB;ACKR3;IL7R;MXD1"
        ],
        [
         "3",
         "MSigDB_Hallmark_2020",
         "Allograft Rejection",
         "2.413297407766028e-10",
         "3.0166217597075353e-09",
         "0",
         "0",
         "2.609590200948295",
         "57.78900156400587",
         "ITK;CXCL9;DYRK3;SPI1;CSF1;CD80;GPR65;NCF4;ITGB2;PRF1;UBE2D1;CD3G;FASLG;CD3E;RPL9;CD3D;TNF;MRPL3;IL18RAP;RPS19;CCR5;ICOSLG;CCR2;TPD52;IL4R;IFNGR1;IL15;F2R;RPS3A;HLA-G;MMP9;HLA-E;EREG;TLR1;FGR;CD8B;CD8A;IL1B;IRF7;IRF8;LCP2;TLR6;LTB;BCAT1;TLR3;GCNT1;CD1D;THY1;HDAC9;HLA-DMA;SOCS1;CCL5;CCL4;STAT4;NLRP3;CCL2;CCL19;IL12RB1;GBP2;CCR1;FYB1;TGFB1;STAT1;CDKN2A;TRAT1;GZMA;CRTAM;LIF;GZMB;INHBB;RPL3L;IL2;IL4;CD2;IL6;CD4;IL7;CD7;IL2RB;CD28;KLRD1;DEGS1;CD247;EIF3D"
        ],
        [
         "4",
         "MSigDB_Hallmark_2020",
         "Interferon Alpha Response",
         "8.07394343817886e-09",
         "8.07394343817886e-08",
         "0",
         "0",
         "3.3289775891315116",
         "62.03424507856852",
         "IFITM3;LGALS3BP;IFITM1;IFITM2;CSF1;IFI35;IFI30;IFIT3;IFI44L;IFIT2;OASL;IFIH1;NUB1;TRIM5;LAMP3;DHX58;EPSTI1;CASP1;HERC6;BATF2;IL4R;RSAD2;SP110;IL15;TENT5A;PARP9;IRF1;PSME1;IRF7;CMPK2;TRIM14;TXNIP;LY6E;GMPR;DDX60;USP18;HELZ2;GBP2;GBP4;STAT2;MX1;IFI44;EIF2AK2;PARP14;BST2;CXCL10;CXCL11;SELL;IL7"
        ],
        [
         "5",
         "MSigDB_Hallmark_2020",
         "IL-6/JAK/STAT3 Signaling",
         "5.1382583086184696e-08",
         "4.281881923848725e-07",
         "0",
         "0",
         "3.4368615236294193",
         "57.68416892646567",
         "ACVRL1;CXCL9;CSF2;CSF1;CSF2RB;ACVR1B;TNF;PIK3R5;SOCS3;SOCS1;PDGFC;CD38;CD14;A2M;IL12RB1;CCR1;JUN;IL4R;TGFB1;TNFRSF12A;ITGA4;IL1R1;IFNGR1;STAT1;IL1R2;STAT2;DNTT;OSMR;TNFRSF1B;IL17RB;TNFRSF1A;INHBE;CXCL10;IL6;CXCL11;IL7;IL1B;IRF1;CD9;LTB;LTBR;IL18R1"
        ],
        [
         "6",
         "MSigDB_Hallmark_2020",
         "Complement",
         "3.4739630727099654e-07",
         "2.4814021947928328e-06",
         "0",
         "0",
         "2.149005834773245",
         "31.96173314734854",
         "FCN1;DGKG;DOCK4;SERPINA1;ITGAM;DYRK2;CPQ;PLEK;CLU;CTSO;PCLO;GNGT2;CASP10;HNF4A;TIMP2;CASP1;ME1;CTSH;PRSS3;CTSD;DUSP5;SERPINB2;FCER1G;CR1;PLAUR;PLA2G4A;GP1BA;HPCAL4;F3;ADRA2B;DUSP6;F5;MMP14;MMP15;IRF1;IRF7;SERPING1;ADAM9;CDH13;LCP2;ANG;S100A9;L3MBTL4;LTF;C1QA;CEBPB;KLK1;CFH;LRP1;SRC;PDGFB;PLG;GATA3;ITIH1;RASGRP1;PIK3R5;C3;DPP4;C9;SPOCK2;CCL5;S100A12;FYN;RCE1;APOBEC3F;GCA;KCNIP2;GZMA;TFPI2;GZMB;GZMK;IL6;MAFF;CALM3;KLKB1;LGMN;CDK5R1;HSPA1A"
        ],
        [
         "8",
         "MSigDB_Hallmark_2020",
         "KRAS Signaling Up",
         "7.88793391976563e-07",
         "4.382185510980905e-06",
         "0",
         "0",
         "2.111679784502715",
         "29.674932188058545",
         "NRP1;SNAP25;SPON1;ADAMDEC1;PTPRR;MTMR10;PLVAP;CSF2;CAB39L;ITGB2;PRDM1;TMEM100;ADGRA2;KIF5C;PLAU;C3AR1;CMKLR1;ST6GAL1;GUCY1A1;FCER1G;PEG3;MMD;IGFBP3;VWA5A;PLAUR;ANXA10;ETV1;PDCD1LG2;TNFRSF1B;MMP9;DUSP6;EREG;CLEC4A;ALDH1A3;PCP4;IL1B;TNNT2;ALDH1A2;HKDC1;PECAM1;SPARCL1;IRF8;TRIB2;CFH;CXCR4;PTGS2;TFPI;HDAC9;RELN;EPB41L3;SPP1;PLEK2;MPZL2;CBX8;ACE;JUP;GALNT3;CCL20;TMEM176B;TMEM176A;CIDEA;LIF;G0S2;WNT7A;KLF4;GNG11;CXCL10;MAFB;DNMBP;CFHR2;ID2;ITGBL1;F2RL1;CPE;ADGRL4;IL7R"
        ],
        [
         "9",
         "MSigDB_Hallmark_2020",
         "IL-2/STAT5 Signaling",
         "1.59907706950655e-06",
         "7.99538534753275e-06",
         "0",
         "0",
         "2.0577592006169296",
         "27.46302699238967",
         "IFITM3;CDKN1C;CYFIP1;NRP1;CD83;CSF2;GUCY1B1;CSF1;GPR65;RORA;SLC2A3;PTH1R;AHR;IKZF2;IGF1R;GLIPR2;SCN9A;NFKBIZ;TNFSF10;TNFSF11;ENPP1;DENND5A;TNFRSF4;WLS;TGM2;EOMES;PRKCH;IL4R;CISH;IFNGR1;IL1R2;ANXA4;TNFRSF18;FLT3LG;TNFRSF1B;RHOB;CDCP1;COL6A1;IRF8;ITGA6;LTB;IRF6;ITIH5;PTGER2;FGL2;FURIN;CST7;COCH;SOCS2;IL1RL1;NT5E;SOCS1;SPP1;LRRC8C;MAP6;ICOS;GBP4;GADD45B;PTCH1;SPRY4;LIF;HOPX;TTC39B;SELP;CXCL10;MYO1E;KLF6;SELL;BHLHE40;MAFF;IL2RB;BCL2;GALM;MXD1;DRC1;IL18R1"
        ],
        [
         "13",
         "MSigDB_Hallmark_2020",
         "Estrogen Response Early",
         "5.03838614471603e-05",
         "0.00017994236231128679",
         "0",
         "0",
         "1.8427705791146676",
         "18.23576215076437",
         "LAD1;CLIC3;WWC1;FHL2;AREG;TSKU;RAPGEFL1;IGF1R;CALB2;CYP26B1;DEPTOR;CCND1;TBC1D30;SYBU;TGM2;CISH;MYOF;KCNK15;FOS;CBFA2T3;RHOD;IL17RB;SLC7A5;OLFM1;RAB31;ELF3;MPPED2;MAPT;FOXC1;SLC24A3;PEX11A;TMPRSS3;RHOBTB3;ASB13;ADCY1;ADD3;RASGRP1;PAPSS2;SLC7A2;UGCG;SYNGR1;ABLIM1;INPP5F;STC2;P2RY2;NRIP1;SH3BP5;FLNB;CA12;FARP1;SVIL;EGR3;OPN3;BCL11B;WFS1;ABCA3;TPBG;GREB1;INHBB;KLF4;TTC39A;REEP1;CXCL12;MLPH;SYT12;DLC1;BHLHE40;BCL2;CHPT1;RETREG1;FRK"
        ],
        [
         "14",
         "MSigDB_Hallmark_2020",
         "Apical Junction",
         "0.00046331741843250824",
         "0.0015443913947750275",
         "0",
         "0",
         "1.696535296499034",
         "13.024468019761287",
         "COL16A1;ICAM2;ICAM4;ICAM5;ADRA1B;CX3CL1;ACTG2;CDH6;CALB2;SGCE;ADAMTS5;CDH1;SIRPA;SPEG;LDLRAP1;AMH;ACTN3;SYK;VWF;ITGA3;ACTN1;RHOF;MMP9;VAV2;CLDN5;ACTA1;VCAN;CLDN14;CLDN19;PECAM1;ADAM9;MYH9;EVL;MYL9;DSC1;SKAP2;GRB7;CD274;NLGN2;SRC;WNK4;NEXN;ATP1A3;NRXN2;TNFRSF11B;THY1;GNAI1;LIMA1;RRAS;EPB41L2;PLCG1;FLNC;MPZL2;FYB1;VCAM1;JUP;LAMB3;NEGR1;LAYN;TJP1;PPP2R2C;COL9A1;CNTN1;NECTIN3;NECTIN2;CRB3;NECTIN1"
        ],
        [
         "15",
         "MSigDB_Hallmark_2020",
         "UV Response Dn",
         "0.000878520622360771",
         "0.0027453769448774093",
         "0",
         "0",
         "1.7869969335767382",
         "12.575582012435792",
         "NRP1;CDKN1B;CELF2;SCHIP1;FHL2;PTPRM;PTPN21;LAMC1;IGF1R;CCN1;DUSP1;ANXA4;PRKCA;F3;VAV2;INPP4B;PLCB4;MMP16;DDAH1;MAP1B;KCNMA1;KIT;PLPP3;MET;MT1E;NOTCH2;SDC2;GCNT1;LPAR1;TFPI;ADD3;KALRN;FBLN5;PRKAR2B;FYN;PDLIM5;LDLR;SMAD3;FZD2;ATP2B4;SYNJ2;CDC42BPA;SMAD7;TJP1;COL3A1;COL1A2;DLC1;COL5A2;BHLHE40;ID1;BMPR1A"
        ],
        [
         "18",
         "MSigDB_Hallmark_2020",
         "Hypoxia",
         "0.00975268623855203",
         "0.025664963785663242",
         "0",
         "0",
         "1.4710702341137123",
         "6.811367816193336",
         "CDKN1C;ERRFI1;CDKN1A;BTG1;CDKN1B;RORA;SLC2A3;MT2A;KIF5A;PGM2;CCN1;LARGE1;IER3;TGM2;TPD52;DUSP1;GAA;IGFBP3;PLAUR;PRKCA;FOS;F3;DCN;HOXB9;PPP1R3C;DDIT4;MYH9;S100A4;ALDOB;MT1E;TMEM45A;SDC4;SDC2;PDGFB;NEDD4L;CXCR4;FOXO3;PLAC8;STC2;B4GALNT2;CA12;JUN;DTNA;TGFB3;TPBG;B3GALT6;PNRC1;HS3ST1;FOSL2;VEGFA;GRHPR;KLF7;IL6;KLF6;P4HA2;BHLHE40;MAFF;BCL2;ACKR3;INHA"
        ],
        [
         "19",
         "MSigDB_Hallmark_2020",
         "TGF-beta Signaling",
         "0.017173146643534042",
         "0.04293286660883511",
         "0",
         "0",
         "1.9294871794871795",
         "7.8422238166952845",
         "CDKN1C;BCAR3;ACVR1;SMAD1;TGFB1;SMAD3;SLC20A1;NOG;FURIN;SMAD6;SMAD7;SKI;TJP1;RAB31;CDH1;ID2;ID1;PMEPA1;JUNB;BMPR1A"
        ]
       ],
       "shape": {
        "columns": 9,
        "rows": 14
       }
      },
      "text/html": [
       "<div>\n",
       "<style scoped>\n",
       "    .dataframe tbody tr th:only-of-type {\n",
       "        vertical-align: middle;\n",
       "    }\n",
       "\n",
       "    .dataframe tbody tr th {\n",
       "        vertical-align: top;\n",
       "    }\n",
       "\n",
       "    .dataframe thead th {\n",
       "        text-align: right;\n",
       "    }\n",
       "</style>\n",
       "<table border=\"1\" class=\"dataframe\">\n",
       "  <thead>\n",
       "    <tr style=\"text-align: right;\">\n",
       "      <th></th>\n",
       "      <th>Gene_set</th>\n",
       "      <th>Term</th>\n",
       "      <th>P-value</th>\n",
       "      <th>Adjusted P-value</th>\n",
       "      <th>Old P-value</th>\n",
       "      <th>Old adjusted P-value</th>\n",
       "      <th>Odds Ratio</th>\n",
       "      <th>Combined Score</th>\n",
       "      <th>Genes</th>\n",
       "    </tr>\n",
       "  </thead>\n",
       "  <tbody>\n",
       "    <tr>\n",
       "      <th>0</th>\n",
       "      <td>MSigDB_Hallmark_2020</td>\n",
       "      <td>Inflammatory Response</td>\n",
       "      <td>2.076072e-14</td>\n",
       "      <td>1.038036e-12</td>\n",
       "      <td>0</td>\n",
       "      <td>0</td>\n",
       "      <td>3.076681</td>\n",
       "      <td>96.933038</td>\n",
       "      <td>NPFFR2;IFITM1;CDKN1A;CXCL9;CSF1;TNFAIP6;AQP9;I...</td>\n",
       "    </tr>\n",
       "    <tr>\n",
       "      <th>1</th>\n",
       "      <td>MSigDB_Hallmark_2020</td>\n",
       "      <td>Interferon Gamma Response</td>\n",
       "      <td>4.109475e-13</td>\n",
       "      <td>1.027369e-11</td>\n",
       "      <td>0</td>\n",
       "      <td>0</td>\n",
       "      <td>2.895574</td>\n",
       "      <td>82.582673</td>\n",
       "      <td>IFITM3;LGALS3BP;CDKN1A;CXCL9;IFITM2;BTG1;EIF4E...</td>\n",
       "    </tr>\n",
       "    <tr>\n",
       "      <th>2</th>\n",
       "      <td>MSigDB_Hallmark_2020</td>\n",
       "      <td>TNF-alpha Signaling via NF-kB</td>\n",
       "      <td>3.593442e-11</td>\n",
       "      <td>5.989071e-10</td>\n",
       "      <td>0</td>\n",
       "      <td>0</td>\n",
       "      <td>2.643403</td>\n",
       "      <td>63.572055</td>\n",
       "      <td>CDKN1A;BTG1;CD83;CSF2;CSF1;TNFAIP6;CD80;PLEK;T...</td>\n",
       "    </tr>\n",
       "    <tr>\n",
       "      <th>3</th>\n",
       "      <td>MSigDB_Hallmark_2020</td>\n",
       "      <td>Allograft Rejection</td>\n",
       "      <td>2.413297e-10</td>\n",
       "      <td>3.016622e-09</td>\n",
       "      <td>0</td>\n",
       "      <td>0</td>\n",
       "      <td>2.609590</td>\n",
       "      <td>57.789002</td>\n",
       "      <td>ITK;CXCL9;DYRK3;SPI1;CSF1;CD80;GPR65;NCF4;ITGB...</td>\n",
       "    </tr>\n",
       "    <tr>\n",
       "      <th>4</th>\n",
       "      <td>MSigDB_Hallmark_2020</td>\n",
       "      <td>Interferon Alpha Response</td>\n",
       "      <td>8.073943e-09</td>\n",
       "      <td>8.073943e-08</td>\n",
       "      <td>0</td>\n",
       "      <td>0</td>\n",
       "      <td>3.328978</td>\n",
       "      <td>62.034245</td>\n",
       "      <td>IFITM3;LGALS3BP;IFITM1;IFITM2;CSF1;IFI35;IFI30...</td>\n",
       "    </tr>\n",
       "    <tr>\n",
       "      <th>5</th>\n",
       "      <td>MSigDB_Hallmark_2020</td>\n",
       "      <td>IL-6/JAK/STAT3 Signaling</td>\n",
       "      <td>5.138258e-08</td>\n",
       "      <td>4.281882e-07</td>\n",
       "      <td>0</td>\n",
       "      <td>0</td>\n",
       "      <td>3.436862</td>\n",
       "      <td>57.684169</td>\n",
       "      <td>ACVRL1;CXCL9;CSF2;CSF1;CSF2RB;ACVR1B;TNF;PIK3R...</td>\n",
       "    </tr>\n",
       "    <tr>\n",
       "      <th>6</th>\n",
       "      <td>MSigDB_Hallmark_2020</td>\n",
       "      <td>Complement</td>\n",
       "      <td>3.473963e-07</td>\n",
       "      <td>2.481402e-06</td>\n",
       "      <td>0</td>\n",
       "      <td>0</td>\n",
       "      <td>2.149006</td>\n",
       "      <td>31.961733</td>\n",
       "      <td>FCN1;DGKG;DOCK4;SERPINA1;ITGAM;DYRK2;CPQ;PLEK;...</td>\n",
       "    </tr>\n",
       "    <tr>\n",
       "      <th>8</th>\n",
       "      <td>MSigDB_Hallmark_2020</td>\n",
       "      <td>KRAS Signaling Up</td>\n",
       "      <td>7.887934e-07</td>\n",
       "      <td>4.382186e-06</td>\n",
       "      <td>0</td>\n",
       "      <td>0</td>\n",
       "      <td>2.111680</td>\n",
       "      <td>29.674932</td>\n",
       "      <td>NRP1;SNAP25;SPON1;ADAMDEC1;PTPRR;MTMR10;PLVAP;...</td>\n",
       "    </tr>\n",
       "    <tr>\n",
       "      <th>9</th>\n",
       "      <td>MSigDB_Hallmark_2020</td>\n",
       "      <td>IL-2/STAT5 Signaling</td>\n",
       "      <td>1.599077e-06</td>\n",
       "      <td>7.995385e-06</td>\n",
       "      <td>0</td>\n",
       "      <td>0</td>\n",
       "      <td>2.057759</td>\n",
       "      <td>27.463027</td>\n",
       "      <td>IFITM3;CDKN1C;CYFIP1;NRP1;CD83;CSF2;GUCY1B1;CS...</td>\n",
       "    </tr>\n",
       "    <tr>\n",
       "      <th>13</th>\n",
       "      <td>MSigDB_Hallmark_2020</td>\n",
       "      <td>Estrogen Response Early</td>\n",
       "      <td>5.038386e-05</td>\n",
       "      <td>1.799424e-04</td>\n",
       "      <td>0</td>\n",
       "      <td>0</td>\n",
       "      <td>1.842771</td>\n",
       "      <td>18.235762</td>\n",
       "      <td>LAD1;CLIC3;WWC1;FHL2;AREG;TSKU;RAPGEFL1;IGF1R;...</td>\n",
       "    </tr>\n",
       "    <tr>\n",
       "      <th>14</th>\n",
       "      <td>MSigDB_Hallmark_2020</td>\n",
       "      <td>Apical Junction</td>\n",
       "      <td>4.633174e-04</td>\n",
       "      <td>1.544391e-03</td>\n",
       "      <td>0</td>\n",
       "      <td>0</td>\n",
       "      <td>1.696535</td>\n",
       "      <td>13.024468</td>\n",
       "      <td>COL16A1;ICAM2;ICAM4;ICAM5;ADRA1B;CX3CL1;ACTG2;...</td>\n",
       "    </tr>\n",
       "    <tr>\n",
       "      <th>15</th>\n",
       "      <td>MSigDB_Hallmark_2020</td>\n",
       "      <td>UV Response Dn</td>\n",
       "      <td>8.785206e-04</td>\n",
       "      <td>2.745377e-03</td>\n",
       "      <td>0</td>\n",
       "      <td>0</td>\n",
       "      <td>1.786997</td>\n",
       "      <td>12.575582</td>\n",
       "      <td>NRP1;CDKN1B;CELF2;SCHIP1;FHL2;PTPRM;PTPN21;LAM...</td>\n",
       "    </tr>\n",
       "    <tr>\n",
       "      <th>18</th>\n",
       "      <td>MSigDB_Hallmark_2020</td>\n",
       "      <td>Hypoxia</td>\n",
       "      <td>9.752686e-03</td>\n",
       "      <td>2.566496e-02</td>\n",
       "      <td>0</td>\n",
       "      <td>0</td>\n",
       "      <td>1.471070</td>\n",
       "      <td>6.811368</td>\n",
       "      <td>CDKN1C;ERRFI1;CDKN1A;BTG1;CDKN1B;RORA;SLC2A3;M...</td>\n",
       "    </tr>\n",
       "    <tr>\n",
       "      <th>19</th>\n",
       "      <td>MSigDB_Hallmark_2020</td>\n",
       "      <td>TGF-beta Signaling</td>\n",
       "      <td>1.717315e-02</td>\n",
       "      <td>4.293287e-02</td>\n",
       "      <td>0</td>\n",
       "      <td>0</td>\n",
       "      <td>1.929487</td>\n",
       "      <td>7.842224</td>\n",
       "      <td>CDKN1C;BCAR3;ACVR1;SMAD1;TGFB1;SMAD3;SLC20A1;N...</td>\n",
       "    </tr>\n",
       "  </tbody>\n",
       "</table>\n",
       "</div>"
      ],
      "text/plain": [
       "                Gene_set                           Term       P-value  \\\n",
       "0   MSigDB_Hallmark_2020          Inflammatory Response  2.076072e-14   \n",
       "1   MSigDB_Hallmark_2020      Interferon Gamma Response  4.109475e-13   \n",
       "2   MSigDB_Hallmark_2020  TNF-alpha Signaling via NF-kB  3.593442e-11   \n",
       "3   MSigDB_Hallmark_2020            Allograft Rejection  2.413297e-10   \n",
       "4   MSigDB_Hallmark_2020      Interferon Alpha Response  8.073943e-09   \n",
       "5   MSigDB_Hallmark_2020       IL-6/JAK/STAT3 Signaling  5.138258e-08   \n",
       "6   MSigDB_Hallmark_2020                     Complement  3.473963e-07   \n",
       "8   MSigDB_Hallmark_2020              KRAS Signaling Up  7.887934e-07   \n",
       "9   MSigDB_Hallmark_2020           IL-2/STAT5 Signaling  1.599077e-06   \n",
       "13  MSigDB_Hallmark_2020        Estrogen Response Early  5.038386e-05   \n",
       "14  MSigDB_Hallmark_2020                Apical Junction  4.633174e-04   \n",
       "15  MSigDB_Hallmark_2020                 UV Response Dn  8.785206e-04   \n",
       "18  MSigDB_Hallmark_2020                        Hypoxia  9.752686e-03   \n",
       "19  MSigDB_Hallmark_2020             TGF-beta Signaling  1.717315e-02   \n",
       "\n",
       "    Adjusted P-value  Old P-value  Old adjusted P-value  Odds Ratio  \\\n",
       "0       1.038036e-12            0                     0    3.076681   \n",
       "1       1.027369e-11            0                     0    2.895574   \n",
       "2       5.989071e-10            0                     0    2.643403   \n",
       "3       3.016622e-09            0                     0    2.609590   \n",
       "4       8.073943e-08            0                     0    3.328978   \n",
       "5       4.281882e-07            0                     0    3.436862   \n",
       "6       2.481402e-06            0                     0    2.149006   \n",
       "8       4.382186e-06            0                     0    2.111680   \n",
       "9       7.995385e-06            0                     0    2.057759   \n",
       "13      1.799424e-04            0                     0    1.842771   \n",
       "14      1.544391e-03            0                     0    1.696535   \n",
       "15      2.745377e-03            0                     0    1.786997   \n",
       "18      2.566496e-02            0                     0    1.471070   \n",
       "19      4.293287e-02            0                     0    1.929487   \n",
       "\n",
       "    Combined Score                                              Genes  \n",
       "0        96.933038  NPFFR2;IFITM1;CDKN1A;CXCL9;CSF1;TNFAIP6;AQP9;I...  \n",
       "1        82.582673  IFITM3;LGALS3BP;CDKN1A;CXCL9;IFITM2;BTG1;EIF4E...  \n",
       "2        63.572055  CDKN1A;BTG1;CD83;CSF2;CSF1;TNFAIP6;CD80;PLEK;T...  \n",
       "3        57.789002  ITK;CXCL9;DYRK3;SPI1;CSF1;CD80;GPR65;NCF4;ITGB...  \n",
       "4        62.034245  IFITM3;LGALS3BP;IFITM1;IFITM2;CSF1;IFI35;IFI30...  \n",
       "5        57.684169  ACVRL1;CXCL9;CSF2;CSF1;CSF2RB;ACVR1B;TNF;PIK3R...  \n",
       "6        31.961733  FCN1;DGKG;DOCK4;SERPINA1;ITGAM;DYRK2;CPQ;PLEK;...  \n",
       "8        29.674932  NRP1;SNAP25;SPON1;ADAMDEC1;PTPRR;MTMR10;PLVAP;...  \n",
       "9        27.463027  IFITM3;CDKN1C;CYFIP1;NRP1;CD83;CSF2;GUCY1B1;CS...  \n",
       "13       18.235762  LAD1;CLIC3;WWC1;FHL2;AREG;TSKU;RAPGEFL1;IGF1R;...  \n",
       "14       13.024468  COL16A1;ICAM2;ICAM4;ICAM5;ADRA1B;CX3CL1;ACTG2;...  \n",
       "15       12.575582  NRP1;CDKN1B;CELF2;SCHIP1;FHL2;PTPRM;PTPN21;LAM...  \n",
       "18        6.811368  CDKN1C;ERRFI1;CDKN1A;BTG1;CDKN1B;RORA;SLC2A3;M...  \n",
       "19        7.842224  CDKN1C;BCAR3;ACVR1;SMAD1;TGFB1;SMAD3;SLC20A1;N...  "
      ]
     },
     "execution_count": 586,
     "metadata": {},
     "output_type": "execute_result"
    }
   ],
   "source": [
    "# Get significant terms in both enr_pred_babel and enr\n",
    "sig_terms_enr = set(enr.results[enr.results['Adjusted P-value'] < 0.05]['Term'])\n",
    "sig_pred_babel = enr_pred_babel.results[enr_pred_babel.results['Adjusted P-value'] < 0.05]\n",
    "sig_pred_babel[sig_pred_babel['Term'].isin(sig_terms_enr)]"
   ]
  },
  {
   "cell_type": "code",
   "execution_count": null,
   "id": "7d3e5945",
   "metadata": {},
   "outputs": [],
   "source": [
    "set_genes_true = set(enr.results[enr.results['Adjusted P-value'] < 0.05]['Genes'][33].split(';'))\n",
    "set_genes_pred = set(enr_pred_babel.results[enr_pred_babel.results['Adjusted P-value'] < 0.05]['Genes'][2].split(';'))"
   ]
  },
  {
   "cell_type": "code",
   "execution_count": 608,
   "id": "576e8adf",
   "metadata": {},
   "outputs": [
    {
     "data": {
      "text/plain": [
       "{'ABI1',\n",
       " 'AHR',\n",
       " 'ATP2A2',\n",
       " 'ATP2C1',\n",
       " 'BTG2',\n",
       " 'CCR7',\n",
       " 'CD40',\n",
       " 'CD55',\n",
       " 'CD69',\n",
       " 'CD70',\n",
       " 'CD82',\n",
       " 'CYBB',\n",
       " 'GABBR1',\n",
       " 'GCH1',\n",
       " 'GNAI3',\n",
       " 'HIF1A',\n",
       " 'ICAM1',\n",
       " 'IFNAR1',\n",
       " 'IFNGR2',\n",
       " 'IL10RA',\n",
       " 'IL15',\n",
       " 'IL15RA',\n",
       " 'IL18R1',\n",
       " 'IL4R',\n",
       " 'KIF1B',\n",
       " 'LCK',\n",
       " 'LTA',\n",
       " 'LYN',\n",
       " 'MSR1',\n",
       " 'NAMPT',\n",
       " 'NFKB1',\n",
       " 'NFKBIA',\n",
       " 'PDE4B',\n",
       " 'PSEN1',\n",
       " 'PTGER4',\n",
       " 'PTPRE',\n",
       " 'RAF1',\n",
       " 'RELA',\n",
       " 'RIPK2',\n",
       " 'RNF144B',\n",
       " 'SELENOS',\n",
       " 'SELL',\n",
       " 'SEMA4D',\n",
       " 'SLAMF1',\n",
       " 'SLC11A2',\n",
       " 'SLC31A1',\n",
       " 'SLC7A1',\n",
       " 'SRI',\n",
       " 'TNFRSF1B'}"
      ]
     },
     "execution_count": 608,
     "metadata": {},
     "output_type": "execute_result"
    }
   ],
   "source": [
    "set(enr.results[enr.results['Adjusted P-value'] < 0.05]['Genes'][enr.results[enr.results['Adjusted P-value'] < 0.05]['Term'] == 'Inflammatory Response'].values[0].split(';'))"
   ]
  },
  {
   "cell_type": "code",
   "execution_count": null,
   "id": "e31a7464",
   "metadata": {},
   "outputs": [],
   "source": [
    "enr.results[enr.results['Adjusted P-value'] < 0.05]['Term'] == 'Inflammatory Response'"
   ]
  },
  {
   "cell_type": "code",
   "execution_count": 548,
   "id": "18b71652",
   "metadata": {},
   "outputs": [
    {
     "data": {
      "text/plain": [
       "90"
      ]
     },
     "execution_count": 548,
     "metadata": {},
     "output_type": "execute_result"
    }
   ],
   "source": [
    "len(set_genes_pred)"
   ]
  },
  {
   "cell_type": "code",
   "execution_count": 549,
   "id": "137d6e63",
   "metadata": {},
   "outputs": [],
   "source": [
    "overlap_count = len(set_genes_true & set_genes_pred)\n",
    "percent_overlap = (overlap_count / len(set_genes_pred)) * 100"
   ]
  },
  {
   "cell_type": "code",
   "execution_count": 550,
   "id": "6418220d",
   "metadata": {},
   "outputs": [
    {
     "name": "stdout",
     "output_type": "stream",
     "text": [
      "6 6.666666666666667\n"
     ]
    }
   ],
   "source": [
    "print(overlap_count, percent_overlap)"
   ]
  },
  {
   "cell_type": "code",
   "execution_count": 619,
   "id": "484ddb28",
   "metadata": {},
   "outputs": [],
   "source": [
    "def compute_pathway_overlap(true_df, pred_df, pval_thresh=0.05):\n",
    "    # Filter significant pathways\n",
    "    sig_true = true_df[true_df['Adjusted P-value'] < pval_thresh]\n",
    "    sig_pred = pred_df[pred_df['Adjusted P-value'] < pval_thresh]\n",
    "\n",
    "    # Identify common enriched terms\n",
    "    shared_terms = set(sig_true['Term']).intersection(sig_pred['Term'])\n",
    "\n",
    "    dict = {}\n",
    "    jaccards = 0.0\n",
    "    for term in shared_terms:\n",
    "        # Get gene sets for the term from both dataframes\n",
    "        genes_true = set(sig_true[sig_true['Term'] == term]['Genes'].values[0].split(';'))\n",
    "        genes_pred = set(sig_pred[sig_pred['Term'] == term]['Genes'].values[0].split(';'))\n",
    "\n",
    "        # Compute Jaccard index (overlap)\n",
    "        union = genes_true.union(genes_pred)\n",
    "        if len(union) == 0:\n",
    "            continue  # avoid division by zero\n",
    "        jaccard = len(genes_true.intersection(genes_pred)) / len(union)\n",
    "        jaccards += jaccard\n",
    "        fp = len(genes_pred - genes_true)\n",
    "        fn = len(genes_true - genes_pred)\n",
    "        dict[term] = {\n",
    "            'Jaccard': jaccard,\n",
    "            'FP': fp,\n",
    "            'FN': fn,\n",
    "        }\n",
    "\n",
    "    if jaccards > 0:\n",
    "        return jaccards / len(dict.values()), dict \n",
    "    else:\n",
    "        return 0.0  # or np.nan if you prefer\n"
   ]
  },
  {
   "cell_type": "code",
   "execution_count": null,
   "id": "44980f8d",
   "metadata": {},
   "outputs": [
    {
     "data": {
      "text/plain": [
       "(0.07555643863439812,\n",
       " {'Allograft Rejection': {'Jaccard': 0.07857142857142857, 'FP': 73, 'FN': 56},\n",
       "  'Apical Junction': {'Jaccard': 0.06422018348623854, 'FP': 60, 'FN': 42},\n",
       "  'KRAS Signaling Up': {'Jaccard': 0.048, 'FP': 70, 'FN': 49},\n",
       "  'TNF-alpha Signaling via NF-kB': {'Jaccard': 0.04225352112676056,\n",
       "   'FP': 84,\n",
       "   'FN': 52},\n",
       "  'TGF-beta Signaling': {'Jaccard': 0.09090909090909091, 'FP': 16, 'FN': 24},\n",
       "  'Complement': {'Jaccard': 0.061068702290076333, 'FP': 70, 'FN': 53},\n",
       "  'IL-2/STAT5 Signaling': {'Jaccard': 0.09302325581395349, 'FP': 64, 'FN': 53},\n",
       "  'Hypoxia': {'Jaccard': 0.06306306306306306, 'FP': 53, 'FN': 51},\n",
       "  'Interferon Alpha Response': {'Jaccard': 0.08108108108108109,\n",
       "   'FP': 43,\n",
       "   'FN': 25},\n",
       "  'Interferon Gamma Response': {'Jaccard': 0.08176100628930817,\n",
       "   'FP': 81,\n",
       "   'FN': 65},\n",
       "  'UV Response Dn': {'Jaccard': 0.08333333333333333, 'FP': 43, 'FN': 45},\n",
       "  'IL-6/JAK/STAT3 Signaling': {'Jaccard': 0.09523809523809523,\n",
       "   'FP': 36,\n",
       "   'FN': 21},\n",
       "  'Inflammatory Response': {'Jaccard': 0.0661764705882353, 'FP': 87, 'FN': 40},\n",
       "  'Estrogen Response Early': {'Jaccard': 0.10909090909090909,\n",
       "   'FP': 59,\n",
       "   'FN': 39}})"
      ]
     },
     "execution_count": 620,
     "metadata": {},
     "output_type": "execute_result"
    }
   ],
   "source": [
    "compute_pathway_overlap(enr.results, enr_pred_babel.results)"
   ]
  }
 ],
 "metadata": {
  "kernelspec": {
   "display_name": "Python 3 (ipykernel)",
   "language": "python",
   "name": "python3"
  }
 },
 "nbformat": 4,
 "nbformat_minor": 5
}
