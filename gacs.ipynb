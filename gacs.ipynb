{
 "cells": [
  {
   "cell_type": "code",
   "execution_count": null,
   "id": "f1e1b06d",
   "metadata": {},
   "outputs": [],
   "source": [
    "import scanpy as sc\n",
    "import pandas as pd\n",
    "import numpy as np\n",
    "import os\n",
    "import matplotlib.pyplot as plt\n",
    "from matplotlib_venn import venn2\n",
    "from matplotlib.patches import Patch\n",
    "import episcanpy.preprocessing as epi_pp\n",
    "import episcanpy.tools as epi_tl"
   ]
  },
  {
   "cell_type": "markdown",
   "id": "8cf5f933",
   "metadata": {},
   "source": [
    "### Compute Gene Activity scores for Lymphoma ATAC data"
   ]
  },
  {
   "cell_type": "code",
   "execution_count": null,
   "id": "bc4fc79d",
   "metadata": {},
   "outputs": [],
   "source": [
    "gene_activity_true = epi_tl.geneactivity(true_ATAC_sb, gtf_file='/workspace/Benchmarking/data_all/gencode.v48.annotation.gtf', feature_type='gene', key_added='gene_activity')\n",
    "gene_activity_pred_babel = epi_tl.geneactivity(pred_ATAC_babel, gtf_file='/workspace/Benchmarking/data_all/gencode.v48.annotation.gtf', feature_type='gene', key_added='gene_activity')\n",
    "gene_activity_pred_sb = epi_tl.geneactivity(pred_ATAC_sb, gtf_file='/workspace/Benchmarking/data_all/gencode.v48.annotation.gtf', feature_type='gene', key_added='gene_activity')"
   ]
  },
  {
   "cell_type": "markdown",
   "id": "b67fc178",
   "metadata": {},
   "source": [
    "Calculate GACS"
   ]
  },
  {
   "cell_type": "code",
   "execution_count": null,
   "id": "d85441f6",
   "metadata": {},
   "outputs": [],
   "source": [
    "sc.pp.normalize_total(gene_activity_true, target_sum=1e6)\n",
    "sc.pp.log1p(gene_activity_true)\n",
    "sc.pp.highly_variable_genes(gene_activity_true, n_top_genes=3000)\n",
    "\n",
    "sc.pp.normalize_total(gene_activity_pred_babel, target_sum=1e6)\n",
    "sc.pp.log1p(gene_activity_pred_babel)\n",
    "sc.pp.highly_variable_genes(gene_activity_pred_babel, n_top_genes=3000)\n",
    "\n",
    "sc.pp.normalize_total(gene_activity_pred_sb, target_sum=1e6)\n",
    "sc.pp.log1p(gene_activity_pred_sb)\n",
    "sc.pp.highly_variable_genes(gene_activity_pred_sb, n_top_genes=3000)\n",
    "\n",
    "hvg_true = set(gene_activity_true[:,gene_activity_true.var['highly_variable']].var_names)\n",
    "hvg_pred_babel = set(gene_activity_pred_babel[:,gene_activity_pred_babel.var['highly_variable']].var_names)\n",
    "hvg_pred_sb = set(gene_activity_pred_sb[:,gene_activity_pred_sb.var['highly_variable']].var_names)\n",
    "hvg_rna = set(true_RNA_sb[:,true_RNA_sb.var['highly_variable']].var_names)\n",
    "\n",
    "jaccard_true = len(hvg_rna.intersection(hvg_true))/len(hvg_rna.union(hvg_true))\n",
    "jaccard_babel = len(hvg_rna.intersection(hvg_pred_babel))/len(hvg_rna.union(hvg_pred_babel))\n",
    "jaccard_sb = len(hvg_rna.intersection(hvg_pred_sb))/len(hvg_rna.union(hvg_pred_sb))\n",
    "\n",
    "print(jaccard_true)\n",
    "print(jaccard_babel)\n",
    "print(jaccard_sb)"
   ]
  },
  {
   "cell_type": "code",
   "execution_count": null,
   "id": "7bbf0de5",
   "metadata": {},
   "outputs": [],
   "source": [
    "gacs_babel = abs(jaccard_true - jaccard_babel)/jaccard_true\n",
    "gacs_sb = abs(jaccard_true - jaccard_sb)/jaccard_true\n",
    "\n",
    "print(gacs_babel)\n",
    "print(gacs_sb)"
   ]
  },
  {
   "cell_type": "markdown",
   "id": "3df1b897",
   "metadata": {},
   "source": [
    "Plot Venn diagramms"
   ]
  },
  {
   "cell_type": "code",
   "execution_count": null,
   "id": "941aeea0",
   "metadata": {},
   "outputs": [],
   "source": [
    "fig, axs = plt.subplots(2, 2, figsize=(10, 4))\n",
    "\n",
    "axs = axs.flatten()\n",
    "\n",
    "# Venn 1: True vs Babel\n",
    "venn1 = venn2([hvg_true, hvg_rna],\n",
    "              set_labels=('DAPs from True Data', 'DAPs from Predicted BABEL'),\n",
    "              set_colors=('#b992cd', '#60b1dd'),\n",
    "              alpha=0.7,\n",
    "              ax=axs[0])\n",
    "\n",
    "# Venn 2: True vs scButterfly\n",
    "venn2_plot = venn2([hvg_pred_babel, hvg_rna],\n",
    "                   set_labels=('DAPs from True Data', 'DAPs from Predicted scButterfly'),\n",
    "                   set_colors=(\"#87e175\", '#60b1dd'),\n",
    "                   alpha=0.7,\n",
    "                   ax=axs[1])\n",
    "\n",
    "venn3_plot = venn2([hvg_pred_sb, hvg_rna],\n",
    "                   set_labels=('HVGs from True Data', 'HVGs from Predicted BABEL'),\n",
    "                   set_colors=('#ef973f', '#60b1dd'),\n",
    "                   alpha=0.7,\n",
    "                   ax=axs[2])\n",
    " \n",
    "axs[3].axis('off')  # Hide the last subplot\n",
    "# Improve label positioning if needed\n",
    "for venn in [venn1, venn2_plot, venn3_plot]:\n",
    "    for text in venn.set_labels:\n",
    "        if text:\n",
    "            text.set_visible(False)\n",
    "\n",
    "legend_elements = [ \n",
    "    Patch(facecolor='#60b1dd', edgecolor='black', label='HVGs from RNA data'),\n",
    "    Patch(facecolor='#b992cd', edgecolor='black', label='HVGs from True ATAC'),\n",
    "    Patch(facecolor='#ef973f', edgecolor='black', label='HVGs from Predicted BABEL'),\n",
    "    Patch(facecolor='#87e175', edgecolor='black', label='HVGs from Predicted scButterfly')\n",
    "]\n",
    "\n",
    "plt.tight_layout()\n",
    "plt.legend(handles=legend_elements, loc='center right', bbox_to_anchor=(0.8, 0.5), ncol=1)\n",
    "\n",
    "plt.savefig(\"/workspace/Benchmarking/data_all/figures/venn_gacs.svg\", format=\"svg\", bbox_inches='tight')\n",
    "plt.show()"
   ]
  },
  {
   "cell_type": "markdown",
   "id": "c90da9c2",
   "metadata": {},
   "source": [
    "### Compute Gene Activity scores for BMMC ATAC data"
   ]
  },
  {
   "cell_type": "code",
   "execution_count": null,
   "id": "492f2644",
   "metadata": {},
   "outputs": [],
   "source": [
    "true_ATAC_bmmc_test.var_names = true_ATAC_bmmc_test.var_names.str.replace(r'^([^:]+?)-', r'\\1:', regex=True)\n",
    "pred_ATAC_bmmc_sb.var_names = pred_ATAC_bmmc_sb.var_names.str.replace(r'^([^:]+?)-', r'\\1:', regex=True)\n",
    "\n",
    "gene_activity_true_bmmc = epi_tl.geneactivity(true_ATAC_bmmc_test, gtf_file='/workspace/Benchmarking/data_all/gencode.v48.annotation.gtf', feature_type='gene', key_added='gene_activity')\n",
    "gene_activity_pred_bmmc_sb = epi_tl.geneactivity(pred_ATAC_bmmc_sb, gtf_file='/workspace/Benchmarking/data_all/gencode.v48.annotation.gtf', feature_type='gene', key_added='gene_activity')"
   ]
  },
  {
   "cell_type": "code",
   "execution_count": null,
   "id": "7a4c571d",
   "metadata": {},
   "outputs": [],
   "source": [
    "hvg_true_bmmc = set(gene_activity_true_bmmc[:,gene_activity_true_bmmc.var['highly_variable']].var_names)\n",
    "hvg_pred_bmmc_sb = set(gene_activity_pred_bmmc_sb[:,gene_activity_pred_bmmc_sb.var['highly_variable']].var_names)\n",
    "hvg_rna_bmmc = set(true_RNA_bmmc_test[:,true_RNA_bmmc_test.var['highly_variable']].var_names)\n",
    "\n",
    "jaccard_true_bmmc = len(hvg_rna_bmmc.intersection(hvg_true_bmmc))/len(hvg_rna_bmmc.union(hvg_true_bmmc))\n",
    "jaccard_sb_bmmc = len(hvg_rna_bmmc.intersection(hvg_pred_bmmc_sb))/len(hvg_rna_bmmc.union(hvg_pred_bmmc_sb))\n",
    "\n",
    "print(jaccard_true_bmmc)\n",
    "print(jaccard_sb_bmmc)"
   ]
  },
  {
   "cell_type": "code",
   "execution_count": null,
   "id": "ce0aa05c",
   "metadata": {},
   "outputs": [],
   "source": [
    "gacs_bmmc_sb = abs(jaccard_true_bmmc - jaccard_sb_bmmc)/jaccard_true_bmmc"
   ]
  }
 ],
 "metadata": {
  "language_info": {
   "name": "python"
  }
 },
 "nbformat": 4,
 "nbformat_minor": 5
}
