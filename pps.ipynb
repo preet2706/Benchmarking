{
 "cells": [
  {
   "cell_type": "code",
   "execution_count": null,
   "id": "c9569ea6",
   "metadata": {},
   "outputs": [],
   "source": [
    "import os\n",
    "import numpy as np\n",
    "import matplotlib.pyplot as plt\n",
    "import scanpy as sc\n",
    "import pandas as pd\n",
    "from matplotlib_venn import venn2\n",
    "os.chdir('/workspace/Benchmarking')\n",
    "from metrics import *"
   ]
  },
  {
   "cell_type": "markdown",
   "id": "61778f1f",
   "metadata": {},
   "source": [
    "## Compute DEGs and PPS"
   ]
  },
  {
   "cell_type": "code",
   "execution_count": null,
   "id": "30cd731f",
   "metadata": {},
   "outputs": [],
   "source": [
    "deg_true_test = compute_deg(true_RNA)\n",
    "deg_sb = compute_deg(pred_RNA_sb)\n",
    "deg_babel = compute_deg(pred_RNA_babel)\n",
    "deg_polar = compute_deg(pred_RNA_polar)\n",
    "\n",
    "df1 = deg_true_test[1]\n",
    "df2 = deg_sb[1]\n",
    "df3 = deg_babel[1]\n",
    "df4 = deg_polar[1]"
   ]
  },
  {
   "cell_type": "markdown",
   "id": "ea419ecc",
   "metadata": {},
   "source": [
    "Plot results in Volcano plot"
   ]
  },
  {
   "cell_type": "code",
   "execution_count": null,
   "id": "a3683999",
   "metadata": {},
   "outputs": [],
   "source": [
    "import matplotlib.pyplot as plt\n",
    "import numpy as np\n",
    "\n",
    "\n",
    "fig, axes = plt.subplots(2, 2, figsize=(14, 12))\n",
    "axs = axes.flatten()\n",
    "\n",
    "df1['color'] = 'grey'\n",
    "df1.loc[(df1['logfoldchanges'] > 1) & (df1['pvals_adj'] < 0.001), 'color'] = '#fcad45'\n",
    "df1.loc[(df1['logfoldchanges'] < -1) & (df1['pvals_adj'] < 0.001), 'color'] = '#60b1dd'\n",
    "\n",
    "axes[0, 0].scatter(df1['logfoldchanges'], df1['neg_log10_padj'], s=10, alpha=0.7, c=df1['color'], edgecolor='none')\n",
    "axes[0, 0].axhline(-np.log10(0.001), color='green', linestyle='--')\n",
    "axes[0, 0].axvline(1, color='green', linestyle='dotted')\n",
    "axes[0, 0].axvline(-1, color='green', linestyle='dotted')\n",
    "axes[0, 0].set_xlim(-10, 10)\n",
    "axes[0, 0].set_title('True RNA data', fontsize=16)\n",
    "axes[0, 0].set_xlabel('log\\u2082(FC)', fontsize=14)\n",
    "axes[0, 0].set_ylabel('-log\\u2081\\u2080(p-value)', fontsize=14)\n",
    "\n",
    "df2['color'] = 'grey'\n",
    "df2.loc[(df2['logfoldchanges'] > 1) & (df2['pvals_adj'] < 0.001), 'color'] = '#fcad45'\n",
    "df2.loc[(df2['logfoldchanges'] < -1) & (df2['pvals_adj'] < 0.001), 'color'] = '#60b1dd'\n",
    "\n",
    "axes[0, 1].scatter(df2['logfoldchanges'], df2['neg_log10_padj'], s=10, alpha=0.7, c=df2['color'], edgecolor='none')\n",
    "axes[0, 1].axhline(-np.log10(0.001), color='green', linestyle='--')\n",
    "axes[0, 1].axvline(1, color='green', linestyle='dotted')\n",
    "axes[0, 1].axvline(-1, color='green', linestyle='dotted')\n",
    "axes[0, 1].set_xlim(-10, 10)\n",
    "axes[0, 1].set_title('Predicted scButterfly', fontsize=16)\n",
    "axes[0, 1].set_xlabel('log\\u2082(FC)', fontsize=14)\n",
    "axes[0, 1].set_ylabel('-log\\u2081\\u2080(p-value)', fontsize=14)\n",
    "\n",
    "df3['color'] = 'grey'\n",
    "df3.loc[(df3['logfoldchanges'] > 1) & (df3['pvals_adj'] < 0.001), 'color'] = '#fcad45'\n",
    "df3.loc[(df3['logfoldchanges'] < -1) & (df3['pvals_adj'] < 0.001), 'color'] = '#60b1dd'\n",
    "\n",
    "axes[1, 0].scatter(df3['logfoldchanges'], df3['neg_log10_padj'], s=10, alpha=0.7, c=df3['color'], edgecolor='none')\n",
    "axes[1, 0].axhline(-np.log10(0.001), color='green', linestyle='--')\n",
    "axes[1, 0].axvline(1, color='green', linestyle='dotted')\n",
    "axes[1, 0].axvline(-1, color='green', linestyle='dotted')\n",
    "axes[1, 0].set_xlim(-10, 10)\n",
    "axes[1, 0].set_title('Predicted BABEL', fontsize=16)\n",
    "axes[1, 0].set_xlabel('log\\u2082(FC)', fontsize=14)\n",
    "axes[1, 0].set_ylabel('-log\\u2081\\u2080(p-value)', fontsize=14)\n",
    "\n",
    "df4['color'] = 'grey'\n",
    "df4.loc[(df4['logfoldchanges'] > 1) & (df4['pvals_adj'] < 0.001), 'color'] = '#fcad45'\n",
    "df4.loc[(df4['logfoldchanges'] < -1) & (df4['pvals_adj'] < 0.001), 'color'] = '#60b1dd'\n",
    "\n",
    "axes[1, 1].scatter(df4['logfoldchanges'], df4['neg_log10_padj'], s=10, alpha=0.7, c=df4['color'], edgecolor='none')\n",
    "axes[1, 1].axhline(-np.log10(0.001), color='green', linestyle='--')\n",
    "axes[1, 1].axvline(1, color='green', linestyle='dotted')\n",
    "axes[1, 1].axvline(-1, color='green', linestyle='dotted')\n",
    "axes[1, 1].set_xlim(-10, 10)\n",
    "axes[1, 1].set_title('Predicted Polarbear', fontsize=16)\n",
    "axes[1, 1].set_xlabel('log\\u2082(FC)', fontsize=14)\n",
    "axes[1, 1].set_ylabel('-log\\u2081\\u2080(p-value)', fontsize=14)\n",
    "\n",
    "\n",
    "for axis in axs:\n",
    "    axis.spines['top'].set_visible(False)\n",
    "    axis.spines['right'].set_visible(False)\n",
    "\n",
    "plt.tight_layout()\n",
    "plt.savefig('/workspace/Benchmarking/data_all/figures/deg_lymphoma.svg', format='svg', bbox_inches='tight')\n",
    "plt.show()"
   ]
  },
  {
   "cell_type": "markdown",
   "id": "7639fd35",
   "metadata": {},
   "source": [
    "Infer enriched pathways and compute PPS "
   ]
  },
  {
   "cell_type": "code",
   "execution_count": null,
   "id": "dabad685",
   "metadata": {},
   "outputs": [],
   "source": [
    "pathways_polar = compute_pathway_overlap(deg_true_test[0], deg_polar[0])\n",
    "pathways_babel = compute_pathway_overlap(deg_true_test[0], deg_babel[0])\n",
    "pathways_sb = compute_pathway_overlap(deg_true_test[0], deg_sb[0])\n",
    "\n",
    "print(f'Polarbear: {pathways_polar}', \n",
    "      f'BABEL: {pathways_babel}', \n",
    "      f'scButterfly: {pathways_sb}')"
   ]
  },
  {
   "cell_type": "markdown",
   "id": "3dbd2a92",
   "metadata": {},
   "source": [
    "Plot Barplot of pathways and Venn diagramm of gene overlap"
   ]
  },
  {
   "cell_type": "code",
   "execution_count": null,
   "id": "f18c9c82",
   "metadata": {},
   "outputs": [],
   "source": [
    "shared_terms_babel = set(deg_true_test[0]['Term']).intersection(deg_babel[0]['Term'])\n",
    "shared_terms_sb = set(deg_true_test[0]['Term']).intersection(deg_sb[0]['Term'])\n",
    "shared_terms_polar = set(deg_true_test[0]['Term']).intersection(deg_polar[0]['Term'])\n",
    "all_terms = shared_terms_babel.union(shared_terms_sb).union(shared_terms_polar)\n",
    "\n",
    "dict_data = {}\n",
    "for i in all_terms:\n",
    "    dict_data[i] = {\n",
    "        'scButterfly': pathways_sb[1][i]['Jaccard'] if i in pathways_sb[1].keys() else 0.0,\n",
    "        'BABEL': pathways_babel[1][i]['Jaccard'] if i in pathways_babel[1].keys() else 0.0,\n",
    "    }\n",
    "\n",
    "df = pd.DataFrame.from_dict(dict_data, orient=\"index\").reset_index()\n",
    "df.columns = [\"Pathway\", \"scButterfly\", \"Babel\"]\n",
    "\n",
    "df = df.fillna(0)\n",
    "\n",
    "df[\"Max\"] = df[[\"scButterfly\", \"Babel\"]].abs().max(axis=1)\n",
    "df = df.sort_values(\"Max\", ascending=True).drop(columns=\"Max\")\n",
    "\n",
    "fig, ax = plt.subplots(figsize=(8, 6))\n",
    "\n",
    "ax.barh(df[\"Pathway\"], -df[\"scButterfly\"], color=\"#b8e0b0\", label=\"scButterfly (PPS = 0.001)\")\n",
    "ax.barh(df[\"Pathway\"], df[\"Babel\"], color=\"#e19c56\", label=\"Babel (PPS = 0.024)\")\n",
    "\n",
    "ax.axvline(0, color=\"black\", linewidth=0.5)\n",
    "ax.set_xlabel(\"Jaccard Index of Gene Overlap\")\n",
    "ax.legend()\n",
    "\n",
    "ax.spines[\"top\"].set_visible(False)\n",
    "ax.spines[\"right\"].set_visible(False)\n",
    "\n",
    "plt.tight_layout()\n",
    "plt.show()"
   ]
  },
  {
   "cell_type": "code",
   "execution_count": null,
   "id": "6d17942e",
   "metadata": {},
   "outputs": [],
   "source": [
    "genes_true = set(deg_true_test[0][deg_true_test[0]['Term'] == 'Estrogen Response Early']['Genes'].values[0].split(';'))\n",
    "genes_pred = set(deg_babel[0][deg_babel[0]['Term'] == 'Estrogen Response Early']['Genes'].values[0].split(';'))\n",
    "\n",
    "venn2([genes_true, genes_pred], set_colors=('#60b1dd', '#ef973f'), alpha=0.7)\n",
    "plt.savefig('/workspace/Benchmarking/data_all/figures/venn_estrogen.svg', format='svg', bbox_inches='tight')\n",
    "plt.show()\n",
    "\n",
    "genes_true = set(deg_true_test[0][deg_true_test[0]['Term'] == 'E2F Targets']['Genes'].values[0].split(';'))\n",
    "genes_pred = set(deg_sb[0][deg_sb[0]['Term'] == 'E2F Targets']['Genes'].values[0].split(';'))\n",
    "venn2([genes_true, genes_pred], set_colors=('#60b1dd', '#ef973f'), alpha=0.7)\n",
    "plt.savefig('/workspace/Benchmarking/data_all/figures/venn_e2f.svg', format='svg', bbox_inches='tight')\n",
    "plt.show()"
   ]
  }
 ],
 "metadata": {
  "language_info": {
   "name": "python"
  }
 },
 "nbformat": 4,
 "nbformat_minor": 5
}
