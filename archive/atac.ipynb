{
 "cells": [
  {
   "cell_type": "code",
   "execution_count": 8,
   "id": "3bc977de",
   "metadata": {},
   "outputs": [],
   "source": [
    "import scanpy as sc\n",
    "import pandas as pd\n",
    "import numpy as np\n",
    "import os\n",
    "import matplotlib.pyplot as plt\n",
    "import episcanpy.preprocessing as epi_pp\n",
    "import episcanpy.tools as epi_tl"
   ]
  },
  {
   "cell_type": "code",
   "execution_count": 97,
   "id": "ae52daf0",
   "metadata": {},
   "outputs": [],
   "source": [
    "atac_true = sc.read_h5ad('/workspace/scButterfly/data/lymphoma/lymphoma_ATAC_pp.h5ad')"
   ]
  },
  {
   "cell_type": "code",
   "execution_count": 41,
   "id": "bdd091c4",
   "metadata": {},
   "outputs": [],
   "source": [
    "chr_list = []\n",
    "for i in list(atac_true.var_names):\n",
    "    chr = i.split(':')[0][0:3]\n",
    "    if chr == 'chr': \n",
    "        chr_list.append(i)\n",
    "atac_true = atac_true[:, chr_list]"
   ]
  },
  {
   "cell_type": "code",
   "execution_count": 13,
   "id": "46279e8d",
   "metadata": {},
   "outputs": [],
   "source": [
    "# Calculate fraction of cells with each peak\n",
    "peak_cell_counts = np.array((atac_true.X > 0).sum(axis=0)).flatten()\n",
    "cell_fraction = peak_cell_counts / atac_true.n_obs\n",
    "\n",
    "# Filter peaks present in at least 0.5% of cells\n",
    "min_fraction = 0.005\n",
    "keep_peaks = cell_fraction >= min_fraction\n",
    "atac_true = atac_true[:, keep_peaks]"
   ]
  },
  {
   "cell_type": "code",
   "execution_count": 14,
   "id": "681a52b0",
   "metadata": {},
   "outputs": [
    {
     "data": {
      "text/plain": [
       "View of AnnData object with n_obs × n_vars = 14645 × 66372\n",
       "    obs: 'Cell Types', 'group'\n",
       "    var: 'gene_ids', 'feature_types', 'genome'"
      ]
     },
     "execution_count": 14,
     "metadata": {},
     "output_type": "execute_result"
    }
   ],
   "source": [
    "atac_true"
   ]
  },
  {
   "cell_type": "code",
   "execution_count": 15,
   "id": "0ee42b18",
   "metadata": {},
   "outputs": [
    {
     "name": "stderr",
     "output_type": "stream",
     "text": [
      " ImplicitModificationWarning:/tmp/ipykernel_101332/1370485976.py:1: Trying to modify attribute `.obs` of view, initializing view as actual.\n"
     ]
    }
   ],
   "source": [
    "atac_true.obs['group'] = atac_true.obs['Cell Types'].map(\n",
    "    lambda x: 'B' if x in ['B'] else ('LYM' if x in ['Tumor B', 'Tumor B cycling'] else None)\n",
    ")\n",
    "data_true = atac_true[atac_true.obs['group'].isin(['B','LYM'])].copy()\n",
    "\n",
    "sc.pp.log1p(data_true)\n",
    "\n",
    "sc.tl.rank_genes_groups(\n",
    "    data_true,\n",
    "    groupby='group',\n",
    "    groups=['LYM'],\n",
    "    reference='B',\n",
    "    method='wilcoxon',\n",
    "    pts=True\n",
    ")\n",
    "\n",
    "dp_true = sc.get.rank_genes_groups_df(data_true, group='LYM')\n",
    "dp_true['neg_log10_padj'] = -np.log10(dp_true['pvals_adj'].replace(0, np.nan))"
   ]
  },
  {
   "cell_type": "code",
   "execution_count": 16,
   "id": "d74c75dc",
   "metadata": {},
   "outputs": [
    {
     "data": {
      "application/vnd.microsoft.datawrangler.viewer.v0+json": {
       "columns": [
        {
         "name": "index",
         "rawType": "int64",
         "type": "integer"
        },
        {
         "name": "names",
         "rawType": "object",
         "type": "string"
        },
        {
         "name": "scores",
         "rawType": "float32",
         "type": "float"
        },
        {
         "name": "logfoldchanges",
         "rawType": "float32",
         "type": "float"
        },
        {
         "name": "pvals",
         "rawType": "float64",
         "type": "float"
        },
        {
         "name": "pvals_adj",
         "rawType": "float64",
         "type": "float"
        },
        {
         "name": "pct_nz_group",
         "rawType": "float64",
         "type": "float"
        },
        {
         "name": "neg_log10_padj",
         "rawType": "float64",
         "type": "float"
        }
       ],
       "ref": "f819dcc7-7429-45c5-8f86-3e834ad8ba90",
       "rows": [
        [
         "0",
         "chr9:136653125-136698758",
         "26.566685",
         "6.4245844",
         "1.6478081682674533e-155",
         "1.0936832374424742e-150",
         "0.8859289617486339",
         "149.96110844413676"
        ],
        [
         "1",
         "chr9:136492663-136559973",
         "25.45596",
         "4.88968",
         "6.064418411519465e-143",
         "2.01253789404685e-138",
         "0.923155737704918",
         "137.6962559335586"
        ],
        [
         "2",
         "chr18:79425205-79467412",
         "24.93379",
         "5.5832715",
         "3.201452278976158e-137",
         "7.082893022006853e-133",
         "0.9009562841530054",
         "132.1497893176119"
        ],
        [
         "3",
         "chr9:137062469-137093487",
         "24.597584",
         "5.1141005",
         "1.3406631034203255e-133",
         "2.2245622875053462e-129",
         "0.8992486338797814",
         "128.6527554295468"
        ],
        [
         "4",
         "chr9:137293050-137322378",
         "24.490416",
         "5.7713747",
         "1.868794432031312e-132",
         "2.480712480855645e-128",
         "0.8657786885245902",
         "127.60542356834117"
        ],
        [
         "5",
         "chr9:136834693-136863962",
         "24.270746",
         "5.7729845",
         "3.993752958042678e-130",
         "4.4178895221868104e-126",
         "0.8736338797814208",
         "125.3547851486965"
        ],
        [
         "6",
         "chr9:136322760-136355056",
         "24.121235",
         "6.280942",
         "1.496747591925825e-128",
         "1.419173302447155e-124",
         "0.8210382513661202",
         "123.8479645674031"
        ],
        [
         "7",
         "chr9:136613717-136631946",
         "23.621794",
         "5.926652",
         "2.3017101412434914e-123",
         "1.9096138186826628e-119",
         "0.8077185792349727",
         "118.71905445127199"
        ],
        [
         "8",
         "chr3:195203363-195211311",
         "23.593662",
         "6.848753",
         "4.476949912712298e-123",
         "3.3016013289615625e-119",
         "0.719603825136612",
         "118.48127536931825"
        ],
        [
         "9",
         "chr9:137105248-137131972",
         "23.427727",
         "5.575103",
         "2.2302238416486966e-121",
         "1.480244168179073e-117",
         "0.8514344262295082",
         "116.82966664126278"
        ],
        [
         "10",
         "chr9:136218049-136269096",
         "23.317661",
         "4.8288603",
         "2.9350544745901605e-120",
         "1.770958505340892e-116",
         "0.8900273224043715",
         "115.75179161448051"
        ],
        [
         "11",
         "chr9:136043391-136061840",
         "23.309435",
         "6.567351",
         "3.5566998399487574e-120",
         "1.9672106814756577e-116",
         "0.7308743169398907",
         "115.7061491261495"
        ],
        [
         "12",
         "chr11:123477821-123485261",
         "23.018005",
         "6.946723",
         "3.077824316381779e-117",
         "1.5713950425145495e-113",
         "0.694672131147541",
         "112.80371462131457"
        ],
        [
         "13",
         "chr9:112854127-112870604",
         "22.77242",
         "6.3917327",
         "8.605814407121323e-115",
         "4.079893670210403e-111",
         "0.7281420765027322",
         "110.38935115530292"
        ],
        [
         "14",
         "chr3:195119996-195136657",
         "22.733",
         "6.0142717",
         "2.113900539596269e-114",
         "9.353587107605572e-111",
         "0.7807377049180327",
         "110.02902180492636"
        ],
        [
         "15",
         "chr9:137155301-137208161",
         "22.653814",
         "4.782839",
         "1.2794022135972183e-113",
         "5.307280232554661e-110",
         "0.8937841530054644",
         "109.27512798034894"
        ],
        [
         "16",
         "chr3:196176715-196199751",
         "22.511799",
         "5.318979",
         "3.181010375881331e-112",
         "1.2419412980470337e-108",
         "0.8825136612021858",
         "107.90589893116164"
        ],
        [
         "17",
         "chr9:137208891-137259517",
         "22.389444",
         "4.2042294",
         "4.9876545154691266e-111",
         "1.8391144750039827e-107",
         "0.9122267759562842",
         "106.7353912374203"
        ],
        [
         "18",
         "chr3:126952094-126966100",
         "22.243973",
         "5.92493",
         "1.290126295509976e-109",
         "4.506750657136216e-106",
         "0.7646857923497268",
         "105.34613646926991"
        ],
        [
         "19",
         "chr9:136706679-136737158",
         "22.179632",
         "5.1775575",
         "5.401860637462268e-109",
         "1.7926614711482284e-105",
         "0.8528005464480874",
         "104.74650171550935"
        ],
        [
         "20",
         "chr7:55508191-55527679",
         "22.176834",
         "5.6731505",
         "5.748473059331323e-109",
         "1.816845970923517e-105",
         "0.7930327868852459",
         "104.74068188987054"
        ],
        [
         "21",
         "chr9:136988838-137057942",
         "22.039612",
         "4.1830006",
         "1.201642297614036e-107",
         "3.6252455716926725e-104",
         "0.9163251366120219",
         "103.44066256928092"
        ],
        [
         "22",
         "chr21:41861106-41872030",
         "21.846687",
         "6.507837",
         "8.358033124010616e-106",
         "2.4119103239427507e-102",
         "0.66974043715847",
         "101.61763884352227"
        ],
        [
         "23",
         "chr7:2889384-2899639",
         "21.82503",
         "5.759348",
         "1.3425098390816727e-105",
         "3.712710959980366e-102",
         "0.7366803278688525",
         "101.43030885992324"
        ],
        [
         "24",
         "chr9:89378544-89390686",
         "21.529535",
         "5.8261147",
         "8.235512283108249e-103",
         "2.186429685017843e-99",
         "0.7079918032786885",
         "98.6602644848866"
        ],
        [
         "25",
         "chr9:136391660-136412200",
         "21.431248",
         "5.160491",
         "6.832380682286202e-102",
         "1.74414911786423e-98",
         "0.8326502732240437",
         "97.75841638735236"
        ],
        [
         "26",
         "chr9:136892918-136912393",
         "21.381289",
         "5.612389",
         "1.9953970094081652e-101",
         "4.9051292706829166e-98",
         "0.7489754098360656",
         "97.30934954265621"
        ],
        [
         "27",
         "chr3:195690786-195699064",
         "21.107624",
         "6.1644573",
         "6.769219576385472e-99",
         "1.6045951490137734e-95",
         "0.6516393442622951",
         "94.79463452508362"
        ],
        [
         "28",
         "chr3:183577774-183585001",
         "21.059221",
         "6.359597",
         "1.882409980229962e-98",
         "4.308252248545622e-95",
         "0.6471994535519126",
         "94.36569887664976"
        ],
        [
         "29",
         "chr9:112058017-112071397",
         "20.918009",
         "5.756588",
         "3.6712659599900975e-97",
         "8.122308809882092e-94",
         "0.6779371584699454",
         "93.09032050267186"
        ],
        [
         "30",
         "chr3:183113674-183118405",
         "20.833494",
         "5.922921",
         "2.151727327490326e-96",
         "4.606917618715739e-93",
         "0.6581284153005464",
         "92.33658955376795"
        ],
        [
         "31",
         "chr9:136355583-136384492",
         "20.797018",
         "4.9438195",
         "4.605738283768629e-96",
         "9.552876917821609e-93",
         "0.8490437158469946",
         "92.01986581780069"
        ],
        [
         "32",
         "chr9:93107091-93147155",
         "20.726448",
         "4.981195",
         "2.0002246539115107e-95",
         "4.022997294830751e-92",
         "0.8473360655737705",
         "91.39545025945968"
        ],
        [
         "33",
         "chr9:99175829-99186353",
         "20.716082",
         "5.8189173",
         "2.480759210728524e-95",
         "4.8427338333668704e-92",
         "0.6834016393442623",
         "91.3149094000174"
        ],
        [
         "34",
         "chr9:112027292-112040502",
         "20.689507",
         "5.315379",
         "4.305890346154993e-95",
         "8.165444401571406e-92",
         "0.7834699453551912",
         "91.08802017395266"
        ],
        [
         "35",
         "chr3:53842196-53847326",
         "20.614971",
         "6.5555673",
         "2.0144377762968912e-94",
         "3.713951780232702e-91",
         "0.6171448087431693",
         "90.43016373918397"
        ],
        [
         "36",
         "chr9:137404817-137413077",
         "20.43431",
         "6.2848573",
         "8.285342170718168e-93",
         "1.4862560285267736e-89",
         "0.6226092896174863",
         "88.82790637079168"
        ],
        [
         "37",
         "chr9:113521942-113529527",
         "20.153564",
         "5.4942513",
         "2.5042059265472532e-90",
         "4.373925151494587e-87",
         "0.66974043715847",
         "86.35912865307044"
        ],
        [
         "38",
         "chr9:113585510-113603381",
         "20.077202",
         "5.464479",
         "1.1679032542324193e-89",
         "1.9875916612798496e-86",
         "0.6786202185792349",
         "85.70167283395696"
        ],
        [
         "39",
         "chr3:196139354-196147139",
         "20.011742",
         "5.9630556",
         "4.3517081973951424e-89",
         "7.220789411937761e-86",
         "0.6202185792349727",
         "85.14141532064262"
        ],
        [
         "40",
         "chr7:23467331-23471964",
         "19.816725",
         "5.4882317",
         "2.135614944626361e-87",
         "3.4571959781644106e-84",
         "0.655396174863388",
         "83.46127600089643"
        ],
        [
         "41",
         "chr6:351495-361790",
         "19.792269",
         "5.1263933",
         "3.4705949994254495e-87",
         "5.484531697663475e-84",
         "0.7390710382513661",
         "83.26086044918377"
        ],
        [
         "42",
         "chr9:112000753-112008492",
         "19.779688",
         "5.699546",
         "4.454367682597439e-87",
         "6.875471903008308e-84",
         "0.6280737704918032",
         "83.16269748835747"
        ],
        [
         "43",
         "chr9:112072089-112079736",
         "19.76134",
         "5.6765924",
         "6.408097999046235e-87",
         "9.66632455437947e-84",
         "0.6352459016393442",
         "83.01473862717668"
        ],
        [
         "44",
         "chr11:119314305-119324316",
         "19.641443",
         "5.139041",
         "6.842509162945171e-86",
         "1.0092244848066597e-82",
         "0.7209699453551912",
         "81.99601222160331"
        ],
        [
         "45",
         "chr18:79623920-79632463",
         "19.63098",
         "5.6263137",
         "8.407759007613597e-86",
         "1.2131299583768037e-82",
         "0.637636612021858",
         "81.91609267218973"
        ],
        [
         "46",
         "chr16:89047521-89068406",
         "19.60628",
         "5.0610137",
         "1.366692587301669e-85",
         "1.930002561795455e-82",
         "0.7441939890710383",
         "81.71444211452959"
        ],
        [
         "47",
         "chr9:136967983-136986377",
         "19.59073",
         "5.1642437",
         "1.8550935133079502e-85",
         "2.5651305555265682e-82",
         "0.6939890710382514",
         "81.59089052602903"
        ],
        [
         "48",
         "chr9:89423401-89449631",
         "19.566153",
         "4.782503",
         "3.0053091585671574e-85",
         "4.070783254539171e-82",
         "0.8401639344262295",
         "81.39032202065266"
        ],
        [
         "49",
         "chr3:185823122-185826854",
         "19.497967",
         "5.60774",
         "1.1423282588029233e-84",
         "1.5163722238653525e-81",
         "0.6222677595628415",
         "80.81919417935804"
        ]
       ],
       "shape": {
        "columns": 7,
        "rows": 66372
       }
      },
      "text/html": [
       "<div>\n",
       "<style scoped>\n",
       "    .dataframe tbody tr th:only-of-type {\n",
       "        vertical-align: middle;\n",
       "    }\n",
       "\n",
       "    .dataframe tbody tr th {\n",
       "        vertical-align: top;\n",
       "    }\n",
       "\n",
       "    .dataframe thead th {\n",
       "        text-align: right;\n",
       "    }\n",
       "</style>\n",
       "<table border=\"1\" class=\"dataframe\">\n",
       "  <thead>\n",
       "    <tr style=\"text-align: right;\">\n",
       "      <th></th>\n",
       "      <th>names</th>\n",
       "      <th>scores</th>\n",
       "      <th>logfoldchanges</th>\n",
       "      <th>pvals</th>\n",
       "      <th>pvals_adj</th>\n",
       "      <th>pct_nz_group</th>\n",
       "      <th>neg_log10_padj</th>\n",
       "    </tr>\n",
       "  </thead>\n",
       "  <tbody>\n",
       "    <tr>\n",
       "      <th>0</th>\n",
       "      <td>chr9:136653125-136698758</td>\n",
       "      <td>26.566685</td>\n",
       "      <td>6.424584</td>\n",
       "      <td>1.647808e-155</td>\n",
       "      <td>1.093683e-150</td>\n",
       "      <td>0.885929</td>\n",
       "      <td>149.961108</td>\n",
       "    </tr>\n",
       "    <tr>\n",
       "      <th>1</th>\n",
       "      <td>chr9:136492663-136559973</td>\n",
       "      <td>25.455959</td>\n",
       "      <td>4.889680</td>\n",
       "      <td>6.064418e-143</td>\n",
       "      <td>2.012538e-138</td>\n",
       "      <td>0.923156</td>\n",
       "      <td>137.696256</td>\n",
       "    </tr>\n",
       "    <tr>\n",
       "      <th>2</th>\n",
       "      <td>chr18:79425205-79467412</td>\n",
       "      <td>24.933790</td>\n",
       "      <td>5.583272</td>\n",
       "      <td>3.201452e-137</td>\n",
       "      <td>7.082893e-133</td>\n",
       "      <td>0.900956</td>\n",
       "      <td>132.149789</td>\n",
       "    </tr>\n",
       "    <tr>\n",
       "      <th>3</th>\n",
       "      <td>chr9:137062469-137093487</td>\n",
       "      <td>24.597584</td>\n",
       "      <td>5.114100</td>\n",
       "      <td>1.340663e-133</td>\n",
       "      <td>2.224562e-129</td>\n",
       "      <td>0.899249</td>\n",
       "      <td>128.652755</td>\n",
       "    </tr>\n",
       "    <tr>\n",
       "      <th>4</th>\n",
       "      <td>chr9:137293050-137322378</td>\n",
       "      <td>24.490416</td>\n",
       "      <td>5.771375</td>\n",
       "      <td>1.868794e-132</td>\n",
       "      <td>2.480712e-128</td>\n",
       "      <td>0.865779</td>\n",
       "      <td>127.605424</td>\n",
       "    </tr>\n",
       "    <tr>\n",
       "      <th>...</th>\n",
       "      <td>...</td>\n",
       "      <td>...</td>\n",
       "      <td>...</td>\n",
       "      <td>...</td>\n",
       "      <td>...</td>\n",
       "      <td>...</td>\n",
       "      <td>...</td>\n",
       "    </tr>\n",
       "    <tr>\n",
       "      <th>66367</th>\n",
       "      <td>chr6:131062205-131063855</td>\n",
       "      <td>-6.279695</td>\n",
       "      <td>-3.562225</td>\n",
       "      <td>3.392374e-10</td>\n",
       "      <td>2.916185e-09</td>\n",
       "      <td>0.046107</td>\n",
       "      <td>8.535185</td>\n",
       "    </tr>\n",
       "    <tr>\n",
       "      <th>66368</th>\n",
       "      <td>chr2:207164057-207167547</td>\n",
       "      <td>-7.710979</td>\n",
       "      <td>-2.943679</td>\n",
       "      <td>1.248561e-14</td>\n",
       "      <td>1.858477e-13</td>\n",
       "      <td>0.106557</td>\n",
       "      <td>12.730843</td>\n",
       "    </tr>\n",
       "    <tr>\n",
       "      <th>66369</th>\n",
       "      <td>chr12:8242262-8244275</td>\n",
       "      <td>-8.832314</td>\n",
       "      <td>-3.472183</td>\n",
       "      <td>1.025320e-18</td>\n",
       "      <td>2.381958e-17</td>\n",
       "      <td>0.086749</td>\n",
       "      <td>16.623066</td>\n",
       "    </tr>\n",
       "    <tr>\n",
       "      <th>66370</th>\n",
       "      <td>chr8:143015917-143029691</td>\n",
       "      <td>-9.232787</td>\n",
       "      <td>-1.587263</td>\n",
       "      <td>2.636789e-20</td>\n",
       "      <td>7.134486e-19</td>\n",
       "      <td>0.452527</td>\n",
       "      <td>18.146637</td>\n",
       "    </tr>\n",
       "    <tr>\n",
       "      <th>66371</th>\n",
       "      <td>chr15:31324259-31331875</td>\n",
       "      <td>-10.108271</td>\n",
       "      <td>-1.866532</td>\n",
       "      <td>5.077249e-24</td>\n",
       "      <td>2.008267e-22</td>\n",
       "      <td>0.423839</td>\n",
       "      <td>21.697179</td>\n",
       "    </tr>\n",
       "  </tbody>\n",
       "</table>\n",
       "<p>66372 rows × 7 columns</p>\n",
       "</div>"
      ],
      "text/plain": [
       "                          names     scores  logfoldchanges          pvals  \\\n",
       "0      chr9:136653125-136698758  26.566685        6.424584  1.647808e-155   \n",
       "1      chr9:136492663-136559973  25.455959        4.889680  6.064418e-143   \n",
       "2       chr18:79425205-79467412  24.933790        5.583272  3.201452e-137   \n",
       "3      chr9:137062469-137093487  24.597584        5.114100  1.340663e-133   \n",
       "4      chr9:137293050-137322378  24.490416        5.771375  1.868794e-132   \n",
       "...                         ...        ...             ...            ...   \n",
       "66367  chr6:131062205-131063855  -6.279695       -3.562225   3.392374e-10   \n",
       "66368  chr2:207164057-207167547  -7.710979       -2.943679   1.248561e-14   \n",
       "66369     chr12:8242262-8244275  -8.832314       -3.472183   1.025320e-18   \n",
       "66370  chr8:143015917-143029691  -9.232787       -1.587263   2.636789e-20   \n",
       "66371   chr15:31324259-31331875 -10.108271       -1.866532   5.077249e-24   \n",
       "\n",
       "           pvals_adj  pct_nz_group  neg_log10_padj  \n",
       "0      1.093683e-150      0.885929      149.961108  \n",
       "1      2.012538e-138      0.923156      137.696256  \n",
       "2      7.082893e-133      0.900956      132.149789  \n",
       "3      2.224562e-129      0.899249      128.652755  \n",
       "4      2.480712e-128      0.865779      127.605424  \n",
       "...              ...           ...             ...  \n",
       "66367   2.916185e-09      0.046107        8.535185  \n",
       "66368   1.858477e-13      0.106557       12.730843  \n",
       "66369   2.381958e-17      0.086749       16.623066  \n",
       "66370   7.134486e-19      0.452527       18.146637  \n",
       "66371   2.008267e-22      0.423839       21.697179  \n",
       "\n",
       "[66372 rows x 7 columns]"
      ]
     },
     "execution_count": 16,
     "metadata": {},
     "output_type": "execute_result"
    }
   ],
   "source": [
    "dp_true"
   ]
  },
  {
   "cell_type": "code",
   "execution_count": 17,
   "id": "50d4929f",
   "metadata": {},
   "outputs": [
    {
     "data": {
      "image/png": "[encoded data removed]",
      "text/plain": [
       "<Figure size 700x600 with 1 Axes>"
      ]
     },
     "metadata": {},
     "output_type": "display_data"
    }
   ],
   "source": [
    "df = dp_true.copy()\n",
    "df['color'] = 'grey'\n",
    "df.loc[(df['logfoldchanges'] > 1) & (df['pvals_adj'] < 0.001), 'color'] = 'red'\n",
    "df.loc[(df['logfoldchanges'] < -1) & (df['pvals_adj'] < 0.001), 'color'] = 'blue'\n",
    "\n",
    "plt.figure(figsize=(7, 6))\n",
    "plt.scatter(df['logfoldchanges'], df['neg_log10_padj'], s=10, alpha=0.7, c=df['color'], edgecolor='none')\n",
    "plt.axhline(-np.log10(0.001), color='green', linestyle='--')\n",
    "plt.axvline(1, color='green', linestyle='dotted')\n",
    "plt.axvline(-1, color='green', linestyle='dotted')\n",
    "\n",
    "# sig_df = df[df['pvals_adj'] < 0.001]\n",
    "# top_up = sig_df.sort_values(by='logfoldchanges', ascending=False).head(10)\n",
    "# top_down = sig_df.sort_values(by='logfoldchanges', ascending=True).head(10)\n",
    "\n",
    "# for _, row in pd.concat([top_up, top_down]).iterrows():\n",
    "#     plt.text(row['logfoldchanges'], row['neg_log10_padj'],\n",
    "#              row['names'], fontsize=7, ha='center', va='bottom', color='black')\n",
    "\n",
    "plt.xlabel('Log2 FC')\n",
    "plt.ylabel('-Log10 Adj_p')\n",
    "plt.title('Volcano Plot: Lymphoma B vs B Cells')\n",
    "plt.tight_layout()\n",
    "plt.show()"
   ]
  },
  {
   "cell_type": "code",
   "execution_count": 52,
   "id": "d2b3dae3",
   "metadata": {},
   "outputs": [
    {
     "name": "stderr",
     "output_type": "stream",
     "text": [
      " UserWarning:/opt/venv/lib/python3.10/site-packages/anndata/_core/anndata.py:1830: Variable names are not unique. To make them unique, call `.var_names_make_unique`.\n"
     ]
    }
   ],
   "source": [
    "adata = epi_tl.geneactivity(atac_true, gtf_file='/workspace/Benchmarking/data_all/gencode.v48.annotation.gtf', feature_type='gene', key_added='gene_activity')"
   ]
  },
  {
   "cell_type": "code",
   "execution_count": 60,
   "id": "9ab577b6",
   "metadata": {},
   "outputs": [
    {
     "data": {
      "text/plain": [
       "View of AnnData object with n_obs × n_vars = 14645 × 71734\n",
       "    obs: 'Cell Types'\n",
       "    var: 'gene_ids', 'feature_types', 'genome'\n",
       "    layers: 'counts'"
      ]
     },
     "execution_count": 60,
     "metadata": {},
     "output_type": "execute_result"
    }
   ],
   "source": [
    "atac_true"
   ]
  },
  {
   "cell_type": "code",
   "execution_count": 18,
   "id": "308676b0",
   "metadata": {},
   "outputs": [],
   "source": [
    "atac_true_test = sc.read_h5ad('/workspace/babel/mymodel/truth_atac.h5ad')\n",
    "atac_pred_test = sc.read_h5ad('/workspace/babel/mymodel/rna_atac_test_preds.h5ad')"
   ]
  },
  {
   "cell_type": "code",
   "execution_count": 21,
   "id": "eae9cb9d",
   "metadata": {},
   "outputs": [],
   "source": [
    "atac_true_test.obs['Cell Types'] = atac_true.obs['Cell Types'].reindex(atac_true_test.obs.index)\n",
    "atac_pred_test.obs['Cell Types'] = atac_true.obs['Cell Types'].reindex(atac_pred_test.obs.index)"
   ]
  },
  {
   "cell_type": "code",
   "execution_count": 26,
   "id": "ca1d4b94",
   "metadata": {},
   "outputs": [],
   "source": [
    "atac_true_test.obs['group'] = atac_true_test.obs['Cell Types'].map(\n",
    "    lambda x: 'B' if x in ['B'] else ('LYM' if x in ['Tumor B', 'Tumor B cycling'] else None)\n",
    ")\n",
    "data_true_test = atac_true_test[atac_true_test.obs['group'].isin(['B','LYM'])].copy()\n",
    "\n",
    "sc.pp.log1p(data_true_test)\n",
    "\n",
    "sc.tl.rank_genes_groups(\n",
    "    data_true_test,\n",
    "    groupby='group',\n",
    "    groups=['LYM'],\n",
    "    reference='B',\n",
    "    method='wilcoxon',\n",
    "    pts=True\n",
    ")\n",
    "\n",
    "dp_true_test = sc.get.rank_genes_groups_df(data_true_test, group='LYM')\n",
    "dp_true_test['neg_log10_padj'] = -np.log10(dp_true_test['pvals_adj'].replace(0, np.nan))\n",
    "\n",
    "atac_pred_test.obs['group'] = atac_pred_test.obs['Cell Types'].map(\n",
    "    lambda x: 'B' if x in ['B'] else ('LYM' if x in ['Tumor B', 'Tumor B cycling'] else None)\n",
    ")\n",
    "data_pred_test = atac_pred_test[atac_pred_test.obs['group'].isin(['B','LYM'])].copy()\n",
    "\n",
    "sc.pp.log1p(data_pred_test)\n",
    "\n",
    "sc.tl.rank_genes_groups(\n",
    "    data_pred_test,\n",
    "    groupby='group',\n",
    "    groups=['LYM'],\n",
    "    reference='B',\n",
    "    method='wilcoxon',\n",
    "    pts=True\n",
    ")\n",
    "\n",
    "dp_pred_test = sc.get.rank_genes_groups_df(data_pred_test, group='LYM')\n",
    "dp_pred_test['neg_log10_padj'] = -np.log10(dp_pred_test['pvals_adj'].replace(0, np.nan))"
   ]
  },
  {
   "cell_type": "code",
   "execution_count": 29,
   "id": "0117dc7d",
   "metadata": {},
   "outputs": [
    {
     "data": {
      "application/vnd.microsoft.datawrangler.viewer.v0+json": {
       "columns": [
        {
         "name": "index",
         "rawType": "int64",
         "type": "integer"
        },
        {
         "name": "names",
         "rawType": "object",
         "type": "string"
        },
        {
         "name": "scores",
         "rawType": "float32",
         "type": "float"
        },
        {
         "name": "logfoldchanges",
         "rawType": "float32",
         "type": "float"
        },
        {
         "name": "pvals",
         "rawType": "float64",
         "type": "float"
        },
        {
         "name": "pvals_adj",
         "rawType": "float64",
         "type": "float"
        },
        {
         "name": "pct_nz_group",
         "rawType": "float64",
         "type": "float"
        },
        {
         "name": "neg_log10_padj",
         "rawType": "float64",
         "type": "float"
        }
       ],
       "ref": "3f215d3d-44d5-416f-b161-877501c3fabe",
       "rows": [
        [
         "0",
         "chr3:155494103-155495873",
         "4.253452",
         "27.870075",
         "2.1050032233230198e-05",
         "0.5640099966845846",
         "0.3165137614678899",
         "0.24871319838105993"
        ],
        [
         "1",
         "chr7:155109153-155111312",
         "4.1918077",
         "27.846638",
         "2.7674075632576597e-05",
         "0.5640099966845846",
         "0.3119266055045872",
         "0.24871319838105993"
        ],
        [
         "2",
         "chr9:113302448-113303732",
         "4.1609855",
         "27.834803",
         "3.1687735079756426e-05",
         "0.5640099966845846",
         "0.30963302752293576",
         "0.24871319838105993"
        ],
        [
         "3",
         "chr7:11297850-11298864",
         "4.068519",
         "27.798819",
         "4.731289261307702e-05",
         "0.5940135610126863",
         "0.30275229357798167",
         "0.22620364019430914"
        ],
        [
         "4",
         "chr3:166612047-166613874",
         "4.030652",
         "4.6119423",
         "5.562237213819937e-05",
         "0.5940135610126863",
         "0.31422018348623854",
         "0.22620364019430914"
        ],
        [
         "5",
         "chr18:58100018-58102410",
         "3.8765414",
         "4.5523663",
         "0.00010595182584166072",
         "0.7666815734373744",
         "0.30275229357798167",
         "0.11538497452990792"
        ],
        [
         "6",
         "chr18:55064016-55065583",
         "3.8765414",
         "4.5523663",
         "0.00010595182584166072",
         "0.7666815734373744",
         "0.30275229357798167",
         "0.11538497452990792"
        ],
        [
         "7",
         "chr8:55839729-55841208",
         "3.77703",
         "3.5811894",
         "0.00015870967296234307",
         "0.7666815734373744",
         "0.30963302752293576",
         "0.11538497452990792"
        ],
        [
         "8",
         "chr18:55121281-55122587",
         "3.7558947",
         "2.4397101",
         "0.00017272327256749956",
         "0.7666815734373744",
         "0.35091743119266056",
         "0.11538497452990792"
        ],
        [
         "9",
         "chr18:55438155-55441352",
         "3.7532527",
         "4.503227",
         "0.0001745546202748402",
         "0.7666815734373744",
         "0.29357798165137616",
         "0.11538497452990792"
        ],
        [
         "10",
         "chr7:105768834-105770756",
         "3.7294757",
         "27.66025",
         "0.00019187853291133158",
         "0.7666815734373744",
         "0.2775229357798165",
         "0.11538497452990792"
        ],
        [
         "11",
         "chr9:81530096-81531863",
         "3.7294757",
         "27.66025",
         "0.00019187853291133158",
         "0.7666815734373744",
         "0.2775229357798165",
         "0.11538497452990792"
        ],
        [
         "12",
         "chr7:137980152-137982332",
         "3.6986537",
         "27.647095",
         "0.00021674609573551484",
         "0.7666815734373744",
         "0.27522935779816515",
         "0.11538497452990792"
        ],
        [
         "13",
         "chr5:143019166-143020869",
         "3.6678317",
         "27.633839",
         "0.00024461622722113217",
         "0.7666815734373744",
         "0.27293577981651373",
         "0.11538497452990792"
        ],
        [
         "14",
         "chr11:123559535-123561799",
         "3.6678317",
         "27.633839",
         "0.00024461622722113217",
         "0.7666815734373744",
         "0.27293577981651373",
         "0.11538497452990792"
        ],
        [
         "15",
         "chr6:166202078-166204013",
         "3.6607866",
         "4.465456",
         "0.00025144220190187813",
         "0.7666815734373744",
         "0.286697247706422",
         "0.11538497452990792"
        ],
        [
         "16",
         "chr9:37009996-37012563",
         "3.6607866",
         "4.465456",
         "0.00025144220190187813",
         "0.7666815734373744",
         "0.286697247706422",
         "0.11538497452990792"
        ],
        [
         "17",
         "chr3:71083021-71084495",
         "3.6537414",
         "3.533048",
         "0.00025844651051318876",
         "0.7666815734373744",
         "0.30045871559633025",
         "0.11538497452990792"
        ],
        [
         "18",
         "chr3:112459675-112461156",
         "3.6061873",
         "27.60702",
         "0.0003107288424396495",
         "0.8295781582910581",
         "0.268348623853211",
         "0.0811426908747305"
        ],
        [
         "19",
         "chr15:82849498-82851884",
         "3.5991423",
         "4.439817",
         "0.0003192684727009804",
         "0.8295781582910581",
         "0.28211009174311924",
         "0.0811426908747305"
        ],
        [
         "20",
         "chr6:31125271-31127489",
         "3.5753653",
         "27.593454",
         "0.00034973930584839225",
         "0.8295781582910581",
         "0.26605504587155965",
         "0.0811426908747305"
        ],
        [
         "21",
         "chr3:146503328-146504485",
         "3.5753653",
         "27.593454",
         "0.00034973930584839225",
         "0.8295781582910581",
         "0.26605504587155965",
         "0.0811426908747305"
        ],
        [
         "22",
         "chr14:103317152-103319936",
         "3.561275",
         "3.4960666",
         "0.0003690581234560344",
         "0.8295781582910581",
         "0.29357798165137616",
         "0.0811426908747305"
        ],
        [
         "23",
         "chr18:79503016-79504808",
         "3.544543",
         "27.579782",
         "0.00039329417466483195",
         "0.8295781582910581",
         "0.26376146788990823",
         "0.0811426908747305"
        ],
        [
         "24",
         "chr3:124633747-124635363",
         "3.537498",
         "4.4137983",
         "0.0004039371521914622",
         "0.8295781582910581",
         "0.2775229357798165",
         "0.0811426908747305"
        ],
        [
         "25",
         "chr15:76575055-76577257",
         "3.537498",
         "4.4137983",
         "0.0004039371521914622",
         "0.8295781582910581",
         "0.2775229357798165",
         "0.0811426908747305"
        ],
        [
         "26",
         "chr18:59071383-59073651",
         "3.513721",
         "27.566",
         "0.00044187666381798903",
         "0.8497294010380456",
         "0.26146788990825687",
         "0.07071935469305518"
        ],
        [
         "27",
         "chr9:108885565-108886417",
         "3.482899",
         "27.552107",
         "0.0004960156684026833",
         "0.8497294010380456",
         "0.2591743119266055",
         "0.07071935469305518"
        ],
        [
         "28",
         "chr11:75689082-75690537",
         "3.482899",
         "27.552107",
         "0.0004960156684026833",
         "0.8497294010380456",
         "0.2591743119266055",
         "0.07071935469305518"
        ],
        [
         "29",
         "chr13:102970055-102971557",
         "3.482899",
         "27.552107",
         "0.0004960156684026833",
         "0.8497294010380456",
         "0.2591743119266055",
         "0.07071935469305518"
        ],
        [
         "30",
         "chr11:103928864-103930431",
         "3.475854",
         "4.3873863",
         "0.000509229747611616",
         "0.8497294010380456",
         "0.27293577981651373",
         "0.07071935469305518"
        ],
        [
         "31",
         "chr11:2858273-2861425",
         "3.475854",
         "4.3873863",
         "0.000509229747611616",
         "0.8497294010380456",
         "0.27293577981651373",
         "0.07071935469305518"
        ],
        [
         "32",
         "chr13:98210255-98212334",
         "3.4520767",
         "27.538103",
         "0.0005562894197602967",
         "0.8967435399384485",
         "0.25688073394495414",
         "0.047331743259957995"
        ],
        [
         "33",
         "chr9:136211029-136213307",
         "3.4450316",
         "4.3740287",
         "0.0005709923845517023",
         "0.8967435399384485",
         "0.2706422018348624",
         "0.047331743259957995"
        ],
        [
         "34",
         "chr10:78912890-78915357",
         "3.4212546",
         "27.523983",
         "0.000623329361730133",
         "0.9236210743720766",
         "0.2545871559633027",
         "0.03450616629288096"
        ],
        [
         "35",
         "chr5:149606006-149607336",
         "3.3904326",
         "27.509747",
         "0.0006978242527033507",
         "0.9236210743720766",
         "0.25229357798165136",
         "0.03450616629288096"
        ],
        [
         "36",
         "chr9:37398641-37400203",
         "3.3904326",
         "27.509747",
         "0.0006978242527033507",
         "0.9236210743720766",
         "0.25229357798165136",
         "0.03450616629288096"
        ],
        [
         "37",
         "chr6:156974795-156976904",
         "3.3833876",
         "4.347002",
         "0.0007159753632801558",
         "0.9236210743720766",
         "0.26605504587155965",
         "0.03450616629288096"
        ],
        [
         "38",
         "chr19:58058941-58060130",
         "3.3833876",
         "4.347002",
         "0.0007159753632801558",
         "0.9236210743720766",
         "0.26605504587155965",
         "0.03450616629288096"
        ],
        [
         "39",
         "chr18:3400184-3402395",
         "3.3692973",
         "2.9039319",
         "0.0007536007466097369",
         "0.9236210743720766",
         "0.29357798165137616",
         "0.03450616629288096"
        ],
        [
         "40",
         "chr5:1330152-1332698",
         "3.3596103",
         "27.495392",
         "0.0007805244983921135",
         "0.9236210743720766",
         "0.25",
         "0.03450616629288096"
        ],
        [
         "41",
         "chr3:53772000-53774602",
         "3.3596103",
         "27.495392",
         "0.0007805244983921135",
         "0.9236210743720766",
         "0.25",
         "0.03450616629288096"
        ],
        [
         "42",
         "chr14:95725242-95726631",
         "3.3596103",
         "27.495392",
         "0.0007805244983921135",
         "0.9236210743720766",
         "0.25",
         "0.03450616629288096"
        ],
        [
         "43",
         "chr3:58635203-58636937",
         "3.3525653",
         "4.333329",
         "0.0008006632931705779",
         "0.9236210743720766",
         "0.26376146788990823",
         "0.03450616629288096"
        ],
        [
         "44",
         "chr3:185261674-185263916",
         "3.3525653",
         "4.333329",
         "0.0008006632931705779",
         "0.9236210743720766",
         "0.26376146788990823",
         "0.03450616629288096"
        ],
        [
         "45",
         "chr12:32522344-32524222",
         "3.3455203",
         "3.4066377",
         "0.0008212834060303164",
         "0.9236210743720766",
         "0.2775229357798165",
         "0.03450616629288096"
        ],
        [
         "46",
         "chr18:55085445-55087074",
         "3.3217432",
         "4.3195477",
         "0.0008945696480281093",
         "0.9236210743720766",
         "0.26146788990825687",
         "0.03450616629288096"
        ],
        [
         "47",
         "chr9:92608730-92610008",
         "3.3217432",
         "4.3195477",
         "0.0008945696480281093",
         "0.9236210743720766",
         "0.26146788990825687",
         "0.03450616629288096"
        ],
        [
         "48",
         "chr3:194075810-194077705",
         "3.3217432",
         "4.3195477",
         "0.0008945696480281093",
         "0.9236210743720766",
         "0.26146788990825687",
         "0.03450616629288096"
        ],
        [
         "49",
         "chr18:8661725-8663697",
         "3.3146982",
         "3.3934817",
         "0.0009174211330717651",
         "0.9236210743720766",
         "0.27522935779816515",
         "0.03450616629288096"
        ]
       ],
       "shape": {
        "columns": 7,
        "rows": 53397
       }
      },
      "text/html": [
       "<div>\n",
       "<style scoped>\n",
       "    .dataframe tbody tr th:only-of-type {\n",
       "        vertical-align: middle;\n",
       "    }\n",
       "\n",
       "    .dataframe tbody tr th {\n",
       "        vertical-align: top;\n",
       "    }\n",
       "\n",
       "    .dataframe thead th {\n",
       "        text-align: right;\n",
       "    }\n",
       "</style>\n",
       "<table border=\"1\" class=\"dataframe\">\n",
       "  <thead>\n",
       "    <tr style=\"text-align: right;\">\n",
       "      <th></th>\n",
       "      <th>names</th>\n",
       "      <th>scores</th>\n",
       "      <th>logfoldchanges</th>\n",
       "      <th>pvals</th>\n",
       "      <th>pvals_adj</th>\n",
       "      <th>pct_nz_group</th>\n",
       "      <th>neg_log10_padj</th>\n",
       "    </tr>\n",
       "  </thead>\n",
       "  <tbody>\n",
       "    <tr>\n",
       "      <th>0</th>\n",
       "      <td>chr3:155494103-155495873</td>\n",
       "      <td>4.253452</td>\n",
       "      <td>27.870075</td>\n",
       "      <td>0.000021</td>\n",
       "      <td>0.564010</td>\n",
       "      <td>0.316514</td>\n",
       "      <td>0.248713</td>\n",
       "    </tr>\n",
       "    <tr>\n",
       "      <th>1</th>\n",
       "      <td>chr7:155109153-155111312</td>\n",
       "      <td>4.191808</td>\n",
       "      <td>27.846638</td>\n",
       "      <td>0.000028</td>\n",
       "      <td>0.564010</td>\n",
       "      <td>0.311927</td>\n",
       "      <td>0.248713</td>\n",
       "    </tr>\n",
       "    <tr>\n",
       "      <th>2</th>\n",
       "      <td>chr9:113302448-113303732</td>\n",
       "      <td>4.160985</td>\n",
       "      <td>27.834803</td>\n",
       "      <td>0.000032</td>\n",
       "      <td>0.564010</td>\n",
       "      <td>0.309633</td>\n",
       "      <td>0.248713</td>\n",
       "    </tr>\n",
       "    <tr>\n",
       "      <th>3</th>\n",
       "      <td>chr7:11297850-11298864</td>\n",
       "      <td>4.068519</td>\n",
       "      <td>27.798819</td>\n",
       "      <td>0.000047</td>\n",
       "      <td>0.594014</td>\n",
       "      <td>0.302752</td>\n",
       "      <td>0.226204</td>\n",
       "    </tr>\n",
       "    <tr>\n",
       "      <th>4</th>\n",
       "      <td>chr3:166612047-166613874</td>\n",
       "      <td>4.030652</td>\n",
       "      <td>4.611942</td>\n",
       "      <td>0.000056</td>\n",
       "      <td>0.594014</td>\n",
       "      <td>0.314220</td>\n",
       "      <td>0.226204</td>\n",
       "    </tr>\n",
       "    <tr>\n",
       "      <th>...</th>\n",
       "      <td>...</td>\n",
       "      <td>...</td>\n",
       "      <td>...</td>\n",
       "      <td>...</td>\n",
       "      <td>...</td>\n",
       "      <td>...</td>\n",
       "      <td>...</td>\n",
       "    </tr>\n",
       "    <tr>\n",
       "      <th>53392</th>\n",
       "      <td>chr7:122143363-122144673</td>\n",
       "      <td>-1.940913</td>\n",
       "      <td>-2.242578</td>\n",
       "      <td>0.052269</td>\n",
       "      <td>1.000000</td>\n",
       "      <td>0.041284</td>\n",
       "      <td>-0.000000</td>\n",
       "    </tr>\n",
       "    <tr>\n",
       "      <th>53393</th>\n",
       "      <td>chr6:157561696-157564089</td>\n",
       "      <td>-2.047469</td>\n",
       "      <td>-1.868299</td>\n",
       "      <td>0.040612</td>\n",
       "      <td>1.000000</td>\n",
       "      <td>0.061927</td>\n",
       "      <td>-0.000000</td>\n",
       "    </tr>\n",
       "    <tr>\n",
       "      <th>53394</th>\n",
       "      <td>chr1:59814275-59815469</td>\n",
       "      <td>-2.057156</td>\n",
       "      <td>-3.301243</td>\n",
       "      <td>0.039671</td>\n",
       "      <td>1.000000</td>\n",
       "      <td>0.018349</td>\n",
       "      <td>-0.000000</td>\n",
       "    </tr>\n",
       "    <tr>\n",
       "      <th>53395</th>\n",
       "      <td>chr22:33920403-33921444</td>\n",
       "      <td>-2.533578</td>\n",
       "      <td>-4.219745</td>\n",
       "      <td>0.011290</td>\n",
       "      <td>1.000000</td>\n",
       "      <td>0.011468</td>\n",
       "      <td>-0.000000</td>\n",
       "    </tr>\n",
       "    <tr>\n",
       "      <th>53396</th>\n",
       "      <td>chr4:90127051-90128736</td>\n",
       "      <td>-2.644537</td>\n",
       "      <td>-1.640051</td>\n",
       "      <td>0.008180</td>\n",
       "      <td>1.000000</td>\n",
       "      <td>0.103211</td>\n",
       "      <td>-0.000000</td>\n",
       "    </tr>\n",
       "  </tbody>\n",
       "</table>\n",
       "<p>53397 rows × 7 columns</p>\n",
       "</div>"
      ],
      "text/plain": [
       "                          names    scores  logfoldchanges     pvals  \\\n",
       "0      chr3:155494103-155495873  4.253452       27.870075  0.000021   \n",
       "1      chr7:155109153-155111312  4.191808       27.846638  0.000028   \n",
       "2      chr9:113302448-113303732  4.160985       27.834803  0.000032   \n",
       "3        chr7:11297850-11298864  4.068519       27.798819  0.000047   \n",
       "4      chr3:166612047-166613874  4.030652        4.611942  0.000056   \n",
       "...                         ...       ...             ...       ...   \n",
       "53392  chr7:122143363-122144673 -1.940913       -2.242578  0.052269   \n",
       "53393  chr6:157561696-157564089 -2.047469       -1.868299  0.040612   \n",
       "53394    chr1:59814275-59815469 -2.057156       -3.301243  0.039671   \n",
       "53395   chr22:33920403-33921444 -2.533578       -4.219745  0.011290   \n",
       "53396    chr4:90127051-90128736 -2.644537       -1.640051  0.008180   \n",
       "\n",
       "       pvals_adj  pct_nz_group  neg_log10_padj  \n",
       "0       0.564010      0.316514        0.248713  \n",
       "1       0.564010      0.311927        0.248713  \n",
       "2       0.564010      0.309633        0.248713  \n",
       "3       0.594014      0.302752        0.226204  \n",
       "4       0.594014      0.314220        0.226204  \n",
       "...          ...           ...             ...  \n",
       "53392   1.000000      0.041284       -0.000000  \n",
       "53393   1.000000      0.061927       -0.000000  \n",
       "53394   1.000000      0.018349       -0.000000  \n",
       "53395   1.000000      0.011468       -0.000000  \n",
       "53396   1.000000      0.103211       -0.000000  \n",
       "\n",
       "[53397 rows x 7 columns]"
      ]
     },
     "execution_count": 29,
     "metadata": {},
     "output_type": "execute_result"
    }
   ],
   "source": [
    "dp_true_test"
   ]
  },
  {
   "cell_type": "code",
   "execution_count": null,
   "id": "4dca12c6",
   "metadata": {},
   "outputs": [
    {
     "data": {
      "image/png": "[encoded data removed]",
      "text/plain": [
       "<Figure size 700x600 with 1 Axes>"
      ]
     },
     "metadata": {},
     "output_type": "display_data"
    },
    {
     "data": {
      "image/png": "[encoded data removed]",
      "text/plain": [
       "<Figure size 700x600 with 1 Axes>"
      ]
     },
     "metadata": {},
     "output_type": "display_data"
    }
   ],
   "source": [
    "df = dp_true_test.copy()\n",
    "df['color'] = 'grey'\n",
    "df.loc[(df['logfoldchanges'] > 1) & (df['pvals_adj'] < 0.001), 'color'] = 'red'\n",
    "df.loc[(df['logfoldchanges'] < -1) & (df['pvals_adj'] < 0.001), 'color'] = 'blue'\n",
    "\n",
    "plt.figure(figsize=(7, 6))\n",
    "plt.scatter(df['logfoldchanges'], df['neg_log10_padj'], s=10, alpha=0.7, c=df['color'], edgecolor='none')\n",
    "plt.axhline(-np.log10(0.001), color='green', linestyle='--')\n",
    "plt.axvline(1, color='green', linestyle='dotted')\n",
    "plt.axvline(-1, color='green', linestyle='dotted')\n",
    "\n",
    "# sig_df = df[df['pvals_adj'] < 0.001]\n",
    "# top_up = sig_df.sort_values(by='logfoldchanges', ascending=False).head(10)\n",
    "# top_down = sig_df.sort_values(by='logfoldchanges', ascending=True).head(10)\n",
    "\n",
    "# for _, row in pd.concat([top_up, top_down]).iterrows():\n",
    "#     plt.text(row['logfoldchanges'], row['neg_log10_padj'],\n",
    "#              row['names'], fontsize=7, ha='center', va='bottom', color='black')\n",
    "\n",
    "plt.xlabel('Log2 FC')\n",
    "plt.ylabel('-Log10 Adj_p')\n",
    "plt.title('Volcano Plot: Lymphoma B vs B Cells')\n",
    "plt.tight_layout()\n",
    "plt.show()\n",
    "\n",
    "df = dp_pred_test.copy()\n",
    "df['color'] = 'grey'\n",
    "df.loc[(df['logfoldchanges'] > 1) & (df['pvals_adj'] < 0.001), 'color'] = 'red'\n",
    "df.loc[(df['logfoldchanges'] < -1) & (df['pvals_adj'] < 0.001), 'color'] = 'blue'\n",
    "\n",
    "plt.figure(figsize=(7, 6))\n",
    "plt.scatter(df['logfoldchanges'], df['neg_log10_padj'], s=10, alpha=0.7, c=df['color'], edgecolor='none')\n",
    "plt.axhline(-np.log10(0.001), color='green', linestyle='--')\n",
    "plt.axvline(1, color='green', linestyle='dotted')\n",
    "plt.axvline(-1, color='green', linestyle='dotted')\n",
    "\n",
    "# sig_df = df[df['pvals_adj'] < 0.001]\n",
    "# top_up = sig_df.sort_values(by='logfoldchanges', ascending=False).head(10)\n",
    "# top_down = sig_df.sort_values(by='logfoldchanges', ascending=True).head(10)\n",
    "\n",
    "# for _, row in pd.concat([top_up, top_down]).iterrows():\n",
    "#     plt.text(row['logfoldchanges'], row['neg_log10_padj'],\n",
    "#              row['names'], fontsize=7, ha='center', va='bottom', color='black')\n",
    "\n",
    "plt.xlabel('Log2 FC')\n",
    "plt.ylabel('-Log10 Adj_p')\n",
    "plt.title('Volcano Plot: Lymphoma B vs B Cells')\n",
    "plt.tight_layout()\n",
    "plt.show()"
   ]
  },
  {
   "cell_type": "markdown",
   "id": "1ba37103",
   "metadata": {},
   "source": [
    "Gene Activity\n"
   ]
  },
  {
   "cell_type": "code",
   "execution_count": 79,
   "id": "c3729cce",
   "metadata": {},
   "outputs": [
    {
     "name": "stderr",
     "output_type": "stream",
     "text": [
      " UserWarning:/opt/venv/lib/python3.10/site-packages/anndata/_core/anndata.py:1830: Variable names are not unique. To make them unique, call `.var_names_make_unique`.\n",
      " UserWarning:/opt/venv/lib/python3.10/site-packages/anndata/_core/anndata.py:1830: Variable names are not unique. To make them unique, call `.var_names_make_unique`.\n"
     ]
    }
   ],
   "source": [
    "gene_activity_true = epi_tl.geneactivity(atac_true_test, gtf_file='/workspace/Benchmarking/data_all/gencode.v48.annotation.gtf', feature_type='gene', key_added='gene_activity')\n",
    "gene_activity_pred = epi_tl.geneactivity(atac_pred_test, gtf_file='/workspace/Benchmarking/data_all/gencode.v48.annotation.gtf', feature_type='gene', key_added='gene_activity')"
   ]
  },
  {
   "cell_type": "code",
   "execution_count": null,
   "id": "5eb807b7",
   "metadata": {},
   "outputs": [],
   "source": [
    "gene_activity_true"
   ]
  },
  {
   "cell_type": "code",
   "execution_count": 80,
   "id": "9195a492",
   "metadata": {},
   "outputs": [],
   "source": [
    "sc.pp.normalize_total(gene_activity_true)\n",
    "sc.pp.normalize_total(gene_activity_pred)"
   ]
  },
  {
   "cell_type": "code",
   "execution_count": 88,
   "id": "f0eb8a24",
   "metadata": {},
   "outputs": [],
   "source": [
    "correlation_list = []\n",
    "for i in range(gene_activity_true.shape[0]):\n",
    "    cell = np.array(gene_activity_true[i,:].X)\n",
    "    cell_pred = np.array(gene_activity_pred[i,:].X)\n",
    "    correlation_matrix = np.corrcoef(cell, cell_pred)\n",
    "    correlation = correlation_matrix[0, 1]\n",
    "    correlation_list.append(correlation)"
   ]
  },
  {
   "cell_type": "code",
   "execution_count": 89,
   "id": "8635d8c5",
   "metadata": {},
   "outputs": [
    {
     "data": {
      "text/plain": [
       "0.295234065386996"
      ]
     },
     "execution_count": 89,
     "metadata": {},
     "output_type": "execute_result"
    }
   ],
   "source": [
    "sum(correlation_list) / len(correlation_list)"
   ]
  }
 ],
 "metadata": {
  "kernelspec": {
   "display_name": "Python 3 (ipykernel)",
   "language": "python",
   "name": "python3"
  }
 },
 "nbformat": 4,
 "nbformat_minor": 5
}
